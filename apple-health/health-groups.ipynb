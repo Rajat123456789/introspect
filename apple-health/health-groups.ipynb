{
 "cells": [
  {
   "cell_type": "code",
   "execution_count": 14,
   "metadata": {},
   "outputs": [],
   "source": [
    "import pandas as pd\n",
    "import numpy as np\n",
    "import matplotlib.pyplot as plt\n"
   ]
  },
  {
   "cell_type": "code",
   "execution_count": 15,
   "metadata": {},
   "outputs": [],
   "source": [
    "df = pd.read_csv('apple_health_export_2025-02-22.csv')"
   ]
  },
  {
   "cell_type": "code",
   "execution_count": 16,
   "metadata": {},
   "outputs": [
    {
     "data": {
      "text/html": [
       "<div>\n",
       "<style scoped>\n",
       "    .dataframe tbody tr th:only-of-type {\n",
       "        vertical-align: middle;\n",
       "    }\n",
       "\n",
       "    .dataframe tbody tr th {\n",
       "        vertical-align: top;\n",
       "    }\n",
       "\n",
       "    .dataframe thead th {\n",
       "        text-align: right;\n",
       "    }\n",
       "</style>\n",
       "<table border=\"1\" class=\"dataframe\">\n",
       "  <thead>\n",
       "    <tr style=\"text-align: right;\">\n",
       "      <th></th>\n",
       "      <th>type</th>\n",
       "      <th>sourceName</th>\n",
       "      <th>value</th>\n",
       "      <th>unit</th>\n",
       "      <th>startDate</th>\n",
       "      <th>endDate</th>\n",
       "      <th>duration</th>\n",
       "      <th>minimum</th>\n",
       "      <th>CardioFitnessMedicationsUse</th>\n",
       "      <th>time</th>\n",
       "      <th>maximum</th>\n",
       "      <th>durationUnit</th>\n",
       "      <th>sum</th>\n",
       "      <th>average</th>\n",
       "      <th>workoutActivityType</th>\n",
       "    </tr>\n",
       "  </thead>\n",
       "  <tbody>\n",
       "    <tr>\n",
       "      <th>0</th>\n",
       "      <td>StepCount</td>\n",
       "      <td>iPhone 4s</td>\n",
       "      <td>20</td>\n",
       "      <td>count</td>\n",
       "      <td>2/22/25 10:52</td>\n",
       "      <td>2/22/25 10:53</td>\n",
       "      <td>NaN</td>\n",
       "      <td>NaN</td>\n",
       "      <td>NaN</td>\n",
       "      <td>NaN</td>\n",
       "      <td>NaN</td>\n",
       "      <td>NaN</td>\n",
       "      <td>NaN</td>\n",
       "      <td>NaN</td>\n",
       "      <td>NaN</td>\n",
       "    </tr>\n",
       "    <tr>\n",
       "      <th>1</th>\n",
       "      <td>DistanceWalkingRunning</td>\n",
       "      <td>iPhone 4s</td>\n",
       "      <td>0.0169666</td>\n",
       "      <td>km</td>\n",
       "      <td>2/22/25 10:52</td>\n",
       "      <td>2/22/25 10:53</td>\n",
       "      <td>NaN</td>\n",
       "      <td>NaN</td>\n",
       "      <td>NaN</td>\n",
       "      <td>NaN</td>\n",
       "      <td>NaN</td>\n",
       "      <td>NaN</td>\n",
       "      <td>NaN</td>\n",
       "      <td>NaN</td>\n",
       "      <td>NaN</td>\n",
       "    </tr>\n",
       "    <tr>\n",
       "      <th>2</th>\n",
       "      <td>DistanceWalkingRunning</td>\n",
       "      <td>iPhone 4s</td>\n",
       "      <td>0.00807731</td>\n",
       "      <td>km</td>\n",
       "      <td>2/22/25 9:59</td>\n",
       "      <td>2/22/25 9:59</td>\n",
       "      <td>NaN</td>\n",
       "      <td>NaN</td>\n",
       "      <td>NaN</td>\n",
       "      <td>NaN</td>\n",
       "      <td>NaN</td>\n",
       "      <td>NaN</td>\n",
       "      <td>NaN</td>\n",
       "      <td>NaN</td>\n",
       "      <td>NaN</td>\n",
       "    </tr>\n",
       "    <tr>\n",
       "      <th>3</th>\n",
       "      <td>StepCount</td>\n",
       "      <td>iPhone 4s</td>\n",
       "      <td>10</td>\n",
       "      <td>count</td>\n",
       "      <td>2/22/25 9:59</td>\n",
       "      <td>2/22/25 9:59</td>\n",
       "      <td>NaN</td>\n",
       "      <td>NaN</td>\n",
       "      <td>NaN</td>\n",
       "      <td>NaN</td>\n",
       "      <td>NaN</td>\n",
       "      <td>NaN</td>\n",
       "      <td>NaN</td>\n",
       "      <td>NaN</td>\n",
       "      <td>NaN</td>\n",
       "    </tr>\n",
       "    <tr>\n",
       "      <th>4</th>\n",
       "      <td>WalkingDoubleSupportPercentage</td>\n",
       "      <td>iPhone 4s</td>\n",
       "      <td>0.294</td>\n",
       "      <td>%</td>\n",
       "      <td>2/22/25 9:57</td>\n",
       "      <td>2/22/25 9:58</td>\n",
       "      <td>NaN</td>\n",
       "      <td>NaN</td>\n",
       "      <td>NaN</td>\n",
       "      <td>NaN</td>\n",
       "      <td>NaN</td>\n",
       "      <td>NaN</td>\n",
       "      <td>NaN</td>\n",
       "      <td>NaN</td>\n",
       "      <td>NaN</td>\n",
       "    </tr>\n",
       "  </tbody>\n",
       "</table>\n",
       "</div>"
      ],
      "text/plain": [
       "                             type sourceName       value   unit  \\\n",
       "0                       StepCount  iPhone 4s          20  count   \n",
       "1          DistanceWalkingRunning  iPhone 4s   0.0169666     km   \n",
       "2          DistanceWalkingRunning  iPhone 4s  0.00807731     km   \n",
       "3                       StepCount  iPhone 4s          10  count   \n",
       "4  WalkingDoubleSupportPercentage  iPhone 4s       0.294      %   \n",
       "\n",
       "       startDate        endDate  duration  minimum  \\\n",
       "0  2/22/25 10:52  2/22/25 10:53       NaN      NaN   \n",
       "1  2/22/25 10:52  2/22/25 10:53       NaN      NaN   \n",
       "2   2/22/25 9:59   2/22/25 9:59       NaN      NaN   \n",
       "3   2/22/25 9:59   2/22/25 9:59       NaN      NaN   \n",
       "4   2/22/25 9:57   2/22/25 9:58       NaN      NaN   \n",
       "\n",
       "   CardioFitnessMedicationsUse  time  maximum durationUnit  sum  average  \\\n",
       "0                          NaN   NaN      NaN          NaN  NaN      NaN   \n",
       "1                          NaN   NaN      NaN          NaN  NaN      NaN   \n",
       "2                          NaN   NaN      NaN          NaN  NaN      NaN   \n",
       "3                          NaN   NaN      NaN          NaN  NaN      NaN   \n",
       "4                          NaN   NaN      NaN          NaN  NaN      NaN   \n",
       "\n",
       "  workoutActivityType  \n",
       "0                 NaN  \n",
       "1                 NaN  \n",
       "2                 NaN  \n",
       "3                 NaN  \n",
       "4                 NaN  "
      ]
     },
     "execution_count": 16,
     "metadata": {},
     "output_type": "execute_result"
    }
   ],
   "source": [
    "df.head()"
   ]
  },
  {
   "cell_type": "code",
   "execution_count": 17,
   "metadata": {},
   "outputs": [],
   "source": [
    "workout_type = df['type'].unique()"
   ]
  },
  {
   "cell_type": "code",
   "execution_count": 18,
   "metadata": {},
   "outputs": [
    {
     "data": {
      "text/plain": [
       "array(['StepCount', 'DistanceWalkingRunning',\n",
       "       'WalkingDoubleSupportPercentage', 'WalkingStepLength',\n",
       "       'WalkingAsymmetryPercentage', 'WalkingSpeed', 'FlightsClimbed',\n",
       "       'HeadphoneAudioExposure', 'PhysicalEffort', 'HeartRate',\n",
       "       'ActiveEnergyBurned', 'BasalEnergyBurned',\n",
       "       'HeartRateVariabilitySDNN', 'AppleStandTime',\n",
       "       'EnvironmentalAudioExposure', 'AppleStandHour', 'HandwashingEvent',\n",
       "       'RespiratoryRate', 'SleepAnalysis', 'RestingHeartRate',\n",
       "       'WalkingHeartRateAverage', 'AppleExerciseTime', 'TimeInDaylight',\n",
       "       'StairDescentSpeed', 'StairAscentSpeed', 'VO2Max',\n",
       "       'EnvironmentalSoundReduction', 'HighHeartRateEvent',\n",
       "       'AudioExposureEvent', 'AppleWalkingSteadiness', 'DistanceCycling',\n",
       "       nan, 'SixMinuteWalkTestDistance', 'HeartRateRecoveryOneMinute',\n",
       "       'LowCardioFitnessEvent', 'RunningPower', 'RunningSpeed',\n",
       "       'MindfulSession', 'RunningGroundContactTime',\n",
       "       'RunningStrideLength', 'RunningVerticalOscillation',\n",
       "       'HKDataTypeSleepDurationGoal', 'Height', 'BodyMass'], dtype=object)"
      ]
     },
     "execution_count": 18,
     "metadata": {},
     "output_type": "execute_result"
    }
   ],
   "source": [
    "workout_type"
   ]
  },
  {
   "cell_type": "code",
   "execution_count": 19,
   "metadata": {},
   "outputs": [],
   "source": [
    "#create a separate folder\n",
    "import os\n",
    "\n",
    "os.makedirs('workout_plots', exist_ok=True)"
   ]
  },
  {
   "cell_type": "code",
   "execution_count": 20,
   "metadata": {},
   "outputs": [],
   "source": [
    "#create a separte csv file for each workout type in a separate folder\n",
    "\n",
    "for workout in workout_type:\n",
    "    df[df['type'] == workout].to_csv(f'workout_plots/{workout}.csv', index=False)"
   ]
  },
  {
   "cell_type": "code",
   "execution_count": 21,
   "metadata": {},
   "outputs": [
    {
     "name": "stderr",
     "output_type": "stream",
     "text": [
      "/var/folders/xx/v9z2_m390ygcrxz3lmcv2mx80000gn/T/ipykernel_10397/4061091111.py:12: UserWarning: Could not infer format, so each element will be parsed individually, falling back to `dateutil`. To ensure parsing is consistent and as-expected, please specify a format.\n",
      "  df['startDate'] = pd.to_datetime(df['startDate'])\n",
      "/var/folders/xx/v9z2_m390ygcrxz3lmcv2mx80000gn/T/ipykernel_10397/4061091111.py:12: UserWarning: Could not infer format, so each element will be parsed individually, falling back to `dateutil`. To ensure parsing is consistent and as-expected, please specify a format.\n",
      "  df['startDate'] = pd.to_datetime(df['startDate'])\n"
     ]
    },
    {
     "name": "stdout",
     "output_type": "stream",
     "text": [
      "Processed: MindfulSession.csv\n",
      "Processed: HeartRate.csv\n",
      "Processed: BodyMass.csv\n",
      "Processed: HandwashingEvent.csv\n",
      "Processed: EnvironmentalSoundReduction.csv\n",
      "Processed: nan.csv\n"
     ]
    },
    {
     "name": "stderr",
     "output_type": "stream",
     "text": [
      "/var/folders/xx/v9z2_m390ygcrxz3lmcv2mx80000gn/T/ipykernel_10397/4061091111.py:12: UserWarning: Could not infer format, so each element will be parsed individually, falling back to `dateutil`. To ensure parsing is consistent and as-expected, please specify a format.\n",
      "  df['startDate'] = pd.to_datetime(df['startDate'])\n",
      "/var/folders/xx/v9z2_m390ygcrxz3lmcv2mx80000gn/T/ipykernel_10397/4061091111.py:12: UserWarning: Could not infer format, so each element will be parsed individually, falling back to `dateutil`. To ensure parsing is consistent and as-expected, please specify a format.\n",
      "  df['startDate'] = pd.to_datetime(df['startDate'])\n",
      "/var/folders/xx/v9z2_m390ygcrxz3lmcv2mx80000gn/T/ipykernel_10397/4061091111.py:12: UserWarning: Could not infer format, so each element will be parsed individually, falling back to `dateutil`. To ensure parsing is consistent and as-expected, please specify a format.\n",
      "  df['startDate'] = pd.to_datetime(df['startDate'])\n"
     ]
    },
    {
     "name": "stdout",
     "output_type": "stream",
     "text": [
      "Processed: StepCount.csv\n"
     ]
    },
    {
     "name": "stderr",
     "output_type": "stream",
     "text": [
      "/var/folders/xx/v9z2_m390ygcrxz3lmcv2mx80000gn/T/ipykernel_10397/4061091111.py:12: UserWarning: Could not infer format, so each element will be parsed individually, falling back to `dateutil`. To ensure parsing is consistent and as-expected, please specify a format.\n",
      "  df['startDate'] = pd.to_datetime(df['startDate'])\n"
     ]
    },
    {
     "name": "stdout",
     "output_type": "stream",
     "text": [
      "Processed: EnvironmentalAudioExposure.csv\n",
      "Processed: RunningPower.csv\n",
      "Processed: RunningSpeed.csv\n",
      "Processed: DistanceCycling.csv\n"
     ]
    },
    {
     "name": "stderr",
     "output_type": "stream",
     "text": [
      "/var/folders/xx/v9z2_m390ygcrxz3lmcv2mx80000gn/T/ipykernel_10397/4061091111.py:12: UserWarning: Could not infer format, so each element will be parsed individually, falling back to `dateutil`. To ensure parsing is consistent and as-expected, please specify a format.\n",
      "  df['startDate'] = pd.to_datetime(df['startDate'])\n",
      "/var/folders/xx/v9z2_m390ygcrxz3lmcv2mx80000gn/T/ipykernel_10397/4061091111.py:12: UserWarning: Could not infer format, so each element will be parsed individually, falling back to `dateutil`. To ensure parsing is consistent and as-expected, please specify a format.\n",
      "  df['startDate'] = pd.to_datetime(df['startDate'])\n",
      "/var/folders/xx/v9z2_m390ygcrxz3lmcv2mx80000gn/T/ipykernel_10397/4061091111.py:12: UserWarning: Could not infer format, so each element will be parsed individually, falling back to `dateutil`. To ensure parsing is consistent and as-expected, please specify a format.\n",
      "  df['startDate'] = pd.to_datetime(df['startDate'])\n",
      "/var/folders/xx/v9z2_m390ygcrxz3lmcv2mx80000gn/T/ipykernel_10397/4061091111.py:12: UserWarning: Could not infer format, so each element will be parsed individually, falling back to `dateutil`. To ensure parsing is consistent and as-expected, please specify a format.\n",
      "  df['startDate'] = pd.to_datetime(df['startDate'])\n"
     ]
    },
    {
     "name": "stdout",
     "output_type": "stream",
     "text": [
      "Processed: WalkingAsymmetryPercentage.csv\n"
     ]
    },
    {
     "name": "stderr",
     "output_type": "stream",
     "text": [
      "/var/folders/xx/v9z2_m390ygcrxz3lmcv2mx80000gn/T/ipykernel_10397/4061091111.py:12: UserWarning: Could not infer format, so each element will be parsed individually, falling back to `dateutil`. To ensure parsing is consistent and as-expected, please specify a format.\n",
      "  df['startDate'] = pd.to_datetime(df['startDate'])\n"
     ]
    },
    {
     "name": "stdout",
     "output_type": "stream",
     "text": [
      "Processed: DistanceWalkingRunning.csv\n"
     ]
    },
    {
     "name": "stderr",
     "output_type": "stream",
     "text": [
      "/var/folders/xx/v9z2_m390ygcrxz3lmcv2mx80000gn/T/ipykernel_10397/4061091111.py:12: UserWarning: Could not infer format, so each element will be parsed individually, falling back to `dateutil`. To ensure parsing is consistent and as-expected, please specify a format.\n",
      "  df['startDate'] = pd.to_datetime(df['startDate'])\n"
     ]
    },
    {
     "name": "stdout",
     "output_type": "stream",
     "text": [
      "Processed: RespiratoryRate.csv\n",
      "Processed: LowCardioFitnessEvent.csv\n",
      "Processed: RestingHeartRate.csv\n",
      "Processed: StairDescentSpeed.csv\n",
      "Processed: RunningVerticalOscillation.csv\n",
      "Processed: SixMinuteWalkTestDistance.csv\n",
      "Processed: RunningGroundContactTime.csv\n",
      "Processed: Height.csv\n",
      "Processed: AppleWalkingSteadiness.csv\n",
      "Processed: VO2Max.csv\n",
      "Processed: HeartRateRecoveryOneMinute.csv\n",
      "Processed: HKDataTypeSleepDurationGoal.csv\n"
     ]
    },
    {
     "name": "stderr",
     "output_type": "stream",
     "text": [
      "/var/folders/xx/v9z2_m390ygcrxz3lmcv2mx80000gn/T/ipykernel_10397/4061091111.py:12: UserWarning: Could not infer format, so each element will be parsed individually, falling back to `dateutil`. To ensure parsing is consistent and as-expected, please specify a format.\n",
      "  df['startDate'] = pd.to_datetime(df['startDate'])\n",
      "/var/folders/xx/v9z2_m390ygcrxz3lmcv2mx80000gn/T/ipykernel_10397/4061091111.py:12: UserWarning: Could not infer format, so each element will be parsed individually, falling back to `dateutil`. To ensure parsing is consistent and as-expected, please specify a format.\n",
      "  df['startDate'] = pd.to_datetime(df['startDate'])\n",
      "/var/folders/xx/v9z2_m390ygcrxz3lmcv2mx80000gn/T/ipykernel_10397/4061091111.py:12: UserWarning: Could not infer format, so each element will be parsed individually, falling back to `dateutil`. To ensure parsing is consistent and as-expected, please specify a format.\n",
      "  df['startDate'] = pd.to_datetime(df['startDate'])\n",
      "/var/folders/xx/v9z2_m390ygcrxz3lmcv2mx80000gn/T/ipykernel_10397/4061091111.py:12: UserWarning: Could not infer format, so each element will be parsed individually, falling back to `dateutil`. To ensure parsing is consistent and as-expected, please specify a format.\n",
      "  df['startDate'] = pd.to_datetime(df['startDate'])\n",
      "/var/folders/xx/v9z2_m390ygcrxz3lmcv2mx80000gn/T/ipykernel_10397/4061091111.py:12: UserWarning: Could not infer format, so each element will be parsed individually, falling back to `dateutil`. To ensure parsing is consistent and as-expected, please specify a format.\n",
      "  df['startDate'] = pd.to_datetime(df['startDate'])\n",
      "/var/folders/xx/v9z2_m390ygcrxz3lmcv2mx80000gn/T/ipykernel_10397/4061091111.py:12: UserWarning: Could not infer format, so each element will be parsed individually, falling back to `dateutil`. To ensure parsing is consistent and as-expected, please specify a format.\n",
      "  df['startDate'] = pd.to_datetime(df['startDate'])\n",
      "/var/folders/xx/v9z2_m390ygcrxz3lmcv2mx80000gn/T/ipykernel_10397/4061091111.py:12: UserWarning: Could not infer format, so each element will be parsed individually, falling back to `dateutil`. To ensure parsing is consistent and as-expected, please specify a format.\n",
      "  df['startDate'] = pd.to_datetime(df['startDate'])\n",
      "/var/folders/xx/v9z2_m390ygcrxz3lmcv2mx80000gn/T/ipykernel_10397/4061091111.py:12: UserWarning: Could not infer format, so each element will be parsed individually, falling back to `dateutil`. To ensure parsing is consistent and as-expected, please specify a format.\n",
      "  df['startDate'] = pd.to_datetime(df['startDate'])\n",
      "/var/folders/xx/v9z2_m390ygcrxz3lmcv2mx80000gn/T/ipykernel_10397/4061091111.py:12: UserWarning: Could not infer format, so each element will be parsed individually, falling back to `dateutil`. To ensure parsing is consistent and as-expected, please specify a format.\n",
      "  df['startDate'] = pd.to_datetime(df['startDate'])\n",
      "/var/folders/xx/v9z2_m390ygcrxz3lmcv2mx80000gn/T/ipykernel_10397/4061091111.py:12: UserWarning: Could not infer format, so each element will be parsed individually, falling back to `dateutil`. To ensure parsing is consistent and as-expected, please specify a format.\n",
      "  df['startDate'] = pd.to_datetime(df['startDate'])\n"
     ]
    },
    {
     "name": "stdout",
     "output_type": "stream",
     "text": [
      "Processed: HeartRateVariabilitySDNN.csv\n"
     ]
    },
    {
     "name": "stderr",
     "output_type": "stream",
     "text": [
      "/var/folders/xx/v9z2_m390ygcrxz3lmcv2mx80000gn/T/ipykernel_10397/4061091111.py:12: UserWarning: Could not infer format, so each element will be parsed individually, falling back to `dateutil`. To ensure parsing is consistent and as-expected, please specify a format.\n",
      "  df['startDate'] = pd.to_datetime(df['startDate'])\n"
     ]
    },
    {
     "name": "stdout",
     "output_type": "stream",
     "text": [
      "Processed: WalkingSpeed.csv\n"
     ]
    },
    {
     "name": "stderr",
     "output_type": "stream",
     "text": [
      "/var/folders/xx/v9z2_m390ygcrxz3lmcv2mx80000gn/T/ipykernel_10397/4061091111.py:12: UserWarning: Could not infer format, so each element will be parsed individually, falling back to `dateutil`. To ensure parsing is consistent and as-expected, please specify a format.\n",
      "  df['startDate'] = pd.to_datetime(df['startDate'])\n"
     ]
    },
    {
     "name": "stdout",
     "output_type": "stream",
     "text": [
      "Processed: AppleExerciseTime.csv\n"
     ]
    },
    {
     "name": "stderr",
     "output_type": "stream",
     "text": [
      "/var/folders/xx/v9z2_m390ygcrxz3lmcv2mx80000gn/T/ipykernel_10397/4061091111.py:12: UserWarning: Could not infer format, so each element will be parsed individually, falling back to `dateutil`. To ensure parsing is consistent and as-expected, please specify a format.\n",
      "  df['startDate'] = pd.to_datetime(df['startDate'])\n"
     ]
    },
    {
     "name": "stdout",
     "output_type": "stream",
     "text": [
      "Processed: BasalEnergyBurned.csv\n"
     ]
    },
    {
     "name": "stderr",
     "output_type": "stream",
     "text": [
      "/var/folders/xx/v9z2_m390ygcrxz3lmcv2mx80000gn/T/ipykernel_10397/4061091111.py:12: UserWarning: Could not infer format, so each element will be parsed individually, falling back to `dateutil`. To ensure parsing is consistent and as-expected, please specify a format.\n",
      "  df['startDate'] = pd.to_datetime(df['startDate'])\n"
     ]
    },
    {
     "name": "stdout",
     "output_type": "stream",
     "text": [
      "Processed: AppleStandHour.csv\n",
      "Processed: WalkingHeartRateAverage.csv\n"
     ]
    },
    {
     "name": "stderr",
     "output_type": "stream",
     "text": [
      "/var/folders/xx/v9z2_m390ygcrxz3lmcv2mx80000gn/T/ipykernel_10397/4061091111.py:12: UserWarning: Could not infer format, so each element will be parsed individually, falling back to `dateutil`. To ensure parsing is consistent and as-expected, please specify a format.\n",
      "  df['startDate'] = pd.to_datetime(df['startDate'])\n",
      "/var/folders/xx/v9z2_m390ygcrxz3lmcv2mx80000gn/T/ipykernel_10397/4061091111.py:12: UserWarning: Could not infer format, so each element will be parsed individually, falling back to `dateutil`. To ensure parsing is consistent and as-expected, please specify a format.\n",
      "  df['startDate'] = pd.to_datetime(df['startDate'])\n"
     ]
    },
    {
     "name": "stdout",
     "output_type": "stream",
     "text": [
      "Processed: WalkingStepLength.csv\n",
      "Processed: StairAscentSpeed.csv\n"
     ]
    },
    {
     "name": "stderr",
     "output_type": "stream",
     "text": [
      "/var/folders/xx/v9z2_m390ygcrxz3lmcv2mx80000gn/T/ipykernel_10397/4061091111.py:12: UserWarning: Could not infer format, so each element will be parsed individually, falling back to `dateutil`. To ensure parsing is consistent and as-expected, please specify a format.\n",
      "  df['startDate'] = pd.to_datetime(df['startDate'])\n",
      "/var/folders/xx/v9z2_m390ygcrxz3lmcv2mx80000gn/T/ipykernel_10397/4061091111.py:12: UserWarning: Could not infer format, so each element will be parsed individually, falling back to `dateutil`. To ensure parsing is consistent and as-expected, please specify a format.\n",
      "  df['startDate'] = pd.to_datetime(df['startDate'])\n"
     ]
    },
    {
     "name": "stdout",
     "output_type": "stream",
     "text": [
      "Processed: PhysicalEffort.csv\n",
      "Processed: RunningStrideLength.csv\n",
      "Processed: TimeInDaylight.csv\n"
     ]
    },
    {
     "name": "stderr",
     "output_type": "stream",
     "text": [
      "/var/folders/xx/v9z2_m390ygcrxz3lmcv2mx80000gn/T/ipykernel_10397/4061091111.py:12: UserWarning: Could not infer format, so each element will be parsed individually, falling back to `dateutil`. To ensure parsing is consistent and as-expected, please specify a format.\n",
      "  df['startDate'] = pd.to_datetime(df['startDate'])\n",
      "/var/folders/xx/v9z2_m390ygcrxz3lmcv2mx80000gn/T/ipykernel_10397/4061091111.py:12: UserWarning: Could not infer format, so each element will be parsed individually, falling back to `dateutil`. To ensure parsing is consistent and as-expected, please specify a format.\n",
      "  df['startDate'] = pd.to_datetime(df['startDate'])\n",
      "/var/folders/xx/v9z2_m390ygcrxz3lmcv2mx80000gn/T/ipykernel_10397/4061091111.py:12: UserWarning: Could not infer format, so each element will be parsed individually, falling back to `dateutil`. To ensure parsing is consistent and as-expected, please specify a format.\n",
      "  df['startDate'] = pd.to_datetime(df['startDate'])\n"
     ]
    },
    {
     "name": "stdout",
     "output_type": "stream",
     "text": [
      "Processed: ActiveEnergyBurned.csv\n"
     ]
    },
    {
     "name": "stderr",
     "output_type": "stream",
     "text": [
      "/var/folders/xx/v9z2_m390ygcrxz3lmcv2mx80000gn/T/ipykernel_10397/4061091111.py:12: UserWarning: Could not infer format, so each element will be parsed individually, falling back to `dateutil`. To ensure parsing is consistent and as-expected, please specify a format.\n",
      "  df['startDate'] = pd.to_datetime(df['startDate'])\n"
     ]
    },
    {
     "name": "stdout",
     "output_type": "stream",
     "text": [
      "Processed: HeadphoneAudioExposure.csv\n"
     ]
    },
    {
     "name": "stderr",
     "output_type": "stream",
     "text": [
      "/var/folders/xx/v9z2_m390ygcrxz3lmcv2mx80000gn/T/ipykernel_10397/4061091111.py:12: UserWarning: Could not infer format, so each element will be parsed individually, falling back to `dateutil`. To ensure parsing is consistent and as-expected, please specify a format.\n",
      "  df['startDate'] = pd.to_datetime(df['startDate'])\n"
     ]
    },
    {
     "name": "stdout",
     "output_type": "stream",
     "text": [
      "Processed: WalkingDoubleSupportPercentage.csv\n",
      "Processed: FlightsClimbed.csv\n"
     ]
    },
    {
     "name": "stderr",
     "output_type": "stream",
     "text": [
      "/var/folders/xx/v9z2_m390ygcrxz3lmcv2mx80000gn/T/ipykernel_10397/4061091111.py:12: UserWarning: Could not infer format, so each element will be parsed individually, falling back to `dateutil`. To ensure parsing is consistent and as-expected, please specify a format.\n",
      "  df['startDate'] = pd.to_datetime(df['startDate'])\n",
      "/var/folders/xx/v9z2_m390ygcrxz3lmcv2mx80000gn/T/ipykernel_10397/4061091111.py:12: UserWarning: Could not infer format, so each element will be parsed individually, falling back to `dateutil`. To ensure parsing is consistent and as-expected, please specify a format.\n",
      "  df['startDate'] = pd.to_datetime(df['startDate'])\n"
     ]
    },
    {
     "name": "stdout",
     "output_type": "stream",
     "text": [
      "Processed: SleepAnalysis.csv\n",
      "Processed: HighHeartRateEvent.csv\n",
      "Processed: AudioExposureEvent.csv\n"
     ]
    },
    {
     "name": "stderr",
     "output_type": "stream",
     "text": [
      "/var/folders/xx/v9z2_m390ygcrxz3lmcv2mx80000gn/T/ipykernel_10397/4061091111.py:12: UserWarning: Could not infer format, so each element will be parsed individually, falling back to `dateutil`. To ensure parsing is consistent and as-expected, please specify a format.\n",
      "  df['startDate'] = pd.to_datetime(df['startDate'])\n",
      "/var/folders/xx/v9z2_m390ygcrxz3lmcv2mx80000gn/T/ipykernel_10397/4061091111.py:12: UserWarning: Could not infer format, so each element will be parsed individually, falling back to `dateutil`. To ensure parsing is consistent and as-expected, please specify a format.\n",
      "  df['startDate'] = pd.to_datetime(df['startDate'])\n",
      "/var/folders/xx/v9z2_m390ygcrxz3lmcv2mx80000gn/T/ipykernel_10397/4061091111.py:12: UserWarning: Could not infer format, so each element will be parsed individually, falling back to `dateutil`. To ensure parsing is consistent and as-expected, please specify a format.\n",
      "  df['startDate'] = pd.to_datetime(df['startDate'])\n"
     ]
    },
    {
     "name": "stdout",
     "output_type": "stream",
     "text": [
      "Processed: AppleStandTime.csv\n"
     ]
    }
   ],
   "source": [
    "import os\n",
    "import pandas as pd\n",
    "from datetime import datetime\n",
    "\n",
    "# Define the folder containing CSV files\n",
    "folder_path = 'workout_plots'\n",
    "\n",
    "def process_csv(file_path):\n",
    "    df = pd.read_csv(file_path)\n",
    "    \n",
    "    # Ensure 'startDate' is in datetime format\n",
    "    df['startDate'] = pd.to_datetime(df['startDate'])\n",
    "    \n",
    "    # Round down timestamps to nearest 10-minute interval\n",
    "    df['interval_start'] = df['startDate'].dt.floor('10T')\n",
    "    \n",
    "    # Keep the latest row for each interval\n",
    "    df = df.sort_values(by=['interval_start', 'startDate'], ascending=[True, False])\n",
    "    df = df.drop_duplicates(subset=['interval_start'], keep='first')\n",
    "    \n",
    "    # Replace startDate with interval_start\n",
    "    df['startDate'] = df['interval_start']\n",
    "    df = df.drop(columns=['interval_start'])\n",
    "    \n",
    "    return df\n",
    "\n",
    "# Process all CSV files in the folder\n",
    "for file_name in os.listdir(folder_path):\n",
    "    if file_name.endswith('.csv'):\n",
    "        file_path = os.path.join(folder_path, file_name)\n",
    "        processed_df = process_csv(file_path)\n",
    "        \n",
    "        # Save processed file\n",
    "        processed_df.to_csv(file_path, index=False)\n",
    "        print(f'Processed: {file_name}')\n"
   ]
  },
  {
   "cell_type": "code",
   "execution_count": null,
   "metadata": {},
   "outputs": [],
   "source": []
  },
  {
   "cell_type": "code",
   "execution_count": 13,
   "metadata": {},
   "outputs": [
    {
     "name": "stderr",
     "output_type": "stream",
     "text": [
      "/var/folders/xx/v9z2_m390ygcrxz3lmcv2mx80000gn/T/ipykernel_10397/2034091291.py:50: SettingWithCopyWarning: \n",
      "A value is trying to be set on a copy of a slice from a DataFrame\n",
      "\n",
      "See the caveats in the documentation: https://pandas.pydata.org/pandas-docs/stable/user_guide/indexing.html#returning-a-view-versus-a-copy\n",
      "  grouped.drop(columns=['Date', 'Noon'], inplace=True)\n",
      "/var/folders/xx/v9z2_m390ygcrxz3lmcv2mx80000gn/T/ipykernel_10397/2034091291.py:50: SettingWithCopyWarning: \n",
      "A value is trying to be set on a copy of a slice from a DataFrame\n",
      "\n",
      "See the caveats in the documentation: https://pandas.pydata.org/pandas-docs/stable/user_guide/indexing.html#returning-a-view-versus-a-copy\n",
      "  grouped.drop(columns=['Date', 'Noon'], inplace=True)\n",
      "/var/folders/xx/v9z2_m390ygcrxz3lmcv2mx80000gn/T/ipykernel_10397/2034091291.py:50: SettingWithCopyWarning: \n",
      "A value is trying to be set on a copy of a slice from a DataFrame\n",
      "\n",
      "See the caveats in the documentation: https://pandas.pydata.org/pandas-docs/stable/user_guide/indexing.html#returning-a-view-versus-a-copy\n",
      "  grouped.drop(columns=['Date', 'Noon'], inplace=True)\n",
      "/var/folders/xx/v9z2_m390ygcrxz3lmcv2mx80000gn/T/ipykernel_10397/2034091291.py:50: SettingWithCopyWarning: \n",
      "A value is trying to be set on a copy of a slice from a DataFrame\n",
      "\n",
      "See the caveats in the documentation: https://pandas.pydata.org/pandas-docs/stable/user_guide/indexing.html#returning-a-view-versus-a-copy\n",
      "  grouped.drop(columns=['Date', 'Noon'], inplace=True)\n",
      "/var/folders/xx/v9z2_m390ygcrxz3lmcv2mx80000gn/T/ipykernel_10397/2034091291.py:50: SettingWithCopyWarning: \n",
      "A value is trying to be set on a copy of a slice from a DataFrame\n",
      "\n",
      "See the caveats in the documentation: https://pandas.pydata.org/pandas-docs/stable/user_guide/indexing.html#returning-a-view-versus-a-copy\n",
      "  grouped.drop(columns=['Date', 'Noon'], inplace=True)\n",
      "/var/folders/xx/v9z2_m390ygcrxz3lmcv2mx80000gn/T/ipykernel_10397/2034091291.py:50: SettingWithCopyWarning: \n",
      "A value is trying to be set on a copy of a slice from a DataFrame\n",
      "\n",
      "See the caveats in the documentation: https://pandas.pydata.org/pandas-docs/stable/user_guide/indexing.html#returning-a-view-versus-a-copy\n",
      "  grouped.drop(columns=['Date', 'Noon'], inplace=True)\n",
      "/var/folders/xx/v9z2_m390ygcrxz3lmcv2mx80000gn/T/ipykernel_10397/2034091291.py:50: SettingWithCopyWarning: \n",
      "A value is trying to be set on a copy of a slice from a DataFrame\n",
      "\n",
      "See the caveats in the documentation: https://pandas.pydata.org/pandas-docs/stable/user_guide/indexing.html#returning-a-view-versus-a-copy\n",
      "  grouped.drop(columns=['Date', 'Noon'], inplace=True)\n",
      "/var/folders/xx/v9z2_m390ygcrxz3lmcv2mx80000gn/T/ipykernel_10397/2034091291.py:50: SettingWithCopyWarning: \n",
      "A value is trying to be set on a copy of a slice from a DataFrame\n",
      "\n",
      "See the caveats in the documentation: https://pandas.pydata.org/pandas-docs/stable/user_guide/indexing.html#returning-a-view-versus-a-copy\n",
      "  grouped.drop(columns=['Date', 'Noon'], inplace=True)\n",
      "/var/folders/xx/v9z2_m390ygcrxz3lmcv2mx80000gn/T/ipykernel_10397/2034091291.py:50: SettingWithCopyWarning: \n",
      "A value is trying to be set on a copy of a slice from a DataFrame\n",
      "\n",
      "See the caveats in the documentation: https://pandas.pydata.org/pandas-docs/stable/user_guide/indexing.html#returning-a-view-versus-a-copy\n",
      "  grouped.drop(columns=['Date', 'Noon'], inplace=True)\n",
      "/var/folders/xx/v9z2_m390ygcrxz3lmcv2mx80000gn/T/ipykernel_10397/2034091291.py:50: SettingWithCopyWarning: \n",
      "A value is trying to be set on a copy of a slice from a DataFrame\n",
      "\n",
      "See the caveats in the documentation: https://pandas.pydata.org/pandas-docs/stable/user_guide/indexing.html#returning-a-view-versus-a-copy\n",
      "  grouped.drop(columns=['Date', 'Noon'], inplace=True)\n",
      "/var/folders/xx/v9z2_m390ygcrxz3lmcv2mx80000gn/T/ipykernel_10397/2034091291.py:50: SettingWithCopyWarning: \n",
      "A value is trying to be set on a copy of a slice from a DataFrame\n",
      "\n",
      "See the caveats in the documentation: https://pandas.pydata.org/pandas-docs/stable/user_guide/indexing.html#returning-a-view-versus-a-copy\n",
      "  grouped.drop(columns=['Date', 'Noon'], inplace=True)\n",
      "/var/folders/xx/v9z2_m390ygcrxz3lmcv2mx80000gn/T/ipykernel_10397/2034091291.py:50: SettingWithCopyWarning: \n",
      "A value is trying to be set on a copy of a slice from a DataFrame\n",
      "\n",
      "See the caveats in the documentation: https://pandas.pydata.org/pandas-docs/stable/user_guide/indexing.html#returning-a-view-versus-a-copy\n",
      "  grouped.drop(columns=['Date', 'Noon'], inplace=True)\n",
      "/var/folders/xx/v9z2_m390ygcrxz3lmcv2mx80000gn/T/ipykernel_10397/2034091291.py:50: SettingWithCopyWarning: \n",
      "A value is trying to be set on a copy of a slice from a DataFrame\n",
      "\n",
      "See the caveats in the documentation: https://pandas.pydata.org/pandas-docs/stable/user_guide/indexing.html#returning-a-view-versus-a-copy\n",
      "  grouped.drop(columns=['Date', 'Noon'], inplace=True)\n",
      "/var/folders/xx/v9z2_m390ygcrxz3lmcv2mx80000gn/T/ipykernel_10397/2034091291.py:50: SettingWithCopyWarning: \n",
      "A value is trying to be set on a copy of a slice from a DataFrame\n",
      "\n",
      "See the caveats in the documentation: https://pandas.pydata.org/pandas-docs/stable/user_guide/indexing.html#returning-a-view-versus-a-copy\n",
      "  grouped.drop(columns=['Date', 'Noon'], inplace=True)\n",
      "/var/folders/xx/v9z2_m390ygcrxz3lmcv2mx80000gn/T/ipykernel_10397/2034091291.py:50: SettingWithCopyWarning: \n",
      "A value is trying to be set on a copy of a slice from a DataFrame\n",
      "\n",
      "See the caveats in the documentation: https://pandas.pydata.org/pandas-docs/stable/user_guide/indexing.html#returning-a-view-versus-a-copy\n",
      "  grouped.drop(columns=['Date', 'Noon'], inplace=True)\n",
      "/var/folders/xx/v9z2_m390ygcrxz3lmcv2mx80000gn/T/ipykernel_10397/2034091291.py:50: SettingWithCopyWarning: \n",
      "A value is trying to be set on a copy of a slice from a DataFrame\n",
      "\n",
      "See the caveats in the documentation: https://pandas.pydata.org/pandas-docs/stable/user_guide/indexing.html#returning-a-view-versus-a-copy\n",
      "  grouped.drop(columns=['Date', 'Noon'], inplace=True)\n",
      "/var/folders/xx/v9z2_m390ygcrxz3lmcv2mx80000gn/T/ipykernel_10397/2034091291.py:50: SettingWithCopyWarning: \n",
      "A value is trying to be set on a copy of a slice from a DataFrame\n",
      "\n",
      "See the caveats in the documentation: https://pandas.pydata.org/pandas-docs/stable/user_guide/indexing.html#returning-a-view-versus-a-copy\n",
      "  grouped.drop(columns=['Date', 'Noon'], inplace=True)\n",
      "/var/folders/xx/v9z2_m390ygcrxz3lmcv2mx80000gn/T/ipykernel_10397/2034091291.py:50: SettingWithCopyWarning: \n",
      "A value is trying to be set on a copy of a slice from a DataFrame\n",
      "\n",
      "See the caveats in the documentation: https://pandas.pydata.org/pandas-docs/stable/user_guide/indexing.html#returning-a-view-versus-a-copy\n",
      "  grouped.drop(columns=['Date', 'Noon'], inplace=True)\n",
      "/var/folders/xx/v9z2_m390ygcrxz3lmcv2mx80000gn/T/ipykernel_10397/2034091291.py:50: SettingWithCopyWarning: \n",
      "A value is trying to be set on a copy of a slice from a DataFrame\n",
      "\n",
      "See the caveats in the documentation: https://pandas.pydata.org/pandas-docs/stable/user_guide/indexing.html#returning-a-view-versus-a-copy\n",
      "  grouped.drop(columns=['Date', 'Noon'], inplace=True)\n",
      "/var/folders/xx/v9z2_m390ygcrxz3lmcv2mx80000gn/T/ipykernel_10397/2034091291.py:50: SettingWithCopyWarning: \n",
      "A value is trying to be set on a copy of a slice from a DataFrame\n",
      "\n",
      "See the caveats in the documentation: https://pandas.pydata.org/pandas-docs/stable/user_guide/indexing.html#returning-a-view-versus-a-copy\n",
      "  grouped.drop(columns=['Date', 'Noon'], inplace=True)\n",
      "/var/folders/xx/v9z2_m390ygcrxz3lmcv2mx80000gn/T/ipykernel_10397/2034091291.py:50: SettingWithCopyWarning: \n",
      "A value is trying to be set on a copy of a slice from a DataFrame\n",
      "\n",
      "See the caveats in the documentation: https://pandas.pydata.org/pandas-docs/stable/user_guide/indexing.html#returning-a-view-versus-a-copy\n",
      "  grouped.drop(columns=['Date', 'Noon'], inplace=True)\n",
      "/var/folders/xx/v9z2_m390ygcrxz3lmcv2mx80000gn/T/ipykernel_10397/2034091291.py:50: SettingWithCopyWarning: \n",
      "A value is trying to be set on a copy of a slice from a DataFrame\n",
      "\n",
      "See the caveats in the documentation: https://pandas.pydata.org/pandas-docs/stable/user_guide/indexing.html#returning-a-view-versus-a-copy\n",
      "  grouped.drop(columns=['Date', 'Noon'], inplace=True)\n",
      "/var/folders/xx/v9z2_m390ygcrxz3lmcv2mx80000gn/T/ipykernel_10397/2034091291.py:50: SettingWithCopyWarning: \n",
      "A value is trying to be set on a copy of a slice from a DataFrame\n",
      "\n",
      "See the caveats in the documentation: https://pandas.pydata.org/pandas-docs/stable/user_guide/indexing.html#returning-a-view-versus-a-copy\n",
      "  grouped.drop(columns=['Date', 'Noon'], inplace=True)\n",
      "/var/folders/xx/v9z2_m390ygcrxz3lmcv2mx80000gn/T/ipykernel_10397/2034091291.py:50: SettingWithCopyWarning: \n",
      "A value is trying to be set on a copy of a slice from a DataFrame\n",
      "\n",
      "See the caveats in the documentation: https://pandas.pydata.org/pandas-docs/stable/user_guide/indexing.html#returning-a-view-versus-a-copy\n",
      "  grouped.drop(columns=['Date', 'Noon'], inplace=True)\n",
      "/var/folders/xx/v9z2_m390ygcrxz3lmcv2mx80000gn/T/ipykernel_10397/2034091291.py:50: SettingWithCopyWarning: \n",
      "A value is trying to be set on a copy of a slice from a DataFrame\n",
      "\n",
      "See the caveats in the documentation: https://pandas.pydata.org/pandas-docs/stable/user_guide/indexing.html#returning-a-view-versus-a-copy\n",
      "  grouped.drop(columns=['Date', 'Noon'], inplace=True)\n",
      "/var/folders/xx/v9z2_m390ygcrxz3lmcv2mx80000gn/T/ipykernel_10397/2034091291.py:50: SettingWithCopyWarning: \n",
      "A value is trying to be set on a copy of a slice from a DataFrame\n",
      "\n",
      "See the caveats in the documentation: https://pandas.pydata.org/pandas-docs/stable/user_guide/indexing.html#returning-a-view-versus-a-copy\n",
      "  grouped.drop(columns=['Date', 'Noon'], inplace=True)\n"
     ]
    }
   ],
   "source": [
    "import pandas as pd\n",
    "import numpy as np\n",
    "import os\n",
    "\n",
    "# Load all workout types\n",
    "workout_types = [\n",
    "    'StepCount', 'DistanceWalkingRunning', 'WalkingDoubleSupportPercentage',\n",
    "    'WalkingStepLength', 'WalkingAsymmetryPercentage', 'WalkingSpeed',\n",
    "    'FlightsClimbed', 'HeadphoneAudioExposure', 'PhysicalEffort', 'HeartRate',\n",
    "    'ActiveEnergyBurned', 'BasalEnergyBurned', 'HeartRateVariabilitySDNN',\n",
    "    'AppleStandTime', 'EnvironmentalAudioExposure', 'AppleStandHour',\n",
    "    'HandwashingEvent', 'RespiratoryRate', 'SleepAnalysis', 'RestingHeartRate',\n",
    "    'WalkingHeartRateAverage', 'AppleExerciseTime', 'TimeInDaylight',\n",
    "    'StairDescentSpeed', 'StairAscentSpeed', 'VO2Max', 'EnvironmentalSoundReduction',\n",
    "    'HighHeartRateEvent', 'AudioExposureEvent', 'AppleWalkingSteadiness',\n",
    "    'DistanceCycling', 'SixMinuteWalkTestDistance', 'HeartRateRecoveryOneMinute',\n",
    "    'LowCardioFitnessEvent', 'RunningPower', 'RunningSpeed', 'MindfulSession',\n",
    "    'RunningGroundContactTime', 'RunningStrideLength', 'RunningVerticalOscillation',\n",
    "    'HKDataTypeSleepDurationGoal', 'Height', 'BodyMass'\n",
    "]\n",
    "\n",
    "\n",
    "\n",
    "# Assuming df is your DataFrame and 'Start Date' is already a datetime column\n",
    "df['startDate'] = pd.to_datetime(df['startDate'])\n",
    "\n",
    "for workout in workout_type:\n",
    "    # Filter by workout type\n",
    "    workout_df = df[df['type'] == workout].copy()\n",
    "    \n",
    "    # Calculate the interval start time for each row\n",
    "    # 1. Normalize to get the date part (midnight)\n",
    "    workout_df['Date'] = workout_df['startDate'].dt.normalize()\n",
    "    # 2. Calculate noon of the same day\n",
    "    workout_df['Noon'] = workout_df['Date'] + pd.Timedelta(hours=12)\n",
    "    # 3. Compute time difference from noon\n",
    "    delta = (workout_df['startDate'] - workout_df['Noon']).dt.total_seconds()\n",
    "    # 4. Calculate interval number (10-minute chunks)\n",
    "    interval_num = (delta // 600).astype(int)\n",
    "    # 5. Get interval start time\n",
    "    workout_df['Interval Start'] = workout_df['Noon'] + pd.to_timedelta(interval_num * 10, unit='min')\n",
    "    \n",
    "    # Sort by 'Start Date' to ensure latest is last\n",
    "    workout_df.sort_values('startDate', inplace=True)\n",
    "    \n",
    "    # Group by interval and take the latest entry\n",
    "    grouped = workout_df.groupby('Interval Start').tail(1)\n",
    "    \n",
    "    # Drop temporary columns\n",
    "    grouped.drop(columns=['Date', 'Noon'], inplace=True)\n",
    "    \n",
    "    # Save to CSV\n",
    "    grouped.to_csv(f'{workout}_processed.csv', index=False)\n"
   ]
  },
  {
   "cell_type": "code",
   "execution_count": 26,
   "metadata": {},
   "outputs": [
    {
     "data": {
      "text/plain": [
       "type\n",
       "ActiveEnergyBurned                194675\n",
       "HeartRate                         181554\n",
       "PhysicalEffort                     99623\n",
       "BasalEnergyBurned                  95882\n",
       "DistanceWalkingRunning             68255\n",
       "StepCount                          47309\n",
       "AppleStandTime                     24687\n",
       "SleepAnalysis                      22047\n",
       "WalkingStepLength                  21480\n",
       "WalkingSpeed                       21480\n",
       "WalkingDoubleSupportPercentage     20051\n",
       "EnvironmentalAudioExposure         18669\n",
       "RespiratoryRate                    18650\n",
       "AppleExerciseTime                  14376\n",
       "WalkingAsymmetryPercentage         13382\n",
       "AppleStandHour                      9937\n",
       "HeadphoneAudioExposure              9255\n",
       "HeartRateVariabilitySDNN            4821\n",
       "TimeInDaylight                      4709\n",
       "EnvironmentalSoundReduction         2079\n",
       "FlightsClimbed                      1340\n",
       "StairDescentSpeed                    845\n",
       "StairAscentSpeed                     652\n",
       "AudioExposureEvent                   634\n",
       "HandwashingEvent                     622\n",
       "WalkingHeartRateAverage              577\n",
       "RestingHeartRate                     558\n",
       "HighHeartRateEvent                   476\n",
       "DistanceCycling                      339\n",
       "VO2Max                               135\n",
       "AppleWalkingSteadiness               123\n",
       "SixMinuteWalkTestDistance             62\n",
       "HeartRateRecoveryOneMinute            51\n",
       "RunningSpeed                          15\n",
       "MindfulSession                        10\n",
       "LowCardioFitnessEvent                  5\n",
       "RunningPower                           4\n",
       "RunningGroundContactTime               2\n",
       "RunningStrideLength                    2\n",
       "RunningVerticalOscillation             2\n",
       "HKDataTypeSleepDurationGoal            1\n",
       "Height                                 1\n",
       "BodyMass                               1\n",
       "Name: count, dtype: int64"
      ]
     },
     "execution_count": 26,
     "metadata": {},
     "output_type": "execute_result"
    }
   ],
   "source": [
    "#number of rows in each type of workout sorted in descending order\n",
    "workout_type_count = df['type'].value_counts()\n",
    "\n",
    "workout_type_count\n"
   ]
  },
  {
   "cell_type": "code",
   "execution_count": 22,
   "metadata": {},
   "outputs": [
    {
     "name": "stdout",
     "output_type": "stream",
     "text": [
      "StepCount: 47309 rows\n",
      "DistanceWalkingRunning: 68255 rows\n",
      "WalkingDoubleSupportPercentage: 20051 rows\n",
      "WalkingStepLength: 21480 rows\n",
      "WalkingAsymmetryPercentage: 13382 rows\n",
      "WalkingSpeed: 21480 rows\n",
      "FlightsClimbed: 1340 rows\n",
      "HeadphoneAudioExposure: 9255 rows\n",
      "PhysicalEffort: 99623 rows\n",
      "HeartRate: 181554 rows\n",
      "ActiveEnergyBurned: 194675 rows\n",
      "BasalEnergyBurned: 95882 rows\n",
      "HeartRateVariabilitySDNN: 4821 rows\n",
      "AppleStandTime: 24687 rows\n",
      "EnvironmentalAudioExposure: 18669 rows\n",
      "AppleStandHour: 9937 rows\n",
      "HandwashingEvent: 622 rows\n",
      "RespiratoryRate: 18650 rows\n",
      "SleepAnalysis: 22047 rows\n",
      "RestingHeartRate: 558 rows\n",
      "WalkingHeartRateAverage: 577 rows\n",
      "AppleExerciseTime: 14376 rows\n",
      "TimeInDaylight: 4709 rows\n",
      "StairDescentSpeed: 845 rows\n",
      "StairAscentSpeed: 652 rows\n",
      "VO2Max: 135 rows\n",
      "EnvironmentalSoundReduction: 2079 rows\n",
      "HighHeartRateEvent: 476 rows\n",
      "AudioExposureEvent: 634 rows\n",
      "AppleWalkingSteadiness: 123 rows\n",
      "DistanceCycling: 339 rows\n",
      "nan: 0 rows\n",
      "SixMinuteWalkTestDistance: 62 rows\n",
      "HeartRateRecoveryOneMinute: 51 rows\n",
      "LowCardioFitnessEvent: 5 rows\n",
      "RunningPower: 4 rows\n",
      "RunningSpeed: 15 rows\n",
      "MindfulSession: 10 rows\n",
      "RunningGroundContactTime: 2 rows\n",
      "RunningStrideLength: 2 rows\n",
      "RunningVerticalOscillation: 2 rows\n",
      "HKDataTypeSleepDurationGoal: 1 rows\n",
      "Height: 1 rows\n",
      "BodyMass: 1 rows\n"
     ]
    }
   ],
   "source": [
    "#number of rows in each workout type \n",
    "for workout in workout_type:\n",
    "    print(f'{workout}: {df[df[\"type\"] == workout].shape[0]} rows')\n",
    "    "
   ]
  },
  {
   "cell_type": "code",
   "execution_count": 24,
   "metadata": {},
   "outputs": [],
   "source": [
    "#arrange the workout type in descending order\n",
    "workout_counts = df['type'].value_counts()\n",
    "\n",
    "workout_counts = workout_counts.sort_values(ascending=False)\n"
   ]
  },
  {
   "cell_type": "code",
   "execution_count": 25,
   "metadata": {},
   "outputs": [
    {
     "data": {
      "text/plain": [
       "array(['StepCount', 'DistanceWalkingRunning',\n",
       "       'WalkingDoubleSupportPercentage', 'WalkingStepLength',\n",
       "       'WalkingAsymmetryPercentage', 'WalkingSpeed', 'FlightsClimbed',\n",
       "       'HeadphoneAudioExposure', 'PhysicalEffort', 'HeartRate',\n",
       "       'ActiveEnergyBurned', 'BasalEnergyBurned',\n",
       "       'HeartRateVariabilitySDNN', 'AppleStandTime',\n",
       "       'EnvironmentalAudioExposure', 'AppleStandHour', 'HandwashingEvent',\n",
       "       'RespiratoryRate', 'SleepAnalysis', 'RestingHeartRate',\n",
       "       'WalkingHeartRateAverage', 'AppleExerciseTime', 'TimeInDaylight',\n",
       "       'StairDescentSpeed', 'StairAscentSpeed', 'VO2Max',\n",
       "       'EnvironmentalSoundReduction', 'HighHeartRateEvent',\n",
       "       'AudioExposureEvent', 'AppleWalkingSteadiness', 'DistanceCycling',\n",
       "       nan, 'SixMinuteWalkTestDistance', 'HeartRateRecoveryOneMinute',\n",
       "       'LowCardioFitnessEvent', 'RunningPower', 'RunningSpeed',\n",
       "       'MindfulSession', 'RunningGroundContactTime',\n",
       "       'RunningStrideLength', 'RunningVerticalOscillation',\n",
       "       'HKDataTypeSleepDurationGoal', 'Height', 'BodyMass'], dtype=object)"
      ]
     },
     "execution_count": 25,
     "metadata": {},
     "output_type": "execute_result"
    }
   ],
   "source": [
    "workout_type"
   ]
  },
  {
   "cell_type": "code",
   "execution_count": null,
   "metadata": {},
   "outputs": [],
   "source": []
  }
 ],
 "metadata": {
  "kernelspec": {
   "display_name": "captionKraftNov25",
   "language": "python",
   "name": "python3"
  },
  "language_info": {
   "codemirror_mode": {
    "name": "ipython",
    "version": 3
   },
   "file_extension": ".py",
   "mimetype": "text/x-python",
   "name": "python",
   "nbconvert_exporter": "python",
   "pygments_lexer": "ipython3",
   "version": "3.9.7"
  },
  "orig_nbformat": 4
 },
 "nbformat": 4,
 "nbformat_minor": 2
}
