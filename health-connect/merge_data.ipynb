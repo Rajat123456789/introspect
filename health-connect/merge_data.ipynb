{
 "cells": [
  {
   "cell_type": "code",
   "execution_count": null,
   "metadata": {},
   "outputs": [
    {
     "name": "stdout",
     "output_type": "stream",
     "text": [
      "✅ Merged data saved to merged_health_data.csv\n"
     ]
    },
    {
     "name": "stderr",
     "output_type": "stream",
     "text": [
      "C:\\Users\\somes\\AppData\\Local\\Temp\\ipykernel_68536\\593499646.py:34: FutureWarning: 'T' is deprecated and will be removed in a future version, please use 'min' instead.\n",
      "  df_combined[\"start\"] = df_combined[\"start\"].dt.floor(\"T\")\n",
      "C:\\Users\\somes\\AppData\\Local\\Temp\\ipykernel_68536\\593499646.py:47: FutureWarning: 'T' is deprecated and will be removed in a future version, please use 'min' instead.\n",
      "  df_heart_rate_filtered[\"minute_group\"] = df_heart_rate_filtered[\"start\"].dt.floor(\"10T\")  # Round to 10-minute intervals\n"
     ]
    },
    {
     "ename": "",
     "evalue": "",
     "output_type": "error",
     "traceback": [
      "\u001b[1;31mThe Kernel crashed while executing code in the current cell or a previous cell. \n",
      "\u001b[1;31mPlease review the code in the cell(s) to identify a possible cause of the failure. \n",
      "\u001b[1;31mClick <a href='https://aka.ms/vscodeJupyterKernelCrash'>here</a> for more info. \n",
      "\u001b[1;31mView Jupyter <a href='command:jupyter.viewOutput'>log</a> for further details."
     ]
    }
   ],
   "source": [
    "import os\n",
    "import pandas as pd\n",
    "\n",
    "# Directory containing all metric CSV files\n",
    "username = \"someshbgd3\"\n",
    "data_dir = f\"Data/{username}/Cleaned\"\n",
    "\n",
    "# List all CSV files in the directory\n",
    "csv_files = [f for f in os.listdir(data_dir) if f.endswith(\".csv\")]\n",
    "\n",
    "# Dictionary to store DataFrames\n",
    "dfs = {}\n",
    "\n",
    "# Load all CSVs into a dictionary\n",
    "for file in csv_files:\n",
    "    file_path = os.path.join(data_dir, file)\n",
    "    \n",
    "    try:\n",
    "        df = pd.read_csv(file_path)\n",
    "        \n",
    "        # Ensure 'start' is in datetime format\n",
    "        df[\"start\"] = pd.to_datetime(df[\"start\"], errors=\"coerce\")\n",
    "        metric_name = file.replace(\".csv\", \"\").split(\"_\")[-1]\n",
    "        df[\"metric\"] = metric_name  # Add a column for the metric name\n",
    "        dfs[metric_name] = df\n",
    "\n",
    "    except Exception as e:\n",
    "        print(f\"❌ Error reading {file}: {e}\")\n",
    "\n",
    "# Combine all metrics into a single DataFrame\n",
    "df_combined = pd.concat(dfs.values(), ignore_index=True)\n",
    "\n",
    "# Round 'start' time to the nearest minute\n",
    "df_combined[\"start\"] = df_combined[\"start\"].dt.floor(\"T\")\n",
    "\n",
    "# Identify heart rate data\n",
    "df_heart_rate = df_combined[df_combined[\"metric\"] == \"heartRate\"]\n",
    "\n",
    "# Identify all other metrics\n",
    "df_other_metrics = df_combined[df_combined[\"metric\"] != \"heartRate\"]\n",
    "\n",
    "# Find minutes where other metrics exist\n",
    "existing_metrics_time = df_other_metrics[\"start\"].unique()\n",
    "\n",
    "# If heart rate is the only metric, downsample to every 10 minutes\n",
    "df_heart_rate_filtered = df_heart_rate.copy()\n",
    "df_heart_rate_filtered[\"minute_group\"] = df_heart_rate_filtered[\"start\"].dt.floor(\"10T\")  # Round to 10-minute intervals\n",
    "\n",
    "# Only keep 1 record per 10-minute interval **IF** there are no other metrics\n",
    "df_heart_rate_filtered = df_heart_rate_filtered[\n",
    "    df_heart_rate_filtered[\"start\"].isin(existing_metrics_time) | \n",
    "    (df_heart_rate_filtered.groupby(\"minute_group\")[\"start\"].transform(\"first\") == df_heart_rate_filtered[\"start\"])\n",
    "].drop(columns=[\"minute_group\"])\n",
    "\n",
    "# Combine heart rate and other metrics\n",
    "df_final = pd.concat([df_heart_rate_filtered, df_other_metrics], ignore_index=True)\n",
    "\n",
    "# Save the merged file\n",
    "output_file = \"merged_health_data.csv\"\n",
    "df_final.to_csv(output_file, index=False)\n",
    "\n",
    "print(f\"✅ Merged data saved to {output_file}\")\n"
   ]
  }
 ],
 "metadata": {
  "kernelspec": {
   "display_name": "introspectai_env",
   "language": "python",
   "name": "python3"
  },
  "language_info": {
   "codemirror_mode": {
    "name": "ipython",
    "version": 3
   },
   "file_extension": ".py",
   "mimetype": "text/x-python",
   "name": "python",
   "nbconvert_exporter": "python",
   "pygments_lexer": "ipython3",
   "version": "-1.-1.-1"
  }
 },
 "nbformat": 4,
 "nbformat_minor": 2
}
