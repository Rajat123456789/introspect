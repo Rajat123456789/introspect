{
 "cells": [
  {
   "cell_type": "code",
   "execution_count": 6,
   "metadata": {},
   "outputs": [
    {
     "name": "stderr",
     "output_type": "stream",
     "text": [
      "HTTP Error for GET to https://api.spotify.com/v1/audio-features/?ids=3HFjh7QljnUCBLsoTwMuTj with Params: {} returned 403 due to None\n",
      "HTTP Error for GET to https://api.spotify.com/v1/audio-features/?ids=56zZ48jdyY2oDXHVnwg5Di with Params: {} returned 403 due to None\n"
     ]
    },
    {
     "name": "stdout",
     "output_type": "stream",
     "text": [
      "Processing batch 1 of 29\n",
      "Error fetching features for track 3HFjh7QljnUCBLsoTwMuTj: http status: 403, code:-1 - https://api.spotify.com/v1/audio-features/?ids=3HFjh7QljnUCBLsoTwMuTj:\n",
      " None, reason: None\n",
      "Error fetching features for track 56zZ48jdyY2oDXHVnwg5Di: http status: 403, code:-1 - https://api.spotify.com/v1/audio-features/?ids=56zZ48jdyY2oDXHVnwg5Di:\n",
      " None, reason: None\n"
     ]
    },
    {
     "name": "stderr",
     "output_type": "stream",
     "text": [
      "HTTP Error for GET to https://api.spotify.com/v1/audio-features/?ids=5PvwPy5eRO8BPwpRzCHK3D with Params: {} returned 403 due to None\n",
      "HTTP Error for GET to https://api.spotify.com/v1/audio-features/?ids=0WNCYgCd33LnBnw22WFuq8 with Params: {} returned 403 due to None\n",
      "HTTP Error for GET to https://api.spotify.com/v1/audio-features/?ids=0d7cAnv2jF9H0pqNhovl7f with Params: {} returned 403 due to None\n",
      "HTTP Error for GET to https://api.spotify.com/v1/audio-features/?ids=5fwRhPXAvGgzUxW62ZCvEg with Params: {} returned 403 due to None\n"
     ]
    },
    {
     "name": "stdout",
     "output_type": "stream",
     "text": [
      "Error fetching features for track 5PvwPy5eRO8BPwpRzCHK3D: http status: 403, code:-1 - https://api.spotify.com/v1/audio-features/?ids=5PvwPy5eRO8BPwpRzCHK3D:\n",
      " None, reason: None\n",
      "Error fetching features for track 0WNCYgCd33LnBnw22WFuq8: http status: 403, code:-1 - https://api.spotify.com/v1/audio-features/?ids=0WNCYgCd33LnBnw22WFuq8:\n",
      " None, reason: None\n",
      "Error fetching features for track 0d7cAnv2jF9H0pqNhovl7f: http status: 403, code:-1 - https://api.spotify.com/v1/audio-features/?ids=0d7cAnv2jF9H0pqNhovl7f:\n",
      " None, reason: None\n",
      "Error fetching features for track 5fwRhPXAvGgzUxW62ZCvEg: http status: 403, code:-1 - https://api.spotify.com/v1/audio-features/?ids=5fwRhPXAvGgzUxW62ZCvEg:\n",
      " None, reason: None\n"
     ]
    },
    {
     "name": "stderr",
     "output_type": "stream",
     "text": [
      "HTTP Error for GET to https://api.spotify.com/v1/audio-features/?ids=7JGgKHHDgJCJkQCQxyHHdl with Params: {} returned 403 due to None\n",
      "HTTP Error for GET to https://api.spotify.com/v1/audio-features/?ids=4wIWWEhbdgKAxhR68eE0Ye with Params: {} returned 403 due to None\n",
      "HTTP Error for GET to https://api.spotify.com/v1/audio-features/?ids=5fwRhPXAvGgzUxW62ZCvEg with Params: {} returned 403 due to None\n",
      "HTTP Error for GET to https://api.spotify.com/v1/audio-features/?ids=1O5mTSQa0sCce9ghhDqIZl with Params: {} returned 403 due to None\n"
     ]
    },
    {
     "name": "stdout",
     "output_type": "stream",
     "text": [
      "Error fetching features for track 7JGgKHHDgJCJkQCQxyHHdl: http status: 403, code:-1 - https://api.spotify.com/v1/audio-features/?ids=7JGgKHHDgJCJkQCQxyHHdl:\n",
      " None, reason: None\n",
      "Error fetching features for track 4wIWWEhbdgKAxhR68eE0Ye: http status: 403, code:-1 - https://api.spotify.com/v1/audio-features/?ids=4wIWWEhbdgKAxhR68eE0Ye:\n",
      " None, reason: None\n",
      "Error fetching features for track 5fwRhPXAvGgzUxW62ZCvEg: http status: 403, code:-1 - https://api.spotify.com/v1/audio-features/?ids=5fwRhPXAvGgzUxW62ZCvEg:\n",
      " None, reason: None\n",
      "Error fetching features for track 1O5mTSQa0sCce9ghhDqIZl: http status: 403, code:-1 - https://api.spotify.com/v1/audio-features/?ids=1O5mTSQa0sCce9ghhDqIZl:\n",
      " None, reason: None\n"
     ]
    },
    {
     "name": "stderr",
     "output_type": "stream",
     "text": [
      "HTTP Error for GET to https://api.spotify.com/v1/audio-features/?ids=38CsBmfZ7eAvmTG7r6NGIJ with Params: {} returned 403 due to None\n",
      "HTTP Error for GET to https://api.spotify.com/v1/audio-features/?ids=7wrYBASu0OoxoDErd4Edxd with Params: {} returned 403 due to None\n",
      "HTTP Error for GET to https://api.spotify.com/v1/audio-features/?ids=3hoXhwP0ub9LdSJV4olDIc with Params: {} returned 403 due to None\n",
      "HTTP Error for GET to https://api.spotify.com/v1/audio-features/?ids=2GXXZFUxYg2LvG8SR0byOE with Params: {} returned 403 due to None\n"
     ]
    },
    {
     "name": "stdout",
     "output_type": "stream",
     "text": [
      "Error fetching features for track 38CsBmfZ7eAvmTG7r6NGIJ: http status: 403, code:-1 - https://api.spotify.com/v1/audio-features/?ids=38CsBmfZ7eAvmTG7r6NGIJ:\n",
      " None, reason: None\n",
      "Error fetching features for track 7wrYBASu0OoxoDErd4Edxd: http status: 403, code:-1 - https://api.spotify.com/v1/audio-features/?ids=7wrYBASu0OoxoDErd4Edxd:\n",
      " None, reason: None\n",
      "Error fetching features for track 3hoXhwP0ub9LdSJV4olDIc: http status: 403, code:-1 - https://api.spotify.com/v1/audio-features/?ids=3hoXhwP0ub9LdSJV4olDIc:\n",
      " None, reason: None\n",
      "Error fetching features for track 2GXXZFUxYg2LvG8SR0byOE: http status: 403, code:-1 - https://api.spotify.com/v1/audio-features/?ids=2GXXZFUxYg2LvG8SR0byOE:\n",
      " None, reason: None\n"
     ]
    },
    {
     "name": "stderr",
     "output_type": "stream",
     "text": [
      "HTTP Error for GET to https://api.spotify.com/v1/audio-features/?ids=7y2LdSannuZhlHK3eTOyly with Params: {} returned 403 due to None\n",
      "HTTP Error for GET to https://api.spotify.com/v1/audio-features/?ids=5fwRhPXAvGgzUxW62ZCvEg with Params: {} returned 403 due to None\n",
      "HTTP Error for GET to https://api.spotify.com/v1/audio-features/?ids=02N5ZxOVugGQmKeIT0VXUx with Params: {} returned 403 due to None\n",
      "HTTP Error for GET to https://api.spotify.com/v1/audio-features/?ids=7y2LdSannuZhlHK3eTOyly with Params: {} returned 403 due to None\n"
     ]
    },
    {
     "name": "stdout",
     "output_type": "stream",
     "text": [
      "Error fetching features for track 7y2LdSannuZhlHK3eTOyly: http status: 403, code:-1 - https://api.spotify.com/v1/audio-features/?ids=7y2LdSannuZhlHK3eTOyly:\n",
      " None, reason: None\n",
      "Error fetching features for track 5fwRhPXAvGgzUxW62ZCvEg: http status: 403, code:-1 - https://api.spotify.com/v1/audio-features/?ids=5fwRhPXAvGgzUxW62ZCvEg:\n",
      " None, reason: None\n",
      "Error fetching features for track 02N5ZxOVugGQmKeIT0VXUx: http status: 403, code:-1 - https://api.spotify.com/v1/audio-features/?ids=02N5ZxOVugGQmKeIT0VXUx:\n",
      " None, reason: None\n",
      "Error fetching features for track 7y2LdSannuZhlHK3eTOyly: http status: 403, code:-1 - https://api.spotify.com/v1/audio-features/?ids=7y2LdSannuZhlHK3eTOyly:\n",
      " None, reason: None\n"
     ]
    },
    {
     "name": "stderr",
     "output_type": "stream",
     "text": [
      "HTTP Error for GET to https://api.spotify.com/v1/audio-features/?ids=00wU6YKnzNlavZ1TPpLUlp with Params: {} returned 403 due to None\n",
      "HTTP Error for GET to https://api.spotify.com/v1/audio-features/?ids=02zPo0Dt0R4TTFY5zLJZnK with Params: {} returned 403 due to None\n",
      "HTTP Error for GET to https://api.spotify.com/v1/audio-features/?ids=0whjGr7gU3X93lNTpLQhys with Params: {} returned 403 due to None\n",
      "HTTP Error for GET to https://api.spotify.com/v1/audio-features/?ids=0m23fTE5D9lfYyVyfm5RoL with Params: {} returned 403 due to None\n"
     ]
    },
    {
     "name": "stdout",
     "output_type": "stream",
     "text": [
      "Error fetching features for track 00wU6YKnzNlavZ1TPpLUlp: http status: 403, code:-1 - https://api.spotify.com/v1/audio-features/?ids=00wU6YKnzNlavZ1TPpLUlp:\n",
      " None, reason: None\n",
      "Error fetching features for track 02zPo0Dt0R4TTFY5zLJZnK: http status: 403, code:-1 - https://api.spotify.com/v1/audio-features/?ids=02zPo0Dt0R4TTFY5zLJZnK:\n",
      " None, reason: None\n",
      "Error fetching features for track 0whjGr7gU3X93lNTpLQhys: http status: 403, code:-1 - https://api.spotify.com/v1/audio-features/?ids=0whjGr7gU3X93lNTpLQhys:\n",
      " None, reason: None\n",
      "Error fetching features for track 0m23fTE5D9lfYyVyfm5RoL: http status: 403, code:-1 - https://api.spotify.com/v1/audio-features/?ids=0m23fTE5D9lfYyVyfm5RoL:\n",
      " None, reason: None\n"
     ]
    },
    {
     "name": "stderr",
     "output_type": "stream",
     "text": [
      "HTTP Error for GET to https://api.spotify.com/v1/audio-features/?ids=45lNSRwDxSACwGtblFOak5 with Params: {} returned 403 due to None\n",
      "HTTP Error for GET to https://api.spotify.com/v1/audio-features/?ids=2Is7ElE0yrqns54eNSw4Jt with Params: {} returned 403 due to None\n",
      "HTTP Error for GET to https://api.spotify.com/v1/audio-features/?ids=5O4AGvOVFSs5ipu3iNOuoi with Params: {} returned 403 due to None\n",
      "HTTP Error for GET to https://api.spotify.com/v1/audio-features/?ids=1mPNK9DQVA7gJNtJ20PZu3 with Params: {} returned 403 due to None\n"
     ]
    },
    {
     "name": "stdout",
     "output_type": "stream",
     "text": [
      "Error fetching features for track 45lNSRwDxSACwGtblFOak5: http status: 403, code:-1 - https://api.spotify.com/v1/audio-features/?ids=45lNSRwDxSACwGtblFOak5:\n",
      " None, reason: None\n",
      "Error fetching features for track 2Is7ElE0yrqns54eNSw4Jt: http status: 403, code:-1 - https://api.spotify.com/v1/audio-features/?ids=2Is7ElE0yrqns54eNSw4Jt:\n",
      " None, reason: None\n",
      "Error fetching features for track 5O4AGvOVFSs5ipu3iNOuoi: http status: 403, code:-1 - https://api.spotify.com/v1/audio-features/?ids=5O4AGvOVFSs5ipu3iNOuoi:\n",
      " None, reason: None\n",
      "Error fetching features for track 1mPNK9DQVA7gJNtJ20PZu3: http status: 403, code:-1 - https://api.spotify.com/v1/audio-features/?ids=1mPNK9DQVA7gJNtJ20PZu3:\n",
      " None, reason: None\n"
     ]
    },
    {
     "name": "stderr",
     "output_type": "stream",
     "text": [
      "HTTP Error for GET to https://api.spotify.com/v1/audio-features/?ids=1vmQPVE7vbgSZ12C8MlKX8 with Params: {} returned 403 due to None\n",
      "HTTP Error for GET to https://api.spotify.com/v1/audio-features/?ids=6TGX01ExmdHyOG72fqUU3Q with Params: {} returned 403 due to None\n",
      "HTTP Error for GET to https://api.spotify.com/v1/audio-features/?ids=5aiP2xmxndmb6DnbanCXlv with Params: {} returned 403 due to None\n",
      "HTTP Error for GET to https://api.spotify.com/v1/audio-features/?ids=4ujalVER2NLazVozUVllxw with Params: {} returned 403 due to None\n"
     ]
    },
    {
     "name": "stdout",
     "output_type": "stream",
     "text": [
      "Error fetching features for track 1vmQPVE7vbgSZ12C8MlKX8: http status: 403, code:-1 - https://api.spotify.com/v1/audio-features/?ids=1vmQPVE7vbgSZ12C8MlKX8:\n",
      " None, reason: None\n",
      "Error fetching features for track 6TGX01ExmdHyOG72fqUU3Q: http status: 403, code:-1 - https://api.spotify.com/v1/audio-features/?ids=6TGX01ExmdHyOG72fqUU3Q:\n",
      " None, reason: None\n",
      "Error fetching features for track 5aiP2xmxndmb6DnbanCXlv: http status: 403, code:-1 - https://api.spotify.com/v1/audio-features/?ids=5aiP2xmxndmb6DnbanCXlv:\n",
      " None, reason: None\n",
      "Error fetching features for track 4ujalVER2NLazVozUVllxw: http status: 403, code:-1 - https://api.spotify.com/v1/audio-features/?ids=4ujalVER2NLazVozUVllxw:\n",
      " None, reason: None\n"
     ]
    },
    {
     "name": "stderr",
     "output_type": "stream",
     "text": [
      "HTTP Error for GET to https://api.spotify.com/v1/audio-features/?ids=7sSYkaAXRgnzoQYrGgrvlX with Params: {} returned 403 due to None\n",
      "HTTP Error for GET to https://api.spotify.com/v1/audio-features/?ids=3OAFzjwWionh8OfM4kgf2R with Params: {} returned 403 due to None\n",
      "HTTP Error for GET to https://api.spotify.com/v1/audio-features/?ids=7sSYkaAXRgnzoQYrGgrvlX with Params: {} returned 403 due to None\n",
      "HTTP Error for GET to https://api.spotify.com/v1/audio-features/?ids=6Fdg2TXeZes5rSYYfrJ1hV with Params: {} returned 403 due to None\n"
     ]
    },
    {
     "name": "stdout",
     "output_type": "stream",
     "text": [
      "Error fetching features for track 7sSYkaAXRgnzoQYrGgrvlX: http status: 403, code:-1 - https://api.spotify.com/v1/audio-features/?ids=7sSYkaAXRgnzoQYrGgrvlX:\n",
      " None, reason: None\n",
      "Error fetching features for track 3OAFzjwWionh8OfM4kgf2R: http status: 403, code:-1 - https://api.spotify.com/v1/audio-features/?ids=3OAFzjwWionh8OfM4kgf2R:\n",
      " None, reason: None\n",
      "Error fetching features for track 7sSYkaAXRgnzoQYrGgrvlX: http status: 403, code:-1 - https://api.spotify.com/v1/audio-features/?ids=7sSYkaAXRgnzoQYrGgrvlX:\n",
      " None, reason: None\n",
      "Error fetching features for track 6Fdg2TXeZes5rSYYfrJ1hV: http status: 403, code:-1 - https://api.spotify.com/v1/audio-features/?ids=6Fdg2TXeZes5rSYYfrJ1hV:\n",
      " None, reason: None\n"
     ]
    },
    {
     "name": "stderr",
     "output_type": "stream",
     "text": [
      "HTTP Error for GET to https://api.spotify.com/v1/audio-features/?ids=03GR8YoEsu0qPUGC13X8C1 with Params: {} returned 403 due to None\n",
      "HTTP Error for GET to https://api.spotify.com/v1/audio-features/?ids=3i11e2jzUtO3jChiFl3v9x with Params: {} returned 403 due to None\n",
      "HTTP Error for GET to https://api.spotify.com/v1/audio-features/?ids=4M7pu2MwyGysZM4deGXueq with Params: {} returned 403 due to None\n",
      "HTTP Error for GET to https://api.spotify.com/v1/audio-features/?ids=6fABlNfAOylt7ZxfX8K1XL with Params: {} returned 403 due to None\n"
     ]
    },
    {
     "name": "stdout",
     "output_type": "stream",
     "text": [
      "Error fetching features for track 03GR8YoEsu0qPUGC13X8C1: http status: 403, code:-1 - https://api.spotify.com/v1/audio-features/?ids=03GR8YoEsu0qPUGC13X8C1:\n",
      " None, reason: None\n",
      "Error fetching features for track 3i11e2jzUtO3jChiFl3v9x: http status: 403, code:-1 - https://api.spotify.com/v1/audio-features/?ids=3i11e2jzUtO3jChiFl3v9x:\n",
      " None, reason: None\n",
      "Error fetching features for track 4M7pu2MwyGysZM4deGXueq: http status: 403, code:-1 - https://api.spotify.com/v1/audio-features/?ids=4M7pu2MwyGysZM4deGXueq:\n",
      " None, reason: None\n",
      "Error fetching features for track 6fABlNfAOylt7ZxfX8K1XL: http status: 403, code:-1 - https://api.spotify.com/v1/audio-features/?ids=6fABlNfAOylt7ZxfX8K1XL:\n",
      " None, reason: None\n"
     ]
    },
    {
     "name": "stderr",
     "output_type": "stream",
     "text": [
      "HTTP Error for GET to https://api.spotify.com/v1/audio-features/?ids=63ideCSFf24cQzGdgg4kjG with Params: {} returned 403 due to None\n",
      "HTTP Error for GET to https://api.spotify.com/v1/audio-features/?ids=0WNCYgCd33LnBnw22WFuq8 with Params: {} returned 403 due to None\n",
      "HTTP Error for GET to https://api.spotify.com/v1/audio-features/?ids=723xQva0yBF7M6K3nDAG8R with Params: {} returned 403 due to None\n",
      "HTTP Error for GET to https://api.spotify.com/v1/audio-features/?ids=7y2LdSannuZhlHK3eTOyly with Params: {} returned 403 due to None\n"
     ]
    },
    {
     "name": "stdout",
     "output_type": "stream",
     "text": [
      "Error fetching features for track 63ideCSFf24cQzGdgg4kjG: http status: 403, code:-1 - https://api.spotify.com/v1/audio-features/?ids=63ideCSFf24cQzGdgg4kjG:\n",
      " None, reason: None\n",
      "Error fetching features for track 0WNCYgCd33LnBnw22WFuq8: http status: 403, code:-1 - https://api.spotify.com/v1/audio-features/?ids=0WNCYgCd33LnBnw22WFuq8:\n",
      " None, reason: None\n",
      "Error fetching features for track 723xQva0yBF7M6K3nDAG8R: http status: 403, code:-1 - https://api.spotify.com/v1/audio-features/?ids=723xQva0yBF7M6K3nDAG8R:\n",
      " None, reason: None\n",
      "Error fetching features for track 7y2LdSannuZhlHK3eTOyly: http status: 403, code:-1 - https://api.spotify.com/v1/audio-features/?ids=7y2LdSannuZhlHK3eTOyly:\n",
      " None, reason: None\n"
     ]
    },
    {
     "name": "stderr",
     "output_type": "stream",
     "text": [
      "HTTP Error for GET to https://api.spotify.com/v1/audio-features/?ids=189DQylImZ1hGZaIpAQUzx with Params: {} returned 403 due to None\n",
      "HTTP Error for GET to https://api.spotify.com/v1/audio-features/?ids=7sSYkaAXRgnzoQYrGgrvlX with Params: {} returned 403 due to None\n",
      "HTTP Error for GET to https://api.spotify.com/v1/audio-features/?ids=1DsQyEshUaan0BBb7fUQHr with Params: {} returned 403 due to None\n",
      "HTTP Error for GET to https://api.spotify.com/v1/audio-features/?ids=3TAhWtQnpoL5Vl9VQPl9fU with Params: {} returned 403 due to None\n"
     ]
    },
    {
     "name": "stdout",
     "output_type": "stream",
     "text": [
      "Error fetching features for track 189DQylImZ1hGZaIpAQUzx: http status: 403, code:-1 - https://api.spotify.com/v1/audio-features/?ids=189DQylImZ1hGZaIpAQUzx:\n",
      " None, reason: None\n",
      "Error fetching features for track 7sSYkaAXRgnzoQYrGgrvlX: http status: 403, code:-1 - https://api.spotify.com/v1/audio-features/?ids=7sSYkaAXRgnzoQYrGgrvlX:\n",
      " None, reason: None\n",
      "Error fetching features for track 1DsQyEshUaan0BBb7fUQHr: http status: 403, code:-1 - https://api.spotify.com/v1/audio-features/?ids=1DsQyEshUaan0BBb7fUQHr:\n",
      " None, reason: None\n",
      "Error fetching features for track 3TAhWtQnpoL5Vl9VQPl9fU: http status: 403, code:-1 - https://api.spotify.com/v1/audio-features/?ids=3TAhWtQnpoL5Vl9VQPl9fU:\n",
      " None, reason: None\n"
     ]
    },
    {
     "name": "stderr",
     "output_type": "stream",
     "text": [
      "HTTP Error for GET to https://api.spotify.com/v1/audio-features/?ids=7FsbfCdgaITFyfA51iur79 with Params: {} returned 403 due to None\n",
      "HTTP Error for GET to https://api.spotify.com/v1/audio-features/?ids=1wnozUBSe7OMpmZiTPJC5j with Params: {} returned 403 due to None\n",
      "HTTP Error for GET to https://api.spotify.com/v1/audio-features/?ids=5j0djbgoEhOeGTXw6OaBjo with Params: {} returned 403 due to None\n",
      "HTTP Error for GET to https://api.spotify.com/v1/audio-features/?ids=5YHEjmGmxm1vxYmgWo3y33 with Params: {} returned 403 due to None\n"
     ]
    },
    {
     "name": "stdout",
     "output_type": "stream",
     "text": [
      "Error fetching features for track 7FsbfCdgaITFyfA51iur79: http status: 403, code:-1 - https://api.spotify.com/v1/audio-features/?ids=7FsbfCdgaITFyfA51iur79:\n",
      " None, reason: None\n",
      "Error fetching features for track 1wnozUBSe7OMpmZiTPJC5j: http status: 403, code:-1 - https://api.spotify.com/v1/audio-features/?ids=1wnozUBSe7OMpmZiTPJC5j:\n",
      " None, reason: None\n",
      "Error fetching features for track 5j0djbgoEhOeGTXw6OaBjo: http status: 403, code:-1 - https://api.spotify.com/v1/audio-features/?ids=5j0djbgoEhOeGTXw6OaBjo:\n",
      " None, reason: None\n",
      "Error fetching features for track 5YHEjmGmxm1vxYmgWo3y33: http status: 403, code:-1 - https://api.spotify.com/v1/audio-features/?ids=5YHEjmGmxm1vxYmgWo3y33:\n",
      " None, reason: None\n"
     ]
    },
    {
     "name": "stderr",
     "output_type": "stream",
     "text": [
      "HTTP Error for GET to https://api.spotify.com/v1/audio-features/?ids=1ZAqYLDGyvHfFZDc3kX12V with Params: {} returned 403 due to None\n",
      "HTTP Error for GET to https://api.spotify.com/v1/audio-features/?ids=5LSAafg2oH9YPgf3EG17iw with Params: {} returned 403 due to None\n",
      "HTTP Error for GET to https://api.spotify.com/v1/audio-features/?ids=1QQqHS80CpR8tA2lR8O65y with Params: {} returned 403 due to None\n"
     ]
    },
    {
     "name": "stdout",
     "output_type": "stream",
     "text": [
      "Processing batch 2 of 29\n",
      "Error fetching features for track 1ZAqYLDGyvHfFZDc3kX12V: http status: 403, code:-1 - https://api.spotify.com/v1/audio-features/?ids=1ZAqYLDGyvHfFZDc3kX12V:\n",
      " None, reason: None\n",
      "Error fetching features for track 5LSAafg2oH9YPgf3EG17iw: http status: 403, code:-1 - https://api.spotify.com/v1/audio-features/?ids=5LSAafg2oH9YPgf3EG17iw:\n",
      " None, reason: None\n",
      "Error fetching features for track 1QQqHS80CpR8tA2lR8O65y: http status: 403, code:-1 - https://api.spotify.com/v1/audio-features/?ids=1QQqHS80CpR8tA2lR8O65y:\n",
      " None, reason: None\n"
     ]
    },
    {
     "name": "stderr",
     "output_type": "stream",
     "text": [
      "HTTP Error for GET to https://api.spotify.com/v1/audio-features/?ids=6wXPV6dNRAhFavrRaCdMXT with Params: {} returned 403 due to None\n",
      "HTTP Error for GET to https://api.spotify.com/v1/audio-features/?ids=723xQva0yBF7M6K3nDAG8R with Params: {} returned 403 due to None\n",
      "HTTP Error for GET to https://api.spotify.com/v1/audio-features/?ids=189DQylImZ1hGZaIpAQUzx with Params: {} returned 403 due to None\n",
      "HTTP Error for GET to https://api.spotify.com/v1/audio-features/?ids=3Oe3VdPn6rAueriQvFhCBA with Params: {} returned 403 due to None\n"
     ]
    },
    {
     "name": "stdout",
     "output_type": "stream",
     "text": [
      "Error fetching features for track 6wXPV6dNRAhFavrRaCdMXT: http status: 403, code:-1 - https://api.spotify.com/v1/audio-features/?ids=6wXPV6dNRAhFavrRaCdMXT:\n",
      " None, reason: None\n",
      "Error fetching features for track 723xQva0yBF7M6K3nDAG8R: http status: 403, code:-1 - https://api.spotify.com/v1/audio-features/?ids=723xQva0yBF7M6K3nDAG8R:\n",
      " None, reason: None\n",
      "Error fetching features for track 189DQylImZ1hGZaIpAQUzx: http status: 403, code:-1 - https://api.spotify.com/v1/audio-features/?ids=189DQylImZ1hGZaIpAQUzx:\n",
      " None, reason: None\n",
      "Error fetching features for track 3Oe3VdPn6rAueriQvFhCBA: http status: 403, code:-1 - https://api.spotify.com/v1/audio-features/?ids=3Oe3VdPn6rAueriQvFhCBA:\n",
      " None, reason: None\n"
     ]
    },
    {
     "name": "stderr",
     "output_type": "stream",
     "text": [
      "HTTP Error for GET to https://api.spotify.com/v1/audio-features/?ids=0Id2IzhR3w50aP2PHfMUE3 with Params: {} returned 403 due to None\n",
      "HTTP Error for GET to https://api.spotify.com/v1/audio-features/?ids=1pnC5d46tqFwjqGtbjJPn7 with Params: {} returned 403 due to None\n",
      "HTTP Error for GET to https://api.spotify.com/v1/audio-features/?ids=5pAo2q7eVt65OSkwYgqhHl with Params: {} returned 403 due to None\n",
      "HTTP Error for GET to https://api.spotify.com/v1/audio-features/?ids=0GQngE2rOYvlKwEQjTAsP8 with Params: {} returned 403 due to None\n"
     ]
    },
    {
     "name": "stdout",
     "output_type": "stream",
     "text": [
      "Error fetching features for track 0Id2IzhR3w50aP2PHfMUE3: http status: 403, code:-1 - https://api.spotify.com/v1/audio-features/?ids=0Id2IzhR3w50aP2PHfMUE3:\n",
      " None, reason: None\n",
      "Error fetching features for track 1pnC5d46tqFwjqGtbjJPn7: http status: 403, code:-1 - https://api.spotify.com/v1/audio-features/?ids=1pnC5d46tqFwjqGtbjJPn7:\n",
      " None, reason: None\n",
      "Error fetching features for track 5pAo2q7eVt65OSkwYgqhHl: http status: 403, code:-1 - https://api.spotify.com/v1/audio-features/?ids=5pAo2q7eVt65OSkwYgqhHl:\n",
      " None, reason: None\n",
      "Error fetching features for track 0GQngE2rOYvlKwEQjTAsP8: http status: 403, code:-1 - https://api.spotify.com/v1/audio-features/?ids=0GQngE2rOYvlKwEQjTAsP8:\n",
      " None, reason: None\n"
     ]
    },
    {
     "name": "stderr",
     "output_type": "stream",
     "text": [
      "HTTP Error for GET to https://api.spotify.com/v1/audio-features/?ids=7y2LdSannuZhlHK3eTOyly with Params: {} returned 403 due to None\n",
      "HTTP Error for GET to https://api.spotify.com/v1/audio-features/?ids=4bD9z9qa4qg9BhryvYWB7c with Params: {} returned 403 due to None\n",
      "HTTP Error for GET to https://api.spotify.com/v1/audio-features/?ids=5Cdd8p9sxRczQX6GFC8CdH with Params: {} returned 403 due to None\n",
      "HTTP Error for GET to https://api.spotify.com/v1/audio-features/?ids=2sryZMs4aLRCLbXiOl69lP with Params: {} returned 403 due to None\n"
     ]
    },
    {
     "name": "stdout",
     "output_type": "stream",
     "text": [
      "Error fetching features for track 7y2LdSannuZhlHK3eTOyly: http status: 403, code:-1 - https://api.spotify.com/v1/audio-features/?ids=7y2LdSannuZhlHK3eTOyly:\n",
      " None, reason: None\n",
      "Error fetching features for track 4bD9z9qa4qg9BhryvYWB7c: http status: 403, code:-1 - https://api.spotify.com/v1/audio-features/?ids=4bD9z9qa4qg9BhryvYWB7c:\n",
      " None, reason: None\n",
      "Error fetching features for track 5Cdd8p9sxRczQX6GFC8CdH: http status: 403, code:-1 - https://api.spotify.com/v1/audio-features/?ids=5Cdd8p9sxRczQX6GFC8CdH:\n",
      " None, reason: None\n",
      "Error fetching features for track 2sryZMs4aLRCLbXiOl69lP: http status: 403, code:-1 - https://api.spotify.com/v1/audio-features/?ids=2sryZMs4aLRCLbXiOl69lP:\n",
      " None, reason: None\n"
     ]
    },
    {
     "name": "stderr",
     "output_type": "stream",
     "text": [
      "HTTP Error for GET to https://api.spotify.com/v1/audio-features/?ids=2RgvvnMwtP0R2OkVZmFvnV with Params: {} returned 403 due to None\n",
      "HTTP Error for GET to https://api.spotify.com/v1/audio-features/?ids=5Rn1DPzSzUktbhuNDDJocS with Params: {} returned 403 due to None\n",
      "HTTP Error for GET to https://api.spotify.com/v1/audio-features/?ids=2yBxVCCJkfCuwhA0GR2VwA with Params: {} returned 403 due to None\n",
      "HTTP Error for GET to https://api.spotify.com/v1/audio-features/?ids=4isclMhMivnZzlpBAeXrK7 with Params: {} returned 403 due to None\n"
     ]
    },
    {
     "name": "stdout",
     "output_type": "stream",
     "text": [
      "Error fetching features for track 2RgvvnMwtP0R2OkVZmFvnV: http status: 403, code:-1 - https://api.spotify.com/v1/audio-features/?ids=2RgvvnMwtP0R2OkVZmFvnV:\n",
      " None, reason: None\n",
      "Error fetching features for track 5Rn1DPzSzUktbhuNDDJocS: http status: 403, code:-1 - https://api.spotify.com/v1/audio-features/?ids=5Rn1DPzSzUktbhuNDDJocS:\n",
      " None, reason: None\n",
      "Error fetching features for track 2yBxVCCJkfCuwhA0GR2VwA: http status: 403, code:-1 - https://api.spotify.com/v1/audio-features/?ids=2yBxVCCJkfCuwhA0GR2VwA:\n",
      " None, reason: None\n",
      "Error fetching features for track 4isclMhMivnZzlpBAeXrK7: http status: 403, code:-1 - https://api.spotify.com/v1/audio-features/?ids=4isclMhMivnZzlpBAeXrK7:\n",
      " None, reason: None\n"
     ]
    },
    {
     "name": "stderr",
     "output_type": "stream",
     "text": [
      "HTTP Error for GET to https://api.spotify.com/v1/audio-features/?ids=1NAeCNVQ5WbmdCHysY7Qds with Params: {} returned 403 due to None\n",
      "HTTP Error for GET to https://api.spotify.com/v1/audio-features/?ids=4vtT0OcJ8xyFHtGGmMfkKc with Params: {} returned 403 due to None\n",
      "HTTP Error for GET to https://api.spotify.com/v1/audio-features/?ids=6Us13koVdX56kworlZTQIk with Params: {} returned 403 due to None\n",
      "HTTP Error for GET to https://api.spotify.com/v1/audio-features/?ids=6UeEm5XPsleVD85kNHCu1n with Params: {} returned 403 due to None\n"
     ]
    },
    {
     "name": "stdout",
     "output_type": "stream",
     "text": [
      "Error fetching features for track 1NAeCNVQ5WbmdCHysY7Qds: http status: 403, code:-1 - https://api.spotify.com/v1/audio-features/?ids=1NAeCNVQ5WbmdCHysY7Qds:\n",
      " None, reason: None\n",
      "Error fetching features for track 4vtT0OcJ8xyFHtGGmMfkKc: http status: 403, code:-1 - https://api.spotify.com/v1/audio-features/?ids=4vtT0OcJ8xyFHtGGmMfkKc:\n",
      " None, reason: None\n",
      "Error fetching features for track 6Us13koVdX56kworlZTQIk: http status: 403, code:-1 - https://api.spotify.com/v1/audio-features/?ids=6Us13koVdX56kworlZTQIk:\n",
      " None, reason: None\n",
      "Error fetching features for track 6UeEm5XPsleVD85kNHCu1n: http status: 403, code:-1 - https://api.spotify.com/v1/audio-features/?ids=6UeEm5XPsleVD85kNHCu1n:\n",
      " None, reason: None\n"
     ]
    },
    {
     "name": "stderr",
     "output_type": "stream",
     "text": [
      "HTTP Error for GET to https://api.spotify.com/v1/audio-features/?ids=7fyNUqwla8VHtdk2a7lycW with Params: {} returned 403 due to None\n",
      "HTTP Error for GET to https://api.spotify.com/v1/audio-features/?ids=0m23fTE5D9lfYyVyfm5RoL with Params: {} returned 403 due to None\n",
      "HTTP Error for GET to https://api.spotify.com/v1/audio-features/?ids=0Sm3rEToKnYX3vIjDzrQmn with Params: {} returned 403 due to None\n",
      "HTTP Error for GET to https://api.spotify.com/v1/audio-features/?ids=7fyIuR4aaWb6iltlAoSkxF with Params: {} returned 403 due to None\n"
     ]
    },
    {
     "name": "stdout",
     "output_type": "stream",
     "text": [
      "Error fetching features for track 7fyNUqwla8VHtdk2a7lycW: http status: 403, code:-1 - https://api.spotify.com/v1/audio-features/?ids=7fyNUqwla8VHtdk2a7lycW:\n",
      " None, reason: None\n",
      "Error fetching features for track 0m23fTE5D9lfYyVyfm5RoL: http status: 403, code:-1 - https://api.spotify.com/v1/audio-features/?ids=0m23fTE5D9lfYyVyfm5RoL:\n",
      " None, reason: None\n",
      "Error fetching features for track 0Sm3rEToKnYX3vIjDzrQmn: http status: 403, code:-1 - https://api.spotify.com/v1/audio-features/?ids=0Sm3rEToKnYX3vIjDzrQmn:\n",
      " None, reason: None\n",
      "Error fetching features for track 7fyIuR4aaWb6iltlAoSkxF: http status: 403, code:-1 - https://api.spotify.com/v1/audio-features/?ids=7fyIuR4aaWb6iltlAoSkxF:\n",
      " None, reason: None\n"
     ]
    },
    {
     "name": "stderr",
     "output_type": "stream",
     "text": [
      "HTTP Error for GET to https://api.spotify.com/v1/audio-features/?ids=2IZQG2wYoVncO3hWCD4IyM with Params: {} returned 403 due to None\n",
      "HTTP Error for GET to https://api.spotify.com/v1/audio-features/?ids=255dwsEGFdK8Prtb2KObc1 with Params: {} returned 403 due to None\n",
      "HTTP Error for GET to https://api.spotify.com/v1/audio-features/?ids=09NCo4MjEUXzQ12sRoZBWJ with Params: {} returned 403 due to None\n",
      "HTTP Error for GET to https://api.spotify.com/v1/audio-features/?ids=09NCo4MjEUXzQ12sRoZBWJ with Params: {} returned 403 due to None\n"
     ]
    },
    {
     "name": "stdout",
     "output_type": "stream",
     "text": [
      "Error fetching features for track 2IZQG2wYoVncO3hWCD4IyM: http status: 403, code:-1 - https://api.spotify.com/v1/audio-features/?ids=2IZQG2wYoVncO3hWCD4IyM:\n",
      " None, reason: None\n",
      "Error fetching features for track 255dwsEGFdK8Prtb2KObc1: http status: 403, code:-1 - https://api.spotify.com/v1/audio-features/?ids=255dwsEGFdK8Prtb2KObc1:\n",
      " None, reason: None\n",
      "Error fetching features for track 09NCo4MjEUXzQ12sRoZBWJ: http status: 403, code:-1 - https://api.spotify.com/v1/audio-features/?ids=09NCo4MjEUXzQ12sRoZBWJ:\n",
      " None, reason: None\n",
      "Error fetching features for track 09NCo4MjEUXzQ12sRoZBWJ: http status: 403, code:-1 - https://api.spotify.com/v1/audio-features/?ids=09NCo4MjEUXzQ12sRoZBWJ:\n",
      " None, reason: None\n"
     ]
    },
    {
     "name": "stderr",
     "output_type": "stream",
     "text": [
      "HTTP Error for GET to https://api.spotify.com/v1/audio-features/?ids=5BE6214zFFNKBCYYj1sFpu with Params: {} returned 403 due to None\n",
      "HTTP Error for GET to https://api.spotify.com/v1/audio-features/?ids=0WBClBemYPJR44H6uIn0kp with Params: {} returned 403 due to None\n",
      "HTTP Error for GET to https://api.spotify.com/v1/audio-features/?ids=189DQylImZ1hGZaIpAQUzx with Params: {} returned 403 due to None\n",
      "HTTP Error for GET to https://api.spotify.com/v1/audio-features/?ids=2yBxVCCJkfCuwhA0GR2VwA with Params: {} returned 403 due to None\n"
     ]
    },
    {
     "name": "stdout",
     "output_type": "stream",
     "text": [
      "Error fetching features for track 5BE6214zFFNKBCYYj1sFpu: http status: 403, code:-1 - https://api.spotify.com/v1/audio-features/?ids=5BE6214zFFNKBCYYj1sFpu:\n",
      " None, reason: None\n",
      "Error fetching features for track 0WBClBemYPJR44H6uIn0kp: http status: 403, code:-1 - https://api.spotify.com/v1/audio-features/?ids=0WBClBemYPJR44H6uIn0kp:\n",
      " None, reason: None\n",
      "Error fetching features for track 189DQylImZ1hGZaIpAQUzx: http status: 403, code:-1 - https://api.spotify.com/v1/audio-features/?ids=189DQylImZ1hGZaIpAQUzx:\n",
      " None, reason: None\n",
      "Error fetching features for track 2yBxVCCJkfCuwhA0GR2VwA: http status: 403, code:-1 - https://api.spotify.com/v1/audio-features/?ids=2yBxVCCJkfCuwhA0GR2VwA:\n",
      " None, reason: None\n"
     ]
    },
    {
     "name": "stderr",
     "output_type": "stream",
     "text": [
      "HTTP Error for GET to https://api.spotify.com/v1/audio-features/?ids=7y2LdSannuZhlHK3eTOyly with Params: {} returned 403 due to None\n",
      "HTTP Error for GET to https://api.spotify.com/v1/audio-features/?ids=7IjnfuMNfdrAXbefurdIIR with Params: {} returned 403 due to None\n",
      "HTTP Error for GET to https://api.spotify.com/v1/audio-features/?ids=6fABlNfAOylt7ZxfX8K1XL with Params: {} returned 403 due to None\n",
      "HTTP Error for GET to https://api.spotify.com/v1/audio-features/?ids=3i11e2jzUtO3jChiFl3v9x with Params: {} returned 403 due to None\n"
     ]
    },
    {
     "name": "stdout",
     "output_type": "stream",
     "text": [
      "Error fetching features for track 7y2LdSannuZhlHK3eTOyly: http status: 403, code:-1 - https://api.spotify.com/v1/audio-features/?ids=7y2LdSannuZhlHK3eTOyly:\n",
      " None, reason: None\n",
      "Error fetching features for track 7IjnfuMNfdrAXbefurdIIR: http status: 403, code:-1 - https://api.spotify.com/v1/audio-features/?ids=7IjnfuMNfdrAXbefurdIIR:\n",
      " None, reason: None\n",
      "Error fetching features for track 6fABlNfAOylt7ZxfX8K1XL: http status: 403, code:-1 - https://api.spotify.com/v1/audio-features/?ids=6fABlNfAOylt7ZxfX8K1XL:\n",
      " None, reason: None\n",
      "Error fetching features for track 3i11e2jzUtO3jChiFl3v9x: http status: 403, code:-1 - https://api.spotify.com/v1/audio-features/?ids=3i11e2jzUtO3jChiFl3v9x:\n",
      " None, reason: None\n"
     ]
    },
    {
     "name": "stderr",
     "output_type": "stream",
     "text": [
      "HTTP Error for GET to https://api.spotify.com/v1/audio-features/?ids=3OAFzjwWionh8OfM4kgf2R with Params: {} returned 403 due to None\n",
      "HTTP Error for GET to https://api.spotify.com/v1/audio-features/?ids=4M7pu2MwyGysZM4deGXueq with Params: {} returned 403 due to None\n",
      "HTTP Error for GET to https://api.spotify.com/v1/audio-features/?ids=2cNeEQhITgmjkk5SHd5IXY with Params: {} returned 403 due to None\n",
      "HTTP Error for GET to https://api.spotify.com/v1/audio-features/?ids=5Cdd8p9sxRczQX6GFC8CdH with Params: {} returned 403 due to None\n"
     ]
    },
    {
     "name": "stdout",
     "output_type": "stream",
     "text": [
      "Error fetching features for track 3OAFzjwWionh8OfM4kgf2R: http status: 403, code:-1 - https://api.spotify.com/v1/audio-features/?ids=3OAFzjwWionh8OfM4kgf2R:\n",
      " None, reason: None\n",
      "Error fetching features for track 4M7pu2MwyGysZM4deGXueq: http status: 403, code:-1 - https://api.spotify.com/v1/audio-features/?ids=4M7pu2MwyGysZM4deGXueq:\n",
      " None, reason: None\n",
      "Error fetching features for track 2cNeEQhITgmjkk5SHd5IXY: http status: 403, code:-1 - https://api.spotify.com/v1/audio-features/?ids=2cNeEQhITgmjkk5SHd5IXY:\n",
      " None, reason: None\n",
      "Error fetching features for track 5Cdd8p9sxRczQX6GFC8CdH: http status: 403, code:-1 - https://api.spotify.com/v1/audio-features/?ids=5Cdd8p9sxRczQX6GFC8CdH:\n",
      " None, reason: None\n"
     ]
    },
    {
     "name": "stderr",
     "output_type": "stream",
     "text": [
      "HTTP Error for GET to https://api.spotify.com/v1/audio-features/?ids=2yBxVCCJkfCuwhA0GR2VwA with Params: {} returned 403 due to None\n",
      "HTTP Error for GET to https://api.spotify.com/v1/audio-features/?ids=0N7I4n27C4ohUpssooA2LC with Params: {} returned 403 due to None\n",
      "HTTP Error for GET to https://api.spotify.com/v1/audio-features/?ids=32pak2UWgCO1r5fZwUPKOa with Params: {} returned 403 due to None\n",
      "HTTP Error for GET to https://api.spotify.com/v1/audio-features/?ids=3i11e2jzUtO3jChiFl3v9x with Params: {} returned 403 due to None\n"
     ]
    },
    {
     "name": "stdout",
     "output_type": "stream",
     "text": [
      "Error fetching features for track 2yBxVCCJkfCuwhA0GR2VwA: http status: 403, code:-1 - https://api.spotify.com/v1/audio-features/?ids=2yBxVCCJkfCuwhA0GR2VwA:\n",
      " None, reason: None\n",
      "Error fetching features for track 0N7I4n27C4ohUpssooA2LC: http status: 403, code:-1 - https://api.spotify.com/v1/audio-features/?ids=0N7I4n27C4ohUpssooA2LC:\n",
      " None, reason: None\n",
      "Error fetching features for track 32pak2UWgCO1r5fZwUPKOa: http status: 403, code:-1 - https://api.spotify.com/v1/audio-features/?ids=32pak2UWgCO1r5fZwUPKOa:\n",
      " None, reason: None\n",
      "Error fetching features for track 3i11e2jzUtO3jChiFl3v9x: http status: 403, code:-1 - https://api.spotify.com/v1/audio-features/?ids=3i11e2jzUtO3jChiFl3v9x:\n",
      " None, reason: None\n"
     ]
    },
    {
     "name": "stderr",
     "output_type": "stream",
     "text": [
      "HTTP Error for GET to https://api.spotify.com/v1/audio-features/?ids=1980E4Grgu5xAhNbFZ1mb1 with Params: {} returned 403 due to None\n",
      "HTTP Error for GET to https://api.spotify.com/v1/audio-features/?ids=5XLGe55N7WuoXIgG60KR83 with Params: {} returned 403 due to None\n",
      "HTTP Error for GET to https://api.spotify.com/v1/audio-features/?ids=2IarWd16hKAvXU8vnEunVb with Params: {} returned 403 due to None\n"
     ]
    },
    {
     "name": "stdout",
     "output_type": "stream",
     "text": [
      "Error fetching features for track 1980E4Grgu5xAhNbFZ1mb1: http status: 403, code:-1 - https://api.spotify.com/v1/audio-features/?ids=1980E4Grgu5xAhNbFZ1mb1:\n",
      " None, reason: None\n",
      "Error fetching features for track 5XLGe55N7WuoXIgG60KR83: http status: 403, code:-1 - https://api.spotify.com/v1/audio-features/?ids=5XLGe55N7WuoXIgG60KR83:\n",
      " None, reason: None\n",
      "Error fetching features for track 2IarWd16hKAvXU8vnEunVb: http status: 403, code:-1 - https://api.spotify.com/v1/audio-features/?ids=2IarWd16hKAvXU8vnEunVb:\n",
      " None, reason: None\n"
     ]
    },
    {
     "name": "stderr",
     "output_type": "stream",
     "text": [
      "HTTP Error for GET to https://api.spotify.com/v1/audio-features/?ids=7txLCGOXyDlDXTjtR1Sk4v with Params: {} returned 403 due to None\n",
      "HTTP Error for GET to https://api.spotify.com/v1/audio-features/?ids=0Ffz0qYUGnL4Vuxx8cpnIN with Params: {} returned 403 due to None\n",
      "HTTP Error for GET to https://api.spotify.com/v1/audio-features/?ids=4EjO3ELtQkbOBox5adad6a with Params: {} returned 403 due to None\n"
     ]
    },
    {
     "name": "stdout",
     "output_type": "stream",
     "text": [
      "Processing batch 3 of 29\n",
      "Error fetching features for track 7txLCGOXyDlDXTjtR1Sk4v: http status: 403, code:-1 - https://api.spotify.com/v1/audio-features/?ids=7txLCGOXyDlDXTjtR1Sk4v:\n",
      " None, reason: None\n",
      "Error fetching features for track 0Ffz0qYUGnL4Vuxx8cpnIN: http status: 403, code:-1 - https://api.spotify.com/v1/audio-features/?ids=0Ffz0qYUGnL4Vuxx8cpnIN:\n",
      " None, reason: None\n",
      "Error fetching features for track 4EjO3ELtQkbOBox5adad6a: http status: 403, code:-1 - https://api.spotify.com/v1/audio-features/?ids=4EjO3ELtQkbOBox5adad6a:\n",
      " None, reason: None\n"
     ]
    },
    {
     "name": "stderr",
     "output_type": "stream",
     "text": [
      "HTTP Error for GET to https://api.spotify.com/v1/audio-features/?ids=57zEYntUat0ofbFpoicN26 with Params: {} returned 403 due to None\n",
      "HTTP Error for GET to https://api.spotify.com/v1/audio-features/?ids=7sSYkaAXRgnzoQYrGgrvlX with Params: {} returned 403 due to None\n",
      "HTTP Error for GET to https://api.spotify.com/v1/audio-features/?ids=2yBxVCCJkfCuwhA0GR2VwA with Params: {} returned 403 due to None\n",
      "HTTP Error for GET to https://api.spotify.com/v1/audio-features/?ids=5mkLx3WvzQd6DflyamDOGz with Params: {} returned 403 due to None\n"
     ]
    },
    {
     "name": "stdout",
     "output_type": "stream",
     "text": [
      "Error fetching features for track 57zEYntUat0ofbFpoicN26: http status: 403, code:-1 - https://api.spotify.com/v1/audio-features/?ids=57zEYntUat0ofbFpoicN26:\n",
      " None, reason: None\n",
      "Error fetching features for track 7sSYkaAXRgnzoQYrGgrvlX: http status: 403, code:-1 - https://api.spotify.com/v1/audio-features/?ids=7sSYkaAXRgnzoQYrGgrvlX:\n",
      " None, reason: None\n",
      "Error fetching features for track 2yBxVCCJkfCuwhA0GR2VwA: http status: 403, code:-1 - https://api.spotify.com/v1/audio-features/?ids=2yBxVCCJkfCuwhA0GR2VwA:\n",
      " None, reason: None\n",
      "Error fetching features for track 5mkLx3WvzQd6DflyamDOGz: http status: 403, code:-1 - https://api.spotify.com/v1/audio-features/?ids=5mkLx3WvzQd6DflyamDOGz:\n",
      " None, reason: None\n"
     ]
    },
    {
     "name": "stderr",
     "output_type": "stream",
     "text": [
      "HTTP Error for GET to https://api.spotify.com/v1/audio-features/?ids=3hoXhwP0ub9LdSJV4olDIc with Params: {} returned 403 due to None\n",
      "HTTP Error for GET to https://api.spotify.com/v1/audio-features/?ids=2yBxVCCJkfCuwhA0GR2VwA with Params: {} returned 403 due to None\n",
      "HTTP Error for GET to https://api.spotify.com/v1/audio-features/?ids=2yBxVCCJkfCuwhA0GR2VwA with Params: {} returned 403 due to None\n",
      "HTTP Error for GET to https://api.spotify.com/v1/audio-features/?ids=2yBxVCCJkfCuwhA0GR2VwA with Params: {} returned 403 due to None\n"
     ]
    },
    {
     "name": "stdout",
     "output_type": "stream",
     "text": [
      "Error fetching features for track 3hoXhwP0ub9LdSJV4olDIc: http status: 403, code:-1 - https://api.spotify.com/v1/audio-features/?ids=3hoXhwP0ub9LdSJV4olDIc:\n",
      " None, reason: None\n",
      "Error fetching features for track 2yBxVCCJkfCuwhA0GR2VwA: http status: 403, code:-1 - https://api.spotify.com/v1/audio-features/?ids=2yBxVCCJkfCuwhA0GR2VwA:\n",
      " None, reason: None\n",
      "Error fetching features for track 2yBxVCCJkfCuwhA0GR2VwA: http status: 403, code:-1 - https://api.spotify.com/v1/audio-features/?ids=2yBxVCCJkfCuwhA0GR2VwA:\n",
      " None, reason: None\n",
      "Error fetching features for track 2yBxVCCJkfCuwhA0GR2VwA: http status: 403, code:-1 - https://api.spotify.com/v1/audio-features/?ids=2yBxVCCJkfCuwhA0GR2VwA:\n",
      " None, reason: None\n"
     ]
    },
    {
     "name": "stderr",
     "output_type": "stream",
     "text": [
      "HTTP Error for GET to https://api.spotify.com/v1/audio-features/?ids=4iddA3wMA54ChHBKuPQCb2 with Params: {} returned 403 due to None\n",
      "HTTP Error for GET to https://api.spotify.com/v1/audio-features/?ids=5fKzdTKPV9vT4WEjEdxXrt with Params: {} returned 403 due to None\n",
      "HTTP Error for GET to https://api.spotify.com/v1/audio-features/?ids=5fKzdTKPV9vT4WEjEdxXrt with Params: {} returned 403 due to None\n",
      "HTTP Error for GET to https://api.spotify.com/v1/audio-features/?ids=2yBxVCCJkfCuwhA0GR2VwA with Params: {} returned 403 due to None\n"
     ]
    },
    {
     "name": "stdout",
     "output_type": "stream",
     "text": [
      "Error fetching features for track 4iddA3wMA54ChHBKuPQCb2: http status: 403, code:-1 - https://api.spotify.com/v1/audio-features/?ids=4iddA3wMA54ChHBKuPQCb2:\n",
      " None, reason: None\n",
      "Error fetching features for track 5fKzdTKPV9vT4WEjEdxXrt: http status: 403, code:-1 - https://api.spotify.com/v1/audio-features/?ids=5fKzdTKPV9vT4WEjEdxXrt:\n",
      " None, reason: None\n",
      "Error fetching features for track 5fKzdTKPV9vT4WEjEdxXrt: http status: 403, code:-1 - https://api.spotify.com/v1/audio-features/?ids=5fKzdTKPV9vT4WEjEdxXrt:\n",
      " None, reason: None\n",
      "Error fetching features for track 2yBxVCCJkfCuwhA0GR2VwA: http status: 403, code:-1 - https://api.spotify.com/v1/audio-features/?ids=2yBxVCCJkfCuwhA0GR2VwA:\n",
      " None, reason: None\n"
     ]
    },
    {
     "name": "stderr",
     "output_type": "stream",
     "text": [
      "HTTP Error for GET to https://api.spotify.com/v1/audio-features/?ids=4LO5DjN6Tp3UkUvgESuy2t with Params: {} returned 403 due to None\n",
      "HTTP Error for GET to https://api.spotify.com/v1/audio-features/?ids=0whjGr7gU3X93lNTpLQhys with Params: {} returned 403 due to None\n",
      "HTTP Error for GET to https://api.spotify.com/v1/audio-features/?ids=2TFQJcS4LnIe5HBHCsL3WM with Params: {} returned 403 due to None\n",
      "HTTP Error for GET to https://api.spotify.com/v1/audio-features/?ids=1mPNK9DQVA7gJNtJ20PZu3 with Params: {} returned 403 due to None\n"
     ]
    },
    {
     "name": "stdout",
     "output_type": "stream",
     "text": [
      "Error fetching features for track 4LO5DjN6Tp3UkUvgESuy2t: http status: 403, code:-1 - https://api.spotify.com/v1/audio-features/?ids=4LO5DjN6Tp3UkUvgESuy2t:\n",
      " None, reason: None\n",
      "Error fetching features for track 0whjGr7gU3X93lNTpLQhys: http status: 403, code:-1 - https://api.spotify.com/v1/audio-features/?ids=0whjGr7gU3X93lNTpLQhys:\n",
      " None, reason: None\n",
      "Error fetching features for track 2TFQJcS4LnIe5HBHCsL3WM: http status: 403, code:-1 - https://api.spotify.com/v1/audio-features/?ids=2TFQJcS4LnIe5HBHCsL3WM:\n",
      " None, reason: None\n",
      "Error fetching features for track 1mPNK9DQVA7gJNtJ20PZu3: http status: 403, code:-1 - https://api.spotify.com/v1/audio-features/?ids=1mPNK9DQVA7gJNtJ20PZu3:\n",
      " None, reason: None\n"
     ]
    },
    {
     "name": "stderr",
     "output_type": "stream",
     "text": [
      "HTTP Error for GET to https://api.spotify.com/v1/audio-features/?ids=2lZlmPPPD89y8dbcfUkrCE with Params: {} returned 403 due to None\n",
      "HTTP Error for GET to https://api.spotify.com/v1/audio-features/?ids=6UeEm5XPsleVD85kNHCu1n with Params: {} returned 403 due to None\n",
      "HTTP Error for GET to https://api.spotify.com/v1/audio-features/?ids=7Hapk4X6sZ48WbPV27KHNq with Params: {} returned 403 due to None\n",
      "HTTP Error for GET to https://api.spotify.com/v1/audio-features/?ids=4APKfi2FMNCu5zo6RwUq1O with Params: {} returned 403 due to None\n"
     ]
    },
    {
     "name": "stdout",
     "output_type": "stream",
     "text": [
      "Error fetching features for track 2lZlmPPPD89y8dbcfUkrCE: http status: 403, code:-1 - https://api.spotify.com/v1/audio-features/?ids=2lZlmPPPD89y8dbcfUkrCE:\n",
      " None, reason: None\n",
      "Error fetching features for track 6UeEm5XPsleVD85kNHCu1n: http status: 403, code:-1 - https://api.spotify.com/v1/audio-features/?ids=6UeEm5XPsleVD85kNHCu1n:\n",
      " None, reason: None\n",
      "Error fetching features for track 7Hapk4X6sZ48WbPV27KHNq: http status: 403, code:-1 - https://api.spotify.com/v1/audio-features/?ids=7Hapk4X6sZ48WbPV27KHNq:\n",
      " None, reason: None\n",
      "Error fetching features for track 4APKfi2FMNCu5zo6RwUq1O: http status: 403, code:-1 - https://api.spotify.com/v1/audio-features/?ids=4APKfi2FMNCu5zo6RwUq1O:\n",
      " None, reason: None\n"
     ]
    },
    {
     "name": "stderr",
     "output_type": "stream",
     "text": [
      "HTTP Error for GET to https://api.spotify.com/v1/audio-features/?ids=5qQIs3YxG66SUHK3KHhSIr with Params: {} returned 403 due to None\n",
      "HTTP Error for GET to https://api.spotify.com/v1/audio-features/?ids=66pgL55KG00oTsxzTw7tBE with Params: {} returned 403 due to None\n",
      "HTTP Error for GET to https://api.spotify.com/v1/audio-features/?ids=2LRVglXOFzxJvdkTgh3waN with Params: {} returned 403 due to None\n",
      "HTTP Error for GET to https://api.spotify.com/v1/audio-features/?ids=7IqEZMYay7OwgZKICObujt with Params: {} returned 403 due to None\n",
      "HTTP Error for GET to https://api.spotify.com/v1/audio-features/?ids=1KxcQHJf7HC57jomPJ19Qj with Params: {} returned 403 due to None\n"
     ]
    },
    {
     "name": "stdout",
     "output_type": "stream",
     "text": [
      "Error fetching features for track 5qQIs3YxG66SUHK3KHhSIr: http status: 403, code:-1 - https://api.spotify.com/v1/audio-features/?ids=5qQIs3YxG66SUHK3KHhSIr:\n",
      " None, reason: None\n",
      "Error fetching features for track 66pgL55KG00oTsxzTw7tBE: http status: 403, code:-1 - https://api.spotify.com/v1/audio-features/?ids=66pgL55KG00oTsxzTw7tBE:\n",
      " None, reason: None\n",
      "Error fetching features for track 2LRVglXOFzxJvdkTgh3waN: http status: 403, code:-1 - https://api.spotify.com/v1/audio-features/?ids=2LRVglXOFzxJvdkTgh3waN:\n",
      " None, reason: None\n",
      "Error fetching features for track 7IqEZMYay7OwgZKICObujt: http status: 403, code:-1 - https://api.spotify.com/v1/audio-features/?ids=7IqEZMYay7OwgZKICObujt:\n",
      " None, reason: None\n"
     ]
    },
    {
     "name": "stderr",
     "output_type": "stream",
     "text": [
      "HTTP Error for GET to https://api.spotify.com/v1/audio-features/?ids=04ktwHoyF8ELtSfjz8tc7M with Params: {} returned 403 due to None\n",
      "HTTP Error for GET to https://api.spotify.com/v1/audio-features/?ids=2mOBH5czTRRLI8ISc02U7B with Params: {} returned 403 due to None\n",
      "HTTP Error for GET to https://api.spotify.com/v1/audio-features/?ids=4gW8O7mQb1qZ5fl4VcoKi3 with Params: {} returned 403 due to None\n"
     ]
    },
    {
     "name": "stdout",
     "output_type": "stream",
     "text": [
      "Error fetching features for track 1KxcQHJf7HC57jomPJ19Qj: http status: 403, code:-1 - https://api.spotify.com/v1/audio-features/?ids=1KxcQHJf7HC57jomPJ19Qj:\n",
      " None, reason: None\n",
      "Error fetching features for track 04ktwHoyF8ELtSfjz8tc7M: http status: 403, code:-1 - https://api.spotify.com/v1/audio-features/?ids=04ktwHoyF8ELtSfjz8tc7M:\n",
      " None, reason: None\n",
      "Error fetching features for track 2mOBH5czTRRLI8ISc02U7B: http status: 403, code:-1 - https://api.spotify.com/v1/audio-features/?ids=2mOBH5czTRRLI8ISc02U7B:\n",
      " None, reason: None\n",
      "Error fetching features for track 4gW8O7mQb1qZ5fl4VcoKi3: http status: 403, code:-1 - https://api.spotify.com/v1/audio-features/?ids=4gW8O7mQb1qZ5fl4VcoKi3:\n",
      " None, reason: None\n"
     ]
    },
    {
     "name": "stderr",
     "output_type": "stream",
     "text": [
      "HTTP Error for GET to https://api.spotify.com/v1/audio-features/?ids=5WmoQP7u94rbIiehWf2oGZ with Params: {} returned 403 due to None\n",
      "HTTP Error for GET to https://api.spotify.com/v1/audio-features/?ids=0dPz77kgQAIl1f4x1IeyTm with Params: {} returned 403 due to None\n",
      "HTTP Error for GET to https://api.spotify.com/v1/audio-features/?ids=1QqtOXpvfLPW4yEuAXJKDk with Params: {} returned 403 due to None\n",
      "HTTP Error for GET to https://api.spotify.com/v1/audio-features/?ids=4RUBGBppd71QQy4lLJ1mvw with Params: {} returned 403 due to None\n"
     ]
    },
    {
     "name": "stdout",
     "output_type": "stream",
     "text": [
      "Error fetching features for track 5WmoQP7u94rbIiehWf2oGZ: http status: 403, code:-1 - https://api.spotify.com/v1/audio-features/?ids=5WmoQP7u94rbIiehWf2oGZ:\n",
      " None, reason: None\n",
      "Error fetching features for track 0dPz77kgQAIl1f4x1IeyTm: http status: 403, code:-1 - https://api.spotify.com/v1/audio-features/?ids=0dPz77kgQAIl1f4x1IeyTm:\n",
      " None, reason: None\n",
      "Error fetching features for track 1QqtOXpvfLPW4yEuAXJKDk: http status: 403, code:-1 - https://api.spotify.com/v1/audio-features/?ids=1QqtOXpvfLPW4yEuAXJKDk:\n",
      " None, reason: None\n",
      "Error fetching features for track 4RUBGBppd71QQy4lLJ1mvw: http status: 403, code:-1 - https://api.spotify.com/v1/audio-features/?ids=4RUBGBppd71QQy4lLJ1mvw:\n",
      " None, reason: None\n"
     ]
    },
    {
     "name": "stderr",
     "output_type": "stream",
     "text": [
      "HTTP Error for GET to https://api.spotify.com/v1/audio-features/?ids=4qFuyUsbJKucXXc4DFQLbY with Params: {} returned 403 due to None\n",
      "HTTP Error for GET to https://api.spotify.com/v1/audio-features/?ids=1MUol1Uw9JKRL7mV17iBwT with Params: {} returned 403 due to None\n",
      "HTTP Error for GET to https://api.spotify.com/v1/audio-features/?ids=3uvvmqUNKEzZtZWOQrQqq0 with Params: {} returned 403 due to None\n",
      "HTTP Error for GET to https://api.spotify.com/v1/audio-features/?ids=53keqrDTkt1GE9hJgUoql4 with Params: {} returned 403 due to None\n"
     ]
    },
    {
     "name": "stdout",
     "output_type": "stream",
     "text": [
      "Error fetching features for track 4qFuyUsbJKucXXc4DFQLbY: http status: 403, code:-1 - https://api.spotify.com/v1/audio-features/?ids=4qFuyUsbJKucXXc4DFQLbY:\n",
      " None, reason: None\n",
      "Error fetching features for track 1MUol1Uw9JKRL7mV17iBwT: http status: 403, code:-1 - https://api.spotify.com/v1/audio-features/?ids=1MUol1Uw9JKRL7mV17iBwT:\n",
      " None, reason: None\n",
      "Error fetching features for track 3uvvmqUNKEzZtZWOQrQqq0: http status: 403, code:-1 - https://api.spotify.com/v1/audio-features/?ids=3uvvmqUNKEzZtZWOQrQqq0:\n",
      " None, reason: None\n",
      "Error fetching features for track 53keqrDTkt1GE9hJgUoql4: http status: 403, code:-1 - https://api.spotify.com/v1/audio-features/?ids=53keqrDTkt1GE9hJgUoql4:\n",
      " None, reason: None\n"
     ]
    },
    {
     "name": "stderr",
     "output_type": "stream",
     "text": [
      "HTTP Error for GET to https://api.spotify.com/v1/audio-features/?ids=0bBAfDAxOO1u0qouRS2Mwm with Params: {} returned 403 due to None\n",
      "HTTP Error for GET to https://api.spotify.com/v1/audio-features/?ids=1J8wJATs02cTk55Zcbvhx4 with Params: {} returned 403 due to None\n",
      "HTTP Error for GET to https://api.spotify.com/v1/audio-features/?ids=4ZNofOs5FgcrbmbJw3QDW8 with Params: {} returned 403 due to None\n"
     ]
    },
    {
     "name": "stdout",
     "output_type": "stream",
     "text": [
      "Error fetching features for track 0bBAfDAxOO1u0qouRS2Mwm: http status: 403, code:-1 - https://api.spotify.com/v1/audio-features/?ids=0bBAfDAxOO1u0qouRS2Mwm:\n",
      " None, reason: None\n",
      "Error fetching features for track 1J8wJATs02cTk55Zcbvhx4: http status: 403, code:-1 - https://api.spotify.com/v1/audio-features/?ids=1J8wJATs02cTk55Zcbvhx4:\n",
      " None, reason: None\n",
      "Error fetching features for track 4ZNofOs5FgcrbmbJw3QDW8: http status: 403, code:-1 - https://api.spotify.com/v1/audio-features/?ids=4ZNofOs5FgcrbmbJw3QDW8:\n",
      " None, reason: None\n"
     ]
    },
    {
     "name": "stderr",
     "output_type": "stream",
     "text": [
      "HTTP Error for GET to https://api.spotify.com/v1/audio-features/?ids=3vcVhHWm2JXEpD9aqdyz9K with Params: {} returned 403 due to None\n",
      "HTTP Error for GET to https://api.spotify.com/v1/audio-features/?ids=6DWfITTnKLZVGD75Y0zeFh with Params: {} returned 403 due to None\n",
      "HTTP Error for GET to https://api.spotify.com/v1/audio-features/?ids=4isclMhMivnZzlpBAeXrK7 with Params: {} returned 403 due to None\n",
      "HTTP Error for GET to https://api.spotify.com/v1/audio-features/?ids=3OAFzjwWionh8OfM4kgf2R with Params: {} returned 403 due to None\n"
     ]
    },
    {
     "name": "stdout",
     "output_type": "stream",
     "text": [
      "Error fetching features for track 3vcVhHWm2JXEpD9aqdyz9K: http status: 403, code:-1 - https://api.spotify.com/v1/audio-features/?ids=3vcVhHWm2JXEpD9aqdyz9K:\n",
      " None, reason: None\n",
      "Error fetching features for track 6DWfITTnKLZVGD75Y0zeFh: http status: 403, code:-1 - https://api.spotify.com/v1/audio-features/?ids=6DWfITTnKLZVGD75Y0zeFh:\n",
      " None, reason: None\n",
      "Error fetching features for track 4isclMhMivnZzlpBAeXrK7: http status: 403, code:-1 - https://api.spotify.com/v1/audio-features/?ids=4isclMhMivnZzlpBAeXrK7:\n",
      " None, reason: None\n",
      "Error fetching features for track 3OAFzjwWionh8OfM4kgf2R: http status: 403, code:-1 - https://api.spotify.com/v1/audio-features/?ids=3OAFzjwWionh8OfM4kgf2R:\n",
      " None, reason: None\n"
     ]
    },
    {
     "name": "stderr",
     "output_type": "stream",
     "text": [
      "HTTP Error for GET to https://api.spotify.com/v1/audio-features/?ids=2UWIOwIxG63aqXK1TDiWVr with Params: {} returned 403 due to None\n",
      "HTTP Error for GET to https://api.spotify.com/v1/audio-features/?ids=7sSYkaAXRgnzoQYrGgrvlX with Params: {} returned 403 due to None\n",
      "HTTP Error for GET to https://api.spotify.com/v1/audio-features/?ids=5waPZcxgliOcZxCjswryDb with Params: {} returned 403 due to None\n"
     ]
    },
    {
     "name": "stdout",
     "output_type": "stream",
     "text": [
      "Error fetching features for track 2UWIOwIxG63aqXK1TDiWVr: http status: 403, code:-1 - https://api.spotify.com/v1/audio-features/?ids=2UWIOwIxG63aqXK1TDiWVr:\n",
      " None, reason: None\n",
      "Error fetching features for track 7sSYkaAXRgnzoQYrGgrvlX: http status: 403, code:-1 - https://api.spotify.com/v1/audio-features/?ids=7sSYkaAXRgnzoQYrGgrvlX:\n",
      " None, reason: None\n",
      "Error fetching features for track 5waPZcxgliOcZxCjswryDb: http status: 403, code:-1 - https://api.spotify.com/v1/audio-features/?ids=5waPZcxgliOcZxCjswryDb:\n",
      " None, reason: None\n"
     ]
    },
    {
     "name": "stderr",
     "output_type": "stream",
     "text": [
      "HTTP Error for GET to https://api.spotify.com/v1/audio-features/?ids=2hyYqX8IVVxFEFIUf0zZam with Params: {} returned 403 due to None\n"
     ]
    },
    {
     "name": "stdout",
     "output_type": "stream",
     "text": [
      "Error fetching features for track 2hyYqX8IVVxFEFIUf0zZam: http status: 403, code:-1 - https://api.spotify.com/v1/audio-features/?ids=2hyYqX8IVVxFEFIUf0zZam:\n",
      " None, reason: None\n"
     ]
    },
    {
     "name": "stderr",
     "output_type": "stream",
     "text": [
      "HTTP Error for GET to https://api.spotify.com/v1/audio-features/?ids=78KKYDENYsw6jYfuEZsqJl with Params: {} returned 403 due to None\n",
      "HTTP Error for GET to https://api.spotify.com/v1/audio-features/?ids=1vBmaijoCBoqmwc3zs5n3s with Params: {} returned 403 due to None\n"
     ]
    },
    {
     "name": "stdout",
     "output_type": "stream",
     "text": [
      "Processing batch 4 of 29\n",
      "Error fetching features for track 78KKYDENYsw6jYfuEZsqJl: http status: 403, code:-1 - https://api.spotify.com/v1/audio-features/?ids=78KKYDENYsw6jYfuEZsqJl:\n",
      " None, reason: None\n",
      "Error fetching features for track 1vBmaijoCBoqmwc3zs5n3s: http status: 403, code:-1 - https://api.spotify.com/v1/audio-features/?ids=1vBmaijoCBoqmwc3zs5n3s:\n",
      " None, reason: None\n"
     ]
    },
    {
     "name": "stderr",
     "output_type": "stream",
     "text": [
      "HTTP Error for GET to https://api.spotify.com/v1/audio-features/?ids=4gqHEia13bp5EFWGitiKWx with Params: {} returned 403 due to None\n",
      "HTTP Error for GET to https://api.spotify.com/v1/audio-features/?ids=0YCPCY9WhQFMFtoSpj6dhL with Params: {} returned 403 due to None\n",
      "HTTP Error for GET to https://api.spotify.com/v1/audio-features/?ids=0GVPRo9LEjxjT4C4o8BGot with Params: {} returned 403 due to None\n"
     ]
    },
    {
     "name": "stdout",
     "output_type": "stream",
     "text": [
      "Error fetching features for track 4gqHEia13bp5EFWGitiKWx: http status: 403, code:-1 - https://api.spotify.com/v1/audio-features/?ids=4gqHEia13bp5EFWGitiKWx:\n",
      " None, reason: None\n",
      "Error fetching features for track 0YCPCY9WhQFMFtoSpj6dhL: http status: 403, code:-1 - https://api.spotify.com/v1/audio-features/?ids=0YCPCY9WhQFMFtoSpj6dhL:\n",
      " None, reason: None\n",
      "Error fetching features for track 0GVPRo9LEjxjT4C4o8BGot: http status: 403, code:-1 - https://api.spotify.com/v1/audio-features/?ids=0GVPRo9LEjxjT4C4o8BGot:\n",
      " None, reason: None\n"
     ]
    },
    {
     "name": "stderr",
     "output_type": "stream",
     "text": [
      "HTTP Error for GET to https://api.spotify.com/v1/audio-features/?ids=02N5ZxOVugGQmKeIT0VXUx with Params: {} returned 403 due to None\n",
      "HTTP Error for GET to https://api.spotify.com/v1/audio-features/?ids=2NKkRdLnT1aI0W8YqtTkOu with Params: {} returned 403 due to None\n",
      "HTTP Error for GET to https://api.spotify.com/v1/audio-features/?ids=43SKg10CCeaoyr7XSKfpTR with Params: {} returned 403 due to None\n",
      "HTTP Error for GET to https://api.spotify.com/v1/audio-features/?ids=6ocOeSjnWPcSTaSsi0zIdY with Params: {} returned 403 due to None\n"
     ]
    },
    {
     "name": "stdout",
     "output_type": "stream",
     "text": [
      "Error fetching features for track 02N5ZxOVugGQmKeIT0VXUx: http status: 403, code:-1 - https://api.spotify.com/v1/audio-features/?ids=02N5ZxOVugGQmKeIT0VXUx:\n",
      " None, reason: None\n",
      "Error fetching features for track 2NKkRdLnT1aI0W8YqtTkOu: http status: 403, code:-1 - https://api.spotify.com/v1/audio-features/?ids=2NKkRdLnT1aI0W8YqtTkOu:\n",
      " None, reason: None\n",
      "Error fetching features for track 43SKg10CCeaoyr7XSKfpTR: http status: 403, code:-1 - https://api.spotify.com/v1/audio-features/?ids=43SKg10CCeaoyr7XSKfpTR:\n",
      " None, reason: None\n",
      "Error fetching features for track 6ocOeSjnWPcSTaSsi0zIdY: http status: 403, code:-1 - https://api.spotify.com/v1/audio-features/?ids=6ocOeSjnWPcSTaSsi0zIdY:\n",
      " None, reason: None\n"
     ]
    },
    {
     "name": "stderr",
     "output_type": "stream",
     "text": [
      "HTTP Error for GET to https://api.spotify.com/v1/audio-features/?ids=53DXM0bHfB7xkqJZYlksuh with Params: {} returned 403 due to None\n",
      "HTTP Error for GET to https://api.spotify.com/v1/audio-features/?ids=56aLd3VIL6vOYloB3nPbNj with Params: {} returned 403 due to None\n",
      "HTTP Error for GET to https://api.spotify.com/v1/audio-features/?ids=7IjnfuMNfdrAXbefurdIIR with Params: {} returned 403 due to None\n"
     ]
    },
    {
     "name": "stdout",
     "output_type": "stream",
     "text": [
      "Error fetching features for track 53DXM0bHfB7xkqJZYlksuh: http status: 403, code:-1 - https://api.spotify.com/v1/audio-features/?ids=53DXM0bHfB7xkqJZYlksuh:\n",
      " None, reason: None\n",
      "Error fetching features for track 56aLd3VIL6vOYloB3nPbNj: http status: 403, code:-1 - https://api.spotify.com/v1/audio-features/?ids=56aLd3VIL6vOYloB3nPbNj:\n",
      " None, reason: None\n",
      "Error fetching features for track 7IjnfuMNfdrAXbefurdIIR: http status: 403, code:-1 - https://api.spotify.com/v1/audio-features/?ids=7IjnfuMNfdrAXbefurdIIR:\n",
      " None, reason: None\n"
     ]
    },
    {
     "name": "stderr",
     "output_type": "stream",
     "text": [
      "HTTP Error for GET to https://api.spotify.com/v1/audio-features/?ids=2HWOWnLbaNZBhTJPTQkLy9 with Params: {} returned 403 due to None\n",
      "HTTP Error for GET to https://api.spotify.com/v1/audio-features/?ids=3xF15SqY32Mno3UUMBirhU with Params: {} returned 403 due to None\n"
     ]
    },
    {
     "name": "stdout",
     "output_type": "stream",
     "text": [
      "Error fetching features for track 2HWOWnLbaNZBhTJPTQkLy9: http status: 403, code:-1 - https://api.spotify.com/v1/audio-features/?ids=2HWOWnLbaNZBhTJPTQkLy9:\n",
      " None, reason: None\n",
      "Error fetching features for track 3xF15SqY32Mno3UUMBirhU: http status: 403, code:-1 - https://api.spotify.com/v1/audio-features/?ids=3xF15SqY32Mno3UUMBirhU:\n",
      " None, reason: None\n"
     ]
    },
    {
     "name": "stderr",
     "output_type": "stream",
     "text": [
      "HTTP Error for GET to https://api.spotify.com/v1/audio-features/?ids=71OoohX1NBG4ez6eijgaWE with Params: {} returned 403 due to None\n",
      "HTTP Error for GET to https://api.spotify.com/v1/audio-features/?ids=1vBmaijoCBoqmwc3zs5n3s with Params: {} returned 403 due to None\n"
     ]
    },
    {
     "name": "stdout",
     "output_type": "stream",
     "text": [
      "Error fetching features for track 71OoohX1NBG4ez6eijgaWE: http status: 403, code:-1 - https://api.spotify.com/v1/audio-features/?ids=71OoohX1NBG4ez6eijgaWE:\n",
      " None, reason: None\n",
      "Error fetching features for track 1vBmaijoCBoqmwc3zs5n3s: http status: 403, code:-1 - https://api.spotify.com/v1/audio-features/?ids=1vBmaijoCBoqmwc3zs5n3s:\n",
      " None, reason: None\n"
     ]
    },
    {
     "name": "stderr",
     "output_type": "stream",
     "text": [
      "HTTP Error for GET to https://api.spotify.com/v1/audio-features/?ids=70r85LQ7Hcof30PJmksilm with Params: {} returned 403 due to None\n",
      "HTTP Error for GET to https://api.spotify.com/v1/audio-features/?ids=15Vuw407y6UWIPUfGrpJ1e with Params: {} returned 403 due to None\n",
      "HTTP Error for GET to https://api.spotify.com/v1/audio-features/?ids=1q6pMQBRILzkz0g4rKEXdM with Params: {} returned 403 due to None\n"
     ]
    },
    {
     "name": "stdout",
     "output_type": "stream",
     "text": [
      "Error fetching features for track 70r85LQ7Hcof30PJmksilm: http status: 403, code:-1 - https://api.spotify.com/v1/audio-features/?ids=70r85LQ7Hcof30PJmksilm:\n",
      " None, reason: None\n",
      "Error fetching features for track 15Vuw407y6UWIPUfGrpJ1e: http status: 403, code:-1 - https://api.spotify.com/v1/audio-features/?ids=15Vuw407y6UWIPUfGrpJ1e:\n",
      " None, reason: None\n",
      "Error fetching features for track 1q6pMQBRILzkz0g4rKEXdM: http status: 403, code:-1 - https://api.spotify.com/v1/audio-features/?ids=1q6pMQBRILzkz0g4rKEXdM:\n",
      " None, reason: None\n"
     ]
    },
    {
     "name": "stderr",
     "output_type": "stream",
     "text": [
      "HTTP Error for GET to https://api.spotify.com/v1/audio-features/?ids=7y2LdSannuZhlHK3eTOyly with Params: {} returned 403 due to None\n",
      "HTTP Error for GET to https://api.spotify.com/v1/audio-features/?ids=1fkjRQA8wXPPyxqYLbxuqy with Params: {} returned 403 due to None\n",
      "HTTP Error for GET to https://api.spotify.com/v1/audio-features/?ids=2Vw94w6FxCyaYwyCivi9Py with Params: {} returned 403 due to None\n"
     ]
    },
    {
     "name": "stdout",
     "output_type": "stream",
     "text": [
      "Error fetching features for track 7y2LdSannuZhlHK3eTOyly: http status: 403, code:-1 - https://api.spotify.com/v1/audio-features/?ids=7y2LdSannuZhlHK3eTOyly:\n",
      " None, reason: None\n",
      "Error fetching features for track 1fkjRQA8wXPPyxqYLbxuqy: http status: 403, code:-1 - https://api.spotify.com/v1/audio-features/?ids=1fkjRQA8wXPPyxqYLbxuqy:\n",
      " None, reason: None\n",
      "Error fetching features for track 2Vw94w6FxCyaYwyCivi9Py: http status: 403, code:-1 - https://api.spotify.com/v1/audio-features/?ids=2Vw94w6FxCyaYwyCivi9Py:\n",
      " None, reason: None\n"
     ]
    },
    {
     "name": "stderr",
     "output_type": "stream",
     "text": [
      "HTTP Error for GET to https://api.spotify.com/v1/audio-features/?ids=1QQqHS80CpR8tA2lR8O65y with Params: {} returned 403 due to None\n",
      "HTTP Error for GET to https://api.spotify.com/v1/audio-features/?ids=5oYRr51VatOtkFeEOursuZ with Params: {} returned 403 due to None\n",
      "HTTP Error for GET to https://api.spotify.com/v1/audio-features/?ids=5pAo2q7eVt65OSkwYgqhHl with Params: {} returned 403 due to None\n",
      "HTTP Error for GET to https://api.spotify.com/v1/audio-features/?ids=7IjnfuMNfdrAXbefurdIIR with Params: {} returned 403 due to None\n"
     ]
    },
    {
     "name": "stdout",
     "output_type": "stream",
     "text": [
      "Error fetching features for track 1QQqHS80CpR8tA2lR8O65y: http status: 403, code:-1 - https://api.spotify.com/v1/audio-features/?ids=1QQqHS80CpR8tA2lR8O65y:\n",
      " None, reason: None\n",
      "Error fetching features for track 5oYRr51VatOtkFeEOursuZ: http status: 403, code:-1 - https://api.spotify.com/v1/audio-features/?ids=5oYRr51VatOtkFeEOursuZ:\n",
      " None, reason: None\n",
      "Error fetching features for track 5pAo2q7eVt65OSkwYgqhHl: http status: 403, code:-1 - https://api.spotify.com/v1/audio-features/?ids=5pAo2q7eVt65OSkwYgqhHl:\n",
      " None, reason: None\n",
      "Error fetching features for track 7IjnfuMNfdrAXbefurdIIR: http status: 403, code:-1 - https://api.spotify.com/v1/audio-features/?ids=7IjnfuMNfdrAXbefurdIIR:\n",
      " None, reason: None\n"
     ]
    },
    {
     "name": "stderr",
     "output_type": "stream",
     "text": [
      "HTTP Error for GET to https://api.spotify.com/v1/audio-features/?ids=4hLShJ4RCa2KhqVHD7MRDn with Params: {} returned 403 due to None\n",
      "HTTP Error for GET to https://api.spotify.com/v1/audio-features/?ids=3i11e2jzUtO3jChiFl3v9x with Params: {} returned 403 due to None\n",
      "HTTP Error for GET to https://api.spotify.com/v1/audio-features/?ids=4ZVfIGaZP93t0stmBj4FqA with Params: {} returned 403 due to None\n"
     ]
    },
    {
     "name": "stdout",
     "output_type": "stream",
     "text": [
      "Error fetching features for track 4hLShJ4RCa2KhqVHD7MRDn: http status: 403, code:-1 - https://api.spotify.com/v1/audio-features/?ids=4hLShJ4RCa2KhqVHD7MRDn:\n",
      " None, reason: None\n",
      "Error fetching features for track 3i11e2jzUtO3jChiFl3v9x: http status: 403, code:-1 - https://api.spotify.com/v1/audio-features/?ids=3i11e2jzUtO3jChiFl3v9x:\n",
      " None, reason: None\n",
      "Error fetching features for track 4ZVfIGaZP93t0stmBj4FqA: http status: 403, code:-1 - https://api.spotify.com/v1/audio-features/?ids=4ZVfIGaZP93t0stmBj4FqA:\n",
      " None, reason: None\n"
     ]
    },
    {
     "name": "stderr",
     "output_type": "stream",
     "text": [
      "HTTP Error for GET to https://api.spotify.com/v1/audio-features/?ids=3OAFzjwWionh8OfM4kgf2R with Params: {} returned 403 due to None\n",
      "HTTP Error for GET to https://api.spotify.com/v1/audio-features/?ids=43GfQ1SC17rBWiHkOtdwK8 with Params: {} returned 403 due to None\n",
      "HTTP Error for GET to https://api.spotify.com/v1/audio-features/?ids=2iNqdCchlUZEgjJbQyZf8T with Params: {} returned 403 due to None\n"
     ]
    },
    {
     "name": "stdout",
     "output_type": "stream",
     "text": [
      "Error fetching features for track 3OAFzjwWionh8OfM4kgf2R: http status: 403, code:-1 - https://api.spotify.com/v1/audio-features/?ids=3OAFzjwWionh8OfM4kgf2R:\n",
      " None, reason: None\n",
      "Error fetching features for track 43GfQ1SC17rBWiHkOtdwK8: http status: 403, code:-1 - https://api.spotify.com/v1/audio-features/?ids=43GfQ1SC17rBWiHkOtdwK8:\n",
      " None, reason: None\n",
      "Error fetching features for track 2iNqdCchlUZEgjJbQyZf8T: http status: 403, code:-1 - https://api.spotify.com/v1/audio-features/?ids=2iNqdCchlUZEgjJbQyZf8T:\n",
      " None, reason: None\n"
     ]
    },
    {
     "name": "stderr",
     "output_type": "stream",
     "text": [
      "HTTP Error for GET to https://api.spotify.com/v1/audio-features/?ids=3xF15SqY32Mno3UUMBirhU with Params: {} returned 403 due to None\n",
      "HTTP Error for GET to https://api.spotify.com/v1/audio-features/?ids=2tO0QPdCA0jgDBshTuYYkc with Params: {} returned 403 due to None\n",
      "HTTP Error for GET to https://api.spotify.com/v1/audio-features/?ids=0snQrp1VaY5Pj1YIHRJpRJ with Params: {} returned 403 due to None\n"
     ]
    },
    {
     "name": "stdout",
     "output_type": "stream",
     "text": [
      "Error fetching features for track 3xF15SqY32Mno3UUMBirhU: http status: 403, code:-1 - https://api.spotify.com/v1/audio-features/?ids=3xF15SqY32Mno3UUMBirhU:\n",
      " None, reason: None\n",
      "Error fetching features for track 2tO0QPdCA0jgDBshTuYYkc: http status: 403, code:-1 - https://api.spotify.com/v1/audio-features/?ids=2tO0QPdCA0jgDBshTuYYkc:\n",
      " None, reason: None\n",
      "Error fetching features for track 0snQrp1VaY5Pj1YIHRJpRJ: http status: 403, code:-1 - https://api.spotify.com/v1/audio-features/?ids=0snQrp1VaY5Pj1YIHRJpRJ:\n",
      " None, reason: None\n"
     ]
    },
    {
     "name": "stderr",
     "output_type": "stream",
     "text": [
      "HTTP Error for GET to https://api.spotify.com/v1/audio-features/?ids=0YCPCY9WhQFMFtoSpj6dhL with Params: {} returned 403 due to None\n",
      "HTTP Error for GET to https://api.spotify.com/v1/audio-features/?ids=03VTytguq5MS6e3x03y5i1 with Params: {} returned 403 due to None\n",
      "HTTP Error for GET to https://api.spotify.com/v1/audio-features/?ids=2tO0QPdCA0jgDBshTuYYkc with Params: {} returned 403 due to None\n"
     ]
    },
    {
     "name": "stdout",
     "output_type": "stream",
     "text": [
      "Error fetching features for track 0YCPCY9WhQFMFtoSpj6dhL: http status: 403, code:-1 - https://api.spotify.com/v1/audio-features/?ids=0YCPCY9WhQFMFtoSpj6dhL:\n",
      " None, reason: None\n",
      "Error fetching features for track 03VTytguq5MS6e3x03y5i1: http status: 403, code:-1 - https://api.spotify.com/v1/audio-features/?ids=03VTytguq5MS6e3x03y5i1:\n",
      " None, reason: None\n",
      "Error fetching features for track 2tO0QPdCA0jgDBshTuYYkc: http status: 403, code:-1 - https://api.spotify.com/v1/audio-features/?ids=2tO0QPdCA0jgDBshTuYYkc:\n",
      " None, reason: None\n"
     ]
    },
    {
     "name": "stderr",
     "output_type": "stream",
     "text": [
      "HTTP Error for GET to https://api.spotify.com/v1/audio-features/?ids=6K0Ea7pq2trf6SwsfEKkOp with Params: {} returned 403 due to None\n",
      "HTTP Error for GET to https://api.spotify.com/v1/audio-features/?ids=5zKRKQwLVBT1WDJE7XJrnm with Params: {} returned 403 due to None\n",
      "HTTP Error for GET to https://api.spotify.com/v1/audio-features/?ids=6kzj1MWS5tFsoOZUz4c8Hc with Params: {} returned 403 due to None\n",
      "HTTP Error for GET to https://api.spotify.com/v1/audio-features/?ids=01npLGQTbZBIHVRcXJbLzR with Params: {} returned 403 due to None\n"
     ]
    },
    {
     "name": "stdout",
     "output_type": "stream",
     "text": [
      "Error fetching features for track 6K0Ea7pq2trf6SwsfEKkOp: http status: 403, code:-1 - https://api.spotify.com/v1/audio-features/?ids=6K0Ea7pq2trf6SwsfEKkOp:\n",
      " None, reason: None\n",
      "Error fetching features for track 5zKRKQwLVBT1WDJE7XJrnm: http status: 403, code:-1 - https://api.spotify.com/v1/audio-features/?ids=5zKRKQwLVBT1WDJE7XJrnm:\n",
      " None, reason: None\n",
      "Error fetching features for track 6kzj1MWS5tFsoOZUz4c8Hc: http status: 403, code:-1 - https://api.spotify.com/v1/audio-features/?ids=6kzj1MWS5tFsoOZUz4c8Hc:\n",
      " None, reason: None\n",
      "Error fetching features for track 01npLGQTbZBIHVRcXJbLzR: http status: 403, code:-1 - https://api.spotify.com/v1/audio-features/?ids=01npLGQTbZBIHVRcXJbLzR:\n",
      " None, reason: None\n"
     ]
    },
    {
     "name": "stderr",
     "output_type": "stream",
     "text": [
      "HTTP Error for GET to https://api.spotify.com/v1/audio-features/?ids=3pRF060IEOI5XSQAvONgSt with Params: {} returned 403 due to None\n",
      "HTTP Error for GET to https://api.spotify.com/v1/audio-features/?ids=1VGt7ZmY4iPfrabXjIMHo4 with Params: {} returned 403 due to None\n",
      "HTTP Error for GET to https://api.spotify.com/v1/audio-features/?ids=2zT6KfK583MkcLIHLBO8De with Params: {} returned 403 due to None\n",
      "HTTP Error for GET to https://api.spotify.com/v1/audio-features/?ids=0GVPRo9LEjxjT4C4o8BGot with Params: {} returned 403 due to None\n"
     ]
    },
    {
     "name": "stdout",
     "output_type": "stream",
     "text": [
      "Error fetching features for track 3pRF060IEOI5XSQAvONgSt: http status: 403, code:-1 - https://api.spotify.com/v1/audio-features/?ids=3pRF060IEOI5XSQAvONgSt:\n",
      " None, reason: None\n",
      "Error fetching features for track 1VGt7ZmY4iPfrabXjIMHo4: http status: 403, code:-1 - https://api.spotify.com/v1/audio-features/?ids=1VGt7ZmY4iPfrabXjIMHo4:\n",
      " None, reason: None\n",
      "Error fetching features for track 2zT6KfK583MkcLIHLBO8De: http status: 403, code:-1 - https://api.spotify.com/v1/audio-features/?ids=2zT6KfK583MkcLIHLBO8De:\n",
      " None, reason: None\n",
      "Error fetching features for track 0GVPRo9LEjxjT4C4o8BGot: http status: 403, code:-1 - https://api.spotify.com/v1/audio-features/?ids=0GVPRo9LEjxjT4C4o8BGot:\n",
      " None, reason: None\n"
     ]
    },
    {
     "name": "stderr",
     "output_type": "stream",
     "text": [
      "HTTP Error for GET to https://api.spotify.com/v1/audio-features/?ids=3GrTI5vAoDD3VE24VTBJAc with Params: {} returned 403 due to None\n",
      "HTTP Error for GET to https://api.spotify.com/v1/audio-features/?ids=43SKg10CCeaoyr7XSKfpTR with Params: {} returned 403 due to None\n",
      "HTTP Error for GET to https://api.spotify.com/v1/audio-features/?ids=1vBmaijoCBoqmwc3zs5n3s with Params: {} returned 403 due to None\n",
      "HTTP Error for GET to https://api.spotify.com/v1/audio-features/?ids=7LAwdDzta1roB9n4GuVpzG with Params: {} returned 403 due to None\n"
     ]
    },
    {
     "name": "stdout",
     "output_type": "stream",
     "text": [
      "Error fetching features for track 3GrTI5vAoDD3VE24VTBJAc: http status: 403, code:-1 - https://api.spotify.com/v1/audio-features/?ids=3GrTI5vAoDD3VE24VTBJAc:\n",
      " None, reason: None\n",
      "Error fetching features for track 43SKg10CCeaoyr7XSKfpTR: http status: 403, code:-1 - https://api.spotify.com/v1/audio-features/?ids=43SKg10CCeaoyr7XSKfpTR:\n",
      " None, reason: None\n",
      "Error fetching features for track 1vBmaijoCBoqmwc3zs5n3s: http status: 403, code:-1 - https://api.spotify.com/v1/audio-features/?ids=1vBmaijoCBoqmwc3zs5n3s:\n",
      " None, reason: None\n",
      "Error fetching features for track 7LAwdDzta1roB9n4GuVpzG: http status: 403, code:-1 - https://api.spotify.com/v1/audio-features/?ids=7LAwdDzta1roB9n4GuVpzG:\n",
      " None, reason: None\n"
     ]
    },
    {
     "name": "stderr",
     "output_type": "stream",
     "text": [
      "HTTP Error for GET to https://api.spotify.com/v1/audio-features/?ids=3OGQ5gp3dkZ38eIjRKLF4V with Params: {} returned 403 due to None\n"
     ]
    },
    {
     "name": "stdout",
     "output_type": "stream",
     "text": [
      "Processing batch 5 of 29\n",
      "Error fetching features for track 3OGQ5gp3dkZ38eIjRKLF4V: http status: 403, code:-1 - https://api.spotify.com/v1/audio-features/?ids=3OGQ5gp3dkZ38eIjRKLF4V:\n",
      " None, reason: None\n"
     ]
    },
    {
     "name": "stderr",
     "output_type": "stream",
     "text": [
      "HTTP Error for GET to https://api.spotify.com/v1/audio-features/?ids=32DWojMZeZebVrfBkhAkKy with Params: {} returned 403 due to None\n",
      "HTTP Error for GET to https://api.spotify.com/v1/audio-features/?ids=6YycppSAeGtSvwmu8qCcr2 with Params: {} returned 403 due to None\n",
      "HTTP Error for GET to https://api.spotify.com/v1/audio-features/?ids=5iwPZEPu8bxy1fAWnhYT7J with Params: {} returned 403 due to None\n"
     ]
    },
    {
     "name": "stdout",
     "output_type": "stream",
     "text": [
      "Error fetching features for track 32DWojMZeZebVrfBkhAkKy: http status: 403, code:-1 - https://api.spotify.com/v1/audio-features/?ids=32DWojMZeZebVrfBkhAkKy:\n",
      " None, reason: None\n",
      "Error fetching features for track 6YycppSAeGtSvwmu8qCcr2: http status: 403, code:-1 - https://api.spotify.com/v1/audio-features/?ids=6YycppSAeGtSvwmu8qCcr2:\n",
      " None, reason: None\n",
      "Error fetching features for track 5iwPZEPu8bxy1fAWnhYT7J: http status: 403, code:-1 - https://api.spotify.com/v1/audio-features/?ids=5iwPZEPu8bxy1fAWnhYT7J:\n",
      " None, reason: None\n"
     ]
    },
    {
     "name": "stderr",
     "output_type": "stream",
     "text": [
      "HTTP Error for GET to https://api.spotify.com/v1/audio-features/?ids=5waPZcxgliOcZxCjswryDb with Params: {} returned 403 due to None\n",
      "HTTP Error for GET to https://api.spotify.com/v1/audio-features/?ids=3V3qab2wyi5LjGLjvbV4fD with Params: {} returned 403 due to None\n",
      "HTTP Error for GET to https://api.spotify.com/v1/audio-features/?ids=0V6i9XZ7NOfXQAygSaswnM with Params: {} returned 403 due to None\n",
      "HTTP Error for GET to https://api.spotify.com/v1/audio-features/?ids=7emLx4rVwr0tPyjktu7A7U with Params: {} returned 403 due to None\n"
     ]
    },
    {
     "name": "stdout",
     "output_type": "stream",
     "text": [
      "Error fetching features for track 5waPZcxgliOcZxCjswryDb: http status: 403, code:-1 - https://api.spotify.com/v1/audio-features/?ids=5waPZcxgliOcZxCjswryDb:\n",
      " None, reason: None\n",
      "Error fetching features for track 3V3qab2wyi5LjGLjvbV4fD: http status: 403, code:-1 - https://api.spotify.com/v1/audio-features/?ids=3V3qab2wyi5LjGLjvbV4fD:\n",
      " None, reason: None\n",
      "Error fetching features for track 0V6i9XZ7NOfXQAygSaswnM: http status: 403, code:-1 - https://api.spotify.com/v1/audio-features/?ids=0V6i9XZ7NOfXQAygSaswnM:\n",
      " None, reason: None\n",
      "Error fetching features for track 7emLx4rVwr0tPyjktu7A7U: http status: 403, code:-1 - https://api.spotify.com/v1/audio-features/?ids=7emLx4rVwr0tPyjktu7A7U:\n",
      " None, reason: None\n"
     ]
    },
    {
     "name": "stderr",
     "output_type": "stream",
     "text": [
      "HTTP Error for GET to https://api.spotify.com/v1/audio-features/?ids=3FrY3M9izNqPZRWuBAqDFM with Params: {} returned 403 due to None\n",
      "HTTP Error for GET to https://api.spotify.com/v1/audio-features/?ids=3rsx3pDYM3a08O0Yu3Tq6V with Params: {} returned 403 due to None\n",
      "HTTP Error for GET to https://api.spotify.com/v1/audio-features/?ids=42OnkdXwkKo5NzkdOmvE75 with Params: {} returned 403 due to None\n"
     ]
    },
    {
     "name": "stdout",
     "output_type": "stream",
     "text": [
      "Error fetching features for track 3FrY3M9izNqPZRWuBAqDFM: http status: 403, code:-1 - https://api.spotify.com/v1/audio-features/?ids=3FrY3M9izNqPZRWuBAqDFM:\n",
      " None, reason: None\n",
      "Error fetching features for track 3rsx3pDYM3a08O0Yu3Tq6V: http status: 403, code:-1 - https://api.spotify.com/v1/audio-features/?ids=3rsx3pDYM3a08O0Yu3Tq6V:\n",
      " None, reason: None\n",
      "Error fetching features for track 42OnkdXwkKo5NzkdOmvE75: http status: 403, code:-1 - https://api.spotify.com/v1/audio-features/?ids=42OnkdXwkKo5NzkdOmvE75:\n",
      " None, reason: None\n"
     ]
    },
    {
     "name": "stderr",
     "output_type": "stream",
     "text": [
      "HTTP Error for GET to https://api.spotify.com/v1/audio-features/?ids=53DXM0bHfB7xkqJZYlksuh with Params: {} returned 403 due to None\n",
      "HTTP Error for GET to https://api.spotify.com/v1/audio-features/?ids=3i11e2jzUtO3jChiFl3v9x with Params: {} returned 403 due to None\n",
      "HTTP Error for GET to https://api.spotify.com/v1/audio-features/?ids=0mWtcNIAL9jITVHl3F2SQF with Params: {} returned 403 due to None\n"
     ]
    },
    {
     "name": "stdout",
     "output_type": "stream",
     "text": [
      "Error fetching features for track 53DXM0bHfB7xkqJZYlksuh: http status: 403, code:-1 - https://api.spotify.com/v1/audio-features/?ids=53DXM0bHfB7xkqJZYlksuh:\n",
      " None, reason: None\n",
      "Error fetching features for track 3i11e2jzUtO3jChiFl3v9x: http status: 403, code:-1 - https://api.spotify.com/v1/audio-features/?ids=3i11e2jzUtO3jChiFl3v9x:\n",
      " None, reason: None\n",
      "Error fetching features for track 0mWtcNIAL9jITVHl3F2SQF: http status: 403, code:-1 - https://api.spotify.com/v1/audio-features/?ids=0mWtcNIAL9jITVHl3F2SQF:\n",
      " None, reason: None\n"
     ]
    },
    {
     "name": "stderr",
     "output_type": "stream",
     "text": [
      "HTTP Error for GET to https://api.spotify.com/v1/audio-features/?ids=0up9rhm9qt2LW7cnoDFCMk with Params: {} returned 403 due to None\n",
      "HTTP Error for GET to https://api.spotify.com/v1/audio-features/?ids=2YWCcUKKnm3DDdoyzz0Wm3 with Params: {} returned 403 due to None\n",
      "HTTP Error for GET to https://api.spotify.com/v1/audio-features/?ids=0F04XRwhkYDkx2HVHtaqHt with Params: {} returned 403 due to None\n"
     ]
    },
    {
     "name": "stdout",
     "output_type": "stream",
     "text": [
      "Error fetching features for track 0up9rhm9qt2LW7cnoDFCMk: http status: 403, code:-1 - https://api.spotify.com/v1/audio-features/?ids=0up9rhm9qt2LW7cnoDFCMk:\n",
      " None, reason: None\n",
      "Error fetching features for track 2YWCcUKKnm3DDdoyzz0Wm3: http status: 403, code:-1 - https://api.spotify.com/v1/audio-features/?ids=2YWCcUKKnm3DDdoyzz0Wm3:\n",
      " None, reason: None\n",
      "Error fetching features for track 0F04XRwhkYDkx2HVHtaqHt: http status: 403, code:-1 - https://api.spotify.com/v1/audio-features/?ids=0F04XRwhkYDkx2HVHtaqHt:\n",
      " None, reason: None\n"
     ]
    },
    {
     "name": "stderr",
     "output_type": "stream",
     "text": [
      "HTTP Error for GET to https://api.spotify.com/v1/audio-features/?ids=5NBIQcR0HX1SWsE2W9JSvK with Params: {} returned 403 due to None\n",
      "HTTP Error for GET to https://api.spotify.com/v1/audio-features/?ids=2uy15favOgEOtS8wjAD9B1 with Params: {} returned 403 due to None\n",
      "HTTP Error for GET to https://api.spotify.com/v1/audio-features/?ids=4N66qcycDiFLJGjnXiKbKX with Params: {} returned 403 due to None\n"
     ]
    },
    {
     "name": "stdout",
     "output_type": "stream",
     "text": [
      "Error fetching features for track 5NBIQcR0HX1SWsE2W9JSvK: http status: 403, code:-1 - https://api.spotify.com/v1/audio-features/?ids=5NBIQcR0HX1SWsE2W9JSvK:\n",
      " None, reason: None\n",
      "Error fetching features for track 2uy15favOgEOtS8wjAD9B1: http status: 403, code:-1 - https://api.spotify.com/v1/audio-features/?ids=2uy15favOgEOtS8wjAD9B1:\n",
      " None, reason: None\n",
      "Error fetching features for track 4N66qcycDiFLJGjnXiKbKX: http status: 403, code:-1 - https://api.spotify.com/v1/audio-features/?ids=4N66qcycDiFLJGjnXiKbKX:\n",
      " None, reason: None\n"
     ]
    },
    {
     "name": "stderr",
     "output_type": "stream",
     "text": [
      "HTTP Error for GET to https://api.spotify.com/v1/audio-features/?ids=0gPgdRfB4jdGrlyXS0Vx78 with Params: {} returned 403 due to None\n",
      "HTTP Error for GET to https://api.spotify.com/v1/audio-features/?ids=2EN5aTDtX8852Ih3ss8Rih with Params: {} returned 403 due to None\n",
      "HTTP Error for GET to https://api.spotify.com/v1/audio-features/?ids=4vgCpNUUcpEIBifidhQOnR with Params: {} returned 403 due to None\n",
      "HTTP Error for GET to https://api.spotify.com/v1/audio-features/?ids=1B1ByxDeX0fDXiw0Hw4jJN with Params: {} returned 403 due to None\n"
     ]
    },
    {
     "name": "stdout",
     "output_type": "stream",
     "text": [
      "Error fetching features for track 0gPgdRfB4jdGrlyXS0Vx78: http status: 403, code:-1 - https://api.spotify.com/v1/audio-features/?ids=0gPgdRfB4jdGrlyXS0Vx78:\n",
      " None, reason: None\n",
      "Error fetching features for track 2EN5aTDtX8852Ih3ss8Rih: http status: 403, code:-1 - https://api.spotify.com/v1/audio-features/?ids=2EN5aTDtX8852Ih3ss8Rih:\n",
      " None, reason: None\n",
      "Error fetching features for track 4vgCpNUUcpEIBifidhQOnR: http status: 403, code:-1 - https://api.spotify.com/v1/audio-features/?ids=4vgCpNUUcpEIBifidhQOnR:\n",
      " None, reason: None\n",
      "Error fetching features for track 1B1ByxDeX0fDXiw0Hw4jJN: http status: 403, code:-1 - https://api.spotify.com/v1/audio-features/?ids=1B1ByxDeX0fDXiw0Hw4jJN:\n",
      " None, reason: None\n"
     ]
    },
    {
     "name": "stderr",
     "output_type": "stream",
     "text": [
      "HTTP Error for GET to https://api.spotify.com/v1/audio-features/?ids=3i11e2jzUtO3jChiFl3v9x with Params: {} returned 403 due to None\n",
      "HTTP Error for GET to https://api.spotify.com/v1/audio-features/?ids=3OAFzjwWionh8OfM4kgf2R with Params: {} returned 403 due to None\n",
      "HTTP Error for GET to https://api.spotify.com/v1/audio-features/?ids=7sSYkaAXRgnzoQYrGgrvlX with Params: {} returned 403 due to None\n",
      "HTTP Error for GET to https://api.spotify.com/v1/audio-features/?ids=4tBMbRwLJa5BjwJ6FrBlks with Params: {} returned 403 due to None\n"
     ]
    },
    {
     "name": "stdout",
     "output_type": "stream",
     "text": [
      "Error fetching features for track 3i11e2jzUtO3jChiFl3v9x: http status: 403, code:-1 - https://api.spotify.com/v1/audio-features/?ids=3i11e2jzUtO3jChiFl3v9x:\n",
      " None, reason: None\n",
      "Error fetching features for track 3OAFzjwWionh8OfM4kgf2R: http status: 403, code:-1 - https://api.spotify.com/v1/audio-features/?ids=3OAFzjwWionh8OfM4kgf2R:\n",
      " None, reason: None\n",
      "Error fetching features for track 7sSYkaAXRgnzoQYrGgrvlX: http status: 403, code:-1 - https://api.spotify.com/v1/audio-features/?ids=7sSYkaAXRgnzoQYrGgrvlX:\n",
      " None, reason: None\n",
      "Error fetching features for track 4tBMbRwLJa5BjwJ6FrBlks: http status: 403, code:-1 - https://api.spotify.com/v1/audio-features/?ids=4tBMbRwLJa5BjwJ6FrBlks:\n",
      " None, reason: None\n"
     ]
    },
    {
     "name": "stderr",
     "output_type": "stream",
     "text": [
      "HTTP Error for GET to https://api.spotify.com/v1/audio-features/?ids=16XEVyPh5NT31CAAqPbxQF with Params: {} returned 403 due to None\n",
      "HTTP Error for GET to https://api.spotify.com/v1/audio-features/?ids=32DWojMZeZebVrfBkhAkKy with Params: {} returned 403 due to None\n",
      "HTTP Error for GET to https://api.spotify.com/v1/audio-features/?ids=26AwzkDNxx9D0KXmBhY0Gd with Params: {} returned 403 due to None\n",
      "HTTP Error for GET to https://api.spotify.com/v1/audio-features/?ids=2JDsi7S0UmtGoyVPTda0ao with Params: {} returned 403 due to None\n"
     ]
    },
    {
     "name": "stdout",
     "output_type": "stream",
     "text": [
      "Error fetching features for track 16XEVyPh5NT31CAAqPbxQF: http status: 403, code:-1 - https://api.spotify.com/v1/audio-features/?ids=16XEVyPh5NT31CAAqPbxQF:\n",
      " None, reason: None\n",
      "Error fetching features for track 32DWojMZeZebVrfBkhAkKy: http status: 403, code:-1 - https://api.spotify.com/v1/audio-features/?ids=32DWojMZeZebVrfBkhAkKy:\n",
      " None, reason: None\n",
      "Error fetching features for track 26AwzkDNxx9D0KXmBhY0Gd: http status: 403, code:-1 - https://api.spotify.com/v1/audio-features/?ids=26AwzkDNxx9D0KXmBhY0Gd:\n",
      " None, reason: None\n",
      "Error fetching features for track 2JDsi7S0UmtGoyVPTda0ao: http status: 403, code:-1 - https://api.spotify.com/v1/audio-features/?ids=2JDsi7S0UmtGoyVPTda0ao:\n",
      " None, reason: None\n"
     ]
    },
    {
     "name": "stderr",
     "output_type": "stream",
     "text": [
      "HTTP Error for GET to https://api.spotify.com/v1/audio-features/?ids=3rsx3pDYM3a08O0Yu3Tq6V with Params: {} returned 403 due to None\n",
      "HTTP Error for GET to https://api.spotify.com/v1/audio-features/?ids=5H4rKylLnO8KrmdXTRhj5s with Params: {} returned 403 due to None\n",
      "HTTP Error for GET to https://api.spotify.com/v1/audio-features/?ids=2ILhVeTkbDAYEvesCCBsNo with Params: {} returned 403 due to None\n",
      "HTTP Error for GET to https://api.spotify.com/v1/audio-features/?ids=5swv4r5dYNHhsL54jGqmn8 with Params: {} returned 403 due to None\n"
     ]
    },
    {
     "name": "stdout",
     "output_type": "stream",
     "text": [
      "Error fetching features for track 3rsx3pDYM3a08O0Yu3Tq6V: http status: 403, code:-1 - https://api.spotify.com/v1/audio-features/?ids=3rsx3pDYM3a08O0Yu3Tq6V:\n",
      " None, reason: None\n",
      "Error fetching features for track 5H4rKylLnO8KrmdXTRhj5s: http status: 403, code:-1 - https://api.spotify.com/v1/audio-features/?ids=5H4rKylLnO8KrmdXTRhj5s:\n",
      " None, reason: None\n",
      "Error fetching features for track 2ILhVeTkbDAYEvesCCBsNo: http status: 403, code:-1 - https://api.spotify.com/v1/audio-features/?ids=2ILhVeTkbDAYEvesCCBsNo:\n",
      " None, reason: None\n",
      "Error fetching features for track 5swv4r5dYNHhsL54jGqmn8: http status: 403, code:-1 - https://api.spotify.com/v1/audio-features/?ids=5swv4r5dYNHhsL54jGqmn8:\n",
      " None, reason: None\n"
     ]
    },
    {
     "name": "stderr",
     "output_type": "stream",
     "text": [
      "HTTP Error for GET to https://api.spotify.com/v1/audio-features/?ids=2TFQJcS4LnIe5HBHCsL3WM with Params: {} returned 403 due to None\n",
      "HTTP Error for GET to https://api.spotify.com/v1/audio-features/?ids=7Czm0vv2sYL5z4P51KY66e with Params: {} returned 403 due to None\n",
      "HTTP Error for GET to https://api.spotify.com/v1/audio-features/?ids=1Wmhz6pAesAAKh6Oy3zknL with Params: {} returned 403 due to None\n"
     ]
    },
    {
     "name": "stdout",
     "output_type": "stream",
     "text": [
      "Error fetching features for track 2TFQJcS4LnIe5HBHCsL3WM: http status: 403, code:-1 - https://api.spotify.com/v1/audio-features/?ids=2TFQJcS4LnIe5HBHCsL3WM:\n",
      " None, reason: None\n",
      "Error fetching features for track 7Czm0vv2sYL5z4P51KY66e: http status: 403, code:-1 - https://api.spotify.com/v1/audio-features/?ids=7Czm0vv2sYL5z4P51KY66e:\n",
      " None, reason: None\n",
      "Error fetching features for track 1Wmhz6pAesAAKh6Oy3zknL: http status: 403, code:-1 - https://api.spotify.com/v1/audio-features/?ids=1Wmhz6pAesAAKh6Oy3zknL:\n",
      " None, reason: None\n"
     ]
    },
    {
     "name": "stderr",
     "output_type": "stream",
     "text": [
      "HTTP Error for GET to https://api.spotify.com/v1/audio-features/?ids=3hCUkos0NxuSFl73oOHJzb with Params: {} returned 403 due to None\n",
      "HTTP Error for GET to https://api.spotify.com/v1/audio-features/?ids=3rsx3pDYM3a08O0Yu3Tq6V with Params: {} returned 403 due to None\n",
      "HTTP Error for GET to https://api.spotify.com/v1/audio-features/?ids=5H4rKylLnO8KrmdXTRhj5s with Params: {} returned 403 due to None\n",
      "HTTP Error for GET to https://api.spotify.com/v1/audio-features/?ids=0mWtcNIAL9jITVHl3F2SQF with Params: {} returned 403 due to None\n"
     ]
    },
    {
     "name": "stdout",
     "output_type": "stream",
     "text": [
      "Error fetching features for track 3hCUkos0NxuSFl73oOHJzb: http status: 403, code:-1 - https://api.spotify.com/v1/audio-features/?ids=3hCUkos0NxuSFl73oOHJzb:\n",
      " None, reason: None\n",
      "Error fetching features for track 3rsx3pDYM3a08O0Yu3Tq6V: http status: 403, code:-1 - https://api.spotify.com/v1/audio-features/?ids=3rsx3pDYM3a08O0Yu3Tq6V:\n",
      " None, reason: None\n",
      "Error fetching features for track 5H4rKylLnO8KrmdXTRhj5s: http status: 403, code:-1 - https://api.spotify.com/v1/audio-features/?ids=5H4rKylLnO8KrmdXTRhj5s:\n",
      " None, reason: None\n",
      "Error fetching features for track 0mWtcNIAL9jITVHl3F2SQF: http status: 403, code:-1 - https://api.spotify.com/v1/audio-features/?ids=0mWtcNIAL9jITVHl3F2SQF:\n",
      " None, reason: None\n"
     ]
    },
    {
     "name": "stderr",
     "output_type": "stream",
     "text": [
      "HTTP Error for GET to https://api.spotify.com/v1/audio-features/?ids=23gpA0ZDwhkizbU0NMyMsW with Params: {} returned 403 due to None\n",
      "HTTP Error for GET to https://api.spotify.com/v1/audio-features/?ids=0iXLwnLmLwn9y54JtBTNxY with Params: {} returned 403 due to None\n",
      "HTTP Error for GET to https://api.spotify.com/v1/audio-features/?ids=251PNRmJU9KcUnFQAB5t6I with Params: {} returned 403 due to None\n",
      "HTTP Error for GET to https://api.spotify.com/v1/audio-features/?ids=6mTvwBzWTGDOVeCNQEqtOE with Params: {} returned 403 due to None\n"
     ]
    },
    {
     "name": "stdout",
     "output_type": "stream",
     "text": [
      "Error fetching features for track 23gpA0ZDwhkizbU0NMyMsW: http status: 403, code:-1 - https://api.spotify.com/v1/audio-features/?ids=23gpA0ZDwhkizbU0NMyMsW:\n",
      " None, reason: None\n",
      "Error fetching features for track 0iXLwnLmLwn9y54JtBTNxY: http status: 403, code:-1 - https://api.spotify.com/v1/audio-features/?ids=0iXLwnLmLwn9y54JtBTNxY:\n",
      " None, reason: None\n",
      "Error fetching features for track 251PNRmJU9KcUnFQAB5t6I: http status: 403, code:-1 - https://api.spotify.com/v1/audio-features/?ids=251PNRmJU9KcUnFQAB5t6I:\n",
      " None, reason: None\n",
      "Error fetching features for track 6mTvwBzWTGDOVeCNQEqtOE: http status: 403, code:-1 - https://api.spotify.com/v1/audio-features/?ids=6mTvwBzWTGDOVeCNQEqtOE:\n",
      " None, reason: None\n"
     ]
    },
    {
     "name": "stderr",
     "output_type": "stream",
     "text": [
      "HTTP Error for GET to https://api.spotify.com/v1/audio-features/?ids=3S2AoVDyMao30pG3jpm0yE with Params: {} returned 403 due to None\n",
      "HTTP Error for GET to https://api.spotify.com/v1/audio-features/?ids=6VbmeIWTbNHM5uqoW7GTE4 with Params: {} returned 403 due to None\n"
     ]
    },
    {
     "name": "stdout",
     "output_type": "stream",
     "text": [
      "Error fetching features for track 3S2AoVDyMao30pG3jpm0yE: http status: 403, code:-1 - https://api.spotify.com/v1/audio-features/?ids=3S2AoVDyMao30pG3jpm0yE:\n",
      " None, reason: None\n",
      "Error fetching features for track 6VbmeIWTbNHM5uqoW7GTE4: http status: 403, code:-1 - https://api.spotify.com/v1/audio-features/?ids=6VbmeIWTbNHM5uqoW7GTE4:\n",
      " None, reason: None\n"
     ]
    },
    {
     "name": "stderr",
     "output_type": "stream",
     "text": [
      "HTTP Error for GET to https://api.spotify.com/v1/audio-features/?ids=6E6UhpF6vV6Cu1VFbrlVM2 with Params: {} returned 403 due to None\n"
     ]
    },
    {
     "name": "stdout",
     "output_type": "stream",
     "text": [
      "Error fetching features for track 6E6UhpF6vV6Cu1VFbrlVM2: http status: 403, code:-1 - https://api.spotify.com/v1/audio-features/?ids=6E6UhpF6vV6Cu1VFbrlVM2:\n",
      " None, reason: None\n"
     ]
    },
    {
     "name": "stderr",
     "output_type": "stream",
     "text": [
      "HTTP Error for GET to https://api.spotify.com/v1/audio-features/?ids=5DyYcwMw0f6z3FefXNLOHv with Params: {} returned 403 due to None\n",
      "HTTP Error for GET to https://api.spotify.com/v1/audio-features/?ids=0s8fGVzyn6URNrUVwCE3dV with Params: {} returned 403 due to None\n"
     ]
    },
    {
     "name": "stdout",
     "output_type": "stream",
     "text": [
      "Processing batch 6 of 29\n",
      "Error fetching features for track 5DyYcwMw0f6z3FefXNLOHv: http status: 403, code:-1 - https://api.spotify.com/v1/audio-features/?ids=5DyYcwMw0f6z3FefXNLOHv:\n",
      " None, reason: None\n",
      "Error fetching features for track 0s8fGVzyn6URNrUVwCE3dV: http status: 403, code:-1 - https://api.spotify.com/v1/audio-features/?ids=0s8fGVzyn6URNrUVwCE3dV:\n",
      " None, reason: None\n"
     ]
    },
    {
     "name": "stderr",
     "output_type": "stream",
     "text": [
      "HTTP Error for GET to https://api.spotify.com/v1/audio-features/?ids=3GXnz7MM5tMl7bvkTPx8WQ with Params: {} returned 403 due to None\n",
      "HTTP Error for GET to https://api.spotify.com/v1/audio-features/?ids=3GXnz7MM5tMl7bvkTPx8WQ with Params: {} returned 403 due to None\n",
      "HTTP Error for GET to https://api.spotify.com/v1/audio-features/?ids=4zlgBHkw0HL6JTcZBbnzqx with Params: {} returned 403 due to None\n"
     ]
    },
    {
     "name": "stdout",
     "output_type": "stream",
     "text": [
      "Error fetching features for track 3GXnz7MM5tMl7bvkTPx8WQ: http status: 403, code:-1 - https://api.spotify.com/v1/audio-features/?ids=3GXnz7MM5tMl7bvkTPx8WQ:\n",
      " None, reason: None\n",
      "Error fetching features for track 3GXnz7MM5tMl7bvkTPx8WQ: http status: 403, code:-1 - https://api.spotify.com/v1/audio-features/?ids=3GXnz7MM5tMl7bvkTPx8WQ:\n",
      " None, reason: None\n",
      "Error fetching features for track 4zlgBHkw0HL6JTcZBbnzqx: http status: 403, code:-1 - https://api.spotify.com/v1/audio-features/?ids=4zlgBHkw0HL6JTcZBbnzqx:\n",
      " None, reason: None\n"
     ]
    },
    {
     "name": "stderr",
     "output_type": "stream",
     "text": [
      "HTTP Error for GET to https://api.spotify.com/v1/audio-features/?ids=6yrIAJ4yMPzq8Vsu1d3CXg with Params: {} returned 403 due to None\n"
     ]
    },
    {
     "name": "stdout",
     "output_type": "stream",
     "text": [
      "Error fetching features for track 6yrIAJ4yMPzq8Vsu1d3CXg: http status: 403, code:-1 - https://api.spotify.com/v1/audio-features/?ids=6yrIAJ4yMPzq8Vsu1d3CXg:\n",
      " None, reason: None\n"
     ]
    },
    {
     "name": "stderr",
     "output_type": "stream",
     "text": [
      "HTTP Error for GET to https://api.spotify.com/v1/audio-features/?ids=61OuMhMwq1ukmfrOnrrQGV with Params: {} returned 403 due to None\n"
     ]
    },
    {
     "name": "stdout",
     "output_type": "stream",
     "text": [
      "Error fetching features for track 61OuMhMwq1ukmfrOnrrQGV: http status: 403, code:-1 - https://api.spotify.com/v1/audio-features/?ids=61OuMhMwq1ukmfrOnrrQGV:\n",
      " None, reason: None\n"
     ]
    },
    {
     "name": "stderr",
     "output_type": "stream",
     "text": [
      "HTTP Error for GET to https://api.spotify.com/v1/audio-features/?ids=19LAzJUBAOzZtpw1h3J1YP with Params: {} returned 403 due to None\n",
      "HTTP Error for GET to https://api.spotify.com/v1/audio-features/?ids=23gpA0ZDwhkizbU0NMyMsW with Params: {} returned 403 due to None\n",
      "HTTP Error for GET to https://api.spotify.com/v1/audio-features/?ids=23gpA0ZDwhkizbU0NMyMsW with Params: {} returned 403 due to None\n",
      "HTTP Error for GET to https://api.spotify.com/v1/audio-features/?ids=5PvwPy5eRO8BPwpRzCHK3D with Params: {} returned 403 due to None\n"
     ]
    },
    {
     "name": "stdout",
     "output_type": "stream",
     "text": [
      "Error fetching features for track 19LAzJUBAOzZtpw1h3J1YP: http status: 403, code:-1 - https://api.spotify.com/v1/audio-features/?ids=19LAzJUBAOzZtpw1h3J1YP:\n",
      " None, reason: None\n",
      "Error fetching features for track 23gpA0ZDwhkizbU0NMyMsW: http status: 403, code:-1 - https://api.spotify.com/v1/audio-features/?ids=23gpA0ZDwhkizbU0NMyMsW:\n",
      " None, reason: None\n",
      "Error fetching features for track 23gpA0ZDwhkizbU0NMyMsW: http status: 403, code:-1 - https://api.spotify.com/v1/audio-features/?ids=23gpA0ZDwhkizbU0NMyMsW:\n",
      " None, reason: None\n",
      "Error fetching features for track 5PvwPy5eRO8BPwpRzCHK3D: http status: 403, code:-1 - https://api.spotify.com/v1/audio-features/?ids=5PvwPy5eRO8BPwpRzCHK3D:\n",
      " None, reason: None\n"
     ]
    },
    {
     "name": "stderr",
     "output_type": "stream",
     "text": [
      "HTTP Error for GET to https://api.spotify.com/v1/audio-features/?ids=6sLE9k5pWVOYYPEjZRQNV3 with Params: {} returned 403 due to None\n",
      "HTTP Error for GET to https://api.spotify.com/v1/audio-features/?ids=4FeczSomVWVyU4FW7xDeAI with Params: {} returned 403 due to None\n",
      "HTTP Error for GET to https://api.spotify.com/v1/audio-features/?ids=0kWWPtEWjmQVEu4V0esXJ8 with Params: {} returned 403 due to None\n",
      "HTTP Error for GET to https://api.spotify.com/v1/audio-features/?ids=7esbB2vqT7jJPY9wUp83yU with Params: {} returned 403 due to None\n"
     ]
    },
    {
     "name": "stdout",
     "output_type": "stream",
     "text": [
      "Error fetching features for track 6sLE9k5pWVOYYPEjZRQNV3: http status: 403, code:-1 - https://api.spotify.com/v1/audio-features/?ids=6sLE9k5pWVOYYPEjZRQNV3:\n",
      " None, reason: None\n",
      "Error fetching features for track 4FeczSomVWVyU4FW7xDeAI: http status: 403, code:-1 - https://api.spotify.com/v1/audio-features/?ids=4FeczSomVWVyU4FW7xDeAI:\n",
      " None, reason: None\n",
      "Error fetching features for track 0kWWPtEWjmQVEu4V0esXJ8: http status: 403, code:-1 - https://api.spotify.com/v1/audio-features/?ids=0kWWPtEWjmQVEu4V0esXJ8:\n",
      " None, reason: None\n",
      "Error fetching features for track 7esbB2vqT7jJPY9wUp83yU: http status: 403, code:-1 - https://api.spotify.com/v1/audio-features/?ids=7esbB2vqT7jJPY9wUp83yU:\n",
      " None, reason: None\n"
     ]
    },
    {
     "name": "stderr",
     "output_type": "stream",
     "text": [
      "HTTP Error for GET to https://api.spotify.com/v1/audio-features/?ids=7esbB2vqT7jJPY9wUp83yU with Params: {} returned 403 due to None\n",
      "HTTP Error for GET to https://api.spotify.com/v1/audio-features/?ids=1QZRCi2Z1DQQaR6bGAzhtN with Params: {} returned 403 due to None\n",
      "HTTP Error for GET to https://api.spotify.com/v1/audio-features/?ids=6zojSFiUNySBy3Kd1JVCXb with Params: {} returned 403 due to None\n",
      "HTTP Error for GET to https://api.spotify.com/v1/audio-features/?ids=2N9938r4qmE9yvxLRS7mIq with Params: {} returned 403 due to None\n"
     ]
    },
    {
     "name": "stdout",
     "output_type": "stream",
     "text": [
      "Error fetching features for track 7esbB2vqT7jJPY9wUp83yU: http status: 403, code:-1 - https://api.spotify.com/v1/audio-features/?ids=7esbB2vqT7jJPY9wUp83yU:\n",
      " None, reason: None\n",
      "Error fetching features for track 1QZRCi2Z1DQQaR6bGAzhtN: http status: 403, code:-1 - https://api.spotify.com/v1/audio-features/?ids=1QZRCi2Z1DQQaR6bGAzhtN:\n",
      " None, reason: None\n",
      "Error fetching features for track 6zojSFiUNySBy3Kd1JVCXb: http status: 403, code:-1 - https://api.spotify.com/v1/audio-features/?ids=6zojSFiUNySBy3Kd1JVCXb:\n",
      " None, reason: None\n",
      "Error fetching features for track 2N9938r4qmE9yvxLRS7mIq: http status: 403, code:-1 - https://api.spotify.com/v1/audio-features/?ids=2N9938r4qmE9yvxLRS7mIq:\n",
      " None, reason: None\n"
     ]
    },
    {
     "name": "stderr",
     "output_type": "stream",
     "text": [
      "HTTP Error for GET to https://api.spotify.com/v1/audio-features/?ids=7A9zMoPZw4fN7zSVXINeEF with Params: {} returned 403 due to None\n",
      "HTTP Error for GET to https://api.spotify.com/v1/audio-features/?ids=7FQTRGEYNU9vyR03xVHDrd with Params: {} returned 403 due to None\n",
      "HTTP Error for GET to https://api.spotify.com/v1/audio-features/?ids=1sZFDDmmBVkcHOpV6AB0Nx with Params: {} returned 403 due to None\n",
      "HTTP Error for GET to https://api.spotify.com/v1/audio-features/?ids=1QZRCi2Z1DQQaR6bGAzhtN with Params: {} returned 403 due to None\n"
     ]
    },
    {
     "name": "stdout",
     "output_type": "stream",
     "text": [
      "Error fetching features for track 7A9zMoPZw4fN7zSVXINeEF: http status: 403, code:-1 - https://api.spotify.com/v1/audio-features/?ids=7A9zMoPZw4fN7zSVXINeEF:\n",
      " None, reason: None\n",
      "Error fetching features for track 7FQTRGEYNU9vyR03xVHDrd: http status: 403, code:-1 - https://api.spotify.com/v1/audio-features/?ids=7FQTRGEYNU9vyR03xVHDrd:\n",
      " None, reason: None\n",
      "Error fetching features for track 1sZFDDmmBVkcHOpV6AB0Nx: http status: 403, code:-1 - https://api.spotify.com/v1/audio-features/?ids=1sZFDDmmBVkcHOpV6AB0Nx:\n",
      " None, reason: None\n",
      "Error fetching features for track 1QZRCi2Z1DQQaR6bGAzhtN: http status: 403, code:-1 - https://api.spotify.com/v1/audio-features/?ids=1QZRCi2Z1DQQaR6bGAzhtN:\n",
      " None, reason: None\n"
     ]
    },
    {
     "name": "stderr",
     "output_type": "stream",
     "text": [
      "HTTP Error for GET to https://api.spotify.com/v1/audio-features/?ids=3yRLROmAcKJBqTrdEczFB8 with Params: {} returned 403 due to None\n",
      "HTTP Error for GET to https://api.spotify.com/v1/audio-features/?ids=2yBxVCCJkfCuwhA0GR2VwA with Params: {} returned 403 due to None\n",
      "HTTP Error for GET to https://api.spotify.com/v1/audio-features/?ids=6871FKHumiy1Wfr6vF7Xxt with Params: {} returned 403 due to None\n",
      "HTTP Error for GET to https://api.spotify.com/v1/audio-features/?ids=7ztCi9k76A4QmSqWEutFyV with Params: {} returned 403 due to None\n"
     ]
    },
    {
     "name": "stdout",
     "output_type": "stream",
     "text": [
      "Error fetching features for track 3yRLROmAcKJBqTrdEczFB8: http status: 403, code:-1 - https://api.spotify.com/v1/audio-features/?ids=3yRLROmAcKJBqTrdEczFB8:\n",
      " None, reason: None\n",
      "Error fetching features for track 2yBxVCCJkfCuwhA0GR2VwA: http status: 403, code:-1 - https://api.spotify.com/v1/audio-features/?ids=2yBxVCCJkfCuwhA0GR2VwA:\n",
      " None, reason: None\n",
      "Error fetching features for track 6871FKHumiy1Wfr6vF7Xxt: http status: 403, code:-1 - https://api.spotify.com/v1/audio-features/?ids=6871FKHumiy1Wfr6vF7Xxt:\n",
      " None, reason: None\n",
      "Error fetching features for track 7ztCi9k76A4QmSqWEutFyV: http status: 403, code:-1 - https://api.spotify.com/v1/audio-features/?ids=7ztCi9k76A4QmSqWEutFyV:\n",
      " None, reason: None\n"
     ]
    },
    {
     "name": "stderr",
     "output_type": "stream",
     "text": [
      "HTTP Error for GET to https://api.spotify.com/v1/audio-features/?ids=395gJWcJQK0C3GJfHAn7f6 with Params: {} returned 403 due to None\n",
      "HTTP Error for GET to https://api.spotify.com/v1/audio-features/?ids=0gPgdRfB4jdGrlyXS0Vx78 with Params: {} returned 403 due to None\n"
     ]
    },
    {
     "name": "stdout",
     "output_type": "stream",
     "text": [
      "Error fetching features for track 395gJWcJQK0C3GJfHAn7f6: http status: 403, code:-1 - https://api.spotify.com/v1/audio-features/?ids=395gJWcJQK0C3GJfHAn7f6:\n",
      " None, reason: None\n",
      "Error fetching features for track 0gPgdRfB4jdGrlyXS0Vx78: http status: 403, code:-1 - https://api.spotify.com/v1/audio-features/?ids=0gPgdRfB4jdGrlyXS0Vx78:\n",
      " None, reason: None\n"
     ]
    },
    {
     "name": "stderr",
     "output_type": "stream",
     "text": [
      "HTTP Error for GET to https://api.spotify.com/v1/audio-features/?ids=0dJacN6K3mSGLE9p7QE0lO with Params: {} returned 403 due to None\n",
      "HTTP Error for GET to https://api.spotify.com/v1/audio-features/?ids=18gi2IxbZ3Ugom7wTRkohf with Params: {} returned 403 due to None\n",
      "HTTP Error for GET to https://api.spotify.com/v1/audio-features/?ids=4vgCpNUUcpEIBifidhQOnR with Params: {} returned 403 due to None\n"
     ]
    },
    {
     "name": "stdout",
     "output_type": "stream",
     "text": [
      "Error fetching features for track 0dJacN6K3mSGLE9p7QE0lO: http status: 403, code:-1 - https://api.spotify.com/v1/audio-features/?ids=0dJacN6K3mSGLE9p7QE0lO:\n",
      " None, reason: None\n",
      "Error fetching features for track 18gi2IxbZ3Ugom7wTRkohf: http status: 403, code:-1 - https://api.spotify.com/v1/audio-features/?ids=18gi2IxbZ3Ugom7wTRkohf:\n",
      " None, reason: None\n",
      "Error fetching features for track 4vgCpNUUcpEIBifidhQOnR: http status: 403, code:-1 - https://api.spotify.com/v1/audio-features/?ids=4vgCpNUUcpEIBifidhQOnR:\n",
      " None, reason: None\n"
     ]
    },
    {
     "name": "stderr",
     "output_type": "stream",
     "text": [
      "HTTP Error for GET to https://api.spotify.com/v1/audio-features/?ids=7mUyFnFlxaXysRUN8wbFz2 with Params: {} returned 403 due to None\n",
      "HTTP Error for GET to https://api.spotify.com/v1/audio-features/?ids=4gWjmMP47JvAefYEtE5a92 with Params: {} returned 403 due to None\n",
      "HTTP Error for GET to https://api.spotify.com/v1/audio-features/?ids=1Z1flr6SYvnIF6Td0ySs2t with Params: {} returned 403 due to None\n",
      "HTTP Error for GET to https://api.spotify.com/v1/audio-features/?ids=6KRRIxuHUOfg8WEqHrdJal with Params: {} returned 403 due to None\n"
     ]
    },
    {
     "name": "stdout",
     "output_type": "stream",
     "text": [
      "Error fetching features for track 7mUyFnFlxaXysRUN8wbFz2: http status: 403, code:-1 - https://api.spotify.com/v1/audio-features/?ids=7mUyFnFlxaXysRUN8wbFz2:\n",
      " None, reason: None\n",
      "Error fetching features for track 4gWjmMP47JvAefYEtE5a92: http status: 403, code:-1 - https://api.spotify.com/v1/audio-features/?ids=4gWjmMP47JvAefYEtE5a92:\n",
      " None, reason: None\n",
      "Error fetching features for track 1Z1flr6SYvnIF6Td0ySs2t: http status: 403, code:-1 - https://api.spotify.com/v1/audio-features/?ids=1Z1flr6SYvnIF6Td0ySs2t:\n",
      " None, reason: None\n",
      "Error fetching features for track 6KRRIxuHUOfg8WEqHrdJal: http status: 403, code:-1 - https://api.spotify.com/v1/audio-features/?ids=6KRRIxuHUOfg8WEqHrdJal:\n",
      " None, reason: None\n"
     ]
    },
    {
     "name": "stderr",
     "output_type": "stream",
     "text": [
      "HTTP Error for GET to https://api.spotify.com/v1/audio-features/?ids=2TDVVoyNR3qNROyZN1UjLQ with Params: {} returned 403 due to None\n",
      "HTTP Error for GET to https://api.spotify.com/v1/audio-features/?ids=1xnbMu7FeNI5sp2FaRQdw0 with Params: {} returned 403 due to None\n",
      "HTTP Error for GET to https://api.spotify.com/v1/audio-features/?ids=23AY6ZIIpTi8a5cvcCYbZ2 with Params: {} returned 403 due to None\n",
      "HTTP Error for GET to https://api.spotify.com/v1/audio-features/?ids=5IICsgzOIQsCykvzGpApsb with Params: {} returned 403 due to None\n"
     ]
    },
    {
     "name": "stdout",
     "output_type": "stream",
     "text": [
      "Error fetching features for track 2TDVVoyNR3qNROyZN1UjLQ: http status: 403, code:-1 - https://api.spotify.com/v1/audio-features/?ids=2TDVVoyNR3qNROyZN1UjLQ:\n",
      " None, reason: None\n",
      "Error fetching features for track 1xnbMu7FeNI5sp2FaRQdw0: http status: 403, code:-1 - https://api.spotify.com/v1/audio-features/?ids=1xnbMu7FeNI5sp2FaRQdw0:\n",
      " None, reason: None\n",
      "Error fetching features for track 23AY6ZIIpTi8a5cvcCYbZ2: http status: 403, code:-1 - https://api.spotify.com/v1/audio-features/?ids=23AY6ZIIpTi8a5cvcCYbZ2:\n",
      " None, reason: None\n",
      "Error fetching features for track 5IICsgzOIQsCykvzGpApsb: http status: 403, code:-1 - https://api.spotify.com/v1/audio-features/?ids=5IICsgzOIQsCykvzGpApsb:\n",
      " None, reason: None\n"
     ]
    },
    {
     "name": "stderr",
     "output_type": "stream",
     "text": [
      "HTTP Error for GET to https://api.spotify.com/v1/audio-features/?ids=5ynmMeB95xzQ4lSVPzyVHh with Params: {} returned 403 due to None\n",
      "HTTP Error for GET to https://api.spotify.com/v1/audio-features/?ids=3l5fTs3Ww4MKDMsxfAXIou with Params: {} returned 403 due to None\n",
      "HTTP Error for GET to https://api.spotify.com/v1/audio-features/?ids=3P3RbtgGA2bSaRvjnQ75Zh with Params: {} returned 403 due to None\n",
      "HTTP Error for GET to https://api.spotify.com/v1/audio-features/?ids=36YYACz9Dfbc3LiDaKSASL with Params: {} returned 403 due to None\n"
     ]
    },
    {
     "name": "stdout",
     "output_type": "stream",
     "text": [
      "Error fetching features for track 5ynmMeB95xzQ4lSVPzyVHh: http status: 403, code:-1 - https://api.spotify.com/v1/audio-features/?ids=5ynmMeB95xzQ4lSVPzyVHh:\n",
      " None, reason: None\n",
      "Error fetching features for track 3l5fTs3Ww4MKDMsxfAXIou: http status: 403, code:-1 - https://api.spotify.com/v1/audio-features/?ids=3l5fTs3Ww4MKDMsxfAXIou:\n",
      " None, reason: None\n",
      "Error fetching features for track 3P3RbtgGA2bSaRvjnQ75Zh: http status: 403, code:-1 - https://api.spotify.com/v1/audio-features/?ids=3P3RbtgGA2bSaRvjnQ75Zh:\n",
      " None, reason: None\n",
      "Error fetching features for track 36YYACz9Dfbc3LiDaKSASL: http status: 403, code:-1 - https://api.spotify.com/v1/audio-features/?ids=36YYACz9Dfbc3LiDaKSASL:\n",
      " None, reason: None\n"
     ]
    },
    {
     "name": "stderr",
     "output_type": "stream",
     "text": [
      "HTTP Error for GET to https://api.spotify.com/v1/audio-features/?ids=4KR0pOhDDuhHEmETCumhis with Params: {} returned 403 due to None\n",
      "HTTP Error for GET to https://api.spotify.com/v1/audio-features/?ids=2yBxVCCJkfCuwhA0GR2VwA with Params: {} returned 403 due to None\n",
      "HTTP Error for GET to https://api.spotify.com/v1/audio-features/?ids=2RgvvnMwtP0R2OkVZmFvnV with Params: {} returned 403 due to None\n",
      "HTTP Error for GET to https://api.spotify.com/v1/audio-features/?ids=5qG6jYnBmGMdKS1WiZBgj5 with Params: {} returned 403 due to None\n"
     ]
    },
    {
     "name": "stdout",
     "output_type": "stream",
     "text": [
      "Error fetching features for track 4KR0pOhDDuhHEmETCumhis: http status: 403, code:-1 - https://api.spotify.com/v1/audio-features/?ids=4KR0pOhDDuhHEmETCumhis:\n",
      " None, reason: None\n",
      "Error fetching features for track 2yBxVCCJkfCuwhA0GR2VwA: http status: 403, code:-1 - https://api.spotify.com/v1/audio-features/?ids=2yBxVCCJkfCuwhA0GR2VwA:\n",
      " None, reason: None\n",
      "Error fetching features for track 2RgvvnMwtP0R2OkVZmFvnV: http status: 403, code:-1 - https://api.spotify.com/v1/audio-features/?ids=2RgvvnMwtP0R2OkVZmFvnV:\n",
      " None, reason: None\n"
     ]
    },
    {
     "name": "stderr",
     "output_type": "stream",
     "text": [
      "HTTP Error for GET to https://api.spotify.com/v1/audio-features/?ids=15Vuw407y6UWIPUfGrpJ1e with Params: {} returned 403 due to None\n",
      "HTTP Error for GET to https://api.spotify.com/v1/audio-features/?ids=0dJacN6K3mSGLE9p7QE0lO with Params: {} returned 403 due to None\n"
     ]
    },
    {
     "name": "stdout",
     "output_type": "stream",
     "text": [
      "Error fetching features for track 5qG6jYnBmGMdKS1WiZBgj5: http status: 403, code:-1 - https://api.spotify.com/v1/audio-features/?ids=5qG6jYnBmGMdKS1WiZBgj5:\n",
      " None, reason: None\n",
      "Error fetching features for track 15Vuw407y6UWIPUfGrpJ1e: http status: 403, code:-1 - https://api.spotify.com/v1/audio-features/?ids=15Vuw407y6UWIPUfGrpJ1e:\n",
      " None, reason: None\n",
      "Error fetching features for track 0dJacN6K3mSGLE9p7QE0lO: http status: 403, code:-1 - https://api.spotify.com/v1/audio-features/?ids=0dJacN6K3mSGLE9p7QE0lO:\n",
      " None, reason: None\n"
     ]
    },
    {
     "name": "stderr",
     "output_type": "stream",
     "text": [
      "HTTP Error for GET to https://api.spotify.com/v1/audio-features/?ids=6D2ZnEZ92wUFTr38YXTCL5 with Params: {} returned 403 due to None\n",
      "HTTP Error for GET to https://api.spotify.com/v1/audio-features/?ids=3hCUkos0NxuSFl73oOHJzb with Params: {} returned 403 due to None\n",
      "HTTP Error for GET to https://api.spotify.com/v1/audio-features/?ids=6f3C6rJo7zvmfr1h5SRvxg with Params: {} returned 403 due to None\n"
     ]
    },
    {
     "name": "stdout",
     "output_type": "stream",
     "text": [
      "Processing batch 7 of 29\n",
      "Error fetching features for track 6D2ZnEZ92wUFTr38YXTCL5: http status: 403, code:-1 - https://api.spotify.com/v1/audio-features/?ids=6D2ZnEZ92wUFTr38YXTCL5:\n",
      " None, reason: None\n",
      "Error fetching features for track 3hCUkos0NxuSFl73oOHJzb: http status: 403, code:-1 - https://api.spotify.com/v1/audio-features/?ids=3hCUkos0NxuSFl73oOHJzb:\n",
      " None, reason: None\n",
      "Error fetching features for track 6f3C6rJo7zvmfr1h5SRvxg: http status: 403, code:-1 - https://api.spotify.com/v1/audio-features/?ids=6f3C6rJo7zvmfr1h5SRvxg:\n",
      " None, reason: None\n"
     ]
    },
    {
     "name": "stderr",
     "output_type": "stream",
     "text": [
      "HTTP Error for GET to https://api.spotify.com/v1/audio-features/?ids=251PNRmJU9KcUnFQAB5t6I with Params: {} returned 403 due to None\n",
      "HTTP Error for GET to https://api.spotify.com/v1/audio-features/?ids=6fIVkFeP4tk5CzFTPDf9PE with Params: {} returned 403 due to None\n",
      "HTTP Error for GET to https://api.spotify.com/v1/audio-features/?ids=1bqMVta76huBpSIzTIrDM0 with Params: {} returned 403 due to None\n",
      "HTTP Error for GET to https://api.spotify.com/v1/audio-features/?ids=1Wmhz6pAesAAKh6Oy3zknL with Params: {} returned 403 due to None\n"
     ]
    },
    {
     "name": "stdout",
     "output_type": "stream",
     "text": [
      "Error fetching features for track 251PNRmJU9KcUnFQAB5t6I: http status: 403, code:-1 - https://api.spotify.com/v1/audio-features/?ids=251PNRmJU9KcUnFQAB5t6I:\n",
      " None, reason: None\n",
      "Error fetching features for track 6fIVkFeP4tk5CzFTPDf9PE: http status: 403, code:-1 - https://api.spotify.com/v1/audio-features/?ids=6fIVkFeP4tk5CzFTPDf9PE:\n",
      " None, reason: None\n",
      "Error fetching features for track 1bqMVta76huBpSIzTIrDM0: http status: 403, code:-1 - https://api.spotify.com/v1/audio-features/?ids=1bqMVta76huBpSIzTIrDM0:\n",
      " None, reason: None\n",
      "Error fetching features for track 1Wmhz6pAesAAKh6Oy3zknL: http status: 403, code:-1 - https://api.spotify.com/v1/audio-features/?ids=1Wmhz6pAesAAKh6Oy3zknL:\n",
      " None, reason: None\n"
     ]
    },
    {
     "name": "stderr",
     "output_type": "stream",
     "text": [
      "HTTP Error for GET to https://api.spotify.com/v1/audio-features/?ids=3hCUkos0NxuSFl73oOHJzb with Params: {} returned 403 due to None\n",
      "HTTP Error for GET to https://api.spotify.com/v1/audio-features/?ids=3rsx3pDYM3a08O0Yu3Tq6V with Params: {} returned 403 due to None\n"
     ]
    },
    {
     "name": "stdout",
     "output_type": "stream",
     "text": [
      "Error fetching features for track 3hCUkos0NxuSFl73oOHJzb: http status: 403, code:-1 - https://api.spotify.com/v1/audio-features/?ids=3hCUkos0NxuSFl73oOHJzb:\n",
      " None, reason: None\n",
      "Error fetching features for track 3rsx3pDYM3a08O0Yu3Tq6V: http status: 403, code:-1 - https://api.spotify.com/v1/audio-features/?ids=3rsx3pDYM3a08O0Yu3Tq6V:\n",
      " None, reason: None\n"
     ]
    },
    {
     "name": "stderr",
     "output_type": "stream",
     "text": [
      "HTTP Error for GET to https://api.spotify.com/v1/audio-features/?ids=5H4rKylLnO8KrmdXTRhj5s with Params: {} returned 403 due to None\n",
      "HTTP Error for GET to https://api.spotify.com/v1/audio-features/?ids=4uXShFWajd1PTQzlW3P4jj with Params: {} returned 403 due to None\n",
      "HTTP Error for GET to https://api.spotify.com/v1/audio-features/?ids=56h75LnnsaBy4T8N8MSNgF with Params: {} returned 403 due to None\n"
     ]
    },
    {
     "name": "stdout",
     "output_type": "stream",
     "text": [
      "Error fetching features for track 5H4rKylLnO8KrmdXTRhj5s: http status: 403, code:-1 - https://api.spotify.com/v1/audio-features/?ids=5H4rKylLnO8KrmdXTRhj5s:\n",
      " None, reason: None\n",
      "Error fetching features for track 4uXShFWajd1PTQzlW3P4jj: http status: 403, code:-1 - https://api.spotify.com/v1/audio-features/?ids=4uXShFWajd1PTQzlW3P4jj:\n",
      " None, reason: None\n",
      "Error fetching features for track 56h75LnnsaBy4T8N8MSNgF: http status: 403, code:-1 - https://api.spotify.com/v1/audio-features/?ids=56h75LnnsaBy4T8N8MSNgF:\n",
      " None, reason: None\n"
     ]
    },
    {
     "name": "stderr",
     "output_type": "stream",
     "text": [
      "HTTP Error for GET to https://api.spotify.com/v1/audio-features/?ids=6ECucSdJeJmSm3k1k3Vumv with Params: {} returned 403 due to None\n",
      "HTTP Error for GET to https://api.spotify.com/v1/audio-features/?ids=0kGackDOW4tY8WZrUtQDHG with Params: {} returned 403 due to None\n",
      "HTTP Error for GET to https://api.spotify.com/v1/audio-features/?ids=1jk1tdtftNDbynHJ2H3X8Z with Params: {} returned 403 due to None\n"
     ]
    },
    {
     "name": "stdout",
     "output_type": "stream",
     "text": [
      "Error fetching features for track 6ECucSdJeJmSm3k1k3Vumv: http status: 403, code:-1 - https://api.spotify.com/v1/audio-features/?ids=6ECucSdJeJmSm3k1k3Vumv:\n",
      " None, reason: None\n",
      "Error fetching features for track 0kGackDOW4tY8WZrUtQDHG: http status: 403, code:-1 - https://api.spotify.com/v1/audio-features/?ids=0kGackDOW4tY8WZrUtQDHG:\n",
      " None, reason: None\n",
      "Error fetching features for track 1jk1tdtftNDbynHJ2H3X8Z: http status: 403, code:-1 - https://api.spotify.com/v1/audio-features/?ids=1jk1tdtftNDbynHJ2H3X8Z:\n",
      " None, reason: None\n"
     ]
    },
    {
     "name": "stderr",
     "output_type": "stream",
     "text": [
      "HTTP Error for GET to https://api.spotify.com/v1/audio-features/?ids=6RpQ77faxeSNUt5uOfCH4N with Params: {} returned 403 due to None\n",
      "HTTP Error for GET to https://api.spotify.com/v1/audio-features/?ids=4PwjaQ5q9NwGhFXdmk5sU8 with Params: {} returned 403 due to None\n",
      "HTTP Error for GET to https://api.spotify.com/v1/audio-features/?ids=7jlkMcwjLJvqkSlI2MtaLY with Params: {} returned 403 due to None\n"
     ]
    },
    {
     "name": "stdout",
     "output_type": "stream",
     "text": [
      "Error fetching features for track 6RpQ77faxeSNUt5uOfCH4N: http status: 403, code:-1 - https://api.spotify.com/v1/audio-features/?ids=6RpQ77faxeSNUt5uOfCH4N:\n",
      " None, reason: None\n",
      "Error fetching features for track 4PwjaQ5q9NwGhFXdmk5sU8: http status: 403, code:-1 - https://api.spotify.com/v1/audio-features/?ids=4PwjaQ5q9NwGhFXdmk5sU8:\n",
      " None, reason: None\n",
      "Error fetching features for track 7jlkMcwjLJvqkSlI2MtaLY: http status: 403, code:-1 - https://api.spotify.com/v1/audio-features/?ids=7jlkMcwjLJvqkSlI2MtaLY:\n",
      " None, reason: None\n"
     ]
    },
    {
     "name": "stderr",
     "output_type": "stream",
     "text": [
      "HTTP Error for GET to https://api.spotify.com/v1/audio-features/?ids=18YHbIhrleUkKKj2DvEp79 with Params: {} returned 403 due to None\n"
     ]
    },
    {
     "name": "stdout",
     "output_type": "stream",
     "text": [
      "Error fetching features for track 18YHbIhrleUkKKj2DvEp79: http status: 403, code:-1 - https://api.spotify.com/v1/audio-features/?ids=18YHbIhrleUkKKj2DvEp79:\n",
      " None, reason: None\n"
     ]
    },
    {
     "name": "stderr",
     "output_type": "stream",
     "text": [
      "HTTP Error for GET to https://api.spotify.com/v1/audio-features/?ids=57jOEZtoLQK4zF2x55bdkp with Params: {} returned 403 due to None\n",
      "HTTP Error for GET to https://api.spotify.com/v1/audio-features/?ids=0dJacN6K3mSGLE9p7QE0lO with Params: {} returned 403 due to None\n",
      "HTTP Error for GET to https://api.spotify.com/v1/audio-features/?ids=1uzkWkIaWaxzHJgJ4Fy5rO with Params: {} returned 403 due to None\n",
      "HTTP Error for GET to https://api.spotify.com/v1/audio-features/?ids=3LllvNPZFMxJ4vLWuUBAHG with Params: {} returned 403 due to None\n"
     ]
    },
    {
     "name": "stdout",
     "output_type": "stream",
     "text": [
      "Error fetching features for track 57jOEZtoLQK4zF2x55bdkp: http status: 403, code:-1 - https://api.spotify.com/v1/audio-features/?ids=57jOEZtoLQK4zF2x55bdkp:\n",
      " None, reason: None\n",
      "Error fetching features for track 0dJacN6K3mSGLE9p7QE0lO: http status: 403, code:-1 - https://api.spotify.com/v1/audio-features/?ids=0dJacN6K3mSGLE9p7QE0lO:\n",
      " None, reason: None\n",
      "Error fetching features for track 1uzkWkIaWaxzHJgJ4Fy5rO: http status: 403, code:-1 - https://api.spotify.com/v1/audio-features/?ids=1uzkWkIaWaxzHJgJ4Fy5rO:\n",
      " None, reason: None\n",
      "Error fetching features for track 3LllvNPZFMxJ4vLWuUBAHG: http status: 403, code:-1 - https://api.spotify.com/v1/audio-features/?ids=3LllvNPZFMxJ4vLWuUBAHG:\n",
      " None, reason: None\n"
     ]
    },
    {
     "name": "stderr",
     "output_type": "stream",
     "text": [
      "HTTP Error for GET to https://api.spotify.com/v1/audio-features/?ids=5H4rKylLnO8KrmdXTRhj5s with Params: {} returned 403 due to None\n",
      "HTTP Error for GET to https://api.spotify.com/v1/audio-features/?ids=7EjatvVN2Y2GjpvKSyWJR4 with Params: {} returned 403 due to None\n",
      "HTTP Error for GET to https://api.spotify.com/v1/audio-features/?ids=7EjatvVN2Y2GjpvKSyWJR4 with Params: {} returned 403 due to None\n"
     ]
    },
    {
     "name": "stdout",
     "output_type": "stream",
     "text": [
      "Error fetching features for track 5H4rKylLnO8KrmdXTRhj5s: http status: 403, code:-1 - https://api.spotify.com/v1/audio-features/?ids=5H4rKylLnO8KrmdXTRhj5s:\n",
      " None, reason: None\n",
      "Error fetching features for track 7EjatvVN2Y2GjpvKSyWJR4: http status: 403, code:-1 - https://api.spotify.com/v1/audio-features/?ids=7EjatvVN2Y2GjpvKSyWJR4:\n",
      " None, reason: None\n",
      "Error fetching features for track 7EjatvVN2Y2GjpvKSyWJR4: http status: 403, code:-1 - https://api.spotify.com/v1/audio-features/?ids=7EjatvVN2Y2GjpvKSyWJR4:\n",
      " None, reason: None\n"
     ]
    },
    {
     "name": "stderr",
     "output_type": "stream",
     "text": [
      "HTTP Error for GET to https://api.spotify.com/v1/audio-features/?ids=4ZVfIGaZP93t0stmBj4FqA with Params: {} returned 403 due to None\n",
      "HTTP Error for GET to https://api.spotify.com/v1/audio-features/?ids=7EjatvVN2Y2GjpvKSyWJR4 with Params: {} returned 403 due to None\n",
      "HTTP Error for GET to https://api.spotify.com/v1/audio-features/?ids=0gPgdRfB4jdGrlyXS0Vx78 with Params: {} returned 403 due to None\n"
     ]
    },
    {
     "name": "stdout",
     "output_type": "stream",
     "text": [
      "Error fetching features for track 4ZVfIGaZP93t0stmBj4FqA: http status: 403, code:-1 - https://api.spotify.com/v1/audio-features/?ids=4ZVfIGaZP93t0stmBj4FqA:\n",
      " None, reason: None\n",
      "Error fetching features for track 7EjatvVN2Y2GjpvKSyWJR4: http status: 403, code:-1 - https://api.spotify.com/v1/audio-features/?ids=7EjatvVN2Y2GjpvKSyWJR4:\n",
      " None, reason: None\n",
      "Error fetching features for track 0gPgdRfB4jdGrlyXS0Vx78: http status: 403, code:-1 - https://api.spotify.com/v1/audio-features/?ids=0gPgdRfB4jdGrlyXS0Vx78:\n",
      " None, reason: None\n"
     ]
    },
    {
     "name": "stderr",
     "output_type": "stream",
     "text": [
      "HTTP Error for GET to https://api.spotify.com/v1/audio-features/?ids=2RgvvnMwtP0R2OkVZmFvnV with Params: {} returned 403 due to None\n",
      "HTTP Error for GET to https://api.spotify.com/v1/audio-features/?ids=18YHbIhrleUkKKj2DvEp79 with Params: {} returned 403 due to None\n",
      "HTTP Error for GET to https://api.spotify.com/v1/audio-features/?ids=0zQa7QXLpUZfrrsWbgDZll with Params: {} returned 403 due to None\n"
     ]
    },
    {
     "name": "stdout",
     "output_type": "stream",
     "text": [
      "Error fetching features for track 2RgvvnMwtP0R2OkVZmFvnV: http status: 403, code:-1 - https://api.spotify.com/v1/audio-features/?ids=2RgvvnMwtP0R2OkVZmFvnV:\n",
      " None, reason: None\n",
      "Error fetching features for track 18YHbIhrleUkKKj2DvEp79: http status: 403, code:-1 - https://api.spotify.com/v1/audio-features/?ids=18YHbIhrleUkKKj2DvEp79:\n",
      " None, reason: None\n",
      "Error fetching features for track 0zQa7QXLpUZfrrsWbgDZll: http status: 403, code:-1 - https://api.spotify.com/v1/audio-features/?ids=0zQa7QXLpUZfrrsWbgDZll:\n",
      " None, reason: None\n"
     ]
    },
    {
     "name": "stderr",
     "output_type": "stream",
     "text": [
      "HTTP Error for GET to https://api.spotify.com/v1/audio-features/?ids=47l2Dd3XPBLio3kjbEMyDJ with Params: {} returned 403 due to None\n",
      "HTTP Error for GET to https://api.spotify.com/v1/audio-features/?ids=62wnQra2VgCUyHO3BUIAcr with Params: {} returned 403 due to None\n",
      "HTTP Error for GET to https://api.spotify.com/v1/audio-features/?ids=42XgH6kQAvTOiKODWMuD9p with Params: {} returned 403 due to None\n",
      "HTTP Error for GET to https://api.spotify.com/v1/audio-features/?ids=0anBHV3eP4hiHsLQR5AZsm with Params: {} returned 403 due to None\n"
     ]
    },
    {
     "name": "stdout",
     "output_type": "stream",
     "text": [
      "Error fetching features for track 47l2Dd3XPBLio3kjbEMyDJ: http status: 403, code:-1 - https://api.spotify.com/v1/audio-features/?ids=47l2Dd3XPBLio3kjbEMyDJ:\n",
      " None, reason: None\n",
      "Error fetching features for track 62wnQra2VgCUyHO3BUIAcr: http status: 403, code:-1 - https://api.spotify.com/v1/audio-features/?ids=62wnQra2VgCUyHO3BUIAcr:\n",
      " None, reason: None\n",
      "Error fetching features for track 42XgH6kQAvTOiKODWMuD9p: http status: 403, code:-1 - https://api.spotify.com/v1/audio-features/?ids=42XgH6kQAvTOiKODWMuD9p:\n",
      " None, reason: None\n",
      "Error fetching features for track 0anBHV3eP4hiHsLQR5AZsm: http status: 403, code:-1 - https://api.spotify.com/v1/audio-features/?ids=0anBHV3eP4hiHsLQR5AZsm:\n",
      " None, reason: None\n"
     ]
    },
    {
     "name": "stderr",
     "output_type": "stream",
     "text": [
      "HTTP Error for GET to https://api.spotify.com/v1/audio-features/?ids=5O6JcBvS6FK1TkGDkQnInh with Params: {} returned 403 due to None\n",
      "HTTP Error for GET to https://api.spotify.com/v1/audio-features/?ids=3G2I8KB7bTWmvE1tHSlMHg with Params: {} returned 403 due to None\n",
      "HTTP Error for GET to https://api.spotify.com/v1/audio-features/?ids=3s6H6UW7yPu2rsF8CGki60 with Params: {} returned 403 due to None\n"
     ]
    },
    {
     "name": "stdout",
     "output_type": "stream",
     "text": [
      "Error fetching features for track 5O6JcBvS6FK1TkGDkQnInh: http status: 403, code:-1 - https://api.spotify.com/v1/audio-features/?ids=5O6JcBvS6FK1TkGDkQnInh:\n",
      " None, reason: None\n",
      "Error fetching features for track 3G2I8KB7bTWmvE1tHSlMHg: http status: 403, code:-1 - https://api.spotify.com/v1/audio-features/?ids=3G2I8KB7bTWmvE1tHSlMHg:\n",
      " None, reason: None\n",
      "Error fetching features for track 3s6H6UW7yPu2rsF8CGki60: http status: 403, code:-1 - https://api.spotify.com/v1/audio-features/?ids=3s6H6UW7yPu2rsF8CGki60:\n",
      " None, reason: None\n"
     ]
    },
    {
     "name": "stderr",
     "output_type": "stream",
     "text": [
      "HTTP Error for GET to https://api.spotify.com/v1/audio-features/?ids=1tKhy83q8OsdcpZaX9N4Z2 with Params: {} returned 403 due to None\n",
      "HTTP Error for GET to https://api.spotify.com/v1/audio-features/?ids=3CW0qWSqqqDvQWritNm7bC with Params: {} returned 403 due to None\n",
      "HTTP Error for GET to https://api.spotify.com/v1/audio-features/?ids=30yySOIXHZYx94sLAySy2j with Params: {} returned 403 due to None\n",
      "HTTP Error for GET to https://api.spotify.com/v1/audio-features/?ids=4I5Xcdu5Hnki1aP0Uxbs4n with Params: {} returned 403 due to None\n"
     ]
    },
    {
     "name": "stdout",
     "output_type": "stream",
     "text": [
      "Error fetching features for track 1tKhy83q8OsdcpZaX9N4Z2: http status: 403, code:-1 - https://api.spotify.com/v1/audio-features/?ids=1tKhy83q8OsdcpZaX9N4Z2:\n",
      " None, reason: None\n",
      "Error fetching features for track 3CW0qWSqqqDvQWritNm7bC: http status: 403, code:-1 - https://api.spotify.com/v1/audio-features/?ids=3CW0qWSqqqDvQWritNm7bC:\n",
      " None, reason: None\n",
      "Error fetching features for track 30yySOIXHZYx94sLAySy2j: http status: 403, code:-1 - https://api.spotify.com/v1/audio-features/?ids=30yySOIXHZYx94sLAySy2j:\n",
      " None, reason: None\n",
      "Error fetching features for track 4I5Xcdu5Hnki1aP0Uxbs4n: http status: 403, code:-1 - https://api.spotify.com/v1/audio-features/?ids=4I5Xcdu5Hnki1aP0Uxbs4n:\n",
      " None, reason: None\n"
     ]
    },
    {
     "name": "stderr",
     "output_type": "stream",
     "text": [
      "HTTP Error for GET to https://api.spotify.com/v1/audio-features/?ids=18YHbIhrleUkKKj2DvEp79 with Params: {} returned 403 due to None\n",
      "HTTP Error for GET to https://api.spotify.com/v1/audio-features/?ids=3Kl8p2PxVf8eAayLwTxOIm with Params: {} returned 403 due to None\n",
      "HTTP Error for GET to https://api.spotify.com/v1/audio-features/?ids=18gi2IxbZ3Ugom7wTRkohf with Params: {} returned 403 due to None\n",
      "HTTP Error for GET to https://api.spotify.com/v1/audio-features/?ids=0MBo68MtMOMNecfVhDZ3hH with Params: {} returned 403 due to None\n"
     ]
    },
    {
     "name": "stdout",
     "output_type": "stream",
     "text": [
      "Error fetching features for track 18YHbIhrleUkKKj2DvEp79: http status: 403, code:-1 - https://api.spotify.com/v1/audio-features/?ids=18YHbIhrleUkKKj2DvEp79:\n",
      " None, reason: None\n",
      "Error fetching features for track 3Kl8p2PxVf8eAayLwTxOIm: http status: 403, code:-1 - https://api.spotify.com/v1/audio-features/?ids=3Kl8p2PxVf8eAayLwTxOIm:\n",
      " None, reason: None\n",
      "Error fetching features for track 18gi2IxbZ3Ugom7wTRkohf: http status: 403, code:-1 - https://api.spotify.com/v1/audio-features/?ids=18gi2IxbZ3Ugom7wTRkohf:\n",
      " None, reason: None\n",
      "Error fetching features for track 0MBo68MtMOMNecfVhDZ3hH: http status: 403, code:-1 - https://api.spotify.com/v1/audio-features/?ids=0MBo68MtMOMNecfVhDZ3hH:\n",
      " None, reason: None\n"
     ]
    },
    {
     "name": "stderr",
     "output_type": "stream",
     "text": [
      "HTTP Error for GET to https://api.spotify.com/v1/audio-features/?ids=1AlatlIkROgLvG6pgBBnAz with Params: {} returned 403 due to None\n",
      "HTTP Error for GET to https://api.spotify.com/v1/audio-features/?ids=1eVqJoWeulD9mR1Kp4XAWe with Params: {} returned 403 due to None\n",
      "HTTP Error for GET to https://api.spotify.com/v1/audio-features/?ids=3kSBSSsXtebECjCggW87yq with Params: {} returned 403 due to None\n"
     ]
    },
    {
     "name": "stdout",
     "output_type": "stream",
     "text": [
      "Error fetching features for track 1AlatlIkROgLvG6pgBBnAz: http status: 403, code:-1 - https://api.spotify.com/v1/audio-features/?ids=1AlatlIkROgLvG6pgBBnAz:\n",
      " None, reason: None\n",
      "Error fetching features for track 1eVqJoWeulD9mR1Kp4XAWe: http status: 403, code:-1 - https://api.spotify.com/v1/audio-features/?ids=1eVqJoWeulD9mR1Kp4XAWe:\n",
      " None, reason: None\n",
      "Error fetching features for track 3kSBSSsXtebECjCggW87yq: http status: 403, code:-1 - https://api.spotify.com/v1/audio-features/?ids=3kSBSSsXtebECjCggW87yq:\n",
      " None, reason: None\n"
     ]
    },
    {
     "name": "stderr",
     "output_type": "stream",
     "text": [
      "HTTP Error for GET to https://api.spotify.com/v1/audio-features/?ids=2PcGqmKToUz0s65q1Acg7d with Params: {} returned 403 due to None\n"
     ]
    },
    {
     "name": "stdout",
     "output_type": "stream",
     "text": [
      "Processing batch 8 of 29\n",
      "Error fetching features for track 2PcGqmKToUz0s65q1Acg7d: http status: 403, code:-1 - https://api.spotify.com/v1/audio-features/?ids=2PcGqmKToUz0s65q1Acg7d:\n",
      " None, reason: None\n"
     ]
    },
    {
     "name": "stderr",
     "output_type": "stream",
     "text": [
      "HTTP Error for GET to https://api.spotify.com/v1/audio-features/?ids=2yBxVCCJkfCuwhA0GR2VwA with Params: {} returned 403 due to None\n",
      "HTTP Error for GET to https://api.spotify.com/v1/audio-features/?ids=4gqHEia13bp5EFWGitiKWx with Params: {} returned 403 due to None\n",
      "HTTP Error for GET to https://api.spotify.com/v1/audio-features/?ids=3hoXhwP0ub9LdSJV4olDIc with Params: {} returned 403 due to None\n"
     ]
    },
    {
     "name": "stdout",
     "output_type": "stream",
     "text": [
      "Error fetching features for track 2yBxVCCJkfCuwhA0GR2VwA: http status: 403, code:-1 - https://api.spotify.com/v1/audio-features/?ids=2yBxVCCJkfCuwhA0GR2VwA:\n",
      " None, reason: None\n",
      "Error fetching features for track 4gqHEia13bp5EFWGitiKWx: http status: 403, code:-1 - https://api.spotify.com/v1/audio-features/?ids=4gqHEia13bp5EFWGitiKWx:\n",
      " None, reason: None\n",
      "Error fetching features for track 3hoXhwP0ub9LdSJV4olDIc: http status: 403, code:-1 - https://api.spotify.com/v1/audio-features/?ids=3hoXhwP0ub9LdSJV4olDIc:\n",
      " None, reason: None\n"
     ]
    },
    {
     "name": "stderr",
     "output_type": "stream",
     "text": [
      "HTTP Error for GET to https://api.spotify.com/v1/audio-features/?ids=0u8wprNfOdcWpUlWnfMcpP with Params: {} returned 403 due to None\n",
      "HTTP Error for GET to https://api.spotify.com/v1/audio-features/?ids=0gPgdRfB4jdGrlyXS0Vx78 with Params: {} returned 403 due to None\n",
      "HTTP Error for GET to https://api.spotify.com/v1/audio-features/?ids=5IICsgzOIQsCykvzGpApsb with Params: {} returned 403 due to None\n",
      "HTTP Error for GET to https://api.spotify.com/v1/audio-features/?ids=5ynmMeB95xzQ4lSVPzyVHh with Params: {} returned 403 due to None\n"
     ]
    },
    {
     "name": "stdout",
     "output_type": "stream",
     "text": [
      "Error fetching features for track 0u8wprNfOdcWpUlWnfMcpP: http status: 403, code:-1 - https://api.spotify.com/v1/audio-features/?ids=0u8wprNfOdcWpUlWnfMcpP:\n",
      " None, reason: None\n",
      "Error fetching features for track 0gPgdRfB4jdGrlyXS0Vx78: http status: 403, code:-1 - https://api.spotify.com/v1/audio-features/?ids=0gPgdRfB4jdGrlyXS0Vx78:\n",
      " None, reason: None\n",
      "Error fetching features for track 5IICsgzOIQsCykvzGpApsb: http status: 403, code:-1 - https://api.spotify.com/v1/audio-features/?ids=5IICsgzOIQsCykvzGpApsb:\n",
      " None, reason: None\n",
      "Error fetching features for track 5ynmMeB95xzQ4lSVPzyVHh: http status: 403, code:-1 - https://api.spotify.com/v1/audio-features/?ids=5ynmMeB95xzQ4lSVPzyVHh:\n",
      " None, reason: None\n"
     ]
    },
    {
     "name": "stderr",
     "output_type": "stream",
     "text": [
      "HTTP Error for GET to https://api.spotify.com/v1/audio-features/?ids=298atiKYvG84VfbXNbZiX5 with Params: {} returned 403 due to None\n",
      "HTTP Error for GET to https://api.spotify.com/v1/audio-features/?ids=7IjnfuMNfdrAXbefurdIIR with Params: {} returned 403 due to None\n",
      "HTTP Error for GET to https://api.spotify.com/v1/audio-features/?ids=4Yp8zw7b35bheMVTp39o5O with Params: {} returned 403 due to None\n",
      "HTTP Error for GET to https://api.spotify.com/v1/audio-features/?ids=6fABlNfAOylt7ZxfX8K1XL with Params: {} returned 403 due to None\n"
     ]
    },
    {
     "name": "stdout",
     "output_type": "stream",
     "text": [
      "Error fetching features for track 298atiKYvG84VfbXNbZiX5: http status: 403, code:-1 - https://api.spotify.com/v1/audio-features/?ids=298atiKYvG84VfbXNbZiX5:\n",
      " None, reason: None\n",
      "Error fetching features for track 7IjnfuMNfdrAXbefurdIIR: http status: 403, code:-1 - https://api.spotify.com/v1/audio-features/?ids=7IjnfuMNfdrAXbefurdIIR:\n",
      " None, reason: None\n",
      "Error fetching features for track 4Yp8zw7b35bheMVTp39o5O: http status: 403, code:-1 - https://api.spotify.com/v1/audio-features/?ids=4Yp8zw7b35bheMVTp39o5O:\n",
      " None, reason: None\n",
      "Error fetching features for track 6fABlNfAOylt7ZxfX8K1XL: http status: 403, code:-1 - https://api.spotify.com/v1/audio-features/?ids=6fABlNfAOylt7ZxfX8K1XL:\n",
      " None, reason: None\n"
     ]
    },
    {
     "name": "stderr",
     "output_type": "stream",
     "text": [
      "HTTP Error for GET to https://api.spotify.com/v1/audio-features/?ids=2yBxVCCJkfCuwhA0GR2VwA with Params: {} returned 403 due to None\n",
      "HTTP Error for GET to https://api.spotify.com/v1/audio-features/?ids=0YCPCY9WhQFMFtoSpj6dhL with Params: {} returned 403 due to None\n",
      "HTTP Error for GET to https://api.spotify.com/v1/audio-features/?ids=6D2ZnEZ92wUFTr38YXTCL5 with Params: {} returned 403 due to None\n",
      "HTTP Error for GET to https://api.spotify.com/v1/audio-features/?ids=6fABlNfAOylt7ZxfX8K1XL with Params: {} returned 403 due to None\n"
     ]
    },
    {
     "name": "stdout",
     "output_type": "stream",
     "text": [
      "Error fetching features for track 2yBxVCCJkfCuwhA0GR2VwA: http status: 403, code:-1 - https://api.spotify.com/v1/audio-features/?ids=2yBxVCCJkfCuwhA0GR2VwA:\n",
      " None, reason: None\n",
      "Error fetching features for track 0YCPCY9WhQFMFtoSpj6dhL: http status: 403, code:-1 - https://api.spotify.com/v1/audio-features/?ids=0YCPCY9WhQFMFtoSpj6dhL:\n",
      " None, reason: None\n",
      "Error fetching features for track 6D2ZnEZ92wUFTr38YXTCL5: http status: 403, code:-1 - https://api.spotify.com/v1/audio-features/?ids=6D2ZnEZ92wUFTr38YXTCL5:\n",
      " None, reason: None\n",
      "Error fetching features for track 6fABlNfAOylt7ZxfX8K1XL: http status: 403, code:-1 - https://api.spotify.com/v1/audio-features/?ids=6fABlNfAOylt7ZxfX8K1XL:\n",
      " None, reason: None\n"
     ]
    },
    {
     "name": "stderr",
     "output_type": "stream",
     "text": [
      "HTTP Error for GET to https://api.spotify.com/v1/audio-features/?ids=2zT6KfK583MkcLIHLBO8De with Params: {} returned 403 due to None\n",
      "HTTP Error for GET to https://api.spotify.com/v1/audio-features/?ids=0dJacN6K3mSGLE9p7QE0lO with Params: {} returned 403 due to None\n",
      "HTTP Error for GET to https://api.spotify.com/v1/audio-features/?ids=5Cdd8p9sxRczQX6GFC8CdH with Params: {} returned 403 due to None\n",
      "HTTP Error for GET to https://api.spotify.com/v1/audio-features/?ids=18gi2IxbZ3Ugom7wTRkohf with Params: {} returned 403 due to None\n"
     ]
    },
    {
     "name": "stdout",
     "output_type": "stream",
     "text": [
      "Error fetching features for track 2zT6KfK583MkcLIHLBO8De: http status: 403, code:-1 - https://api.spotify.com/v1/audio-features/?ids=2zT6KfK583MkcLIHLBO8De:\n",
      " None, reason: None\n",
      "Error fetching features for track 0dJacN6K3mSGLE9p7QE0lO: http status: 403, code:-1 - https://api.spotify.com/v1/audio-features/?ids=0dJacN6K3mSGLE9p7QE0lO:\n",
      " None, reason: None\n",
      "Error fetching features for track 5Cdd8p9sxRczQX6GFC8CdH: http status: 403, code:-1 - https://api.spotify.com/v1/audio-features/?ids=5Cdd8p9sxRczQX6GFC8CdH:\n",
      " None, reason: None\n"
     ]
    },
    {
     "name": "stderr",
     "output_type": "stream",
     "text": [
      "HTTP Error for GET to https://api.spotify.com/v1/audio-features/?ids=18gi2IxbZ3Ugom7wTRkohf with Params: {} returned 403 due to None\n"
     ]
    },
    {
     "name": "stdout",
     "output_type": "stream",
     "text": [
      "Error fetching features for track 18gi2IxbZ3Ugom7wTRkohf: http status: 403, code:-1 - https://api.spotify.com/v1/audio-features/?ids=18gi2IxbZ3Ugom7wTRkohf:\n",
      " None, reason: None\n",
      "Error fetching features for track 18gi2IxbZ3Ugom7wTRkohf: http status: 403, code:-1 - https://api.spotify.com/v1/audio-features/?ids=18gi2IxbZ3Ugom7wTRkohf:\n",
      " None, reason: None\n"
     ]
    },
    {
     "name": "stderr",
     "output_type": "stream",
     "text": [
      "HTTP Error for GET to https://api.spotify.com/v1/audio-features/?ids=3hCUkos0NxuSFl73oOHJzb with Params: {} returned 403 due to None\n",
      "HTTP Error for GET to https://api.spotify.com/v1/audio-features/?ids=6UEhNvccAc4OyEDJYB5brb with Params: {} returned 403 due to None\n",
      "HTTP Error for GET to https://api.spotify.com/v1/audio-features/?ids=1WQHF8jw9CPabD4ImmEK1t with Params: {} returned 403 due to None\n"
     ]
    },
    {
     "name": "stdout",
     "output_type": "stream",
     "text": [
      "Error fetching features for track 3hCUkos0NxuSFl73oOHJzb: http status: 403, code:-1 - https://api.spotify.com/v1/audio-features/?ids=3hCUkos0NxuSFl73oOHJzb:\n",
      " None, reason: None\n",
      "Error fetching features for track 6UEhNvccAc4OyEDJYB5brb: http status: 403, code:-1 - https://api.spotify.com/v1/audio-features/?ids=6UEhNvccAc4OyEDJYB5brb:\n",
      " None, reason: None\n",
      "Error fetching features for track 1WQHF8jw9CPabD4ImmEK1t: http status: 403, code:-1 - https://api.spotify.com/v1/audio-features/?ids=1WQHF8jw9CPabD4ImmEK1t:\n",
      " None, reason: None\n"
     ]
    },
    {
     "name": "stderr",
     "output_type": "stream",
     "text": [
      "HTTP Error for GET to https://api.spotify.com/v1/audio-features/?ids=7EjatvVN2Y2GjpvKSyWJR4 with Params: {} returned 403 due to None\n",
      "HTTP Error for GET to https://api.spotify.com/v1/audio-features/?ids=5dS7HcRa9kER2qDba2iSOd with Params: {} returned 403 due to None\n",
      "HTTP Error for GET to https://api.spotify.com/v1/audio-features/?ids=2tO0QPdCA0jgDBshTuYYkc with Params: {} returned 403 due to None\n",
      "HTTP Error for GET to https://api.spotify.com/v1/audio-features/?ids=47l2Dd3XPBLio3kjbEMyDJ with Params: {} returned 403 due to None\n"
     ]
    },
    {
     "name": "stdout",
     "output_type": "stream",
     "text": [
      "Error fetching features for track 7EjatvVN2Y2GjpvKSyWJR4: http status: 403, code:-1 - https://api.spotify.com/v1/audio-features/?ids=7EjatvVN2Y2GjpvKSyWJR4:\n",
      " None, reason: None\n",
      "Error fetching features for track 5dS7HcRa9kER2qDba2iSOd: http status: 403, code:-1 - https://api.spotify.com/v1/audio-features/?ids=5dS7HcRa9kER2qDba2iSOd:\n",
      " None, reason: None\n",
      "Error fetching features for track 2tO0QPdCA0jgDBshTuYYkc: http status: 403, code:-1 - https://api.spotify.com/v1/audio-features/?ids=2tO0QPdCA0jgDBshTuYYkc:\n",
      " None, reason: None\n",
      "Error fetching features for track 47l2Dd3XPBLio3kjbEMyDJ: http status: 403, code:-1 - https://api.spotify.com/v1/audio-features/?ids=47l2Dd3XPBLio3kjbEMyDJ:\n",
      " None, reason: None\n"
     ]
    },
    {
     "name": "stderr",
     "output_type": "stream",
     "text": [
      "HTTP Error for GET to https://api.spotify.com/v1/audio-features/?ids=5O4AGvOVFSs5ipu3iNOuoi with Params: {} returned 403 due to None\n",
      "HTTP Error for GET to https://api.spotify.com/v1/audio-features/?ids=5O4AGvOVFSs5ipu3iNOuoi with Params: {} returned 403 due to None\n"
     ]
    },
    {
     "name": "stdout",
     "output_type": "stream",
     "text": [
      "Error fetching features for track 5O4AGvOVFSs5ipu3iNOuoi: http status: 403, code:-1 - https://api.spotify.com/v1/audio-features/?ids=5O4AGvOVFSs5ipu3iNOuoi:\n",
      " None, reason: None\n",
      "Error fetching features for track 5O4AGvOVFSs5ipu3iNOuoi: http status: 403, code:-1 - https://api.spotify.com/v1/audio-features/?ids=5O4AGvOVFSs5ipu3iNOuoi:\n",
      " None, reason: None\n"
     ]
    },
    {
     "name": "stderr",
     "output_type": "stream",
     "text": [
      "HTTP Error for GET to https://api.spotify.com/v1/audio-features/?ids=7IjnfuMNfdrAXbefurdIIR with Params: {} returned 403 due to None\n",
      "HTTP Error for GET to https://api.spotify.com/v1/audio-features/?ids=7v6kXbTvpHbhq5LHruy0xV with Params: {} returned 403 due to None\n",
      "HTTP Error for GET to https://api.spotify.com/v1/audio-features/?ids=4vgCpNUUcpEIBifidhQOnR with Params: {} returned 403 due to None\n",
      "HTTP Error for GET to https://api.spotify.com/v1/audio-features/?ids=6512hyAQxOng8v4R71IV47 with Params: {} returned 403 due to None\n"
     ]
    },
    {
     "name": "stdout",
     "output_type": "stream",
     "text": [
      "Error fetching features for track 7IjnfuMNfdrAXbefurdIIR: http status: 403, code:-1 - https://api.spotify.com/v1/audio-features/?ids=7IjnfuMNfdrAXbefurdIIR:\n",
      " None, reason: None\n",
      "Error fetching features for track 7v6kXbTvpHbhq5LHruy0xV: http status: 403, code:-1 - https://api.spotify.com/v1/audio-features/?ids=7v6kXbTvpHbhq5LHruy0xV:\n",
      " None, reason: None\n",
      "Error fetching features for track 4vgCpNUUcpEIBifidhQOnR: http status: 403, code:-1 - https://api.spotify.com/v1/audio-features/?ids=4vgCpNUUcpEIBifidhQOnR:\n",
      " None, reason: None\n",
      "Error fetching features for track 6512hyAQxOng8v4R71IV47: http status: 403, code:-1 - https://api.spotify.com/v1/audio-features/?ids=6512hyAQxOng8v4R71IV47:\n",
      " None, reason: None\n"
     ]
    },
    {
     "name": "stderr",
     "output_type": "stream",
     "text": [
      "HTTP Error for GET to https://api.spotify.com/v1/audio-features/?ids=7EjatvVN2Y2GjpvKSyWJR4 with Params: {} returned 403 due to None\n",
      "HTTP Error for GET to https://api.spotify.com/v1/audio-features/?ids=2tO0QPdCA0jgDBshTuYYkc with Params: {} returned 403 due to None\n",
      "HTTP Error for GET to https://api.spotify.com/v1/audio-features/?ids=3G2I8KB7bTWmvE1tHSlMHg with Params: {} returned 403 due to None\n"
     ]
    },
    {
     "name": "stdout",
     "output_type": "stream",
     "text": [
      "Error fetching features for track 7EjatvVN2Y2GjpvKSyWJR4: http status: 403, code:-1 - https://api.spotify.com/v1/audio-features/?ids=7EjatvVN2Y2GjpvKSyWJR4:\n",
      " None, reason: None\n",
      "Error fetching features for track 2tO0QPdCA0jgDBshTuYYkc: http status: 403, code:-1 - https://api.spotify.com/v1/audio-features/?ids=2tO0QPdCA0jgDBshTuYYkc:\n",
      " None, reason: None\n",
      "Error fetching features for track 3G2I8KB7bTWmvE1tHSlMHg: http status: 403, code:-1 - https://api.spotify.com/v1/audio-features/?ids=3G2I8KB7bTWmvE1tHSlMHg:\n",
      " None, reason: None\n"
     ]
    },
    {
     "name": "stderr",
     "output_type": "stream",
     "text": [
      "HTTP Error for GET to https://api.spotify.com/v1/audio-features/?ids=4cltuh2RNH0LyZY9I8Vi08 with Params: {} returned 403 due to None\n",
      "HTTP Error for GET to https://api.spotify.com/v1/audio-features/?ids=3Rvdqwgbr3rryZkNRrItt3 with Params: {} returned 403 due to None\n",
      "HTTP Error for GET to https://api.spotify.com/v1/audio-features/?ids=6ECucSdJeJmSm3k1k3Vumv with Params: {} returned 403 due to None\n"
     ]
    },
    {
     "name": "stdout",
     "output_type": "stream",
     "text": [
      "Error fetching features for track 4cltuh2RNH0LyZY9I8Vi08: http status: 403, code:-1 - https://api.spotify.com/v1/audio-features/?ids=4cltuh2RNH0LyZY9I8Vi08:\n",
      " None, reason: None\n",
      "Error fetching features for track 3Rvdqwgbr3rryZkNRrItt3: http status: 403, code:-1 - https://api.spotify.com/v1/audio-features/?ids=3Rvdqwgbr3rryZkNRrItt3:\n",
      " None, reason: None\n",
      "Error fetching features for track 6ECucSdJeJmSm3k1k3Vumv: http status: 403, code:-1 - https://api.spotify.com/v1/audio-features/?ids=6ECucSdJeJmSm3k1k3Vumv:\n",
      " None, reason: None\n"
     ]
    },
    {
     "name": "stderr",
     "output_type": "stream",
     "text": [
      "HTTP Error for GET to https://api.spotify.com/v1/audio-features/?ids=2n9ylYiF7urpXo36qBwr3g with Params: {} returned 403 due to None\n",
      "HTTP Error for GET to https://api.spotify.com/v1/audio-features/?ids=4DvAqLQNC0kW3XT2EE69cY with Params: {} returned 403 due to None\n",
      "HTTP Error for GET to https://api.spotify.com/v1/audio-features/?ids=1opxtm6zIv7IF19S0eCtvV with Params: {} returned 403 due to None\n",
      "HTTP Error for GET to https://api.spotify.com/v1/audio-features/?ids=67wuqsKi5LZOBAtTLzeK8g with Params: {} returned 403 due to None\n"
     ]
    },
    {
     "name": "stdout",
     "output_type": "stream",
     "text": [
      "Error fetching features for track 2n9ylYiF7urpXo36qBwr3g: http status: 403, code:-1 - https://api.spotify.com/v1/audio-features/?ids=2n9ylYiF7urpXo36qBwr3g:\n",
      " None, reason: None\n",
      "Error fetching features for track 4DvAqLQNC0kW3XT2EE69cY: http status: 403, code:-1 - https://api.spotify.com/v1/audio-features/?ids=4DvAqLQNC0kW3XT2EE69cY:\n",
      " None, reason: None\n",
      "Error fetching features for track 1opxtm6zIv7IF19S0eCtvV: http status: 403, code:-1 - https://api.spotify.com/v1/audio-features/?ids=1opxtm6zIv7IF19S0eCtvV:\n",
      " None, reason: None\n",
      "Error fetching features for track 67wuqsKi5LZOBAtTLzeK8g: http status: 403, code:-1 - https://api.spotify.com/v1/audio-features/?ids=67wuqsKi5LZOBAtTLzeK8g:\n",
      " None, reason: None\n"
     ]
    },
    {
     "name": "stderr",
     "output_type": "stream",
     "text": [
      "HTTP Error for GET to https://api.spotify.com/v1/audio-features/?ids=0W1eHrIACKah9l0Q9v611q with Params: {} returned 403 due to None\n",
      "HTTP Error for GET to https://api.spotify.com/v1/audio-features/?ids=0LtuveFgRP4lkksywmCtxV with Params: {} returned 403 due to None\n",
      "HTTP Error for GET to https://api.spotify.com/v1/audio-features/?ids=0IGXY47K2ha3AHfX57wY1O with Params: {} returned 403 due to None\n",
      "HTTP Error for GET to https://api.spotify.com/v1/audio-features/?ids=7IjnfuMNfdrAXbefurdIIR with Params: {} returned 403 due to None\n"
     ]
    },
    {
     "name": "stdout",
     "output_type": "stream",
     "text": [
      "Error fetching features for track 0W1eHrIACKah9l0Q9v611q: http status: 403, code:-1 - https://api.spotify.com/v1/audio-features/?ids=0W1eHrIACKah9l0Q9v611q:\n",
      " None, reason: None\n",
      "Error fetching features for track 0LtuveFgRP4lkksywmCtxV: http status: 403, code:-1 - https://api.spotify.com/v1/audio-features/?ids=0LtuveFgRP4lkksywmCtxV:\n",
      " None, reason: None\n",
      "Error fetching features for track 0IGXY47K2ha3AHfX57wY1O: http status: 403, code:-1 - https://api.spotify.com/v1/audio-features/?ids=0IGXY47K2ha3AHfX57wY1O:\n",
      " None, reason: None\n",
      "Error fetching features for track 7IjnfuMNfdrAXbefurdIIR: http status: 403, code:-1 - https://api.spotify.com/v1/audio-features/?ids=7IjnfuMNfdrAXbefurdIIR:\n",
      " None, reason: None\n"
     ]
    },
    {
     "name": "stderr",
     "output_type": "stream",
     "text": [
      "HTTP Error for GET to https://api.spotify.com/v1/audio-features/?ids=7EjatvVN2Y2GjpvKSyWJR4 with Params: {} returned 403 due to None\n",
      "HTTP Error for GET to https://api.spotify.com/v1/audio-features/?ids=18gi2IxbZ3Ugom7wTRkohf with Params: {} returned 403 due to None\n"
     ]
    },
    {
     "name": "stdout",
     "output_type": "stream",
     "text": [
      "Error fetching features for track 7EjatvVN2Y2GjpvKSyWJR4: http status: 403, code:-1 - https://api.spotify.com/v1/audio-features/?ids=7EjatvVN2Y2GjpvKSyWJR4:\n",
      " None, reason: None\n",
      "Error fetching features for track 18gi2IxbZ3Ugom7wTRkohf: http status: 403, code:-1 - https://api.spotify.com/v1/audio-features/?ids=18gi2IxbZ3Ugom7wTRkohf:\n",
      " None, reason: None\n"
     ]
    },
    {
     "name": "stderr",
     "output_type": "stream",
     "text": [
      "HTTP Error for GET to https://api.spotify.com/v1/audio-features/?ids=15Vuw407y6UWIPUfGrpJ1e with Params: {} returned 403 due to None\n",
      "HTTP Error for GET to https://api.spotify.com/v1/audio-features/?ids=5Cdd8p9sxRczQX6GFC8CdH with Params: {} returned 403 due to None\n"
     ]
    },
    {
     "name": "stdout",
     "output_type": "stream",
     "text": [
      "Processing batch 9 of 29\n",
      "Error fetching features for track 15Vuw407y6UWIPUfGrpJ1e: http status: 403, code:-1 - https://api.spotify.com/v1/audio-features/?ids=15Vuw407y6UWIPUfGrpJ1e:\n",
      " None, reason: None\n",
      "Error fetching features for track 5Cdd8p9sxRczQX6GFC8CdH: http status: 403, code:-1 - https://api.spotify.com/v1/audio-features/?ids=5Cdd8p9sxRczQX6GFC8CdH:\n",
      " None, reason: None\n"
     ]
    },
    {
     "name": "stderr",
     "output_type": "stream",
     "text": [
      "HTTP Error for GET to https://api.spotify.com/v1/audio-features/?ids=1vBmaijoCBoqmwc3zs5n3s with Params: {} returned 403 due to None\n",
      "HTTP Error for GET to https://api.spotify.com/v1/audio-features/?ids=2zT6KfK583MkcLIHLBO8De with Params: {} returned 403 due to None\n"
     ]
    },
    {
     "name": "stdout",
     "output_type": "stream",
     "text": [
      "Error fetching features for track 1vBmaijoCBoqmwc3zs5n3s: http status: 403, code:-1 - https://api.spotify.com/v1/audio-features/?ids=1vBmaijoCBoqmwc3zs5n3s:\n",
      " None, reason: None\n",
      "Error fetching features for track 2zT6KfK583MkcLIHLBO8De: http status: 403, code:-1 - https://api.spotify.com/v1/audio-features/?ids=2zT6KfK583MkcLIHLBO8De:\n",
      " None, reason: None\n"
     ]
    },
    {
     "name": "stderr",
     "output_type": "stream",
     "text": [
      "HTTP Error for GET to https://api.spotify.com/v1/audio-features/?ids=01npLGQTbZBIHVRcXJbLzR with Params: {} returned 403 due to None\n",
      "HTTP Error for GET to https://api.spotify.com/v1/audio-features/?ids=2tO0QPdCA0jgDBshTuYYkc with Params: {} returned 403 due to None\n",
      "HTTP Error for GET to https://api.spotify.com/v1/audio-features/?ids=6ECucSdJeJmSm3k1k3Vumv with Params: {} returned 403 due to None\n",
      "HTTP Error for GET to https://api.spotify.com/v1/audio-features/?ids=1kcV2LJxt5v0s2cEGtEJ5i with Params: {} returned 403 due to None\n"
     ]
    },
    {
     "name": "stdout",
     "output_type": "stream",
     "text": [
      "Error fetching features for track 01npLGQTbZBIHVRcXJbLzR: http status: 403, code:-1 - https://api.spotify.com/v1/audio-features/?ids=01npLGQTbZBIHVRcXJbLzR:\n",
      " None, reason: None\n",
      "Error fetching features for track 2tO0QPdCA0jgDBshTuYYkc: http status: 403, code:-1 - https://api.spotify.com/v1/audio-features/?ids=2tO0QPdCA0jgDBshTuYYkc:\n",
      " None, reason: None\n",
      "Error fetching features for track 6ECucSdJeJmSm3k1k3Vumv: http status: 403, code:-1 - https://api.spotify.com/v1/audio-features/?ids=6ECucSdJeJmSm3k1k3Vumv:\n",
      " None, reason: None\n",
      "Error fetching features for track 1kcV2LJxt5v0s2cEGtEJ5i: http status: 403, code:-1 - https://api.spotify.com/v1/audio-features/?ids=1kcV2LJxt5v0s2cEGtEJ5i:\n",
      " None, reason: None\n"
     ]
    },
    {
     "name": "stderr",
     "output_type": "stream",
     "text": [
      "HTTP Error for GET to https://api.spotify.com/v1/audio-features/?ids=5T6yrJuKWnkCH2OlQsoO7z with Params: {} returned 403 due to None\n",
      "HTTP Error for GET to https://api.spotify.com/v1/audio-features/?ids=0dZjWF8uklfNUHiPS2vC6E with Params: {} returned 403 due to None\n",
      "HTTP Error for GET to https://api.spotify.com/v1/audio-features/?ids=6n6hEYHXBzWfdSzBX20ZRw with Params: {} returned 403 due to None\n"
     ]
    },
    {
     "name": "stdout",
     "output_type": "stream",
     "text": [
      "Error fetching features for track 5T6yrJuKWnkCH2OlQsoO7z: http status: 403, code:-1 - https://api.spotify.com/v1/audio-features/?ids=5T6yrJuKWnkCH2OlQsoO7z:\n",
      " None, reason: None\n",
      "Error fetching features for track 0dZjWF8uklfNUHiPS2vC6E: http status: 403, code:-1 - https://api.spotify.com/v1/audio-features/?ids=0dZjWF8uklfNUHiPS2vC6E:\n",
      " None, reason: None\n",
      "Error fetching features for track 6n6hEYHXBzWfdSzBX20ZRw: http status: 403, code:-1 - https://api.spotify.com/v1/audio-features/?ids=6n6hEYHXBzWfdSzBX20ZRw:\n",
      " None, reason: None\n"
     ]
    },
    {
     "name": "stderr",
     "output_type": "stream",
     "text": [
      "HTTP Error for GET to https://api.spotify.com/v1/audio-features/?ids=5FXMRdJjKq1BIX4e8Eg9mK with Params: {} returned 403 due to None\n",
      "HTTP Error for GET to https://api.spotify.com/v1/audio-features/?ids=4vgCpNUUcpEIBifidhQOnR with Params: {} returned 403 due to None\n"
     ]
    },
    {
     "name": "stdout",
     "output_type": "stream",
     "text": [
      "Error fetching features for track 5FXMRdJjKq1BIX4e8Eg9mK: http status: 403, code:-1 - https://api.spotify.com/v1/audio-features/?ids=5FXMRdJjKq1BIX4e8Eg9mK:\n",
      " None, reason: None\n",
      "Error fetching features for track 4vgCpNUUcpEIBifidhQOnR: http status: 403, code:-1 - https://api.spotify.com/v1/audio-features/?ids=4vgCpNUUcpEIBifidhQOnR:\n",
      " None, reason: None\n"
     ]
    },
    {
     "name": "stderr",
     "output_type": "stream",
     "text": [
      "HTTP Error for GET to https://api.spotify.com/v1/audio-features/?ids=0zQa7QXLpUZfrrsWbgDZll with Params: {} returned 403 due to None\n",
      "HTTP Error for GET to https://api.spotify.com/v1/audio-features/?ids=4ZVfIGaZP93t0stmBj4FqA with Params: {} returned 403 due to None\n",
      "HTTP Error for GET to https://api.spotify.com/v1/audio-features/?ids=0ypgFw67lNEpoKFUxUV0tG with Params: {} returned 403 due to None\n",
      "HTTP Error for GET to https://api.spotify.com/v1/audio-features/?ids=0mh4VutnDyBn1sqcp05MZD with Params: {} returned 403 due to None\n"
     ]
    },
    {
     "name": "stdout",
     "output_type": "stream",
     "text": [
      "Error fetching features for track 0zQa7QXLpUZfrrsWbgDZll: http status: 403, code:-1 - https://api.spotify.com/v1/audio-features/?ids=0zQa7QXLpUZfrrsWbgDZll:\n",
      " None, reason: None\n",
      "Error fetching features for track 4ZVfIGaZP93t0stmBj4FqA: http status: 403, code:-1 - https://api.spotify.com/v1/audio-features/?ids=4ZVfIGaZP93t0stmBj4FqA:\n",
      " None, reason: None\n",
      "Error fetching features for track 0ypgFw67lNEpoKFUxUV0tG: http status: 403, code:-1 - https://api.spotify.com/v1/audio-features/?ids=0ypgFw67lNEpoKFUxUV0tG:\n",
      " None, reason: None\n",
      "Error fetching features for track 0mh4VutnDyBn1sqcp05MZD: http status: 403, code:-1 - https://api.spotify.com/v1/audio-features/?ids=0mh4VutnDyBn1sqcp05MZD:\n",
      " None, reason: None\n"
     ]
    },
    {
     "name": "stderr",
     "output_type": "stream",
     "text": [
      "HTTP Error for GET to https://api.spotify.com/v1/audio-features/?ids=4dOmlRarwG6KLPZyeSDOye with Params: {} returned 403 due to None\n",
      "HTTP Error for GET to https://api.spotify.com/v1/audio-features/?ids=3yBd9C4EtQIVQXG2hClNBu with Params: {} returned 403 due to None\n",
      "HTTP Error for GET to https://api.spotify.com/v1/audio-features/?ids=3pRF060IEOI5XSQAvONgSt with Params: {} returned 403 due to None\n",
      "HTTP Error for GET to https://api.spotify.com/v1/audio-features/?ids=0dZjWF8uklfNUHiPS2vC6E with Params: {} returned 403 due to None\n"
     ]
    },
    {
     "name": "stdout",
     "output_type": "stream",
     "text": [
      "Error fetching features for track 4dOmlRarwG6KLPZyeSDOye: http status: 403, code:-1 - https://api.spotify.com/v1/audio-features/?ids=4dOmlRarwG6KLPZyeSDOye:\n",
      " None, reason: None\n",
      "Error fetching features for track 3yBd9C4EtQIVQXG2hClNBu: http status: 403, code:-1 - https://api.spotify.com/v1/audio-features/?ids=3yBd9C4EtQIVQXG2hClNBu:\n",
      " None, reason: None\n",
      "Error fetching features for track 3pRF060IEOI5XSQAvONgSt: http status: 403, code:-1 - https://api.spotify.com/v1/audio-features/?ids=3pRF060IEOI5XSQAvONgSt:\n",
      " None, reason: None\n",
      "Error fetching features for track 0dZjWF8uklfNUHiPS2vC6E: http status: 403, code:-1 - https://api.spotify.com/v1/audio-features/?ids=0dZjWF8uklfNUHiPS2vC6E:\n",
      " None, reason: None\n"
     ]
    },
    {
     "name": "stderr",
     "output_type": "stream",
     "text": [
      "HTTP Error for GET to https://api.spotify.com/v1/audio-features/?ids=3ftVnkTGV4APsXEPiuB2sa with Params: {} returned 403 due to None\n",
      "HTTP Error for GET to https://api.spotify.com/v1/audio-features/?ids=69u6HoqhzzdUrWuYeDP6Go with Params: {} returned 403 due to None\n",
      "HTTP Error for GET to https://api.spotify.com/v1/audio-features/?ids=5kg1GacbhgQfLcbgOBRO9c with Params: {} returned 403 due to None\n",
      "HTTP Error for GET to https://api.spotify.com/v1/audio-features/?ids=5Cdd8p9sxRczQX6GFC8CdH with Params: {} returned 403 due to None\n"
     ]
    },
    {
     "name": "stdout",
     "output_type": "stream",
     "text": [
      "Error fetching features for track 3ftVnkTGV4APsXEPiuB2sa: http status: 403, code:-1 - https://api.spotify.com/v1/audio-features/?ids=3ftVnkTGV4APsXEPiuB2sa:\n",
      " None, reason: None\n",
      "Error fetching features for track 69u6HoqhzzdUrWuYeDP6Go: http status: 403, code:-1 - https://api.spotify.com/v1/audio-features/?ids=69u6HoqhzzdUrWuYeDP6Go:\n",
      " None, reason: None\n",
      "Error fetching features for track 5kg1GacbhgQfLcbgOBRO9c: http status: 403, code:-1 - https://api.spotify.com/v1/audio-features/?ids=5kg1GacbhgQfLcbgOBRO9c:\n",
      " None, reason: None\n",
      "Error fetching features for track 5Cdd8p9sxRczQX6GFC8CdH: http status: 403, code:-1 - https://api.spotify.com/v1/audio-features/?ids=5Cdd8p9sxRczQX6GFC8CdH:\n",
      " None, reason: None\n"
     ]
    },
    {
     "name": "stderr",
     "output_type": "stream",
     "text": [
      "HTTP Error for GET to https://api.spotify.com/v1/audio-features/?ids=3x55c9UVpbURc2T02DLfEM with Params: {} returned 403 due to None\n",
      "HTTP Error for GET to https://api.spotify.com/v1/audio-features/?ids=6yrIAJ4yMPzq8Vsu1d3CXg with Params: {} returned 403 due to None\n",
      "HTTP Error for GET to https://api.spotify.com/v1/audio-features/?ids=0U9a0NZ8UQpnix2lBElFAx with Params: {} returned 403 due to None\n"
     ]
    },
    {
     "name": "stdout",
     "output_type": "stream",
     "text": [
      "Error fetching features for track 3x55c9UVpbURc2T02DLfEM: http status: 403, code:-1 - https://api.spotify.com/v1/audio-features/?ids=3x55c9UVpbURc2T02DLfEM:\n",
      " None, reason: None\n",
      "Error fetching features for track 6yrIAJ4yMPzq8Vsu1d3CXg: http status: 403, code:-1 - https://api.spotify.com/v1/audio-features/?ids=6yrIAJ4yMPzq8Vsu1d3CXg:\n",
      " None, reason: None\n",
      "Error fetching features for track 0U9a0NZ8UQpnix2lBElFAx: http status: 403, code:-1 - https://api.spotify.com/v1/audio-features/?ids=0U9a0NZ8UQpnix2lBElFAx:\n",
      " None, reason: None\n"
     ]
    },
    {
     "name": "stderr",
     "output_type": "stream",
     "text": [
      "HTTP Error for GET to https://api.spotify.com/v1/audio-features/?ids=6UEhNvccAc4OyEDJYB5brb with Params: {} returned 403 due to None\n",
      "HTTP Error for GET to https://api.spotify.com/v1/audio-features/?ids=7IjnfuMNfdrAXbefurdIIR with Params: {} returned 403 due to None\n",
      "HTTP Error for GET to https://api.spotify.com/v1/audio-features/?ids=7v6kXbTvpHbhq5LHruy0xV with Params: {} returned 403 due to None\n",
      "HTTP Error for GET to https://api.spotify.com/v1/audio-features/?ids=6vwGvxyf8MheLLPUjktu14 with Params: {} returned 403 due to None\n"
     ]
    },
    {
     "name": "stdout",
     "output_type": "stream",
     "text": [
      "Error fetching features for track 6UEhNvccAc4OyEDJYB5brb: http status: 403, code:-1 - https://api.spotify.com/v1/audio-features/?ids=6UEhNvccAc4OyEDJYB5brb:\n",
      " None, reason: None\n",
      "Error fetching features for track 7IjnfuMNfdrAXbefurdIIR: http status: 403, code:-1 - https://api.spotify.com/v1/audio-features/?ids=7IjnfuMNfdrAXbefurdIIR:\n",
      " None, reason: None\n",
      "Error fetching features for track 7v6kXbTvpHbhq5LHruy0xV: http status: 403, code:-1 - https://api.spotify.com/v1/audio-features/?ids=7v6kXbTvpHbhq5LHruy0xV:\n",
      " None, reason: None\n",
      "Error fetching features for track 6vwGvxyf8MheLLPUjktu14: http status: 403, code:-1 - https://api.spotify.com/v1/audio-features/?ids=6vwGvxyf8MheLLPUjktu14:\n",
      " None, reason: None\n"
     ]
    },
    {
     "name": "stderr",
     "output_type": "stream",
     "text": [
      "HTTP Error for GET to https://api.spotify.com/v1/audio-features/?ids=4gNGi2Mr26me7wGKd8TQSF with Params: {} returned 403 due to None\n",
      "HTTP Error for GET to https://api.spotify.com/v1/audio-features/?ids=7Gwuh1mKBa3SWD7w3giVP5 with Params: {} returned 403 due to None\n",
      "HTTP Error for GET to https://api.spotify.com/v1/audio-features/?ids=3cqc9kRwulPAcE6eCIYdU6 with Params: {} returned 403 due to None\n",
      "HTTP Error for GET to https://api.spotify.com/v1/audio-features/?ids=2yBxVCCJkfCuwhA0GR2VwA with Params: {} returned 403 due to None\n"
     ]
    },
    {
     "name": "stdout",
     "output_type": "stream",
     "text": [
      "Error fetching features for track 4gNGi2Mr26me7wGKd8TQSF: http status: 403, code:-1 - https://api.spotify.com/v1/audio-features/?ids=4gNGi2Mr26me7wGKd8TQSF:\n",
      " None, reason: None\n",
      "Error fetching features for track 7Gwuh1mKBa3SWD7w3giVP5: http status: 403, code:-1 - https://api.spotify.com/v1/audio-features/?ids=7Gwuh1mKBa3SWD7w3giVP5:\n",
      " None, reason: None\n",
      "Error fetching features for track 3cqc9kRwulPAcE6eCIYdU6: http status: 403, code:-1 - https://api.spotify.com/v1/audio-features/?ids=3cqc9kRwulPAcE6eCIYdU6:\n",
      " None, reason: None\n",
      "Error fetching features for track 2yBxVCCJkfCuwhA0GR2VwA: http status: 403, code:-1 - https://api.spotify.com/v1/audio-features/?ids=2yBxVCCJkfCuwhA0GR2VwA:\n",
      " None, reason: None\n"
     ]
    },
    {
     "name": "stderr",
     "output_type": "stream",
     "text": [
      "HTTP Error for GET to https://api.spotify.com/v1/audio-features/?ids=7y2LdSannuZhlHK3eTOyly with Params: {} returned 403 due to None\n",
      "HTTP Error for GET to https://api.spotify.com/v1/audio-features/?ids=7iLA6PQeQWRjLDHOJgGpj5 with Params: {} returned 403 due to None\n"
     ]
    },
    {
     "name": "stdout",
     "output_type": "stream",
     "text": [
      "Error fetching features for track 7y2LdSannuZhlHK3eTOyly: http status: 403, code:-1 - https://api.spotify.com/v1/audio-features/?ids=7y2LdSannuZhlHK3eTOyly:\n",
      " None, reason: None\n",
      "Error fetching features for track 7iLA6PQeQWRjLDHOJgGpj5: http status: 403, code:-1 - https://api.spotify.com/v1/audio-features/?ids=7iLA6PQeQWRjLDHOJgGpj5:\n",
      " None, reason: None\n"
     ]
    },
    {
     "name": "stderr",
     "output_type": "stream",
     "text": [
      "HTTP Error for GET to https://api.spotify.com/v1/audio-features/?ids=3hoXhwP0ub9LdSJV4olDIc with Params: {} returned 403 due to None\n",
      "HTTP Error for GET to https://api.spotify.com/v1/audio-features/?ids=7ztCi9k76A4QmSqWEutFyV with Params: {} returned 403 due to None\n",
      "HTTP Error for GET to https://api.spotify.com/v1/audio-features/?ids=7ztCi9k76A4QmSqWEutFyV with Params: {} returned 403 due to None\n",
      "HTTP Error for GET to https://api.spotify.com/v1/audio-features/?ids=0gPgdRfB4jdGrlyXS0Vx78 with Params: {} returned 403 due to None\n"
     ]
    },
    {
     "name": "stdout",
     "output_type": "stream",
     "text": [
      "Error fetching features for track 3hoXhwP0ub9LdSJV4olDIc: http status: 403, code:-1 - https://api.spotify.com/v1/audio-features/?ids=3hoXhwP0ub9LdSJV4olDIc:\n",
      " None, reason: None\n",
      "Error fetching features for track 7ztCi9k76A4QmSqWEutFyV: http status: 403, code:-1 - https://api.spotify.com/v1/audio-features/?ids=7ztCi9k76A4QmSqWEutFyV:\n",
      " None, reason: None\n",
      "Error fetching features for track 7ztCi9k76A4QmSqWEutFyV: http status: 403, code:-1 - https://api.spotify.com/v1/audio-features/?ids=7ztCi9k76A4QmSqWEutFyV:\n",
      " None, reason: None\n",
      "Error fetching features for track 0gPgdRfB4jdGrlyXS0Vx78: http status: 403, code:-1 - https://api.spotify.com/v1/audio-features/?ids=0gPgdRfB4jdGrlyXS0Vx78:\n",
      " None, reason: None\n"
     ]
    },
    {
     "name": "stderr",
     "output_type": "stream",
     "text": [
      "HTTP Error for GET to https://api.spotify.com/v1/audio-features/?ids=2RgvvnMwtP0R2OkVZmFvnV with Params: {} returned 403 due to None\n",
      "HTTP Error for GET to https://api.spotify.com/v1/audio-features/?ids=6n6hEYHXBzWfdSzBX20ZRw with Params: {} returned 403 due to None\n",
      "HTTP Error for GET to https://api.spotify.com/v1/audio-features/?ids=0gPqpOLWRhuuXOVnIZYHNF with Params: {} returned 403 due to None\n",
      "HTTP Error for GET to https://api.spotify.com/v1/audio-features/?ids=4vgCpNUUcpEIBifidhQOnR with Params: {} returned 403 due to None\n"
     ]
    },
    {
     "name": "stdout",
     "output_type": "stream",
     "text": [
      "Error fetching features for track 2RgvvnMwtP0R2OkVZmFvnV: http status: 403, code:-1 - https://api.spotify.com/v1/audio-features/?ids=2RgvvnMwtP0R2OkVZmFvnV:\n",
      " None, reason: None\n",
      "Error fetching features for track 6n6hEYHXBzWfdSzBX20ZRw: http status: 403, code:-1 - https://api.spotify.com/v1/audio-features/?ids=6n6hEYHXBzWfdSzBX20ZRw:\n",
      " None, reason: None\n",
      "Error fetching features for track 0gPqpOLWRhuuXOVnIZYHNF: http status: 403, code:-1 - https://api.spotify.com/v1/audio-features/?ids=0gPqpOLWRhuuXOVnIZYHNF:\n",
      " None, reason: None\n",
      "Error fetching features for track 4vgCpNUUcpEIBifidhQOnR: http status: 403, code:-1 - https://api.spotify.com/v1/audio-features/?ids=4vgCpNUUcpEIBifidhQOnR:\n",
      " None, reason: None\n"
     ]
    },
    {
     "name": "stderr",
     "output_type": "stream",
     "text": [
      "HTTP Error for GET to https://api.spotify.com/v1/audio-features/?ids=0zQa7QXLpUZfrrsWbgDZll with Params: {} returned 403 due to None\n",
      "HTTP Error for GET to https://api.spotify.com/v1/audio-features/?ids=5Q58RkKyUafm15Syxg79DW with Params: {} returned 403 due to None\n",
      "HTTP Error for GET to https://api.spotify.com/v1/audio-features/?ids=3f26GAn3yOXfoclLyN8AdD with Params: {} returned 403 due to None\n"
     ]
    },
    {
     "name": "stdout",
     "output_type": "stream",
     "text": [
      "Error fetching features for track 0zQa7QXLpUZfrrsWbgDZll: http status: 403, code:-1 - https://api.spotify.com/v1/audio-features/?ids=0zQa7QXLpUZfrrsWbgDZll:\n",
      " None, reason: None\n",
      "Error fetching features for track 5Q58RkKyUafm15Syxg79DW: http status: 403, code:-1 - https://api.spotify.com/v1/audio-features/?ids=5Q58RkKyUafm15Syxg79DW:\n",
      " None, reason: None\n",
      "Error fetching features for track 3f26GAn3yOXfoclLyN8AdD: http status: 403, code:-1 - https://api.spotify.com/v1/audio-features/?ids=3f26GAn3yOXfoclLyN8AdD:\n",
      " None, reason: None\n"
     ]
    },
    {
     "name": "stderr",
     "output_type": "stream",
     "text": [
      "HTTP Error for GET to https://api.spotify.com/v1/audio-features/?ids=3pNxVP6r45iUho1uxEYdj9 with Params: {} returned 403 due to None\n"
     ]
    },
    {
     "name": "stdout",
     "output_type": "stream",
     "text": [
      "Error fetching features for track 3pNxVP6r45iUho1uxEYdj9: http status: 403, code:-1 - https://api.spotify.com/v1/audio-features/?ids=3pNxVP6r45iUho1uxEYdj9:\n",
      " None, reason: None\n"
     ]
    },
    {
     "name": "stderr",
     "output_type": "stream",
     "text": [
      "HTTP Error for GET to https://api.spotify.com/v1/audio-features/?ids=3nKEiJUeaWn8q2O9I1xwlB with Params: {} returned 403 due to None\n",
      "HTTP Error for GET to https://api.spotify.com/v1/audio-features/?ids=3APdIdF8H0jsxSuGOqXedS with Params: {} returned 403 due to None\n",
      "HTTP Error for GET to https://api.spotify.com/v1/audio-features/?ids=3hoXhwP0ub9LdSJV4olDIc with Params: {} returned 403 due to None\n"
     ]
    },
    {
     "name": "stdout",
     "output_type": "stream",
     "text": [
      "Processing batch 10 of 29\n",
      "Error fetching features for track 3nKEiJUeaWn8q2O9I1xwlB: http status: 403, code:-1 - https://api.spotify.com/v1/audio-features/?ids=3nKEiJUeaWn8q2O9I1xwlB:\n",
      " None, reason: None\n",
      "Error fetching features for track 3APdIdF8H0jsxSuGOqXedS: http status: 403, code:-1 - https://api.spotify.com/v1/audio-features/?ids=3APdIdF8H0jsxSuGOqXedS:\n",
      " None, reason: None\n",
      "Error fetching features for track 3hoXhwP0ub9LdSJV4olDIc: http status: 403, code:-1 - https://api.spotify.com/v1/audio-features/?ids=3hoXhwP0ub9LdSJV4olDIc:\n",
      " None, reason: None\n"
     ]
    },
    {
     "name": "stderr",
     "output_type": "stream",
     "text": [
      "HTTP Error for GET to https://api.spotify.com/v1/audio-features/?ids=395gJWcJQK0C3GJfHAn7f6 with Params: {} returned 403 due to None\n",
      "HTTP Error for GET to https://api.spotify.com/v1/audio-features/?ids=0u8wprNfOdcWpUlWnfMcpP with Params: {} returned 403 due to None\n",
      "HTTP Error for GET to https://api.spotify.com/v1/audio-features/?ids=3xF15SqY32Mno3UUMBirhU with Params: {} returned 403 due to None\n"
     ]
    },
    {
     "name": "stdout",
     "output_type": "stream",
     "text": [
      "Error fetching features for track 395gJWcJQK0C3GJfHAn7f6: http status: 403, code:-1 - https://api.spotify.com/v1/audio-features/?ids=395gJWcJQK0C3GJfHAn7f6:\n",
      " None, reason: None\n",
      "Error fetching features for track 0u8wprNfOdcWpUlWnfMcpP: http status: 403, code:-1 - https://api.spotify.com/v1/audio-features/?ids=0u8wprNfOdcWpUlWnfMcpP:\n",
      " None, reason: None\n",
      "Error fetching features for track 3xF15SqY32Mno3UUMBirhU: http status: 403, code:-1 - https://api.spotify.com/v1/audio-features/?ids=3xF15SqY32Mno3UUMBirhU:\n",
      " None, reason: None\n"
     ]
    },
    {
     "name": "stderr",
     "output_type": "stream",
     "text": [
      "HTTP Error for GET to https://api.spotify.com/v1/audio-features/?ids=0og9wKFGgFFNQnrBe7eisG with Params: {} returned 403 due to None\n",
      "HTTP Error for GET to https://api.spotify.com/v1/audio-features/?ids=2RgvvnMwtP0R2OkVZmFvnV with Params: {} returned 403 due to None\n",
      "HTTP Error for GET to https://api.spotify.com/v1/audio-features/?ids=57jOEZtoLQK4zF2x55bdkp with Params: {} returned 403 due to None\n",
      "HTTP Error for GET to https://api.spotify.com/v1/audio-features/?ids=5FXMRdJjKq1BIX4e8Eg9mK with Params: {} returned 403 due to None\n"
     ]
    },
    {
     "name": "stdout",
     "output_type": "stream",
     "text": [
      "Error fetching features for track 0og9wKFGgFFNQnrBe7eisG: http status: 403, code:-1 - https://api.spotify.com/v1/audio-features/?ids=0og9wKFGgFFNQnrBe7eisG:\n",
      " None, reason: None\n",
      "Error fetching features for track 2RgvvnMwtP0R2OkVZmFvnV: http status: 403, code:-1 - https://api.spotify.com/v1/audio-features/?ids=2RgvvnMwtP0R2OkVZmFvnV:\n",
      " None, reason: None\n",
      "Error fetching features for track 57jOEZtoLQK4zF2x55bdkp: http status: 403, code:-1 - https://api.spotify.com/v1/audio-features/?ids=57jOEZtoLQK4zF2x55bdkp:\n",
      " None, reason: None\n",
      "Error fetching features for track 5FXMRdJjKq1BIX4e8Eg9mK: http status: 403, code:-1 - https://api.spotify.com/v1/audio-features/?ids=5FXMRdJjKq1BIX4e8Eg9mK:\n",
      " None, reason: None\n"
     ]
    },
    {
     "name": "stderr",
     "output_type": "stream",
     "text": [
      "HTTP Error for GET to https://api.spotify.com/v1/audio-features/?ids=0zQa7QXLpUZfrrsWbgDZll with Params: {} returned 403 due to None\n"
     ]
    },
    {
     "name": "stdout",
     "output_type": "stream",
     "text": [
      "Error fetching features for track 0zQa7QXLpUZfrrsWbgDZll: http status: 403, code:-1 - https://api.spotify.com/v1/audio-features/?ids=0zQa7QXLpUZfrrsWbgDZll:\n",
      " None, reason: None\n"
     ]
    },
    {
     "name": "stderr",
     "output_type": "stream",
     "text": [
      "HTTP Error for GET to https://api.spotify.com/v1/audio-features/?ids=71s7tZo8OGlN3VXyURWLUr with Params: {} returned 403 due to None\n",
      "HTTP Error for GET to https://api.spotify.com/v1/audio-features/?ids=5O4AGvOVFSs5ipu3iNOuoi with Params: {} returned 403 due to None\n",
      "HTTP Error for GET to https://api.spotify.com/v1/audio-features/?ids=4N66qcycDiFLJGjnXiKbKX with Params: {} returned 403 due to None\n",
      "HTTP Error for GET to https://api.spotify.com/v1/audio-features/?ids=4EjO3ELtQkbOBox5adad6a with Params: {} returned 403 due to None\n"
     ]
    },
    {
     "name": "stdout",
     "output_type": "stream",
     "text": [
      "Error fetching features for track 71s7tZo8OGlN3VXyURWLUr: http status: 403, code:-1 - https://api.spotify.com/v1/audio-features/?ids=71s7tZo8OGlN3VXyURWLUr:\n",
      " None, reason: None\n",
      "Error fetching features for track 5O4AGvOVFSs5ipu3iNOuoi: http status: 403, code:-1 - https://api.spotify.com/v1/audio-features/?ids=5O4AGvOVFSs5ipu3iNOuoi:\n",
      " None, reason: None\n",
      "Error fetching features for track 4N66qcycDiFLJGjnXiKbKX: http status: 403, code:-1 - https://api.spotify.com/v1/audio-features/?ids=4N66qcycDiFLJGjnXiKbKX:\n",
      " None, reason: None\n",
      "Error fetching features for track 4EjO3ELtQkbOBox5adad6a: http status: 403, code:-1 - https://api.spotify.com/v1/audio-features/?ids=4EjO3ELtQkbOBox5adad6a:\n",
      " None, reason: None\n"
     ]
    },
    {
     "name": "stderr",
     "output_type": "stream",
     "text": [
      "HTTP Error for GET to https://api.spotify.com/v1/audio-features/?ids=0anBHV3eP4hiHsLQR5AZsm with Params: {} returned 403 due to None\n",
      "HTTP Error for GET to https://api.spotify.com/v1/audio-features/?ids=3ftVnkTGV4APsXEPiuB2sa with Params: {} returned 403 due to None\n",
      "HTTP Error for GET to https://api.spotify.com/v1/audio-features/?ids=6C5CjR1BTqfO5gc0YNcCrP with Params: {} returned 403 due to None\n"
     ]
    },
    {
     "name": "stdout",
     "output_type": "stream",
     "text": [
      "Error fetching features for track 0anBHV3eP4hiHsLQR5AZsm: http status: 403, code:-1 - https://api.spotify.com/v1/audio-features/?ids=0anBHV3eP4hiHsLQR5AZsm:\n",
      " None, reason: None\n",
      "Error fetching features for track 3ftVnkTGV4APsXEPiuB2sa: http status: 403, code:-1 - https://api.spotify.com/v1/audio-features/?ids=3ftVnkTGV4APsXEPiuB2sa:\n",
      " None, reason: None\n",
      "Error fetching features for track 6C5CjR1BTqfO5gc0YNcCrP: http status: 403, code:-1 - https://api.spotify.com/v1/audio-features/?ids=6C5CjR1BTqfO5gc0YNcCrP:\n",
      " None, reason: None\n"
     ]
    },
    {
     "name": "stderr",
     "output_type": "stream",
     "text": [
      "HTTP Error for GET to https://api.spotify.com/v1/audio-features/?ids=1tKhy83q8OsdcpZaX9N4Z2 with Params: {} returned 403 due to None\n",
      "HTTP Error for GET to https://api.spotify.com/v1/audio-features/?ids=0gPgdRfB4jdGrlyXS0Vx78 with Params: {} returned 403 due to None\n",
      "HTTP Error for GET to https://api.spotify.com/v1/audio-features/?ids=57jOEZtoLQK4zF2x55bdkp with Params: {} returned 403 due to None\n"
     ]
    },
    {
     "name": "stdout",
     "output_type": "stream",
     "text": [
      "Error fetching features for track 1tKhy83q8OsdcpZaX9N4Z2: http status: 403, code:-1 - https://api.spotify.com/v1/audio-features/?ids=1tKhy83q8OsdcpZaX9N4Z2:\n",
      " None, reason: None\n",
      "Error fetching features for track 0gPgdRfB4jdGrlyXS0Vx78: http status: 403, code:-1 - https://api.spotify.com/v1/audio-features/?ids=0gPgdRfB4jdGrlyXS0Vx78:\n",
      " None, reason: None\n",
      "Error fetching features for track 57jOEZtoLQK4zF2x55bdkp: http status: 403, code:-1 - https://api.spotify.com/v1/audio-features/?ids=57jOEZtoLQK4zF2x55bdkp:\n",
      " None, reason: None\n"
     ]
    },
    {
     "name": "stderr",
     "output_type": "stream",
     "text": [
      "HTTP Error for GET to https://api.spotify.com/v1/audio-features/?ids=7fW9J3EpVWVN1ouv0slAs0 with Params: {} returned 403 due to None\n",
      "HTTP Error for GET to https://api.spotify.com/v1/audio-features/?ids=0gPqpOLWRhuuXOVnIZYHNF with Params: {} returned 403 due to None\n",
      "HTTP Error for GET to https://api.spotify.com/v1/audio-features/?ids=5FXMRdJjKq1BIX4e8Eg9mK with Params: {} returned 403 due to None\n",
      "HTTP Error for GET to https://api.spotify.com/v1/audio-features/?ids=5WncH5iZ5GFlnXm7jKEXVP with Params: {} returned 403 due to None\n"
     ]
    },
    {
     "name": "stdout",
     "output_type": "stream",
     "text": [
      "Error fetching features for track 7fW9J3EpVWVN1ouv0slAs0: http status: 403, code:-1 - https://api.spotify.com/v1/audio-features/?ids=7fW9J3EpVWVN1ouv0slAs0:\n",
      " None, reason: None\n",
      "Error fetching features for track 0gPqpOLWRhuuXOVnIZYHNF: http status: 403, code:-1 - https://api.spotify.com/v1/audio-features/?ids=0gPqpOLWRhuuXOVnIZYHNF:\n",
      " None, reason: None\n",
      "Error fetching features for track 5FXMRdJjKq1BIX4e8Eg9mK: http status: 403, code:-1 - https://api.spotify.com/v1/audio-features/?ids=5FXMRdJjKq1BIX4e8Eg9mK:\n",
      " None, reason: None\n",
      "Error fetching features for track 5WncH5iZ5GFlnXm7jKEXVP: http status: 403, code:-1 - https://api.spotify.com/v1/audio-features/?ids=5WncH5iZ5GFlnXm7jKEXVP:\n",
      " None, reason: None\n"
     ]
    },
    {
     "name": "stderr",
     "output_type": "stream",
     "text": [
      "HTTP Error for GET to https://api.spotify.com/v1/audio-features/?ids=1ELMyeJLDHUz3cK3XTWgEi with Params: {} returned 403 due to None\n",
      "HTTP Error for GET to https://api.spotify.com/v1/audio-features/?ids=3OAFzjwWionh8OfM4kgf2R with Params: {} returned 403 due to None\n",
      "HTTP Error for GET to https://api.spotify.com/v1/audio-features/?ids=3OGQ5gp3dkZ38eIjRKLF4V with Params: {} returned 403 due to None\n",
      "HTTP Error for GET to https://api.spotify.com/v1/audio-features/?ids=4wgR8jjv934KJhvGq8EpYR with Params: {} returned 403 due to None\n"
     ]
    },
    {
     "name": "stdout",
     "output_type": "stream",
     "text": [
      "Error fetching features for track 1ELMyeJLDHUz3cK3XTWgEi: http status: 403, code:-1 - https://api.spotify.com/v1/audio-features/?ids=1ELMyeJLDHUz3cK3XTWgEi:\n",
      " None, reason: None\n",
      "Error fetching features for track 3OAFzjwWionh8OfM4kgf2R: http status: 403, code:-1 - https://api.spotify.com/v1/audio-features/?ids=3OAFzjwWionh8OfM4kgf2R:\n",
      " None, reason: None\n",
      "Error fetching features for track 3OGQ5gp3dkZ38eIjRKLF4V: http status: 403, code:-1 - https://api.spotify.com/v1/audio-features/?ids=3OGQ5gp3dkZ38eIjRKLF4V:\n",
      " None, reason: None\n",
      "Error fetching features for track 4wgR8jjv934KJhvGq8EpYR: http status: 403, code:-1 - https://api.spotify.com/v1/audio-features/?ids=4wgR8jjv934KJhvGq8EpYR:\n",
      " None, reason: None\n"
     ]
    },
    {
     "name": "stderr",
     "output_type": "stream",
     "text": [
      "HTTP Error for GET to https://api.spotify.com/v1/audio-features/?ids=6SDH3mp9sQCNJDfDDpQTTo with Params: {} returned 403 due to None\n",
      "HTTP Error for GET to https://api.spotify.com/v1/audio-features/?ids=4C3hJBeW4hp5IhJfsOStrP with Params: {} returned 403 due to None\n",
      "HTTP Error for GET to https://api.spotify.com/v1/audio-features/?ids=4gNGi2Mr26me7wGKd8TQSF with Params: {} returned 403 due to None\n",
      "HTTP Error for GET to https://api.spotify.com/v1/audio-features/?ids=2Hg2x9hK9lmwqVXZ6FM1Ry with Params: {} returned 403 due to None\n"
     ]
    },
    {
     "name": "stdout",
     "output_type": "stream",
     "text": [
      "Error fetching features for track 6SDH3mp9sQCNJDfDDpQTTo: http status: 403, code:-1 - https://api.spotify.com/v1/audio-features/?ids=6SDH3mp9sQCNJDfDDpQTTo:\n",
      " None, reason: None\n",
      "Error fetching features for track 4C3hJBeW4hp5IhJfsOStrP: http status: 403, code:-1 - https://api.spotify.com/v1/audio-features/?ids=4C3hJBeW4hp5IhJfsOStrP:\n",
      " None, reason: None\n",
      "Error fetching features for track 4gNGi2Mr26me7wGKd8TQSF: http status: 403, code:-1 - https://api.spotify.com/v1/audio-features/?ids=4gNGi2Mr26me7wGKd8TQSF:\n",
      " None, reason: None\n",
      "Error fetching features for track 2Hg2x9hK9lmwqVXZ6FM1Ry: http status: 403, code:-1 - https://api.spotify.com/v1/audio-features/?ids=2Hg2x9hK9lmwqVXZ6FM1Ry:\n",
      " None, reason: None\n"
     ]
    },
    {
     "name": "stderr",
     "output_type": "stream",
     "text": [
      "HTTP Error for GET to https://api.spotify.com/v1/audio-features/?ids=7Gwuh1mKBa3SWD7w3giVP5 with Params: {} returned 403 due to None\n",
      "HTTP Error for GET to https://api.spotify.com/v1/audio-features/?ids=3meosaLOJGuQ6OjxnYR7sI with Params: {} returned 403 due to None\n",
      "HTTP Error for GET to https://api.spotify.com/v1/audio-features/?ids=3Qpk2qHree1RTH5lZaKnEK with Params: {} returned 403 due to None\n",
      "HTTP Error for GET to https://api.spotify.com/v1/audio-features/?ids=2LcXJP95e4HKydTZ2mYfrx with Params: {} returned 403 due to None\n"
     ]
    },
    {
     "name": "stdout",
     "output_type": "stream",
     "text": [
      "Error fetching features for track 7Gwuh1mKBa3SWD7w3giVP5: http status: 403, code:-1 - https://api.spotify.com/v1/audio-features/?ids=7Gwuh1mKBa3SWD7w3giVP5:\n",
      " None, reason: None\n",
      "Error fetching features for track 3meosaLOJGuQ6OjxnYR7sI: http status: 403, code:-1 - https://api.spotify.com/v1/audio-features/?ids=3meosaLOJGuQ6OjxnYR7sI:\n",
      " None, reason: None\n",
      "Error fetching features for track 3Qpk2qHree1RTH5lZaKnEK: http status: 403, code:-1 - https://api.spotify.com/v1/audio-features/?ids=3Qpk2qHree1RTH5lZaKnEK:\n",
      " None, reason: None\n",
      "Error fetching features for track 2LcXJP95e4HKydTZ2mYfrx: http status: 403, code:-1 - https://api.spotify.com/v1/audio-features/?ids=2LcXJP95e4HKydTZ2mYfrx:\n",
      " None, reason: None\n"
     ]
    },
    {
     "name": "stderr",
     "output_type": "stream",
     "text": [
      "HTTP Error for GET to https://api.spotify.com/v1/audio-features/?ids=4FeczSomVWVyU4FW7xDeAI with Params: {} returned 403 due to None\n",
      "HTTP Error for GET to https://api.spotify.com/v1/audio-features/?ids=52itZ0w0CydihB2JCZEIft with Params: {} returned 403 due to None\n",
      "HTTP Error for GET to https://api.spotify.com/v1/audio-features/?ids=6bRMrsjdHJ6W7zDEep3JlE with Params: {} returned 403 due to None\n",
      "HTTP Error for GET to https://api.spotify.com/v1/audio-features/?ids=1EjxJHY9A6LMOlvyZdwDly with Params: {} returned 403 due to None\n"
     ]
    },
    {
     "name": "stdout",
     "output_type": "stream",
     "text": [
      "Error fetching features for track 4FeczSomVWVyU4FW7xDeAI: http status: 403, code:-1 - https://api.spotify.com/v1/audio-features/?ids=4FeczSomVWVyU4FW7xDeAI:\n",
      " None, reason: None\n",
      "Error fetching features for track 52itZ0w0CydihB2JCZEIft: http status: 403, code:-1 - https://api.spotify.com/v1/audio-features/?ids=52itZ0w0CydihB2JCZEIft:\n",
      " None, reason: None\n",
      "Error fetching features for track 6bRMrsjdHJ6W7zDEep3JlE: http status: 403, code:-1 - https://api.spotify.com/v1/audio-features/?ids=6bRMrsjdHJ6W7zDEep3JlE:\n",
      " None, reason: None\n",
      "Error fetching features for track 1EjxJHY9A6LMOlvyZdwDly: http status: 403, code:-1 - https://api.spotify.com/v1/audio-features/?ids=1EjxJHY9A6LMOlvyZdwDly:\n",
      " None, reason: None\n"
     ]
    },
    {
     "name": "stderr",
     "output_type": "stream",
     "text": [
      "HTTP Error for GET to https://api.spotify.com/v1/audio-features/?ids=4Yp8zw7b35bheMVTp39o5O with Params: {} returned 403 due to None\n",
      "HTTP Error for GET to https://api.spotify.com/v1/audio-features/?ids=4NmWv6PEGEAmorN5UN9fRo with Params: {} returned 403 due to None\n",
      "HTTP Error for GET to https://api.spotify.com/v1/audio-features/?ids=4NmWv6PEGEAmorN5UN9fRo with Params: {} returned 403 due to None\n",
      "HTTP Error for GET to https://api.spotify.com/v1/audio-features/?ids=11acrZ5o6QredI03M4sAsp with Params: {} returned 403 due to None\n"
     ]
    },
    {
     "name": "stdout",
     "output_type": "stream",
     "text": [
      "Error fetching features for track 4Yp8zw7b35bheMVTp39o5O: http status: 403, code:-1 - https://api.spotify.com/v1/audio-features/?ids=4Yp8zw7b35bheMVTp39o5O:\n",
      " None, reason: None\n",
      "Error fetching features for track 4NmWv6PEGEAmorN5UN9fRo: http status: 403, code:-1 - https://api.spotify.com/v1/audio-features/?ids=4NmWv6PEGEAmorN5UN9fRo:\n",
      " None, reason: None\n",
      "Error fetching features for track 4NmWv6PEGEAmorN5UN9fRo: http status: 403, code:-1 - https://api.spotify.com/v1/audio-features/?ids=4NmWv6PEGEAmorN5UN9fRo:\n",
      " None, reason: None\n",
      "Error fetching features for track 11acrZ5o6QredI03M4sAsp: http status: 403, code:-1 - https://api.spotify.com/v1/audio-features/?ids=11acrZ5o6QredI03M4sAsp:\n",
      " None, reason: None\n"
     ]
    },
    {
     "name": "stderr",
     "output_type": "stream",
     "text": [
      "HTTP Error for GET to https://api.spotify.com/v1/audio-features/?ids=0ceF2OyfoVe8IQeFcBXZg2 with Params: {} returned 403 due to None\n",
      "HTTP Error for GET to https://api.spotify.com/v1/audio-features/?ids=7wqNKCHh87HfIOGNgfyRCk with Params: {} returned 403 due to None\n",
      "HTTP Error for GET to https://api.spotify.com/v1/audio-features/?ids=6qNyL8lZuqFmy9ginJRQOZ with Params: {} returned 403 due to None\n",
      "HTTP Error for GET to https://api.spotify.com/v1/audio-features/?ids=2yBxVCCJkfCuwhA0GR2VwA with Params: {} returned 403 due to None\n"
     ]
    },
    {
     "name": "stdout",
     "output_type": "stream",
     "text": [
      "Error fetching features for track 0ceF2OyfoVe8IQeFcBXZg2: http status: 403, code:-1 - https://api.spotify.com/v1/audio-features/?ids=0ceF2OyfoVe8IQeFcBXZg2:\n",
      " None, reason: None\n",
      "Error fetching features for track 7wqNKCHh87HfIOGNgfyRCk: http status: 403, code:-1 - https://api.spotify.com/v1/audio-features/?ids=7wqNKCHh87HfIOGNgfyRCk:\n",
      " None, reason: None\n",
      "Error fetching features for track 6qNyL8lZuqFmy9ginJRQOZ: http status: 403, code:-1 - https://api.spotify.com/v1/audio-features/?ids=6qNyL8lZuqFmy9ginJRQOZ:\n",
      " None, reason: None\n",
      "Error fetching features for track 2yBxVCCJkfCuwhA0GR2VwA: http status: 403, code:-1 - https://api.spotify.com/v1/audio-features/?ids=2yBxVCCJkfCuwhA0GR2VwA:\n",
      " None, reason: None\n"
     ]
    },
    {
     "name": "stderr",
     "output_type": "stream",
     "text": [
      "HTTP Error for GET to https://api.spotify.com/v1/audio-features/?ids=2GTasAZimpxzNgE7aXFifI with Params: {} returned 403 due to None\n"
     ]
    },
    {
     "name": "stdout",
     "output_type": "stream",
     "text": [
      "Error fetching features for track 2GTasAZimpxzNgE7aXFifI: http status: 403, code:-1 - https://api.spotify.com/v1/audio-features/?ids=2GTasAZimpxzNgE7aXFifI:\n",
      " None, reason: None\n"
     ]
    },
    {
     "name": "stderr",
     "output_type": "stream",
     "text": [
      "HTTP Error for GET to https://api.spotify.com/v1/audio-features/?ids=4BTPzhEsyW3blWcxcuhLM0 with Params: {} returned 403 due to None\n",
      "HTTP Error for GET to https://api.spotify.com/v1/audio-features/?ids=0ceF2OyfoVe8IQeFcBXZg2 with Params: {} returned 403 due to None\n"
     ]
    },
    {
     "name": "stdout",
     "output_type": "stream",
     "text": [
      "Processing batch 11 of 29\n",
      "Error fetching features for track 4BTPzhEsyW3blWcxcuhLM0: http status: 403, code:-1 - https://api.spotify.com/v1/audio-features/?ids=4BTPzhEsyW3blWcxcuhLM0:\n",
      " None, reason: None\n",
      "Error fetching features for track 0ceF2OyfoVe8IQeFcBXZg2: http status: 403, code:-1 - https://api.spotify.com/v1/audio-features/?ids=0ceF2OyfoVe8IQeFcBXZg2:\n",
      " None, reason: None\n"
     ]
    },
    {
     "name": "stderr",
     "output_type": "stream",
     "text": [
      "HTTP Error for GET to https://api.spotify.com/v1/audio-features/?ids=44O26Gv1wQrlUj14PpTolM with Params: {} returned 403 due to None\n",
      "HTTP Error for GET to https://api.spotify.com/v1/audio-features/?ids=29YePgOxuPLfU7uZKxKf6w with Params: {} returned 403 due to None\n",
      "HTTP Error for GET to https://api.spotify.com/v1/audio-features/?ids=51EUKH2M1QGN50iGUlnxmU with Params: {} returned 403 due to None\n",
      "HTTP Error for GET to https://api.spotify.com/v1/audio-features/?ids=4iEGv5Ne6HuCkFCjzxdWQK with Params: {} returned 403 due to None\n"
     ]
    },
    {
     "name": "stdout",
     "output_type": "stream",
     "text": [
      "Error fetching features for track 44O26Gv1wQrlUj14PpTolM: http status: 403, code:-1 - https://api.spotify.com/v1/audio-features/?ids=44O26Gv1wQrlUj14PpTolM:\n",
      " None, reason: None\n",
      "Error fetching features for track 29YePgOxuPLfU7uZKxKf6w: http status: 403, code:-1 - https://api.spotify.com/v1/audio-features/?ids=29YePgOxuPLfU7uZKxKf6w:\n",
      " None, reason: None\n",
      "Error fetching features for track 51EUKH2M1QGN50iGUlnxmU: http status: 403, code:-1 - https://api.spotify.com/v1/audio-features/?ids=51EUKH2M1QGN50iGUlnxmU:\n",
      " None, reason: None\n",
      "Error fetching features for track 4iEGv5Ne6HuCkFCjzxdWQK: http status: 403, code:-1 - https://api.spotify.com/v1/audio-features/?ids=4iEGv5Ne6HuCkFCjzxdWQK:\n",
      " None, reason: None\n"
     ]
    },
    {
     "name": "stderr",
     "output_type": "stream",
     "text": [
      "HTTP Error for GET to https://api.spotify.com/v1/audio-features/?ids=4qRcjFkFqSpLBzcbLDt7HL with Params: {} returned 403 due to None\n",
      "HTTP Error for GET to https://api.spotify.com/v1/audio-features/?ids=6GZIAVSu0YXF7FYzyRl1MP with Params: {} returned 403 due to None\n",
      "HTTP Error for GET to https://api.spotify.com/v1/audio-features/?ids=11ZciqbjvPe9ByRi8eo8qk with Params: {} returned 403 due to None\n",
      "HTTP Error for GET to https://api.spotify.com/v1/audio-features/?ids=5nHwX7e5XHnie22nuTFgda with Params: {} returned 403 due to None\n"
     ]
    },
    {
     "name": "stdout",
     "output_type": "stream",
     "text": [
      "Error fetching features for track 4qRcjFkFqSpLBzcbLDt7HL: http status: 403, code:-1 - https://api.spotify.com/v1/audio-features/?ids=4qRcjFkFqSpLBzcbLDt7HL:\n",
      " None, reason: None\n",
      "Error fetching features for track 6GZIAVSu0YXF7FYzyRl1MP: http status: 403, code:-1 - https://api.spotify.com/v1/audio-features/?ids=6GZIAVSu0YXF7FYzyRl1MP:\n",
      " None, reason: None\n",
      "Error fetching features for track 11ZciqbjvPe9ByRi8eo8qk: http status: 403, code:-1 - https://api.spotify.com/v1/audio-features/?ids=11ZciqbjvPe9ByRi8eo8qk:\n",
      " None, reason: None\n",
      "Error fetching features for track 5nHwX7e5XHnie22nuTFgda: http status: 403, code:-1 - https://api.spotify.com/v1/audio-features/?ids=5nHwX7e5XHnie22nuTFgda:\n",
      " None, reason: None\n"
     ]
    },
    {
     "name": "stderr",
     "output_type": "stream",
     "text": [
      "HTTP Error for GET to https://api.spotify.com/v1/audio-features/?ids=4CuBg0h6kD85MPN8Ntq6Zr with Params: {} returned 403 due to None\n",
      "HTTP Error for GET to https://api.spotify.com/v1/audio-features/?ids=0xlWd9o8yjKpJ02WJy79kZ with Params: {} returned 403 due to None\n",
      "HTTP Error for GET to https://api.spotify.com/v1/audio-features/?ids=6GZIAVSu0YXF7FYzyRl1MP with Params: {} returned 403 due to None\n"
     ]
    },
    {
     "name": "stdout",
     "output_type": "stream",
     "text": [
      "Error fetching features for track 4CuBg0h6kD85MPN8Ntq6Zr: http status: 403, code:-1 - https://api.spotify.com/v1/audio-features/?ids=4CuBg0h6kD85MPN8Ntq6Zr:\n",
      " None, reason: None\n",
      "Error fetching features for track 0xlWd9o8yjKpJ02WJy79kZ: http status: 403, code:-1 - https://api.spotify.com/v1/audio-features/?ids=0xlWd9o8yjKpJ02WJy79kZ:\n",
      " None, reason: None\n",
      "Error fetching features for track 6GZIAVSu0YXF7FYzyRl1MP: http status: 403, code:-1 - https://api.spotify.com/v1/audio-features/?ids=6GZIAVSu0YXF7FYzyRl1MP:\n",
      " None, reason: None\n"
     ]
    },
    {
     "name": "stderr",
     "output_type": "stream",
     "text": [
      "HTTP Error for GET to https://api.spotify.com/v1/audio-features/?ids=02nOZG5WrxCHEYbjjxeZQf with Params: {} returned 403 due to None\n",
      "HTTP Error for GET to https://api.spotify.com/v1/audio-features/?ids=585SYEI9JiuPwTifUycHe0 with Params: {} returned 403 due to None\n",
      "HTTP Error for GET to https://api.spotify.com/v1/audio-features/?ids=5u4q3iqZ9IMbXaR7bsGYbW with Params: {} returned 403 due to None\n",
      "HTTP Error for GET to https://api.spotify.com/v1/audio-features/?ids=4CuBg0h6kD85MPN8Ntq6Zr with Params: {} returned 403 due to None\n"
     ]
    },
    {
     "name": "stdout",
     "output_type": "stream",
     "text": [
      "Error fetching features for track 02nOZG5WrxCHEYbjjxeZQf: http status: 403, code:-1 - https://api.spotify.com/v1/audio-features/?ids=02nOZG5WrxCHEYbjjxeZQf:\n",
      " None, reason: None\n",
      "Error fetching features for track 585SYEI9JiuPwTifUycHe0: http status: 403, code:-1 - https://api.spotify.com/v1/audio-features/?ids=585SYEI9JiuPwTifUycHe0:\n",
      " None, reason: None\n",
      "Error fetching features for track 5u4q3iqZ9IMbXaR7bsGYbW: http status: 403, code:-1 - https://api.spotify.com/v1/audio-features/?ids=5u4q3iqZ9IMbXaR7bsGYbW:\n",
      " None, reason: None\n",
      "Error fetching features for track 4CuBg0h6kD85MPN8Ntq6Zr: http status: 403, code:-1 - https://api.spotify.com/v1/audio-features/?ids=4CuBg0h6kD85MPN8Ntq6Zr:\n",
      " None, reason: None\n"
     ]
    },
    {
     "name": "stderr",
     "output_type": "stream",
     "text": [
      "HTTP Error for GET to https://api.spotify.com/v1/audio-features/?ids=6qNyL8lZuqFmy9ginJRQOZ with Params: {} returned 403 due to None\n",
      "HTTP Error for GET to https://api.spotify.com/v1/audio-features/?ids=02nOZG5WrxCHEYbjjxeZQf with Params: {} returned 403 due to None\n"
     ]
    },
    {
     "name": "stdout",
     "output_type": "stream",
     "text": [
      "Error fetching features for track 6qNyL8lZuqFmy9ginJRQOZ: http status: 403, code:-1 - https://api.spotify.com/v1/audio-features/?ids=6qNyL8lZuqFmy9ginJRQOZ:\n",
      " None, reason: None\n",
      "Error fetching features for track 02nOZG5WrxCHEYbjjxeZQf: http status: 403, code:-1 - https://api.spotify.com/v1/audio-features/?ids=02nOZG5WrxCHEYbjjxeZQf:\n",
      " None, reason: None\n"
     ]
    },
    {
     "name": "stderr",
     "output_type": "stream",
     "text": [
      "HTTP Error for GET to https://api.spotify.com/v1/audio-features/?ids=44O26Gv1wQrlUj14PpTolM with Params: {} returned 403 due to None\n",
      "HTTP Error for GET to https://api.spotify.com/v1/audio-features/?ids=0YCPCY9WhQFMFtoSpj6dhL with Params: {} returned 403 due to None\n",
      "HTTP Error for GET to https://api.spotify.com/v1/audio-features/?ids=4O5ERhWIhAnBelhNDHcSlA with Params: {} returned 403 due to None\n",
      "HTTP Error for GET to https://api.spotify.com/v1/audio-features/?ids=7BjQqiOJio4RdPL33yALKE with Params: {} returned 403 due to None\n"
     ]
    },
    {
     "name": "stdout",
     "output_type": "stream",
     "text": [
      "Error fetching features for track 44O26Gv1wQrlUj14PpTolM: http status: 403, code:-1 - https://api.spotify.com/v1/audio-features/?ids=44O26Gv1wQrlUj14PpTolM:\n",
      " None, reason: None\n",
      "Error fetching features for track 0YCPCY9WhQFMFtoSpj6dhL: http status: 403, code:-1 - https://api.spotify.com/v1/audio-features/?ids=0YCPCY9WhQFMFtoSpj6dhL:\n",
      " None, reason: None\n",
      "Error fetching features for track 4O5ERhWIhAnBelhNDHcSlA: http status: 403, code:-1 - https://api.spotify.com/v1/audio-features/?ids=4O5ERhWIhAnBelhNDHcSlA:\n",
      " None, reason: None\n",
      "Error fetching features for track 7BjQqiOJio4RdPL33yALKE: http status: 403, code:-1 - https://api.spotify.com/v1/audio-features/?ids=7BjQqiOJio4RdPL33yALKE:\n",
      " None, reason: None\n"
     ]
    },
    {
     "name": "stderr",
     "output_type": "stream",
     "text": [
      "HTTP Error for GET to https://api.spotify.com/v1/audio-features/?ids=4r8JqkhpTb5tzSKKHnVJIJ with Params: {} returned 403 due to None\n",
      "HTTP Error for GET to https://api.spotify.com/v1/audio-features/?ids=0xlWd9o8yjKpJ02WJy79kZ with Params: {} returned 403 due to None\n",
      "HTTP Error for GET to https://api.spotify.com/v1/audio-features/?ids=6D2ZnEZ92wUFTr38YXTCL5 with Params: {} returned 403 due to None\n"
     ]
    },
    {
     "name": "stdout",
     "output_type": "stream",
     "text": [
      "Error fetching features for track 4r8JqkhpTb5tzSKKHnVJIJ: http status: 403, code:-1 - https://api.spotify.com/v1/audio-features/?ids=4r8JqkhpTb5tzSKKHnVJIJ:\n",
      " None, reason: None\n",
      "Error fetching features for track 0xlWd9o8yjKpJ02WJy79kZ: http status: 403, code:-1 - https://api.spotify.com/v1/audio-features/?ids=0xlWd9o8yjKpJ02WJy79kZ:\n",
      " None, reason: None\n",
      "Error fetching features for track 6D2ZnEZ92wUFTr38YXTCL5: http status: 403, code:-1 - https://api.spotify.com/v1/audio-features/?ids=6D2ZnEZ92wUFTr38YXTCL5:\n",
      " None, reason: None\n"
     ]
    },
    {
     "name": "stderr",
     "output_type": "stream",
     "text": [
      "HTTP Error for GET to https://api.spotify.com/v1/audio-features/?ids=1EjxJHY9A6LMOlvyZdwDly with Params: {} returned 403 due to None\n",
      "HTTP Error for GET to https://api.spotify.com/v1/audio-features/?ids=0xlWd9o8yjKpJ02WJy79kZ with Params: {} returned 403 due to None\n",
      "HTTP Error for GET to https://api.spotify.com/v1/audio-features/?ids=29YePgOxuPLfU7uZKxKf6w with Params: {} returned 403 due to None\n"
     ]
    },
    {
     "name": "stdout",
     "output_type": "stream",
     "text": [
      "Error fetching features for track 1EjxJHY9A6LMOlvyZdwDly: http status: 403, code:-1 - https://api.spotify.com/v1/audio-features/?ids=1EjxJHY9A6LMOlvyZdwDly:\n",
      " None, reason: None\n",
      "Error fetching features for track 0xlWd9o8yjKpJ02WJy79kZ: http status: 403, code:-1 - https://api.spotify.com/v1/audio-features/?ids=0xlWd9o8yjKpJ02WJy79kZ:\n",
      " None, reason: None\n",
      "Error fetching features for track 29YePgOxuPLfU7uZKxKf6w: http status: 403, code:-1 - https://api.spotify.com/v1/audio-features/?ids=29YePgOxuPLfU7uZKxKf6w:\n",
      " None, reason: None\n"
     ]
    },
    {
     "name": "stderr",
     "output_type": "stream",
     "text": [
      "HTTP Error for GET to https://api.spotify.com/v1/audio-features/?ids=4Q3oEhpsDommo2naYhCpAl with Params: {} returned 403 due to None\n",
      "HTTP Error for GET to https://api.spotify.com/v1/audio-features/?ids=6ECucSdJeJmSm3k1k3Vumv with Params: {} returned 403 due to None\n",
      "HTTP Error for GET to https://api.spotify.com/v1/audio-features/?ids=3APdIdF8H0jsxSuGOqXedS with Params: {} returned 403 due to None\n"
     ]
    },
    {
     "name": "stdout",
     "output_type": "stream",
     "text": [
      "Error fetching features for track 4Q3oEhpsDommo2naYhCpAl: http status: 403, code:-1 - https://api.spotify.com/v1/audio-features/?ids=4Q3oEhpsDommo2naYhCpAl:\n",
      " None, reason: None\n",
      "Error fetching features for track 6ECucSdJeJmSm3k1k3Vumv: http status: 403, code:-1 - https://api.spotify.com/v1/audio-features/?ids=6ECucSdJeJmSm3k1k3Vumv:\n",
      " None, reason: None\n",
      "Error fetching features for track 3APdIdF8H0jsxSuGOqXedS: http status: 403, code:-1 - https://api.spotify.com/v1/audio-features/?ids=3APdIdF8H0jsxSuGOqXedS:\n",
      " None, reason: None\n"
     ]
    },
    {
     "name": "stderr",
     "output_type": "stream",
     "text": [
      "HTTP Error for GET to https://api.spotify.com/v1/audio-features/?ids=3TAhWtQnpoL5Vl9VQPl9fU with Params: {} returned 403 due to None\n",
      "HTTP Error for GET to https://api.spotify.com/v1/audio-features/?ids=72CkpVdvmc8t28o8I9N32J with Params: {} returned 403 due to None\n",
      "HTTP Error for GET to https://api.spotify.com/v1/audio-features/?ids=1EjxJHY9A6LMOlvyZdwDly with Params: {} returned 403 due to None\n",
      "HTTP Error for GET to https://api.spotify.com/v1/audio-features/?ids=5Cdd8p9sxRczQX6GFC8CdH with Params: {} returned 403 due to None\n"
     ]
    },
    {
     "name": "stdout",
     "output_type": "stream",
     "text": [
      "Error fetching features for track 3TAhWtQnpoL5Vl9VQPl9fU: http status: 403, code:-1 - https://api.spotify.com/v1/audio-features/?ids=3TAhWtQnpoL5Vl9VQPl9fU:\n",
      " None, reason: None\n",
      "Error fetching features for track 72CkpVdvmc8t28o8I9N32J: http status: 403, code:-1 - https://api.spotify.com/v1/audio-features/?ids=72CkpVdvmc8t28o8I9N32J:\n",
      " None, reason: None\n",
      "Error fetching features for track 1EjxJHY9A6LMOlvyZdwDly: http status: 403, code:-1 - https://api.spotify.com/v1/audio-features/?ids=1EjxJHY9A6LMOlvyZdwDly:\n",
      " None, reason: None\n",
      "Error fetching features for track 5Cdd8p9sxRczQX6GFC8CdH: http status: 403, code:-1 - https://api.spotify.com/v1/audio-features/?ids=5Cdd8p9sxRczQX6GFC8CdH:\n",
      " None, reason: None\n"
     ]
    },
    {
     "name": "stderr",
     "output_type": "stream",
     "text": [
      "HTTP Error for GET to https://api.spotify.com/v1/audio-features/?ids=3hoXhwP0ub9LdSJV4olDIc with Params: {} returned 403 due to None\n",
      "HTTP Error for GET to https://api.spotify.com/v1/audio-features/?ids=7H3mfOvtPNA8YDF3EdKy0L with Params: {} returned 403 due to None\n",
      "HTTP Error for GET to https://api.spotify.com/v1/audio-features/?ids=2g3o6I7YuKFEUn9OOfuAfP with Params: {} returned 403 due to None\n",
      "HTTP Error for GET to https://api.spotify.com/v1/audio-features/?ids=5dS7HcRa9kER2qDba2iSOd with Params: {} returned 403 due to None\n"
     ]
    },
    {
     "name": "stdout",
     "output_type": "stream",
     "text": [
      "Error fetching features for track 3hoXhwP0ub9LdSJV4olDIc: http status: 403, code:-1 - https://api.spotify.com/v1/audio-features/?ids=3hoXhwP0ub9LdSJV4olDIc:\n",
      " None, reason: None\n",
      "Error fetching features for track 7H3mfOvtPNA8YDF3EdKy0L: http status: 403, code:-1 - https://api.spotify.com/v1/audio-features/?ids=7H3mfOvtPNA8YDF3EdKy0L:\n",
      " None, reason: None\n",
      "Error fetching features for track 2g3o6I7YuKFEUn9OOfuAfP: http status: 403, code:-1 - https://api.spotify.com/v1/audio-features/?ids=2g3o6I7YuKFEUn9OOfuAfP:\n",
      " None, reason: None\n",
      "Error fetching features for track 5dS7HcRa9kER2qDba2iSOd: http status: 403, code:-1 - https://api.spotify.com/v1/audio-features/?ids=5dS7HcRa9kER2qDba2iSOd:\n",
      " None, reason: None\n"
     ]
    },
    {
     "name": "stderr",
     "output_type": "stream",
     "text": [
      "HTTP Error for GET to https://api.spotify.com/v1/audio-features/?ids=4tBMbRwLJa5BjwJ6FrBlks with Params: {} returned 403 due to None\n",
      "HTTP Error for GET to https://api.spotify.com/v1/audio-features/?ids=0pPGUL7171TRGgI6wyP8wP with Params: {} returned 403 due to None\n",
      "HTTP Error for GET to https://api.spotify.com/v1/audio-features/?ids=5czJMpadRTKwheBXCfiJkm with Params: {} returned 403 due to None\n",
      "HTTP Error for GET to https://api.spotify.com/v1/audio-features/?ids=0p5iOuS1ljMtQpaGi4W8Tl with Params: {} returned 403 due to None\n"
     ]
    },
    {
     "name": "stdout",
     "output_type": "stream",
     "text": [
      "Error fetching features for track 4tBMbRwLJa5BjwJ6FrBlks: http status: 403, code:-1 - https://api.spotify.com/v1/audio-features/?ids=4tBMbRwLJa5BjwJ6FrBlks:\n",
      " None, reason: None\n",
      "Error fetching features for track 0pPGUL7171TRGgI6wyP8wP: http status: 403, code:-1 - https://api.spotify.com/v1/audio-features/?ids=0pPGUL7171TRGgI6wyP8wP:\n",
      " None, reason: None\n",
      "Error fetching features for track 5czJMpadRTKwheBXCfiJkm: http status: 403, code:-1 - https://api.spotify.com/v1/audio-features/?ids=5czJMpadRTKwheBXCfiJkm:\n",
      " None, reason: None\n",
      "Error fetching features for track 0p5iOuS1ljMtQpaGi4W8Tl: http status: 403, code:-1 - https://api.spotify.com/v1/audio-features/?ids=0p5iOuS1ljMtQpaGi4W8Tl:\n",
      " None, reason: None\n"
     ]
    },
    {
     "name": "stderr",
     "output_type": "stream",
     "text": [
      "HTTP Error for GET to https://api.spotify.com/v1/audio-features/?ids=48Ix6ReYdJf2H4mKb3TIpj with Params: {} returned 403 due to None\n",
      "HTTP Error for GET to https://api.spotify.com/v1/audio-features/?ids=5T6yrJuKWnkCH2OlQsoO7z with Params: {} returned 403 due to None\n",
      "HTTP Error for GET to https://api.spotify.com/v1/audio-features/?ids=34wsgkPMRk3xIfHdwtezbf with Params: {} returned 403 due to None\n"
     ]
    },
    {
     "name": "stdout",
     "output_type": "stream",
     "text": [
      "Error fetching features for track 48Ix6ReYdJf2H4mKb3TIpj: http status: 403, code:-1 - https://api.spotify.com/v1/audio-features/?ids=48Ix6ReYdJf2H4mKb3TIpj:\n",
      " None, reason: None\n",
      "Error fetching features for track 5T6yrJuKWnkCH2OlQsoO7z: http status: 403, code:-1 - https://api.spotify.com/v1/audio-features/?ids=5T6yrJuKWnkCH2OlQsoO7z:\n",
      " None, reason: None\n",
      "Error fetching features for track 34wsgkPMRk3xIfHdwtezbf: http status: 403, code:-1 - https://api.spotify.com/v1/audio-features/?ids=34wsgkPMRk3xIfHdwtezbf:\n",
      " None, reason: None\n"
     ]
    },
    {
     "name": "stderr",
     "output_type": "stream",
     "text": [
      "HTTP Error for GET to https://api.spotify.com/v1/audio-features/?ids=2GXXZFUxYg2LvG8SR0byOE with Params: {} returned 403 due to None\n",
      "HTTP Error for GET to https://api.spotify.com/v1/audio-features/?ids=52itZ0w0CydihB2JCZEIft with Params: {} returned 403 due to None\n",
      "HTTP Error for GET to https://api.spotify.com/v1/audio-features/?ids=4ZVfIGaZP93t0stmBj4FqA with Params: {} returned 403 due to None\n"
     ]
    },
    {
     "name": "stdout",
     "output_type": "stream",
     "text": [
      "Error fetching features for track 2GXXZFUxYg2LvG8SR0byOE: http status: 403, code:-1 - https://api.spotify.com/v1/audio-features/?ids=2GXXZFUxYg2LvG8SR0byOE:\n",
      " None, reason: None\n",
      "Error fetching features for track 52itZ0w0CydihB2JCZEIft: http status: 403, code:-1 - https://api.spotify.com/v1/audio-features/?ids=52itZ0w0CydihB2JCZEIft:\n",
      " None, reason: None\n",
      "Error fetching features for track 4ZVfIGaZP93t0stmBj4FqA: http status: 403, code:-1 - https://api.spotify.com/v1/audio-features/?ids=4ZVfIGaZP93t0stmBj4FqA:\n",
      " None, reason: None\n"
     ]
    },
    {
     "name": "stderr",
     "output_type": "stream",
     "text": [
      "HTTP Error for GET to https://api.spotify.com/v1/audio-features/?ids=30IOhjcKbULQUt66nYkUvW with Params: {} returned 403 due to None\n",
      "HTTP Error for GET to https://api.spotify.com/v1/audio-features/?ids=02nOZG5WrxCHEYbjjxeZQf with Params: {} returned 403 due to None\n"
     ]
    },
    {
     "name": "stdout",
     "output_type": "stream",
     "text": [
      "Processing batch 12 of 29\n",
      "Error fetching features for track 30IOhjcKbULQUt66nYkUvW: http status: 403, code:-1 - https://api.spotify.com/v1/audio-features/?ids=30IOhjcKbULQUt66nYkUvW:\n",
      " None, reason: None\n",
      "Error fetching features for track 02nOZG5WrxCHEYbjjxeZQf: http status: 403, code:-1 - https://api.spotify.com/v1/audio-features/?ids=02nOZG5WrxCHEYbjjxeZQf:\n",
      " None, reason: None\n"
     ]
    },
    {
     "name": "stderr",
     "output_type": "stream",
     "text": [
      "HTTP Error for GET to https://api.spotify.com/v1/audio-features/?ids=5Cdd8p9sxRczQX6GFC8CdH with Params: {} returned 403 due to None\n",
      "HTTP Error for GET to https://api.spotify.com/v1/audio-features/?ids=2yBxVCCJkfCuwhA0GR2VwA with Params: {} returned 403 due to None\n",
      "HTTP Error for GET to https://api.spotify.com/v1/audio-features/?ids=0YCPCY9WhQFMFtoSpj6dhL with Params: {} returned 403 due to None\n",
      "HTTP Error for GET to https://api.spotify.com/v1/audio-features/?ids=5a2Hoi1wuhCA6Ob7pbOlpW with Params: {} returned 403 due to None\n"
     ]
    },
    {
     "name": "stdout",
     "output_type": "stream",
     "text": [
      "Error fetching features for track 5Cdd8p9sxRczQX6GFC8CdH: http status: 403, code:-1 - https://api.spotify.com/v1/audio-features/?ids=5Cdd8p9sxRczQX6GFC8CdH:\n",
      " None, reason: None\n",
      "Error fetching features for track 2yBxVCCJkfCuwhA0GR2VwA: http status: 403, code:-1 - https://api.spotify.com/v1/audio-features/?ids=2yBxVCCJkfCuwhA0GR2VwA:\n",
      " None, reason: None\n",
      "Error fetching features for track 0YCPCY9WhQFMFtoSpj6dhL: http status: 403, code:-1 - https://api.spotify.com/v1/audio-features/?ids=0YCPCY9WhQFMFtoSpj6dhL:\n",
      " None, reason: None\n",
      "Error fetching features for track 5a2Hoi1wuhCA6Ob7pbOlpW: http status: 403, code:-1 - https://api.spotify.com/v1/audio-features/?ids=5a2Hoi1wuhCA6Ob7pbOlpW:\n",
      " None, reason: None\n"
     ]
    },
    {
     "name": "stderr",
     "output_type": "stream",
     "text": [
      "HTTP Error for GET to https://api.spotify.com/v1/audio-features/?ids=6UEhNvccAc4OyEDJYB5brb with Params: {} returned 403 due to None\n",
      "HTTP Error for GET to https://api.spotify.com/v1/audio-features/?ids=44O26Gv1wQrlUj14PpTolM with Params: {} returned 403 due to None\n",
      "HTTP Error for GET to https://api.spotify.com/v1/audio-features/?ids=4r8JqkhpTb5tzSKKHnVJIJ with Params: {} returned 403 due to None\n"
     ]
    },
    {
     "name": "stdout",
     "output_type": "stream",
     "text": [
      "Error fetching features for track 6UEhNvccAc4OyEDJYB5brb: http status: 403, code:-1 - https://api.spotify.com/v1/audio-features/?ids=6UEhNvccAc4OyEDJYB5brb:\n",
      " None, reason: None\n",
      "Error fetching features for track 44O26Gv1wQrlUj14PpTolM: http status: 403, code:-1 - https://api.spotify.com/v1/audio-features/?ids=44O26Gv1wQrlUj14PpTolM:\n",
      " None, reason: None\n",
      "Error fetching features for track 4r8JqkhpTb5tzSKKHnVJIJ: http status: 403, code:-1 - https://api.spotify.com/v1/audio-features/?ids=4r8JqkhpTb5tzSKKHnVJIJ:\n",
      " None, reason: None\n"
     ]
    },
    {
     "name": "stderr",
     "output_type": "stream",
     "text": [
      "HTTP Error for GET to https://api.spotify.com/v1/audio-features/?ids=3APdIdF8H0jsxSuGOqXedS with Params: {} returned 403 due to None\n",
      "HTTP Error for GET to https://api.spotify.com/v1/audio-features/?ids=0pPGUL7171TRGgI6wyP8wP with Params: {} returned 403 due to None\n",
      "HTTP Error for GET to https://api.spotify.com/v1/audio-features/?ids=4J9n7thOdqi8gxRGNyQoVC with Params: {} returned 403 due to None\n",
      "HTTP Error for GET to https://api.spotify.com/v1/audio-features/?ids=6UEhNvccAc4OyEDJYB5brb with Params: {} returned 403 due to None\n"
     ]
    },
    {
     "name": "stdout",
     "output_type": "stream",
     "text": [
      "Error fetching features for track 3APdIdF8H0jsxSuGOqXedS: http status: 403, code:-1 - https://api.spotify.com/v1/audio-features/?ids=3APdIdF8H0jsxSuGOqXedS:\n",
      " None, reason: None\n",
      "Error fetching features for track 0pPGUL7171TRGgI6wyP8wP: http status: 403, code:-1 - https://api.spotify.com/v1/audio-features/?ids=0pPGUL7171TRGgI6wyP8wP:\n",
      " None, reason: None\n",
      "Error fetching features for track 4J9n7thOdqi8gxRGNyQoVC: http status: 403, code:-1 - https://api.spotify.com/v1/audio-features/?ids=4J9n7thOdqi8gxRGNyQoVC:\n",
      " None, reason: None\n",
      "Error fetching features for track 6UEhNvccAc4OyEDJYB5brb: http status: 403, code:-1 - https://api.spotify.com/v1/audio-features/?ids=6UEhNvccAc4OyEDJYB5brb:\n",
      " None, reason: None\n"
     ]
    },
    {
     "name": "stderr",
     "output_type": "stream",
     "text": [
      "HTTP Error for GET to https://api.spotify.com/v1/audio-features/?ids=6UEhNvccAc4OyEDJYB5brb with Params: {} returned 403 due to None\n",
      "HTTP Error for GET to https://api.spotify.com/v1/audio-features/?ids=5dS7HcRa9kER2qDba2iSOd with Params: {} returned 403 due to None\n",
      "HTTP Error for GET to https://api.spotify.com/v1/audio-features/?ids=2BOY77LvMTUOfLcnfFAJGl with Params: {} returned 403 due to None\n",
      "HTTP Error for GET to https://api.spotify.com/v1/audio-features/?ids=53DXM0bHfB7xkqJZYlksuh with Params: {} returned 403 due to None\n"
     ]
    },
    {
     "name": "stdout",
     "output_type": "stream",
     "text": [
      "Error fetching features for track 6UEhNvccAc4OyEDJYB5brb: http status: 403, code:-1 - https://api.spotify.com/v1/audio-features/?ids=6UEhNvccAc4OyEDJYB5brb:\n",
      " None, reason: None\n",
      "Error fetching features for track 5dS7HcRa9kER2qDba2iSOd: http status: 403, code:-1 - https://api.spotify.com/v1/audio-features/?ids=5dS7HcRa9kER2qDba2iSOd:\n",
      " None, reason: None\n",
      "Error fetching features for track 2BOY77LvMTUOfLcnfFAJGl: http status: 403, code:-1 - https://api.spotify.com/v1/audio-features/?ids=2BOY77LvMTUOfLcnfFAJGl:\n",
      " None, reason: None\n",
      "Error fetching features for track 53DXM0bHfB7xkqJZYlksuh: http status: 403, code:-1 - https://api.spotify.com/v1/audio-features/?ids=53DXM0bHfB7xkqJZYlksuh:\n",
      " None, reason: None\n"
     ]
    },
    {
     "name": "stderr",
     "output_type": "stream",
     "text": [
      "HTTP Error for GET to https://api.spotify.com/v1/audio-features/?ids=0YCPCY9WhQFMFtoSpj6dhL with Params: {} returned 403 due to None\n",
      "HTTP Error for GET to https://api.spotify.com/v1/audio-features/?ids=4iEGv5Ne6HuCkFCjzxdWQK with Params: {} returned 403 due to None\n",
      "HTTP Error for GET to https://api.spotify.com/v1/audio-features/?ids=0pw3p4gf5homOkvOGOJulF with Params: {} returned 403 due to None\n",
      "HTTP Error for GET to https://api.spotify.com/v1/audio-features/?ids=30IOhjcKbULQUt66nYkUvW with Params: {} returned 403 due to None\n"
     ]
    },
    {
     "name": "stdout",
     "output_type": "stream",
     "text": [
      "Error fetching features for track 0YCPCY9WhQFMFtoSpj6dhL: http status: 403, code:-1 - https://api.spotify.com/v1/audio-features/?ids=0YCPCY9WhQFMFtoSpj6dhL:\n",
      " None, reason: None\n",
      "Error fetching features for track 4iEGv5Ne6HuCkFCjzxdWQK: http status: 403, code:-1 - https://api.spotify.com/v1/audio-features/?ids=4iEGv5Ne6HuCkFCjzxdWQK:\n",
      " None, reason: None\n",
      "Error fetching features for track 0pw3p4gf5homOkvOGOJulF: http status: 403, code:-1 - https://api.spotify.com/v1/audio-features/?ids=0pw3p4gf5homOkvOGOJulF:\n",
      " None, reason: None\n",
      "Error fetching features for track 30IOhjcKbULQUt66nYkUvW: http status: 403, code:-1 - https://api.spotify.com/v1/audio-features/?ids=30IOhjcKbULQUt66nYkUvW:\n",
      " None, reason: None\n"
     ]
    },
    {
     "name": "stderr",
     "output_type": "stream",
     "text": [
      "HTTP Error for GET to https://api.spotify.com/v1/audio-features/?ids=0RjEjs91p7SpYubEnEanBm with Params: {} returned 403 due to None\n",
      "HTTP Error for GET to https://api.spotify.com/v1/audio-features/?ids=4iEGv5Ne6HuCkFCjzxdWQK with Params: {} returned 403 due to None\n",
      "HTTP Error for GET to https://api.spotify.com/v1/audio-features/?ids=2yBxVCCJkfCuwhA0GR2VwA with Params: {} returned 403 due to None\n",
      "HTTP Error for GET to https://api.spotify.com/v1/audio-features/?ids=4AoQVhME8Ko6LNm4lV2wwQ with Params: {} returned 403 due to None\n"
     ]
    },
    {
     "name": "stdout",
     "output_type": "stream",
     "text": [
      "Error fetching features for track 0RjEjs91p7SpYubEnEanBm: http status: 403, code:-1 - https://api.spotify.com/v1/audio-features/?ids=0RjEjs91p7SpYubEnEanBm:\n",
      " None, reason: None\n",
      "Error fetching features for track 4iEGv5Ne6HuCkFCjzxdWQK: http status: 403, code:-1 - https://api.spotify.com/v1/audio-features/?ids=4iEGv5Ne6HuCkFCjzxdWQK:\n",
      " None, reason: None\n",
      "Error fetching features for track 2yBxVCCJkfCuwhA0GR2VwA: http status: 403, code:-1 - https://api.spotify.com/v1/audio-features/?ids=2yBxVCCJkfCuwhA0GR2VwA:\n",
      " None, reason: None\n",
      "Error fetching features for track 4AoQVhME8Ko6LNm4lV2wwQ: http status: 403, code:-1 - https://api.spotify.com/v1/audio-features/?ids=4AoQVhME8Ko6LNm4lV2wwQ:\n",
      " None, reason: None\n"
     ]
    },
    {
     "name": "stderr",
     "output_type": "stream",
     "text": [
      "HTTP Error for GET to https://api.spotify.com/v1/audio-features/?ids=0G4CQZIR5myNS3kAU13o7v with Params: {} returned 403 due to None\n",
      "HTTP Error for GET to https://api.spotify.com/v1/audio-features/?ids=5nHwX7e5XHnie22nuTFgda with Params: {} returned 403 due to None\n",
      "HTTP Error for GET to https://api.spotify.com/v1/audio-features/?ids=7wqNKCHh87HfIOGNgfyRCk with Params: {} returned 403 due to None\n",
      "HTTP Error for GET to https://api.spotify.com/v1/audio-features/?ids=57efukexqcKkzBc1X9eQUu with Params: {} returned 403 due to None\n"
     ]
    },
    {
     "name": "stdout",
     "output_type": "stream",
     "text": [
      "Error fetching features for track 0G4CQZIR5myNS3kAU13o7v: http status: 403, code:-1 - https://api.spotify.com/v1/audio-features/?ids=0G4CQZIR5myNS3kAU13o7v:\n",
      " None, reason: None\n",
      "Error fetching features for track 5nHwX7e5XHnie22nuTFgda: http status: 403, code:-1 - https://api.spotify.com/v1/audio-features/?ids=5nHwX7e5XHnie22nuTFgda:\n",
      " None, reason: None\n",
      "Error fetching features for track 7wqNKCHh87HfIOGNgfyRCk: http status: 403, code:-1 - https://api.spotify.com/v1/audio-features/?ids=7wqNKCHh87HfIOGNgfyRCk:\n",
      " None, reason: None\n",
      "Error fetching features for track 57efukexqcKkzBc1X9eQUu: http status: 403, code:-1 - https://api.spotify.com/v1/audio-features/?ids=57efukexqcKkzBc1X9eQUu:\n",
      " None, reason: None\n"
     ]
    },
    {
     "name": "stderr",
     "output_type": "stream",
     "text": [
      "HTTP Error for GET to https://api.spotify.com/v1/audio-features/?ids=5nHwX7e5XHnie22nuTFgda with Params: {} returned 403 due to None\n",
      "HTTP Error for GET to https://api.spotify.com/v1/audio-features/?ids=5a2Hoi1wuhCA6Ob7pbOlpW with Params: {} returned 403 due to None\n",
      "HTTP Error for GET to https://api.spotify.com/v1/audio-features/?ids=2RgvvnMwtP0R2OkVZmFvnV with Params: {} returned 403 due to None\n"
     ]
    },
    {
     "name": "stdout",
     "output_type": "stream",
     "text": [
      "Error fetching features for track 5nHwX7e5XHnie22nuTFgda: http status: 403, code:-1 - https://api.spotify.com/v1/audio-features/?ids=5nHwX7e5XHnie22nuTFgda:\n",
      " None, reason: None\n",
      "Error fetching features for track 5a2Hoi1wuhCA6Ob7pbOlpW: http status: 403, code:-1 - https://api.spotify.com/v1/audio-features/?ids=5a2Hoi1wuhCA6Ob7pbOlpW:\n",
      " None, reason: None\n",
      "Error fetching features for track 2RgvvnMwtP0R2OkVZmFvnV: http status: 403, code:-1 - https://api.spotify.com/v1/audio-features/?ids=2RgvvnMwtP0R2OkVZmFvnV:\n",
      " None, reason: None\n"
     ]
    },
    {
     "name": "stderr",
     "output_type": "stream",
     "text": [
      "HTTP Error for GET to https://api.spotify.com/v1/audio-features/?ids=0zQa7QXLpUZfrrsWbgDZll with Params: {} returned 403 due to None\n",
      "HTTP Error for GET to https://api.spotify.com/v1/audio-features/?ids=57zEYntUat0ofbFpoicN26 with Params: {} returned 403 due to None\n",
      "HTTP Error for GET to https://api.spotify.com/v1/audio-features/?ids=3ppaMjhBDxRi2kTpawOSJn with Params: {} returned 403 due to None\n"
     ]
    },
    {
     "name": "stdout",
     "output_type": "stream",
     "text": [
      "Error fetching features for track 0zQa7QXLpUZfrrsWbgDZll: http status: 403, code:-1 - https://api.spotify.com/v1/audio-features/?ids=0zQa7QXLpUZfrrsWbgDZll:\n",
      " None, reason: None\n",
      "Error fetching features for track 57zEYntUat0ofbFpoicN26: http status: 403, code:-1 - https://api.spotify.com/v1/audio-features/?ids=57zEYntUat0ofbFpoicN26:\n",
      " None, reason: None\n",
      "Error fetching features for track 3ppaMjhBDxRi2kTpawOSJn: http status: 403, code:-1 - https://api.spotify.com/v1/audio-features/?ids=3ppaMjhBDxRi2kTpawOSJn:\n",
      " None, reason: None\n"
     ]
    },
    {
     "name": "stderr",
     "output_type": "stream",
     "text": [
      "HTTP Error for GET to https://api.spotify.com/v1/audio-features/?ids=0ypgFw67lNEpoKFUxUV0tG with Params: {} returned 403 due to None\n",
      "HTTP Error for GET to https://api.spotify.com/v1/audio-features/?ids=5O4AGvOVFSs5ipu3iNOuoi with Params: {} returned 403 due to None\n",
      "HTTP Error for GET to https://api.spotify.com/v1/audio-features/?ids=3pRF060IEOI5XSQAvONgSt with Params: {} returned 403 due to None\n"
     ]
    },
    {
     "name": "stdout",
     "output_type": "stream",
     "text": [
      "Error fetching features for track 0ypgFw67lNEpoKFUxUV0tG: http status: 403, code:-1 - https://api.spotify.com/v1/audio-features/?ids=0ypgFw67lNEpoKFUxUV0tG:\n",
      " None, reason: None\n",
      "Error fetching features for track 5O4AGvOVFSs5ipu3iNOuoi: http status: 403, code:-1 - https://api.spotify.com/v1/audio-features/?ids=5O4AGvOVFSs5ipu3iNOuoi:\n",
      " None, reason: None\n",
      "Error fetching features for track 3pRF060IEOI5XSQAvONgSt: http status: 403, code:-1 - https://api.spotify.com/v1/audio-features/?ids=3pRF060IEOI5XSQAvONgSt:\n",
      " None, reason: None\n"
     ]
    },
    {
     "name": "stderr",
     "output_type": "stream",
     "text": [
      "HTTP Error for GET to https://api.spotify.com/v1/audio-features/?ids=69u6HoqhzzdUrWuYeDP6Go with Params: {} returned 403 due to None\n",
      "HTTP Error for GET to https://api.spotify.com/v1/audio-features/?ids=4cltuh2RNH0LyZY9I8Vi08 with Params: {} returned 403 due to None\n",
      "HTTP Error for GET to https://api.spotify.com/v1/audio-features/?ids=3G2I8KB7bTWmvE1tHSlMHg with Params: {} returned 403 due to None\n"
     ]
    },
    {
     "name": "stdout",
     "output_type": "stream",
     "text": [
      "Error fetching features for track 69u6HoqhzzdUrWuYeDP6Go: http status: 403, code:-1 - https://api.spotify.com/v1/audio-features/?ids=69u6HoqhzzdUrWuYeDP6Go:\n",
      " None, reason: None\n",
      "Error fetching features for track 4cltuh2RNH0LyZY9I8Vi08: http status: 403, code:-1 - https://api.spotify.com/v1/audio-features/?ids=4cltuh2RNH0LyZY9I8Vi08:\n",
      " None, reason: None\n",
      "Error fetching features for track 3G2I8KB7bTWmvE1tHSlMHg: http status: 403, code:-1 - https://api.spotify.com/v1/audio-features/?ids=3G2I8KB7bTWmvE1tHSlMHg:\n",
      " None, reason: None\n"
     ]
    },
    {
     "name": "stderr",
     "output_type": "stream",
     "text": [
      "HTTP Error for GET to https://api.spotify.com/v1/audio-features/?ids=7txLCGOXyDlDXTjtR1Sk4v with Params: {} returned 403 due to None\n",
      "HTTP Error for GET to https://api.spotify.com/v1/audio-features/?ids=7txLCGOXyDlDXTjtR1Sk4v with Params: {} returned 403 due to None\n"
     ]
    },
    {
     "name": "stdout",
     "output_type": "stream",
     "text": [
      "Error fetching features for track 7txLCGOXyDlDXTjtR1Sk4v: http status: 403, code:-1 - https://api.spotify.com/v1/audio-features/?ids=7txLCGOXyDlDXTjtR1Sk4v:\n",
      " None, reason: None\n",
      "Error fetching features for track 7txLCGOXyDlDXTjtR1Sk4v: http status: 403, code:-1 - https://api.spotify.com/v1/audio-features/?ids=7txLCGOXyDlDXTjtR1Sk4v:\n",
      " None, reason: None\n"
     ]
    },
    {
     "name": "stderr",
     "output_type": "stream",
     "text": [
      "HTTP Error for GET to https://api.spotify.com/v1/audio-features/?ids=46elU7IBKWf55D5sjHGqO7 with Params: {} returned 403 due to None\n",
      "HTTP Error for GET to https://api.spotify.com/v1/audio-features/?ids=5nHwX7e5XHnie22nuTFgda with Params: {} returned 403 due to None\n",
      "HTTP Error for GET to https://api.spotify.com/v1/audio-features/?ids=7wqNKCHh87HfIOGNgfyRCk with Params: {} returned 403 due to None\n"
     ]
    },
    {
     "name": "stdout",
     "output_type": "stream",
     "text": [
      "Error fetching features for track 46elU7IBKWf55D5sjHGqO7: http status: 403, code:-1 - https://api.spotify.com/v1/audio-features/?ids=46elU7IBKWf55D5sjHGqO7:\n",
      " None, reason: None\n",
      "Error fetching features for track 5nHwX7e5XHnie22nuTFgda: http status: 403, code:-1 - https://api.spotify.com/v1/audio-features/?ids=5nHwX7e5XHnie22nuTFgda:\n",
      " None, reason: None\n",
      "Error fetching features for track 7wqNKCHh87HfIOGNgfyRCk: http status: 403, code:-1 - https://api.spotify.com/v1/audio-features/?ids=7wqNKCHh87HfIOGNgfyRCk:\n",
      " None, reason: None\n"
     ]
    },
    {
     "name": "stderr",
     "output_type": "stream",
     "text": [
      "HTTP Error for GET to https://api.spotify.com/v1/audio-features/?ids=6bngLYnL3AbtpXd7uPAMMd with Params: {} returned 403 due to None\n",
      "HTTP Error for GET to https://api.spotify.com/v1/audio-features/?ids=4v3CXViU9zDIPbuo2aw8lS with Params: {} returned 403 due to None\n"
     ]
    },
    {
     "name": "stdout",
     "output_type": "stream",
     "text": [
      "Error fetching features for track 6bngLYnL3AbtpXd7uPAMMd: http status: 403, code:-1 - https://api.spotify.com/v1/audio-features/?ids=6bngLYnL3AbtpXd7uPAMMd:\n",
      " None, reason: None\n",
      "Error fetching features for track 4v3CXViU9zDIPbuo2aw8lS: http status: 403, code:-1 - https://api.spotify.com/v1/audio-features/?ids=4v3CXViU9zDIPbuo2aw8lS:\n",
      " None, reason: None\n"
     ]
    },
    {
     "name": "stderr",
     "output_type": "stream",
     "text": [
      "HTTP Error for GET to https://api.spotify.com/v1/audio-features/?ids=4iEGv5Ne6HuCkFCjzxdWQK with Params: {} returned 403 due to None\n",
      "HTTP Error for GET to https://api.spotify.com/v1/audio-features/?ids=0YCPCY9WhQFMFtoSpj6dhL with Params: {} returned 403 due to None\n"
     ]
    },
    {
     "name": "stdout",
     "output_type": "stream",
     "text": [
      "Processing batch 13 of 29\n",
      "Error fetching features for track 4iEGv5Ne6HuCkFCjzxdWQK: http status: 403, code:-1 - https://api.spotify.com/v1/audio-features/?ids=4iEGv5Ne6HuCkFCjzxdWQK:\n",
      " None, reason: None\n",
      "Error fetching features for track 0YCPCY9WhQFMFtoSpj6dhL: http status: 403, code:-1 - https://api.spotify.com/v1/audio-features/?ids=0YCPCY9WhQFMFtoSpj6dhL:\n",
      " None, reason: None\n"
     ]
    },
    {
     "name": "stderr",
     "output_type": "stream",
     "text": [
      "HTTP Error for GET to https://api.spotify.com/v1/audio-features/?ids=6ZoCBDOB308GqUdt2AJrV2 with Params: {} returned 403 due to None\n",
      "HTTP Error for GET to https://api.spotify.com/v1/audio-features/?ids=6D2ZnEZ92wUFTr38YXTCL5 with Params: {} returned 403 due to None\n",
      "HTTP Error for GET to https://api.spotify.com/v1/audio-features/?ids=3APdIdF8H0jsxSuGOqXedS with Params: {} returned 403 due to None\n"
     ]
    },
    {
     "name": "stdout",
     "output_type": "stream",
     "text": [
      "Error fetching features for track 6ZoCBDOB308GqUdt2AJrV2: http status: 403, code:-1 - https://api.spotify.com/v1/audio-features/?ids=6ZoCBDOB308GqUdt2AJrV2:\n",
      " None, reason: None\n",
      "Error fetching features for track 6D2ZnEZ92wUFTr38YXTCL5: http status: 403, code:-1 - https://api.spotify.com/v1/audio-features/?ids=6D2ZnEZ92wUFTr38YXTCL5:\n",
      " None, reason: None\n",
      "Error fetching features for track 3APdIdF8H0jsxSuGOqXedS: http status: 403, code:-1 - https://api.spotify.com/v1/audio-features/?ids=3APdIdF8H0jsxSuGOqXedS:\n",
      " None, reason: None\n"
     ]
    },
    {
     "name": "stderr",
     "output_type": "stream",
     "text": [
      "HTTP Error for GET to https://api.spotify.com/v1/audio-features/?ids=18gi2IxbZ3Ugom7wTRkohf with Params: {} returned 403 due to None\n",
      "HTTP Error for GET to https://api.spotify.com/v1/audio-features/?ids=4kaLkst9lT3sQ5Crgxs3ic with Params: {} returned 403 due to None\n",
      "HTTP Error for GET to https://api.spotify.com/v1/audio-features/?ids=3hoXhwP0ub9LdSJV4olDIc with Params: {} returned 403 due to None\n"
     ]
    },
    {
     "name": "stdout",
     "output_type": "stream",
     "text": [
      "Error fetching features for track 18gi2IxbZ3Ugom7wTRkohf: http status: 403, code:-1 - https://api.spotify.com/v1/audio-features/?ids=18gi2IxbZ3Ugom7wTRkohf:\n",
      " None, reason: None\n",
      "Error fetching features for track 4kaLkst9lT3sQ5Crgxs3ic: http status: 403, code:-1 - https://api.spotify.com/v1/audio-features/?ids=4kaLkst9lT3sQ5Crgxs3ic:\n",
      " None, reason: None\n",
      "Error fetching features for track 3hoXhwP0ub9LdSJV4olDIc: http status: 403, code:-1 - https://api.spotify.com/v1/audio-features/?ids=3hoXhwP0ub9LdSJV4olDIc:\n",
      " None, reason: None\n"
     ]
    },
    {
     "name": "stderr",
     "output_type": "stream",
     "text": [
      "HTTP Error for GET to https://api.spotify.com/v1/audio-features/?ids=4J9n7thOdqi8gxRGNyQoVC with Params: {} returned 403 due to None\n",
      "HTTP Error for GET to https://api.spotify.com/v1/audio-features/?ids=1ax8ZuwRVkSdzzsIqyCNWQ with Params: {} returned 403 due to None\n",
      "HTTP Error for GET to https://api.spotify.com/v1/audio-features/?ids=1vBmaijoCBoqmwc3zs5n3s with Params: {} returned 403 due to None\n"
     ]
    },
    {
     "name": "stdout",
     "output_type": "stream",
     "text": [
      "Error fetching features for track 4J9n7thOdqi8gxRGNyQoVC: http status: 403, code:-1 - https://api.spotify.com/v1/audio-features/?ids=4J9n7thOdqi8gxRGNyQoVC:\n",
      " None, reason: None\n",
      "Error fetching features for track 1ax8ZuwRVkSdzzsIqyCNWQ: http status: 403, code:-1 - https://api.spotify.com/v1/audio-features/?ids=1ax8ZuwRVkSdzzsIqyCNWQ:\n",
      " None, reason: None\n",
      "Error fetching features for track 1vBmaijoCBoqmwc3zs5n3s: http status: 403, code:-1 - https://api.spotify.com/v1/audio-features/?ids=1vBmaijoCBoqmwc3zs5n3s:\n",
      " None, reason: None\n"
     ]
    },
    {
     "name": "stderr",
     "output_type": "stream",
     "text": [
      "HTTP Error for GET to https://api.spotify.com/v1/audio-features/?ids=2I0MIQhICYnKHvaxUHYH49 with Params: {} returned 403 due to None\n",
      "HTTP Error for GET to https://api.spotify.com/v1/audio-features/?ids=4iEGv5Ne6HuCkFCjzxdWQK with Params: {} returned 403 due to None\n",
      "HTTP Error for GET to https://api.spotify.com/v1/audio-features/?ids=4r8JqkhpTb5tzSKKHnVJIJ with Params: {} returned 403 due to None\n",
      "HTTP Error for GET to https://api.spotify.com/v1/audio-features/?ids=6ZoCBDOB308GqUdt2AJrV2 with Params: {} returned 403 due to None\n"
     ]
    },
    {
     "name": "stdout",
     "output_type": "stream",
     "text": [
      "Error fetching features for track 2I0MIQhICYnKHvaxUHYH49: http status: 403, code:-1 - https://api.spotify.com/v1/audio-features/?ids=2I0MIQhICYnKHvaxUHYH49:\n",
      " None, reason: None\n",
      "Error fetching features for track 4iEGv5Ne6HuCkFCjzxdWQK: http status: 403, code:-1 - https://api.spotify.com/v1/audio-features/?ids=4iEGv5Ne6HuCkFCjzxdWQK:\n",
      " None, reason: None\n",
      "Error fetching features for track 4r8JqkhpTb5tzSKKHnVJIJ: http status: 403, code:-1 - https://api.spotify.com/v1/audio-features/?ids=4r8JqkhpTb5tzSKKHnVJIJ:\n",
      " None, reason: None\n",
      "Error fetching features for track 6ZoCBDOB308GqUdt2AJrV2: http status: 403, code:-1 - https://api.spotify.com/v1/audio-features/?ids=6ZoCBDOB308GqUdt2AJrV2:\n",
      " None, reason: None\n"
     ]
    },
    {
     "name": "stderr",
     "output_type": "stream",
     "text": [
      "HTTP Error for GET to https://api.spotify.com/v1/audio-features/?ids=6D2ZnEZ92wUFTr38YXTCL5 with Params: {} returned 403 due to None\n",
      "HTTP Error for GET to https://api.spotify.com/v1/audio-features/?ids=3hcwpXiJtR7kwDrWllcH0v with Params: {} returned 403 due to None\n",
      "HTTP Error for GET to https://api.spotify.com/v1/audio-features/?ids=3F2BSn4ayglzMwquBRHZq6 with Params: {} returned 403 due to None\n",
      "HTTP Error for GET to https://api.spotify.com/v1/audio-features/?ids=09sq0BHe85uV2ADUx1gaiA with Params: {} returned 403 due to None\n"
     ]
    },
    {
     "name": "stdout",
     "output_type": "stream",
     "text": [
      "Error fetching features for track 6D2ZnEZ92wUFTr38YXTCL5: http status: 403, code:-1 - https://api.spotify.com/v1/audio-features/?ids=6D2ZnEZ92wUFTr38YXTCL5:\n",
      " None, reason: None\n",
      "Error fetching features for track 3hcwpXiJtR7kwDrWllcH0v: http status: 403, code:-1 - https://api.spotify.com/v1/audio-features/?ids=3hcwpXiJtR7kwDrWllcH0v:\n",
      " None, reason: None\n",
      "Error fetching features for track 3F2BSn4ayglzMwquBRHZq6: http status: 403, code:-1 - https://api.spotify.com/v1/audio-features/?ids=3F2BSn4ayglzMwquBRHZq6:\n",
      " None, reason: None\n"
     ]
    },
    {
     "name": "stderr",
     "output_type": "stream",
     "text": [
      "HTTP Error for GET to https://api.spotify.com/v1/audio-features/?ids=4Yp8zw7b35bheMVTp39o5O with Params: {} returned 403 due to None\n"
     ]
    },
    {
     "name": "stdout",
     "output_type": "stream",
     "text": [
      "Error fetching features for track 09sq0BHe85uV2ADUx1gaiA: http status: 403, code:-1 - https://api.spotify.com/v1/audio-features/?ids=09sq0BHe85uV2ADUx1gaiA:\n",
      " None, reason: None\n",
      "Error fetching features for track 4Yp8zw7b35bheMVTp39o5O: http status: 403, code:-1 - https://api.spotify.com/v1/audio-features/?ids=4Yp8zw7b35bheMVTp39o5O:\n",
      " None, reason: None\n"
     ]
    },
    {
     "name": "stderr",
     "output_type": "stream",
     "text": [
      "HTTP Error for GET to https://api.spotify.com/v1/audio-features/?ids=7eQl3Yqv35ioqUfveKHitE with Params: {} returned 403 due to None\n",
      "HTTP Error for GET to https://api.spotify.com/v1/audio-features/?ids=2RgvvnMwtP0R2OkVZmFvnV with Params: {} returned 403 due to None\n",
      "HTTP Error for GET to https://api.spotify.com/v1/audio-features/?ids=4qRcjFkFqSpLBzcbLDt7HL with Params: {} returned 403 due to None\n"
     ]
    },
    {
     "name": "stdout",
     "output_type": "stream",
     "text": [
      "Error fetching features for track 7eQl3Yqv35ioqUfveKHitE: http status: 403, code:-1 - https://api.spotify.com/v1/audio-features/?ids=7eQl3Yqv35ioqUfveKHitE:\n",
      " None, reason: None\n",
      "Error fetching features for track 2RgvvnMwtP0R2OkVZmFvnV: http status: 403, code:-1 - https://api.spotify.com/v1/audio-features/?ids=2RgvvnMwtP0R2OkVZmFvnV:\n",
      " None, reason: None\n",
      "Error fetching features for track 4qRcjFkFqSpLBzcbLDt7HL: http status: 403, code:-1 - https://api.spotify.com/v1/audio-features/?ids=4qRcjFkFqSpLBzcbLDt7HL:\n",
      " None, reason: None\n"
     ]
    },
    {
     "name": "stderr",
     "output_type": "stream",
     "text": [
      "HTTP Error for GET to https://api.spotify.com/v1/audio-features/?ids=2LcXJP95e4HKydTZ2mYfrx with Params: {} returned 403 due to None\n",
      "HTTP Error for GET to https://api.spotify.com/v1/audio-features/?ids=4r8JqkhpTb5tzSKKHnVJIJ with Params: {} returned 403 due to None\n",
      "HTTP Error for GET to https://api.spotify.com/v1/audio-features/?ids=7H3mfOvtPNA8YDF3EdKy0L with Params: {} returned 403 due to None\n"
     ]
    },
    {
     "name": "stdout",
     "output_type": "stream",
     "text": [
      "Error fetching features for track 2LcXJP95e4HKydTZ2mYfrx: http status: 403, code:-1 - https://api.spotify.com/v1/audio-features/?ids=2LcXJP95e4HKydTZ2mYfrx:\n",
      " None, reason: None\n",
      "Error fetching features for track 4r8JqkhpTb5tzSKKHnVJIJ: http status: 403, code:-1 - https://api.spotify.com/v1/audio-features/?ids=4r8JqkhpTb5tzSKKHnVJIJ:\n",
      " None, reason: None\n",
      "Error fetching features for track 7H3mfOvtPNA8YDF3EdKy0L: http status: 403, code:-1 - https://api.spotify.com/v1/audio-features/?ids=7H3mfOvtPNA8YDF3EdKy0L:\n",
      " None, reason: None\n"
     ]
    },
    {
     "name": "stderr",
     "output_type": "stream",
     "text": [
      "HTTP Error for GET to https://api.spotify.com/v1/audio-features/?ids=4kaLkst9lT3sQ5Crgxs3ic with Params: {} returned 403 due to None\n",
      "HTTP Error for GET to https://api.spotify.com/v1/audio-features/?ids=7tp4iYvcZksGp1u7feUrrO with Params: {} returned 403 due to None\n",
      "HTTP Error for GET to https://api.spotify.com/v1/audio-features/?ids=6d7MSaXaEBSzRG39HNODNz with Params: {} returned 403 due to None\n"
     ]
    },
    {
     "name": "stdout",
     "output_type": "stream",
     "text": [
      "Error fetching features for track 4kaLkst9lT3sQ5Crgxs3ic: http status: 403, code:-1 - https://api.spotify.com/v1/audio-features/?ids=4kaLkst9lT3sQ5Crgxs3ic:\n",
      " None, reason: None\n",
      "Error fetching features for track 7tp4iYvcZksGp1u7feUrrO: http status: 403, code:-1 - https://api.spotify.com/v1/audio-features/?ids=7tp4iYvcZksGp1u7feUrrO:\n",
      " None, reason: None\n",
      "Error fetching features for track 6d7MSaXaEBSzRG39HNODNz: http status: 403, code:-1 - https://api.spotify.com/v1/audio-features/?ids=6d7MSaXaEBSzRG39HNODNz:\n",
      " None, reason: None\n"
     ]
    },
    {
     "name": "stderr",
     "output_type": "stream",
     "text": [
      "HTTP Error for GET to https://api.spotify.com/v1/audio-features/?ids=5Cdd8p9sxRczQX6GFC8CdH with Params: {} returned 403 due to None\n",
      "HTTP Error for GET to https://api.spotify.com/v1/audio-features/?ids=51EUKH2M1QGN50iGUlnxmU with Params: {} returned 403 due to None\n",
      "HTTP Error for GET to https://api.spotify.com/v1/audio-features/?ids=01npLGQTbZBIHVRcXJbLzR with Params: {} returned 403 due to None\n",
      "HTTP Error for GET to https://api.spotify.com/v1/audio-features/?ids=02nOZG5WrxCHEYbjjxeZQf with Params: {} returned 403 due to None\n"
     ]
    },
    {
     "name": "stdout",
     "output_type": "stream",
     "text": [
      "Error fetching features for track 5Cdd8p9sxRczQX6GFC8CdH: http status: 403, code:-1 - https://api.spotify.com/v1/audio-features/?ids=5Cdd8p9sxRczQX6GFC8CdH:\n",
      " None, reason: None\n",
      "Error fetching features for track 51EUKH2M1QGN50iGUlnxmU: http status: 403, code:-1 - https://api.spotify.com/v1/audio-features/?ids=51EUKH2M1QGN50iGUlnxmU:\n",
      " None, reason: None\n",
      "Error fetching features for track 01npLGQTbZBIHVRcXJbLzR: http status: 403, code:-1 - https://api.spotify.com/v1/audio-features/?ids=01npLGQTbZBIHVRcXJbLzR:\n",
      " None, reason: None\n",
      "Error fetching features for track 02nOZG5WrxCHEYbjjxeZQf: http status: 403, code:-1 - https://api.spotify.com/v1/audio-features/?ids=02nOZG5WrxCHEYbjjxeZQf:\n",
      " None, reason: None\n"
     ]
    },
    {
     "name": "stderr",
     "output_type": "stream",
     "text": [
      "HTTP Error for GET to https://api.spotify.com/v1/audio-features/?ids=4O5ERhWIhAnBelhNDHcSlA with Params: {} returned 403 due to None\n",
      "HTTP Error for GET to https://api.spotify.com/v1/audio-features/?ids=53DXM0bHfB7xkqJZYlksuh with Params: {} returned 403 due to None\n",
      "HTTP Error for GET to https://api.spotify.com/v1/audio-features/?ids=6UEhNvccAc4OyEDJYB5brb with Params: {} returned 403 due to None\n",
      "HTTP Error for GET to https://api.spotify.com/v1/audio-features/?ids=0YCPCY9WhQFMFtoSpj6dhL with Params: {} returned 403 due to None\n"
     ]
    },
    {
     "name": "stdout",
     "output_type": "stream",
     "text": [
      "Error fetching features for track 4O5ERhWIhAnBelhNDHcSlA: http status: 403, code:-1 - https://api.spotify.com/v1/audio-features/?ids=4O5ERhWIhAnBelhNDHcSlA:\n",
      " None, reason: None\n",
      "Error fetching features for track 53DXM0bHfB7xkqJZYlksuh: http status: 403, code:-1 - https://api.spotify.com/v1/audio-features/?ids=53DXM0bHfB7xkqJZYlksuh:\n",
      " None, reason: None\n",
      "Error fetching features for track 6UEhNvccAc4OyEDJYB5brb: http status: 403, code:-1 - https://api.spotify.com/v1/audio-features/?ids=6UEhNvccAc4OyEDJYB5brb:\n",
      " None, reason: None\n",
      "Error fetching features for track 0YCPCY9WhQFMFtoSpj6dhL: http status: 403, code:-1 - https://api.spotify.com/v1/audio-features/?ids=0YCPCY9WhQFMFtoSpj6dhL:\n",
      " None, reason: None\n"
     ]
    },
    {
     "name": "stderr",
     "output_type": "stream",
     "text": [
      "HTTP Error for GET to https://api.spotify.com/v1/audio-features/?ids=0s8fGVzyn6URNrUVwCE3dV with Params: {} returned 403 due to None\n",
      "HTTP Error for GET to https://api.spotify.com/v1/audio-features/?ids=2GTasAZimpxzNgE7aXFifI with Params: {} returned 403 due to None\n",
      "HTTP Error for GET to https://api.spotify.com/v1/audio-features/?ids=4JnswHcipiqzJ3F11huRIt with Params: {} returned 403 due to None\n",
      "HTTP Error for GET to https://api.spotify.com/v1/audio-features/?ids=0YCPCY9WhQFMFtoSpj6dhL with Params: {} returned 403 due to None\n"
     ]
    },
    {
     "name": "stdout",
     "output_type": "stream",
     "text": [
      "Error fetching features for track 0s8fGVzyn6URNrUVwCE3dV: http status: 403, code:-1 - https://api.spotify.com/v1/audio-features/?ids=0s8fGVzyn6URNrUVwCE3dV:\n",
      " None, reason: None\n",
      "Error fetching features for track 2GTasAZimpxzNgE7aXFifI: http status: 403, code:-1 - https://api.spotify.com/v1/audio-features/?ids=2GTasAZimpxzNgE7aXFifI:\n",
      " None, reason: None\n",
      "Error fetching features for track 4JnswHcipiqzJ3F11huRIt: http status: 403, code:-1 - https://api.spotify.com/v1/audio-features/?ids=4JnswHcipiqzJ3F11huRIt:\n",
      " None, reason: None\n",
      "Error fetching features for track 0YCPCY9WhQFMFtoSpj6dhL: http status: 403, code:-1 - https://api.spotify.com/v1/audio-features/?ids=0YCPCY9WhQFMFtoSpj6dhL:\n",
      " None, reason: None\n"
     ]
    },
    {
     "name": "stderr",
     "output_type": "stream",
     "text": [
      "HTTP Error for GET to https://api.spotify.com/v1/audio-features/?ids=51EUKH2M1QGN50iGUlnxmU with Params: {} returned 403 due to None\n",
      "HTTP Error for GET to https://api.spotify.com/v1/audio-features/?ids=71EsSmCOr91bFkCWQzyCmu with Params: {} returned 403 due to None\n",
      "HTTP Error for GET to https://api.spotify.com/v1/audio-features/?ids=7v6kXbTvpHbhq5LHruy0xV with Params: {} returned 403 due to None\n",
      "HTTP Error for GET to https://api.spotify.com/v1/audio-features/?ids=3J8pAPhUxz4khqNTsas67C with Params: {} returned 403 due to None\n"
     ]
    },
    {
     "name": "stdout",
     "output_type": "stream",
     "text": [
      "Error fetching features for track 51EUKH2M1QGN50iGUlnxmU: http status: 403, code:-1 - https://api.spotify.com/v1/audio-features/?ids=51EUKH2M1QGN50iGUlnxmU:\n",
      " None, reason: None\n",
      "Error fetching features for track 71EsSmCOr91bFkCWQzyCmu: http status: 403, code:-1 - https://api.spotify.com/v1/audio-features/?ids=71EsSmCOr91bFkCWQzyCmu:\n",
      " None, reason: None\n",
      "Error fetching features for track 7v6kXbTvpHbhq5LHruy0xV: http status: 403, code:-1 - https://api.spotify.com/v1/audio-features/?ids=7v6kXbTvpHbhq5LHruy0xV:\n",
      " None, reason: None\n",
      "Error fetching features for track 3J8pAPhUxz4khqNTsas67C: http status: 403, code:-1 - https://api.spotify.com/v1/audio-features/?ids=3J8pAPhUxz4khqNTsas67C:\n",
      " None, reason: None\n"
     ]
    },
    {
     "name": "stderr",
     "output_type": "stream",
     "text": [
      "HTTP Error for GET to https://api.spotify.com/v1/audio-features/?ids=0GNq37PiMmflUA7uCnSh3W with Params: {} returned 403 due to None\n",
      "HTTP Error for GET to https://api.spotify.com/v1/audio-features/?ids=7qZc5Nq0uIgdiRyUMcxWot with Params: {} returned 403 due to None\n"
     ]
    },
    {
     "name": "stdout",
     "output_type": "stream",
     "text": [
      "Error fetching features for track 0GNq37PiMmflUA7uCnSh3W: http status: 403, code:-1 - https://api.spotify.com/v1/audio-features/?ids=0GNq37PiMmflUA7uCnSh3W:\n",
      " None, reason: None\n"
     ]
    },
    {
     "name": "stderr",
     "output_type": "stream",
     "text": [
      "HTTP Error for GET to https://api.spotify.com/v1/audio-features/?ids=3FrY3M9izNqPZRWuBAqDFM with Params: {} returned 403 due to None\n",
      "HTTP Error for GET to https://api.spotify.com/v1/audio-features/?ids=3ixMjC2DtqNCmffEW8rSwv with Params: {} returned 403 due to None\n",
      "HTTP Error for GET to https://api.spotify.com/v1/audio-features/?ids=0psCx44WZkduuxQYQnabSW with Params: {} returned 403 due to None\n"
     ]
    },
    {
     "name": "stdout",
     "output_type": "stream",
     "text": [
      "Error fetching features for track 7qZc5Nq0uIgdiRyUMcxWot: http status: 403, code:-1 - https://api.spotify.com/v1/audio-features/?ids=7qZc5Nq0uIgdiRyUMcxWot:\n",
      " None, reason: None\n",
      "Error fetching features for track 3FrY3M9izNqPZRWuBAqDFM: http status: 403, code:-1 - https://api.spotify.com/v1/audio-features/?ids=3FrY3M9izNqPZRWuBAqDFM:\n",
      " None, reason: None\n",
      "Error fetching features for track 3ixMjC2DtqNCmffEW8rSwv: http status: 403, code:-1 - https://api.spotify.com/v1/audio-features/?ids=3ixMjC2DtqNCmffEW8rSwv:\n",
      " None, reason: None\n",
      "Error fetching features for track 0psCx44WZkduuxQYQnabSW: http status: 403, code:-1 - https://api.spotify.com/v1/audio-features/?ids=0psCx44WZkduuxQYQnabSW:\n",
      " None, reason: None\n"
     ]
    },
    {
     "name": "stderr",
     "output_type": "stream",
     "text": [
      "HTTP Error for GET to https://api.spotify.com/v1/audio-features/?ids=61U3GdBbVKLsgtqsHUFtKu with Params: {} returned 403 due to None\n",
      "HTTP Error for GET to https://api.spotify.com/v1/audio-features/?ids=644jX0KmSjtPv7mARfluGE with Params: {} returned 403 due to None\n"
     ]
    },
    {
     "name": "stdout",
     "output_type": "stream",
     "text": [
      "Processing batch 14 of 29\n",
      "Error fetching features for track 61U3GdBbVKLsgtqsHUFtKu: http status: 403, code:-1 - https://api.spotify.com/v1/audio-features/?ids=61U3GdBbVKLsgtqsHUFtKu:\n",
      " None, reason: None\n",
      "Error fetching features for track 644jX0KmSjtPv7mARfluGE: http status: 403, code:-1 - https://api.spotify.com/v1/audio-features/?ids=644jX0KmSjtPv7mARfluGE:\n",
      " None, reason: None\n"
     ]
    },
    {
     "name": "stderr",
     "output_type": "stream",
     "text": [
      "HTTP Error for GET to https://api.spotify.com/v1/audio-features/?ids=0Y4yEiDOL63Z8ePK3HSQvg with Params: {} returned 403 due to None\n",
      "HTTP Error for GET to https://api.spotify.com/v1/audio-features/?ids=0GybyL5gY2kSLgiSwauFei with Params: {} returned 403 due to None\n",
      "HTTP Error for GET to https://api.spotify.com/v1/audio-features/?ids=3cAXkqG9bj5l6SpusgiPZU with Params: {} returned 403 due to None\n",
      "HTTP Error for GET to https://api.spotify.com/v1/audio-features/?ids=53DXM0bHfB7xkqJZYlksuh with Params: {} returned 403 due to None\n"
     ]
    },
    {
     "name": "stdout",
     "output_type": "stream",
     "text": [
      "Error fetching features for track 0Y4yEiDOL63Z8ePK3HSQvg: http status: 403, code:-1 - https://api.spotify.com/v1/audio-features/?ids=0Y4yEiDOL63Z8ePK3HSQvg:\n",
      " None, reason: None\n",
      "Error fetching features for track 0GybyL5gY2kSLgiSwauFei: http status: 403, code:-1 - https://api.spotify.com/v1/audio-features/?ids=0GybyL5gY2kSLgiSwauFei:\n",
      " None, reason: None\n",
      "Error fetching features for track 3cAXkqG9bj5l6SpusgiPZU: http status: 403, code:-1 - https://api.spotify.com/v1/audio-features/?ids=3cAXkqG9bj5l6SpusgiPZU:\n",
      " None, reason: None\n",
      "Error fetching features for track 53DXM0bHfB7xkqJZYlksuh: http status: 403, code:-1 - https://api.spotify.com/v1/audio-features/?ids=53DXM0bHfB7xkqJZYlksuh:\n",
      " None, reason: None\n"
     ]
    },
    {
     "name": "stderr",
     "output_type": "stream",
     "text": [
      "HTTP Error for GET to https://api.spotify.com/v1/audio-features/?ids=14uXhHNINQqjl2hngD21s9 with Params: {} returned 403 due to None\n",
      "HTTP Error for GET to https://api.spotify.com/v1/audio-features/?ids=2CPGQ7WaEkOICeEw0by4ZL with Params: {} returned 403 due to None\n",
      "HTTP Error for GET to https://api.spotify.com/v1/audio-features/?ids=0eqb7I8zsoY77Ha7fmaSAj with Params: {} returned 403 due to None\n"
     ]
    },
    {
     "name": "stdout",
     "output_type": "stream",
     "text": [
      "Error fetching features for track 14uXhHNINQqjl2hngD21s9: http status: 403, code:-1 - https://api.spotify.com/v1/audio-features/?ids=14uXhHNINQqjl2hngD21s9:\n",
      " None, reason: None\n",
      "Error fetching features for track 2CPGQ7WaEkOICeEw0by4ZL: http status: 403, code:-1 - https://api.spotify.com/v1/audio-features/?ids=2CPGQ7WaEkOICeEw0by4ZL:\n",
      " None, reason: None\n",
      "Error fetching features for track 0eqb7I8zsoY77Ha7fmaSAj: http status: 403, code:-1 - https://api.spotify.com/v1/audio-features/?ids=0eqb7I8zsoY77Ha7fmaSAj:\n",
      " None, reason: None\n"
     ]
    },
    {
     "name": "stderr",
     "output_type": "stream",
     "text": [
      "HTTP Error for GET to https://api.spotify.com/v1/audio-features/?ids=0gRNu9dVzi5aC87AI1empZ with Params: {} returned 403 due to None\n",
      "HTTP Error for GET to https://api.spotify.com/v1/audio-features/?ids=6ZoCBDOB308GqUdt2AJrV2 with Params: {} returned 403 due to None\n",
      "HTTP Error for GET to https://api.spotify.com/v1/audio-features/?ids=3exgkJ0BYO9WYe1KtRnELm with Params: {} returned 403 due to None\n",
      "HTTP Error for GET to https://api.spotify.com/v1/audio-features/?ids=6fIVkFeP4tk5CzFTPDf9PE with Params: {} returned 403 due to None\n"
     ]
    },
    {
     "name": "stdout",
     "output_type": "stream",
     "text": [
      "Error fetching features for track 0gRNu9dVzi5aC87AI1empZ: http status: 403, code:-1 - https://api.spotify.com/v1/audio-features/?ids=0gRNu9dVzi5aC87AI1empZ:\n",
      " None, reason: None\n",
      "Error fetching features for track 6ZoCBDOB308GqUdt2AJrV2: http status: 403, code:-1 - https://api.spotify.com/v1/audio-features/?ids=6ZoCBDOB308GqUdt2AJrV2:\n",
      " None, reason: None\n",
      "Error fetching features for track 3exgkJ0BYO9WYe1KtRnELm: http status: 403, code:-1 - https://api.spotify.com/v1/audio-features/?ids=3exgkJ0BYO9WYe1KtRnELm:\n",
      " None, reason: None\n",
      "Error fetching features for track 6fIVkFeP4tk5CzFTPDf9PE: http status: 403, code:-1 - https://api.spotify.com/v1/audio-features/?ids=6fIVkFeP4tk5CzFTPDf9PE:\n",
      " None, reason: None\n"
     ]
    },
    {
     "name": "stderr",
     "output_type": "stream",
     "text": [
      "HTTP Error for GET to https://api.spotify.com/v1/audio-features/?ids=1UHVj0W8BRn08AXvWcv8i6 with Params: {} returned 403 due to None\n",
      "HTTP Error for GET to https://api.spotify.com/v1/audio-features/?ids=6ECucSdJeJmSm3k1k3Vumv with Params: {} returned 403 due to None\n",
      "HTTP Error for GET to https://api.spotify.com/v1/audio-features/?ids=01npLGQTbZBIHVRcXJbLzR with Params: {} returned 403 due to None\n",
      "HTTP Error for GET to https://api.spotify.com/v1/audio-features/?ids=2GXXZFUxYg2LvG8SR0byOE with Params: {} returned 403 due to None\n"
     ]
    },
    {
     "name": "stdout",
     "output_type": "stream",
     "text": [
      "Error fetching features for track 1UHVj0W8BRn08AXvWcv8i6: http status: 403, code:-1 - https://api.spotify.com/v1/audio-features/?ids=1UHVj0W8BRn08AXvWcv8i6:\n",
      " None, reason: None\n",
      "Error fetching features for track 6ECucSdJeJmSm3k1k3Vumv: http status: 403, code:-1 - https://api.spotify.com/v1/audio-features/?ids=6ECucSdJeJmSm3k1k3Vumv:\n",
      " None, reason: None\n",
      "Error fetching features for track 01npLGQTbZBIHVRcXJbLzR: http status: 403, code:-1 - https://api.spotify.com/v1/audio-features/?ids=01npLGQTbZBIHVRcXJbLzR:\n",
      " None, reason: None\n",
      "Error fetching features for track 2GXXZFUxYg2LvG8SR0byOE: http status: 403, code:-1 - https://api.spotify.com/v1/audio-features/?ids=2GXXZFUxYg2LvG8SR0byOE:\n",
      " None, reason: None\n"
     ]
    },
    {
     "name": "stderr",
     "output_type": "stream",
     "text": [
      "HTTP Error for GET to https://api.spotify.com/v1/audio-features/?ids=18AId3X5GULxDCCjyRTCIQ with Params: {} returned 403 due to None\n",
      "HTTP Error for GET to https://api.spotify.com/v1/audio-features/?ids=3rsx3pDYM3a08O0Yu3Tq6V with Params: {} returned 403 due to None\n",
      "HTTP Error for GET to https://api.spotify.com/v1/audio-features/?ids=2n9ylYiF7urpXo36qBwr3g with Params: {} returned 403 due to None\n",
      "HTTP Error for GET to https://api.spotify.com/v1/audio-features/?ids=1q6pMQBRILzkz0g4rKEXdM with Params: {} returned 403 due to None\n"
     ]
    },
    {
     "name": "stdout",
     "output_type": "stream",
     "text": [
      "Error fetching features for track 18AId3X5GULxDCCjyRTCIQ: http status: 403, code:-1 - https://api.spotify.com/v1/audio-features/?ids=18AId3X5GULxDCCjyRTCIQ:\n",
      " None, reason: None\n",
      "Error fetching features for track 3rsx3pDYM3a08O0Yu3Tq6V: http status: 403, code:-1 - https://api.spotify.com/v1/audio-features/?ids=3rsx3pDYM3a08O0Yu3Tq6V:\n",
      " None, reason: None\n",
      "Error fetching features for track 2n9ylYiF7urpXo36qBwr3g: http status: 403, code:-1 - https://api.spotify.com/v1/audio-features/?ids=2n9ylYiF7urpXo36qBwr3g:\n",
      " None, reason: None\n",
      "Error fetching features for track 1q6pMQBRILzkz0g4rKEXdM: http status: 403, code:-1 - https://api.spotify.com/v1/audio-features/?ids=1q6pMQBRILzkz0g4rKEXdM:\n",
      " None, reason: None\n"
     ]
    },
    {
     "name": "stderr",
     "output_type": "stream",
     "text": [
      "HTTP Error for GET to https://api.spotify.com/v1/audio-features/?ids=1sNCUR5bUvFSQVDYEvsHCU with Params: {} returned 403 due to None\n",
      "HTTP Error for GET to https://api.spotify.com/v1/audio-features/?ids=44O26Gv1wQrlUj14PpTolM with Params: {} returned 403 due to None\n",
      "HTTP Error for GET to https://api.spotify.com/v1/audio-features/?ids=4N66qcycDiFLJGjnXiKbKX with Params: {} returned 403 due to None\n",
      "HTTP Error for GET to https://api.spotify.com/v1/audio-features/?ids=3FbZoPzEaUBOD84l1FwFEH with Params: {} returned 403 due to None\n"
     ]
    },
    {
     "name": "stdout",
     "output_type": "stream",
     "text": [
      "Error fetching features for track 1sNCUR5bUvFSQVDYEvsHCU: http status: 403, code:-1 - https://api.spotify.com/v1/audio-features/?ids=1sNCUR5bUvFSQVDYEvsHCU:\n",
      " None, reason: None\n",
      "Error fetching features for track 44O26Gv1wQrlUj14PpTolM: http status: 403, code:-1 - https://api.spotify.com/v1/audio-features/?ids=44O26Gv1wQrlUj14PpTolM:\n",
      " None, reason: None\n",
      "Error fetching features for track 4N66qcycDiFLJGjnXiKbKX: http status: 403, code:-1 - https://api.spotify.com/v1/audio-features/?ids=4N66qcycDiFLJGjnXiKbKX:\n",
      " None, reason: None\n",
      "Error fetching features for track 3FbZoPzEaUBOD84l1FwFEH: http status: 403, code:-1 - https://api.spotify.com/v1/audio-features/?ids=3FbZoPzEaUBOD84l1FwFEH:\n",
      " None, reason: None\n"
     ]
    },
    {
     "name": "stderr",
     "output_type": "stream",
     "text": [
      "HTTP Error for GET to https://api.spotify.com/v1/audio-features/?ids=01npLGQTbZBIHVRcXJbLzR with Params: {} returned 403 due to None\n",
      "HTTP Error for GET to https://api.spotify.com/v1/audio-features/?ids=4cltuh2RNH0LyZY9I8Vi08 with Params: {} returned 403 due to None\n",
      "HTTP Error for GET to https://api.spotify.com/v1/audio-features/?ids=6vNolBIVWvfY3Z20gAG5nI with Params: {} returned 403 due to None\n",
      "HTTP Error for GET to https://api.spotify.com/v1/audio-features/?ids=47l2Dd3XPBLio3kjbEMyDJ with Params: {} returned 403 due to None\n"
     ]
    },
    {
     "name": "stdout",
     "output_type": "stream",
     "text": [
      "Error fetching features for track 01npLGQTbZBIHVRcXJbLzR: http status: 403, code:-1 - https://api.spotify.com/v1/audio-features/?ids=01npLGQTbZBIHVRcXJbLzR:\n",
      " None, reason: None\n",
      "Error fetching features for track 4cltuh2RNH0LyZY9I8Vi08: http status: 403, code:-1 - https://api.spotify.com/v1/audio-features/?ids=4cltuh2RNH0LyZY9I8Vi08:\n",
      " None, reason: None\n",
      "Error fetching features for track 6vNolBIVWvfY3Z20gAG5nI: http status: 403, code:-1 - https://api.spotify.com/v1/audio-features/?ids=6vNolBIVWvfY3Z20gAG5nI:\n",
      " None, reason: None\n",
      "Error fetching features for track 47l2Dd3XPBLio3kjbEMyDJ: http status: 403, code:-1 - https://api.spotify.com/v1/audio-features/?ids=47l2Dd3XPBLio3kjbEMyDJ:\n",
      " None, reason: None\n"
     ]
    },
    {
     "name": "stderr",
     "output_type": "stream",
     "text": [
      "HTTP Error for GET to https://api.spotify.com/v1/audio-features/?ids=2JDsi7S0UmtGoyVPTda0ao with Params: {} returned 403 due to None\n",
      "HTTP Error for GET to https://api.spotify.com/v1/audio-features/?ids=0rk2X5TAhraBC5aCIXK2Rq with Params: {} returned 403 due to None\n",
      "HTTP Error for GET to https://api.spotify.com/v1/audio-features/?ids=4kUvUCtoAdrYROXqof0leG with Params: {} returned 403 due to None\n",
      "HTTP Error for GET to https://api.spotify.com/v1/audio-features/?ids=15BmNnMZTnPTawkFaJv1JR with Params: {} returned 403 due to None\n"
     ]
    },
    {
     "name": "stdout",
     "output_type": "stream",
     "text": [
      "Error fetching features for track 2JDsi7S0UmtGoyVPTda0ao: http status: 403, code:-1 - https://api.spotify.com/v1/audio-features/?ids=2JDsi7S0UmtGoyVPTda0ao:\n",
      " None, reason: None\n",
      "Error fetching features for track 0rk2X5TAhraBC5aCIXK2Rq: http status: 403, code:-1 - https://api.spotify.com/v1/audio-features/?ids=0rk2X5TAhraBC5aCIXK2Rq:\n",
      " None, reason: None\n",
      "Error fetching features for track 4kUvUCtoAdrYROXqof0leG: http status: 403, code:-1 - https://api.spotify.com/v1/audio-features/?ids=4kUvUCtoAdrYROXqof0leG:\n",
      " None, reason: None\n",
      "Error fetching features for track 15BmNnMZTnPTawkFaJv1JR: http status: 403, code:-1 - https://api.spotify.com/v1/audio-features/?ids=15BmNnMZTnPTawkFaJv1JR:\n",
      " None, reason: None\n"
     ]
    },
    {
     "name": "stderr",
     "output_type": "stream",
     "text": [
      "HTTP Error for GET to https://api.spotify.com/v1/audio-features/?ids=4f5kLqyOJ5ZPnalEVMQrB2 with Params: {} returned 403 due to None\n",
      "HTTP Error for GET to https://api.spotify.com/v1/audio-features/?ids=4gqHEia13bp5EFWGitiKWx with Params: {} returned 403 due to None\n"
     ]
    },
    {
     "name": "stdout",
     "output_type": "stream",
     "text": [
      "Error fetching features for track 4f5kLqyOJ5ZPnalEVMQrB2: http status: 403, code:-1 - https://api.spotify.com/v1/audio-features/?ids=4f5kLqyOJ5ZPnalEVMQrB2:\n",
      " None, reason: None\n",
      "Error fetching features for track 4gqHEia13bp5EFWGitiKWx: http status: 403, code:-1 - https://api.spotify.com/v1/audio-features/?ids=4gqHEia13bp5EFWGitiKWx:\n",
      " None, reason: None\n"
     ]
    },
    {
     "name": "stderr",
     "output_type": "stream",
     "text": [
      "HTTP Error for GET to https://api.spotify.com/v1/audio-features/?ids=5G7pZ8G8NFvS1MQ9H4L7dC with Params: {} returned 403 due to None\n",
      "HTTP Error for GET to https://api.spotify.com/v1/audio-features/?ids=6alUOXeJ3T6vi8dkN8QSbi with Params: {} returned 403 due to None\n",
      "HTTP Error for GET to https://api.spotify.com/v1/audio-features/?ids=7Imk0IG6S5GA5iYWkjmMW5 with Params: {} returned 403 due to None\n",
      "HTTP Error for GET to https://api.spotify.com/v1/audio-features/?ids=7Bw56mGeOVbBBWBSLg356s with Params: {} returned 403 due to None\n"
     ]
    },
    {
     "name": "stdout",
     "output_type": "stream",
     "text": [
      "Error fetching features for track 5G7pZ8G8NFvS1MQ9H4L7dC: http status: 403, code:-1 - https://api.spotify.com/v1/audio-features/?ids=5G7pZ8G8NFvS1MQ9H4L7dC:\n",
      " None, reason: None\n",
      "Error fetching features for track 6alUOXeJ3T6vi8dkN8QSbi: http status: 403, code:-1 - https://api.spotify.com/v1/audio-features/?ids=6alUOXeJ3T6vi8dkN8QSbi:\n",
      " None, reason: None\n",
      "Error fetching features for track 7Imk0IG6S5GA5iYWkjmMW5: http status: 403, code:-1 - https://api.spotify.com/v1/audio-features/?ids=7Imk0IG6S5GA5iYWkjmMW5:\n",
      " None, reason: None\n",
      "Error fetching features for track 7Bw56mGeOVbBBWBSLg356s: http status: 403, code:-1 - https://api.spotify.com/v1/audio-features/?ids=7Bw56mGeOVbBBWBSLg356s:\n",
      " None, reason: None\n"
     ]
    },
    {
     "name": "stderr",
     "output_type": "stream",
     "text": [
      "HTTP Error for GET to https://api.spotify.com/v1/audio-features/?ids=7wqNKCHh87HfIOGNgfyRCk with Params: {} returned 403 due to None\n",
      "HTTP Error for GET to https://api.spotify.com/v1/audio-features/?ids=4v3CXViU9zDIPbuo2aw8lS with Params: {} returned 403 due to None\n",
      "HTTP Error for GET to https://api.spotify.com/v1/audio-features/?ids=4iEGv5Ne6HuCkFCjzxdWQK with Params: {} returned 403 due to None\n",
      "HTTP Error for GET to https://api.spotify.com/v1/audio-features/?ids=2yBxVCCJkfCuwhA0GR2VwA with Params: {} returned 403 due to None\n"
     ]
    },
    {
     "name": "stdout",
     "output_type": "stream",
     "text": [
      "Error fetching features for track 7wqNKCHh87HfIOGNgfyRCk: http status: 403, code:-1 - https://api.spotify.com/v1/audio-features/?ids=7wqNKCHh87HfIOGNgfyRCk:\n",
      " None, reason: None\n",
      "Error fetching features for track 4v3CXViU9zDIPbuo2aw8lS: http status: 403, code:-1 - https://api.spotify.com/v1/audio-features/?ids=4v3CXViU9zDIPbuo2aw8lS:\n",
      " None, reason: None\n",
      "Error fetching features for track 4iEGv5Ne6HuCkFCjzxdWQK: http status: 403, code:-1 - https://api.spotify.com/v1/audio-features/?ids=4iEGv5Ne6HuCkFCjzxdWQK:\n",
      " None, reason: None\n",
      "Error fetching features for track 2yBxVCCJkfCuwhA0GR2VwA: http status: 403, code:-1 - https://api.spotify.com/v1/audio-features/?ids=2yBxVCCJkfCuwhA0GR2VwA:\n",
      " None, reason: None\n"
     ]
    },
    {
     "name": "stderr",
     "output_type": "stream",
     "text": [
      "HTTP Error for GET to https://api.spotify.com/v1/audio-features/?ids=2MvCNH9ua0CeOgUQfZf56z with Params: {} returned 403 due to None\n",
      "HTTP Error for GET to https://api.spotify.com/v1/audio-features/?ids=4gNGi2Mr26me7wGKd8TQSF with Params: {} returned 403 due to None\n",
      "HTTP Error for GET to https://api.spotify.com/v1/audio-features/?ids=4E67g2Xp1eTpsF8HQwTbLL with Params: {} returned 403 due to None\n",
      "HTTP Error for GET to https://api.spotify.com/v1/audio-features/?ids=5dPiB4bS7wAzlP3FN7vh6e with Params: {} returned 403 due to None\n"
     ]
    },
    {
     "name": "stdout",
     "output_type": "stream",
     "text": [
      "Error fetching features for track 2MvCNH9ua0CeOgUQfZf56z: http status: 403, code:-1 - https://api.spotify.com/v1/audio-features/?ids=2MvCNH9ua0CeOgUQfZf56z:\n",
      " None, reason: None\n",
      "Error fetching features for track 4gNGi2Mr26me7wGKd8TQSF: http status: 403, code:-1 - https://api.spotify.com/v1/audio-features/?ids=4gNGi2Mr26me7wGKd8TQSF:\n",
      " None, reason: None\n",
      "Error fetching features for track 4E67g2Xp1eTpsF8HQwTbLL: http status: 403, code:-1 - https://api.spotify.com/v1/audio-features/?ids=4E67g2Xp1eTpsF8HQwTbLL:\n",
      " None, reason: None\n",
      "Error fetching features for track 5dPiB4bS7wAzlP3FN7vh6e: http status: 403, code:-1 - https://api.spotify.com/v1/audio-features/?ids=5dPiB4bS7wAzlP3FN7vh6e:\n",
      " None, reason: None\n"
     ]
    },
    {
     "name": "stderr",
     "output_type": "stream",
     "text": [
      "HTTP Error for GET to https://api.spotify.com/v1/audio-features/?ids=6D2ZnEZ92wUFTr38YXTCL5 with Params: {} returned 403 due to None\n",
      "HTTP Error for GET to https://api.spotify.com/v1/audio-features/?ids=5XfHmHJNxDl4Tsy29oLD7v with Params: {} returned 403 due to None\n",
      "HTTP Error for GET to https://api.spotify.com/v1/audio-features/?ids=3YUQ5J2KaU9GnsNTGutOlk with Params: {} returned 403 due to None\n"
     ]
    },
    {
     "name": "stdout",
     "output_type": "stream",
     "text": [
      "Error fetching features for track 6D2ZnEZ92wUFTr38YXTCL5: http status: 403, code:-1 - https://api.spotify.com/v1/audio-features/?ids=6D2ZnEZ92wUFTr38YXTCL5:\n",
      " None, reason: None\n",
      "Error fetching features for track 5XfHmHJNxDl4Tsy29oLD7v: http status: 403, code:-1 - https://api.spotify.com/v1/audio-features/?ids=5XfHmHJNxDl4Tsy29oLD7v:\n",
      " None, reason: None\n",
      "Error fetching features for track 3YUQ5J2KaU9GnsNTGutOlk: http status: 403, code:-1 - https://api.spotify.com/v1/audio-features/?ids=3YUQ5J2KaU9GnsNTGutOlk:\n",
      " None, reason: None\n"
     ]
    },
    {
     "name": "stderr",
     "output_type": "stream",
     "text": [
      "HTTP Error for GET to https://api.spotify.com/v1/audio-features/?ids=4sKISeqmcPixT0rim339VH with Params: {} returned 403 due to None\n",
      "HTTP Error for GET to https://api.spotify.com/v1/audio-features/?ids=2M4D33zjE5AJZj5NX0ocge with Params: {} returned 403 due to None\n",
      "HTTP Error for GET to https://api.spotify.com/v1/audio-features/?ids=5vGiuYFSGekGLgbxhV1rD5 with Params: {} returned 403 due to None\n"
     ]
    },
    {
     "name": "stdout",
     "output_type": "stream",
     "text": [
      "Processing batch 15 of 29\n",
      "Error fetching features for track 4sKISeqmcPixT0rim339VH: http status: 403, code:-1 - https://api.spotify.com/v1/audio-features/?ids=4sKISeqmcPixT0rim339VH:\n",
      " None, reason: None\n",
      "Error fetching features for track 2M4D33zjE5AJZj5NX0ocge: http status: 403, code:-1 - https://api.spotify.com/v1/audio-features/?ids=2M4D33zjE5AJZj5NX0ocge:\n",
      " None, reason: None\n",
      "Error fetching features for track 5vGiuYFSGekGLgbxhV1rD5: http status: 403, code:-1 - https://api.spotify.com/v1/audio-features/?ids=5vGiuYFSGekGLgbxhV1rD5:\n",
      " None, reason: None\n"
     ]
    },
    {
     "name": "stderr",
     "output_type": "stream",
     "text": [
      "HTTP Error for GET to https://api.spotify.com/v1/audio-features/?ids=4ApCig0GTR4IEp7Ijsyo3r with Params: {} returned 403 due to None\n",
      "HTTP Error for GET to https://api.spotify.com/v1/audio-features/?ids=2zDYPNUwclRPsRgsy8ziwI with Params: {} returned 403 due to None\n",
      "HTTP Error for GET to https://api.spotify.com/v1/audio-features/?ids=7yDHHVKLbvDmVw1XXhDDIO with Params: {} returned 403 due to None\n",
      "HTTP Error for GET to https://api.spotify.com/v1/audio-features/?ids=0YxKKO272sacGBJKjf6FnB with Params: {} returned 403 due to None\n"
     ]
    },
    {
     "name": "stdout",
     "output_type": "stream",
     "text": [
      "Error fetching features for track 4ApCig0GTR4IEp7Ijsyo3r: http status: 403, code:-1 - https://api.spotify.com/v1/audio-features/?ids=4ApCig0GTR4IEp7Ijsyo3r:\n",
      " None, reason: None\n",
      "Error fetching features for track 2zDYPNUwclRPsRgsy8ziwI: http status: 403, code:-1 - https://api.spotify.com/v1/audio-features/?ids=2zDYPNUwclRPsRgsy8ziwI:\n",
      " None, reason: None\n",
      "Error fetching features for track 7yDHHVKLbvDmVw1XXhDDIO: http status: 403, code:-1 - https://api.spotify.com/v1/audio-features/?ids=7yDHHVKLbvDmVw1XXhDDIO:\n",
      " None, reason: None\n",
      "Error fetching features for track 0YxKKO272sacGBJKjf6FnB: http status: 403, code:-1 - https://api.spotify.com/v1/audio-features/?ids=0YxKKO272sacGBJKjf6FnB:\n",
      " None, reason: None\n"
     ]
    },
    {
     "name": "stderr",
     "output_type": "stream",
     "text": [
      "HTTP Error for GET to https://api.spotify.com/v1/audio-features/?ids=5nHwX7e5XHnie22nuTFgda with Params: {} returned 403 due to None\n",
      "HTTP Error for GET to https://api.spotify.com/v1/audio-features/?ids=6ECucSdJeJmSm3k1k3Vumv with Params: {} returned 403 due to None\n",
      "HTTP Error for GET to https://api.spotify.com/v1/audio-features/?ids=1vBmaijoCBoqmwc3zs5n3s with Params: {} returned 403 due to None\n",
      "HTTP Error for GET to https://api.spotify.com/v1/audio-features/?ids=0dJacN6K3mSGLE9p7QE0lO with Params: {} returned 403 due to None\n"
     ]
    },
    {
     "name": "stdout",
     "output_type": "stream",
     "text": [
      "Error fetching features for track 5nHwX7e5XHnie22nuTFgda: http status: 403, code:-1 - https://api.spotify.com/v1/audio-features/?ids=5nHwX7e5XHnie22nuTFgda:\n",
      " None, reason: None\n",
      "Error fetching features for track 6ECucSdJeJmSm3k1k3Vumv: http status: 403, code:-1 - https://api.spotify.com/v1/audio-features/?ids=6ECucSdJeJmSm3k1k3Vumv:\n",
      " None, reason: None\n",
      "Error fetching features for track 1vBmaijoCBoqmwc3zs5n3s: http status: 403, code:-1 - https://api.spotify.com/v1/audio-features/?ids=1vBmaijoCBoqmwc3zs5n3s:\n",
      " None, reason: None\n",
      "Error fetching features for track 0dJacN6K3mSGLE9p7QE0lO: http status: 403, code:-1 - https://api.spotify.com/v1/audio-features/?ids=0dJacN6K3mSGLE9p7QE0lO:\n",
      " None, reason: None\n"
     ]
    },
    {
     "name": "stderr",
     "output_type": "stream",
     "text": [
      "HTTP Error for GET to https://api.spotify.com/v1/audio-features/?ids=3pIshEbdyNMF3hW1MnZB58 with Params: {} returned 403 due to None\n",
      "HTTP Error for GET to https://api.spotify.com/v1/audio-features/?ids=75HJYgb0KguhgWBjpx5iWH with Params: {} returned 403 due to None\n",
      "HTTP Error for GET to https://api.spotify.com/v1/audio-features/?ids=5T6yrJuKWnkCH2OlQsoO7z with Params: {} returned 403 due to None\n",
      "HTTP Error for GET to https://api.spotify.com/v1/audio-features/?ids=18gi2IxbZ3Ugom7wTRkohf with Params: {} returned 403 due to None\n"
     ]
    },
    {
     "name": "stdout",
     "output_type": "stream",
     "text": [
      "Error fetching features for track 3pIshEbdyNMF3hW1MnZB58: http status: 403, code:-1 - https://api.spotify.com/v1/audio-features/?ids=3pIshEbdyNMF3hW1MnZB58:\n",
      " None, reason: None\n",
      "Error fetching features for track 75HJYgb0KguhgWBjpx5iWH: http status: 403, code:-1 - https://api.spotify.com/v1/audio-features/?ids=75HJYgb0KguhgWBjpx5iWH:\n",
      " None, reason: None\n",
      "Error fetching features for track 5T6yrJuKWnkCH2OlQsoO7z: http status: 403, code:-1 - https://api.spotify.com/v1/audio-features/?ids=5T6yrJuKWnkCH2OlQsoO7z:\n",
      " None, reason: None\n",
      "Error fetching features for track 18gi2IxbZ3Ugom7wTRkohf: http status: 403, code:-1 - https://api.spotify.com/v1/audio-features/?ids=18gi2IxbZ3Ugom7wTRkohf:\n",
      " None, reason: None\n"
     ]
    },
    {
     "name": "stderr",
     "output_type": "stream",
     "text": [
      "HTTP Error for GET to https://api.spotify.com/v1/audio-features/?ids=5q6eZbatNFuToQdA7FGhj5 with Params: {} returned 403 due to None\n",
      "HTTP Error for GET to https://api.spotify.com/v1/audio-features/?ids=122FCMf052psls9894JYlf with Params: {} returned 403 due to None\n",
      "HTTP Error for GET to https://api.spotify.com/v1/audio-features/?ids=3FrY3M9izNqPZRWuBAqDFM with Params: {} returned 403 due to None\n",
      "HTTP Error for GET to https://api.spotify.com/v1/audio-features/?ids=43SKg10CCeaoyr7XSKfpTR with Params: {} returned 403 due to None\n"
     ]
    },
    {
     "name": "stdout",
     "output_type": "stream",
     "text": [
      "Error fetching features for track 5q6eZbatNFuToQdA7FGhj5: http status: 403, code:-1 - https://api.spotify.com/v1/audio-features/?ids=5q6eZbatNFuToQdA7FGhj5:\n",
      " None, reason: None\n",
      "Error fetching features for track 122FCMf052psls9894JYlf: http status: 403, code:-1 - https://api.spotify.com/v1/audio-features/?ids=122FCMf052psls9894JYlf:\n",
      " None, reason: None\n",
      "Error fetching features for track 3FrY3M9izNqPZRWuBAqDFM: http status: 403, code:-1 - https://api.spotify.com/v1/audio-features/?ids=3FrY3M9izNqPZRWuBAqDFM:\n",
      " None, reason: None\n",
      "Error fetching features for track 43SKg10CCeaoyr7XSKfpTR: http status: 403, code:-1 - https://api.spotify.com/v1/audio-features/?ids=43SKg10CCeaoyr7XSKfpTR:\n",
      " None, reason: None\n"
     ]
    },
    {
     "name": "stderr",
     "output_type": "stream",
     "text": [
      "HTTP Error for GET to https://api.spotify.com/v1/audio-features/?ids=2PaAG9RNH3HKL57LKc3GJI with Params: {} returned 403 due to None\n",
      "HTTP Error for GET to https://api.spotify.com/v1/audio-features/?ids=55AA2a2iVKHHbxHaJIjq3A with Params: {} returned 403 due to None\n",
      "HTTP Error for GET to https://api.spotify.com/v1/audio-features/?ids=5zKRKQwLVBT1WDJE7XJrnm with Params: {} returned 403 due to None\n",
      "HTTP Error for GET to https://api.spotify.com/v1/audio-features/?ids=3VkPeb5ZIGkGkb9Uhvo0Ba with Params: {} returned 403 due to None\n"
     ]
    },
    {
     "name": "stdout",
     "output_type": "stream",
     "text": [
      "Error fetching features for track 2PaAG9RNH3HKL57LKc3GJI: http status: 403, code:-1 - https://api.spotify.com/v1/audio-features/?ids=2PaAG9RNH3HKL57LKc3GJI:\n",
      " None, reason: None\n",
      "Error fetching features for track 55AA2a2iVKHHbxHaJIjq3A: http status: 403, code:-1 - https://api.spotify.com/v1/audio-features/?ids=55AA2a2iVKHHbxHaJIjq3A:\n",
      " None, reason: None\n",
      "Error fetching features for track 5zKRKQwLVBT1WDJE7XJrnm: http status: 403, code:-1 - https://api.spotify.com/v1/audio-features/?ids=5zKRKQwLVBT1WDJE7XJrnm:\n",
      " None, reason: None\n",
      "Error fetching features for track 3VkPeb5ZIGkGkb9Uhvo0Ba: http status: 403, code:-1 - https://api.spotify.com/v1/audio-features/?ids=3VkPeb5ZIGkGkb9Uhvo0Ba:\n",
      " None, reason: None\n"
     ]
    },
    {
     "name": "stderr",
     "output_type": "stream",
     "text": [
      "HTTP Error for GET to https://api.spotify.com/v1/audio-features/?ids=3VkPeb5ZIGkGkb9Uhvo0Ba with Params: {} returned 403 due to None\n",
      "HTTP Error for GET to https://api.spotify.com/v1/audio-features/?ids=5BGnQWWgXLfuVdu0XTwMfb with Params: {} returned 403 due to None\n",
      "HTTP Error for GET to https://api.spotify.com/v1/audio-features/?ids=5BGnQWWgXLfuVdu0XTwMfb with Params: {} returned 403 due to None\n",
      "HTTP Error for GET to https://api.spotify.com/v1/audio-features/?ids=2yBxVCCJkfCuwhA0GR2VwA with Params: {} returned 403 due to None\n"
     ]
    },
    {
     "name": "stdout",
     "output_type": "stream",
     "text": [
      "Error fetching features for track 3VkPeb5ZIGkGkb9Uhvo0Ba: http status: 403, code:-1 - https://api.spotify.com/v1/audio-features/?ids=3VkPeb5ZIGkGkb9Uhvo0Ba:\n",
      " None, reason: None\n",
      "Error fetching features for track 5BGnQWWgXLfuVdu0XTwMfb: http status: 403, code:-1 - https://api.spotify.com/v1/audio-features/?ids=5BGnQWWgXLfuVdu0XTwMfb:\n",
      " None, reason: None\n",
      "Error fetching features for track 5BGnQWWgXLfuVdu0XTwMfb: http status: 403, code:-1 - https://api.spotify.com/v1/audio-features/?ids=5BGnQWWgXLfuVdu0XTwMfb:\n",
      " None, reason: None\n",
      "Error fetching features for track 2yBxVCCJkfCuwhA0GR2VwA: http status: 403, code:-1 - https://api.spotify.com/v1/audio-features/?ids=2yBxVCCJkfCuwhA0GR2VwA:\n",
      " None, reason: None\n"
     ]
    },
    {
     "name": "stderr",
     "output_type": "stream",
     "text": [
      "HTTP Error for GET to https://api.spotify.com/v1/audio-features/?ids=2yBxVCCJkfCuwhA0GR2VwA with Params: {} returned 403 due to None\n",
      "HTTP Error for GET to https://api.spotify.com/v1/audio-features/?ids=4r8JqkhpTb5tzSKKHnVJIJ with Params: {} returned 403 due to None\n",
      "HTTP Error for GET to https://api.spotify.com/v1/audio-features/?ids=4r8JqkhpTb5tzSKKHnVJIJ with Params: {} returned 403 due to None\n",
      "HTTP Error for GET to https://api.spotify.com/v1/audio-features/?ids=4iEGv5Ne6HuCkFCjzxdWQK with Params: {} returned 403 due to None\n"
     ]
    },
    {
     "name": "stdout",
     "output_type": "stream",
     "text": [
      "Error fetching features for track 2yBxVCCJkfCuwhA0GR2VwA: http status: 403, code:-1 - https://api.spotify.com/v1/audio-features/?ids=2yBxVCCJkfCuwhA0GR2VwA:\n",
      " None, reason: None\n",
      "Error fetching features for track 4r8JqkhpTb5tzSKKHnVJIJ: http status: 403, code:-1 - https://api.spotify.com/v1/audio-features/?ids=4r8JqkhpTb5tzSKKHnVJIJ:\n",
      " None, reason: None\n",
      "Error fetching features for track 4r8JqkhpTb5tzSKKHnVJIJ: http status: 403, code:-1 - https://api.spotify.com/v1/audio-features/?ids=4r8JqkhpTb5tzSKKHnVJIJ:\n",
      " None, reason: None\n",
      "Error fetching features for track 4iEGv5Ne6HuCkFCjzxdWQK: http status: 403, code:-1 - https://api.spotify.com/v1/audio-features/?ids=4iEGv5Ne6HuCkFCjzxdWQK:\n",
      " None, reason: None\n"
     ]
    },
    {
     "name": "stderr",
     "output_type": "stream",
     "text": [
      "HTTP Error for GET to https://api.spotify.com/v1/audio-features/?ids=5Rn1DPzSzUktbhuNDDJocS with Params: {} returned 403 due to None\n",
      "HTTP Error for GET to https://api.spotify.com/v1/audio-features/?ids=4hLShJ4RCa2KhqVHD7MRDn with Params: {} returned 403 due to None\n",
      "HTTP Error for GET to https://api.spotify.com/v1/audio-features/?ids=1UHVj0W8BRn08AXvWcv8i6 with Params: {} returned 403 due to None\n",
      "HTTP Error for GET to https://api.spotify.com/v1/audio-features/?ids=1sZFDDmmBVkcHOpV6AB0Nx with Params: {} returned 403 due to None\n"
     ]
    },
    {
     "name": "stdout",
     "output_type": "stream",
     "text": [
      "Error fetching features for track 5Rn1DPzSzUktbhuNDDJocS: http status: 403, code:-1 - https://api.spotify.com/v1/audio-features/?ids=5Rn1DPzSzUktbhuNDDJocS:\n",
      " None, reason: None\n",
      "Error fetching features for track 4hLShJ4RCa2KhqVHD7MRDn: http status: 403, code:-1 - https://api.spotify.com/v1/audio-features/?ids=4hLShJ4RCa2KhqVHD7MRDn:\n",
      " None, reason: None\n",
      "Error fetching features for track 1UHVj0W8BRn08AXvWcv8i6: http status: 403, code:-1 - https://api.spotify.com/v1/audio-features/?ids=1UHVj0W8BRn08AXvWcv8i6:\n",
      " None, reason: None\n",
      "Error fetching features for track 1sZFDDmmBVkcHOpV6AB0Nx: http status: 403, code:-1 - https://api.spotify.com/v1/audio-features/?ids=1sZFDDmmBVkcHOpV6AB0Nx:\n",
      " None, reason: None\n"
     ]
    },
    {
     "name": "stderr",
     "output_type": "stream",
     "text": [
      "HTTP Error for GET to https://api.spotify.com/v1/audio-features/?ids=23gpA0ZDwhkizbU0NMyMsW with Params: {} returned 403 due to None\n",
      "HTTP Error for GET to https://api.spotify.com/v1/audio-features/?ids=0dJacN6K3mSGLE9p7QE0lO with Params: {} returned 403 due to None\n",
      "HTTP Error for GET to https://api.spotify.com/v1/audio-features/?ids=2yBxVCCJkfCuwhA0GR2VwA with Params: {} returned 403 due to None\n"
     ]
    },
    {
     "name": "stdout",
     "output_type": "stream",
     "text": [
      "Error fetching features for track 23gpA0ZDwhkizbU0NMyMsW: http status: 403, code:-1 - https://api.spotify.com/v1/audio-features/?ids=23gpA0ZDwhkizbU0NMyMsW:\n",
      " None, reason: None\n",
      "Error fetching features for track 0dJacN6K3mSGLE9p7QE0lO: http status: 403, code:-1 - https://api.spotify.com/v1/audio-features/?ids=0dJacN6K3mSGLE9p7QE0lO:\n",
      " None, reason: None\n",
      "Error fetching features for track 2yBxVCCJkfCuwhA0GR2VwA: http status: 403, code:-1 - https://api.spotify.com/v1/audio-features/?ids=2yBxVCCJkfCuwhA0GR2VwA:\n",
      " None, reason: None\n"
     ]
    },
    {
     "name": "stderr",
     "output_type": "stream",
     "text": [
      "HTTP Error for GET to https://api.spotify.com/v1/audio-features/?ids=5Cdd8p9sxRczQX6GFC8CdH with Params: {} returned 403 due to None\n",
      "HTTP Error for GET to https://api.spotify.com/v1/audio-features/?ids=18gi2IxbZ3Ugom7wTRkohf with Params: {} returned 403 due to None\n",
      "HTTP Error for GET to https://api.spotify.com/v1/audio-features/?ids=0snQrp1VaY5Pj1YIHRJpRJ with Params: {} returned 403 due to None\n"
     ]
    },
    {
     "name": "stdout",
     "output_type": "stream",
     "text": [
      "Error fetching features for track 5Cdd8p9sxRczQX6GFC8CdH: http status: 403, code:-1 - https://api.spotify.com/v1/audio-features/?ids=5Cdd8p9sxRczQX6GFC8CdH:\n",
      " None, reason: None\n",
      "Error fetching features for track 18gi2IxbZ3Ugom7wTRkohf: http status: 403, code:-1 - https://api.spotify.com/v1/audio-features/?ids=18gi2IxbZ3Ugom7wTRkohf:\n",
      " None, reason: None\n",
      "Error fetching features for track 0snQrp1VaY5Pj1YIHRJpRJ: http status: 403, code:-1 - https://api.spotify.com/v1/audio-features/?ids=0snQrp1VaY5Pj1YIHRJpRJ:\n",
      " None, reason: None\n"
     ]
    },
    {
     "name": "stderr",
     "output_type": "stream",
     "text": [
      "HTTP Error for GET to https://api.spotify.com/v1/audio-features/?ids=0dJacN6K3mSGLE9p7QE0lO with Params: {} returned 403 due to None\n",
      "HTTP Error for GET to https://api.spotify.com/v1/audio-features/?ids=3Kl8p2PxVf8eAayLwTxOIm with Params: {} returned 403 due to None\n",
      "HTTP Error for GET to https://api.spotify.com/v1/audio-features/?ids=3APdIdF8H0jsxSuGOqXedS with Params: {} returned 403 due to None\n",
      "HTTP Error for GET to https://api.spotify.com/v1/audio-features/?ids=3Zh2ngO9easf9Nj868G6a9 with Params: {} returned 403 due to None\n"
     ]
    },
    {
     "name": "stdout",
     "output_type": "stream",
     "text": [
      "Error fetching features for track 0dJacN6K3mSGLE9p7QE0lO: http status: 403, code:-1 - https://api.spotify.com/v1/audio-features/?ids=0dJacN6K3mSGLE9p7QE0lO:\n",
      " None, reason: None\n",
      "Error fetching features for track 3Kl8p2PxVf8eAayLwTxOIm: http status: 403, code:-1 - https://api.spotify.com/v1/audio-features/?ids=3Kl8p2PxVf8eAayLwTxOIm:\n",
      " None, reason: None\n",
      "Error fetching features for track 3APdIdF8H0jsxSuGOqXedS: http status: 403, code:-1 - https://api.spotify.com/v1/audio-features/?ids=3APdIdF8H0jsxSuGOqXedS:\n",
      " None, reason: None\n",
      "Error fetching features for track 3Zh2ngO9easf9Nj868G6a9: http status: 403, code:-1 - https://api.spotify.com/v1/audio-features/?ids=3Zh2ngO9easf9Nj868G6a9:\n",
      " None, reason: None\n"
     ]
    },
    {
     "name": "stderr",
     "output_type": "stream",
     "text": [
      "HTTP Error for GET to https://api.spotify.com/v1/audio-features/?ids=18gi2IxbZ3Ugom7wTRkohf with Params: {} returned 403 due to None\n",
      "HTTP Error for GET to https://api.spotify.com/v1/audio-features/?ids=29YePgOxuPLfU7uZKxKf6w with Params: {} returned 403 due to None\n",
      "HTTP Error for GET to https://api.spotify.com/v1/audio-features/?ids=4O5ERhWIhAnBelhNDHcSlA with Params: {} returned 403 due to None\n",
      "HTTP Error for GET to https://api.spotify.com/v1/audio-features/?ids=30IOhjcKbULQUt66nYkUvW with Params: {} returned 403 due to None\n"
     ]
    },
    {
     "name": "stdout",
     "output_type": "stream",
     "text": [
      "Error fetching features for track 18gi2IxbZ3Ugom7wTRkohf: http status: 403, code:-1 - https://api.spotify.com/v1/audio-features/?ids=18gi2IxbZ3Ugom7wTRkohf:\n",
      " None, reason: None\n",
      "Error fetching features for track 29YePgOxuPLfU7uZKxKf6w: http status: 403, code:-1 - https://api.spotify.com/v1/audio-features/?ids=29YePgOxuPLfU7uZKxKf6w:\n",
      " None, reason: None\n",
      "Error fetching features for track 4O5ERhWIhAnBelhNDHcSlA: http status: 403, code:-1 - https://api.spotify.com/v1/audio-features/?ids=4O5ERhWIhAnBelhNDHcSlA:\n",
      " None, reason: None\n",
      "Error fetching features for track 30IOhjcKbULQUt66nYkUvW: http status: 403, code:-1 - https://api.spotify.com/v1/audio-features/?ids=30IOhjcKbULQUt66nYkUvW:\n",
      " None, reason: None\n"
     ]
    },
    {
     "name": "stderr",
     "output_type": "stream",
     "text": [
      "HTTP Error for GET to https://api.spotify.com/v1/audio-features/?ids=0d54B7VI12WOMK8AoIWllf with Params: {} returned 403 due to None\n"
     ]
    },
    {
     "name": "stdout",
     "output_type": "stream",
     "text": [
      "Error fetching features for track 0d54B7VI12WOMK8AoIWllf: http status: 403, code:-1 - https://api.spotify.com/v1/audio-features/?ids=0d54B7VI12WOMK8AoIWllf:\n",
      " None, reason: None\n"
     ]
    },
    {
     "name": "stderr",
     "output_type": "stream",
     "text": [
      "HTTP Error for GET to https://api.spotify.com/v1/audio-features/?ids=14uXhHNINQqjl2hngD21s9 with Params: {} returned 403 due to None\n",
      "HTTP Error for GET to https://api.spotify.com/v1/audio-features/?ids=0GVPRo9LEjxjT4C4o8BGot with Params: {} returned 403 due to None\n",
      "HTTP Error for GET to https://api.spotify.com/v1/audio-features/?ids=2RgvvnMwtP0R2OkVZmFvnV with Params: {} returned 403 due to None\n"
     ]
    },
    {
     "name": "stdout",
     "output_type": "stream",
     "text": [
      "Processing batch 16 of 29\n",
      "Error fetching features for track 14uXhHNINQqjl2hngD21s9: http status: 403, code:-1 - https://api.spotify.com/v1/audio-features/?ids=14uXhHNINQqjl2hngD21s9:\n",
      " None, reason: None\n",
      "Error fetching features for track 0GVPRo9LEjxjT4C4o8BGot: http status: 403, code:-1 - https://api.spotify.com/v1/audio-features/?ids=0GVPRo9LEjxjT4C4o8BGot:\n",
      " None, reason: None\n",
      "Error fetching features for track 2RgvvnMwtP0R2OkVZmFvnV: http status: 403, code:-1 - https://api.spotify.com/v1/audio-features/?ids=2RgvvnMwtP0R2OkVZmFvnV:\n",
      " None, reason: None\n"
     ]
    },
    {
     "name": "stderr",
     "output_type": "stream",
     "text": [
      "HTTP Error for GET to https://api.spotify.com/v1/audio-features/?ids=1vBmaijoCBoqmwc3zs5n3s with Params: {} returned 403 due to None\n",
      "HTTP Error for GET to https://api.spotify.com/v1/audio-features/?ids=0bmp0lE3ArELHqda9PBMVG with Params: {} returned 403 due to None\n",
      "HTTP Error for GET to https://api.spotify.com/v1/audio-features/?ids=29kwMwn3NpHxNGHFAIT7yo with Params: {} returned 403 due to None\n",
      "HTTP Error for GET to https://api.spotify.com/v1/audio-features/?ids=3yV2c3cYhkAwSsxAq6nRiv with Params: {} returned 403 due to None\n"
     ]
    },
    {
     "name": "stdout",
     "output_type": "stream",
     "text": [
      "Error fetching features for track 1vBmaijoCBoqmwc3zs5n3s: http status: 403, code:-1 - https://api.spotify.com/v1/audio-features/?ids=1vBmaijoCBoqmwc3zs5n3s:\n",
      " None, reason: None\n",
      "Error fetching features for track 0bmp0lE3ArELHqda9PBMVG: http status: 403, code:-1 - https://api.spotify.com/v1/audio-features/?ids=0bmp0lE3ArELHqda9PBMVG:\n",
      " None, reason: None\n",
      "Error fetching features for track 29kwMwn3NpHxNGHFAIT7yo: http status: 403, code:-1 - https://api.spotify.com/v1/audio-features/?ids=29kwMwn3NpHxNGHFAIT7yo:\n",
      " None, reason: None\n",
      "Error fetching features for track 3yV2c3cYhkAwSsxAq6nRiv: http status: 403, code:-1 - https://api.spotify.com/v1/audio-features/?ids=3yV2c3cYhkAwSsxAq6nRiv:\n",
      " None, reason: None\n"
     ]
    },
    {
     "name": "stderr",
     "output_type": "stream",
     "text": [
      "HTTP Error for GET to https://api.spotify.com/v1/audio-features/?ids=0LtuveFgRP4lkksywmCtxV with Params: {} returned 403 due to None\n",
      "HTTP Error for GET to https://api.spotify.com/v1/audio-features/?ids=2GTasAZimpxzNgE7aXFifI with Params: {} returned 403 due to None\n"
     ]
    },
    {
     "name": "stdout",
     "output_type": "stream",
     "text": [
      "Error fetching features for track 0LtuveFgRP4lkksywmCtxV: http status: 403, code:-1 - https://api.spotify.com/v1/audio-features/?ids=0LtuveFgRP4lkksywmCtxV:\n",
      " None, reason: None\n",
      "Error fetching features for track 2GTasAZimpxzNgE7aXFifI: http status: 403, code:-1 - https://api.spotify.com/v1/audio-features/?ids=2GTasAZimpxzNgE7aXFifI:\n",
      " None, reason: None\n"
     ]
    },
    {
     "name": "stderr",
     "output_type": "stream",
     "text": [
      "HTTP Error for GET to https://api.spotify.com/v1/audio-features/?ids=7mSzDKajY2wUtstQSLdzMK with Params: {} returned 403 due to None\n",
      "HTTP Error for GET to https://api.spotify.com/v1/audio-features/?ids=4ApCig0GTR4IEp7Ijsyo3r with Params: {} returned 403 due to None\n",
      "HTTP Error for GET to https://api.spotify.com/v1/audio-features/?ids=1kcV2LJxt5v0s2cEGtEJ5i with Params: {} returned 403 due to None\n",
      "HTTP Error for GET to https://api.spotify.com/v1/audio-features/?ids=6fABlNfAOylt7ZxfX8K1XL with Params: {} returned 403 due to None\n"
     ]
    },
    {
     "name": "stdout",
     "output_type": "stream",
     "text": [
      "Error fetching features for track 7mSzDKajY2wUtstQSLdzMK: http status: 403, code:-1 - https://api.spotify.com/v1/audio-features/?ids=7mSzDKajY2wUtstQSLdzMK:\n",
      " None, reason: None\n",
      "Error fetching features for track 4ApCig0GTR4IEp7Ijsyo3r: http status: 403, code:-1 - https://api.spotify.com/v1/audio-features/?ids=4ApCig0GTR4IEp7Ijsyo3r:\n",
      " None, reason: None\n",
      "Error fetching features for track 1kcV2LJxt5v0s2cEGtEJ5i: http status: 403, code:-1 - https://api.spotify.com/v1/audio-features/?ids=1kcV2LJxt5v0s2cEGtEJ5i:\n",
      " None, reason: None\n",
      "Error fetching features for track 6fABlNfAOylt7ZxfX8K1XL: http status: 403, code:-1 - https://api.spotify.com/v1/audio-features/?ids=6fABlNfAOylt7ZxfX8K1XL:\n",
      " None, reason: None\n"
     ]
    },
    {
     "name": "stderr",
     "output_type": "stream",
     "text": [
      "HTTP Error for GET to https://api.spotify.com/v1/audio-features/?ids=3YUQ5J2KaU9GnsNTGutOlk with Params: {} returned 403 due to None\n"
     ]
    },
    {
     "name": "stdout",
     "output_type": "stream",
     "text": [
      "Error fetching features for track 3YUQ5J2KaU9GnsNTGutOlk: http status: 403, code:-1 - https://api.spotify.com/v1/audio-features/?ids=3YUQ5J2KaU9GnsNTGutOlk:\n",
      " None, reason: None\n"
     ]
    },
    {
     "name": "stderr",
     "output_type": "stream",
     "text": [
      "HTTP Error for GET to https://api.spotify.com/v1/audio-features/?ids=2tO0QPdCA0jgDBshTuYYkc with Params: {} returned 403 due to None\n",
      "HTTP Error for GET to https://api.spotify.com/v1/audio-features/?ids=6qMB7GsJd7L8sqEvQGWQl6 with Params: {} returned 403 due to None\n",
      "HTTP Error for GET to https://api.spotify.com/v1/audio-features/?ids=1ZpsPt7Ayxhd35QXHdLGEY with Params: {} returned 403 due to None\n",
      "HTTP Error for GET to https://api.spotify.com/v1/audio-features/?ids=3hCUkos0NxuSFl73oOHJzb with Params: {} returned 403 due to None\n"
     ]
    },
    {
     "name": "stdout",
     "output_type": "stream",
     "text": [
      "Error fetching features for track 2tO0QPdCA0jgDBshTuYYkc: http status: 403, code:-1 - https://api.spotify.com/v1/audio-features/?ids=2tO0QPdCA0jgDBshTuYYkc:\n",
      " None, reason: None\n",
      "Error fetching features for track 6qMB7GsJd7L8sqEvQGWQl6: http status: 403, code:-1 - https://api.spotify.com/v1/audio-features/?ids=6qMB7GsJd7L8sqEvQGWQl6:\n",
      " None, reason: None\n",
      "Error fetching features for track 1ZpsPt7Ayxhd35QXHdLGEY: http status: 403, code:-1 - https://api.spotify.com/v1/audio-features/?ids=1ZpsPt7Ayxhd35QXHdLGEY:\n",
      " None, reason: None\n",
      "Error fetching features for track 3hCUkos0NxuSFl73oOHJzb: http status: 403, code:-1 - https://api.spotify.com/v1/audio-features/?ids=3hCUkos0NxuSFl73oOHJzb:\n",
      " None, reason: None\n"
     ]
    },
    {
     "name": "stderr",
     "output_type": "stream",
     "text": [
      "HTTP Error for GET to https://api.spotify.com/v1/audio-features/?ids=3At4t5vZ0lDuNWLBPEk6Ck with Params: {} returned 403 due to None\n",
      "HTTP Error for GET to https://api.spotify.com/v1/audio-features/?ids=6kzj1MWS5tFsoOZUz4c8Hc with Params: {} returned 403 due to None\n",
      "HTTP Error for GET to https://api.spotify.com/v1/audio-features/?ids=2bEECW5mtoD1Glxip0hpB5 with Params: {} returned 403 due to None\n",
      "HTTP Error for GET to https://api.spotify.com/v1/audio-features/?ids=5stDfeX6w6k3lGySCjG5Ht with Params: {} returned 403 due to None\n"
     ]
    },
    {
     "name": "stdout",
     "output_type": "stream",
     "text": [
      "Error fetching features for track 3At4t5vZ0lDuNWLBPEk6Ck: http status: 403, code:-1 - https://api.spotify.com/v1/audio-features/?ids=3At4t5vZ0lDuNWLBPEk6Ck:\n",
      " None, reason: None\n",
      "Error fetching features for track 6kzj1MWS5tFsoOZUz4c8Hc: http status: 403, code:-1 - https://api.spotify.com/v1/audio-features/?ids=6kzj1MWS5tFsoOZUz4c8Hc:\n",
      " None, reason: None\n",
      "Error fetching features for track 2bEECW5mtoD1Glxip0hpB5: http status: 403, code:-1 - https://api.spotify.com/v1/audio-features/?ids=2bEECW5mtoD1Glxip0hpB5:\n",
      " None, reason: None\n",
      "Error fetching features for track 5stDfeX6w6k3lGySCjG5Ht: http status: 403, code:-1 - https://api.spotify.com/v1/audio-features/?ids=5stDfeX6w6k3lGySCjG5Ht:\n",
      " None, reason: None\n"
     ]
    },
    {
     "name": "stderr",
     "output_type": "stream",
     "text": [
      "HTTP Error for GET to https://api.spotify.com/v1/audio-features/?ids=69u6HoqhzzdUrWuYeDP6Go with Params: {} returned 403 due to None\n",
      "HTTP Error for GET to https://api.spotify.com/v1/audio-features/?ids=4QLwmCTHxaLLLJoOFfz4f8 with Params: {} returned 403 due to None\n",
      "HTTP Error for GET to https://api.spotify.com/v1/audio-features/?ids=5Rn1DPzSzUktbhuNDDJocS with Params: {} returned 403 due to None\n",
      "HTTP Error for GET to https://api.spotify.com/v1/audio-features/?ids=5Rn1DPzSzUktbhuNDDJocS with Params: {} returned 403 due to None\n"
     ]
    },
    {
     "name": "stdout",
     "output_type": "stream",
     "text": [
      "Error fetching features for track 69u6HoqhzzdUrWuYeDP6Go: http status: 403, code:-1 - https://api.spotify.com/v1/audio-features/?ids=69u6HoqhzzdUrWuYeDP6Go:\n",
      " None, reason: None\n",
      "Error fetching features for track 4QLwmCTHxaLLLJoOFfz4f8: http status: 403, code:-1 - https://api.spotify.com/v1/audio-features/?ids=4QLwmCTHxaLLLJoOFfz4f8:\n",
      " None, reason: None\n",
      "Error fetching features for track 5Rn1DPzSzUktbhuNDDJocS: http status: 403, code:-1 - https://api.spotify.com/v1/audio-features/?ids=5Rn1DPzSzUktbhuNDDJocS:\n",
      " None, reason: None\n",
      "Error fetching features for track 5Rn1DPzSzUktbhuNDDJocS: http status: 403, code:-1 - https://api.spotify.com/v1/audio-features/?ids=5Rn1DPzSzUktbhuNDDJocS:\n",
      " None, reason: None\n"
     ]
    },
    {
     "name": "stderr",
     "output_type": "stream",
     "text": [
      "HTTP Error for GET to https://api.spotify.com/v1/audio-features/?ids=7H3mfOvtPNA8YDF3EdKy0L with Params: {} returned 403 due to None\n",
      "HTTP Error for GET to https://api.spotify.com/v1/audio-features/?ids=3vYk2VXjV8WFqadqzp1gtF with Params: {} returned 403 due to None\n",
      "HTTP Error for GET to https://api.spotify.com/v1/audio-features/?ids=6fABlNfAOylt7ZxfX8K1XL with Params: {} returned 403 due to None\n",
      "HTTP Error for GET to https://api.spotify.com/v1/audio-features/?ids=6NPkq2zm37C2QK8KFFCIfS with Params: {} returned 403 due to None\n"
     ]
    },
    {
     "name": "stdout",
     "output_type": "stream",
     "text": [
      "Error fetching features for track 7H3mfOvtPNA8YDF3EdKy0L: http status: 403, code:-1 - https://api.spotify.com/v1/audio-features/?ids=7H3mfOvtPNA8YDF3EdKy0L:\n",
      " None, reason: None\n",
      "Error fetching features for track 3vYk2VXjV8WFqadqzp1gtF: http status: 403, code:-1 - https://api.spotify.com/v1/audio-features/?ids=3vYk2VXjV8WFqadqzp1gtF:\n",
      " None, reason: None\n",
      "Error fetching features for track 6fABlNfAOylt7ZxfX8K1XL: http status: 403, code:-1 - https://api.spotify.com/v1/audio-features/?ids=6fABlNfAOylt7ZxfX8K1XL:\n",
      " None, reason: None\n",
      "Error fetching features for track 6NPkq2zm37C2QK8KFFCIfS: http status: 403, code:-1 - https://api.spotify.com/v1/audio-features/?ids=6NPkq2zm37C2QK8KFFCIfS:\n",
      " None, reason: None\n"
     ]
    },
    {
     "name": "stderr",
     "output_type": "stream",
     "text": [
      "HTTP Error for GET to https://api.spotify.com/v1/audio-features/?ids=7gl8XJ8EmiObfSFppTATt6 with Params: {} returned 403 due to None\n",
      "HTTP Error for GET to https://api.spotify.com/v1/audio-features/?ids=62kyw2ux2p0CZ7pKWtM6QO with Params: {} returned 403 due to None\n",
      "HTTP Error for GET to https://api.spotify.com/v1/audio-features/?ids=0G4CQZIR5myNS3kAU13o7v with Params: {} returned 403 due to None\n",
      "HTTP Error for GET to https://api.spotify.com/v1/audio-features/?ids=6qNyL8lZuqFmy9ginJRQOZ with Params: {} returned 403 due to None\n"
     ]
    },
    {
     "name": "stdout",
     "output_type": "stream",
     "text": [
      "Error fetching features for track 7gl8XJ8EmiObfSFppTATt6: http status: 403, code:-1 - https://api.spotify.com/v1/audio-features/?ids=7gl8XJ8EmiObfSFppTATt6:\n",
      " None, reason: None\n",
      "Error fetching features for track 62kyw2ux2p0CZ7pKWtM6QO: http status: 403, code:-1 - https://api.spotify.com/v1/audio-features/?ids=62kyw2ux2p0CZ7pKWtM6QO:\n",
      " None, reason: None\n",
      "Error fetching features for track 0G4CQZIR5myNS3kAU13o7v: http status: 403, code:-1 - https://api.spotify.com/v1/audio-features/?ids=0G4CQZIR5myNS3kAU13o7v:\n",
      " None, reason: None\n",
      "Error fetching features for track 6qNyL8lZuqFmy9ginJRQOZ: http status: 403, code:-1 - https://api.spotify.com/v1/audio-features/?ids=6qNyL8lZuqFmy9ginJRQOZ:\n",
      " None, reason: None\n"
     ]
    },
    {
     "name": "stderr",
     "output_type": "stream",
     "text": [
      "HTTP Error for GET to https://api.spotify.com/v1/audio-features/?ids=1qTh7hzjd361hjuzeaMFWK with Params: {} returned 403 due to None\n",
      "HTTP Error for GET to https://api.spotify.com/v1/audio-features/?ids=3FS3ItpUATpALLi90uvkde with Params: {} returned 403 due to None\n",
      "HTTP Error for GET to https://api.spotify.com/v1/audio-features/?ids=5Rn1DPzSzUktbhuNDDJocS with Params: {} returned 403 due to None\n",
      "HTTP Error for GET to https://api.spotify.com/v1/audio-features/?ids=7Imk0IG6S5GA5iYWkjmMW5 with Params: {} returned 403 due to None\n"
     ]
    },
    {
     "name": "stdout",
     "output_type": "stream",
     "text": [
      "Error fetching features for track 1qTh7hzjd361hjuzeaMFWK: http status: 403, code:-1 - https://api.spotify.com/v1/audio-features/?ids=1qTh7hzjd361hjuzeaMFWK:\n",
      " None, reason: None\n",
      "Error fetching features for track 3FS3ItpUATpALLi90uvkde: http status: 403, code:-1 - https://api.spotify.com/v1/audio-features/?ids=3FS3ItpUATpALLi90uvkde:\n",
      " None, reason: None\n",
      "Error fetching features for track 5Rn1DPzSzUktbhuNDDJocS: http status: 403, code:-1 - https://api.spotify.com/v1/audio-features/?ids=5Rn1DPzSzUktbhuNDDJocS:\n",
      " None, reason: None\n",
      "Error fetching features for track 7Imk0IG6S5GA5iYWkjmMW5: http status: 403, code:-1 - https://api.spotify.com/v1/audio-features/?ids=7Imk0IG6S5GA5iYWkjmMW5:\n",
      " None, reason: None\n"
     ]
    },
    {
     "name": "stderr",
     "output_type": "stream",
     "text": [
      "HTTP Error for GET to https://api.spotify.com/v1/audio-features/?ids=62kyw2ux2p0CZ7pKWtM6QO with Params: {} returned 403 due to None\n",
      "HTTP Error for GET to https://api.spotify.com/v1/audio-features/?ids=2RktkeigsgvhuRNQl0ioGS with Params: {} returned 403 due to None\n",
      "HTTP Error for GET to https://api.spotify.com/v1/audio-features/?ids=3bM0sCyyhglscs8EvsBZ36 with Params: {} returned 403 due to None\n",
      "HTTP Error for GET to https://api.spotify.com/v1/audio-features/?ids=1KPAtV3E11Y3pbnzUOtO0d with Params: {} returned 403 due to None\n"
     ]
    },
    {
     "name": "stdout",
     "output_type": "stream",
     "text": [
      "Error fetching features for track 62kyw2ux2p0CZ7pKWtM6QO: http status: 403, code:-1 - https://api.spotify.com/v1/audio-features/?ids=62kyw2ux2p0CZ7pKWtM6QO:\n",
      " None, reason: None\n",
      "Error fetching features for track 2RktkeigsgvhuRNQl0ioGS: http status: 403, code:-1 - https://api.spotify.com/v1/audio-features/?ids=2RktkeigsgvhuRNQl0ioGS:\n",
      " None, reason: None\n",
      "Error fetching features for track 3bM0sCyyhglscs8EvsBZ36: http status: 403, code:-1 - https://api.spotify.com/v1/audio-features/?ids=3bM0sCyyhglscs8EvsBZ36:\n",
      " None, reason: None\n",
      "Error fetching features for track 1KPAtV3E11Y3pbnzUOtO0d: http status: 403, code:-1 - https://api.spotify.com/v1/audio-features/?ids=1KPAtV3E11Y3pbnzUOtO0d:\n",
      " None, reason: None\n"
     ]
    },
    {
     "name": "stderr",
     "output_type": "stream",
     "text": [
      "HTTP Error for GET to https://api.spotify.com/v1/audio-features/?ids=1cmZbGkCEVVAck2MsWpPYQ with Params: {} returned 403 due to None\n",
      "HTTP Error for GET to https://api.spotify.com/v1/audio-features/?ids=4RCd3Gdtt3dNedof64hqRD with Params: {} returned 403 due to None\n",
      "HTTP Error for GET to https://api.spotify.com/v1/audio-features/?ids=1QufGJee7k9v4Cfp2NxXbv with Params: {} returned 403 due to None\n",
      "HTTP Error for GET to https://api.spotify.com/v1/audio-features/?ids=5b9x5sRIzAgXQw0dhGORO1 with Params: {} returned 403 due to None\n"
     ]
    },
    {
     "name": "stdout",
     "output_type": "stream",
     "text": [
      "Error fetching features for track 1cmZbGkCEVVAck2MsWpPYQ: http status: 403, code:-1 - https://api.spotify.com/v1/audio-features/?ids=1cmZbGkCEVVAck2MsWpPYQ:\n",
      " None, reason: None\n",
      "Error fetching features for track 4RCd3Gdtt3dNedof64hqRD: http status: 403, code:-1 - https://api.spotify.com/v1/audio-features/?ids=4RCd3Gdtt3dNedof64hqRD:\n",
      " None, reason: None\n",
      "Error fetching features for track 1QufGJee7k9v4Cfp2NxXbv: http status: 403, code:-1 - https://api.spotify.com/v1/audio-features/?ids=1QufGJee7k9v4Cfp2NxXbv:\n",
      " None, reason: None\n",
      "Error fetching features for track 5b9x5sRIzAgXQw0dhGORO1: http status: 403, code:-1 - https://api.spotify.com/v1/audio-features/?ids=5b9x5sRIzAgXQw0dhGORO1:\n",
      " None, reason: None\n"
     ]
    },
    {
     "name": "stderr",
     "output_type": "stream",
     "text": [
      "HTTP Error for GET to https://api.spotify.com/v1/audio-features/?ids=1cSgKCsIM5WCzlLgRkY0Ov with Params: {} returned 403 due to None\n",
      "HTTP Error for GET to https://api.spotify.com/v1/audio-features/?ids=4tyofCkaLLqvRmM84M6CB5 with Params: {} returned 403 due to None\n",
      "HTTP Error for GET to https://api.spotify.com/v1/audio-features/?ids=0Qo75eJMY72e5IQJt0Dz9z with Params: {} returned 403 due to None\n",
      "HTTP Error for GET to https://api.spotify.com/v1/audio-features/?ids=5iE056ZoYobQuzKRDHQwTt with Params: {} returned 403 due to None\n"
     ]
    },
    {
     "name": "stdout",
     "output_type": "stream",
     "text": [
      "Error fetching features for track 1cSgKCsIM5WCzlLgRkY0Ov: http status: 403, code:-1 - https://api.spotify.com/v1/audio-features/?ids=1cSgKCsIM5WCzlLgRkY0Ov:\n",
      " None, reason: None\n",
      "Error fetching features for track 4tyofCkaLLqvRmM84M6CB5: http status: 403, code:-1 - https://api.spotify.com/v1/audio-features/?ids=4tyofCkaLLqvRmM84M6CB5:\n",
      " None, reason: None\n",
      "Error fetching features for track 0Qo75eJMY72e5IQJt0Dz9z: http status: 403, code:-1 - https://api.spotify.com/v1/audio-features/?ids=0Qo75eJMY72e5IQJt0Dz9z:\n",
      " None, reason: None\n",
      "Error fetching features for track 5iE056ZoYobQuzKRDHQwTt: http status: 403, code:-1 - https://api.spotify.com/v1/audio-features/?ids=5iE056ZoYobQuzKRDHQwTt:\n",
      " None, reason: None\n"
     ]
    },
    {
     "name": "stderr",
     "output_type": "stream",
     "text": [
      "HTTP Error for GET to https://api.spotify.com/v1/audio-features/?ids=7FsbfCdgaITFyfA51iur79 with Params: {} returned 403 due to None\n",
      "HTTP Error for GET to https://api.spotify.com/v1/audio-features/?ids=6qNyL8lZuqFmy9ginJRQOZ with Params: {} returned 403 due to None\n",
      "HTTP Error for GET to https://api.spotify.com/v1/audio-features/?ids=3vYk2VXjV8WFqadqzp1gtF with Params: {} returned 403 due to None\n"
     ]
    },
    {
     "name": "stdout",
     "output_type": "stream",
     "text": [
      "Processing batch 17 of 29\n",
      "Error fetching features for track 7FsbfCdgaITFyfA51iur79: http status: 403, code:-1 - https://api.spotify.com/v1/audio-features/?ids=7FsbfCdgaITFyfA51iur79:\n",
      " None, reason: None\n",
      "Error fetching features for track 6qNyL8lZuqFmy9ginJRQOZ: http status: 403, code:-1 - https://api.spotify.com/v1/audio-features/?ids=6qNyL8lZuqFmy9ginJRQOZ:\n",
      " None, reason: None\n",
      "Error fetching features for track 3vYk2VXjV8WFqadqzp1gtF: http status: 403, code:-1 - https://api.spotify.com/v1/audio-features/?ids=3vYk2VXjV8WFqadqzp1gtF:\n",
      " None, reason: None\n"
     ]
    },
    {
     "name": "stderr",
     "output_type": "stream",
     "text": [
      "HTTP Error for GET to https://api.spotify.com/v1/audio-features/?ids=3FS3ItpUATpALLi90uvkde with Params: {} returned 403 due to None\n",
      "HTTP Error for GET to https://api.spotify.com/v1/audio-features/?ids=6D2ZnEZ92wUFTr38YXTCL5 with Params: {} returned 403 due to None\n",
      "HTTP Error for GET to https://api.spotify.com/v1/audio-features/?ids=2uaj8aT0FXxqbBarhLmRHv with Params: {} returned 403 due to None\n"
     ]
    },
    {
     "name": "stdout",
     "output_type": "stream",
     "text": [
      "Error fetching features for track 3FS3ItpUATpALLi90uvkde: http status: 403, code:-1 - https://api.spotify.com/v1/audio-features/?ids=3FS3ItpUATpALLi90uvkde:\n",
      " None, reason: None\n",
      "Error fetching features for track 6D2ZnEZ92wUFTr38YXTCL5: http status: 403, code:-1 - https://api.spotify.com/v1/audio-features/?ids=6D2ZnEZ92wUFTr38YXTCL5:\n",
      " None, reason: None\n",
      "Error fetching features for track 2uaj8aT0FXxqbBarhLmRHv: http status: 403, code:-1 - https://api.spotify.com/v1/audio-features/?ids=2uaj8aT0FXxqbBarhLmRHv:\n",
      " None, reason: None\n"
     ]
    },
    {
     "name": "stderr",
     "output_type": "stream",
     "text": [
      "HTTP Error for GET to https://api.spotify.com/v1/audio-features/?ids=2tO0QPdCA0jgDBshTuYYkc with Params: {} returned 403 due to None\n",
      "HTTP Error for GET to https://api.spotify.com/v1/audio-features/?ids=2tO0QPdCA0jgDBshTuYYkc with Params: {} returned 403 due to None\n",
      "HTTP Error for GET to https://api.spotify.com/v1/audio-features/?ids=2lALqW28yjkmb6LCBBUc7j with Params: {} returned 403 due to None\n"
     ]
    },
    {
     "name": "stdout",
     "output_type": "stream",
     "text": [
      "Error fetching features for track 2tO0QPdCA0jgDBshTuYYkc: http status: 403, code:-1 - https://api.spotify.com/v1/audio-features/?ids=2tO0QPdCA0jgDBshTuYYkc:\n",
      " None, reason: None\n",
      "Error fetching features for track 2tO0QPdCA0jgDBshTuYYkc: http status: 403, code:-1 - https://api.spotify.com/v1/audio-features/?ids=2tO0QPdCA0jgDBshTuYYkc:\n",
      " None, reason: None\n",
      "Error fetching features for track 2lALqW28yjkmb6LCBBUc7j: http status: 403, code:-1 - https://api.spotify.com/v1/audio-features/?ids=2lALqW28yjkmb6LCBBUc7j:\n",
      " None, reason: None\n"
     ]
    },
    {
     "name": "stderr",
     "output_type": "stream",
     "text": [
      "HTTP Error for GET to https://api.spotify.com/v1/audio-features/?ids=7Bw56mGeOVbBBWBSLg356s with Params: {} returned 403 due to None\n",
      "HTTP Error for GET to https://api.spotify.com/v1/audio-features/?ids=3G2I8KB7bTWmvE1tHSlMHg with Params: {} returned 403 due to None\n",
      "HTTP Error for GET to https://api.spotify.com/v1/audio-features/?ids=6TeQwZim9noPvf96kNwldZ with Params: {} returned 403 due to None\n",
      "HTTP Error for GET to https://api.spotify.com/v1/audio-features/?ids=37Z0JtMr9BBTpD1TPClCY3 with Params: {} returned 403 due to None\n"
     ]
    },
    {
     "name": "stdout",
     "output_type": "stream",
     "text": [
      "Error fetching features for track 7Bw56mGeOVbBBWBSLg356s: http status: 403, code:-1 - https://api.spotify.com/v1/audio-features/?ids=7Bw56mGeOVbBBWBSLg356s:\n",
      " None, reason: None\n",
      "Error fetching features for track 3G2I8KB7bTWmvE1tHSlMHg: http status: 403, code:-1 - https://api.spotify.com/v1/audio-features/?ids=3G2I8KB7bTWmvE1tHSlMHg:\n",
      " None, reason: None\n",
      "Error fetching features for track 6TeQwZim9noPvf96kNwldZ: http status: 403, code:-1 - https://api.spotify.com/v1/audio-features/?ids=6TeQwZim9noPvf96kNwldZ:\n",
      " None, reason: None\n",
      "Error fetching features for track 37Z0JtMr9BBTpD1TPClCY3: http status: 403, code:-1 - https://api.spotify.com/v1/audio-features/?ids=37Z0JtMr9BBTpD1TPClCY3:\n",
      " None, reason: None\n"
     ]
    },
    {
     "name": "stderr",
     "output_type": "stream",
     "text": [
      "HTTP Error for GET to https://api.spotify.com/v1/audio-features/?ids=2Z3UkfPcSdLlBTmysMp7it with Params: {} returned 403 due to None\n",
      "HTTP Error for GET to https://api.spotify.com/v1/audio-features/?ids=7Kfuk1S0nmjzRiAnezoC6j with Params: {} returned 403 due to None\n",
      "HTTP Error for GET to https://api.spotify.com/v1/audio-features/?ids=0UluPBpJgte925Wh1ExzfZ with Params: {} returned 403 due to None\n",
      "HTTP Error for GET to https://api.spotify.com/v1/audio-features/?ids=15BmNnMZTnPTawkFaJv1JR with Params: {} returned 403 due to None\n"
     ]
    },
    {
     "name": "stdout",
     "output_type": "stream",
     "text": [
      "Error fetching features for track 2Z3UkfPcSdLlBTmysMp7it: http status: 403, code:-1 - https://api.spotify.com/v1/audio-features/?ids=2Z3UkfPcSdLlBTmysMp7it:\n",
      " None, reason: None\n",
      "Error fetching features for track 7Kfuk1S0nmjzRiAnezoC6j: http status: 403, code:-1 - https://api.spotify.com/v1/audio-features/?ids=7Kfuk1S0nmjzRiAnezoC6j:\n",
      " None, reason: None\n",
      "Error fetching features for track 0UluPBpJgte925Wh1ExzfZ: http status: 403, code:-1 - https://api.spotify.com/v1/audio-features/?ids=0UluPBpJgte925Wh1ExzfZ:\n",
      " None, reason: None\n",
      "Error fetching features for track 15BmNnMZTnPTawkFaJv1JR: http status: 403, code:-1 - https://api.spotify.com/v1/audio-features/?ids=15BmNnMZTnPTawkFaJv1JR:\n",
      " None, reason: None\n"
     ]
    },
    {
     "name": "stderr",
     "output_type": "stream",
     "text": [
      "HTTP Error for GET to https://api.spotify.com/v1/audio-features/?ids=2OvldWM8rVnp7QCn9eCrr1 with Params: {} returned 403 due to None\n",
      "HTTP Error for GET to https://api.spotify.com/v1/audio-features/?ids=7p5uzwVPw0XJmtZSmrsQ8P with Params: {} returned 403 due to None\n",
      "HTTP Error for GET to https://api.spotify.com/v1/audio-features/?ids=6J31lR4ZqpRPAjOqzX5lCu with Params: {} returned 403 due to None\n",
      "HTTP Error for GET to https://api.spotify.com/v1/audio-features/?ids=2VJIaxgWeyw9loL1sqKl7c with Params: {} returned 403 due to None\n"
     ]
    },
    {
     "name": "stdout",
     "output_type": "stream",
     "text": [
      "Error fetching features for track 2OvldWM8rVnp7QCn9eCrr1: http status: 403, code:-1 - https://api.spotify.com/v1/audio-features/?ids=2OvldWM8rVnp7QCn9eCrr1:\n",
      " None, reason: None\n",
      "Error fetching features for track 7p5uzwVPw0XJmtZSmrsQ8P: http status: 403, code:-1 - https://api.spotify.com/v1/audio-features/?ids=7p5uzwVPw0XJmtZSmrsQ8P:\n",
      " None, reason: None\n",
      "Error fetching features for track 6J31lR4ZqpRPAjOqzX5lCu: http status: 403, code:-1 - https://api.spotify.com/v1/audio-features/?ids=6J31lR4ZqpRPAjOqzX5lCu:\n",
      " None, reason: None\n",
      "Error fetching features for track 2VJIaxgWeyw9loL1sqKl7c: http status: 403, code:-1 - https://api.spotify.com/v1/audio-features/?ids=2VJIaxgWeyw9loL1sqKl7c:\n",
      " None, reason: None\n"
     ]
    },
    {
     "name": "stderr",
     "output_type": "stream",
     "text": [
      "HTTP Error for GET to https://api.spotify.com/v1/audio-features/?ids=0EiZCuVOP3E9MobSidssSC with Params: {} returned 403 due to None\n",
      "HTTP Error for GET to https://api.spotify.com/v1/audio-features/?ids=0snQrp1VaY5Pj1YIHRJpRJ with Params: {} returned 403 due to None\n",
      "HTTP Error for GET to https://api.spotify.com/v1/audio-features/?ids=2uaj8aT0FXxqbBarhLmRHv with Params: {} returned 403 due to None\n",
      "HTTP Error for GET to https://api.spotify.com/v1/audio-features/?ids=2g3o6I7YuKFEUn9OOfuAfP with Params: {} returned 403 due to None\n"
     ]
    },
    {
     "name": "stdout",
     "output_type": "stream",
     "text": [
      "Error fetching features for track 0EiZCuVOP3E9MobSidssSC: http status: 403, code:-1 - https://api.spotify.com/v1/audio-features/?ids=0EiZCuVOP3E9MobSidssSC:\n",
      " None, reason: None\n",
      "Error fetching features for track 0snQrp1VaY5Pj1YIHRJpRJ: http status: 403, code:-1 - https://api.spotify.com/v1/audio-features/?ids=0snQrp1VaY5Pj1YIHRJpRJ:\n",
      " None, reason: None\n",
      "Error fetching features for track 2uaj8aT0FXxqbBarhLmRHv: http status: 403, code:-1 - https://api.spotify.com/v1/audio-features/?ids=2uaj8aT0FXxqbBarhLmRHv:\n",
      " None, reason: None\n",
      "Error fetching features for track 2g3o6I7YuKFEUn9OOfuAfP: http status: 403, code:-1 - https://api.spotify.com/v1/audio-features/?ids=2g3o6I7YuKFEUn9OOfuAfP:\n",
      " None, reason: None\n"
     ]
    },
    {
     "name": "stderr",
     "output_type": "stream",
     "text": [
      "HTTP Error for GET to https://api.spotify.com/v1/audio-features/?ids=7kz0NubU5M4k9kdARMBlFK with Params: {} returned 403 due to None\n",
      "HTTP Error for GET to https://api.spotify.com/v1/audio-features/?ids=0l6g8Z8mqGbGXFOjigYetD with Params: {} returned 403 due to None\n",
      "HTTP Error for GET to https://api.spotify.com/v1/audio-features/?ids=14uXhHNINQqjl2hngD21s9 with Params: {} returned 403 due to None\n"
     ]
    },
    {
     "name": "stdout",
     "output_type": "stream",
     "text": [
      "Error fetching features for track 7kz0NubU5M4k9kdARMBlFK: http status: 403, code:-1 - https://api.spotify.com/v1/audio-features/?ids=7kz0NubU5M4k9kdARMBlFK:\n",
      " None, reason: None\n",
      "Error fetching features for track 0l6g8Z8mqGbGXFOjigYetD: http status: 403, code:-1 - https://api.spotify.com/v1/audio-features/?ids=0l6g8Z8mqGbGXFOjigYetD:\n",
      " None, reason: None\n",
      "Error fetching features for track 14uXhHNINQqjl2hngD21s9: http status: 403, code:-1 - https://api.spotify.com/v1/audio-features/?ids=14uXhHNINQqjl2hngD21s9:\n",
      " None, reason: None\n"
     ]
    },
    {
     "name": "stderr",
     "output_type": "stream",
     "text": [
      "HTTP Error for GET to https://api.spotify.com/v1/audio-features/?ids=14uXhHNINQqjl2hngD21s9 with Params: {} returned 403 due to None\n",
      "HTTP Error for GET to https://api.spotify.com/v1/audio-features/?ids=4bD9z9qa4qg9BhryvYWB7c with Params: {} returned 403 due to None\n",
      "HTTP Error for GET to https://api.spotify.com/v1/audio-features/?ids=0dJacN6K3mSGLE9p7QE0lO with Params: {} returned 403 due to None\n",
      "HTTP Error for GET to https://api.spotify.com/v1/audio-features/?ids=5WncH5iZ5GFlnXm7jKEXVP with Params: {} returned 403 due to None\n"
     ]
    },
    {
     "name": "stdout",
     "output_type": "stream",
     "text": [
      "Error fetching features for track 14uXhHNINQqjl2hngD21s9: http status: 403, code:-1 - https://api.spotify.com/v1/audio-features/?ids=14uXhHNINQqjl2hngD21s9:\n",
      " None, reason: None\n",
      "Error fetching features for track 4bD9z9qa4qg9BhryvYWB7c: http status: 403, code:-1 - https://api.spotify.com/v1/audio-features/?ids=4bD9z9qa4qg9BhryvYWB7c:\n",
      " None, reason: None\n",
      "Error fetching features for track 0dJacN6K3mSGLE9p7QE0lO: http status: 403, code:-1 - https://api.spotify.com/v1/audio-features/?ids=0dJacN6K3mSGLE9p7QE0lO:\n",
      " None, reason: None\n",
      "Error fetching features for track 5WncH5iZ5GFlnXm7jKEXVP: http status: 403, code:-1 - https://api.spotify.com/v1/audio-features/?ids=5WncH5iZ5GFlnXm7jKEXVP:\n",
      " None, reason: None\n"
     ]
    },
    {
     "name": "stderr",
     "output_type": "stream",
     "text": [
      "HTTP Error for GET to https://api.spotify.com/v1/audio-features/?ids=02nOZG5WrxCHEYbjjxeZQf with Params: {} returned 403 due to None\n"
     ]
    },
    {
     "name": "stdout",
     "output_type": "stream",
     "text": [
      "Error fetching features for track 02nOZG5WrxCHEYbjjxeZQf: http status: 403, code:-1 - https://api.spotify.com/v1/audio-features/?ids=02nOZG5WrxCHEYbjjxeZQf:\n",
      " None, reason: None\n"
     ]
    },
    {
     "name": "stderr",
     "output_type": "stream",
     "text": [
      "HTTP Error for GET to https://api.spotify.com/v1/audio-features/?ids=2MvCNH9ua0CeOgUQfZf56z with Params: {} returned 403 due to None\n",
      "HTTP Error for GET to https://api.spotify.com/v1/audio-features/?ids=0prCd0oIexRBiok6kBOeLp with Params: {} returned 403 due to None\n"
     ]
    },
    {
     "name": "stdout",
     "output_type": "stream",
     "text": [
      "Error fetching features for track 2MvCNH9ua0CeOgUQfZf56z: http status: 403, code:-1 - https://api.spotify.com/v1/audio-features/?ids=2MvCNH9ua0CeOgUQfZf56z:\n",
      " None, reason: None\n",
      "Error fetching features for track 0prCd0oIexRBiok6kBOeLp: http status: 403, code:-1 - https://api.spotify.com/v1/audio-features/?ids=0prCd0oIexRBiok6kBOeLp:\n",
      " None, reason: None\n"
     ]
    },
    {
     "name": "stderr",
     "output_type": "stream",
     "text": [
      "HTTP Error for GET to https://api.spotify.com/v1/audio-features/?ids=02nOZG5WrxCHEYbjjxeZQf with Params: {} returned 403 due to None\n",
      "HTTP Error for GET to https://api.spotify.com/v1/audio-features/?ids=5Rn1DPzSzUktbhuNDDJocS with Params: {} returned 403 due to None\n",
      "HTTP Error for GET to https://api.spotify.com/v1/audio-features/?ids=7Gwuh1mKBa3SWD7w3giVP5 with Params: {} returned 403 due to None\n"
     ]
    },
    {
     "name": "stdout",
     "output_type": "stream",
     "text": [
      "Error fetching features for track 02nOZG5WrxCHEYbjjxeZQf: http status: 403, code:-1 - https://api.spotify.com/v1/audio-features/?ids=02nOZG5WrxCHEYbjjxeZQf:\n",
      " None, reason: None\n",
      "Error fetching features for track 5Rn1DPzSzUktbhuNDDJocS: http status: 403, code:-1 - https://api.spotify.com/v1/audio-features/?ids=5Rn1DPzSzUktbhuNDDJocS:\n",
      " None, reason: None\n",
      "Error fetching features for track 7Gwuh1mKBa3SWD7w3giVP5: http status: 403, code:-1 - https://api.spotify.com/v1/audio-features/?ids=7Gwuh1mKBa3SWD7w3giVP5:\n",
      " None, reason: None\n"
     ]
    },
    {
     "name": "stderr",
     "output_type": "stream",
     "text": [
      "HTTP Error for GET to https://api.spotify.com/v1/audio-features/?ids=5nHwX7e5XHnie22nuTFgda with Params: {} returned 403 due to None\n",
      "HTTP Error for GET to https://api.spotify.com/v1/audio-features/?ids=7s9wztg73itRMtmPrqRYrV with Params: {} returned 403 due to None\n",
      "HTTP Error for GET to https://api.spotify.com/v1/audio-features/?ids=5j2Iw1j167KuBj1iyM78xE with Params: {} returned 403 due to None\n",
      "HTTP Error for GET to https://api.spotify.com/v1/audio-features/?ids=4ulISxSlTF9LXHs9dir9Z1 with Params: {} returned 403 due to None\n"
     ]
    },
    {
     "name": "stdout",
     "output_type": "stream",
     "text": [
      "Error fetching features for track 5nHwX7e5XHnie22nuTFgda: http status: 403, code:-1 - https://api.spotify.com/v1/audio-features/?ids=5nHwX7e5XHnie22nuTFgda:\n",
      " None, reason: None\n",
      "Error fetching features for track 7s9wztg73itRMtmPrqRYrV: http status: 403, code:-1 - https://api.spotify.com/v1/audio-features/?ids=7s9wztg73itRMtmPrqRYrV:\n",
      " None, reason: None\n",
      "Error fetching features for track 5j2Iw1j167KuBj1iyM78xE: http status: 403, code:-1 - https://api.spotify.com/v1/audio-features/?ids=5j2Iw1j167KuBj1iyM78xE:\n",
      " None, reason: None\n",
      "Error fetching features for track 4ulISxSlTF9LXHs9dir9Z1: http status: 403, code:-1 - https://api.spotify.com/v1/audio-features/?ids=4ulISxSlTF9LXHs9dir9Z1:\n",
      " None, reason: None\n"
     ]
    },
    {
     "name": "stderr",
     "output_type": "stream",
     "text": [
      "HTTP Error for GET to https://api.spotify.com/v1/audio-features/?ids=4ulISxSlTF9LXHs9dir9Z1 with Params: {} returned 403 due to None\n",
      "HTTP Error for GET to https://api.spotify.com/v1/audio-features/?ids=1mYcukuz7uow0wc7DmPXHU with Params: {} returned 403 due to None\n",
      "HTTP Error for GET to https://api.spotify.com/v1/audio-features/?ids=2yBxVCCJkfCuwhA0GR2VwA with Params: {} returned 403 due to None\n"
     ]
    },
    {
     "name": "stdout",
     "output_type": "stream",
     "text": [
      "Error fetching features for track 4ulISxSlTF9LXHs9dir9Z1: http status: 403, code:-1 - https://api.spotify.com/v1/audio-features/?ids=4ulISxSlTF9LXHs9dir9Z1:\n",
      " None, reason: None\n",
      "Error fetching features for track 1mYcukuz7uow0wc7DmPXHU: http status: 403, code:-1 - https://api.spotify.com/v1/audio-features/?ids=1mYcukuz7uow0wc7DmPXHU:\n",
      " None, reason: None\n",
      "Error fetching features for track 2yBxVCCJkfCuwhA0GR2VwA: http status: 403, code:-1 - https://api.spotify.com/v1/audio-features/?ids=2yBxVCCJkfCuwhA0GR2VwA:\n",
      " None, reason: None\n"
     ]
    },
    {
     "name": "stderr",
     "output_type": "stream",
     "text": [
      "HTTP Error for GET to https://api.spotify.com/v1/audio-features/?ids=5T6yrJuKWnkCH2OlQsoO7z with Params: {} returned 403 due to None\n",
      "HTTP Error for GET to https://api.spotify.com/v1/audio-features/?ids=3FS3ItpUATpALLi90uvkde with Params: {} returned 403 due to None\n",
      "HTTP Error for GET to https://api.spotify.com/v1/audio-features/?ids=18gi2IxbZ3Ugom7wTRkohf with Params: {} returned 403 due to None\n"
     ]
    },
    {
     "name": "stdout",
     "output_type": "stream",
     "text": [
      "Error fetching features for track 5T6yrJuKWnkCH2OlQsoO7z: http status: 403, code:-1 - https://api.spotify.com/v1/audio-features/?ids=5T6yrJuKWnkCH2OlQsoO7z:\n",
      " None, reason: None\n",
      "Error fetching features for track 3FS3ItpUATpALLi90uvkde: http status: 403, code:-1 - https://api.spotify.com/v1/audio-features/?ids=3FS3ItpUATpALLi90uvkde:\n",
      " None, reason: None\n",
      "Error fetching features for track 18gi2IxbZ3Ugom7wTRkohf: http status: 403, code:-1 - https://api.spotify.com/v1/audio-features/?ids=18gi2IxbZ3Ugom7wTRkohf:\n",
      " None, reason: None\n"
     ]
    },
    {
     "name": "stderr",
     "output_type": "stream",
     "text": [
      "HTTP Error for GET to https://api.spotify.com/v1/audio-features/?ids=5vGiuYFSGekGLgbxhV1rD5 with Params: {} returned 403 due to None\n",
      "HTTP Error for GET to https://api.spotify.com/v1/audio-features/?ids=3Rvdqwgbr3rryZkNRrItt3 with Params: {} returned 403 due to None\n"
     ]
    },
    {
     "name": "stdout",
     "output_type": "stream",
     "text": [
      "Error fetching features for track 5vGiuYFSGekGLgbxhV1rD5: http status: 403, code:-1 - https://api.spotify.com/v1/audio-features/?ids=5vGiuYFSGekGLgbxhV1rD5:\n",
      " None, reason: None\n",
      "Error fetching features for track 3Rvdqwgbr3rryZkNRrItt3: http status: 403, code:-1 - https://api.spotify.com/v1/audio-features/?ids=3Rvdqwgbr3rryZkNRrItt3:\n",
      " None, reason: None\n"
     ]
    },
    {
     "name": "stderr",
     "output_type": "stream",
     "text": [
      "HTTP Error for GET to https://api.spotify.com/v1/audio-features/?ids=5bHDGWyIFML1LYXZWTD5MF with Params: {} returned 403 due to None\n",
      "HTTP Error for GET to https://api.spotify.com/v1/audio-features/?ids=3FbZoPzEaUBOD84l1FwFEH with Params: {} returned 403 due to None\n"
     ]
    },
    {
     "name": "stdout",
     "output_type": "stream",
     "text": [
      "Processing batch 18 of 29\n",
      "Error fetching features for track 5bHDGWyIFML1LYXZWTD5MF: http status: 403, code:-1 - https://api.spotify.com/v1/audio-features/?ids=5bHDGWyIFML1LYXZWTD5MF:\n",
      " None, reason: None\n",
      "Error fetching features for track 3FbZoPzEaUBOD84l1FwFEH: http status: 403, code:-1 - https://api.spotify.com/v1/audio-features/?ids=3FbZoPzEaUBOD84l1FwFEH:\n",
      " None, reason: None\n"
     ]
    },
    {
     "name": "stderr",
     "output_type": "stream",
     "text": [
      "HTTP Error for GET to https://api.spotify.com/v1/audio-features/?ids=1s6p3DeduWgkjNmBnteoKJ with Params: {} returned 403 due to None\n",
      "HTTP Error for GET to https://api.spotify.com/v1/audio-features/?ids=3h5YZTfJ4BBpvLVHS6lGUl with Params: {} returned 403 due to None\n",
      "HTTP Error for GET to https://api.spotify.com/v1/audio-features/?ids=3GXnz7MM5tMl7bvkTPx8WQ with Params: {} returned 403 due to None\n",
      "HTTP Error for GET to https://api.spotify.com/v1/audio-features/?ids=6ZehWlAhs6w8fBIFZ22NHA with Params: {} returned 403 due to None\n"
     ]
    },
    {
     "name": "stdout",
     "output_type": "stream",
     "text": [
      "Error fetching features for track 1s6p3DeduWgkjNmBnteoKJ: http status: 403, code:-1 - https://api.spotify.com/v1/audio-features/?ids=1s6p3DeduWgkjNmBnteoKJ:\n",
      " None, reason: None\n",
      "Error fetching features for track 3h5YZTfJ4BBpvLVHS6lGUl: http status: 403, code:-1 - https://api.spotify.com/v1/audio-features/?ids=3h5YZTfJ4BBpvLVHS6lGUl:\n",
      " None, reason: None\n",
      "Error fetching features for track 3GXnz7MM5tMl7bvkTPx8WQ: http status: 403, code:-1 - https://api.spotify.com/v1/audio-features/?ids=3GXnz7MM5tMl7bvkTPx8WQ:\n",
      " None, reason: None\n",
      "Error fetching features for track 6ZehWlAhs6w8fBIFZ22NHA: http status: 403, code:-1 - https://api.spotify.com/v1/audio-features/?ids=6ZehWlAhs6w8fBIFZ22NHA:\n",
      " None, reason: None\n"
     ]
    },
    {
     "name": "stderr",
     "output_type": "stream",
     "text": [
      "HTTP Error for GET to https://api.spotify.com/v1/audio-features/?ids=6UIW6bm2VJKMP4T0jqgD2D with Params: {} returned 403 due to None\n",
      "HTTP Error for GET to https://api.spotify.com/v1/audio-features/?ids=5CQyJJH6MJIy3XnQae81DU with Params: {} returned 403 due to None\n",
      "HTTP Error for GET to https://api.spotify.com/v1/audio-features/?ids=2QYLPZvXNVmDuczk4MGCGS with Params: {} returned 403 due to None\n"
     ]
    },
    {
     "name": "stdout",
     "output_type": "stream",
     "text": [
      "Error fetching features for track 6UIW6bm2VJKMP4T0jqgD2D: http status: 403, code:-1 - https://api.spotify.com/v1/audio-features/?ids=6UIW6bm2VJKMP4T0jqgD2D:\n",
      " None, reason: None\n",
      "Error fetching features for track 5CQyJJH6MJIy3XnQae81DU: http status: 403, code:-1 - https://api.spotify.com/v1/audio-features/?ids=5CQyJJH6MJIy3XnQae81DU:\n",
      " None, reason: None\n",
      "Error fetching features for track 2QYLPZvXNVmDuczk4MGCGS: http status: 403, code:-1 - https://api.spotify.com/v1/audio-features/?ids=2QYLPZvXNVmDuczk4MGCGS:\n",
      " None, reason: None\n"
     ]
    },
    {
     "name": "stderr",
     "output_type": "stream",
     "text": [
      "HTTP Error for GET to https://api.spotify.com/v1/audio-features/?ids=3czT4fZGk8us5RpAU3X3KM with Params: {} returned 403 due to None\n",
      "HTTP Error for GET to https://api.spotify.com/v1/audio-features/?ids=2sqCZNIHMDzPjnmGLluYwQ with Params: {} returned 403 due to None\n",
      "HTTP Error for GET to https://api.spotify.com/v1/audio-features/?ids=0dZjWF8uklfNUHiPS2vC6E with Params: {} returned 403 due to None\n",
      "HTTP Error for GET to https://api.spotify.com/v1/audio-features/?ids=76bnpzmTROmxVtWMeCstCk with Params: {} returned 403 due to None\n"
     ]
    },
    {
     "name": "stdout",
     "output_type": "stream",
     "text": [
      "Error fetching features for track 3czT4fZGk8us5RpAU3X3KM: http status: 403, code:-1 - https://api.spotify.com/v1/audio-features/?ids=3czT4fZGk8us5RpAU3X3KM:\n",
      " None, reason: None\n",
      "Error fetching features for track 2sqCZNIHMDzPjnmGLluYwQ: http status: 403, code:-1 - https://api.spotify.com/v1/audio-features/?ids=2sqCZNIHMDzPjnmGLluYwQ:\n",
      " None, reason: None\n",
      "Error fetching features for track 0dZjWF8uklfNUHiPS2vC6E: http status: 403, code:-1 - https://api.spotify.com/v1/audio-features/?ids=0dZjWF8uklfNUHiPS2vC6E:\n",
      " None, reason: None\n",
      "Error fetching features for track 76bnpzmTROmxVtWMeCstCk: http status: 403, code:-1 - https://api.spotify.com/v1/audio-features/?ids=76bnpzmTROmxVtWMeCstCk:\n",
      " None, reason: None\n"
     ]
    },
    {
     "name": "stderr",
     "output_type": "stream",
     "text": [
      "HTTP Error for GET to https://api.spotify.com/v1/audio-features/?ids=3pRF060IEOI5XSQAvONgSt with Params: {} returned 403 due to None\n",
      "HTTP Error for GET to https://api.spotify.com/v1/audio-features/?ids=4OvdhTOjq75CvPO6O7AWRw with Params: {} returned 403 due to None\n",
      "HTTP Error for GET to https://api.spotify.com/v1/audio-features/?ids=63UQHXdWCt99nntfCTEGKI with Params: {} returned 403 due to None\n",
      "HTTP Error for GET to https://api.spotify.com/v1/audio-features/?ids=5IvXCYI3LU2BvWtb7KqDrf with Params: {} returned 403 due to None\n"
     ]
    },
    {
     "name": "stdout",
     "output_type": "stream",
     "text": [
      "Error fetching features for track 3pRF060IEOI5XSQAvONgSt: http status: 403, code:-1 - https://api.spotify.com/v1/audio-features/?ids=3pRF060IEOI5XSQAvONgSt:\n",
      " None, reason: None\n",
      "Error fetching features for track 4OvdhTOjq75CvPO6O7AWRw: http status: 403, code:-1 - https://api.spotify.com/v1/audio-features/?ids=4OvdhTOjq75CvPO6O7AWRw:\n",
      " None, reason: None\n",
      "Error fetching features for track 63UQHXdWCt99nntfCTEGKI: http status: 403, code:-1 - https://api.spotify.com/v1/audio-features/?ids=63UQHXdWCt99nntfCTEGKI:\n",
      " None, reason: None\n",
      "Error fetching features for track 5IvXCYI3LU2BvWtb7KqDrf: http status: 403, code:-1 - https://api.spotify.com/v1/audio-features/?ids=5IvXCYI3LU2BvWtb7KqDrf:\n",
      " None, reason: None\n"
     ]
    },
    {
     "name": "stderr",
     "output_type": "stream",
     "text": [
      "HTTP Error for GET to https://api.spotify.com/v1/audio-features/?ids=1RQYmZ3yvOXicH5w2XPQoy with Params: {} returned 403 due to None\n",
      "HTTP Error for GET to https://api.spotify.com/v1/audio-features/?ids=5R6T1zVAE6cpBorNs8MVGU with Params: {} returned 403 due to None\n",
      "HTTP Error for GET to https://api.spotify.com/v1/audio-features/?ids=18gi2IxbZ3Ugom7wTRkohf with Params: {} returned 403 due to None\n",
      "HTTP Error for GET to https://api.spotify.com/v1/audio-features/?ids=5Rn1DPzSzUktbhuNDDJocS with Params: {} returned 403 due to None\n"
     ]
    },
    {
     "name": "stdout",
     "output_type": "stream",
     "text": [
      "Error fetching features for track 1RQYmZ3yvOXicH5w2XPQoy: http status: 403, code:-1 - https://api.spotify.com/v1/audio-features/?ids=1RQYmZ3yvOXicH5w2XPQoy:\n",
      " None, reason: None\n",
      "Error fetching features for track 5R6T1zVAE6cpBorNs8MVGU: http status: 403, code:-1 - https://api.spotify.com/v1/audio-features/?ids=5R6T1zVAE6cpBorNs8MVGU:\n",
      " None, reason: None\n",
      "Error fetching features for track 18gi2IxbZ3Ugom7wTRkohf: http status: 403, code:-1 - https://api.spotify.com/v1/audio-features/?ids=18gi2IxbZ3Ugom7wTRkohf:\n",
      " None, reason: None\n",
      "Error fetching features for track 5Rn1DPzSzUktbhuNDDJocS: http status: 403, code:-1 - https://api.spotify.com/v1/audio-features/?ids=5Rn1DPzSzUktbhuNDDJocS:\n",
      " None, reason: None\n"
     ]
    },
    {
     "name": "stderr",
     "output_type": "stream",
     "text": [
      "HTTP Error for GET to https://api.spotify.com/v1/audio-features/?ids=5BGnQWWgXLfuVdu0XTwMfb with Params: {} returned 403 due to None\n",
      "HTTP Error for GET to https://api.spotify.com/v1/audio-features/?ids=7v6kXbTvpHbhq5LHruy0xV with Params: {} returned 403 due to None\n",
      "HTTP Error for GET to https://api.spotify.com/v1/audio-features/?ids=2JyPZNIsrL1xIoLZaqcqr1 with Params: {} returned 403 due to None\n"
     ]
    },
    {
     "name": "stdout",
     "output_type": "stream",
     "text": [
      "Error fetching features for track 5BGnQWWgXLfuVdu0XTwMfb: http status: 403, code:-1 - https://api.spotify.com/v1/audio-features/?ids=5BGnQWWgXLfuVdu0XTwMfb:\n",
      " None, reason: None\n",
      "Error fetching features for track 7v6kXbTvpHbhq5LHruy0xV: http status: 403, code:-1 - https://api.spotify.com/v1/audio-features/?ids=7v6kXbTvpHbhq5LHruy0xV:\n",
      " None, reason: None\n",
      "Error fetching features for track 2JyPZNIsrL1xIoLZaqcqr1: http status: 403, code:-1 - https://api.spotify.com/v1/audio-features/?ids=2JyPZNIsrL1xIoLZaqcqr1:\n",
      " None, reason: None\n"
     ]
    },
    {
     "name": "stderr",
     "output_type": "stream",
     "text": [
      "HTTP Error for GET to https://api.spotify.com/v1/audio-features/?ids=2JyPZNIsrL1xIoLZaqcqr1 with Params: {} returned 403 due to None\n",
      "HTTP Error for GET to https://api.spotify.com/v1/audio-features/?ids=30IOhjcKbULQUt66nYkUvW with Params: {} returned 403 due to None\n",
      "HTTP Error for GET to https://api.spotify.com/v1/audio-features/?ids=35FFqjqaPv1Fr9B1GtJdZO with Params: {} returned 403 due to None\n",
      "HTTP Error for GET to https://api.spotify.com/v1/audio-features/?ids=32LKwbmh6yVsWoRRF8DIvf with Params: {} returned 403 due to None\n"
     ]
    },
    {
     "name": "stdout",
     "output_type": "stream",
     "text": [
      "Error fetching features for track 2JyPZNIsrL1xIoLZaqcqr1: http status: 403, code:-1 - https://api.spotify.com/v1/audio-features/?ids=2JyPZNIsrL1xIoLZaqcqr1:\n",
      " None, reason: None\n",
      "Error fetching features for track 30IOhjcKbULQUt66nYkUvW: http status: 403, code:-1 - https://api.spotify.com/v1/audio-features/?ids=30IOhjcKbULQUt66nYkUvW:\n",
      " None, reason: None\n",
      "Error fetching features for track 35FFqjqaPv1Fr9B1GtJdZO: http status: 403, code:-1 - https://api.spotify.com/v1/audio-features/?ids=35FFqjqaPv1Fr9B1GtJdZO:\n",
      " None, reason: None\n",
      "Error fetching features for track 32LKwbmh6yVsWoRRF8DIvf: http status: 403, code:-1 - https://api.spotify.com/v1/audio-features/?ids=32LKwbmh6yVsWoRRF8DIvf:\n",
      " None, reason: None\n"
     ]
    },
    {
     "name": "stderr",
     "output_type": "stream",
     "text": [
      "HTTP Error for GET to https://api.spotify.com/v1/audio-features/?ids=1qTh7hzjd361hjuzeaMFWK with Params: {} returned 403 due to None\n",
      "HTTP Error for GET to https://api.spotify.com/v1/audio-features/?ids=04ChFQZCKl2yRcvc0VR7qN with Params: {} returned 403 due to None\n",
      "HTTP Error for GET to https://api.spotify.com/v1/audio-features/?ids=14uXhHNINQqjl2hngD21s9 with Params: {} returned 403 due to None\n",
      "HTTP Error for GET to https://api.spotify.com/v1/audio-features/?ids=1scGwkyXNCl19wrBDhnAWg with Params: {} returned 403 due to None\n"
     ]
    },
    {
     "name": "stdout",
     "output_type": "stream",
     "text": [
      "Error fetching features for track 1qTh7hzjd361hjuzeaMFWK: http status: 403, code:-1 - https://api.spotify.com/v1/audio-features/?ids=1qTh7hzjd361hjuzeaMFWK:\n",
      " None, reason: None\n",
      "Error fetching features for track 04ChFQZCKl2yRcvc0VR7qN: http status: 403, code:-1 - https://api.spotify.com/v1/audio-features/?ids=04ChFQZCKl2yRcvc0VR7qN:\n",
      " None, reason: None\n",
      "Error fetching features for track 14uXhHNINQqjl2hngD21s9: http status: 403, code:-1 - https://api.spotify.com/v1/audio-features/?ids=14uXhHNINQqjl2hngD21s9:\n",
      " None, reason: None\n",
      "Error fetching features for track 1scGwkyXNCl19wrBDhnAWg: http status: 403, code:-1 - https://api.spotify.com/v1/audio-features/?ids=1scGwkyXNCl19wrBDhnAWg:\n",
      " None, reason: None\n"
     ]
    },
    {
     "name": "stderr",
     "output_type": "stream",
     "text": [
      "HTTP Error for GET to https://api.spotify.com/v1/audio-features/?ids=5wdlz4N7s1Xyr4y4RXhZJM with Params: {} returned 403 due to None\n",
      "HTTP Error for GET to https://api.spotify.com/v1/audio-features/?ids=7ofWUKeNCUw1P64ArIwG9b with Params: {} returned 403 due to None\n",
      "HTTP Error for GET to https://api.spotify.com/v1/audio-features/?ids=18gi2IxbZ3Ugom7wTRkohf with Params: {} returned 403 due to None\n"
     ]
    },
    {
     "name": "stdout",
     "output_type": "stream",
     "text": [
      "Error fetching features for track 5wdlz4N7s1Xyr4y4RXhZJM: http status: 403, code:-1 - https://api.spotify.com/v1/audio-features/?ids=5wdlz4N7s1Xyr4y4RXhZJM:\n",
      " None, reason: None\n",
      "Error fetching features for track 7ofWUKeNCUw1P64ArIwG9b: http status: 403, code:-1 - https://api.spotify.com/v1/audio-features/?ids=7ofWUKeNCUw1P64ArIwG9b:\n",
      " None, reason: None\n",
      "Error fetching features for track 18gi2IxbZ3Ugom7wTRkohf: http status: 403, code:-1 - https://api.spotify.com/v1/audio-features/?ids=18gi2IxbZ3Ugom7wTRkohf:\n",
      " None, reason: None\n"
     ]
    },
    {
     "name": "stderr",
     "output_type": "stream",
     "text": [
      "HTTP Error for GET to https://api.spotify.com/v1/audio-features/?ids=2hykXvjXceH1wGiJErDJjj with Params: {} returned 403 due to None\n",
      "HTTP Error for GET to https://api.spotify.com/v1/audio-features/?ids=723xQva0yBF7M6K3nDAG8R with Params: {} returned 403 due to None\n",
      "HTTP Error for GET to https://api.spotify.com/v1/audio-features/?ids=4UDFr3P1lRS6seQfmzCjz7 with Params: {} returned 403 due to None\n",
      "HTTP Error for GET to https://api.spotify.com/v1/audio-features/?ids=3Kl8p2PxVf8eAayLwTxOIm with Params: {} returned 403 due to None\n"
     ]
    },
    {
     "name": "stdout",
     "output_type": "stream",
     "text": [
      "Error fetching features for track 2hykXvjXceH1wGiJErDJjj: http status: 403, code:-1 - https://api.spotify.com/v1/audio-features/?ids=2hykXvjXceH1wGiJErDJjj:\n",
      " None, reason: None\n",
      "Error fetching features for track 723xQva0yBF7M6K3nDAG8R: http status: 403, code:-1 - https://api.spotify.com/v1/audio-features/?ids=723xQva0yBF7M6K3nDAG8R:\n",
      " None, reason: None\n",
      "Error fetching features for track 4UDFr3P1lRS6seQfmzCjz7: http status: 403, code:-1 - https://api.spotify.com/v1/audio-features/?ids=4UDFr3P1lRS6seQfmzCjz7:\n",
      " None, reason: None\n",
      "Error fetching features for track 3Kl8p2PxVf8eAayLwTxOIm: http status: 403, code:-1 - https://api.spotify.com/v1/audio-features/?ids=3Kl8p2PxVf8eAayLwTxOIm:\n",
      " None, reason: None\n"
     ]
    },
    {
     "name": "stderr",
     "output_type": "stream",
     "text": [
      "HTTP Error for GET to https://api.spotify.com/v1/audio-features/?ids=6qNyL8lZuqFmy9ginJRQOZ with Params: {} returned 403 due to None\n",
      "HTTP Error for GET to https://api.spotify.com/v1/audio-features/?ids=6z3p3Gm5FOH1n22ummzEh7 with Params: {} returned 403 due to None\n",
      "HTTP Error for GET to https://api.spotify.com/v1/audio-features/?ids=0snQrp1VaY5Pj1YIHRJpRJ with Params: {} returned 403 due to None\n",
      "HTTP Error for GET to https://api.spotify.com/v1/audio-features/?ids=0YxKKO272sacGBJKjf6FnB with Params: {} returned 403 due to None\n"
     ]
    },
    {
     "name": "stdout",
     "output_type": "stream",
     "text": [
      "Error fetching features for track 6qNyL8lZuqFmy9ginJRQOZ: http status: 403, code:-1 - https://api.spotify.com/v1/audio-features/?ids=6qNyL8lZuqFmy9ginJRQOZ:\n",
      " None, reason: None\n",
      "Error fetching features for track 6z3p3Gm5FOH1n22ummzEh7: http status: 403, code:-1 - https://api.spotify.com/v1/audio-features/?ids=6z3p3Gm5FOH1n22ummzEh7:\n",
      " None, reason: None\n",
      "Error fetching features for track 0snQrp1VaY5Pj1YIHRJpRJ: http status: 403, code:-1 - https://api.spotify.com/v1/audio-features/?ids=0snQrp1VaY5Pj1YIHRJpRJ:\n",
      " None, reason: None\n",
      "Error fetching features for track 0YxKKO272sacGBJKjf6FnB: http status: 403, code:-1 - https://api.spotify.com/v1/audio-features/?ids=0YxKKO272sacGBJKjf6FnB:\n",
      " None, reason: None\n"
     ]
    },
    {
     "name": "stderr",
     "output_type": "stream",
     "text": [
      "HTTP Error for GET to https://api.spotify.com/v1/audio-features/?ids=4iEGv5Ne6HuCkFCjzxdWQK with Params: {} returned 403 due to None\n",
      "HTTP Error for GET to https://api.spotify.com/v1/audio-features/?ids=0gRNu9dVzi5aC87AI1empZ with Params: {} returned 403 due to None\n",
      "HTTP Error for GET to https://api.spotify.com/v1/audio-features/?ids=0UZLaEOSIc5kg0cc7eszqC with Params: {} returned 403 due to None\n"
     ]
    },
    {
     "name": "stdout",
     "output_type": "stream",
     "text": [
      "Error fetching features for track 4iEGv5Ne6HuCkFCjzxdWQK: http status: 403, code:-1 - https://api.spotify.com/v1/audio-features/?ids=4iEGv5Ne6HuCkFCjzxdWQK:\n",
      " None, reason: None\n",
      "Error fetching features for track 0gRNu9dVzi5aC87AI1empZ: http status: 403, code:-1 - https://api.spotify.com/v1/audio-features/?ids=0gRNu9dVzi5aC87AI1empZ:\n",
      " None, reason: None\n",
      "Error fetching features for track 0UZLaEOSIc5kg0cc7eszqC: http status: 403, code:-1 - https://api.spotify.com/v1/audio-features/?ids=0UZLaEOSIc5kg0cc7eszqC:\n",
      " None, reason: None\n"
     ]
    },
    {
     "name": "stderr",
     "output_type": "stream",
     "text": [
      "HTTP Error for GET to https://api.spotify.com/v1/audio-features/?ids=1AlatlIkROgLvG6pgBBnAz with Params: {} returned 403 due to None\n",
      "HTTP Error for GET to https://api.spotify.com/v1/audio-features/?ids=6DWfITTnKLZVGD75Y0zeFh with Params: {} returned 403 due to None\n",
      "HTTP Error for GET to https://api.spotify.com/v1/audio-features/?ids=4SNYr3OY0E3brk2YEcW2ip with Params: {} returned 403 due to None\n"
     ]
    },
    {
     "name": "stdout",
     "output_type": "stream",
     "text": [
      "Error fetching features for track 1AlatlIkROgLvG6pgBBnAz: http status: 403, code:-1 - https://api.spotify.com/v1/audio-features/?ids=1AlatlIkROgLvG6pgBBnAz:\n",
      " None, reason: None\n",
      "Error fetching features for track 6DWfITTnKLZVGD75Y0zeFh: http status: 403, code:-1 - https://api.spotify.com/v1/audio-features/?ids=6DWfITTnKLZVGD75Y0zeFh:\n",
      " None, reason: None\n",
      "Error fetching features for track 4SNYr3OY0E3brk2YEcW2ip: http status: 403, code:-1 - https://api.spotify.com/v1/audio-features/?ids=4SNYr3OY0E3brk2YEcW2ip:\n",
      " None, reason: None\n"
     ]
    },
    {
     "name": "stderr",
     "output_type": "stream",
     "text": [
      "HTTP Error for GET to https://api.spotify.com/v1/audio-features/?ids=6rkqqLPg9Lbsdh26JMqfp0 with Params: {} returned 403 due to None\n"
     ]
    },
    {
     "name": "stdout",
     "output_type": "stream",
     "text": [
      "Error fetching features for track 6rkqqLPg9Lbsdh26JMqfp0: http status: 403, code:-1 - https://api.spotify.com/v1/audio-features/?ids=6rkqqLPg9Lbsdh26JMqfp0:\n",
      " None, reason: None\n"
     ]
    },
    {
     "name": "stderr",
     "output_type": "stream",
     "text": [
      "HTTP Error for GET to https://api.spotify.com/v1/audio-features/?ids=4RUBGBppd71QQy4lLJ1mvw with Params: {} returned 403 due to None\n",
      "HTTP Error for GET to https://api.spotify.com/v1/audio-features/?ids=0WBClBemYPJR44H6uIn0kp with Params: {} returned 403 due to None\n",
      "HTTP Error for GET to https://api.spotify.com/v1/audio-features/?ids=1hQia6rxgfM1ly2hE3StWp with Params: {} returned 403 due to None\n"
     ]
    },
    {
     "name": "stdout",
     "output_type": "stream",
     "text": [
      "Processing batch 19 of 29\n",
      "Error fetching features for track 4RUBGBppd71QQy4lLJ1mvw: http status: 403, code:-1 - https://api.spotify.com/v1/audio-features/?ids=4RUBGBppd71QQy4lLJ1mvw:\n",
      " None, reason: None\n",
      "Error fetching features for track 0WBClBemYPJR44H6uIn0kp: http status: 403, code:-1 - https://api.spotify.com/v1/audio-features/?ids=0WBClBemYPJR44H6uIn0kp:\n",
      " None, reason: None\n",
      "Error fetching features for track 1hQia6rxgfM1ly2hE3StWp: http status: 403, code:-1 - https://api.spotify.com/v1/audio-features/?ids=1hQia6rxgfM1ly2hE3StWp:\n",
      " None, reason: None\n"
     ]
    },
    {
     "name": "stderr",
     "output_type": "stream",
     "text": [
      "HTTP Error for GET to https://api.spotify.com/v1/audio-features/?ids=2SN54RFfaafTk7TE1n1Na4 with Params: {} returned 403 due to None\n",
      "HTTP Error for GET to https://api.spotify.com/v1/audio-features/?ids=5czJMpadRTKwheBXCfiJkm with Params: {} returned 403 due to None\n",
      "HTTP Error for GET to https://api.spotify.com/v1/audio-features/?ids=1qTh7hzjd361hjuzeaMFWK with Params: {} returned 403 due to None\n"
     ]
    },
    {
     "name": "stdout",
     "output_type": "stream",
     "text": [
      "Error fetching features for track 2SN54RFfaafTk7TE1n1Na4: http status: 403, code:-1 - https://api.spotify.com/v1/audio-features/?ids=2SN54RFfaafTk7TE1n1Na4:\n",
      " None, reason: None\n",
      "Error fetching features for track 5czJMpadRTKwheBXCfiJkm: http status: 403, code:-1 - https://api.spotify.com/v1/audio-features/?ids=5czJMpadRTKwheBXCfiJkm:\n",
      " None, reason: None\n",
      "Error fetching features for track 1qTh7hzjd361hjuzeaMFWK: http status: 403, code:-1 - https://api.spotify.com/v1/audio-features/?ids=1qTh7hzjd361hjuzeaMFWK:\n",
      " None, reason: None\n"
     ]
    },
    {
     "name": "stderr",
     "output_type": "stream",
     "text": [
      "HTTP Error for GET to https://api.spotify.com/v1/audio-features/?ids=4ulISxSlTF9LXHs9dir9Z1 with Params: {} returned 403 due to None\n",
      "HTTP Error for GET to https://api.spotify.com/v1/audio-features/?ids=13PBNcIOjxbNPeJHpygaCU with Params: {} returned 403 due to None\n",
      "HTTP Error for GET to https://api.spotify.com/v1/audio-features/?ids=6fIVkFeP4tk5CzFTPDf9PE with Params: {} returned 403 due to None\n"
     ]
    },
    {
     "name": "stdout",
     "output_type": "stream",
     "text": [
      "Error fetching features for track 4ulISxSlTF9LXHs9dir9Z1: http status: 403, code:-1 - https://api.spotify.com/v1/audio-features/?ids=4ulISxSlTF9LXHs9dir9Z1:\n",
      " None, reason: None\n",
      "Error fetching features for track 13PBNcIOjxbNPeJHpygaCU: http status: 403, code:-1 - https://api.spotify.com/v1/audio-features/?ids=13PBNcIOjxbNPeJHpygaCU:\n",
      " None, reason: None\n",
      "Error fetching features for track 6fIVkFeP4tk5CzFTPDf9PE: http status: 403, code:-1 - https://api.spotify.com/v1/audio-features/?ids=6fIVkFeP4tk5CzFTPDf9PE:\n",
      " None, reason: None\n"
     ]
    },
    {
     "name": "stderr",
     "output_type": "stream",
     "text": [
      "HTTP Error for GET to https://api.spotify.com/v1/audio-features/?ids=6cUaCs1lKfDOyFKMkBF8ch with Params: {} returned 403 due to None\n",
      "HTTP Error for GET to https://api.spotify.com/v1/audio-features/?ids=6D2ZnEZ92wUFTr38YXTCL5 with Params: {} returned 403 due to None\n"
     ]
    },
    {
     "name": "stdout",
     "output_type": "stream",
     "text": [
      "Error fetching features for track 6cUaCs1lKfDOyFKMkBF8ch: http status: 403, code:-1 - https://api.spotify.com/v1/audio-features/?ids=6cUaCs1lKfDOyFKMkBF8ch:\n",
      " None, reason: None\n"
     ]
    },
    {
     "name": "stderr",
     "output_type": "stream",
     "text": [
      "HTTP Error for GET to https://api.spotify.com/v1/audio-features/?ids=3W1XPf7mvuQcWQB7U7MbTM with Params: {} returned 403 due to None\n",
      "HTTP Error for GET to https://api.spotify.com/v1/audio-features/?ids=1fkjRQA8wXPPyxqYLbxuqy with Params: {} returned 403 due to None\n",
      "HTTP Error for GET to https://api.spotify.com/v1/audio-features/?ids=2BOY77LvMTUOfLcnfFAJGl with Params: {} returned 403 due to None\n"
     ]
    },
    {
     "name": "stdout",
     "output_type": "stream",
     "text": [
      "Error fetching features for track 6D2ZnEZ92wUFTr38YXTCL5: http status: 403, code:-1 - https://api.spotify.com/v1/audio-features/?ids=6D2ZnEZ92wUFTr38YXTCL5:\n",
      " None, reason: None\n",
      "Error fetching features for track 3W1XPf7mvuQcWQB7U7MbTM: http status: 403, code:-1 - https://api.spotify.com/v1/audio-features/?ids=3W1XPf7mvuQcWQB7U7MbTM:\n",
      " None, reason: None\n",
      "Error fetching features for track 1fkjRQA8wXPPyxqYLbxuqy: http status: 403, code:-1 - https://api.spotify.com/v1/audio-features/?ids=1fkjRQA8wXPPyxqYLbxuqy:\n",
      " None, reason: None\n",
      "Error fetching features for track 2BOY77LvMTUOfLcnfFAJGl: http status: 403, code:-1 - https://api.spotify.com/v1/audio-features/?ids=2BOY77LvMTUOfLcnfFAJGl:\n",
      " None, reason: None\n"
     ]
    },
    {
     "name": "stderr",
     "output_type": "stream",
     "text": [
      "HTTP Error for GET to https://api.spotify.com/v1/audio-features/?ids=2IoZMG3RqiTmsy7Li3zGFg with Params: {} returned 403 due to None\n",
      "HTTP Error for GET to https://api.spotify.com/v1/audio-features/?ids=3APdIdF8H0jsxSuGOqXedS with Params: {} returned 403 due to None\n",
      "HTTP Error for GET to https://api.spotify.com/v1/audio-features/?ids=4gqHEia13bp5EFWGitiKWx with Params: {} returned 403 due to None\n",
      "HTTP Error for GET to https://api.spotify.com/v1/audio-features/?ids=6GQK4G5o60E8YA18DGpAzv with Params: {} returned 403 due to None\n"
     ]
    },
    {
     "name": "stdout",
     "output_type": "stream",
     "text": [
      "Error fetching features for track 2IoZMG3RqiTmsy7Li3zGFg: http status: 403, code:-1 - https://api.spotify.com/v1/audio-features/?ids=2IoZMG3RqiTmsy7Li3zGFg:\n",
      " None, reason: None\n",
      "Error fetching features for track 3APdIdF8H0jsxSuGOqXedS: http status: 403, code:-1 - https://api.spotify.com/v1/audio-features/?ids=3APdIdF8H0jsxSuGOqXedS:\n",
      " None, reason: None\n",
      "Error fetching features for track 4gqHEia13bp5EFWGitiKWx: http status: 403, code:-1 - https://api.spotify.com/v1/audio-features/?ids=4gqHEia13bp5EFWGitiKWx:\n",
      " None, reason: None\n",
      "Error fetching features for track 6GQK4G5o60E8YA18DGpAzv: http status: 403, code:-1 - https://api.spotify.com/v1/audio-features/?ids=6GQK4G5o60E8YA18DGpAzv:\n",
      " None, reason: None\n"
     ]
    },
    {
     "name": "stderr",
     "output_type": "stream",
     "text": [
      "HTTP Error for GET to https://api.spotify.com/v1/audio-features/?ids=69u6HoqhzzdUrWuYeDP6Go with Params: {} returned 403 due to None\n",
      "HTTP Error for GET to https://api.spotify.com/v1/audio-features/?ids=5FXMRdJjKq1BIX4e8Eg9mK with Params: {} returned 403 due to None\n",
      "HTTP Error for GET to https://api.spotify.com/v1/audio-features/?ids=6fOrdTNuSAM219wGYwZMaO with Params: {} returned 403 due to None\n",
      "HTTP Error for GET to https://api.spotify.com/v1/audio-features/?ids=7IQyN2UCLplLSW5oKqASka with Params: {} returned 403 due to None\n"
     ]
    },
    {
     "name": "stdout",
     "output_type": "stream",
     "text": [
      "Error fetching features for track 69u6HoqhzzdUrWuYeDP6Go: http status: 403, code:-1 - https://api.spotify.com/v1/audio-features/?ids=69u6HoqhzzdUrWuYeDP6Go:\n",
      " None, reason: None\n",
      "Error fetching features for track 5FXMRdJjKq1BIX4e8Eg9mK: http status: 403, code:-1 - https://api.spotify.com/v1/audio-features/?ids=5FXMRdJjKq1BIX4e8Eg9mK:\n",
      " None, reason: None\n",
      "Error fetching features for track 6fOrdTNuSAM219wGYwZMaO: http status: 403, code:-1 - https://api.spotify.com/v1/audio-features/?ids=6fOrdTNuSAM219wGYwZMaO:\n",
      " None, reason: None\n",
      "Error fetching features for track 7IQyN2UCLplLSW5oKqASka: http status: 403, code:-1 - https://api.spotify.com/v1/audio-features/?ids=7IQyN2UCLplLSW5oKqASka:\n",
      " None, reason: None\n"
     ]
    },
    {
     "name": "stderr",
     "output_type": "stream",
     "text": [
      "HTTP Error for GET to https://api.spotify.com/v1/audio-features/?ids=2SIi6cD1f9VrDnd5MUSpIG with Params: {} returned 403 due to None\n",
      "HTTP Error for GET to https://api.spotify.com/v1/audio-features/?ids=3VkPeb5ZIGkGkb9Uhvo0Ba with Params: {} returned 403 due to None\n",
      "HTTP Error for GET to https://api.spotify.com/v1/audio-features/?ids=56aLd3VIL6vOYloB3nPbNj with Params: {} returned 403 due to None\n"
     ]
    },
    {
     "name": "stdout",
     "output_type": "stream",
     "text": [
      "Error fetching features for track 2SIi6cD1f9VrDnd5MUSpIG: http status: 403, code:-1 - https://api.spotify.com/v1/audio-features/?ids=2SIi6cD1f9VrDnd5MUSpIG:\n",
      " None, reason: None\n",
      "Error fetching features for track 3VkPeb5ZIGkGkb9Uhvo0Ba: http status: 403, code:-1 - https://api.spotify.com/v1/audio-features/?ids=3VkPeb5ZIGkGkb9Uhvo0Ba:\n",
      " None, reason: None\n",
      "Error fetching features for track 56aLd3VIL6vOYloB3nPbNj: http status: 403, code:-1 - https://api.spotify.com/v1/audio-features/?ids=56aLd3VIL6vOYloB3nPbNj:\n",
      " None, reason: None\n"
     ]
    },
    {
     "name": "stderr",
     "output_type": "stream",
     "text": [
      "HTTP Error for GET to https://api.spotify.com/v1/audio-features/?ids=5qG6jYnBmGMdKS1WiZBgj5 with Params: {} returned 403 due to None\n",
      "HTTP Error for GET to https://api.spotify.com/v1/audio-features/?ids=3exgkJ0BYO9WYe1KtRnELm with Params: {} returned 403 due to None\n",
      "HTTP Error for GET to https://api.spotify.com/v1/audio-features/?ids=0btSn1i81ONWKeMxUhWSij with Params: {} returned 403 due to None\n",
      "HTTP Error for GET to https://api.spotify.com/v1/audio-features/?ids=43SKg10CCeaoyr7XSKfpTR with Params: {} returned 403 due to None\n"
     ]
    },
    {
     "name": "stdout",
     "output_type": "stream",
     "text": [
      "Error fetching features for track 5qG6jYnBmGMdKS1WiZBgj5: http status: 403, code:-1 - https://api.spotify.com/v1/audio-features/?ids=5qG6jYnBmGMdKS1WiZBgj5:\n",
      " None, reason: None\n",
      "Error fetching features for track 3exgkJ0BYO9WYe1KtRnELm: http status: 403, code:-1 - https://api.spotify.com/v1/audio-features/?ids=3exgkJ0BYO9WYe1KtRnELm:\n",
      " None, reason: None\n",
      "Error fetching features for track 0btSn1i81ONWKeMxUhWSij: http status: 403, code:-1 - https://api.spotify.com/v1/audio-features/?ids=0btSn1i81ONWKeMxUhWSij:\n",
      " None, reason: None\n",
      "Error fetching features for track 43SKg10CCeaoyr7XSKfpTR: http status: 403, code:-1 - https://api.spotify.com/v1/audio-features/?ids=43SKg10CCeaoyr7XSKfpTR:\n",
      " None, reason: None\n"
     ]
    },
    {
     "name": "stderr",
     "output_type": "stream",
     "text": [
      "HTTP Error for GET to https://api.spotify.com/v1/audio-features/?ids=43SKg10CCeaoyr7XSKfpTR with Params: {} returned 403 due to None\n",
      "HTTP Error for GET to https://api.spotify.com/v1/audio-features/?ids=2PRLuCoUGWfUpbBo7yWuJd with Params: {} returned 403 due to None\n",
      "HTTP Error for GET to https://api.spotify.com/v1/audio-features/?ids=2uaj8aT0FXxqbBarhLmRHv with Params: {} returned 403 due to None\n",
      "HTTP Error for GET to https://api.spotify.com/v1/audio-features/?ids=3UaP2PQwhA31keZXt7oPLA with Params: {} returned 403 due to None\n"
     ]
    },
    {
     "name": "stdout",
     "output_type": "stream",
     "text": [
      "Error fetching features for track 43SKg10CCeaoyr7XSKfpTR: http status: 403, code:-1 - https://api.spotify.com/v1/audio-features/?ids=43SKg10CCeaoyr7XSKfpTR:\n",
      " None, reason: None\n",
      "Error fetching features for track 2PRLuCoUGWfUpbBo7yWuJd: http status: 403, code:-1 - https://api.spotify.com/v1/audio-features/?ids=2PRLuCoUGWfUpbBo7yWuJd:\n",
      " None, reason: None\n",
      "Error fetching features for track 2uaj8aT0FXxqbBarhLmRHv: http status: 403, code:-1 - https://api.spotify.com/v1/audio-features/?ids=2uaj8aT0FXxqbBarhLmRHv:\n",
      " None, reason: None\n",
      "Error fetching features for track 3UaP2PQwhA31keZXt7oPLA: http status: 403, code:-1 - https://api.spotify.com/v1/audio-features/?ids=3UaP2PQwhA31keZXt7oPLA:\n",
      " None, reason: None\n"
     ]
    },
    {
     "name": "stderr",
     "output_type": "stream",
     "text": [
      "HTTP Error for GET to https://api.spotify.com/v1/audio-features/?ids=6z3p3Gm5FOH1n22ummzEh7 with Params: {} returned 403 due to None\n",
      "HTTP Error for GET to https://api.spotify.com/v1/audio-features/?ids=6YqJrTB64MvXAGqXvRrgdd with Params: {} returned 403 due to None\n",
      "HTTP Error for GET to https://api.spotify.com/v1/audio-features/?ids=6UAnHdKaYxxJYAilFEwIF1 with Params: {} returned 403 due to None\n",
      "HTTP Error for GET to https://api.spotify.com/v1/audio-features/?ids=1qTh7hzjd361hjuzeaMFWK with Params: {} returned 403 due to None\n"
     ]
    },
    {
     "name": "stdout",
     "output_type": "stream",
     "text": [
      "Error fetching features for track 6z3p3Gm5FOH1n22ummzEh7: http status: 403, code:-1 - https://api.spotify.com/v1/audio-features/?ids=6z3p3Gm5FOH1n22ummzEh7:\n",
      " None, reason: None\n",
      "Error fetching features for track 6YqJrTB64MvXAGqXvRrgdd: http status: 403, code:-1 - https://api.spotify.com/v1/audio-features/?ids=6YqJrTB64MvXAGqXvRrgdd:\n",
      " None, reason: None\n",
      "Error fetching features for track 6UAnHdKaYxxJYAilFEwIF1: http status: 403, code:-1 - https://api.spotify.com/v1/audio-features/?ids=6UAnHdKaYxxJYAilFEwIF1:\n",
      " None, reason: None\n",
      "Error fetching features for track 1qTh7hzjd361hjuzeaMFWK: http status: 403, code:-1 - https://api.spotify.com/v1/audio-features/?ids=1qTh7hzjd361hjuzeaMFWK:\n",
      " None, reason: None\n"
     ]
    },
    {
     "name": "stderr",
     "output_type": "stream",
     "text": [
      "HTTP Error for GET to https://api.spotify.com/v1/audio-features/?ids=2sqCZNIHMDzPjnmGLluYwQ with Params: {} returned 403 due to None\n",
      "HTTP Error for GET to https://api.spotify.com/v1/audio-features/?ids=1ZpsPt7Ayxhd35QXHdLGEY with Params: {} returned 403 due to None\n",
      "HTTP Error for GET to https://api.spotify.com/v1/audio-features/?ids=4GrzhbZQQc9SrU4Vo6J3WY with Params: {} returned 403 due to None\n",
      "HTTP Error for GET to https://api.spotify.com/v1/audio-features/?ids=679CShjsnhAEogK2YjKX2g with Params: {} returned 403 due to None\n"
     ]
    },
    {
     "name": "stdout",
     "output_type": "stream",
     "text": [
      "Error fetching features for track 2sqCZNIHMDzPjnmGLluYwQ: http status: 403, code:-1 - https://api.spotify.com/v1/audio-features/?ids=2sqCZNIHMDzPjnmGLluYwQ:\n",
      " None, reason: None\n",
      "Error fetching features for track 1ZpsPt7Ayxhd35QXHdLGEY: http status: 403, code:-1 - https://api.spotify.com/v1/audio-features/?ids=1ZpsPt7Ayxhd35QXHdLGEY:\n",
      " None, reason: None\n",
      "Error fetching features for track 4GrzhbZQQc9SrU4Vo6J3WY: http status: 403, code:-1 - https://api.spotify.com/v1/audio-features/?ids=4GrzhbZQQc9SrU4Vo6J3WY:\n",
      " None, reason: None\n",
      "Error fetching features for track 679CShjsnhAEogK2YjKX2g: http status: 403, code:-1 - https://api.spotify.com/v1/audio-features/?ids=679CShjsnhAEogK2YjKX2g:\n",
      " None, reason: None\n"
     ]
    },
    {
     "name": "stderr",
     "output_type": "stream",
     "text": [
      "HTTP Error for GET to https://api.spotify.com/v1/audio-features/?ids=5JKah0hlS14vCVhyXbMRmV with Params: {} returned 403 due to None\n",
      "HTTP Error for GET to https://api.spotify.com/v1/audio-features/?ids=37Z0JtMr9BBTpD1TPClCY3 with Params: {} returned 403 due to None\n",
      "HTTP Error for GET to https://api.spotify.com/v1/audio-features/?ids=1fnyJEbolobEfv2gtLVjmA with Params: {} returned 403 due to None\n"
     ]
    },
    {
     "name": "stdout",
     "output_type": "stream",
     "text": [
      "Error fetching features for track 5JKah0hlS14vCVhyXbMRmV: http status: 403, code:-1 - https://api.spotify.com/v1/audio-features/?ids=5JKah0hlS14vCVhyXbMRmV:\n",
      " None, reason: None\n",
      "Error fetching features for track 37Z0JtMr9BBTpD1TPClCY3: http status: 403, code:-1 - https://api.spotify.com/v1/audio-features/?ids=37Z0JtMr9BBTpD1TPClCY3:\n",
      " None, reason: None\n",
      "Error fetching features for track 1fnyJEbolobEfv2gtLVjmA: http status: 403, code:-1 - https://api.spotify.com/v1/audio-features/?ids=1fnyJEbolobEfv2gtLVjmA:\n",
      " None, reason: None\n"
     ]
    },
    {
     "name": "stderr",
     "output_type": "stream",
     "text": [
      "HTTP Error for GET to https://api.spotify.com/v1/audio-features/?ids=0GNq37PiMmflUA7uCnSh3W with Params: {} returned 403 due to None\n",
      "HTTP Error for GET to https://api.spotify.com/v1/audio-features/?ids=46bUtsNP0dxfcW1opo45VU with Params: {} returned 403 due to None\n",
      "HTTP Error for GET to https://api.spotify.com/v1/audio-features/?ids=26i54fXOWeA08Krvgwitxi with Params: {} returned 403 due to None\n",
      "HTTP Error for GET to https://api.spotify.com/v1/audio-features/?ids=2OtMj6EZp2KE39ONcoTcEu with Params: {} returned 403 due to None\n"
     ]
    },
    {
     "name": "stdout",
     "output_type": "stream",
     "text": [
      "Error fetching features for track 0GNq37PiMmflUA7uCnSh3W: http status: 403, code:-1 - https://api.spotify.com/v1/audio-features/?ids=0GNq37PiMmflUA7uCnSh3W:\n",
      " None, reason: None\n",
      "Error fetching features for track 46bUtsNP0dxfcW1opo45VU: http status: 403, code:-1 - https://api.spotify.com/v1/audio-features/?ids=46bUtsNP0dxfcW1opo45VU:\n",
      " None, reason: None\n",
      "Error fetching features for track 26i54fXOWeA08Krvgwitxi: http status: 403, code:-1 - https://api.spotify.com/v1/audio-features/?ids=26i54fXOWeA08Krvgwitxi:\n",
      " None, reason: None\n",
      "Error fetching features for track 2OtMj6EZp2KE39ONcoTcEu: http status: 403, code:-1 - https://api.spotify.com/v1/audio-features/?ids=2OtMj6EZp2KE39ONcoTcEu:\n",
      " None, reason: None\n"
     ]
    },
    {
     "name": "stderr",
     "output_type": "stream",
     "text": [
      "HTTP Error for GET to https://api.spotify.com/v1/audio-features/?ids=3E424W0IJS3ypZ4YOxE0Jn with Params: {} returned 403 due to None\n",
      "HTTP Error for GET to https://api.spotify.com/v1/audio-features/?ids=3G2I8KB7bTWmvE1tHSlMHg with Params: {} returned 403 due to None\n"
     ]
    },
    {
     "name": "stdout",
     "output_type": "stream",
     "text": [
      "Error fetching features for track 3E424W0IJS3ypZ4YOxE0Jn: http status: 403, code:-1 - https://api.spotify.com/v1/audio-features/?ids=3E424W0IJS3ypZ4YOxE0Jn:\n",
      " None, reason: None\n",
      "Error fetching features for track 3G2I8KB7bTWmvE1tHSlMHg: http status: 403, code:-1 - https://api.spotify.com/v1/audio-features/?ids=3G2I8KB7bTWmvE1tHSlMHg:\n",
      " None, reason: None\n"
     ]
    },
    {
     "name": "stderr",
     "output_type": "stream",
     "text": [
      "HTTP Error for GET to https://api.spotify.com/v1/audio-features/?ids=7Eva5WWy8l0MOg6QLMihYI with Params: {} returned 403 due to None\n",
      "HTTP Error for GET to https://api.spotify.com/v1/audio-features/?ids=1QQqHS80CpR8tA2lR8O65y with Params: {} returned 403 due to None\n"
     ]
    },
    {
     "name": "stdout",
     "output_type": "stream",
     "text": [
      "Processing batch 20 of 29\n",
      "Error fetching features for track 7Eva5WWy8l0MOg6QLMihYI: http status: 403, code:-1 - https://api.spotify.com/v1/audio-features/?ids=7Eva5WWy8l0MOg6QLMihYI:\n",
      " None, reason: None\n",
      "Error fetching features for track 1QQqHS80CpR8tA2lR8O65y: http status: 403, code:-1 - https://api.spotify.com/v1/audio-features/?ids=1QQqHS80CpR8tA2lR8O65y:\n",
      " None, reason: None\n"
     ]
    },
    {
     "name": "stderr",
     "output_type": "stream",
     "text": [
      "HTTP Error for GET to https://api.spotify.com/v1/audio-features/?ids=4gjFNGQ0BodNqiOAOAOMSW with Params: {} returned 403 due to None\n",
      "HTTP Error for GET to https://api.spotify.com/v1/audio-features/?ids=1HmW7N27GQItxBR5dTqjZy with Params: {} returned 403 due to None\n",
      "HTTP Error for GET to https://api.spotify.com/v1/audio-features/?ids=1HmW7N27GQItxBR5dTqjZy with Params: {} returned 403 due to None\n",
      "HTTP Error for GET to https://api.spotify.com/v1/audio-features/?ids=0FXXvePGfMxgENnXLpBc76 with Params: {} returned 403 due to None\n"
     ]
    },
    {
     "name": "stdout",
     "output_type": "stream",
     "text": [
      "Error fetching features for track 4gjFNGQ0BodNqiOAOAOMSW: http status: 403, code:-1 - https://api.spotify.com/v1/audio-features/?ids=4gjFNGQ0BodNqiOAOAOMSW:\n",
      " None, reason: None\n",
      "Error fetching features for track 1HmW7N27GQItxBR5dTqjZy: http status: 403, code:-1 - https://api.spotify.com/v1/audio-features/?ids=1HmW7N27GQItxBR5dTqjZy:\n",
      " None, reason: None\n",
      "Error fetching features for track 1HmW7N27GQItxBR5dTqjZy: http status: 403, code:-1 - https://api.spotify.com/v1/audio-features/?ids=1HmW7N27GQItxBR5dTqjZy:\n",
      " None, reason: None\n",
      "Error fetching features for track 0FXXvePGfMxgENnXLpBc76: http status: 403, code:-1 - https://api.spotify.com/v1/audio-features/?ids=0FXXvePGfMxgENnXLpBc76:\n",
      " None, reason: None\n"
     ]
    },
    {
     "name": "stderr",
     "output_type": "stream",
     "text": [
      "HTTP Error for GET to https://api.spotify.com/v1/audio-features/?ids=1EVQARwoReCwJXAZRg2twn with Params: {} returned 403 due to None\n",
      "HTTP Error for GET to https://api.spotify.com/v1/audio-features/?ids=4OvdhTOjq75CvPO6O7AWRw with Params: {} returned 403 due to None\n",
      "HTTP Error for GET to https://api.spotify.com/v1/audio-features/?ids=1HmW7N27GQItxBR5dTqjZy with Params: {} returned 403 due to None\n",
      "HTTP Error for GET to https://api.spotify.com/v1/audio-features/?ids=1HmW7N27GQItxBR5dTqjZy with Params: {} returned 403 due to None\n"
     ]
    },
    {
     "name": "stdout",
     "output_type": "stream",
     "text": [
      "Error fetching features for track 1EVQARwoReCwJXAZRg2twn: http status: 403, code:-1 - https://api.spotify.com/v1/audio-features/?ids=1EVQARwoReCwJXAZRg2twn:\n",
      " None, reason: None\n",
      "Error fetching features for track 4OvdhTOjq75CvPO6O7AWRw: http status: 403, code:-1 - https://api.spotify.com/v1/audio-features/?ids=4OvdhTOjq75CvPO6O7AWRw:\n",
      " None, reason: None\n",
      "Error fetching features for track 1HmW7N27GQItxBR5dTqjZy: http status: 403, code:-1 - https://api.spotify.com/v1/audio-features/?ids=1HmW7N27GQItxBR5dTqjZy:\n",
      " None, reason: None\n",
      "Error fetching features for track 1HmW7N27GQItxBR5dTqjZy: http status: 403, code:-1 - https://api.spotify.com/v1/audio-features/?ids=1HmW7N27GQItxBR5dTqjZy:\n",
      " None, reason: None\n"
     ]
    },
    {
     "name": "stderr",
     "output_type": "stream",
     "text": [
      "HTTP Error for GET to https://api.spotify.com/v1/audio-features/?ids=1HmW7N27GQItxBR5dTqjZy with Params: {} returned 403 due to None\n",
      "HTTP Error for GET to https://api.spotify.com/v1/audio-features/?ids=5BGnQWWgXLfuVdu0XTwMfb with Params: {} returned 403 due to None\n",
      "HTTP Error for GET to https://api.spotify.com/v1/audio-features/?ids=6z3p3Gm5FOH1n22ummzEh7 with Params: {} returned 403 due to None\n",
      "HTTP Error for GET to https://api.spotify.com/v1/audio-features/?ids=5T6yrJuKWnkCH2OlQsoO7z with Params: {} returned 403 due to None\n"
     ]
    },
    {
     "name": "stdout",
     "output_type": "stream",
     "text": [
      "Error fetching features for track 1HmW7N27GQItxBR5dTqjZy: http status: 403, code:-1 - https://api.spotify.com/v1/audio-features/?ids=1HmW7N27GQItxBR5dTqjZy:\n",
      " None, reason: None\n",
      "Error fetching features for track 5BGnQWWgXLfuVdu0XTwMfb: http status: 403, code:-1 - https://api.spotify.com/v1/audio-features/?ids=5BGnQWWgXLfuVdu0XTwMfb:\n",
      " None, reason: None\n",
      "Error fetching features for track 6z3p3Gm5FOH1n22ummzEh7: http status: 403, code:-1 - https://api.spotify.com/v1/audio-features/?ids=6z3p3Gm5FOH1n22ummzEh7:\n",
      " None, reason: None\n",
      "Error fetching features for track 5T6yrJuKWnkCH2OlQsoO7z: http status: 403, code:-1 - https://api.spotify.com/v1/audio-features/?ids=5T6yrJuKWnkCH2OlQsoO7z:\n",
      " None, reason: None\n"
     ]
    },
    {
     "name": "stderr",
     "output_type": "stream",
     "text": [
      "HTTP Error for GET to https://api.spotify.com/v1/audio-features/?ids=0cGPr1ahC0Lruu4AFBIvUd with Params: {} returned 403 due to None\n",
      "HTTP Error for GET to https://api.spotify.com/v1/audio-features/?ids=0cGPr1ahC0Lruu4AFBIvUd with Params: {} returned 403 due to None\n",
      "HTTP Error for GET to https://api.spotify.com/v1/audio-features/?ids=1HmW7N27GQItxBR5dTqjZy with Params: {} returned 403 due to None\n",
      "HTTP Error for GET to https://api.spotify.com/v1/audio-features/?ids=7wqNKCHh87HfIOGNgfyRCk with Params: {} returned 403 due to None\n"
     ]
    },
    {
     "name": "stdout",
     "output_type": "stream",
     "text": [
      "Error fetching features for track 0cGPr1ahC0Lruu4AFBIvUd: http status: 403, code:-1 - https://api.spotify.com/v1/audio-features/?ids=0cGPr1ahC0Lruu4AFBIvUd:\n",
      " None, reason: None\n",
      "Error fetching features for track 0cGPr1ahC0Lruu4AFBIvUd: http status: 403, code:-1 - https://api.spotify.com/v1/audio-features/?ids=0cGPr1ahC0Lruu4AFBIvUd:\n",
      " None, reason: None\n",
      "Error fetching features for track 1HmW7N27GQItxBR5dTqjZy: http status: 403, code:-1 - https://api.spotify.com/v1/audio-features/?ids=1HmW7N27GQItxBR5dTqjZy:\n",
      " None, reason: None\n",
      "Error fetching features for track 7wqNKCHh87HfIOGNgfyRCk: http status: 403, code:-1 - https://api.spotify.com/v1/audio-features/?ids=7wqNKCHh87HfIOGNgfyRCk:\n",
      " None, reason: None\n"
     ]
    },
    {
     "name": "stderr",
     "output_type": "stream",
     "text": [
      "HTTP Error for GET to https://api.spotify.com/v1/audio-features/?ids=1fGXJZny7HUQnLKwttxmYw with Params: {} returned 403 due to None\n",
      "HTTP Error for GET to https://api.spotify.com/v1/audio-features/?ids=0645eBDehHcqfiF15hscQV with Params: {} returned 403 due to None\n",
      "HTTP Error for GET to https://api.spotify.com/v1/audio-features/?ids=0gPgdRfB4jdGrlyXS0Vx78 with Params: {} returned 403 due to None\n",
      "HTTP Error for GET to https://api.spotify.com/v1/audio-features/?ids=0qVNxbFE4EUV3mNFodXiln with Params: {} returned 403 due to None\n"
     ]
    },
    {
     "name": "stdout",
     "output_type": "stream",
     "text": [
      "Error fetching features for track 1fGXJZny7HUQnLKwttxmYw: http status: 403, code:-1 - https://api.spotify.com/v1/audio-features/?ids=1fGXJZny7HUQnLKwttxmYw:\n",
      " None, reason: None\n",
      "Error fetching features for track 0645eBDehHcqfiF15hscQV: http status: 403, code:-1 - https://api.spotify.com/v1/audio-features/?ids=0645eBDehHcqfiF15hscQV:\n",
      " None, reason: None\n",
      "Error fetching features for track 0gPgdRfB4jdGrlyXS0Vx78: http status: 403, code:-1 - https://api.spotify.com/v1/audio-features/?ids=0gPgdRfB4jdGrlyXS0Vx78:\n",
      " None, reason: None\n",
      "Error fetching features for track 0qVNxbFE4EUV3mNFodXiln: http status: 403, code:-1 - https://api.spotify.com/v1/audio-features/?ids=0qVNxbFE4EUV3mNFodXiln:\n",
      " None, reason: None\n"
     ]
    },
    {
     "name": "stderr",
     "output_type": "stream",
     "text": [
      "HTTP Error for GET to https://api.spotify.com/v1/audio-features/?ids=2iNqdCchlUZEgjJbQyZf8T with Params: {} returned 403 due to None\n",
      "HTTP Error for GET to https://api.spotify.com/v1/audio-features/?ids=2S6N9pbnkhQRyAx80HmF79 with Params: {} returned 403 due to None\n",
      "HTTP Error for GET to https://api.spotify.com/v1/audio-features/?ids=78KKYDENYsw6jYfuEZsqJl with Params: {} returned 403 due to None\n",
      "HTTP Error for GET to https://api.spotify.com/v1/audio-features/?ids=4tBMbRwLJa5BjwJ6FrBlks with Params: {} returned 403 due to None\n"
     ]
    },
    {
     "name": "stdout",
     "output_type": "stream",
     "text": [
      "Error fetching features for track 2iNqdCchlUZEgjJbQyZf8T: http status: 403, code:-1 - https://api.spotify.com/v1/audio-features/?ids=2iNqdCchlUZEgjJbQyZf8T:\n",
      " None, reason: None\n",
      "Error fetching features for track 2S6N9pbnkhQRyAx80HmF79: http status: 403, code:-1 - https://api.spotify.com/v1/audio-features/?ids=2S6N9pbnkhQRyAx80HmF79:\n",
      " None, reason: None\n",
      "Error fetching features for track 78KKYDENYsw6jYfuEZsqJl: http status: 403, code:-1 - https://api.spotify.com/v1/audio-features/?ids=78KKYDENYsw6jYfuEZsqJl:\n",
      " None, reason: None\n",
      "Error fetching features for track 4tBMbRwLJa5BjwJ6FrBlks: http status: 403, code:-1 - https://api.spotify.com/v1/audio-features/?ids=4tBMbRwLJa5BjwJ6FrBlks:\n",
      " None, reason: None\n"
     ]
    },
    {
     "name": "stderr",
     "output_type": "stream",
     "text": [
      "HTTP Error for GET to https://api.spotify.com/v1/audio-features/?ids=6GQK4G5o60E8YA18DGpAzv with Params: {} returned 403 due to None\n",
      "HTTP Error for GET to https://api.spotify.com/v1/audio-features/?ids=3qrdLVOClRU4yPkcXZ7c5u with Params: {} returned 403 due to None\n",
      "HTTP Error for GET to https://api.spotify.com/v1/audio-features/?ids=1ZaeaGLhFSckG8sv1y7AWk with Params: {} returned 403 due to None\n"
     ]
    },
    {
     "name": "stdout",
     "output_type": "stream",
     "text": [
      "Error fetching features for track 6GQK4G5o60E8YA18DGpAzv: http status: 403, code:-1 - https://api.spotify.com/v1/audio-features/?ids=6GQK4G5o60E8YA18DGpAzv:\n",
      " None, reason: None\n",
      "Error fetching features for track 3qrdLVOClRU4yPkcXZ7c5u: http status: 403, code:-1 - https://api.spotify.com/v1/audio-features/?ids=3qrdLVOClRU4yPkcXZ7c5u:\n",
      " None, reason: None\n",
      "Error fetching features for track 1ZaeaGLhFSckG8sv1y7AWk: http status: 403, code:-1 - https://api.spotify.com/v1/audio-features/?ids=1ZaeaGLhFSckG8sv1y7AWk:\n",
      " None, reason: None\n"
     ]
    },
    {
     "name": "stderr",
     "output_type": "stream",
     "text": [
      "HTTP Error for GET to https://api.spotify.com/v1/audio-features/?ids=4ZVfIGaZP93t0stmBj4FqA with Params: {} returned 403 due to None\n",
      "HTTP Error for GET to https://api.spotify.com/v1/audio-features/?ids=5DyYcwMw0f6z3FefXNLOHv with Params: {} returned 403 due to None\n",
      "HTTP Error for GET to https://api.spotify.com/v1/audio-features/?ids=0dJacN6K3mSGLE9p7QE0lO with Params: {} returned 403 due to None\n"
     ]
    },
    {
     "name": "stdout",
     "output_type": "stream",
     "text": [
      "Error fetching features for track 4ZVfIGaZP93t0stmBj4FqA: http status: 403, code:-1 - https://api.spotify.com/v1/audio-features/?ids=4ZVfIGaZP93t0stmBj4FqA:\n",
      " None, reason: None\n",
      "Error fetching features for track 5DyYcwMw0f6z3FefXNLOHv: http status: 403, code:-1 - https://api.spotify.com/v1/audio-features/?ids=5DyYcwMw0f6z3FefXNLOHv:\n",
      " None, reason: None\n",
      "Error fetching features for track 0dJacN6K3mSGLE9p7QE0lO: http status: 403, code:-1 - https://api.spotify.com/v1/audio-features/?ids=0dJacN6K3mSGLE9p7QE0lO:\n",
      " None, reason: None\n"
     ]
    },
    {
     "name": "stderr",
     "output_type": "stream",
     "text": [
      "HTTP Error for GET to https://api.spotify.com/v1/audio-features/?ids=0dZjWF8uklfNUHiPS2vC6E with Params: {} returned 403 due to None\n",
      "HTTP Error for GET to https://api.spotify.com/v1/audio-features/?ids=6512hyAQxOng8v4R71IV47 with Params: {} returned 403 due to None\n",
      "HTTP Error for GET to https://api.spotify.com/v1/audio-features/?ids=1ZpsPt7Ayxhd35QXHdLGEY with Params: {} returned 403 due to None\n",
      "HTTP Error for GET to https://api.spotify.com/v1/audio-features/?ids=7cMYs2LIf8YNqegnr0svwh with Params: {} returned 403 due to None\n"
     ]
    },
    {
     "name": "stdout",
     "output_type": "stream",
     "text": [
      "Error fetching features for track 0dZjWF8uklfNUHiPS2vC6E: http status: 403, code:-1 - https://api.spotify.com/v1/audio-features/?ids=0dZjWF8uklfNUHiPS2vC6E:\n",
      " None, reason: None\n",
      "Error fetching features for track 6512hyAQxOng8v4R71IV47: http status: 403, code:-1 - https://api.spotify.com/v1/audio-features/?ids=6512hyAQxOng8v4R71IV47:\n",
      " None, reason: None\n",
      "Error fetching features for track 1ZpsPt7Ayxhd35QXHdLGEY: http status: 403, code:-1 - https://api.spotify.com/v1/audio-features/?ids=1ZpsPt7Ayxhd35QXHdLGEY:\n",
      " None, reason: None\n",
      "Error fetching features for track 7cMYs2LIf8YNqegnr0svwh: http status: 403, code:-1 - https://api.spotify.com/v1/audio-features/?ids=7cMYs2LIf8YNqegnr0svwh:\n",
      " None, reason: None\n"
     ]
    },
    {
     "name": "stderr",
     "output_type": "stream",
     "text": [
      "HTTP Error for GET to https://api.spotify.com/v1/audio-features/?ids=7s6yy0SWZ4rluoQZsvJa2D with Params: {} returned 403 due to None\n",
      "HTTP Error for GET to https://api.spotify.com/v1/audio-features/?ids=7atOebyeANuCZsGhm33YLd with Params: {} returned 403 due to None\n",
      "HTTP Error for GET to https://api.spotify.com/v1/audio-features/?ids=6K0Ea7pq2trf6SwsfEKkOp with Params: {} returned 403 due to None\n"
     ]
    },
    {
     "name": "stdout",
     "output_type": "stream",
     "text": [
      "Error fetching features for track 7s6yy0SWZ4rluoQZsvJa2D: http status: 403, code:-1 - https://api.spotify.com/v1/audio-features/?ids=7s6yy0SWZ4rluoQZsvJa2D:\n",
      " None, reason: None\n",
      "Error fetching features for track 7atOebyeANuCZsGhm33YLd: http status: 403, code:-1 - https://api.spotify.com/v1/audio-features/?ids=7atOebyeANuCZsGhm33YLd:\n",
      " None, reason: None\n",
      "Error fetching features for track 6K0Ea7pq2trf6SwsfEKkOp: http status: 403, code:-1 - https://api.spotify.com/v1/audio-features/?ids=6K0Ea7pq2trf6SwsfEKkOp:\n",
      " None, reason: None\n"
     ]
    },
    {
     "name": "stderr",
     "output_type": "stream",
     "text": [
      "HTTP Error for GET to https://api.spotify.com/v1/audio-features/?ids=1sxh0eqIb8ulYypPuq6ZRu with Params: {} returned 403 due to None\n",
      "HTTP Error for GET to https://api.spotify.com/v1/audio-features/?ids=4sKISeqmcPixT0rim339VH with Params: {} returned 403 due to None\n",
      "HTTP Error for GET to https://api.spotify.com/v1/audio-features/?ids=7kz0NubU5M4k9kdARMBlFK with Params: {} returned 403 due to None\n",
      "HTTP Error for GET to https://api.spotify.com/v1/audio-features/?ids=1qTh7hzjd361hjuzeaMFWK with Params: {} returned 403 due to None\n"
     ]
    },
    {
     "name": "stdout",
     "output_type": "stream",
     "text": [
      "Error fetching features for track 1sxh0eqIb8ulYypPuq6ZRu: http status: 403, code:-1 - https://api.spotify.com/v1/audio-features/?ids=1sxh0eqIb8ulYypPuq6ZRu:\n",
      " None, reason: None\n",
      "Error fetching features for track 4sKISeqmcPixT0rim339VH: http status: 403, code:-1 - https://api.spotify.com/v1/audio-features/?ids=4sKISeqmcPixT0rim339VH:\n",
      " None, reason: None\n",
      "Error fetching features for track 7kz0NubU5M4k9kdARMBlFK: http status: 403, code:-1 - https://api.spotify.com/v1/audio-features/?ids=7kz0NubU5M4k9kdARMBlFK:\n",
      " None, reason: None\n",
      "Error fetching features for track 1qTh7hzjd361hjuzeaMFWK: http status: 403, code:-1 - https://api.spotify.com/v1/audio-features/?ids=1qTh7hzjd361hjuzeaMFWK:\n",
      " None, reason: None\n"
     ]
    },
    {
     "name": "stderr",
     "output_type": "stream",
     "text": [
      "HTTP Error for GET to https://api.spotify.com/v1/audio-features/?ids=5DyYcwMw0f6z3FefXNLOHv with Params: {} returned 403 due to None\n",
      "HTTP Error for GET to https://api.spotify.com/v1/audio-features/?ids=4gqHEia13bp5EFWGitiKWx with Params: {} returned 403 due to None\n",
      "HTTP Error for GET to https://api.spotify.com/v1/audio-features/?ids=0mboVyI4R4MPH23yceAMz3 with Params: {} returned 403 due to None\n",
      "HTTP Error for GET to https://api.spotify.com/v1/audio-features/?ids=45PA9lW7U5LYnlpGrdTyHY with Params: {} returned 403 due to None\n"
     ]
    },
    {
     "name": "stdout",
     "output_type": "stream",
     "text": [
      "Error fetching features for track 5DyYcwMw0f6z3FefXNLOHv: http status: 403, code:-1 - https://api.spotify.com/v1/audio-features/?ids=5DyYcwMw0f6z3FefXNLOHv:\n",
      " None, reason: None\n",
      "Error fetching features for track 4gqHEia13bp5EFWGitiKWx: http status: 403, code:-1 - https://api.spotify.com/v1/audio-features/?ids=4gqHEia13bp5EFWGitiKWx:\n",
      " None, reason: None\n",
      "Error fetching features for track 0mboVyI4R4MPH23yceAMz3: http status: 403, code:-1 - https://api.spotify.com/v1/audio-features/?ids=0mboVyI4R4MPH23yceAMz3:\n",
      " None, reason: None\n",
      "Error fetching features for track 45PA9lW7U5LYnlpGrdTyHY: http status: 403, code:-1 - https://api.spotify.com/v1/audio-features/?ids=45PA9lW7U5LYnlpGrdTyHY:\n",
      " None, reason: None\n"
     ]
    },
    {
     "name": "stderr",
     "output_type": "stream",
     "text": [
      "HTTP Error for GET to https://api.spotify.com/v1/audio-features/?ids=2Z6HgNji9cNlFLNORw6wDQ with Params: {} returned 403 due to None\n",
      "HTTP Error for GET to https://api.spotify.com/v1/audio-features/?ids=6mTvwBzWTGDOVeCNQEqtOE with Params: {} returned 403 due to None\n",
      "HTTP Error for GET to https://api.spotify.com/v1/audio-features/?ids=1QufGJee7k9v4Cfp2NxXbv with Params: {} returned 403 due to None\n"
     ]
    },
    {
     "name": "stdout",
     "output_type": "stream",
     "text": [
      "Error fetching features for track 2Z6HgNji9cNlFLNORw6wDQ: http status: 403, code:-1 - https://api.spotify.com/v1/audio-features/?ids=2Z6HgNji9cNlFLNORw6wDQ:\n",
      " None, reason: None\n",
      "Error fetching features for track 6mTvwBzWTGDOVeCNQEqtOE: http status: 403, code:-1 - https://api.spotify.com/v1/audio-features/?ids=6mTvwBzWTGDOVeCNQEqtOE:\n",
      " None, reason: None\n",
      "Error fetching features for track 1QufGJee7k9v4Cfp2NxXbv: http status: 403, code:-1 - https://api.spotify.com/v1/audio-features/?ids=1QufGJee7k9v4Cfp2NxXbv:\n",
      " None, reason: None\n"
     ]
    },
    {
     "name": "stderr",
     "output_type": "stream",
     "text": [
      "HTTP Error for GET to https://api.spotify.com/v1/audio-features/?ids=0VXBujZKMLLlmee25BXEQs with Params: {} returned 403 due to None\n",
      "HTTP Error for GET to https://api.spotify.com/v1/audio-features/?ids=7H3mfOvtPNA8YDF3EdKy0L with Params: {} returned 403 due to None\n",
      "HTTP Error for GET to https://api.spotify.com/v1/audio-features/?ids=2RgvvnMwtP0R2OkVZmFvnV with Params: {} returned 403 due to None\n"
     ]
    },
    {
     "name": "stdout",
     "output_type": "stream",
     "text": [
      "Processing batch 21 of 29\n",
      "Error fetching features for track 0VXBujZKMLLlmee25BXEQs: http status: 403, code:-1 - https://api.spotify.com/v1/audio-features/?ids=0VXBujZKMLLlmee25BXEQs:\n",
      " None, reason: None\n",
      "Error fetching features for track 7H3mfOvtPNA8YDF3EdKy0L: http status: 403, code:-1 - https://api.spotify.com/v1/audio-features/?ids=7H3mfOvtPNA8YDF3EdKy0L:\n",
      " None, reason: None\n",
      "Error fetching features for track 2RgvvnMwtP0R2OkVZmFvnV: http status: 403, code:-1 - https://api.spotify.com/v1/audio-features/?ids=2RgvvnMwtP0R2OkVZmFvnV:\n",
      " None, reason: None\n"
     ]
    },
    {
     "name": "stderr",
     "output_type": "stream",
     "text": [
      "HTTP Error for GET to https://api.spotify.com/v1/audio-features/?ids=5BGnQWWgXLfuVdu0XTwMfb with Params: {} returned 403 due to None\n",
      "HTTP Error for GET to https://api.spotify.com/v1/audio-features/?ids=1SJtlNRJDeYHioymcvsqev with Params: {} returned 403 due to None\n",
      "HTTP Error for GET to https://api.spotify.com/v1/audio-features/?ids=6z3p3Gm5FOH1n22ummzEh7 with Params: {} returned 403 due to None\n",
      "HTTP Error for GET to https://api.spotify.com/v1/audio-features/?ids=5BGnQWWgXLfuVdu0XTwMfb with Params: {} returned 403 due to None\n"
     ]
    },
    {
     "name": "stdout",
     "output_type": "stream",
     "text": [
      "Error fetching features for track 5BGnQWWgXLfuVdu0XTwMfb: http status: 403, code:-1 - https://api.spotify.com/v1/audio-features/?ids=5BGnQWWgXLfuVdu0XTwMfb:\n",
      " None, reason: None\n",
      "Error fetching features for track 1SJtlNRJDeYHioymcvsqev: http status: 403, code:-1 - https://api.spotify.com/v1/audio-features/?ids=1SJtlNRJDeYHioymcvsqev:\n",
      " None, reason: None\n",
      "Error fetching features for track 6z3p3Gm5FOH1n22ummzEh7: http status: 403, code:-1 - https://api.spotify.com/v1/audio-features/?ids=6z3p3Gm5FOH1n22ummzEh7:\n",
      " None, reason: None\n",
      "Error fetching features for track 5BGnQWWgXLfuVdu0XTwMfb: http status: 403, code:-1 - https://api.spotify.com/v1/audio-features/?ids=5BGnQWWgXLfuVdu0XTwMfb:\n",
      " None, reason: None\n"
     ]
    },
    {
     "name": "stderr",
     "output_type": "stream",
     "text": [
      "HTTP Error for GET to https://api.spotify.com/v1/audio-features/?ids=7v3JXk7btgu4DXTQlaBgQS with Params: {} returned 403 due to None\n",
      "HTTP Error for GET to https://api.spotify.com/v1/audio-features/?ids=3hQr2XuxfJMdSH7mlXDzpJ with Params: {} returned 403 due to None\n",
      "HTTP Error for GET to https://api.spotify.com/v1/audio-features/?ids=5iklpTGssrHjmbFdjIHtOo with Params: {} returned 403 due to None\n",
      "HTTP Error for GET to https://api.spotify.com/v1/audio-features/?ids=1uHd2tBRzotyWUS3iQeDN7 with Params: {} returned 403 due to None\n"
     ]
    },
    {
     "name": "stdout",
     "output_type": "stream",
     "text": [
      "Error fetching features for track 7v3JXk7btgu4DXTQlaBgQS: http status: 403, code:-1 - https://api.spotify.com/v1/audio-features/?ids=7v3JXk7btgu4DXTQlaBgQS:\n",
      " None, reason: None\n",
      "Error fetching features for track 3hQr2XuxfJMdSH7mlXDzpJ: http status: 403, code:-1 - https://api.spotify.com/v1/audio-features/?ids=3hQr2XuxfJMdSH7mlXDzpJ:\n",
      " None, reason: None\n",
      "Error fetching features for track 5iklpTGssrHjmbFdjIHtOo: http status: 403, code:-1 - https://api.spotify.com/v1/audio-features/?ids=5iklpTGssrHjmbFdjIHtOo:\n",
      " None, reason: None\n",
      "Error fetching features for track 1uHd2tBRzotyWUS3iQeDN7: http status: 403, code:-1 - https://api.spotify.com/v1/audio-features/?ids=1uHd2tBRzotyWUS3iQeDN7:\n",
      " None, reason: None\n"
     ]
    },
    {
     "name": "stderr",
     "output_type": "stream",
     "text": [
      "HTTP Error for GET to https://api.spotify.com/v1/audio-features/?ids=723xQva0yBF7M6K3nDAG8R with Params: {} returned 403 due to None\n",
      "HTTP Error for GET to https://api.spotify.com/v1/audio-features/?ids=3YBGLlnnKgbgREFUAAlMW7 with Params: {} returned 403 due to None\n",
      "HTTP Error for GET to https://api.spotify.com/v1/audio-features/?ids=61IEe4ujPKOU7OIyubydfz with Params: {} returned 403 due to None\n",
      "HTTP Error for GET to https://api.spotify.com/v1/audio-features/?ids=6UAnHdKaYxxJYAilFEwIF1 with Params: {} returned 403 due to None\n"
     ]
    },
    {
     "name": "stdout",
     "output_type": "stream",
     "text": [
      "Error fetching features for track 723xQva0yBF7M6K3nDAG8R: http status: 403, code:-1 - https://api.spotify.com/v1/audio-features/?ids=723xQva0yBF7M6K3nDAG8R:\n",
      " None, reason: None\n",
      "Error fetching features for track 3YBGLlnnKgbgREFUAAlMW7: http status: 403, code:-1 - https://api.spotify.com/v1/audio-features/?ids=3YBGLlnnKgbgREFUAAlMW7:\n",
      " None, reason: None\n",
      "Error fetching features for track 61IEe4ujPKOU7OIyubydfz: http status: 403, code:-1 - https://api.spotify.com/v1/audio-features/?ids=61IEe4ujPKOU7OIyubydfz:\n",
      " None, reason: None\n",
      "Error fetching features for track 6UAnHdKaYxxJYAilFEwIF1: http status: 403, code:-1 - https://api.spotify.com/v1/audio-features/?ids=6UAnHdKaYxxJYAilFEwIF1:\n",
      " None, reason: None\n"
     ]
    },
    {
     "name": "stderr",
     "output_type": "stream",
     "text": [
      "HTTP Error for GET to https://api.spotify.com/v1/audio-features/?ids=50VtctorZYmu3LlBlesII2 with Params: {} returned 403 due to None\n",
      "HTTP Error for GET to https://api.spotify.com/v1/audio-features/?ids=4gjFNGQ0BodNqiOAOAOMSW with Params: {} returned 403 due to None\n",
      "HTTP Error for GET to https://api.spotify.com/v1/audio-features/?ids=4ZffnUdAzNy5HvcO3rphIP with Params: {} returned 403 due to None\n"
     ]
    },
    {
     "name": "stdout",
     "output_type": "stream",
     "text": [
      "Error fetching features for track 50VtctorZYmu3LlBlesII2: http status: 403, code:-1 - https://api.spotify.com/v1/audio-features/?ids=50VtctorZYmu3LlBlesII2:\n",
      " None, reason: None\n",
      "Error fetching features for track 4gjFNGQ0BodNqiOAOAOMSW: http status: 403, code:-1 - https://api.spotify.com/v1/audio-features/?ids=4gjFNGQ0BodNqiOAOAOMSW:\n",
      " None, reason: None\n",
      "Error fetching features for track 4ZffnUdAzNy5HvcO3rphIP: http status: 403, code:-1 - https://api.spotify.com/v1/audio-features/?ids=4ZffnUdAzNy5HvcO3rphIP:\n",
      " None, reason: None\n"
     ]
    },
    {
     "name": "stderr",
     "output_type": "stream",
     "text": [
      "HTTP Error for GET to https://api.spotify.com/v1/audio-features/?ids=3oOS9fuJ4tfu533xytOGLt with Params: {} returned 403 due to None\n",
      "HTTP Error for GET to https://api.spotify.com/v1/audio-features/?ids=6qNyL8lZuqFmy9ginJRQOZ with Params: {} returned 403 due to None\n",
      "HTTP Error for GET to https://api.spotify.com/v1/audio-features/?ids=7p2W7iKU4QZG1aNYklzusD with Params: {} returned 403 due to None\n",
      "HTTP Error for GET to https://api.spotify.com/v1/audio-features/?ids=6fABlNfAOylt7ZxfX8K1XL with Params: {} returned 403 due to None\n"
     ]
    },
    {
     "name": "stdout",
     "output_type": "stream",
     "text": [
      "Error fetching features for track 3oOS9fuJ4tfu533xytOGLt: http status: 403, code:-1 - https://api.spotify.com/v1/audio-features/?ids=3oOS9fuJ4tfu533xytOGLt:\n",
      " None, reason: None\n",
      "Error fetching features for track 6qNyL8lZuqFmy9ginJRQOZ: http status: 403, code:-1 - https://api.spotify.com/v1/audio-features/?ids=6qNyL8lZuqFmy9ginJRQOZ:\n",
      " None, reason: None\n",
      "Error fetching features for track 7p2W7iKU4QZG1aNYklzusD: http status: 403, code:-1 - https://api.spotify.com/v1/audio-features/?ids=7p2W7iKU4QZG1aNYklzusD:\n",
      " None, reason: None\n",
      "Error fetching features for track 6fABlNfAOylt7ZxfX8K1XL: http status: 403, code:-1 - https://api.spotify.com/v1/audio-features/?ids=6fABlNfAOylt7ZxfX8K1XL:\n",
      " None, reason: None\n"
     ]
    },
    {
     "name": "stderr",
     "output_type": "stream",
     "text": [
      "HTTP Error for GET to https://api.spotify.com/v1/audio-features/?ids=10iMTKzNp9b3DCEFfQIFTp with Params: {} returned 403 due to None\n",
      "HTTP Error for GET to https://api.spotify.com/v1/audio-features/?ids=5IIoQg5A7agXCksmdRLX7i with Params: {} returned 403 due to None\n",
      "HTTP Error for GET to https://api.spotify.com/v1/audio-features/?ids=0cGPr1ahC0Lruu4AFBIvUd with Params: {} returned 403 due to None\n",
      "HTTP Error for GET to https://api.spotify.com/v1/audio-features/?ids=12cK3COq4z4MwaZyjc51zX with Params: {} returned 403 due to None\n"
     ]
    },
    {
     "name": "stdout",
     "output_type": "stream",
     "text": [
      "Error fetching features for track 10iMTKzNp9b3DCEFfQIFTp: http status: 403, code:-1 - https://api.spotify.com/v1/audio-features/?ids=10iMTKzNp9b3DCEFfQIFTp:\n",
      " None, reason: None\n",
      "Error fetching features for track 5IIoQg5A7agXCksmdRLX7i: http status: 403, code:-1 - https://api.spotify.com/v1/audio-features/?ids=5IIoQg5A7agXCksmdRLX7i:\n",
      " None, reason: None\n",
      "Error fetching features for track 0cGPr1ahC0Lruu4AFBIvUd: http status: 403, code:-1 - https://api.spotify.com/v1/audio-features/?ids=0cGPr1ahC0Lruu4AFBIvUd:\n",
      " None, reason: None\n",
      "Error fetching features for track 12cK3COq4z4MwaZyjc51zX: http status: 403, code:-1 - https://api.spotify.com/v1/audio-features/?ids=12cK3COq4z4MwaZyjc51zX:\n",
      " None, reason: None\n"
     ]
    },
    {
     "name": "stderr",
     "output_type": "stream",
     "text": [
      "HTTP Error for GET to https://api.spotify.com/v1/audio-features/?ids=2U6bhVBXGP2iTufLWSaKZR with Params: {} returned 403 due to None\n",
      "HTTP Error for GET to https://api.spotify.com/v1/audio-features/?ids=2hykXvjXceH1wGiJErDJjj with Params: {} returned 403 due to None\n",
      "HTTP Error for GET to https://api.spotify.com/v1/audio-features/?ids=4ViWr3p2fbaLBcejEgxNbb with Params: {} returned 403 due to None\n",
      "HTTP Error for GET to https://api.spotify.com/v1/audio-features/?ids=4gjFNGQ0BodNqiOAOAOMSW with Params: {} returned 403 due to None\n"
     ]
    },
    {
     "name": "stdout",
     "output_type": "stream",
     "text": [
      "Error fetching features for track 2U6bhVBXGP2iTufLWSaKZR: http status: 403, code:-1 - https://api.spotify.com/v1/audio-features/?ids=2U6bhVBXGP2iTufLWSaKZR:\n",
      " None, reason: None\n",
      "Error fetching features for track 2hykXvjXceH1wGiJErDJjj: http status: 403, code:-1 - https://api.spotify.com/v1/audio-features/?ids=2hykXvjXceH1wGiJErDJjj:\n",
      " None, reason: None\n",
      "Error fetching features for track 4ViWr3p2fbaLBcejEgxNbb: http status: 403, code:-1 - https://api.spotify.com/v1/audio-features/?ids=4ViWr3p2fbaLBcejEgxNbb:\n",
      " None, reason: None\n",
      "Error fetching features for track 4gjFNGQ0BodNqiOAOAOMSW: http status: 403, code:-1 - https://api.spotify.com/v1/audio-features/?ids=4gjFNGQ0BodNqiOAOAOMSW:\n",
      " None, reason: None\n"
     ]
    },
    {
     "name": "stderr",
     "output_type": "stream",
     "text": [
      "HTTP Error for GET to https://api.spotify.com/v1/audio-features/?ids=4ePEjnKNSifPi60lYnJvoK with Params: {} returned 403 due to None\n",
      "HTTP Error for GET to https://api.spotify.com/v1/audio-features/?ids=1uHd2tBRzotyWUS3iQeDN7 with Params: {} returned 403 due to None\n",
      "HTTP Error for GET to https://api.spotify.com/v1/audio-features/?ids=7v6kXbTvpHbhq5LHruy0xV with Params: {} returned 403 due to None\n"
     ]
    },
    {
     "name": "stdout",
     "output_type": "stream",
     "text": [
      "Error fetching features for track 4ePEjnKNSifPi60lYnJvoK: http status: 403, code:-1 - https://api.spotify.com/v1/audio-features/?ids=4ePEjnKNSifPi60lYnJvoK:\n",
      " None, reason: None\n",
      "Error fetching features for track 1uHd2tBRzotyWUS3iQeDN7: http status: 403, code:-1 - https://api.spotify.com/v1/audio-features/?ids=1uHd2tBRzotyWUS3iQeDN7:\n",
      " None, reason: None\n",
      "Error fetching features for track 7v6kXbTvpHbhq5LHruy0xV: http status: 403, code:-1 - https://api.spotify.com/v1/audio-features/?ids=7v6kXbTvpHbhq5LHruy0xV:\n",
      " None, reason: None\n"
     ]
    },
    {
     "name": "stderr",
     "output_type": "stream",
     "text": [
      "HTTP Error for GET to https://api.spotify.com/v1/audio-features/?ids=5mkLx3WvzQd6DflyamDOGz with Params: {} returned 403 due to None\n",
      "HTTP Error for GET to https://api.spotify.com/v1/audio-features/?ids=6d13KGoCX7FlpxQdfjcs7b with Params: {} returned 403 due to None\n",
      "HTTP Error for GET to https://api.spotify.com/v1/audio-features/?ids=41TPQOdEjRE2jqWs1n7wEW with Params: {} returned 403 due to None\n",
      "HTTP Error for GET to https://api.spotify.com/v1/audio-features/?ids=39bx4zZrPxTjw8VNuvjt6X with Params: {} returned 403 due to None\n"
     ]
    },
    {
     "name": "stdout",
     "output_type": "stream",
     "text": [
      "Error fetching features for track 5mkLx3WvzQd6DflyamDOGz: http status: 403, code:-1 - https://api.spotify.com/v1/audio-features/?ids=5mkLx3WvzQd6DflyamDOGz:\n",
      " None, reason: None\n",
      "Error fetching features for track 6d13KGoCX7FlpxQdfjcs7b: http status: 403, code:-1 - https://api.spotify.com/v1/audio-features/?ids=6d13KGoCX7FlpxQdfjcs7b:\n",
      " None, reason: None\n",
      "Error fetching features for track 41TPQOdEjRE2jqWs1n7wEW: http status: 403, code:-1 - https://api.spotify.com/v1/audio-features/?ids=41TPQOdEjRE2jqWs1n7wEW:\n",
      " None, reason: None\n",
      "Error fetching features for track 39bx4zZrPxTjw8VNuvjt6X: http status: 403, code:-1 - https://api.spotify.com/v1/audio-features/?ids=39bx4zZrPxTjw8VNuvjt6X:\n",
      " None, reason: None\n"
     ]
    },
    {
     "name": "stderr",
     "output_type": "stream",
     "text": [
      "HTTP Error for GET to https://api.spotify.com/v1/audio-features/?ids=1ZpsPt7Ayxhd35QXHdLGEY with Params: {} returned 403 due to None\n",
      "HTTP Error for GET to https://api.spotify.com/v1/audio-features/?ids=7nY0GX6LDCPc0aBMTEO1cR with Params: {} returned 403 due to None\n",
      "HTTP Error for GET to https://api.spotify.com/v1/audio-features/?ids=5q0pLxhyHvZXnYxaygt2Az with Params: {} returned 403 due to None\n",
      "HTTP Error for GET to https://api.spotify.com/v1/audio-features/?ids=5q0pLxhyHvZXnYxaygt2Az with Params: {} returned 403 due to None\n"
     ]
    },
    {
     "name": "stdout",
     "output_type": "stream",
     "text": [
      "Error fetching features for track 1ZpsPt7Ayxhd35QXHdLGEY: http status: 403, code:-1 - https://api.spotify.com/v1/audio-features/?ids=1ZpsPt7Ayxhd35QXHdLGEY:\n",
      " None, reason: None\n",
      "Error fetching features for track 7nY0GX6LDCPc0aBMTEO1cR: http status: 403, code:-1 - https://api.spotify.com/v1/audio-features/?ids=7nY0GX6LDCPc0aBMTEO1cR:\n",
      " None, reason: None\n",
      "Error fetching features for track 5q0pLxhyHvZXnYxaygt2Az: http status: 403, code:-1 - https://api.spotify.com/v1/audio-features/?ids=5q0pLxhyHvZXnYxaygt2Az:\n",
      " None, reason: None\n",
      "Error fetching features for track 5q0pLxhyHvZXnYxaygt2Az: http status: 403, code:-1 - https://api.spotify.com/v1/audio-features/?ids=5q0pLxhyHvZXnYxaygt2Az:\n",
      " None, reason: None\n"
     ]
    },
    {
     "name": "stderr",
     "output_type": "stream",
     "text": [
      "HTTP Error for GET to https://api.spotify.com/v1/audio-features/?ids=1hQia6rxgfM1ly2hE3StWp with Params: {} returned 403 due to None\n",
      "HTTP Error for GET to https://api.spotify.com/v1/audio-features/?ids=6z3p3Gm5FOH1n22ummzEh7 with Params: {} returned 403 due to None\n",
      "HTTP Error for GET to https://api.spotify.com/v1/audio-features/?ids=2RgvvnMwtP0R2OkVZmFvnV with Params: {} returned 403 due to None\n",
      "HTTP Error for GET to https://api.spotify.com/v1/audio-features/?ids=2U6bhVBXGP2iTufLWSaKZR with Params: {} returned 403 due to None\n"
     ]
    },
    {
     "name": "stdout",
     "output_type": "stream",
     "text": [
      "Error fetching features for track 1hQia6rxgfM1ly2hE3StWp: http status: 403, code:-1 - https://api.spotify.com/v1/audio-features/?ids=1hQia6rxgfM1ly2hE3StWp:\n",
      " None, reason: None\n",
      "Error fetching features for track 6z3p3Gm5FOH1n22ummzEh7: http status: 403, code:-1 - https://api.spotify.com/v1/audio-features/?ids=6z3p3Gm5FOH1n22ummzEh7:\n",
      " None, reason: None\n",
      "Error fetching features for track 2RgvvnMwtP0R2OkVZmFvnV: http status: 403, code:-1 - https://api.spotify.com/v1/audio-features/?ids=2RgvvnMwtP0R2OkVZmFvnV:\n",
      " None, reason: None\n",
      "Error fetching features for track 2U6bhVBXGP2iTufLWSaKZR: http status: 403, code:-1 - https://api.spotify.com/v1/audio-features/?ids=2U6bhVBXGP2iTufLWSaKZR:\n",
      " None, reason: None\n"
     ]
    },
    {
     "name": "stderr",
     "output_type": "stream",
     "text": [
      "HTTP Error for GET to https://api.spotify.com/v1/audio-features/?ids=6BJxQbKyQSdBOBIuW5TTmi with Params: {} returned 403 due to None\n",
      "HTTP Error for GET to https://api.spotify.com/v1/audio-features/?ids=26VnEKps0l0JWIrdx2E62G with Params: {} returned 403 due to None\n"
     ]
    },
    {
     "name": "stdout",
     "output_type": "stream",
     "text": [
      "Error fetching features for track 6BJxQbKyQSdBOBIuW5TTmi: http status: 403, code:-1 - https://api.spotify.com/v1/audio-features/?ids=6BJxQbKyQSdBOBIuW5TTmi:\n",
      " None, reason: None\n"
     ]
    },
    {
     "name": "stderr",
     "output_type": "stream",
     "text": [
      "HTTP Error for GET to https://api.spotify.com/v1/audio-features/?ids=26VnEKps0l0JWIrdx2E62G with Params: {} returned 403 due to None\n",
      "HTTP Error for GET to https://api.spotify.com/v1/audio-features/?ids=2cYVtBHkrkk7F2qU2Y7Fn0 with Params: {} returned 403 due to None\n",
      "HTTP Error for GET to https://api.spotify.com/v1/audio-features/?ids=6UEhNvccAc4OyEDJYB5brb with Params: {} returned 403 due to None\n"
     ]
    },
    {
     "name": "stdout",
     "output_type": "stream",
     "text": [
      "Error fetching features for track 26VnEKps0l0JWIrdx2E62G: http status: 403, code:-1 - https://api.spotify.com/v1/audio-features/?ids=26VnEKps0l0JWIrdx2E62G:\n",
      " None, reason: None\n",
      "Error fetching features for track 26VnEKps0l0JWIrdx2E62G: http status: 403, code:-1 - https://api.spotify.com/v1/audio-features/?ids=26VnEKps0l0JWIrdx2E62G:\n",
      " None, reason: None\n",
      "Error fetching features for track 2cYVtBHkrkk7F2qU2Y7Fn0: http status: 403, code:-1 - https://api.spotify.com/v1/audio-features/?ids=2cYVtBHkrkk7F2qU2Y7Fn0:\n",
      " None, reason: None\n",
      "Error fetching features for track 6UEhNvccAc4OyEDJYB5brb: http status: 403, code:-1 - https://api.spotify.com/v1/audio-features/?ids=6UEhNvccAc4OyEDJYB5brb:\n",
      " None, reason: None\n"
     ]
    },
    {
     "name": "stderr",
     "output_type": "stream",
     "text": [
      "HTTP Error for GET to https://api.spotify.com/v1/audio-features/?ids=2cYVtBHkrkk7F2qU2Y7Fn0 with Params: {} returned 403 due to None\n",
      "HTTP Error for GET to https://api.spotify.com/v1/audio-features/?ids=4vgCpNUUcpEIBifidhQOnR with Params: {} returned 403 due to None\n",
      "HTTP Error for GET to https://api.spotify.com/v1/audio-features/?ids=4qYGnK9axn6vydZqkoJ7VD with Params: {} returned 403 due to None\n"
     ]
    },
    {
     "name": "stdout",
     "output_type": "stream",
     "text": [
      "Processing batch 22 of 29\n",
      "Error fetching features for track 2cYVtBHkrkk7F2qU2Y7Fn0: http status: 403, code:-1 - https://api.spotify.com/v1/audio-features/?ids=2cYVtBHkrkk7F2qU2Y7Fn0:\n",
      " None, reason: None\n",
      "Error fetching features for track 4vgCpNUUcpEIBifidhQOnR: http status: 403, code:-1 - https://api.spotify.com/v1/audio-features/?ids=4vgCpNUUcpEIBifidhQOnR:\n",
      " None, reason: None\n",
      "Error fetching features for track 4qYGnK9axn6vydZqkoJ7VD: http status: 403, code:-1 - https://api.spotify.com/v1/audio-features/?ids=4qYGnK9axn6vydZqkoJ7VD:\n",
      " None, reason: None\n"
     ]
    },
    {
     "name": "stderr",
     "output_type": "stream",
     "text": [
      "HTTP Error for GET to https://api.spotify.com/v1/audio-features/?ids=4qYGnK9axn6vydZqkoJ7VD with Params: {} returned 403 due to None\n",
      "HTTP Error for GET to https://api.spotify.com/v1/audio-features/?ids=01iMTLk72XWI6pCH2QZ3sR with Params: {} returned 403 due to None\n",
      "HTTP Error for GET to https://api.spotify.com/v1/audio-features/?ids=2iBGQCWqzzsvxTCZUmZy1x with Params: {} returned 403 due to None\n",
      "HTTP Error for GET to https://api.spotify.com/v1/audio-features/?ids=2iBGQCWqzzsvxTCZUmZy1x with Params: {} returned 403 due to None\n"
     ]
    },
    {
     "name": "stdout",
     "output_type": "stream",
     "text": [
      "Error fetching features for track 4qYGnK9axn6vydZqkoJ7VD: http status: 403, code:-1 - https://api.spotify.com/v1/audio-features/?ids=4qYGnK9axn6vydZqkoJ7VD:\n",
      " None, reason: None\n",
      "Error fetching features for track 01iMTLk72XWI6pCH2QZ3sR: http status: 403, code:-1 - https://api.spotify.com/v1/audio-features/?ids=01iMTLk72XWI6pCH2QZ3sR:\n",
      " None, reason: None\n",
      "Error fetching features for track 2iBGQCWqzzsvxTCZUmZy1x: http status: 403, code:-1 - https://api.spotify.com/v1/audio-features/?ids=2iBGQCWqzzsvxTCZUmZy1x:\n",
      " None, reason: None\n",
      "Error fetching features for track 2iBGQCWqzzsvxTCZUmZy1x: http status: 403, code:-1 - https://api.spotify.com/v1/audio-features/?ids=2iBGQCWqzzsvxTCZUmZy1x:\n",
      " None, reason: None\n"
     ]
    },
    {
     "name": "stderr",
     "output_type": "stream",
     "text": [
      "HTTP Error for GET to https://api.spotify.com/v1/audio-features/?ids=2yBxVCCJkfCuwhA0GR2VwA with Params: {} returned 403 due to None\n",
      "HTTP Error for GET to https://api.spotify.com/v1/audio-features/?ids=4gqHEia13bp5EFWGitiKWx with Params: {} returned 403 due to None\n",
      "HTTP Error for GET to https://api.spotify.com/v1/audio-features/?ids=3FS3ItpUATpALLi90uvkde with Params: {} returned 403 due to None\n"
     ]
    },
    {
     "name": "stdout",
     "output_type": "stream",
     "text": [
      "Error fetching features for track 2yBxVCCJkfCuwhA0GR2VwA: http status: 403, code:-1 - https://api.spotify.com/v1/audio-features/?ids=2yBxVCCJkfCuwhA0GR2VwA:\n",
      " None, reason: None\n",
      "Error fetching features for track 4gqHEia13bp5EFWGitiKWx: http status: 403, code:-1 - https://api.spotify.com/v1/audio-features/?ids=4gqHEia13bp5EFWGitiKWx:\n",
      " None, reason: None\n",
      "Error fetching features for track 3FS3ItpUATpALLi90uvkde: http status: 403, code:-1 - https://api.spotify.com/v1/audio-features/?ids=3FS3ItpUATpALLi90uvkde:\n",
      " None, reason: None\n"
     ]
    },
    {
     "name": "stderr",
     "output_type": "stream",
     "text": [
      "HTTP Error for GET to https://api.spotify.com/v1/audio-features/?ids=1HmW7N27GQItxBR5dTqjZy with Params: {} returned 403 due to None\n",
      "HTTP Error for GET to https://api.spotify.com/v1/audio-features/?ids=11na2yXOmMbkUL8f5j6vxZ with Params: {} returned 403 due to None\n",
      "HTTP Error for GET to https://api.spotify.com/v1/audio-features/?ids=4ulISxSlTF9LXHs9dir9Z1 with Params: {} returned 403 due to None\n",
      "HTTP Error for GET to https://api.spotify.com/v1/audio-features/?ids=4chxJYv0qsOKQukt6cKp97 with Params: {} returned 403 due to None\n"
     ]
    },
    {
     "name": "stdout",
     "output_type": "stream",
     "text": [
      "Error fetching features for track 1HmW7N27GQItxBR5dTqjZy: http status: 403, code:-1 - https://api.spotify.com/v1/audio-features/?ids=1HmW7N27GQItxBR5dTqjZy:\n",
      " None, reason: None\n",
      "Error fetching features for track 11na2yXOmMbkUL8f5j6vxZ: http status: 403, code:-1 - https://api.spotify.com/v1/audio-features/?ids=11na2yXOmMbkUL8f5j6vxZ:\n",
      " None, reason: None\n",
      "Error fetching features for track 4ulISxSlTF9LXHs9dir9Z1: http status: 403, code:-1 - https://api.spotify.com/v1/audio-features/?ids=4ulISxSlTF9LXHs9dir9Z1:\n",
      " None, reason: None\n",
      "Error fetching features for track 4chxJYv0qsOKQukt6cKp97: http status: 403, code:-1 - https://api.spotify.com/v1/audio-features/?ids=4chxJYv0qsOKQukt6cKp97:\n",
      " None, reason: None\n"
     ]
    },
    {
     "name": "stderr",
     "output_type": "stream",
     "text": [
      "HTTP Error for GET to https://api.spotify.com/v1/audio-features/?ids=5WncH5iZ5GFlnXm7jKEXVP with Params: {} returned 403 due to None\n",
      "HTTP Error for GET to https://api.spotify.com/v1/audio-features/?ids=4LZqDoUWtucJKSIMVjpKbb with Params: {} returned 403 due to None\n",
      "HTTP Error for GET to https://api.spotify.com/v1/audio-features/?ids=7DbE178OOsJfJKyiNObOsw with Params: {} returned 403 due to None\n",
      "HTTP Error for GET to https://api.spotify.com/v1/audio-features/?ids=0AuH0V5G69oKW5r1j7iEGl with Params: {} returned 403 due to None\n"
     ]
    },
    {
     "name": "stdout",
     "output_type": "stream",
     "text": [
      "Error fetching features for track 5WncH5iZ5GFlnXm7jKEXVP: http status: 403, code:-1 - https://api.spotify.com/v1/audio-features/?ids=5WncH5iZ5GFlnXm7jKEXVP:\n",
      " None, reason: None\n",
      "Error fetching features for track 4LZqDoUWtucJKSIMVjpKbb: http status: 403, code:-1 - https://api.spotify.com/v1/audio-features/?ids=4LZqDoUWtucJKSIMVjpKbb:\n",
      " None, reason: None\n",
      "Error fetching features for track 7DbE178OOsJfJKyiNObOsw: http status: 403, code:-1 - https://api.spotify.com/v1/audio-features/?ids=7DbE178OOsJfJKyiNObOsw:\n",
      " None, reason: None\n",
      "Error fetching features for track 0AuH0V5G69oKW5r1j7iEGl: http status: 403, code:-1 - https://api.spotify.com/v1/audio-features/?ids=0AuH0V5G69oKW5r1j7iEGl:\n",
      " None, reason: None\n"
     ]
    },
    {
     "name": "stderr",
     "output_type": "stream",
     "text": [
      "HTTP Error for GET to https://api.spotify.com/v1/audio-features/?ids=7pTYN6Gxy3MOibdXmkzc5V with Params: {} returned 403 due to None\n",
      "HTTP Error for GET to https://api.spotify.com/v1/audio-features/?ids=4qOtDofZEAOYJ1Dq9GXgiM with Params: {} returned 403 due to None\n",
      "HTTP Error for GET to https://api.spotify.com/v1/audio-features/?ids=11na2yXOmMbkUL8f5j6vxZ with Params: {} returned 403 due to None\n",
      "HTTP Error for GET to https://api.spotify.com/v1/audio-features/?ids=6VpywY7DEMDSmpiY4tKpwX with Params: {} returned 403 due to None\n"
     ]
    },
    {
     "name": "stdout",
     "output_type": "stream",
     "text": [
      "Error fetching features for track 7pTYN6Gxy3MOibdXmkzc5V: http status: 403, code:-1 - https://api.spotify.com/v1/audio-features/?ids=7pTYN6Gxy3MOibdXmkzc5V:\n",
      " None, reason: None\n",
      "Error fetching features for track 4qOtDofZEAOYJ1Dq9GXgiM: http status: 403, code:-1 - https://api.spotify.com/v1/audio-features/?ids=4qOtDofZEAOYJ1Dq9GXgiM:\n",
      " None, reason: None\n",
      "Error fetching features for track 11na2yXOmMbkUL8f5j6vxZ: http status: 403, code:-1 - https://api.spotify.com/v1/audio-features/?ids=11na2yXOmMbkUL8f5j6vxZ:\n",
      " None, reason: None\n",
      "Error fetching features for track 6VpywY7DEMDSmpiY4tKpwX: http status: 403, code:-1 - https://api.spotify.com/v1/audio-features/?ids=6VpywY7DEMDSmpiY4tKpwX:\n",
      " None, reason: None\n"
     ]
    },
    {
     "name": "stderr",
     "output_type": "stream",
     "text": [
      "HTTP Error for GET to https://api.spotify.com/v1/audio-features/?ids=4NGKImXyLb9jpCzU5kTexb with Params: {} returned 403 due to None\n",
      "HTTP Error for GET to https://api.spotify.com/v1/audio-features/?ids=6ZoCBDOB308GqUdt2AJrV2 with Params: {} returned 403 due to None\n"
     ]
    },
    {
     "name": "stdout",
     "output_type": "stream",
     "text": [
      "Error fetching features for track 4NGKImXyLb9jpCzU5kTexb: http status: 403, code:-1 - https://api.spotify.com/v1/audio-features/?ids=4NGKImXyLb9jpCzU5kTexb:\n",
      " None, reason: None\n"
     ]
    },
    {
     "name": "stderr",
     "output_type": "stream",
     "text": [
      "HTTP Error for GET to https://api.spotify.com/v1/audio-features/?ids=2A4lcqTJZgUs1XrW6TSvt0 with Params: {} returned 403 due to None\n",
      "HTTP Error for GET to https://api.spotify.com/v1/audio-features/?ids=3VkPeb5ZIGkGkb9Uhvo0Ba with Params: {} returned 403 due to None\n",
      "HTTP Error for GET to https://api.spotify.com/v1/audio-features/?ids=2JyPZNIsrL1xIoLZaqcqr1 with Params: {} returned 403 due to None\n"
     ]
    },
    {
     "name": "stdout",
     "output_type": "stream",
     "text": [
      "Error fetching features for track 6ZoCBDOB308GqUdt2AJrV2: http status: 403, code:-1 - https://api.spotify.com/v1/audio-features/?ids=6ZoCBDOB308GqUdt2AJrV2:\n",
      " None, reason: None\n",
      "Error fetching features for track 2A4lcqTJZgUs1XrW6TSvt0: http status: 403, code:-1 - https://api.spotify.com/v1/audio-features/?ids=2A4lcqTJZgUs1XrW6TSvt0:\n",
      " None, reason: None\n",
      "Error fetching features for track 3VkPeb5ZIGkGkb9Uhvo0Ba: http status: 403, code:-1 - https://api.spotify.com/v1/audio-features/?ids=3VkPeb5ZIGkGkb9Uhvo0Ba:\n",
      " None, reason: None\n",
      "Error fetching features for track 2JyPZNIsrL1xIoLZaqcqr1: http status: 403, code:-1 - https://api.spotify.com/v1/audio-features/?ids=2JyPZNIsrL1xIoLZaqcqr1:\n",
      " None, reason: None\n"
     ]
    },
    {
     "name": "stderr",
     "output_type": "stream",
     "text": [
      "HTTP Error for GET to https://api.spotify.com/v1/audio-features/?ids=3hcwpXiJtR7kwDrWllcH0v with Params: {} returned 403 due to None\n",
      "HTTP Error for GET to https://api.spotify.com/v1/audio-features/?ids=0WNCYgCd33LnBnw22WFuq8 with Params: {} returned 403 due to None\n",
      "HTTP Error for GET to https://api.spotify.com/v1/audio-features/?ids=6UEhNvccAc4OyEDJYB5brb with Params: {} returned 403 due to None\n",
      "HTTP Error for GET to https://api.spotify.com/v1/audio-features/?ids=4chxJYv0qsOKQukt6cKp97 with Params: {} returned 403 due to None\n"
     ]
    },
    {
     "name": "stdout",
     "output_type": "stream",
     "text": [
      "Error fetching features for track 3hcwpXiJtR7kwDrWllcH0v: http status: 403, code:-1 - https://api.spotify.com/v1/audio-features/?ids=3hcwpXiJtR7kwDrWllcH0v:\n",
      " None, reason: None\n",
      "Error fetching features for track 0WNCYgCd33LnBnw22WFuq8: http status: 403, code:-1 - https://api.spotify.com/v1/audio-features/?ids=0WNCYgCd33LnBnw22WFuq8:\n",
      " None, reason: None\n",
      "Error fetching features for track 6UEhNvccAc4OyEDJYB5brb: http status: 403, code:-1 - https://api.spotify.com/v1/audio-features/?ids=6UEhNvccAc4OyEDJYB5brb:\n",
      " None, reason: None\n",
      "Error fetching features for track 4chxJYv0qsOKQukt6cKp97: http status: 403, code:-1 - https://api.spotify.com/v1/audio-features/?ids=4chxJYv0qsOKQukt6cKp97:\n",
      " None, reason: None\n"
     ]
    },
    {
     "name": "stderr",
     "output_type": "stream",
     "text": [
      "HTTP Error for GET to https://api.spotify.com/v1/audio-features/?ids=0prCd0oIexRBiok6kBOeLp with Params: {} returned 403 due to None\n",
      "HTTP Error for GET to https://api.spotify.com/v1/audio-features/?ids=4CuBg0h6kD85MPN8Ntq6Zr with Params: {} returned 403 due to None\n",
      "HTTP Error for GET to https://api.spotify.com/v1/audio-features/?ids=1e9JTfYjUGDFSMfB66Z86y with Params: {} returned 403 due to None\n",
      "HTTP Error for GET to https://api.spotify.com/v1/audio-features/?ids=1fGXJZny7HUQnLKwttxmYw with Params: {} returned 403 due to None\n"
     ]
    },
    {
     "name": "stdout",
     "output_type": "stream",
     "text": [
      "Error fetching features for track 0prCd0oIexRBiok6kBOeLp: http status: 403, code:-1 - https://api.spotify.com/v1/audio-features/?ids=0prCd0oIexRBiok6kBOeLp:\n",
      " None, reason: None\n",
      "Error fetching features for track 4CuBg0h6kD85MPN8Ntq6Zr: http status: 403, code:-1 - https://api.spotify.com/v1/audio-features/?ids=4CuBg0h6kD85MPN8Ntq6Zr:\n",
      " None, reason: None\n",
      "Error fetching features for track 1e9JTfYjUGDFSMfB66Z86y: http status: 403, code:-1 - https://api.spotify.com/v1/audio-features/?ids=1e9JTfYjUGDFSMfB66Z86y:\n",
      " None, reason: None\n",
      "Error fetching features for track 1fGXJZny7HUQnLKwttxmYw: http status: 403, code:-1 - https://api.spotify.com/v1/audio-features/?ids=1fGXJZny7HUQnLKwttxmYw:\n",
      " None, reason: None\n"
     ]
    },
    {
     "name": "stderr",
     "output_type": "stream",
     "text": [
      "HTTP Error for GET to https://api.spotify.com/v1/audio-features/?ids=45PA9lW7U5LYnlpGrdTyHY with Params: {} returned 403 due to None\n",
      "HTTP Error for GET to https://api.spotify.com/v1/audio-features/?ids=39bx4zZrPxTjw8VNuvjt6X with Params: {} returned 403 due to None\n",
      "HTTP Error for GET to https://api.spotify.com/v1/audio-features/?ids=1tCduDqB3J8r90FAxprLzO with Params: {} returned 403 due to None\n",
      "HTTP Error for GET to https://api.spotify.com/v1/audio-features/?ids=5Rn1DPzSzUktbhuNDDJocS with Params: {} returned 403 due to None\n"
     ]
    },
    {
     "name": "stdout",
     "output_type": "stream",
     "text": [
      "Error fetching features for track 45PA9lW7U5LYnlpGrdTyHY: http status: 403, code:-1 - https://api.spotify.com/v1/audio-features/?ids=45PA9lW7U5LYnlpGrdTyHY:\n",
      " None, reason: None\n",
      "Error fetching features for track 39bx4zZrPxTjw8VNuvjt6X: http status: 403, code:-1 - https://api.spotify.com/v1/audio-features/?ids=39bx4zZrPxTjw8VNuvjt6X:\n",
      " None, reason: None\n",
      "Error fetching features for track 1tCduDqB3J8r90FAxprLzO: http status: 403, code:-1 - https://api.spotify.com/v1/audio-features/?ids=1tCduDqB3J8r90FAxprLzO:\n",
      " None, reason: None\n",
      "Error fetching features for track 5Rn1DPzSzUktbhuNDDJocS: http status: 403, code:-1 - https://api.spotify.com/v1/audio-features/?ids=5Rn1DPzSzUktbhuNDDJocS:\n",
      " None, reason: None\n"
     ]
    },
    {
     "name": "stderr",
     "output_type": "stream",
     "text": [
      "HTTP Error for GET to https://api.spotify.com/v1/audio-features/?ids=2g3o6I7YuKFEUn9OOfuAfP with Params: {} returned 403 due to None\n",
      "HTTP Error for GET to https://api.spotify.com/v1/audio-features/?ids=7DbE178OOsJfJKyiNObOsw with Params: {} returned 403 due to None\n",
      "HTTP Error for GET to https://api.spotify.com/v1/audio-features/?ids=41TPQOdEjRE2jqWs1n7wEW with Params: {} returned 403 due to None\n",
      "HTTP Error for GET to https://api.spotify.com/v1/audio-features/?ids=6z3p3Gm5FOH1n22ummzEh7 with Params: {} returned 403 due to None\n"
     ]
    },
    {
     "name": "stdout",
     "output_type": "stream",
     "text": [
      "Error fetching features for track 2g3o6I7YuKFEUn9OOfuAfP: http status: 403, code:-1 - https://api.spotify.com/v1/audio-features/?ids=2g3o6I7YuKFEUn9OOfuAfP:\n",
      " None, reason: None\n",
      "Error fetching features for track 7DbE178OOsJfJKyiNObOsw: http status: 403, code:-1 - https://api.spotify.com/v1/audio-features/?ids=7DbE178OOsJfJKyiNObOsw:\n",
      " None, reason: None\n",
      "Error fetching features for track 41TPQOdEjRE2jqWs1n7wEW: http status: 403, code:-1 - https://api.spotify.com/v1/audio-features/?ids=41TPQOdEjRE2jqWs1n7wEW:\n",
      " None, reason: None\n",
      "Error fetching features for track 6z3p3Gm5FOH1n22ummzEh7: http status: 403, code:-1 - https://api.spotify.com/v1/audio-features/?ids=6z3p3Gm5FOH1n22ummzEh7:\n",
      " None, reason: None\n"
     ]
    },
    {
     "name": "stderr",
     "output_type": "stream",
     "text": [
      "HTTP Error for GET to https://api.spotify.com/v1/audio-features/?ids=6BJxQbKyQSdBOBIuW5TTmi with Params: {} returned 403 due to None\n",
      "HTTP Error for GET to https://api.spotify.com/v1/audio-features/?ids=0prCd0oIexRBiok6kBOeLp with Params: {} returned 403 due to None\n",
      "HTTP Error for GET to https://api.spotify.com/v1/audio-features/?ids=5a2Hoi1wuhCA6Ob7pbOlpW with Params: {} returned 403 due to None\n"
     ]
    },
    {
     "name": "stdout",
     "output_type": "stream",
     "text": [
      "Error fetching features for track 6BJxQbKyQSdBOBIuW5TTmi: http status: 403, code:-1 - https://api.spotify.com/v1/audio-features/?ids=6BJxQbKyQSdBOBIuW5TTmi:\n",
      " None, reason: None\n",
      "Error fetching features for track 0prCd0oIexRBiok6kBOeLp: http status: 403, code:-1 - https://api.spotify.com/v1/audio-features/?ids=0prCd0oIexRBiok6kBOeLp:\n",
      " None, reason: None\n",
      "Error fetching features for track 5a2Hoi1wuhCA6Ob7pbOlpW: http status: 403, code:-1 - https://api.spotify.com/v1/audio-features/?ids=5a2Hoi1wuhCA6Ob7pbOlpW:\n",
      " None, reason: None\n"
     ]
    },
    {
     "name": "stderr",
     "output_type": "stream",
     "text": [
      "HTTP Error for GET to https://api.spotify.com/v1/audio-features/?ids=5Cdd8p9sxRczQX6GFC8CdH with Params: {} returned 403 due to None\n",
      "HTTP Error for GET to https://api.spotify.com/v1/audio-features/?ids=6z3p3Gm5FOH1n22ummzEh7 with Params: {} returned 403 due to None\n",
      "HTTP Error for GET to https://api.spotify.com/v1/audio-features/?ids=4qOtDofZEAOYJ1Dq9GXgiM with Params: {} returned 403 due to None\n",
      "HTTP Error for GET to https://api.spotify.com/v1/audio-features/?ids=0xlWd9o8yjKpJ02WJy79kZ with Params: {} returned 403 due to None\n"
     ]
    },
    {
     "name": "stdout",
     "output_type": "stream",
     "text": [
      "Error fetching features for track 5Cdd8p9sxRczQX6GFC8CdH: http status: 403, code:-1 - https://api.spotify.com/v1/audio-features/?ids=5Cdd8p9sxRczQX6GFC8CdH:\n",
      " None, reason: None\n",
      "Error fetching features for track 6z3p3Gm5FOH1n22ummzEh7: http status: 403, code:-1 - https://api.spotify.com/v1/audio-features/?ids=6z3p3Gm5FOH1n22ummzEh7:\n",
      " None, reason: None\n",
      "Error fetching features for track 4qOtDofZEAOYJ1Dq9GXgiM: http status: 403, code:-1 - https://api.spotify.com/v1/audio-features/?ids=4qOtDofZEAOYJ1Dq9GXgiM:\n",
      " None, reason: None\n",
      "Error fetching features for track 0xlWd9o8yjKpJ02WJy79kZ: http status: 403, code:-1 - https://api.spotify.com/v1/audio-features/?ids=0xlWd9o8yjKpJ02WJy79kZ:\n",
      " None, reason: None\n",
      "Processing batch 23 of 29\n"
     ]
    },
    {
     "name": "stderr",
     "output_type": "stream",
     "text": [
      "HTTP Error for GET to https://api.spotify.com/v1/audio-features/?ids=6GQK4G5o60E8YA18DGpAzv with Params: {} returned 403 due to None\n",
      "HTTP Error for GET to https://api.spotify.com/v1/audio-features/?ids=1tCduDqB3J8r90FAxprLzO with Params: {} returned 403 due to None\n",
      "HTTP Error for GET to https://api.spotify.com/v1/audio-features/?ids=0pPGUL7171TRGgI6wyP8wP with Params: {} returned 403 due to None\n",
      "HTTP Error for GET to https://api.spotify.com/v1/audio-features/?ids=5XfHmHJNxDl4Tsy29oLD7v with Params: {} returned 403 due to None\n"
     ]
    },
    {
     "name": "stdout",
     "output_type": "stream",
     "text": [
      "Error fetching features for track 6GQK4G5o60E8YA18DGpAzv: http status: 403, code:-1 - https://api.spotify.com/v1/audio-features/?ids=6GQK4G5o60E8YA18DGpAzv:\n",
      " None, reason: None\n",
      "Error fetching features for track 1tCduDqB3J8r90FAxprLzO: http status: 403, code:-1 - https://api.spotify.com/v1/audio-features/?ids=1tCduDqB3J8r90FAxprLzO:\n",
      " None, reason: None\n",
      "Error fetching features for track 0pPGUL7171TRGgI6wyP8wP: http status: 403, code:-1 - https://api.spotify.com/v1/audio-features/?ids=0pPGUL7171TRGgI6wyP8wP:\n",
      " None, reason: None\n",
      "Error fetching features for track 5XfHmHJNxDl4Tsy29oLD7v: http status: 403, code:-1 - https://api.spotify.com/v1/audio-features/?ids=5XfHmHJNxDl4Tsy29oLD7v:\n",
      " None, reason: None\n"
     ]
    },
    {
     "name": "stderr",
     "output_type": "stream",
     "text": [
      "HTTP Error for GET to https://api.spotify.com/v1/audio-features/?ids=1uHd2tBRzotyWUS3iQeDN7 with Params: {} returned 403 due to None\n",
      "HTTP Error for GET to https://api.spotify.com/v1/audio-features/?ids=6F4GPNjqX3msncEHOR18Y3 with Params: {} returned 403 due to None\n",
      "HTTP Error for GET to https://api.spotify.com/v1/audio-features/?ids=6F4GPNjqX3msncEHOR18Y3 with Params: {} returned 403 due to None\n",
      "HTTP Error for GET to https://api.spotify.com/v1/audio-features/?ids=6z3p3Gm5FOH1n22ummzEh7 with Params: {} returned 403 due to None\n"
     ]
    },
    {
     "name": "stdout",
     "output_type": "stream",
     "text": [
      "Error fetching features for track 1uHd2tBRzotyWUS3iQeDN7: http status: 403, code:-1 - https://api.spotify.com/v1/audio-features/?ids=1uHd2tBRzotyWUS3iQeDN7:\n",
      " None, reason: None\n",
      "Error fetching features for track 6F4GPNjqX3msncEHOR18Y3: http status: 403, code:-1 - https://api.spotify.com/v1/audio-features/?ids=6F4GPNjqX3msncEHOR18Y3:\n",
      " None, reason: None\n",
      "Error fetching features for track 6F4GPNjqX3msncEHOR18Y3: http status: 403, code:-1 - https://api.spotify.com/v1/audio-features/?ids=6F4GPNjqX3msncEHOR18Y3:\n",
      " None, reason: None\n",
      "Error fetching features for track 6z3p3Gm5FOH1n22ummzEh7: http status: 403, code:-1 - https://api.spotify.com/v1/audio-features/?ids=6z3p3Gm5FOH1n22ummzEh7:\n",
      " None, reason: None\n"
     ]
    },
    {
     "name": "stderr",
     "output_type": "stream",
     "text": [
      "HTTP Error for GET to https://api.spotify.com/v1/audio-features/?ids=2cYVtBHkrkk7F2qU2Y7Fn0 with Params: {} returned 403 due to None\n",
      "HTTP Error for GET to https://api.spotify.com/v1/audio-features/?ids=26VnEKps0l0JWIrdx2E62G with Params: {} returned 403 due to None\n",
      "HTTP Error for GET to https://api.spotify.com/v1/audio-features/?ids=1HmW7N27GQItxBR5dTqjZy with Params: {} returned 403 due to None\n",
      "HTTP Error for GET to https://api.spotify.com/v1/audio-features/?ids=4qOtDofZEAOYJ1Dq9GXgiM with Params: {} returned 403 due to None\n"
     ]
    },
    {
     "name": "stdout",
     "output_type": "stream",
     "text": [
      "Error fetching features for track 2cYVtBHkrkk7F2qU2Y7Fn0: http status: 403, code:-1 - https://api.spotify.com/v1/audio-features/?ids=2cYVtBHkrkk7F2qU2Y7Fn0:\n",
      " None, reason: None\n",
      "Error fetching features for track 26VnEKps0l0JWIrdx2E62G: http status: 403, code:-1 - https://api.spotify.com/v1/audio-features/?ids=26VnEKps0l0JWIrdx2E62G:\n",
      " None, reason: None\n",
      "Error fetching features for track 1HmW7N27GQItxBR5dTqjZy: http status: 403, code:-1 - https://api.spotify.com/v1/audio-features/?ids=1HmW7N27GQItxBR5dTqjZy:\n",
      " None, reason: None\n",
      "Error fetching features for track 4qOtDofZEAOYJ1Dq9GXgiM: http status: 403, code:-1 - https://api.spotify.com/v1/audio-features/?ids=4qOtDofZEAOYJ1Dq9GXgiM:\n",
      " None, reason: None\n"
     ]
    },
    {
     "name": "stderr",
     "output_type": "stream",
     "text": [
      "HTTP Error for GET to https://api.spotify.com/v1/audio-features/?ids=6UEhNvccAc4OyEDJYB5brb with Params: {} returned 403 due to None\n",
      "HTTP Error for GET to https://api.spotify.com/v1/audio-features/?ids=2yBxVCCJkfCuwhA0GR2VwA with Params: {} returned 403 due to None\n",
      "HTTP Error for GET to https://api.spotify.com/v1/audio-features/?ids=2LcXJP95e4HKydTZ2mYfrx with Params: {} returned 403 due to None\n",
      "HTTP Error for GET to https://api.spotify.com/v1/audio-features/?ids=7BjQqiOJio4RdPL33yALKE with Params: {} returned 403 due to None\n"
     ]
    },
    {
     "name": "stdout",
     "output_type": "stream",
     "text": [
      "Error fetching features for track 6UEhNvccAc4OyEDJYB5brb: http status: 403, code:-1 - https://api.spotify.com/v1/audio-features/?ids=6UEhNvccAc4OyEDJYB5brb:\n",
      " None, reason: None\n",
      "Error fetching features for track 2yBxVCCJkfCuwhA0GR2VwA: http status: 403, code:-1 - https://api.spotify.com/v1/audio-features/?ids=2yBxVCCJkfCuwhA0GR2VwA:\n",
      " None, reason: None\n",
      "Error fetching features for track 2LcXJP95e4HKydTZ2mYfrx: http status: 403, code:-1 - https://api.spotify.com/v1/audio-features/?ids=2LcXJP95e4HKydTZ2mYfrx:\n",
      " None, reason: None\n",
      "Error fetching features for track 7BjQqiOJio4RdPL33yALKE: http status: 403, code:-1 - https://api.spotify.com/v1/audio-features/?ids=7BjQqiOJio4RdPL33yALKE:\n",
      " None, reason: None\n"
     ]
    },
    {
     "name": "stderr",
     "output_type": "stream",
     "text": [
      "HTTP Error for GET to https://api.spotify.com/v1/audio-features/?ids=6z3p3Gm5FOH1n22ummzEh7 with Params: {} returned 403 due to None\n",
      "HTTP Error for GET to https://api.spotify.com/v1/audio-features/?ids=5BGnQWWgXLfuVdu0XTwMfb with Params: {} returned 403 due to None\n",
      "HTTP Error for GET to https://api.spotify.com/v1/audio-features/?ids=6YqJrTB64MvXAGqXvRrgdd with Params: {} returned 403 due to None\n",
      "HTTP Error for GET to https://api.spotify.com/v1/audio-features/?ids=3rmo8F54jFF8OgYsqTxm5d with Params: {} returned 403 due to None\n"
     ]
    },
    {
     "name": "stdout",
     "output_type": "stream",
     "text": [
      "Error fetching features for track 6z3p3Gm5FOH1n22ummzEh7: http status: 403, code:-1 - https://api.spotify.com/v1/audio-features/?ids=6z3p3Gm5FOH1n22ummzEh7:\n",
      " None, reason: None\n",
      "Error fetching features for track 5BGnQWWgXLfuVdu0XTwMfb: http status: 403, code:-1 - https://api.spotify.com/v1/audio-features/?ids=5BGnQWWgXLfuVdu0XTwMfb:\n",
      " None, reason: None\n",
      "Error fetching features for track 6YqJrTB64MvXAGqXvRrgdd: http status: 403, code:-1 - https://api.spotify.com/v1/audio-features/?ids=6YqJrTB64MvXAGqXvRrgdd:\n",
      " None, reason: None\n",
      "Error fetching features for track 3rmo8F54jFF8OgYsqTxm5d: http status: 403, code:-1 - https://api.spotify.com/v1/audio-features/?ids=3rmo8F54jFF8OgYsqTxm5d:\n",
      " None, reason: None\n"
     ]
    },
    {
     "name": "stderr",
     "output_type": "stream",
     "text": [
      "HTTP Error for GET to https://api.spotify.com/v1/audio-features/?ids=1HNkqx9Ahdgi1Ixy2xkKkL with Params: {} returned 403 due to None\n",
      "HTTP Error for GET to https://api.spotify.com/v1/audio-features/?ids=6F4GPNjqX3msncEHOR18Y3 with Params: {} returned 403 due to None\n",
      "HTTP Error for GET to https://api.spotify.com/v1/audio-features/?ids=6F4GPNjqX3msncEHOR18Y3 with Params: {} returned 403 due to None\n",
      "HTTP Error for GET to https://api.spotify.com/v1/audio-features/?ids=6PCUP3dWmTjcTtXY02oFdT with Params: {} returned 403 due to None\n"
     ]
    },
    {
     "name": "stdout",
     "output_type": "stream",
     "text": [
      "Error fetching features for track 1HNkqx9Ahdgi1Ixy2xkKkL: http status: 403, code:-1 - https://api.spotify.com/v1/audio-features/?ids=1HNkqx9Ahdgi1Ixy2xkKkL:\n",
      " None, reason: None\n",
      "Error fetching features for track 6F4GPNjqX3msncEHOR18Y3: http status: 403, code:-1 - https://api.spotify.com/v1/audio-features/?ids=6F4GPNjqX3msncEHOR18Y3:\n",
      " None, reason: None\n",
      "Error fetching features for track 6F4GPNjqX3msncEHOR18Y3: http status: 403, code:-1 - https://api.spotify.com/v1/audio-features/?ids=6F4GPNjqX3msncEHOR18Y3:\n",
      " None, reason: None\n",
      "Error fetching features for track 6PCUP3dWmTjcTtXY02oFdT: http status: 403, code:-1 - https://api.spotify.com/v1/audio-features/?ids=6PCUP3dWmTjcTtXY02oFdT:\n",
      " None, reason: None\n"
     ]
    },
    {
     "name": "stderr",
     "output_type": "stream",
     "text": [
      "HTTP Error for GET to https://api.spotify.com/v1/audio-features/?ids=4btFHqumCO31GksfuBLLv3 with Params: {} returned 403 due to None\n",
      "HTTP Error for GET to https://api.spotify.com/v1/audio-features/?ids=0rt63HYAAIzUZo5O2D0uA6 with Params: {} returned 403 due to None\n",
      "HTTP Error for GET to https://api.spotify.com/v1/audio-features/?ids=6BJxQbKyQSdBOBIuW5TTmi with Params: {} returned 403 due to None\n"
     ]
    },
    {
     "name": "stdout",
     "output_type": "stream",
     "text": [
      "Error fetching features for track 4btFHqumCO31GksfuBLLv3: http status: 403, code:-1 - https://api.spotify.com/v1/audio-features/?ids=4btFHqumCO31GksfuBLLv3:\n",
      " None, reason: None\n",
      "Error fetching features for track 0rt63HYAAIzUZo5O2D0uA6: http status: 403, code:-1 - https://api.spotify.com/v1/audio-features/?ids=0rt63HYAAIzUZo5O2D0uA6:\n",
      " None, reason: None\n",
      "Error fetching features for track 6BJxQbKyQSdBOBIuW5TTmi: http status: 403, code:-1 - https://api.spotify.com/v1/audio-features/?ids=6BJxQbKyQSdBOBIuW5TTmi:\n",
      " None, reason: None\n"
     ]
    },
    {
     "name": "stderr",
     "output_type": "stream",
     "text": [
      "HTTP Error for GET to https://api.spotify.com/v1/audio-features/?ids=1HmW7N27GQItxBR5dTqjZy with Params: {} returned 403 due to None\n",
      "HTTP Error for GET to https://api.spotify.com/v1/audio-features/?ids=1HmW7N27GQItxBR5dTqjZy with Params: {} returned 403 due to None\n",
      "HTTP Error for GET to https://api.spotify.com/v1/audio-features/?ids=7pTYN6Gxy3MOibdXmkzc5V with Params: {} returned 403 due to None\n",
      "HTTP Error for GET to https://api.spotify.com/v1/audio-features/?ids=2yBxVCCJkfCuwhA0GR2VwA with Params: {} returned 403 due to None\n"
     ]
    },
    {
     "name": "stdout",
     "output_type": "stream",
     "text": [
      "Error fetching features for track 1HmW7N27GQItxBR5dTqjZy: http status: 403, code:-1 - https://api.spotify.com/v1/audio-features/?ids=1HmW7N27GQItxBR5dTqjZy:\n",
      " None, reason: None\n",
      "Error fetching features for track 1HmW7N27GQItxBR5dTqjZy: http status: 403, code:-1 - https://api.spotify.com/v1/audio-features/?ids=1HmW7N27GQItxBR5dTqjZy:\n",
      " None, reason: None\n",
      "Error fetching features for track 7pTYN6Gxy3MOibdXmkzc5V: http status: 403, code:-1 - https://api.spotify.com/v1/audio-features/?ids=7pTYN6Gxy3MOibdXmkzc5V:\n",
      " None, reason: None\n",
      "Error fetching features for track 2yBxVCCJkfCuwhA0GR2VwA: http status: 403, code:-1 - https://api.spotify.com/v1/audio-features/?ids=2yBxVCCJkfCuwhA0GR2VwA:\n",
      " None, reason: None\n"
     ]
    },
    {
     "name": "stderr",
     "output_type": "stream",
     "text": [
      "HTTP Error for GET to https://api.spotify.com/v1/audio-features/?ids=7sx3sdWt0JSXPRwnubJl9k with Params: {} returned 403 due to None\n",
      "HTTP Error for GET to https://api.spotify.com/v1/audio-features/?ids=1r4oikmMdZZiGHkPA4hSoe with Params: {} returned 403 due to None\n",
      "HTTP Error for GET to https://api.spotify.com/v1/audio-features/?ids=1ZpsPt7Ayxhd35QXHdLGEY with Params: {} returned 403 due to None\n",
      "HTTP Error for GET to https://api.spotify.com/v1/audio-features/?ids=2Bn2JQAGZzxe09jFzm1SqJ with Params: {} returned 403 due to None\n"
     ]
    },
    {
     "name": "stdout",
     "output_type": "stream",
     "text": [
      "Error fetching features for track 7sx3sdWt0JSXPRwnubJl9k: http status: 403, code:-1 - https://api.spotify.com/v1/audio-features/?ids=7sx3sdWt0JSXPRwnubJl9k:\n",
      " None, reason: None\n",
      "Error fetching features for track 1r4oikmMdZZiGHkPA4hSoe: http status: 403, code:-1 - https://api.spotify.com/v1/audio-features/?ids=1r4oikmMdZZiGHkPA4hSoe:\n",
      " None, reason: None\n",
      "Error fetching features for track 1ZpsPt7Ayxhd35QXHdLGEY: http status: 403, code:-1 - https://api.spotify.com/v1/audio-features/?ids=1ZpsPt7Ayxhd35QXHdLGEY:\n",
      " None, reason: None\n",
      "Error fetching features for track 2Bn2JQAGZzxe09jFzm1SqJ: http status: 403, code:-1 - https://api.spotify.com/v1/audio-features/?ids=2Bn2JQAGZzxe09jFzm1SqJ:\n",
      " None, reason: None\n"
     ]
    },
    {
     "name": "stderr",
     "output_type": "stream",
     "text": [
      "HTTP Error for GET to https://api.spotify.com/v1/audio-features/?ids=6TeQwZim9noPvf96kNwldZ with Params: {} returned 403 due to None\n",
      "HTTP Error for GET to https://api.spotify.com/v1/audio-features/?ids=2lALqW28yjkmb6LCBBUc7j with Params: {} returned 403 due to None\n",
      "HTTP Error for GET to https://api.spotify.com/v1/audio-features/?ids=6emsLWJ2bu8vCP7BslV76d with Params: {} returned 403 due to None\n",
      "HTTP Error for GET to https://api.spotify.com/v1/audio-features/?ids=7CMyoI8zAFAUhMnQ5NzNnu with Params: {} returned 403 due to None\n"
     ]
    },
    {
     "name": "stdout",
     "output_type": "stream",
     "text": [
      "Error fetching features for track 6TeQwZim9noPvf96kNwldZ: http status: 403, code:-1 - https://api.spotify.com/v1/audio-features/?ids=6TeQwZim9noPvf96kNwldZ:\n",
      " None, reason: None\n",
      "Error fetching features for track 2lALqW28yjkmb6LCBBUc7j: http status: 403, code:-1 - https://api.spotify.com/v1/audio-features/?ids=2lALqW28yjkmb6LCBBUc7j:\n",
      " None, reason: None\n",
      "Error fetching features for track 6emsLWJ2bu8vCP7BslV76d: http status: 403, code:-1 - https://api.spotify.com/v1/audio-features/?ids=6emsLWJ2bu8vCP7BslV76d:\n",
      " None, reason: None\n",
      "Error fetching features for track 7CMyoI8zAFAUhMnQ5NzNnu: http status: 403, code:-1 - https://api.spotify.com/v1/audio-features/?ids=7CMyoI8zAFAUhMnQ5NzNnu:\n",
      " None, reason: None\n"
     ]
    },
    {
     "name": "stderr",
     "output_type": "stream",
     "text": [
      "HTTP Error for GET to https://api.spotify.com/v1/audio-features/?ids=6d13KGoCX7FlpxQdfjcs7b with Params: {} returned 403 due to None\n",
      "HTTP Error for GET to https://api.spotify.com/v1/audio-features/?ids=15BmNnMZTnPTawkFaJv1JR with Params: {} returned 403 due to None\n",
      "HTTP Error for GET to https://api.spotify.com/v1/audio-features/?ids=6z3p3Gm5FOH1n22ummzEh7 with Params: {} returned 403 due to None\n"
     ]
    },
    {
     "name": "stdout",
     "output_type": "stream",
     "text": [
      "Error fetching features for track 6d13KGoCX7FlpxQdfjcs7b: http status: 403, code:-1 - https://api.spotify.com/v1/audio-features/?ids=6d13KGoCX7FlpxQdfjcs7b:\n",
      " None, reason: None\n",
      "Error fetching features for track 15BmNnMZTnPTawkFaJv1JR: http status: 403, code:-1 - https://api.spotify.com/v1/audio-features/?ids=15BmNnMZTnPTawkFaJv1JR:\n",
      " None, reason: None\n",
      "Error fetching features for track 6z3p3Gm5FOH1n22ummzEh7: http status: 403, code:-1 - https://api.spotify.com/v1/audio-features/?ids=6z3p3Gm5FOH1n22ummzEh7:\n",
      " None, reason: None\n"
     ]
    },
    {
     "name": "stderr",
     "output_type": "stream",
     "text": [
      "HTTP Error for GET to https://api.spotify.com/v1/audio-features/?ids=6cUaCs1lKfDOyFKMkBF8ch with Params: {} returned 403 due to None\n",
      "HTTP Error for GET to https://api.spotify.com/v1/audio-features/?ids=1gZWlVCnwSq9y91hIvkUiB with Params: {} returned 403 due to None\n",
      "HTTP Error for GET to https://api.spotify.com/v1/audio-features/?ids=6F4GPNjqX3msncEHOR18Y3 with Params: {} returned 403 due to None\n",
      "HTTP Error for GET to https://api.spotify.com/v1/audio-features/?ids=3s6H6UW7yPu2rsF8CGki60 with Params: {} returned 403 due to None\n"
     ]
    },
    {
     "name": "stdout",
     "output_type": "stream",
     "text": [
      "Error fetching features for track 6cUaCs1lKfDOyFKMkBF8ch: http status: 403, code:-1 - https://api.spotify.com/v1/audio-features/?ids=6cUaCs1lKfDOyFKMkBF8ch:\n",
      " None, reason: None\n",
      "Error fetching features for track 1gZWlVCnwSq9y91hIvkUiB: http status: 403, code:-1 - https://api.spotify.com/v1/audio-features/?ids=1gZWlVCnwSq9y91hIvkUiB:\n",
      " None, reason: None\n",
      "Error fetching features for track 6F4GPNjqX3msncEHOR18Y3: http status: 403, code:-1 - https://api.spotify.com/v1/audio-features/?ids=6F4GPNjqX3msncEHOR18Y3:\n",
      " None, reason: None\n",
      "Error fetching features for track 3s6H6UW7yPu2rsF8CGki60: http status: 403, code:-1 - https://api.spotify.com/v1/audio-features/?ids=3s6H6UW7yPu2rsF8CGki60:\n",
      " None, reason: None\n"
     ]
    },
    {
     "name": "stderr",
     "output_type": "stream",
     "text": [
      "HTTP Error for GET to https://api.spotify.com/v1/audio-features/?ids=7yDHHVKLbvDmVw1XXhDDIO with Params: {} returned 403 due to None\n",
      "HTTP Error for GET to https://api.spotify.com/v1/audio-features/?ids=0FDlo7Rz1GQXjYz3y0UxPb with Params: {} returned 403 due to None\n",
      "HTTP Error for GET to https://api.spotify.com/v1/audio-features/?ids=5FMcCBGPvas0mWPEaSvsGp with Params: {} returned 403 due to None\n",
      "HTTP Error for GET to https://api.spotify.com/v1/audio-features/?ids=1yqM5O07lL7R6UAdK5jvrR with Params: {} returned 403 due to None\n"
     ]
    },
    {
     "name": "stdout",
     "output_type": "stream",
     "text": [
      "Error fetching features for track 7yDHHVKLbvDmVw1XXhDDIO: http status: 403, code:-1 - https://api.spotify.com/v1/audio-features/?ids=7yDHHVKLbvDmVw1XXhDDIO:\n",
      " None, reason: None\n",
      "Error fetching features for track 0FDlo7Rz1GQXjYz3y0UxPb: http status: 403, code:-1 - https://api.spotify.com/v1/audio-features/?ids=0FDlo7Rz1GQXjYz3y0UxPb:\n",
      " None, reason: None\n",
      "Error fetching features for track 5FMcCBGPvas0mWPEaSvsGp: http status: 403, code:-1 - https://api.spotify.com/v1/audio-features/?ids=5FMcCBGPvas0mWPEaSvsGp:\n",
      " None, reason: None\n",
      "Error fetching features for track 1yqM5O07lL7R6UAdK5jvrR: http status: 403, code:-1 - https://api.spotify.com/v1/audio-features/?ids=1yqM5O07lL7R6UAdK5jvrR:\n",
      " None, reason: None\n"
     ]
    },
    {
     "name": "stderr",
     "output_type": "stream",
     "text": [
      "HTTP Error for GET to https://api.spotify.com/v1/audio-features/?ids=48Ix6ReYdJf2H4mKb3TIpj with Params: {} returned 403 due to None\n",
      "HTTP Error for GET to https://api.spotify.com/v1/audio-features/?ids=6z3p3Gm5FOH1n22ummzEh7 with Params: {} returned 403 due to None\n",
      "HTTP Error for GET to https://api.spotify.com/v1/audio-features/?ids=0xlWd9o8yjKpJ02WJy79kZ with Params: {} returned 403 due to None\n"
     ]
    },
    {
     "name": "stdout",
     "output_type": "stream",
     "text": [
      "Processing batch 24 of 29\n",
      "Error fetching features for track 48Ix6ReYdJf2H4mKb3TIpj: http status: 403, code:-1 - https://api.spotify.com/v1/audio-features/?ids=48Ix6ReYdJf2H4mKb3TIpj:\n",
      " None, reason: None\n",
      "Error fetching features for track 6z3p3Gm5FOH1n22ummzEh7: http status: 403, code:-1 - https://api.spotify.com/v1/audio-features/?ids=6z3p3Gm5FOH1n22ummzEh7:\n",
      " None, reason: None\n",
      "Error fetching features for track 0xlWd9o8yjKpJ02WJy79kZ: http status: 403, code:-1 - https://api.spotify.com/v1/audio-features/?ids=0xlWd9o8yjKpJ02WJy79kZ:\n",
      " None, reason: None\n"
     ]
    },
    {
     "name": "stderr",
     "output_type": "stream",
     "text": [
      "HTTP Error for GET to https://api.spotify.com/v1/audio-features/?ids=6iK2pxK4fCJLZwrzUslWgY with Params: {} returned 403 due to None\n",
      "HTTP Error for GET to https://api.spotify.com/v1/audio-features/?ids=6BJxQbKyQSdBOBIuW5TTmi with Params: {} returned 403 due to None\n",
      "HTTP Error for GET to https://api.spotify.com/v1/audio-features/?ids=6BJxQbKyQSdBOBIuW5TTmi with Params: {} returned 403 due to None\n",
      "HTTP Error for GET to https://api.spotify.com/v1/audio-features/?ids=0lZTqACM4CrVFkmcqE4gIg with Params: {} returned 403 due to None\n"
     ]
    },
    {
     "name": "stdout",
     "output_type": "stream",
     "text": [
      "Error fetching features for track 6iK2pxK4fCJLZwrzUslWgY: http status: 403, code:-1 - https://api.spotify.com/v1/audio-features/?ids=6iK2pxK4fCJLZwrzUslWgY:\n",
      " None, reason: None\n",
      "Error fetching features for track 6BJxQbKyQSdBOBIuW5TTmi: http status: 403, code:-1 - https://api.spotify.com/v1/audio-features/?ids=6BJxQbKyQSdBOBIuW5TTmi:\n",
      " None, reason: None\n",
      "Error fetching features for track 6BJxQbKyQSdBOBIuW5TTmi: http status: 403, code:-1 - https://api.spotify.com/v1/audio-features/?ids=6BJxQbKyQSdBOBIuW5TTmi:\n",
      " None, reason: None\n",
      "Error fetching features for track 0lZTqACM4CrVFkmcqE4gIg: http status: 403, code:-1 - https://api.spotify.com/v1/audio-features/?ids=0lZTqACM4CrVFkmcqE4gIg:\n",
      " None, reason: None\n"
     ]
    },
    {
     "name": "stderr",
     "output_type": "stream",
     "text": [
      "HTTP Error for GET to https://api.spotify.com/v1/audio-features/?ids=4Ks3SUM8jaYAJcxhGEuu5n with Params: {} returned 403 due to None\n",
      "HTTP Error for GET to https://api.spotify.com/v1/audio-features/?ids=6z3p3Gm5FOH1n22ummzEh7 with Params: {} returned 403 due to None\n",
      "HTTP Error for GET to https://api.spotify.com/v1/audio-features/?ids=7pTYN6Gxy3MOibdXmkzc5V with Params: {} returned 403 due to None\n",
      "HTTP Error for GET to https://api.spotify.com/v1/audio-features/?ids=50nfwKoDiSYg8zOCREWAm5 with Params: {} returned 403 due to None\n"
     ]
    },
    {
     "name": "stdout",
     "output_type": "stream",
     "text": [
      "Error fetching features for track 4Ks3SUM8jaYAJcxhGEuu5n: http status: 403, code:-1 - https://api.spotify.com/v1/audio-features/?ids=4Ks3SUM8jaYAJcxhGEuu5n:\n",
      " None, reason: None\n",
      "Error fetching features for track 6z3p3Gm5FOH1n22ummzEh7: http status: 403, code:-1 - https://api.spotify.com/v1/audio-features/?ids=6z3p3Gm5FOH1n22ummzEh7:\n",
      " None, reason: None\n",
      "Error fetching features for track 7pTYN6Gxy3MOibdXmkzc5V: http status: 403, code:-1 - https://api.spotify.com/v1/audio-features/?ids=7pTYN6Gxy3MOibdXmkzc5V:\n",
      " None, reason: None\n",
      "Error fetching features for track 50nfwKoDiSYg8zOCREWAm5: http status: 403, code:-1 - https://api.spotify.com/v1/audio-features/?ids=50nfwKoDiSYg8zOCREWAm5:\n",
      " None, reason: None\n"
     ]
    },
    {
     "name": "stderr",
     "output_type": "stream",
     "text": [
      "HTTP Error for GET to https://api.spotify.com/v1/audio-features/?ids=34gCuhDGsG4bRPIf9bb02f with Params: {} returned 403 due to None\n",
      "HTTP Error for GET to https://api.spotify.com/v1/audio-features/?ids=5vGiuYFSGekGLgbxhV1rD5 with Params: {} returned 403 due to None\n",
      "HTTP Error for GET to https://api.spotify.com/v1/audio-features/?ids=6iK2pxK4fCJLZwrzUslWgY with Params: {} returned 403 due to None\n"
     ]
    },
    {
     "name": "stdout",
     "output_type": "stream",
     "text": [
      "Error fetching features for track 34gCuhDGsG4bRPIf9bb02f: http status: 403, code:-1 - https://api.spotify.com/v1/audio-features/?ids=34gCuhDGsG4bRPIf9bb02f:\n",
      " None, reason: None\n",
      "Error fetching features for track 5vGiuYFSGekGLgbxhV1rD5: http status: 403, code:-1 - https://api.spotify.com/v1/audio-features/?ids=5vGiuYFSGekGLgbxhV1rD5:\n",
      " None, reason: None\n",
      "Error fetching features for track 6iK2pxK4fCJLZwrzUslWgY: http status: 403, code:-1 - https://api.spotify.com/v1/audio-features/?ids=6iK2pxK4fCJLZwrzUslWgY:\n",
      " None, reason: None\n"
     ]
    },
    {
     "name": "stderr",
     "output_type": "stream",
     "text": [
      "HTTP Error for GET to https://api.spotify.com/v1/audio-features/?ids=2yBxVCCJkfCuwhA0GR2VwA with Params: {} returned 403 due to None\n",
      "HTTP Error for GET to https://api.spotify.com/v1/audio-features/?ids=5G7pZ8G8NFvS1MQ9H4L7dC with Params: {} returned 403 due to None\n",
      "HTTP Error for GET to https://api.spotify.com/v1/audio-features/?ids=1qTh7hzjd361hjuzeaMFWK with Params: {} returned 403 due to None\n"
     ]
    },
    {
     "name": "stdout",
     "output_type": "stream",
     "text": [
      "Error fetching features for track 2yBxVCCJkfCuwhA0GR2VwA: http status: 403, code:-1 - https://api.spotify.com/v1/audio-features/?ids=2yBxVCCJkfCuwhA0GR2VwA:\n",
      " None, reason: None\n",
      "Error fetching features for track 5G7pZ8G8NFvS1MQ9H4L7dC: http status: 403, code:-1 - https://api.spotify.com/v1/audio-features/?ids=5G7pZ8G8NFvS1MQ9H4L7dC:\n",
      " None, reason: None\n",
      "Error fetching features for track 1qTh7hzjd361hjuzeaMFWK: http status: 403, code:-1 - https://api.spotify.com/v1/audio-features/?ids=1qTh7hzjd361hjuzeaMFWK:\n",
      " None, reason: None\n"
     ]
    },
    {
     "name": "stderr",
     "output_type": "stream",
     "text": [
      "HTTP Error for GET to https://api.spotify.com/v1/audio-features/?ids=4iEGv5Ne6HuCkFCjzxdWQK with Params: {} returned 403 due to None\n",
      "HTTP Error for GET to https://api.spotify.com/v1/audio-features/?ids=1mYcukuz7uow0wc7DmPXHU with Params: {} returned 403 due to None\n",
      "HTTP Error for GET to https://api.spotify.com/v1/audio-features/?ids=2tjWCe2W7sgvS3C8NHcdtI with Params: {} returned 403 due to None\n"
     ]
    },
    {
     "name": "stdout",
     "output_type": "stream",
     "text": [
      "Error fetching features for track 4iEGv5Ne6HuCkFCjzxdWQK: http status: 403, code:-1 - https://api.spotify.com/v1/audio-features/?ids=4iEGv5Ne6HuCkFCjzxdWQK:\n",
      " None, reason: None\n",
      "Error fetching features for track 1mYcukuz7uow0wc7DmPXHU: http status: 403, code:-1 - https://api.spotify.com/v1/audio-features/?ids=1mYcukuz7uow0wc7DmPXHU:\n",
      " None, reason: None\n",
      "Error fetching features for track 2tjWCe2W7sgvS3C8NHcdtI: http status: 403, code:-1 - https://api.spotify.com/v1/audio-features/?ids=2tjWCe2W7sgvS3C8NHcdtI:\n",
      " None, reason: None\n"
     ]
    },
    {
     "name": "stderr",
     "output_type": "stream",
     "text": [
      "HTTP Error for GET to https://api.spotify.com/v1/audio-features/?ids=4YwGnKgtq7V0EI1hYNOirm with Params: {} returned 403 due to None\n",
      "HTTP Error for GET to https://api.spotify.com/v1/audio-features/?ids=23YpzkTDtU78GK6vpgRbkM with Params: {} returned 403 due to None\n",
      "HTTP Error for GET to https://api.spotify.com/v1/audio-features/?ids=5czJMpadRTKwheBXCfiJkm with Params: {} returned 403 due to None\n"
     ]
    },
    {
     "name": "stdout",
     "output_type": "stream",
     "text": [
      "Error fetching features for track 4YwGnKgtq7V0EI1hYNOirm: http status: 403, code:-1 - https://api.spotify.com/v1/audio-features/?ids=4YwGnKgtq7V0EI1hYNOirm:\n",
      " None, reason: None\n",
      "Error fetching features for track 23YpzkTDtU78GK6vpgRbkM: http status: 403, code:-1 - https://api.spotify.com/v1/audio-features/?ids=23YpzkTDtU78GK6vpgRbkM:\n",
      " None, reason: None\n",
      "Error fetching features for track 5czJMpadRTKwheBXCfiJkm: http status: 403, code:-1 - https://api.spotify.com/v1/audio-features/?ids=5czJMpadRTKwheBXCfiJkm:\n",
      " None, reason: None\n"
     ]
    },
    {
     "name": "stderr",
     "output_type": "stream",
     "text": [
      "HTTP Error for GET to https://api.spotify.com/v1/audio-features/?ids=0fCQRUbk8LIQTdQYGNtGyv with Params: {} returned 403 due to None\n",
      "HTTP Error for GET to https://api.spotify.com/v1/audio-features/?ids=0xlWd9o8yjKpJ02WJy79kZ with Params: {} returned 403 due to None\n",
      "HTTP Error for GET to https://api.spotify.com/v1/audio-features/?ids=4r8JqkhpTb5tzSKKHnVJIJ with Params: {} returned 403 due to None\n",
      "HTTP Error for GET to https://api.spotify.com/v1/audio-features/?ids=2UKK9UEbKlykbmLVP1zWIQ with Params: {} returned 403 due to None\n"
     ]
    },
    {
     "name": "stdout",
     "output_type": "stream",
     "text": [
      "Error fetching features for track 0fCQRUbk8LIQTdQYGNtGyv: http status: 403, code:-1 - https://api.spotify.com/v1/audio-features/?ids=0fCQRUbk8LIQTdQYGNtGyv:\n",
      " None, reason: None\n",
      "Error fetching features for track 0xlWd9o8yjKpJ02WJy79kZ: http status: 403, code:-1 - https://api.spotify.com/v1/audio-features/?ids=0xlWd9o8yjKpJ02WJy79kZ:\n",
      " None, reason: None\n",
      "Error fetching features for track 4r8JqkhpTb5tzSKKHnVJIJ: http status: 403, code:-1 - https://api.spotify.com/v1/audio-features/?ids=4r8JqkhpTb5tzSKKHnVJIJ:\n",
      " None, reason: None\n",
      "Error fetching features for track 2UKK9UEbKlykbmLVP1zWIQ: http status: 403, code:-1 - https://api.spotify.com/v1/audio-features/?ids=2UKK9UEbKlykbmLVP1zWIQ:\n",
      " None, reason: None\n"
     ]
    },
    {
     "name": "stderr",
     "output_type": "stream",
     "text": [
      "HTTP Error for GET to https://api.spotify.com/v1/audio-features/?ids=1c9psBaQllfx8mpBOuIMj6 with Params: {} returned 403 due to None\n",
      "HTTP Error for GET to https://api.spotify.com/v1/audio-features/?ids=525uvrOxi8EJoNxNP2HGto with Params: {} returned 403 due to None\n",
      "HTTP Error for GET to https://api.spotify.com/v1/audio-features/?ids=0Pu5Ed4dRHcryM65r0pMV0 with Params: {} returned 403 due to None\n"
     ]
    },
    {
     "name": "stdout",
     "output_type": "stream",
     "text": [
      "Error fetching features for track 1c9psBaQllfx8mpBOuIMj6: http status: 403, code:-1 - https://api.spotify.com/v1/audio-features/?ids=1c9psBaQllfx8mpBOuIMj6:\n",
      " None, reason: None\n",
      "Error fetching features for track 525uvrOxi8EJoNxNP2HGto: http status: 403, code:-1 - https://api.spotify.com/v1/audio-features/?ids=525uvrOxi8EJoNxNP2HGto:\n",
      " None, reason: None\n",
      "Error fetching features for track 0Pu5Ed4dRHcryM65r0pMV0: http status: 403, code:-1 - https://api.spotify.com/v1/audio-features/?ids=0Pu5Ed4dRHcryM65r0pMV0:\n",
      " None, reason: None\n"
     ]
    },
    {
     "name": "stderr",
     "output_type": "stream",
     "text": [
      "HTTP Error for GET to https://api.spotify.com/v1/audio-features/?ids=5TwBs8jF4YYmnSFDkxSXKF with Params: {} returned 403 due to None\n",
      "HTTP Error for GET to https://api.spotify.com/v1/audio-features/?ids=7jnQKGGyDfRIpAnK7YYrZa with Params: {} returned 403 due to None\n",
      "HTTP Error for GET to https://api.spotify.com/v1/audio-features/?ids=1vBmaijoCBoqmwc3zs5n3s with Params: {} returned 403 due to None\n"
     ]
    },
    {
     "name": "stdout",
     "output_type": "stream",
     "text": [
      "Error fetching features for track 5TwBs8jF4YYmnSFDkxSXKF: http status: 403, code:-1 - https://api.spotify.com/v1/audio-features/?ids=5TwBs8jF4YYmnSFDkxSXKF:\n",
      " None, reason: None\n",
      "Error fetching features for track 7jnQKGGyDfRIpAnK7YYrZa: http status: 403, code:-1 - https://api.spotify.com/v1/audio-features/?ids=7jnQKGGyDfRIpAnK7YYrZa:\n",
      " None, reason: None\n",
      "Error fetching features for track 1vBmaijoCBoqmwc3zs5n3s: http status: 403, code:-1 - https://api.spotify.com/v1/audio-features/?ids=1vBmaijoCBoqmwc3zs5n3s:\n",
      " None, reason: None\n"
     ]
    },
    {
     "name": "stderr",
     "output_type": "stream",
     "text": [
      "HTTP Error for GET to https://api.spotify.com/v1/audio-features/?ids=29kwMwn3NpHxNGHFAIT7yo with Params: {} returned 403 due to None\n",
      "HTTP Error for GET to https://api.spotify.com/v1/audio-features/?ids=0pPGUL7171TRGgI6wyP8wP with Params: {} returned 403 due to None\n",
      "HTTP Error for GET to https://api.spotify.com/v1/audio-features/?ids=2TbCdbFzs2xO2nzasn0Qvw with Params: {} returned 403 due to None\n"
     ]
    },
    {
     "name": "stdout",
     "output_type": "stream",
     "text": [
      "Error fetching features for track 29kwMwn3NpHxNGHFAIT7yo: http status: 403, code:-1 - https://api.spotify.com/v1/audio-features/?ids=29kwMwn3NpHxNGHFAIT7yo:\n",
      " None, reason: None\n",
      "Error fetching features for track 0pPGUL7171TRGgI6wyP8wP: http status: 403, code:-1 - https://api.spotify.com/v1/audio-features/?ids=0pPGUL7171TRGgI6wyP8wP:\n",
      " None, reason: None\n",
      "Error fetching features for track 2TbCdbFzs2xO2nzasn0Qvw: http status: 403, code:-1 - https://api.spotify.com/v1/audio-features/?ids=2TbCdbFzs2xO2nzasn0Qvw:\n",
      " None, reason: None\n"
     ]
    },
    {
     "name": "stderr",
     "output_type": "stream",
     "text": [
      "HTTP Error for GET to https://api.spotify.com/v1/audio-features/?ids=74AqVxZ3oXwJ8olHssBUG3 with Params: {} returned 403 due to None\n",
      "HTTP Error for GET to https://api.spotify.com/v1/audio-features/?ids=1fkjRQA8wXPPyxqYLbxuqy with Params: {} returned 403 due to None\n",
      "HTTP Error for GET to https://api.spotify.com/v1/audio-features/?ids=1cfVazMGaMohXaEMOmNv6c with Params: {} returned 403 due to None\n"
     ]
    },
    {
     "name": "stdout",
     "output_type": "stream",
     "text": [
      "Error fetching features for track 74AqVxZ3oXwJ8olHssBUG3: http status: 403, code:-1 - https://api.spotify.com/v1/audio-features/?ids=74AqVxZ3oXwJ8olHssBUG3:\n",
      " None, reason: None\n",
      "Error fetching features for track 1fkjRQA8wXPPyxqYLbxuqy: http status: 403, code:-1 - https://api.spotify.com/v1/audio-features/?ids=1fkjRQA8wXPPyxqYLbxuqy:\n",
      " None, reason: None\n",
      "Error fetching features for track 1cfVazMGaMohXaEMOmNv6c: http status: 403, code:-1 - https://api.spotify.com/v1/audio-features/?ids=1cfVazMGaMohXaEMOmNv6c:\n",
      " None, reason: None\n"
     ]
    },
    {
     "name": "stderr",
     "output_type": "stream",
     "text": [
      "HTTP Error for GET to https://api.spotify.com/v1/audio-features/?ids=1vSXwYeKnzsVvekSpqVabx with Params: {} returned 403 due to None\n",
      "HTTP Error for GET to https://api.spotify.com/v1/audio-features/?ids=5dS7HcRa9kER2qDba2iSOd with Params: {} returned 403 due to None\n",
      "HTTP Error for GET to https://api.spotify.com/v1/audio-features/?ids=0Pu5Ed4dRHcryM65r0pMV0 with Params: {} returned 403 due to None\n",
      "HTTP Error for GET to https://api.spotify.com/v1/audio-features/?ids=5TwBs8jF4YYmnSFDkxSXKF with Params: {} returned 403 due to None\n"
     ]
    },
    {
     "name": "stdout",
     "output_type": "stream",
     "text": [
      "Error fetching features for track 1vSXwYeKnzsVvekSpqVabx: http status: 403, code:-1 - https://api.spotify.com/v1/audio-features/?ids=1vSXwYeKnzsVvekSpqVabx:\n",
      " None, reason: None\n",
      "Error fetching features for track 5dS7HcRa9kER2qDba2iSOd: http status: 403, code:-1 - https://api.spotify.com/v1/audio-features/?ids=5dS7HcRa9kER2qDba2iSOd:\n",
      " None, reason: None\n",
      "Error fetching features for track 0Pu5Ed4dRHcryM65r0pMV0: http status: 403, code:-1 - https://api.spotify.com/v1/audio-features/?ids=0Pu5Ed4dRHcryM65r0pMV0:\n",
      " None, reason: None\n",
      "Error fetching features for track 5TwBs8jF4YYmnSFDkxSXKF: http status: 403, code:-1 - https://api.spotify.com/v1/audio-features/?ids=5TwBs8jF4YYmnSFDkxSXKF:\n",
      " None, reason: None\n"
     ]
    },
    {
     "name": "stderr",
     "output_type": "stream",
     "text": [
      "HTTP Error for GET to https://api.spotify.com/v1/audio-features/?ids=0Pu5Ed4dRHcryM65r0pMV0 with Params: {} returned 403 due to None\n",
      "HTTP Error for GET to https://api.spotify.com/v1/audio-features/?ids=2H9SvhMVXSYPxxkQgzkTKp with Params: {} returned 403 due to None\n"
     ]
    },
    {
     "name": "stdout",
     "output_type": "stream",
     "text": [
      "Error fetching features for track 0Pu5Ed4dRHcryM65r0pMV0: http status: 403, code:-1 - https://api.spotify.com/v1/audio-features/?ids=0Pu5Ed4dRHcryM65r0pMV0:\n",
      " None, reason: None\n",
      "Error fetching features for track 2H9SvhMVXSYPxxkQgzkTKp: http status: 403, code:-1 - https://api.spotify.com/v1/audio-features/?ids=2H9SvhMVXSYPxxkQgzkTKp:\n",
      " None, reason: None\n"
     ]
    },
    {
     "name": "stderr",
     "output_type": "stream",
     "text": [
      "HTTP Error for GET to https://api.spotify.com/v1/audio-features/?ids=4KSHc0ATBNg29sFqUmcfNq with Params: {} returned 403 due to None\n",
      "HTTP Error for GET to https://api.spotify.com/v1/audio-features/?ids=6iK2pxK4fCJLZwrzUslWgY with Params: {} returned 403 due to None\n",
      "HTTP Error for GET to https://api.spotify.com/v1/audio-features/?ids=3OAFzjwWionh8OfM4kgf2R with Params: {} returned 403 due to None\n",
      "HTTP Error for GET to https://api.spotify.com/v1/audio-features/?ids=3OAFzjwWionh8OfM4kgf2R with Params: {} returned 403 due to None\n"
     ]
    },
    {
     "name": "stdout",
     "output_type": "stream",
     "text": [
      "Error fetching features for track 4KSHc0ATBNg29sFqUmcfNq: http status: 403, code:-1 - https://api.spotify.com/v1/audio-features/?ids=4KSHc0ATBNg29sFqUmcfNq:\n",
      " None, reason: None\n",
      "Error fetching features for track 6iK2pxK4fCJLZwrzUslWgY: http status: 403, code:-1 - https://api.spotify.com/v1/audio-features/?ids=6iK2pxK4fCJLZwrzUslWgY:\n",
      " None, reason: None\n",
      "Error fetching features for track 3OAFzjwWionh8OfM4kgf2R: http status: 403, code:-1 - https://api.spotify.com/v1/audio-features/?ids=3OAFzjwWionh8OfM4kgf2R:\n",
      " None, reason: None\n"
     ]
    },
    {
     "name": "stderr",
     "output_type": "stream",
     "text": [
      "HTTP Error for GET to https://api.spotify.com/v1/audio-features/?ids=4gjFNGQ0BodNqiOAOAOMSW with Params: {} returned 403 due to None\n"
     ]
    },
    {
     "name": "stdout",
     "output_type": "stream",
     "text": [
      "Error fetching features for track 3OAFzjwWionh8OfM4kgf2R: http status: 403, code:-1 - https://api.spotify.com/v1/audio-features/?ids=3OAFzjwWionh8OfM4kgf2R:\n",
      " None, reason: None\n",
      "Error fetching features for track 4gjFNGQ0BodNqiOAOAOMSW: http status: 403, code:-1 - https://api.spotify.com/v1/audio-features/?ids=4gjFNGQ0BodNqiOAOAOMSW:\n",
      " None, reason: None\n"
     ]
    },
    {
     "name": "stderr",
     "output_type": "stream",
     "text": [
      "HTTP Error for GET to https://api.spotify.com/v1/audio-features/?ids=0zQa7QXLpUZfrrsWbgDZll with Params: {} returned 403 due to None\n",
      "HTTP Error for GET to https://api.spotify.com/v1/audio-features/?ids=4gjFNGQ0BodNqiOAOAOMSW with Params: {} returned 403 due to None\n"
     ]
    },
    {
     "name": "stdout",
     "output_type": "stream",
     "text": [
      "Processing batch 25 of 29\n",
      "Error fetching features for track 0zQa7QXLpUZfrrsWbgDZll: http status: 403, code:-1 - https://api.spotify.com/v1/audio-features/?ids=0zQa7QXLpUZfrrsWbgDZll:\n",
      " None, reason: None\n",
      "Error fetching features for track 4gjFNGQ0BodNqiOAOAOMSW: http status: 403, code:-1 - https://api.spotify.com/v1/audio-features/?ids=4gjFNGQ0BodNqiOAOAOMSW:\n",
      " None, reason: None\n"
     ]
    },
    {
     "name": "stderr",
     "output_type": "stream",
     "text": [
      "HTTP Error for GET to https://api.spotify.com/v1/audio-features/?ids=6z3p3Gm5FOH1n22ummzEh7 with Params: {} returned 403 due to None\n",
      "HTTP Error for GET to https://api.spotify.com/v1/audio-features/?ids=5Cdd8p9sxRczQX6GFC8CdH with Params: {} returned 403 due to None\n",
      "HTTP Error for GET to https://api.spotify.com/v1/audio-features/?ids=3At4t5vZ0lDuNWLBPEk6Ck with Params: {} returned 403 due to None\n",
      "HTTP Error for GET to https://api.spotify.com/v1/audio-features/?ids=6iK2pxK4fCJLZwrzUslWgY with Params: {} returned 403 due to None\n"
     ]
    },
    {
     "name": "stdout",
     "output_type": "stream",
     "text": [
      "Error fetching features for track 6z3p3Gm5FOH1n22ummzEh7: http status: 403, code:-1 - https://api.spotify.com/v1/audio-features/?ids=6z3p3Gm5FOH1n22ummzEh7:\n",
      " None, reason: None\n",
      "Error fetching features for track 5Cdd8p9sxRczQX6GFC8CdH: http status: 403, code:-1 - https://api.spotify.com/v1/audio-features/?ids=5Cdd8p9sxRczQX6GFC8CdH:\n",
      " None, reason: None\n",
      "Error fetching features for track 3At4t5vZ0lDuNWLBPEk6Ck: http status: 403, code:-1 - https://api.spotify.com/v1/audio-features/?ids=3At4t5vZ0lDuNWLBPEk6Ck:\n",
      " None, reason: None\n",
      "Error fetching features for track 6iK2pxK4fCJLZwrzUslWgY: http status: 403, code:-1 - https://api.spotify.com/v1/audio-features/?ids=6iK2pxK4fCJLZwrzUslWgY:\n",
      " None, reason: None\n"
     ]
    },
    {
     "name": "stderr",
     "output_type": "stream",
     "text": [
      "HTTP Error for GET to https://api.spotify.com/v1/audio-features/?ids=5q0pLxhyHvZXnYxaygt2Az with Params: {} returned 403 due to None\n",
      "HTTP Error for GET to https://api.spotify.com/v1/audio-features/?ids=0prCd0oIexRBiok6kBOeLp with Params: {} returned 403 due to None\n",
      "HTTP Error for GET to https://api.spotify.com/v1/audio-features/?ids=0prCd0oIexRBiok6kBOeLp with Params: {} returned 403 due to None\n"
     ]
    },
    {
     "name": "stdout",
     "output_type": "stream",
     "text": [
      "Error fetching features for track 5q0pLxhyHvZXnYxaygt2Az: http status: 403, code:-1 - https://api.spotify.com/v1/audio-features/?ids=5q0pLxhyHvZXnYxaygt2Az:\n",
      " None, reason: None\n",
      "Error fetching features for track 0prCd0oIexRBiok6kBOeLp: http status: 403, code:-1 - https://api.spotify.com/v1/audio-features/?ids=0prCd0oIexRBiok6kBOeLp:\n",
      " None, reason: None\n",
      "Error fetching features for track 0prCd0oIexRBiok6kBOeLp: http status: 403, code:-1 - https://api.spotify.com/v1/audio-features/?ids=0prCd0oIexRBiok6kBOeLp:\n",
      " None, reason: None\n"
     ]
    },
    {
     "name": "stderr",
     "output_type": "stream",
     "text": [
      "HTTP Error for GET to https://api.spotify.com/v1/audio-features/?ids=4CuBg0h6kD85MPN8Ntq6Zr with Params: {} returned 403 due to None\n",
      "HTTP Error for GET to https://api.spotify.com/v1/audio-features/?ids=4Q3oEhpsDommo2naYhCpAl with Params: {} returned 403 due to None\n",
      "HTTP Error for GET to https://api.spotify.com/v1/audio-features/?ids=0snQrp1VaY5Pj1YIHRJpRJ with Params: {} returned 403 due to None\n"
     ]
    },
    {
     "name": "stdout",
     "output_type": "stream",
     "text": [
      "Error fetching features for track 4CuBg0h6kD85MPN8Ntq6Zr: http status: 403, code:-1 - https://api.spotify.com/v1/audio-features/?ids=4CuBg0h6kD85MPN8Ntq6Zr:\n",
      " None, reason: None\n",
      "Error fetching features for track 4Q3oEhpsDommo2naYhCpAl: http status: 403, code:-1 - https://api.spotify.com/v1/audio-features/?ids=4Q3oEhpsDommo2naYhCpAl:\n",
      " None, reason: None\n",
      "Error fetching features for track 0snQrp1VaY5Pj1YIHRJpRJ: http status: 403, code:-1 - https://api.spotify.com/v1/audio-features/?ids=0snQrp1VaY5Pj1YIHRJpRJ:\n",
      " None, reason: None\n"
     ]
    },
    {
     "name": "stderr",
     "output_type": "stream",
     "text": [
      "HTTP Error for GET to https://api.spotify.com/v1/audio-features/?ids=14k5ZaCWRYwXdz2FWCaQby with Params: {} returned 403 due to None\n",
      "HTTP Error for GET to https://api.spotify.com/v1/audio-features/?ids=6CCV7FeYgEQ7Ekbes6B36Q with Params: {} returned 403 due to None\n",
      "HTTP Error for GET to https://api.spotify.com/v1/audio-features/?ids=7CMyoI8zAFAUhMnQ5NzNnu with Params: {} returned 403 due to None\n"
     ]
    },
    {
     "name": "stdout",
     "output_type": "stream",
     "text": [
      "Error fetching features for track 14k5ZaCWRYwXdz2FWCaQby: http status: 403, code:-1 - https://api.spotify.com/v1/audio-features/?ids=14k5ZaCWRYwXdz2FWCaQby:\n",
      " None, reason: None\n",
      "Error fetching features for track 6CCV7FeYgEQ7Ekbes6B36Q: http status: 403, code:-1 - https://api.spotify.com/v1/audio-features/?ids=6CCV7FeYgEQ7Ekbes6B36Q:\n",
      " None, reason: None\n",
      "Error fetching features for track 7CMyoI8zAFAUhMnQ5NzNnu: http status: 403, code:-1 - https://api.spotify.com/v1/audio-features/?ids=7CMyoI8zAFAUhMnQ5NzNnu:\n",
      " None, reason: None\n"
     ]
    },
    {
     "name": "stderr",
     "output_type": "stream",
     "text": [
      "HTTP Error for GET to https://api.spotify.com/v1/audio-features/?ids=5WncH5iZ5GFlnXm7jKEXVP with Params: {} returned 403 due to None\n",
      "HTTP Error for GET to https://api.spotify.com/v1/audio-features/?ids=7CMyoI8zAFAUhMnQ5NzNnu with Params: {} returned 403 due to None\n",
      "HTTP Error for GET to https://api.spotify.com/v1/audio-features/?ids=2hykXvjXceH1wGiJErDJjj with Params: {} returned 403 due to None\n",
      "HTTP Error for GET to https://api.spotify.com/v1/audio-features/?ids=29kwMwn3NpHxNGHFAIT7yo with Params: {} returned 403 due to None\n"
     ]
    },
    {
     "name": "stdout",
     "output_type": "stream",
     "text": [
      "Error fetching features for track 5WncH5iZ5GFlnXm7jKEXVP: http status: 403, code:-1 - https://api.spotify.com/v1/audio-features/?ids=5WncH5iZ5GFlnXm7jKEXVP:\n",
      " None, reason: None\n",
      "Error fetching features for track 7CMyoI8zAFAUhMnQ5NzNnu: http status: 403, code:-1 - https://api.spotify.com/v1/audio-features/?ids=7CMyoI8zAFAUhMnQ5NzNnu:\n",
      " None, reason: None\n",
      "Error fetching features for track 2hykXvjXceH1wGiJErDJjj: http status: 403, code:-1 - https://api.spotify.com/v1/audio-features/?ids=2hykXvjXceH1wGiJErDJjj:\n",
      " None, reason: None\n",
      "Error fetching features for track 29kwMwn3NpHxNGHFAIT7yo: http status: 403, code:-1 - https://api.spotify.com/v1/audio-features/?ids=29kwMwn3NpHxNGHFAIT7yo:\n",
      " None, reason: None\n"
     ]
    },
    {
     "name": "stderr",
     "output_type": "stream",
     "text": [
      "HTTP Error for GET to https://api.spotify.com/v1/audio-features/?ids=0YCPCY9WhQFMFtoSpj6dhL with Params: {} returned 403 due to None\n",
      "HTTP Error for GET to https://api.spotify.com/v1/audio-features/?ids=48Ix6ReYdJf2H4mKb3TIpj with Params: {} returned 403 due to None\n",
      "HTTP Error for GET to https://api.spotify.com/v1/audio-features/?ids=2SN54RFfaafTk7TE1n1Na4 with Params: {} returned 403 due to None\n",
      "HTTP Error for GET to https://api.spotify.com/v1/audio-features/?ids=5fXslGZPI5Cco6PKHzlSL3 with Params: {} returned 403 due to None\n"
     ]
    },
    {
     "name": "stdout",
     "output_type": "stream",
     "text": [
      "Error fetching features for track 0YCPCY9WhQFMFtoSpj6dhL: http status: 403, code:-1 - https://api.spotify.com/v1/audio-features/?ids=0YCPCY9WhQFMFtoSpj6dhL:\n",
      " None, reason: None\n",
      "Error fetching features for track 48Ix6ReYdJf2H4mKb3TIpj: http status: 403, code:-1 - https://api.spotify.com/v1/audio-features/?ids=48Ix6ReYdJf2H4mKb3TIpj:\n",
      " None, reason: None\n",
      "Error fetching features for track 2SN54RFfaafTk7TE1n1Na4: http status: 403, code:-1 - https://api.spotify.com/v1/audio-features/?ids=2SN54RFfaafTk7TE1n1Na4:\n",
      " None, reason: None\n",
      "Error fetching features for track 5fXslGZPI5Cco6PKHzlSL3: http status: 403, code:-1 - https://api.spotify.com/v1/audio-features/?ids=5fXslGZPI5Cco6PKHzlSL3:\n",
      " None, reason: None\n"
     ]
    },
    {
     "name": "stderr",
     "output_type": "stream",
     "text": [
      "HTTP Error for GET to https://api.spotify.com/v1/audio-features/?ids=0p5iOuS1ljMtQpaGi4W8Tl with Params: {} returned 403 due to None\n",
      "HTTP Error for GET to https://api.spotify.com/v1/audio-features/?ids=4qOtDofZEAOYJ1Dq9GXgiM with Params: {} returned 403 due to None\n",
      "HTTP Error for GET to https://api.spotify.com/v1/audio-features/?ids=0645eBDehHcqfiF15hscQV with Params: {} returned 403 due to None\n"
     ]
    },
    {
     "name": "stdout",
     "output_type": "stream",
     "text": [
      "Error fetching features for track 0p5iOuS1ljMtQpaGi4W8Tl: http status: 403, code:-1 - https://api.spotify.com/v1/audio-features/?ids=0p5iOuS1ljMtQpaGi4W8Tl:\n",
      " None, reason: None\n",
      "Error fetching features for track 4qOtDofZEAOYJ1Dq9GXgiM: http status: 403, code:-1 - https://api.spotify.com/v1/audio-features/?ids=4qOtDofZEAOYJ1Dq9GXgiM:\n",
      " None, reason: None\n",
      "Error fetching features for track 0645eBDehHcqfiF15hscQV: http status: 403, code:-1 - https://api.spotify.com/v1/audio-features/?ids=0645eBDehHcqfiF15hscQV:\n",
      " None, reason: None\n"
     ]
    },
    {
     "name": "stderr",
     "output_type": "stream",
     "text": [
      "HTTP Error for GET to https://api.spotify.com/v1/audio-features/?ids=1vSXwYeKnzsVvekSpqVabx with Params: {} returned 403 due to None\n",
      "HTTP Error for GET to https://api.spotify.com/v1/audio-features/?ids=0YCPCY9WhQFMFtoSpj6dhL with Params: {} returned 403 due to None\n",
      "HTTP Error for GET to https://api.spotify.com/v1/audio-features/?ids=6ZoCBDOB308GqUdt2AJrV2 with Params: {} returned 403 due to None\n"
     ]
    },
    {
     "name": "stdout",
     "output_type": "stream",
     "text": [
      "Error fetching features for track 1vSXwYeKnzsVvekSpqVabx: http status: 403, code:-1 - https://api.spotify.com/v1/audio-features/?ids=1vSXwYeKnzsVvekSpqVabx:\n",
      " None, reason: None\n",
      "Error fetching features for track 0YCPCY9WhQFMFtoSpj6dhL: http status: 403, code:-1 - https://api.spotify.com/v1/audio-features/?ids=0YCPCY9WhQFMFtoSpj6dhL:\n",
      " None, reason: None\n",
      "Error fetching features for track 6ZoCBDOB308GqUdt2AJrV2: http status: 403, code:-1 - https://api.spotify.com/v1/audio-features/?ids=6ZoCBDOB308GqUdt2AJrV2:\n",
      " None, reason: None\n"
     ]
    },
    {
     "name": "stderr",
     "output_type": "stream",
     "text": [
      "HTTP Error for GET to https://api.spotify.com/v1/audio-features/?ids=52itZ0w0CydihB2JCZEIft with Params: {} returned 403 due to None\n",
      "HTTP Error for GET to https://api.spotify.com/v1/audio-features/?ids=6GQK4G5o60E8YA18DGpAzv with Params: {} returned 403 due to None\n",
      "HTTP Error for GET to https://api.spotify.com/v1/audio-features/?ids=48Ix6ReYdJf2H4mKb3TIpj with Params: {} returned 403 due to None\n"
     ]
    },
    {
     "name": "stdout",
     "output_type": "stream",
     "text": [
      "Error fetching features for track 52itZ0w0CydihB2JCZEIft: http status: 403, code:-1 - https://api.spotify.com/v1/audio-features/?ids=52itZ0w0CydihB2JCZEIft:\n",
      " None, reason: None\n",
      "Error fetching features for track 6GQK4G5o60E8YA18DGpAzv: http status: 403, code:-1 - https://api.spotify.com/v1/audio-features/?ids=6GQK4G5o60E8YA18DGpAzv:\n",
      " None, reason: None\n",
      "Error fetching features for track 48Ix6ReYdJf2H4mKb3TIpj: http status: 403, code:-1 - https://api.spotify.com/v1/audio-features/?ids=48Ix6ReYdJf2H4mKb3TIpj:\n",
      " None, reason: None\n"
     ]
    },
    {
     "name": "stderr",
     "output_type": "stream",
     "text": [
      "HTTP Error for GET to https://api.spotify.com/v1/audio-features/?ids=2LcXJP95e4HKydTZ2mYfrx with Params: {} returned 403 due to None\n",
      "HTTP Error for GET to https://api.spotify.com/v1/audio-features/?ids=2UKK9UEbKlykbmLVP1zWIQ with Params: {} returned 403 due to None\n",
      "HTTP Error for GET to https://api.spotify.com/v1/audio-features/?ids=5dS7HcRa9kER2qDba2iSOd with Params: {} returned 403 due to None\n"
     ]
    },
    {
     "name": "stdout",
     "output_type": "stream",
     "text": [
      "Error fetching features for track 2LcXJP95e4HKydTZ2mYfrx: http status: 403, code:-1 - https://api.spotify.com/v1/audio-features/?ids=2LcXJP95e4HKydTZ2mYfrx:\n",
      " None, reason: None\n",
      "Error fetching features for track 2UKK9UEbKlykbmLVP1zWIQ: http status: 403, code:-1 - https://api.spotify.com/v1/audio-features/?ids=2UKK9UEbKlykbmLVP1zWIQ:\n",
      " None, reason: None\n",
      "Error fetching features for track 5dS7HcRa9kER2qDba2iSOd: http status: 403, code:-1 - https://api.spotify.com/v1/audio-features/?ids=5dS7HcRa9kER2qDba2iSOd:\n",
      " None, reason: None\n"
     ]
    },
    {
     "name": "stderr",
     "output_type": "stream",
     "text": [
      "HTTP Error for GET to https://api.spotify.com/v1/audio-features/?ids=4eKWtXoGajnaGKvKAcgc8f with Params: {} returned 403 due to None\n",
      "HTTP Error for GET to https://api.spotify.com/v1/audio-features/?ids=5BE6214zFFNKBCYYj1sFpu with Params: {} returned 403 due to None\n",
      "HTTP Error for GET to https://api.spotify.com/v1/audio-features/?ids=5ecrmd9bRGk3JoYi5Y4yPL with Params: {} returned 403 due to None\n",
      "HTTP Error for GET to https://api.spotify.com/v1/audio-features/?ids=7cMYs2LIf8YNqegnr0svwh with Params: {} returned 403 due to None\n"
     ]
    },
    {
     "name": "stdout",
     "output_type": "stream",
     "text": [
      "Error fetching features for track 4eKWtXoGajnaGKvKAcgc8f: http status: 403, code:-1 - https://api.spotify.com/v1/audio-features/?ids=4eKWtXoGajnaGKvKAcgc8f:\n",
      " None, reason: None\n",
      "Error fetching features for track 5BE6214zFFNKBCYYj1sFpu: http status: 403, code:-1 - https://api.spotify.com/v1/audio-features/?ids=5BE6214zFFNKBCYYj1sFpu:\n",
      " None, reason: None\n",
      "Error fetching features for track 5ecrmd9bRGk3JoYi5Y4yPL: http status: 403, code:-1 - https://api.spotify.com/v1/audio-features/?ids=5ecrmd9bRGk3JoYi5Y4yPL:\n",
      " None, reason: None\n",
      "Error fetching features for track 7cMYs2LIf8YNqegnr0svwh: http status: 403, code:-1 - https://api.spotify.com/v1/audio-features/?ids=7cMYs2LIf8YNqegnr0svwh:\n",
      " None, reason: None\n"
     ]
    },
    {
     "name": "stderr",
     "output_type": "stream",
     "text": [
      "HTTP Error for GET to https://api.spotify.com/v1/audio-features/?ids=0645eBDehHcqfiF15hscQV with Params: {} returned 403 due to None\n",
      "HTTP Error for GET to https://api.spotify.com/v1/audio-features/?ids=39bx4zZrPxTjw8VNuvjt6X with Params: {} returned 403 due to None\n",
      "HTTP Error for GET to https://api.spotify.com/v1/audio-features/?ids=4qRcjFkFqSpLBzcbLDt7HL with Params: {} returned 403 due to None\n"
     ]
    },
    {
     "name": "stdout",
     "output_type": "stream",
     "text": [
      "Error fetching features for track 0645eBDehHcqfiF15hscQV: http status: 403, code:-1 - https://api.spotify.com/v1/audio-features/?ids=0645eBDehHcqfiF15hscQV:\n",
      " None, reason: None\n",
      "Error fetching features for track 39bx4zZrPxTjw8VNuvjt6X: http status: 403, code:-1 - https://api.spotify.com/v1/audio-features/?ids=39bx4zZrPxTjw8VNuvjt6X:\n",
      " None, reason: None\n",
      "Error fetching features for track 4qRcjFkFqSpLBzcbLDt7HL: http status: 403, code:-1 - https://api.spotify.com/v1/audio-features/?ids=4qRcjFkFqSpLBzcbLDt7HL:\n",
      " None, reason: None\n"
     ]
    },
    {
     "name": "stderr",
     "output_type": "stream",
     "text": [
      "HTTP Error for GET to https://api.spotify.com/v1/audio-features/?ids=5arambGXhSW6TZUR9L0tSw with Params: {} returned 403 due to None\n",
      "HTTP Error for GET to https://api.spotify.com/v1/audio-features/?ids=72Z2D7jpKevicRkyL45mbw with Params: {} returned 403 due to None\n",
      "HTTP Error for GET to https://api.spotify.com/v1/audio-features/?ids=6iK2pxK4fCJLZwrzUslWgY with Params: {} returned 403 due to None\n",
      "HTTP Error for GET to https://api.spotify.com/v1/audio-features/?ids=7qZc5Nq0uIgdiRyUMcxWot with Params: {} returned 403 due to None\n"
     ]
    },
    {
     "name": "stdout",
     "output_type": "stream",
     "text": [
      "Error fetching features for track 5arambGXhSW6TZUR9L0tSw: http status: 403, code:-1 - https://api.spotify.com/v1/audio-features/?ids=5arambGXhSW6TZUR9L0tSw:\n",
      " None, reason: None\n",
      "Error fetching features for track 72Z2D7jpKevicRkyL45mbw: http status: 403, code:-1 - https://api.spotify.com/v1/audio-features/?ids=72Z2D7jpKevicRkyL45mbw:\n",
      " None, reason: None\n",
      "Error fetching features for track 6iK2pxK4fCJLZwrzUslWgY: http status: 403, code:-1 - https://api.spotify.com/v1/audio-features/?ids=6iK2pxK4fCJLZwrzUslWgY:\n",
      " None, reason: None\n",
      "Error fetching features for track 7qZc5Nq0uIgdiRyUMcxWot: http status: 403, code:-1 - https://api.spotify.com/v1/audio-features/?ids=7qZc5Nq0uIgdiRyUMcxWot:\n",
      " None, reason: None\n"
     ]
    },
    {
     "name": "stderr",
     "output_type": "stream",
     "text": [
      "HTTP Error for GET to https://api.spotify.com/v1/audio-features/?ids=4chxJYv0qsOKQukt6cKp97 with Params: {} returned 403 due to None\n",
      "HTTP Error for GET to https://api.spotify.com/v1/audio-features/?ids=1pvnuYtf6Ty09yxqAhko0o with Params: {} returned 403 due to None\n",
      "HTTP Error for GET to https://api.spotify.com/v1/audio-features/?ids=1oPSszvaYwj64D8Yi8ixMs with Params: {} returned 403 due to None\n"
     ]
    },
    {
     "name": "stdout",
     "output_type": "stream",
     "text": [
      "Error fetching features for track 4chxJYv0qsOKQukt6cKp97: http status: 403, code:-1 - https://api.spotify.com/v1/audio-features/?ids=4chxJYv0qsOKQukt6cKp97:\n",
      " None, reason: None\n",
      "Error fetching features for track 1pvnuYtf6Ty09yxqAhko0o: http status: 403, code:-1 - https://api.spotify.com/v1/audio-features/?ids=1pvnuYtf6Ty09yxqAhko0o:\n",
      " None, reason: None\n",
      "Error fetching features for track 1oPSszvaYwj64D8Yi8ixMs: http status: 403, code:-1 - https://api.spotify.com/v1/audio-features/?ids=1oPSszvaYwj64D8Yi8ixMs:\n",
      " None, reason: None\n"
     ]
    },
    {
     "name": "stderr",
     "output_type": "stream",
     "text": [
      "HTTP Error for GET to https://api.spotify.com/v1/audio-features/?ids=7n56JgxCsWXr8om8KCzqNz with Params: {} returned 403 due to None\n"
     ]
    },
    {
     "name": "stdout",
     "output_type": "stream",
     "text": [
      "Error fetching features for track 7n56JgxCsWXr8om8KCzqNz: http status: 403, code:-1 - https://api.spotify.com/v1/audio-features/?ids=7n56JgxCsWXr8om8KCzqNz:\n",
      " None, reason: None\n"
     ]
    },
    {
     "name": "stderr",
     "output_type": "stream",
     "text": [
      "HTTP Error for GET to https://api.spotify.com/v1/audio-features/?ids=4tJv7bk4bVovqfe64RKVVq with Params: {} returned 403 due to None\n",
      "HTTP Error for GET to https://api.spotify.com/v1/audio-features/?ids=3vGy3xMTFig0f0tUrjkbVQ with Params: {} returned 403 due to None\n"
     ]
    },
    {
     "name": "stdout",
     "output_type": "stream",
     "text": [
      "Processing batch 26 of 29\n",
      "Error fetching features for track 4tJv7bk4bVovqfe64RKVVq: http status: 403, code:-1 - https://api.spotify.com/v1/audio-features/?ids=4tJv7bk4bVovqfe64RKVVq:\n",
      " None, reason: None\n",
      "Error fetching features for track 3vGy3xMTFig0f0tUrjkbVQ: http status: 403, code:-1 - https://api.spotify.com/v1/audio-features/?ids=3vGy3xMTFig0f0tUrjkbVQ:\n",
      " None, reason: None\n"
     ]
    },
    {
     "name": "stderr",
     "output_type": "stream",
     "text": [
      "HTTP Error for GET to https://api.spotify.com/v1/audio-features/?ids=2cYVtBHkrkk7F2qU2Y7Fn0 with Params: {} returned 403 due to None\n",
      "HTTP Error for GET to https://api.spotify.com/v1/audio-features/?ids=4kUWdUJZnxWMxY31AzorKa with Params: {} returned 403 due to None\n",
      "HTTP Error for GET to https://api.spotify.com/v1/audio-features/?ids=4kUWdUJZnxWMxY31AzorKa with Params: {} returned 403 due to None\n"
     ]
    },
    {
     "name": "stdout",
     "output_type": "stream",
     "text": [
      "Error fetching features for track 2cYVtBHkrkk7F2qU2Y7Fn0: http status: 403, code:-1 - https://api.spotify.com/v1/audio-features/?ids=2cYVtBHkrkk7F2qU2Y7Fn0:\n",
      " None, reason: None\n",
      "Error fetching features for track 4kUWdUJZnxWMxY31AzorKa: http status: 403, code:-1 - https://api.spotify.com/v1/audio-features/?ids=4kUWdUJZnxWMxY31AzorKa:\n",
      " None, reason: None\n",
      "Error fetching features for track 4kUWdUJZnxWMxY31AzorKa: http status: 403, code:-1 - https://api.spotify.com/v1/audio-features/?ids=4kUWdUJZnxWMxY31AzorKa:\n",
      " None, reason: None\n"
     ]
    },
    {
     "name": "stderr",
     "output_type": "stream",
     "text": [
      "HTTP Error for GET to https://api.spotify.com/v1/audio-features/?ids=0Pu5Ed4dRHcryM65r0pMV0 with Params: {} returned 403 due to None\n",
      "HTTP Error for GET to https://api.spotify.com/v1/audio-features/?ids=0rHlfhO0oh1klqPfr7ZUd2 with Params: {} returned 403 due to None\n",
      "HTTP Error for GET to https://api.spotify.com/v1/audio-features/?ids=1fGXJZny7HUQnLKwttxmYw with Params: {} returned 403 due to None\n",
      "HTTP Error for GET to https://api.spotify.com/v1/audio-features/?ids=3eSm4iAkLsn3BeggfiQOH9 with Params: {} returned 403 due to None\n"
     ]
    },
    {
     "name": "stdout",
     "output_type": "stream",
     "text": [
      "Error fetching features for track 0Pu5Ed4dRHcryM65r0pMV0: http status: 403, code:-1 - https://api.spotify.com/v1/audio-features/?ids=0Pu5Ed4dRHcryM65r0pMV0:\n",
      " None, reason: None\n",
      "Error fetching features for track 0rHlfhO0oh1klqPfr7ZUd2: http status: 403, code:-1 - https://api.spotify.com/v1/audio-features/?ids=0rHlfhO0oh1klqPfr7ZUd2:\n",
      " None, reason: None\n",
      "Error fetching features for track 1fGXJZny7HUQnLKwttxmYw: http status: 403, code:-1 - https://api.spotify.com/v1/audio-features/?ids=1fGXJZny7HUQnLKwttxmYw:\n",
      " None, reason: None\n",
      "Error fetching features for track 3eSm4iAkLsn3BeggfiQOH9: http status: 403, code:-1 - https://api.spotify.com/v1/audio-features/?ids=3eSm4iAkLsn3BeggfiQOH9:\n",
      " None, reason: None\n"
     ]
    },
    {
     "name": "stderr",
     "output_type": "stream",
     "text": [
      "HTTP Error for GET to https://api.spotify.com/v1/audio-features/?ids=3oIWJujQwLjGBG8kZGnJkg with Params: {} returned 403 due to None\n",
      "HTTP Error for GET to https://api.spotify.com/v1/audio-features/?ids=648GXyKI62FhbeBq0levWr with Params: {} returned 403 due to None\n"
     ]
    },
    {
     "name": "stdout",
     "output_type": "stream",
     "text": [
      "Error fetching features for track 3oIWJujQwLjGBG8kZGnJkg: http status: 403, code:-1 - https://api.spotify.com/v1/audio-features/?ids=3oIWJujQwLjGBG8kZGnJkg:\n",
      " None, reason: None\n",
      "Error fetching features for track 648GXyKI62FhbeBq0levWr: http status: 403, code:-1 - https://api.spotify.com/v1/audio-features/?ids=648GXyKI62FhbeBq0levWr:\n",
      " None, reason: None\n"
     ]
    },
    {
     "name": "stderr",
     "output_type": "stream",
     "text": [
      "HTTP Error for GET to https://api.spotify.com/v1/audio-features/?ids=4SmFbJibwLUpAE5XtA3fQ1 with Params: {} returned 403 due to None\n",
      "HTTP Error for GET to https://api.spotify.com/v1/audio-features/?ids=6K0Ea7pq2trf6SwsfEKkOp with Params: {} returned 403 due to None\n",
      "HTTP Error for GET to https://api.spotify.com/v1/audio-features/?ids=52qnHAlqWpo3kgEteAPjRf with Params: {} returned 403 due to None\n",
      "HTTP Error for GET to https://api.spotify.com/v1/audio-features/?ids=5arambGXhSW6TZUR9L0tSw with Params: {} returned 403 due to None\n"
     ]
    },
    {
     "name": "stdout",
     "output_type": "stream",
     "text": [
      "Error fetching features for track 4SmFbJibwLUpAE5XtA3fQ1: http status: 403, code:-1 - https://api.spotify.com/v1/audio-features/?ids=4SmFbJibwLUpAE5XtA3fQ1:\n",
      " None, reason: None\n",
      "Error fetching features for track 6K0Ea7pq2trf6SwsfEKkOp: http status: 403, code:-1 - https://api.spotify.com/v1/audio-features/?ids=6K0Ea7pq2trf6SwsfEKkOp:\n",
      " None, reason: None\n",
      "Error fetching features for track 52qnHAlqWpo3kgEteAPjRf: http status: 403, code:-1 - https://api.spotify.com/v1/audio-features/?ids=52qnHAlqWpo3kgEteAPjRf:\n",
      " None, reason: None\n",
      "Error fetching features for track 5arambGXhSW6TZUR9L0tSw: http status: 403, code:-1 - https://api.spotify.com/v1/audio-features/?ids=5arambGXhSW6TZUR9L0tSw:\n",
      " None, reason: None\n"
     ]
    },
    {
     "name": "stderr",
     "output_type": "stream",
     "text": [
      "HTTP Error for GET to https://api.spotify.com/v1/audio-features/?ids=4Tt6aPhCnVPA9tFrK7E0Mx with Params: {} returned 403 due to None\n",
      "HTTP Error for GET to https://api.spotify.com/v1/audio-features/?ids=0Pu5Ed4dRHcryM65r0pMV0 with Params: {} returned 403 due to None\n",
      "HTTP Error for GET to https://api.spotify.com/v1/audio-features/?ids=0Pu5Ed4dRHcryM65r0pMV0 with Params: {} returned 403 due to None\n"
     ]
    },
    {
     "name": "stdout",
     "output_type": "stream",
     "text": [
      "Error fetching features for track 4Tt6aPhCnVPA9tFrK7E0Mx: http status: 403, code:-1 - https://api.spotify.com/v1/audio-features/?ids=4Tt6aPhCnVPA9tFrK7E0Mx:\n",
      " None, reason: None\n",
      "Error fetching features for track 0Pu5Ed4dRHcryM65r0pMV0: http status: 403, code:-1 - https://api.spotify.com/v1/audio-features/?ids=0Pu5Ed4dRHcryM65r0pMV0:\n",
      " None, reason: None\n",
      "Error fetching features for track 0Pu5Ed4dRHcryM65r0pMV0: http status: 403, code:-1 - https://api.spotify.com/v1/audio-features/?ids=0Pu5Ed4dRHcryM65r0pMV0:\n",
      " None, reason: None\n"
     ]
    },
    {
     "name": "stderr",
     "output_type": "stream",
     "text": [
      "HTTP Error for GET to https://api.spotify.com/v1/audio-features/?ids=55fSZWdcvMPJga3LbiV8jN with Params: {} returned 403 due to None\n",
      "HTTP Error for GET to https://api.spotify.com/v1/audio-features/?ids=3gLf7ctpqnklhoQfeveBw0 with Params: {} returned 403 due to None\n",
      "HTTP Error for GET to https://api.spotify.com/v1/audio-features/?ids=0m1TycNcUhagtH4kFN74vQ with Params: {} returned 403 due to None\n",
      "HTTP Error for GET to https://api.spotify.com/v1/audio-features/?ids=4Q3oEhpsDommo2naYhCpAl with Params: {} returned 403 due to None\n"
     ]
    },
    {
     "name": "stdout",
     "output_type": "stream",
     "text": [
      "Error fetching features for track 55fSZWdcvMPJga3LbiV8jN: http status: 403, code:-1 - https://api.spotify.com/v1/audio-features/?ids=55fSZWdcvMPJga3LbiV8jN:\n",
      " None, reason: None\n",
      "Error fetching features for track 3gLf7ctpqnklhoQfeveBw0: http status: 403, code:-1 - https://api.spotify.com/v1/audio-features/?ids=3gLf7ctpqnklhoQfeveBw0:\n",
      " None, reason: None\n",
      "Error fetching features for track 0m1TycNcUhagtH4kFN74vQ: http status: 403, code:-1 - https://api.spotify.com/v1/audio-features/?ids=0m1TycNcUhagtH4kFN74vQ:\n",
      " None, reason: None\n",
      "Error fetching features for track 4Q3oEhpsDommo2naYhCpAl: http status: 403, code:-1 - https://api.spotify.com/v1/audio-features/?ids=4Q3oEhpsDommo2naYhCpAl:\n",
      " None, reason: None\n"
     ]
    },
    {
     "name": "stderr",
     "output_type": "stream",
     "text": [
      "HTTP Error for GET to https://api.spotify.com/v1/audio-features/?ids=29kwMwn3NpHxNGHFAIT7yo with Params: {} returned 403 due to None\n",
      "HTTP Error for GET to https://api.spotify.com/v1/audio-features/?ids=0YCPCY9WhQFMFtoSpj6dhL with Params: {} returned 403 due to None\n",
      "HTTP Error for GET to https://api.spotify.com/v1/audio-features/?ids=31phvnfUfwzi0nf3dO814j with Params: {} returned 403 due to None\n"
     ]
    },
    {
     "name": "stdout",
     "output_type": "stream",
     "text": [
      "Error fetching features for track 29kwMwn3NpHxNGHFAIT7yo: http status: 403, code:-1 - https://api.spotify.com/v1/audio-features/?ids=29kwMwn3NpHxNGHFAIT7yo:\n",
      " None, reason: None\n",
      "Error fetching features for track 0YCPCY9WhQFMFtoSpj6dhL: http status: 403, code:-1 - https://api.spotify.com/v1/audio-features/?ids=0YCPCY9WhQFMFtoSpj6dhL:\n",
      " None, reason: None\n",
      "Error fetching features for track 31phvnfUfwzi0nf3dO814j: http status: 403, code:-1 - https://api.spotify.com/v1/audio-features/?ids=31phvnfUfwzi0nf3dO814j:\n",
      " None, reason: None\n"
     ]
    },
    {
     "name": "stderr",
     "output_type": "stream",
     "text": [
      "HTTP Error for GET to https://api.spotify.com/v1/audio-features/?ids=0VXBujZKMLLlmee25BXEQs with Params: {} returned 403 due to None\n",
      "HTTP Error for GET to https://api.spotify.com/v1/audio-features/?ids=430wsIhf0JvOqocAcOQ7VR with Params: {} returned 403 due to None\n",
      "HTTP Error for GET to https://api.spotify.com/v1/audio-features/?ids=2RfjasZT9DvH6fuHoa9R8S with Params: {} returned 403 due to None\n"
     ]
    },
    {
     "name": "stdout",
     "output_type": "stream",
     "text": [
      "Error fetching features for track 0VXBujZKMLLlmee25BXEQs: http status: 403, code:-1 - https://api.spotify.com/v1/audio-features/?ids=0VXBujZKMLLlmee25BXEQs:\n",
      " None, reason: None\n",
      "Error fetching features for track 430wsIhf0JvOqocAcOQ7VR: http status: 403, code:-1 - https://api.spotify.com/v1/audio-features/?ids=430wsIhf0JvOqocAcOQ7VR:\n",
      " None, reason: None\n",
      "Error fetching features for track 2RfjasZT9DvH6fuHoa9R8S: http status: 403, code:-1 - https://api.spotify.com/v1/audio-features/?ids=2RfjasZT9DvH6fuHoa9R8S:\n",
      " None, reason: None\n"
     ]
    },
    {
     "name": "stderr",
     "output_type": "stream",
     "text": [
      "HTTP Error for GET to https://api.spotify.com/v1/audio-features/?ids=5OGGLFWdNAh5cpxMLARj4x with Params: {} returned 403 due to None\n",
      "HTTP Error for GET to https://api.spotify.com/v1/audio-features/?ids=4F980Cg1WU6owq3V1fOBSN with Params: {} returned 403 due to None\n",
      "HTTP Error for GET to https://api.spotify.com/v1/audio-features/?ids=3CRsxMerRw43GTiScT1IvX with Params: {} returned 403 due to None\n"
     ]
    },
    {
     "name": "stdout",
     "output_type": "stream",
     "text": [
      "Error fetching features for track 5OGGLFWdNAh5cpxMLARj4x: http status: 403, code:-1 - https://api.spotify.com/v1/audio-features/?ids=5OGGLFWdNAh5cpxMLARj4x:\n",
      " None, reason: None\n",
      "Error fetching features for track 4F980Cg1WU6owq3V1fOBSN: http status: 403, code:-1 - https://api.spotify.com/v1/audio-features/?ids=4F980Cg1WU6owq3V1fOBSN:\n",
      " None, reason: None\n",
      "Error fetching features for track 3CRsxMerRw43GTiScT1IvX: http status: 403, code:-1 - https://api.spotify.com/v1/audio-features/?ids=3CRsxMerRw43GTiScT1IvX:\n",
      " None, reason: None\n"
     ]
    },
    {
     "name": "stderr",
     "output_type": "stream",
     "text": [
      "HTTP Error for GET to https://api.spotify.com/v1/audio-features/?ids=2oAy8P7WfjbZW0cWw6RnAG with Params: {} returned 403 due to None\n",
      "HTTP Error for GET to https://api.spotify.com/v1/audio-features/?ids=6UeEm5XPsleVD85kNHCu1n with Params: {} returned 403 due to None\n",
      "HTTP Error for GET to https://api.spotify.com/v1/audio-features/?ids=0hmAQTOiaIooZaXfts0QKs with Params: {} returned 403 due to None\n"
     ]
    },
    {
     "name": "stdout",
     "output_type": "stream",
     "text": [
      "Error fetching features for track 2oAy8P7WfjbZW0cWw6RnAG: http status: 403, code:-1 - https://api.spotify.com/v1/audio-features/?ids=2oAy8P7WfjbZW0cWw6RnAG:\n",
      " None, reason: None\n",
      "Error fetching features for track 6UeEm5XPsleVD85kNHCu1n: http status: 403, code:-1 - https://api.spotify.com/v1/audio-features/?ids=6UeEm5XPsleVD85kNHCu1n:\n",
      " None, reason: None\n",
      "Error fetching features for track 0hmAQTOiaIooZaXfts0QKs: http status: 403, code:-1 - https://api.spotify.com/v1/audio-features/?ids=0hmAQTOiaIooZaXfts0QKs:\n",
      " None, reason: None\n"
     ]
    },
    {
     "name": "stderr",
     "output_type": "stream",
     "text": [
      "HTTP Error for GET to https://api.spotify.com/v1/audio-features/?ids=3JCjmuVh5nE0J4U0mv2CrE with Params: {} returned 403 due to None\n",
      "HTTP Error for GET to https://api.spotify.com/v1/audio-features/?ids=6VpywY7DEMDSmpiY4tKpwX with Params: {} returned 403 due to None\n",
      "HTTP Error for GET to https://api.spotify.com/v1/audio-features/?ids=4Yp8zw7b35bheMVTp39o5O with Params: {} returned 403 due to None\n"
     ]
    },
    {
     "name": "stdout",
     "output_type": "stream",
     "text": [
      "Error fetching features for track 3JCjmuVh5nE0J4U0mv2CrE: http status: 403, code:-1 - https://api.spotify.com/v1/audio-features/?ids=3JCjmuVh5nE0J4U0mv2CrE:\n",
      " None, reason: None\n",
      "Error fetching features for track 6VpywY7DEMDSmpiY4tKpwX: http status: 403, code:-1 - https://api.spotify.com/v1/audio-features/?ids=6VpywY7DEMDSmpiY4tKpwX:\n",
      " None, reason: None\n",
      "Error fetching features for track 4Yp8zw7b35bheMVTp39o5O: http status: 403, code:-1 - https://api.spotify.com/v1/audio-features/?ids=4Yp8zw7b35bheMVTp39o5O:\n",
      " None, reason: None\n"
     ]
    },
    {
     "name": "stderr",
     "output_type": "stream",
     "text": [
      "HTTP Error for GET to https://api.spotify.com/v1/audio-features/?ids=4NmWv6PEGEAmorN5UN9fRo with Params: {} returned 403 due to None\n",
      "HTTP Error for GET to https://api.spotify.com/v1/audio-features/?ids=1gwO79MdYdumgIjxq8eCxB with Params: {} returned 403 due to None\n",
      "HTTP Error for GET to https://api.spotify.com/v1/audio-features/?ids=7cWnks0lsRtpAi87COOiXK with Params: {} returned 403 due to None\n"
     ]
    },
    {
     "name": "stdout",
     "output_type": "stream",
     "text": [
      "Error fetching features for track 4NmWv6PEGEAmorN5UN9fRo: http status: 403, code:-1 - https://api.spotify.com/v1/audio-features/?ids=4NmWv6PEGEAmorN5UN9fRo:\n",
      " None, reason: None\n",
      "Error fetching features for track 1gwO79MdYdumgIjxq8eCxB: http status: 403, code:-1 - https://api.spotify.com/v1/audio-features/?ids=1gwO79MdYdumgIjxq8eCxB:\n",
      " None, reason: None\n",
      "Error fetching features for track 7cWnks0lsRtpAi87COOiXK: http status: 403, code:-1 - https://api.spotify.com/v1/audio-features/?ids=7cWnks0lsRtpAi87COOiXK:\n",
      " None, reason: None\n"
     ]
    },
    {
     "name": "stderr",
     "output_type": "stream",
     "text": [
      "HTTP Error for GET to https://api.spotify.com/v1/audio-features/?ids=5pKh7avN31GpBe4JKhXKmF with Params: {} returned 403 due to None\n",
      "HTTP Error for GET to https://api.spotify.com/v1/audio-features/?ids=4bD9z9qa4qg9BhryvYWB7c with Params: {} returned 403 due to None\n",
      "HTTP Error for GET to https://api.spotify.com/v1/audio-features/?ids=723xQva0yBF7M6K3nDAG8R with Params: {} returned 403 due to None\n",
      "HTTP Error for GET to https://api.spotify.com/v1/audio-features/?ids=30UWFQsrAfkzcsRWaiNLtU with Params: {} returned 403 due to None\n"
     ]
    },
    {
     "name": "stdout",
     "output_type": "stream",
     "text": [
      "Error fetching features for track 5pKh7avN31GpBe4JKhXKmF: http status: 403, code:-1 - https://api.spotify.com/v1/audio-features/?ids=5pKh7avN31GpBe4JKhXKmF:\n",
      " None, reason: None\n",
      "Error fetching features for track 4bD9z9qa4qg9BhryvYWB7c: http status: 403, code:-1 - https://api.spotify.com/v1/audio-features/?ids=4bD9z9qa4qg9BhryvYWB7c:\n",
      " None, reason: None\n",
      "Error fetching features for track 723xQva0yBF7M6K3nDAG8R: http status: 403, code:-1 - https://api.spotify.com/v1/audio-features/?ids=723xQva0yBF7M6K3nDAG8R:\n",
      " None, reason: None\n",
      "Error fetching features for track 30UWFQsrAfkzcsRWaiNLtU: http status: 403, code:-1 - https://api.spotify.com/v1/audio-features/?ids=30UWFQsrAfkzcsRWaiNLtU:\n",
      " None, reason: None\n"
     ]
    },
    {
     "name": "stderr",
     "output_type": "stream",
     "text": [
      "HTTP Error for GET to https://api.spotify.com/v1/audio-features/?ids=4dPeCbg2Op44s9kwyMS3ZT with Params: {} returned 403 due to None\n",
      "HTTP Error for GET to https://api.spotify.com/v1/audio-features/?ids=29m79w9xPMH4YCD6r8JSmV with Params: {} returned 403 due to None\n",
      "HTTP Error for GET to https://api.spotify.com/v1/audio-features/?ids=648GXyKI62FhbeBq0levWr with Params: {} returned 403 due to None\n"
     ]
    },
    {
     "name": "stdout",
     "output_type": "stream",
     "text": [
      "Error fetching features for track 4dPeCbg2Op44s9kwyMS3ZT: http status: 403, code:-1 - https://api.spotify.com/v1/audio-features/?ids=4dPeCbg2Op44s9kwyMS3ZT:\n",
      " None, reason: None\n",
      "Error fetching features for track 29m79w9xPMH4YCD6r8JSmV: http status: 403, code:-1 - https://api.spotify.com/v1/audio-features/?ids=29m79w9xPMH4YCD6r8JSmV:\n",
      " None, reason: None\n",
      "Error fetching features for track 648GXyKI62FhbeBq0levWr: http status: 403, code:-1 - https://api.spotify.com/v1/audio-features/?ids=648GXyKI62FhbeBq0levWr:\n",
      " None, reason: None\n"
     ]
    },
    {
     "name": "stderr",
     "output_type": "stream",
     "text": [
      "HTTP Error for GET to https://api.spotify.com/v1/audio-features/?ids=32IjXlRFxNtJ4eMhKAUrSX with Params: {} returned 403 due to None\n",
      "HTTP Error for GET to https://api.spotify.com/v1/audio-features/?ids=6BJxQbKyQSdBOBIuW5TTmi with Params: {} returned 403 due to None\n",
      "HTTP Error for GET to https://api.spotify.com/v1/audio-features/?ids=1eVqJoWeulD9mR1Kp4XAWe with Params: {} returned 403 due to None\n"
     ]
    },
    {
     "name": "stdout",
     "output_type": "stream",
     "text": [
      "Error fetching features for track 32IjXlRFxNtJ4eMhKAUrSX: http status: 403, code:-1 - https://api.spotify.com/v1/audio-features/?ids=32IjXlRFxNtJ4eMhKAUrSX:\n",
      " None, reason: None\n",
      "Error fetching features for track 6BJxQbKyQSdBOBIuW5TTmi: http status: 403, code:-1 - https://api.spotify.com/v1/audio-features/?ids=6BJxQbKyQSdBOBIuW5TTmi:\n",
      " None, reason: None\n",
      "Error fetching features for track 1eVqJoWeulD9mR1Kp4XAWe: http status: 403, code:-1 - https://api.spotify.com/v1/audio-features/?ids=1eVqJoWeulD9mR1Kp4XAWe:\n",
      " None, reason: None\n"
     ]
    },
    {
     "name": "stderr",
     "output_type": "stream",
     "text": [
      "HTTP Error for GET to https://api.spotify.com/v1/audio-features/?ids=1AhXEDyg2AbV7CAnyiAMvM with Params: {} returned 403 due to None\n",
      "HTTP Error for GET to https://api.spotify.com/v1/audio-features/?ids=6Rl4eDKFpvntiRKtPn8d5V with Params: {} returned 403 due to None\n",
      "HTTP Error for GET to https://api.spotify.com/v1/audio-features/?ids=0M0ANKNzmM4Odd7FNKghzW with Params: {} returned 403 due to None\n"
     ]
    },
    {
     "name": "stdout",
     "output_type": "stream",
     "text": [
      "Processing batch 27 of 29\n",
      "Error fetching features for track 1AhXEDyg2AbV7CAnyiAMvM: http status: 403, code:-1 - https://api.spotify.com/v1/audio-features/?ids=1AhXEDyg2AbV7CAnyiAMvM:\n",
      " None, reason: None\n",
      "Error fetching features for track 6Rl4eDKFpvntiRKtPn8d5V: http status: 403, code:-1 - https://api.spotify.com/v1/audio-features/?ids=6Rl4eDKFpvntiRKtPn8d5V:\n",
      " None, reason: None\n",
      "Error fetching features for track 0M0ANKNzmM4Odd7FNKghzW: http status: 403, code:-1 - https://api.spotify.com/v1/audio-features/?ids=0M0ANKNzmM4Odd7FNKghzW:\n",
      " None, reason: None\n"
     ]
    },
    {
     "name": "stderr",
     "output_type": "stream",
     "text": [
      "HTTP Error for GET to https://api.spotify.com/v1/audio-features/?ids=1VDDoa82Oktn7FDPKBcsw8 with Params: {} returned 403 due to None\n",
      "HTTP Error for GET to https://api.spotify.com/v1/audio-features/?ids=5lmgII1wyydsuqXEOvzpSy with Params: {} returned 403 due to None\n",
      "HTTP Error for GET to https://api.spotify.com/v1/audio-features/?ids=1jSITyxOyMX0MMG5DDau4w with Params: {} returned 403 due to None\n"
     ]
    },
    {
     "name": "stdout",
     "output_type": "stream",
     "text": [
      "Error fetching features for track 1VDDoa82Oktn7FDPKBcsw8: http status: 403, code:-1 - https://api.spotify.com/v1/audio-features/?ids=1VDDoa82Oktn7FDPKBcsw8:\n",
      " None, reason: None\n",
      "Error fetching features for track 5lmgII1wyydsuqXEOvzpSy: http status: 403, code:-1 - https://api.spotify.com/v1/audio-features/?ids=5lmgII1wyydsuqXEOvzpSy:\n",
      " None, reason: None\n",
      "Error fetching features for track 1jSITyxOyMX0MMG5DDau4w: http status: 403, code:-1 - https://api.spotify.com/v1/audio-features/?ids=1jSITyxOyMX0MMG5DDau4w:\n",
      " None, reason: None\n"
     ]
    },
    {
     "name": "stderr",
     "output_type": "stream",
     "text": [
      "HTTP Error for GET to https://api.spotify.com/v1/audio-features/?ids=4J5OpeZUR2msDPfMsIeGSU with Params: {} returned 403 due to None\n",
      "HTTP Error for GET to https://api.spotify.com/v1/audio-features/?ids=4uUQxRunwVSVDOAcB37THC with Params: {} returned 403 due to None\n",
      "HTTP Error for GET to https://api.spotify.com/v1/audio-features/?ids=6YqJrTB64MvXAGqXvRrgdd with Params: {} returned 403 due to None\n"
     ]
    },
    {
     "name": "stdout",
     "output_type": "stream",
     "text": [
      "Error fetching features for track 4J5OpeZUR2msDPfMsIeGSU: http status: 403, code:-1 - https://api.spotify.com/v1/audio-features/?ids=4J5OpeZUR2msDPfMsIeGSU:\n",
      " None, reason: None\n",
      "Error fetching features for track 4uUQxRunwVSVDOAcB37THC: http status: 403, code:-1 - https://api.spotify.com/v1/audio-features/?ids=4uUQxRunwVSVDOAcB37THC:\n",
      " None, reason: None\n",
      "Error fetching features for track 6YqJrTB64MvXAGqXvRrgdd: http status: 403, code:-1 - https://api.spotify.com/v1/audio-features/?ids=6YqJrTB64MvXAGqXvRrgdd:\n",
      " None, reason: None\n"
     ]
    },
    {
     "name": "stderr",
     "output_type": "stream",
     "text": [
      "HTTP Error for GET to https://api.spotify.com/v1/audio-features/?ids=3FS3ItpUATpALLi90uvkde with Params: {} returned 403 due to None\n",
      "HTTP Error for GET to https://api.spotify.com/v1/audio-features/?ids=3SHopOL3KEJ8PFl3vJdfmF with Params: {} returned 403 due to None\n",
      "HTTP Error for GET to https://api.spotify.com/v1/audio-features/?ids=0xlWd9o8yjKpJ02WJy79kZ with Params: {} returned 403 due to None\n",
      "HTTP Error for GET to https://api.spotify.com/v1/audio-features/?ids=6GQK4G5o60E8YA18DGpAzv with Params: {} returned 403 due to None\n"
     ]
    },
    {
     "name": "stdout",
     "output_type": "stream",
     "text": [
      "Error fetching features for track 3FS3ItpUATpALLi90uvkde: http status: 403, code:-1 - https://api.spotify.com/v1/audio-features/?ids=3FS3ItpUATpALLi90uvkde:\n",
      " None, reason: None\n",
      "Error fetching features for track 3SHopOL3KEJ8PFl3vJdfmF: http status: 403, code:-1 - https://api.spotify.com/v1/audio-features/?ids=3SHopOL3KEJ8PFl3vJdfmF:\n",
      " None, reason: None\n",
      "Error fetching features for track 0xlWd9o8yjKpJ02WJy79kZ: http status: 403, code:-1 - https://api.spotify.com/v1/audio-features/?ids=0xlWd9o8yjKpJ02WJy79kZ:\n",
      " None, reason: None\n",
      "Error fetching features for track 6GQK4G5o60E8YA18DGpAzv: http status: 403, code:-1 - https://api.spotify.com/v1/audio-features/?ids=6GQK4G5o60E8YA18DGpAzv:\n",
      " None, reason: None\n"
     ]
    },
    {
     "name": "stderr",
     "output_type": "stream",
     "text": [
      "HTTP Error for GET to https://api.spotify.com/v1/audio-features/?ids=6egfWbtFFhMToV2DvmEzmo with Params: {} returned 403 due to None\n",
      "HTTP Error for GET to https://api.spotify.com/v1/audio-features/?ids=52itZ0w0CydihB2JCZEIft with Params: {} returned 403 due to None\n",
      "HTTP Error for GET to https://api.spotify.com/v1/audio-features/?ids=2S6N9pbnkhQRyAx80HmF79 with Params: {} returned 403 due to None\n"
     ]
    },
    {
     "name": "stdout",
     "output_type": "stream",
     "text": [
      "Error fetching features for track 6egfWbtFFhMToV2DvmEzmo: http status: 403, code:-1 - https://api.spotify.com/v1/audio-features/?ids=6egfWbtFFhMToV2DvmEzmo:\n",
      " None, reason: None\n",
      "Error fetching features for track 52itZ0w0CydihB2JCZEIft: http status: 403, code:-1 - https://api.spotify.com/v1/audio-features/?ids=52itZ0w0CydihB2JCZEIft:\n",
      " None, reason: None\n",
      "Error fetching features for track 2S6N9pbnkhQRyAx80HmF79: http status: 403, code:-1 - https://api.spotify.com/v1/audio-features/?ids=2S6N9pbnkhQRyAx80HmF79:\n",
      " None, reason: None\n"
     ]
    },
    {
     "name": "stderr",
     "output_type": "stream",
     "text": [
      "HTTP Error for GET to https://api.spotify.com/v1/audio-features/?ids=7u5B4ptccyg8T7NPfByhE7 with Params: {} returned 403 due to None\n",
      "HTTP Error for GET to https://api.spotify.com/v1/audio-features/?ids=6D2ZnEZ92wUFTr38YXTCL5 with Params: {} returned 403 due to None\n",
      "HTTP Error for GET to https://api.spotify.com/v1/audio-features/?ids=4N66qcycDiFLJGjnXiKbKX with Params: {} returned 403 due to None\n"
     ]
    },
    {
     "name": "stdout",
     "output_type": "stream",
     "text": [
      "Error fetching features for track 7u5B4ptccyg8T7NPfByhE7: http status: 403, code:-1 - https://api.spotify.com/v1/audio-features/?ids=7u5B4ptccyg8T7NPfByhE7:\n",
      " None, reason: None\n",
      "Error fetching features for track 6D2ZnEZ92wUFTr38YXTCL5: http status: 403, code:-1 - https://api.spotify.com/v1/audio-features/?ids=6D2ZnEZ92wUFTr38YXTCL5:\n",
      " None, reason: None\n",
      "Error fetching features for track 4N66qcycDiFLJGjnXiKbKX: http status: 403, code:-1 - https://api.spotify.com/v1/audio-features/?ids=4N66qcycDiFLJGjnXiKbKX:\n",
      " None, reason: None\n"
     ]
    },
    {
     "name": "stderr",
     "output_type": "stream",
     "text": [
      "HTTP Error for GET to https://api.spotify.com/v1/audio-features/?ids=52itZ0w0CydihB2JCZEIft with Params: {} returned 403 due to None\n",
      "HTTP Error for GET to https://api.spotify.com/v1/audio-features/?ids=5llaVhaIoowKT3fqf2NfPO with Params: {} returned 403 due to None\n",
      "HTTP Error for GET to https://api.spotify.com/v1/audio-features/?ids=3APdIdF8H0jsxSuGOqXedS with Params: {} returned 403 due to None\n"
     ]
    },
    {
     "name": "stdout",
     "output_type": "stream",
     "text": [
      "Error fetching features for track 52itZ0w0CydihB2JCZEIft: http status: 403, code:-1 - https://api.spotify.com/v1/audio-features/?ids=52itZ0w0CydihB2JCZEIft:\n",
      " None, reason: None\n",
      "Error fetching features for track 5llaVhaIoowKT3fqf2NfPO: http status: 403, code:-1 - https://api.spotify.com/v1/audio-features/?ids=5llaVhaIoowKT3fqf2NfPO:\n",
      " None, reason: None\n",
      "Error fetching features for track 3APdIdF8H0jsxSuGOqXedS: http status: 403, code:-1 - https://api.spotify.com/v1/audio-features/?ids=3APdIdF8H0jsxSuGOqXedS:\n",
      " None, reason: None\n"
     ]
    },
    {
     "name": "stderr",
     "output_type": "stream",
     "text": [
      "HTTP Error for GET to https://api.spotify.com/v1/audio-features/?ids=2Zx1TmHSTxMc7DaUUWZnAn with Params: {} returned 403 due to None\n",
      "HTTP Error for GET to https://api.spotify.com/v1/audio-features/?ids=525uvrOxi8EJoNxNP2HGto with Params: {} returned 403 due to None\n",
      "HTTP Error for GET to https://api.spotify.com/v1/audio-features/?ids=5XTdgOtJYAOXiw2gHW2KmQ with Params: {} returned 403 due to None\n"
     ]
    },
    {
     "name": "stdout",
     "output_type": "stream",
     "text": [
      "Error fetching features for track 2Zx1TmHSTxMc7DaUUWZnAn: http status: 403, code:-1 - https://api.spotify.com/v1/audio-features/?ids=2Zx1TmHSTxMc7DaUUWZnAn:\n",
      " None, reason: None\n",
      "Error fetching features for track 525uvrOxi8EJoNxNP2HGto: http status: 403, code:-1 - https://api.spotify.com/v1/audio-features/?ids=525uvrOxi8EJoNxNP2HGto:\n",
      " None, reason: None\n",
      "Error fetching features for track 5XTdgOtJYAOXiw2gHW2KmQ: http status: 403, code:-1 - https://api.spotify.com/v1/audio-features/?ids=5XTdgOtJYAOXiw2gHW2KmQ:\n",
      " None, reason: None\n"
     ]
    },
    {
     "name": "stderr",
     "output_type": "stream",
     "text": [
      "HTTP Error for GET to https://api.spotify.com/v1/audio-features/?ids=3t3wsY5IdLVzB9WidegJSU with Params: {} returned 403 due to None\n",
      "HTTP Error for GET to https://api.spotify.com/v1/audio-features/?ids=5OGGLFWdNAh5cpxMLARj4x with Params: {} returned 403 due to None\n",
      "HTTP Error for GET to https://api.spotify.com/v1/audio-features/?ids=6D2ZnEZ92wUFTr38YXTCL5 with Params: {} returned 403 due to None\n"
     ]
    },
    {
     "name": "stdout",
     "output_type": "stream",
     "text": [
      "Error fetching features for track 3t3wsY5IdLVzB9WidegJSU: http status: 403, code:-1 - https://api.spotify.com/v1/audio-features/?ids=3t3wsY5IdLVzB9WidegJSU:\n",
      " None, reason: None\n",
      "Error fetching features for track 5OGGLFWdNAh5cpxMLARj4x: http status: 403, code:-1 - https://api.spotify.com/v1/audio-features/?ids=5OGGLFWdNAh5cpxMLARj4x:\n",
      " None, reason: None\n",
      "Error fetching features for track 6D2ZnEZ92wUFTr38YXTCL5: http status: 403, code:-1 - https://api.spotify.com/v1/audio-features/?ids=6D2ZnEZ92wUFTr38YXTCL5:\n",
      " None, reason: None\n"
     ]
    },
    {
     "name": "stderr",
     "output_type": "stream",
     "text": [
      "HTTP Error for GET to https://api.spotify.com/v1/audio-features/?ids=0M0ANKNzmM4Odd7FNKghzW with Params: {} returned 403 due to None\n",
      "HTTP Error for GET to https://api.spotify.com/v1/audio-features/?ids=1ZaeaGLhFSckG8sv1y7AWk with Params: {} returned 403 due to None\n",
      "HTTP Error for GET to https://api.spotify.com/v1/audio-features/?ids=6nDsd9LoKLPHv4VcpCG5Wg with Params: {} returned 403 due to None\n"
     ]
    },
    {
     "name": "stdout",
     "output_type": "stream",
     "text": [
      "Error fetching features for track 0M0ANKNzmM4Odd7FNKghzW: http status: 403, code:-1 - https://api.spotify.com/v1/audio-features/?ids=0M0ANKNzmM4Odd7FNKghzW:\n",
      " None, reason: None\n",
      "Error fetching features for track 1ZaeaGLhFSckG8sv1y7AWk: http status: 403, code:-1 - https://api.spotify.com/v1/audio-features/?ids=1ZaeaGLhFSckG8sv1y7AWk:\n",
      " None, reason: None\n",
      "Error fetching features for track 6nDsd9LoKLPHv4VcpCG5Wg: http status: 403, code:-1 - https://api.spotify.com/v1/audio-features/?ids=6nDsd9LoKLPHv4VcpCG5Wg:\n",
      " None, reason: None\n"
     ]
    },
    {
     "name": "stderr",
     "output_type": "stream",
     "text": [
      "HTTP Error for GET to https://api.spotify.com/v1/audio-features/?ids=46elU7IBKWf55D5sjHGqO7 with Params: {} returned 403 due to None\n",
      "HTTP Error for GET to https://api.spotify.com/v1/audio-features/?ids=6TuPGbfbcWxITQnyMy04rU with Params: {} returned 403 due to None\n",
      "HTTP Error for GET to https://api.spotify.com/v1/audio-features/?ids=0FXXvePGfMxgENnXLpBc76 with Params: {} returned 403 due to None\n"
     ]
    },
    {
     "name": "stdout",
     "output_type": "stream",
     "text": [
      "Error fetching features for track 46elU7IBKWf55D5sjHGqO7: http status: 403, code:-1 - https://api.spotify.com/v1/audio-features/?ids=46elU7IBKWf55D5sjHGqO7:\n",
      " None, reason: None\n",
      "Error fetching features for track 6TuPGbfbcWxITQnyMy04rU: http status: 403, code:-1 - https://api.spotify.com/v1/audio-features/?ids=6TuPGbfbcWxITQnyMy04rU:\n",
      " None, reason: None\n",
      "Error fetching features for track 0FXXvePGfMxgENnXLpBc76: http status: 403, code:-1 - https://api.spotify.com/v1/audio-features/?ids=0FXXvePGfMxgENnXLpBc76:\n",
      " None, reason: None\n"
     ]
    },
    {
     "name": "stderr",
     "output_type": "stream",
     "text": [
      "HTTP Error for GET to https://api.spotify.com/v1/audio-features/?ids=3hCUkos0NxuSFl73oOHJzb with Params: {} returned 403 due to None\n",
      "HTTP Error for GET to https://api.spotify.com/v1/audio-features/?ids=55fSZWdcvMPJga3LbiV8jN with Params: {} returned 403 due to None\n"
     ]
    },
    {
     "name": "stdout",
     "output_type": "stream",
     "text": [
      "Error fetching features for track 3hCUkos0NxuSFl73oOHJzb: http status: 403, code:-1 - https://api.spotify.com/v1/audio-features/?ids=3hCUkos0NxuSFl73oOHJzb:\n",
      " None, reason: None\n",
      "Error fetching features for track 55fSZWdcvMPJga3LbiV8jN: http status: 403, code:-1 - https://api.spotify.com/v1/audio-features/?ids=55fSZWdcvMPJga3LbiV8jN:\n",
      " None, reason: None\n"
     ]
    },
    {
     "name": "stderr",
     "output_type": "stream",
     "text": [
      "HTTP Error for GET to https://api.spotify.com/v1/audio-features/?ids=52itZ0w0CydihB2JCZEIft with Params: {} returned 403 due to None\n",
      "HTTP Error for GET to https://api.spotify.com/v1/audio-features/?ids=2kY6ClO5UR6EUODx720Kkx with Params: {} returned 403 due to None\n",
      "HTTP Error for GET to https://api.spotify.com/v1/audio-features/?ids=5J5Oam2frcy5zQnOCb3Cdr with Params: {} returned 403 due to None\n"
     ]
    },
    {
     "name": "stdout",
     "output_type": "stream",
     "text": [
      "Error fetching features for track 52itZ0w0CydihB2JCZEIft: http status: 403, code:-1 - https://api.spotify.com/v1/audio-features/?ids=52itZ0w0CydihB2JCZEIft:\n",
      " None, reason: None\n",
      "Error fetching features for track 2kY6ClO5UR6EUODx720Kkx: http status: 403, code:-1 - https://api.spotify.com/v1/audio-features/?ids=2kY6ClO5UR6EUODx720Kkx:\n",
      " None, reason: None\n",
      "Error fetching features for track 5J5Oam2frcy5zQnOCb3Cdr: http status: 403, code:-1 - https://api.spotify.com/v1/audio-features/?ids=5J5Oam2frcy5zQnOCb3Cdr:\n",
      " None, reason: None\n"
     ]
    },
    {
     "name": "stderr",
     "output_type": "stream",
     "text": [
      "HTTP Error for GET to https://api.spotify.com/v1/audio-features/?ids=5c3mUtkS8FvumKaVkcpB0H with Params: {} returned 403 due to None\n",
      "HTTP Error for GET to https://api.spotify.com/v1/audio-features/?ids=4N66qcycDiFLJGjnXiKbKX with Params: {} returned 403 due to None\n",
      "HTTP Error for GET to https://api.spotify.com/v1/audio-features/?ids=2hykXvjXceH1wGiJErDJjj with Params: {} returned 403 due to None\n",
      "HTTP Error for GET to https://api.spotify.com/v1/audio-features/?ids=0cWLJcdvM6QlOQ7UJdB4jb with Params: {} returned 403 due to None\n"
     ]
    },
    {
     "name": "stdout",
     "output_type": "stream",
     "text": [
      "Error fetching features for track 5c3mUtkS8FvumKaVkcpB0H: http status: 403, code:-1 - https://api.spotify.com/v1/audio-features/?ids=5c3mUtkS8FvumKaVkcpB0H:\n",
      " None, reason: None\n",
      "Error fetching features for track 4N66qcycDiFLJGjnXiKbKX: http status: 403, code:-1 - https://api.spotify.com/v1/audio-features/?ids=4N66qcycDiFLJGjnXiKbKX:\n",
      " None, reason: None\n",
      "Error fetching features for track 2hykXvjXceH1wGiJErDJjj: http status: 403, code:-1 - https://api.spotify.com/v1/audio-features/?ids=2hykXvjXceH1wGiJErDJjj:\n",
      " None, reason: None\n",
      "Error fetching features for track 0cWLJcdvM6QlOQ7UJdB4jb: http status: 403, code:-1 - https://api.spotify.com/v1/audio-features/?ids=0cWLJcdvM6QlOQ7UJdB4jb:\n",
      " None, reason: None\n"
     ]
    },
    {
     "name": "stderr",
     "output_type": "stream",
     "text": [
      "HTTP Error for GET to https://api.spotify.com/v1/audio-features/?ids=6TuPGbfbcWxITQnyMy04rU with Params: {} returned 403 due to None\n",
      "HTTP Error for GET to https://api.spotify.com/v1/audio-features/?ids=1r4oikmMdZZiGHkPA4hSoe with Params: {} returned 403 due to None\n",
      "HTTP Error for GET to https://api.spotify.com/v1/audio-features/?ids=6UEhNvccAc4OyEDJYB5brb with Params: {} returned 403 due to None\n"
     ]
    },
    {
     "name": "stdout",
     "output_type": "stream",
     "text": [
      "Error fetching features for track 6TuPGbfbcWxITQnyMy04rU: http status: 403, code:-1 - https://api.spotify.com/v1/audio-features/?ids=6TuPGbfbcWxITQnyMy04rU:\n",
      " None, reason: None\n",
      "Error fetching features for track 1r4oikmMdZZiGHkPA4hSoe: http status: 403, code:-1 - https://api.spotify.com/v1/audio-features/?ids=1r4oikmMdZZiGHkPA4hSoe:\n",
      " None, reason: None\n",
      "Error fetching features for track 6UEhNvccAc4OyEDJYB5brb: http status: 403, code:-1 - https://api.spotify.com/v1/audio-features/?ids=6UEhNvccAc4OyEDJYB5brb:\n",
      " None, reason: None\n"
     ]
    },
    {
     "name": "stderr",
     "output_type": "stream",
     "text": [
      "HTTP Error for GET to https://api.spotify.com/v1/audio-features/?ids=5llaVhaIoowKT3fqf2NfPO with Params: {} returned 403 due to None\n",
      "HTTP Error for GET to https://api.spotify.com/v1/audio-features/?ids=1mvaRMqPebz0Y2dJavf3kJ with Params: {} returned 403 due to None\n",
      "HTTP Error for GET to https://api.spotify.com/v1/audio-features/?ids=0hVXFWS00liq3W2YAQUma4 with Params: {} returned 403 due to None\n"
     ]
    },
    {
     "name": "stdout",
     "output_type": "stream",
     "text": [
      "Error fetching features for track 5llaVhaIoowKT3fqf2NfPO: http status: 403, code:-1 - https://api.spotify.com/v1/audio-features/?ids=5llaVhaIoowKT3fqf2NfPO:\n",
      " None, reason: None\n",
      "Error fetching features for track 1mvaRMqPebz0Y2dJavf3kJ: http status: 403, code:-1 - https://api.spotify.com/v1/audio-features/?ids=1mvaRMqPebz0Y2dJavf3kJ:\n",
      " None, reason: None\n",
      "Error fetching features for track 0hVXFWS00liq3W2YAQUma4: http status: 403, code:-1 - https://api.spotify.com/v1/audio-features/?ids=0hVXFWS00liq3W2YAQUma4:\n",
      " None, reason: None\n"
     ]
    },
    {
     "name": "stderr",
     "output_type": "stream",
     "text": [
      "HTTP Error for GET to https://api.spotify.com/v1/audio-features/?ids=6shPaz0rzOAGatiY6X6zLQ with Params: {} returned 403 due to None\n"
     ]
    },
    {
     "name": "stdout",
     "output_type": "stream",
     "text": [
      "Error fetching features for track 6shPaz0rzOAGatiY6X6zLQ: http status: 403, code:-1 - https://api.spotify.com/v1/audio-features/?ids=6shPaz0rzOAGatiY6X6zLQ:\n",
      " None, reason: None\n"
     ]
    },
    {
     "name": "stderr",
     "output_type": "stream",
     "text": [
      "HTTP Error for GET to https://api.spotify.com/v1/audio-features/?ids=723xQva0yBF7M6K3nDAG8R with Params: {} returned 403 due to None\n",
      "HTTP Error for GET to https://api.spotify.com/v1/audio-features/?ids=6UEhNvccAc4OyEDJYB5brb with Params: {} returned 403 due to None\n",
      "HTTP Error for GET to https://api.spotify.com/v1/audio-features/?ids=3oGL4HTmIpiD3J0f80Viqt with Params: {} returned 403 due to None\n"
     ]
    },
    {
     "name": "stdout",
     "output_type": "stream",
     "text": [
      "Processing batch 28 of 29\n",
      "Error fetching features for track 723xQva0yBF7M6K3nDAG8R: http status: 403, code:-1 - https://api.spotify.com/v1/audio-features/?ids=723xQva0yBF7M6K3nDAG8R:\n",
      " None, reason: None\n",
      "Error fetching features for track 6UEhNvccAc4OyEDJYB5brb: http status: 403, code:-1 - https://api.spotify.com/v1/audio-features/?ids=6UEhNvccAc4OyEDJYB5brb:\n",
      " None, reason: None\n",
      "Error fetching features for track 3oGL4HTmIpiD3J0f80Viqt: http status: 403, code:-1 - https://api.spotify.com/v1/audio-features/?ids=3oGL4HTmIpiD3J0f80Viqt:\n",
      " None, reason: None\n"
     ]
    },
    {
     "name": "stderr",
     "output_type": "stream",
     "text": [
      "HTTP Error for GET to https://api.spotify.com/v1/audio-features/?ids=4UDFr3P1lRS6seQfmzCjz7 with Params: {} returned 403 due to None\n",
      "HTTP Error for GET to https://api.spotify.com/v1/audio-features/?ids=3SwkKcpCModXgfYCFn67CA with Params: {} returned 403 due to None\n",
      "HTTP Error for GET to https://api.spotify.com/v1/audio-features/?ids=62bOmKYxYg7dhrC6gH9vFn with Params: {} returned 403 due to None\n"
     ]
    },
    {
     "name": "stdout",
     "output_type": "stream",
     "text": [
      "Error fetching features for track 4UDFr3P1lRS6seQfmzCjz7: http status: 403, code:-1 - https://api.spotify.com/v1/audio-features/?ids=4UDFr3P1lRS6seQfmzCjz7:\n",
      " None, reason: None\n",
      "Error fetching features for track 3SwkKcpCModXgfYCFn67CA: http status: 403, code:-1 - https://api.spotify.com/v1/audio-features/?ids=3SwkKcpCModXgfYCFn67CA:\n",
      " None, reason: None\n",
      "Error fetching features for track 62bOmKYxYg7dhrC6gH9vFn: http status: 403, code:-1 - https://api.spotify.com/v1/audio-features/?ids=62bOmKYxYg7dhrC6gH9vFn:\n",
      " None, reason: None\n"
     ]
    },
    {
     "name": "stderr",
     "output_type": "stream",
     "text": [
      "HTTP Error for GET to https://api.spotify.com/v1/audio-features/?ids=2qxmye6gAegTMjLKEBoR3d with Params: {} returned 403 due to None\n",
      "HTTP Error for GET to https://api.spotify.com/v1/audio-features/?ids=1SJtlNRJDeYHioymcvsqev with Params: {} returned 403 due to None\n"
     ]
    },
    {
     "name": "stdout",
     "output_type": "stream",
     "text": [
      "Error fetching features for track 2qxmye6gAegTMjLKEBoR3d: http status: 403, code:-1 - https://api.spotify.com/v1/audio-features/?ids=2qxmye6gAegTMjLKEBoR3d:\n",
      " None, reason: None\n",
      "Error fetching features for track 1SJtlNRJDeYHioymcvsqev: http status: 403, code:-1 - https://api.spotify.com/v1/audio-features/?ids=1SJtlNRJDeYHioymcvsqev:\n",
      " None, reason: None\n"
     ]
    },
    {
     "name": "stderr",
     "output_type": "stream",
     "text": [
      "HTTP Error for GET to https://api.spotify.com/v1/audio-features/?ids=5QO79kh1waicV47BqGRL3g with Params: {} returned 403 due to None\n",
      "HTTP Error for GET to https://api.spotify.com/v1/audio-features/?ids=1SC5rEoYDGUK4NfG82494W with Params: {} returned 403 due to None\n",
      "HTTP Error for GET to https://api.spotify.com/v1/audio-features/?ids=2H9SvhMVXSYPxxkQgzkTKp with Params: {} returned 403 due to None\n"
     ]
    },
    {
     "name": "stdout",
     "output_type": "stream",
     "text": [
      "Error fetching features for track 5QO79kh1waicV47BqGRL3g: http status: 403, code:-1 - https://api.spotify.com/v1/audio-features/?ids=5QO79kh1waicV47BqGRL3g:\n",
      " None, reason: None\n",
      "Error fetching features for track 1SC5rEoYDGUK4NfG82494W: http status: 403, code:-1 - https://api.spotify.com/v1/audio-features/?ids=1SC5rEoYDGUK4NfG82494W:\n",
      " None, reason: None\n",
      "Error fetching features for track 2H9SvhMVXSYPxxkQgzkTKp: http status: 403, code:-1 - https://api.spotify.com/v1/audio-features/?ids=2H9SvhMVXSYPxxkQgzkTKp:\n",
      " None, reason: None\n"
     ]
    },
    {
     "name": "stderr",
     "output_type": "stream",
     "text": [
      "HTTP Error for GET to https://api.spotify.com/v1/audio-features/?ids=2AW37v0bDyuOzGP3XnmFuA with Params: {} returned 403 due to None\n",
      "HTTP Error for GET to https://api.spotify.com/v1/audio-features/?ids=2AW37v0bDyuOzGP3XnmFuA with Params: {} returned 403 due to None\n",
      "HTTP Error for GET to https://api.spotify.com/v1/audio-features/?ids=1tKhy83q8OsdcpZaX9N4Z2 with Params: {} returned 403 due to None\n"
     ]
    },
    {
     "name": "stdout",
     "output_type": "stream",
     "text": [
      "Error fetching features for track 2AW37v0bDyuOzGP3XnmFuA: http status: 403, code:-1 - https://api.spotify.com/v1/audio-features/?ids=2AW37v0bDyuOzGP3XnmFuA:\n",
      " None, reason: None\n",
      "Error fetching features for track 2AW37v0bDyuOzGP3XnmFuA: http status: 403, code:-1 - https://api.spotify.com/v1/audio-features/?ids=2AW37v0bDyuOzGP3XnmFuA:\n",
      " None, reason: None\n",
      "Error fetching features for track 1tKhy83q8OsdcpZaX9N4Z2: http status: 403, code:-1 - https://api.spotify.com/v1/audio-features/?ids=1tKhy83q8OsdcpZaX9N4Z2:\n",
      " None, reason: None\n"
     ]
    },
    {
     "name": "stderr",
     "output_type": "stream",
     "text": [
      "HTTP Error for GET to https://api.spotify.com/v1/audio-features/?ids=6qNyL8lZuqFmy9ginJRQOZ with Params: {} returned 403 due to None\n",
      "HTTP Error for GET to https://api.spotify.com/v1/audio-features/?ids=0xlWd9o8yjKpJ02WJy79kZ with Params: {} returned 403 due to None\n",
      "HTTP Error for GET to https://api.spotify.com/v1/audio-features/?ids=4RUBGBppd71QQy4lLJ1mvw with Params: {} returned 403 due to None\n",
      "HTTP Error for GET to https://api.spotify.com/v1/audio-features/?ids=3h5YZTfJ4BBpvLVHS6lGUl with Params: {} returned 403 due to None\n"
     ]
    },
    {
     "name": "stdout",
     "output_type": "stream",
     "text": [
      "Error fetching features for track 6qNyL8lZuqFmy9ginJRQOZ: http status: 403, code:-1 - https://api.spotify.com/v1/audio-features/?ids=6qNyL8lZuqFmy9ginJRQOZ:\n",
      " None, reason: None\n",
      "Error fetching features for track 0xlWd9o8yjKpJ02WJy79kZ: http status: 403, code:-1 - https://api.spotify.com/v1/audio-features/?ids=0xlWd9o8yjKpJ02WJy79kZ:\n",
      " None, reason: None\n",
      "Error fetching features for track 4RUBGBppd71QQy4lLJ1mvw: http status: 403, code:-1 - https://api.spotify.com/v1/audio-features/?ids=4RUBGBppd71QQy4lLJ1mvw:\n",
      " None, reason: None\n",
      "Error fetching features for track 3h5YZTfJ4BBpvLVHS6lGUl: http status: 403, code:-1 - https://api.spotify.com/v1/audio-features/?ids=3h5YZTfJ4BBpvLVHS6lGUl:\n",
      " None, reason: None\n"
     ]
    },
    {
     "name": "stderr",
     "output_type": "stream",
     "text": [
      "HTTP Error for GET to https://api.spotify.com/v1/audio-features/?ids=6Frhkb7giXWjeJAX2dJT88 with Params: {} returned 403 due to None\n",
      "HTTP Error for GET to https://api.spotify.com/v1/audio-features/?ids=0XprgFKfXIDkgHZ4iYVIjk with Params: {} returned 403 due to None\n",
      "HTTP Error for GET to https://api.spotify.com/v1/audio-features/?ids=3gLf7ctpqnklhoQfeveBw0 with Params: {} returned 403 due to None\n"
     ]
    },
    {
     "name": "stdout",
     "output_type": "stream",
     "text": [
      "Error fetching features for track 6Frhkb7giXWjeJAX2dJT88: http status: 403, code:-1 - https://api.spotify.com/v1/audio-features/?ids=6Frhkb7giXWjeJAX2dJT88:\n",
      " None, reason: None\n",
      "Error fetching features for track 0XprgFKfXIDkgHZ4iYVIjk: http status: 403, code:-1 - https://api.spotify.com/v1/audio-features/?ids=0XprgFKfXIDkgHZ4iYVIjk:\n",
      " None, reason: None\n",
      "Error fetching features for track 3gLf7ctpqnklhoQfeveBw0: http status: 403, code:-1 - https://api.spotify.com/v1/audio-features/?ids=3gLf7ctpqnklhoQfeveBw0:\n",
      " None, reason: None\n"
     ]
    },
    {
     "name": "stderr",
     "output_type": "stream",
     "text": [
      "HTTP Error for GET to https://api.spotify.com/v1/audio-features/?ids=648GXyKI62FhbeBq0levWr with Params: {} returned 403 due to None\n",
      "HTTP Error for GET to https://api.spotify.com/v1/audio-features/?ids=01npLGQTbZBIHVRcXJbLzR with Params: {} returned 403 due to None\n",
      "HTTP Error for GET to https://api.spotify.com/v1/audio-features/?ids=0pPGUL7171TRGgI6wyP8wP with Params: {} returned 403 due to None\n"
     ]
    },
    {
     "name": "stdout",
     "output_type": "stream",
     "text": [
      "Error fetching features for track 648GXyKI62FhbeBq0levWr: http status: 403, code:-1 - https://api.spotify.com/v1/audio-features/?ids=648GXyKI62FhbeBq0levWr:\n",
      " None, reason: None\n",
      "Error fetching features for track 01npLGQTbZBIHVRcXJbLzR: http status: 403, code:-1 - https://api.spotify.com/v1/audio-features/?ids=01npLGQTbZBIHVRcXJbLzR:\n",
      " None, reason: None\n",
      "Error fetching features for track 0pPGUL7171TRGgI6wyP8wP: http status: 403, code:-1 - https://api.spotify.com/v1/audio-features/?ids=0pPGUL7171TRGgI6wyP8wP:\n",
      " None, reason: None\n"
     ]
    },
    {
     "name": "stderr",
     "output_type": "stream",
     "text": [
      "HTTP Error for GET to https://api.spotify.com/v1/audio-features/?ids=01npLGQTbZBIHVRcXJbLzR with Params: {} returned 403 due to None\n",
      "HTTP Error for GET to https://api.spotify.com/v1/audio-features/?ids=62bOmKYxYg7dhrC6gH9vFn with Params: {} returned 403 due to None\n",
      "HTTP Error for GET to https://api.spotify.com/v1/audio-features/?ids=1eV2FGbbyxCJ6xaLqBRiFW with Params: {} returned 403 due to None\n"
     ]
    },
    {
     "name": "stdout",
     "output_type": "stream",
     "text": [
      "Error fetching features for track 01npLGQTbZBIHVRcXJbLzR: http status: 403, code:-1 - https://api.spotify.com/v1/audio-features/?ids=01npLGQTbZBIHVRcXJbLzR:\n",
      " None, reason: None\n",
      "Error fetching features for track 62bOmKYxYg7dhrC6gH9vFn: http status: 403, code:-1 - https://api.spotify.com/v1/audio-features/?ids=62bOmKYxYg7dhrC6gH9vFn:\n",
      " None, reason: None\n",
      "Error fetching features for track 1eV2FGbbyxCJ6xaLqBRiFW: http status: 403, code:-1 - https://api.spotify.com/v1/audio-features/?ids=1eV2FGbbyxCJ6xaLqBRiFW:\n",
      " None, reason: None\n"
     ]
    },
    {
     "name": "stderr",
     "output_type": "stream",
     "text": [
      "HTTP Error for GET to https://api.spotify.com/v1/audio-features/?ids=62bOmKYxYg7dhrC6gH9vFn with Params: {} returned 403 due to None\n",
      "HTTP Error for GET to https://api.spotify.com/v1/audio-features/?ids=1eV2FGbbyxCJ6xaLqBRiFW with Params: {} returned 403 due to None\n",
      "HTTP Error for GET to https://api.spotify.com/v1/audio-features/?ids=46n2EGFnPC3tzWCN1Aqe26 with Params: {} returned 403 due to None\n"
     ]
    },
    {
     "name": "stdout",
     "output_type": "stream",
     "text": [
      "Error fetching features for track 62bOmKYxYg7dhrC6gH9vFn: http status: 403, code:-1 - https://api.spotify.com/v1/audio-features/?ids=62bOmKYxYg7dhrC6gH9vFn:\n",
      " None, reason: None\n",
      "Error fetching features for track 1eV2FGbbyxCJ6xaLqBRiFW: http status: 403, code:-1 - https://api.spotify.com/v1/audio-features/?ids=1eV2FGbbyxCJ6xaLqBRiFW:\n",
      " None, reason: None\n",
      "Error fetching features for track 46n2EGFnPC3tzWCN1Aqe26: http status: 403, code:-1 - https://api.spotify.com/v1/audio-features/?ids=46n2EGFnPC3tzWCN1Aqe26:\n",
      " None, reason: None\n"
     ]
    },
    {
     "name": "stderr",
     "output_type": "stream",
     "text": [
      "HTTP Error for GET to https://api.spotify.com/v1/audio-features/?ids=2AW37v0bDyuOzGP3XnmFuA with Params: {} returned 403 due to None\n",
      "HTTP Error for GET to https://api.spotify.com/v1/audio-features/?ids=5cOu9ymkebFkMiFLQueO1n with Params: {} returned 403 due to None\n",
      "HTTP Error for GET to https://api.spotify.com/v1/audio-features/?ids=3gLf7ctpqnklhoQfeveBw0 with Params: {} returned 403 due to None\n",
      "HTTP Error for GET to https://api.spotify.com/v1/audio-features/?ids=0sSapNABKrGwgaMhn0p8uL with Params: {} returned 403 due to None\n"
     ]
    },
    {
     "name": "stdout",
     "output_type": "stream",
     "text": [
      "Error fetching features for track 2AW37v0bDyuOzGP3XnmFuA: http status: 403, code:-1 - https://api.spotify.com/v1/audio-features/?ids=2AW37v0bDyuOzGP3XnmFuA:\n",
      " None, reason: None\n",
      "Error fetching features for track 5cOu9ymkebFkMiFLQueO1n: http status: 403, code:-1 - https://api.spotify.com/v1/audio-features/?ids=5cOu9ymkebFkMiFLQueO1n:\n",
      " None, reason: None\n",
      "Error fetching features for track 3gLf7ctpqnklhoQfeveBw0: http status: 403, code:-1 - https://api.spotify.com/v1/audio-features/?ids=3gLf7ctpqnklhoQfeveBw0:\n",
      " None, reason: None\n",
      "Error fetching features for track 0sSapNABKrGwgaMhn0p8uL: http status: 403, code:-1 - https://api.spotify.com/v1/audio-features/?ids=0sSapNABKrGwgaMhn0p8uL:\n",
      " None, reason: None\n"
     ]
    },
    {
     "name": "stderr",
     "output_type": "stream",
     "text": [
      "HTTP Error for GET to https://api.spotify.com/v1/audio-features/?ids=0U9AVN16faf2iOWEOt67H8 with Params: {} returned 403 due to None\n",
      "HTTP Error for GET to https://api.spotify.com/v1/audio-features/?ids=6K0Ea7pq2trf6SwsfEKkOp with Params: {} returned 403 due to None\n",
      "HTTP Error for GET to https://api.spotify.com/v1/audio-features/?ids=6K0Ea7pq2trf6SwsfEKkOp with Params: {} returned 403 due to None\n"
     ]
    },
    {
     "name": "stdout",
     "output_type": "stream",
     "text": [
      "Error fetching features for track 0U9AVN16faf2iOWEOt67H8: http status: 403, code:-1 - https://api.spotify.com/v1/audio-features/?ids=0U9AVN16faf2iOWEOt67H8:\n",
      " None, reason: None\n",
      "Error fetching features for track 6K0Ea7pq2trf6SwsfEKkOp: http status: 403, code:-1 - https://api.spotify.com/v1/audio-features/?ids=6K0Ea7pq2trf6SwsfEKkOp:\n",
      " None, reason: None\n",
      "Error fetching features for track 6K0Ea7pq2trf6SwsfEKkOp: http status: 403, code:-1 - https://api.spotify.com/v1/audio-features/?ids=6K0Ea7pq2trf6SwsfEKkOp:\n",
      " None, reason: None\n"
     ]
    },
    {
     "name": "stderr",
     "output_type": "stream",
     "text": [
      "HTTP Error for GET to https://api.spotify.com/v1/audio-features/?ids=3FrY3M9izNqPZRWuBAqDFM with Params: {} returned 403 due to None\n",
      "HTTP Error for GET to https://api.spotify.com/v1/audio-features/?ids=0xlWd9o8yjKpJ02WJy79kZ with Params: {} returned 403 due to None\n",
      "HTTP Error for GET to https://api.spotify.com/v1/audio-features/?ids=5vGiuYFSGekGLgbxhV1rD5 with Params: {} returned 403 due to None\n",
      "HTTP Error for GET to https://api.spotify.com/v1/audio-features/?ids=5vGiuYFSGekGLgbxhV1rD5 with Params: {} returned 403 due to None\n"
     ]
    },
    {
     "name": "stdout",
     "output_type": "stream",
     "text": [
      "Error fetching features for track 3FrY3M9izNqPZRWuBAqDFM: http status: 403, code:-1 - https://api.spotify.com/v1/audio-features/?ids=3FrY3M9izNqPZRWuBAqDFM:\n",
      " None, reason: None\n",
      "Error fetching features for track 0xlWd9o8yjKpJ02WJy79kZ: http status: 403, code:-1 - https://api.spotify.com/v1/audio-features/?ids=0xlWd9o8yjKpJ02WJy79kZ:\n",
      " None, reason: None\n",
      "Error fetching features for track 5vGiuYFSGekGLgbxhV1rD5: http status: 403, code:-1 - https://api.spotify.com/v1/audio-features/?ids=5vGiuYFSGekGLgbxhV1rD5:\n",
      " None, reason: None\n",
      "Error fetching features for track 5vGiuYFSGekGLgbxhV1rD5: http status: 403, code:-1 - https://api.spotify.com/v1/audio-features/?ids=5vGiuYFSGekGLgbxhV1rD5:\n",
      " None, reason: None\n"
     ]
    },
    {
     "name": "stderr",
     "output_type": "stream",
     "text": [
      "HTTP Error for GET to https://api.spotify.com/v1/audio-features/?ids=7GE3LwWzboPaTN0TlDcPs1 with Params: {} returned 403 due to None\n",
      "HTTP Error for GET to https://api.spotify.com/v1/audio-features/?ids=4BiPsAV070dg3eLSVf727A with Params: {} returned 403 due to None\n",
      "HTTP Error for GET to https://api.spotify.com/v1/audio-features/?ids=1ELMyeJLDHUz3cK3XTWgEi with Params: {} returned 403 due to None\n",
      "HTTP Error for GET to https://api.spotify.com/v1/audio-features/?ids=0TEZDqtGjqPwcaFx3Mzpbz with Params: {} returned 403 due to None\n"
     ]
    },
    {
     "name": "stdout",
     "output_type": "stream",
     "text": [
      "Error fetching features for track 7GE3LwWzboPaTN0TlDcPs1: http status: 403, code:-1 - https://api.spotify.com/v1/audio-features/?ids=7GE3LwWzboPaTN0TlDcPs1:\n",
      " None, reason: None\n",
      "Error fetching features for track 4BiPsAV070dg3eLSVf727A: http status: 403, code:-1 - https://api.spotify.com/v1/audio-features/?ids=4BiPsAV070dg3eLSVf727A:\n",
      " None, reason: None\n",
      "Error fetching features for track 1ELMyeJLDHUz3cK3XTWgEi: http status: 403, code:-1 - https://api.spotify.com/v1/audio-features/?ids=1ELMyeJLDHUz3cK3XTWgEi:\n",
      " None, reason: None\n",
      "Error fetching features for track 0TEZDqtGjqPwcaFx3Mzpbz: http status: 403, code:-1 - https://api.spotify.com/v1/audio-features/?ids=0TEZDqtGjqPwcaFx3Mzpbz:\n",
      " None, reason: None\n"
     ]
    },
    {
     "name": "stderr",
     "output_type": "stream",
     "text": [
      "HTTP Error for GET to https://api.spotify.com/v1/audio-features/?ids=5PvwPy5eRO8BPwpRzCHK3D with Params: {} returned 403 due to None\n",
      "HTTP Error for GET to https://api.spotify.com/v1/audio-features/?ids=0gbysjaH16DW29QpUnowcx with Params: {} returned 403 due to None\n",
      "HTTP Error for GET to https://api.spotify.com/v1/audio-features/?ids=2H9SvhMVXSYPxxkQgzkTKp with Params: {} returned 403 due to None\n",
      "HTTP Error for GET to https://api.spotify.com/v1/audio-features/?ids=7r6iwgXcR85d9rfqsuf2Af with Params: {} returned 403 due to None\n"
     ]
    },
    {
     "name": "stdout",
     "output_type": "stream",
     "text": [
      "Error fetching features for track 5PvwPy5eRO8BPwpRzCHK3D: http status: 403, code:-1 - https://api.spotify.com/v1/audio-features/?ids=5PvwPy5eRO8BPwpRzCHK3D:\n",
      " None, reason: None\n",
      "Error fetching features for track 0gbysjaH16DW29QpUnowcx: http status: 403, code:-1 - https://api.spotify.com/v1/audio-features/?ids=0gbysjaH16DW29QpUnowcx:\n",
      " None, reason: None\n",
      "Error fetching features for track 2H9SvhMVXSYPxxkQgzkTKp: http status: 403, code:-1 - https://api.spotify.com/v1/audio-features/?ids=2H9SvhMVXSYPxxkQgzkTKp:\n",
      " None, reason: None\n",
      "Error fetching features for track 7r6iwgXcR85d9rfqsuf2Af: http status: 403, code:-1 - https://api.spotify.com/v1/audio-features/?ids=7r6iwgXcR85d9rfqsuf2Af:\n",
      " None, reason: None\n"
     ]
    },
    {
     "name": "stderr",
     "output_type": "stream",
     "text": [
      "HTTP Error for GET to https://api.spotify.com/v1/audio-features/?ids=2R4zzmPXIFuBH0BqdWDkfC with Params: {} returned 403 due to None\n"
     ]
    },
    {
     "name": "stdout",
     "output_type": "stream",
     "text": [
      "Error fetching features for track 2R4zzmPXIFuBH0BqdWDkfC: http status: 403, code:-1 - https://api.spotify.com/v1/audio-features/?ids=2R4zzmPXIFuBH0BqdWDkfC:\n",
      " None, reason: None\n"
     ]
    },
    {
     "name": "stderr",
     "output_type": "stream",
     "text": [
      "HTTP Error for GET to https://api.spotify.com/v1/audio-features/?ids=2VgbvKdaSOXWByBKYgBsEc with Params: {} returned 403 due to None\n",
      "HTTP Error for GET to https://api.spotify.com/v1/audio-features/?ids=1n1b2lwdRdWF5RAaA0vewk with Params: {} returned 403 due to None\n",
      "HTTP Error for GET to https://api.spotify.com/v1/audio-features/?ids=6iK2pxK4fCJLZwrzUslWgY with Params: {} returned 403 due to None\n"
     ]
    },
    {
     "name": "stdout",
     "output_type": "stream",
     "text": [
      "Processing batch 29 of 29\n",
      "Error fetching features for track 2VgbvKdaSOXWByBKYgBsEc: http status: 403, code:-1 - https://api.spotify.com/v1/audio-features/?ids=2VgbvKdaSOXWByBKYgBsEc:\n",
      " None, reason: None\n",
      "Error fetching features for track 1n1b2lwdRdWF5RAaA0vewk: http status: 403, code:-1 - https://api.spotify.com/v1/audio-features/?ids=1n1b2lwdRdWF5RAaA0vewk:\n",
      " None, reason: None\n",
      "Error fetching features for track 6iK2pxK4fCJLZwrzUslWgY: http status: 403, code:-1 - https://api.spotify.com/v1/audio-features/?ids=6iK2pxK4fCJLZwrzUslWgY:\n",
      " None, reason: None\n"
     ]
    },
    {
     "name": "stderr",
     "output_type": "stream",
     "text": [
      "HTTP Error for GET to https://api.spotify.com/v1/audio-features/?ids=6NfXjIsNGXaRaDzdbdxY4m with Params: {} returned 403 due to None\n",
      "HTTP Error for GET to https://api.spotify.com/v1/audio-features/?ids=7atOebyeANuCZsGhm33YLd with Params: {} returned 403 due to None\n",
      "HTTP Error for GET to https://api.spotify.com/v1/audio-features/?ids=2wCYsTuY8Wsw0iBlw06mbg with Params: {} returned 403 due to None\n",
      "HTTP Error for GET to https://api.spotify.com/v1/audio-features/?ids=43SKg10CCeaoyr7XSKfpTR with Params: {} returned 403 due to None\n"
     ]
    },
    {
     "name": "stdout",
     "output_type": "stream",
     "text": [
      "Error fetching features for track 6NfXjIsNGXaRaDzdbdxY4m: http status: 403, code:-1 - https://api.spotify.com/v1/audio-features/?ids=6NfXjIsNGXaRaDzdbdxY4m:\n",
      " None, reason: None\n",
      "Error fetching features for track 7atOebyeANuCZsGhm33YLd: http status: 403, code:-1 - https://api.spotify.com/v1/audio-features/?ids=7atOebyeANuCZsGhm33YLd:\n",
      " None, reason: None\n",
      "Error fetching features for track 2wCYsTuY8Wsw0iBlw06mbg: http status: 403, code:-1 - https://api.spotify.com/v1/audio-features/?ids=2wCYsTuY8Wsw0iBlw06mbg:\n",
      " None, reason: None\n",
      "Error fetching features for track 43SKg10CCeaoyr7XSKfpTR: http status: 403, code:-1 - https://api.spotify.com/v1/audio-features/?ids=43SKg10CCeaoyr7XSKfpTR:\n",
      " None, reason: None\n"
     ]
    },
    {
     "name": "stderr",
     "output_type": "stream",
     "text": [
      "HTTP Error for GET to https://api.spotify.com/v1/audio-features/?ids=5cgKosPPj5Cs9a2JQufUc1 with Params: {} returned 403 due to None\n",
      "HTTP Error for GET to https://api.spotify.com/v1/audio-features/?ids=7fW9J3EpVWVN1ouv0slAs0 with Params: {} returned 403 due to None\n",
      "HTTP Error for GET to https://api.spotify.com/v1/audio-features/?ids=6iK2pxK4fCJLZwrzUslWgY with Params: {} returned 403 due to None\n",
      "HTTP Error for GET to https://api.spotify.com/v1/audio-features/?ids=4FeiicaPWhZZusS1rddYdc with Params: {} returned 403 due to None\n"
     ]
    },
    {
     "name": "stdout",
     "output_type": "stream",
     "text": [
      "Error fetching features for track 5cgKosPPj5Cs9a2JQufUc1: http status: 403, code:-1 - https://api.spotify.com/v1/audio-features/?ids=5cgKosPPj5Cs9a2JQufUc1:\n",
      " None, reason: None\n",
      "Error fetching features for track 7fW9J3EpVWVN1ouv0slAs0: http status: 403, code:-1 - https://api.spotify.com/v1/audio-features/?ids=7fW9J3EpVWVN1ouv0slAs0:\n",
      " None, reason: None\n",
      "Error fetching features for track 6iK2pxK4fCJLZwrzUslWgY: http status: 403, code:-1 - https://api.spotify.com/v1/audio-features/?ids=6iK2pxK4fCJLZwrzUslWgY:\n",
      " None, reason: None\n",
      "Error fetching features for track 4FeiicaPWhZZusS1rddYdc: http status: 403, code:-1 - https://api.spotify.com/v1/audio-features/?ids=4FeiicaPWhZZusS1rddYdc:\n",
      " None, reason: None\n"
     ]
    },
    {
     "name": "stderr",
     "output_type": "stream",
     "text": [
      "HTTP Error for GET to https://api.spotify.com/v1/audio-features/?ids=1qtl3vB0uqciZ94g3S6TO7 with Params: {} returned 403 due to None\n",
      "HTTP Error for GET to https://api.spotify.com/v1/audio-features/?ids=6FjbAnaPRPwiP3sciEYctO with Params: {} returned 403 due to None\n",
      "HTTP Error for GET to https://api.spotify.com/v1/audio-features/?ids=4HfmI5Yisll9PCOjJhtijw with Params: {} returned 403 due to None\n",
      "HTTP Error for GET to https://api.spotify.com/v1/audio-features/?ids=6fORBVECjNDJ1gdq5uuoAz with Params: {} returned 403 due to None\n"
     ]
    },
    {
     "name": "stdout",
     "output_type": "stream",
     "text": [
      "Error fetching features for track 1qtl3vB0uqciZ94g3S6TO7: http status: 403, code:-1 - https://api.spotify.com/v1/audio-features/?ids=1qtl3vB0uqciZ94g3S6TO7:\n",
      " None, reason: None\n",
      "Error fetching features for track 6FjbAnaPRPwiP3sciEYctO: http status: 403, code:-1 - https://api.spotify.com/v1/audio-features/?ids=6FjbAnaPRPwiP3sciEYctO:\n",
      " None, reason: None\n",
      "Error fetching features for track 4HfmI5Yisll9PCOjJhtijw: http status: 403, code:-1 - https://api.spotify.com/v1/audio-features/?ids=4HfmI5Yisll9PCOjJhtijw:\n",
      " None, reason: None\n",
      "Error fetching features for track 6fORBVECjNDJ1gdq5uuoAz: http status: 403, code:-1 - https://api.spotify.com/v1/audio-features/?ids=6fORBVECjNDJ1gdq5uuoAz:\n",
      " None, reason: None\n"
     ]
    },
    {
     "name": "stderr",
     "output_type": "stream",
     "text": [
      "HTTP Error for GET to https://api.spotify.com/v1/audio-features/?ids=1NX33DecZrq4ZUGDc47AfN with Params: {} returned 403 due to None\n",
      "HTTP Error for GET to https://api.spotify.com/v1/audio-features/?ids=4A15QHUraE6rrP0Co6S3lG with Params: {} returned 403 due to None\n",
      "HTTP Error for GET to https://api.spotify.com/v1/audio-features/?ids=6ZoCBDOB308GqUdt2AJrV2 with Params: {} returned 403 due to None\n",
      "HTTP Error for GET to https://api.spotify.com/v1/audio-features/?ids=5SftJq4uVpajyYC1Gs0RFF with Params: {} returned 403 due to None\n"
     ]
    },
    {
     "name": "stdout",
     "output_type": "stream",
     "text": [
      "Error fetching features for track 1NX33DecZrq4ZUGDc47AfN: http status: 403, code:-1 - https://api.spotify.com/v1/audio-features/?ids=1NX33DecZrq4ZUGDc47AfN:\n",
      " None, reason: None\n",
      "Error fetching features for track 4A15QHUraE6rrP0Co6S3lG: http status: 403, code:-1 - https://api.spotify.com/v1/audio-features/?ids=4A15QHUraE6rrP0Co6S3lG:\n",
      " None, reason: None\n",
      "Error fetching features for track 6ZoCBDOB308GqUdt2AJrV2: http status: 403, code:-1 - https://api.spotify.com/v1/audio-features/?ids=6ZoCBDOB308GqUdt2AJrV2:\n",
      " None, reason: None\n",
      "Error fetching features for track 5SftJq4uVpajyYC1Gs0RFF: http status: 403, code:-1 - https://api.spotify.com/v1/audio-features/?ids=5SftJq4uVpajyYC1Gs0RFF:\n",
      " None, reason: None\n"
     ]
    },
    {
     "name": "stderr",
     "output_type": "stream",
     "text": [
      "HTTP Error for GET to https://api.spotify.com/v1/audio-features/?ids=7IjnfuMNfdrAXbefurdIIR with Params: {} returned 403 due to None\n",
      "HTTP Error for GET to https://api.spotify.com/v1/audio-features/?ids=2GTasAZimpxzNgE7aXFifI with Params: {} returned 403 due to None\n",
      "HTTP Error for GET to https://api.spotify.com/v1/audio-features/?ids=3WJQXRiZQNpasi3i4Tp8U1 with Params: {} returned 403 due to None\n",
      "HTTP Error for GET to https://api.spotify.com/v1/audio-features/?ids=0xNc6Z322CXrfK0tAvOXpm with Params: {} returned 403 due to None\n"
     ]
    },
    {
     "name": "stdout",
     "output_type": "stream",
     "text": [
      "Error fetching features for track 7IjnfuMNfdrAXbefurdIIR: http status: 403, code:-1 - https://api.spotify.com/v1/audio-features/?ids=7IjnfuMNfdrAXbefurdIIR:\n",
      " None, reason: None\n",
      "Error fetching features for track 2GTasAZimpxzNgE7aXFifI: http status: 403, code:-1 - https://api.spotify.com/v1/audio-features/?ids=2GTasAZimpxzNgE7aXFifI:\n",
      " None, reason: None\n",
      "Error fetching features for track 3WJQXRiZQNpasi3i4Tp8U1: http status: 403, code:-1 - https://api.spotify.com/v1/audio-features/?ids=3WJQXRiZQNpasi3i4Tp8U1:\n",
      " None, reason: None\n"
     ]
    },
    {
     "name": "stderr",
     "output_type": "stream",
     "text": [
      "HTTP Error for GET to https://api.spotify.com/v1/audio-features/?ids=3rsx3pDYM3a08O0Yu3Tq6V with Params: {} returned 403 due to None\n",
      "HTTP Error for GET to https://api.spotify.com/v1/audio-features/?ids=5CXKZm1KE7RGym7insLJM2 with Params: {} returned 403 due to None\n",
      "HTTP Error for GET to https://api.spotify.com/v1/audio-features/?ids=3TAhWtQnpoL5Vl9VQPl9fU with Params: {} returned 403 due to None\n"
     ]
    },
    {
     "name": "stdout",
     "output_type": "stream",
     "text": [
      "Error fetching features for track 0xNc6Z322CXrfK0tAvOXpm: http status: 403, code:-1 - https://api.spotify.com/v1/audio-features/?ids=0xNc6Z322CXrfK0tAvOXpm:\n",
      " None, reason: None\n",
      "Error fetching features for track 3rsx3pDYM3a08O0Yu3Tq6V: http status: 403, code:-1 - https://api.spotify.com/v1/audio-features/?ids=3rsx3pDYM3a08O0Yu3Tq6V:\n",
      " None, reason: None\n",
      "Error fetching features for track 5CXKZm1KE7RGym7insLJM2: http status: 403, code:-1 - https://api.spotify.com/v1/audio-features/?ids=5CXKZm1KE7RGym7insLJM2:\n",
      " None, reason: None\n",
      "Error fetching features for track 3TAhWtQnpoL5Vl9VQPl9fU: http status: 403, code:-1 - https://api.spotify.com/v1/audio-features/?ids=3TAhWtQnpoL5Vl9VQPl9fU:\n",
      " None, reason: None\n"
     ]
    },
    {
     "name": "stderr",
     "output_type": "stream",
     "text": [
      "HTTP Error for GET to https://api.spotify.com/v1/audio-features/?ids=11ipwX6rA4f5KMTYB7QFXj with Params: {} returned 403 due to None\n",
      "HTTP Error for GET to https://api.spotify.com/v1/audio-features/?ids=0biCSADTAblvLTLtJz4pXO with Params: {} returned 403 due to None\n"
     ]
    },
    {
     "name": "stdout",
     "output_type": "stream",
     "text": [
      "Error fetching features for track 11ipwX6rA4f5KMTYB7QFXj: http status: 403, code:-1 - https://api.spotify.com/v1/audio-features/?ids=11ipwX6rA4f5KMTYB7QFXj:\n",
      " None, reason: None\n",
      "Error fetching features for track 0biCSADTAblvLTLtJz4pXO: http status: 403, code:-1 - https://api.spotify.com/v1/audio-features/?ids=0biCSADTAblvLTLtJz4pXO:\n",
      " None, reason: None\n"
     ]
    },
    {
     "ename": "KeyError",
     "evalue": "'track_id'",
     "output_type": "error",
     "traceback": [
      "\u001b[0;31m---------------------------------------------------------------------------\u001b[0m",
      "\u001b[0;31mKeyError\u001b[0m                                  Traceback (most recent call last)",
      "\u001b[0;32m/var/folders/xx/v9z2_m390ygcrxz3lmcv2mx80000gn/T/ipykernel_6759/3796810366.py\u001b[0m in \u001b[0;36m?\u001b[0;34m()\u001b[0m\n\u001b[0;32m---> 93\u001b[0;31m \u001b[0;32mimport\u001b[0m \u001b[0mpandas\u001b[0m \u001b[0;32mas\u001b[0m \u001b[0mpd\u001b[0m\u001b[0;34m\u001b[0m\u001b[0;34m\u001b[0m\u001b[0m\n\u001b[0m\u001b[1;32m     94\u001b[0m \u001b[0;32mimport\u001b[0m \u001b[0mspotipy\u001b[0m\u001b[0;34m\u001b[0m\u001b[0;34m\u001b[0m\u001b[0m\n\u001b[1;32m     95\u001b[0m \u001b[0;32mfrom\u001b[0m \u001b[0mspotipy\u001b[0m\u001b[0;34m.\u001b[0m\u001b[0moauth2\u001b[0m \u001b[0;32mimport\u001b[0m \u001b[0mSpotifyClientCredentials\u001b[0m\u001b[0;34m\u001b[0m\u001b[0;34m\u001b[0m\u001b[0m\n\u001b[1;32m     96\u001b[0m \u001b[0;32mimport\u001b[0m \u001b[0mtime\u001b[0m\u001b[0;34m\u001b[0m\u001b[0;34m\u001b[0m\u001b[0m\n",
      "\u001b[0;32m~/anaconda3/envs/captionKraftNov25/lib/python3.9/site-packages/pandas/core/reshape/merge.py\u001b[0m in \u001b[0;36m?\u001b[0;34m(left, right, how, on, left_on, right_on, left_index, right_index, sort, suffixes, copy, indicator, validate)\u001b[0m\n\u001b[1;32m    165\u001b[0m             \u001b[0mvalidate\u001b[0m\u001b[0;34m=\u001b[0m\u001b[0mvalidate\u001b[0m\u001b[0;34m,\u001b[0m\u001b[0;34m\u001b[0m\u001b[0;34m\u001b[0m\u001b[0m\n\u001b[1;32m    166\u001b[0m             \u001b[0mcopy\u001b[0m\u001b[0;34m=\u001b[0m\u001b[0mcopy\u001b[0m\u001b[0;34m,\u001b[0m\u001b[0;34m\u001b[0m\u001b[0;34m\u001b[0m\u001b[0m\n\u001b[1;32m    167\u001b[0m         )\n\u001b[1;32m    168\u001b[0m     \u001b[0;32melse\u001b[0m\u001b[0;34m:\u001b[0m\u001b[0;34m\u001b[0m\u001b[0;34m\u001b[0m\u001b[0m\n\u001b[0;32m--> 169\u001b[0;31m         op = _MergeOperation(\n\u001b[0m\u001b[1;32m    170\u001b[0m             \u001b[0mleft_df\u001b[0m\u001b[0;34m,\u001b[0m\u001b[0;34m\u001b[0m\u001b[0;34m\u001b[0m\u001b[0m\n\u001b[1;32m    171\u001b[0m             \u001b[0mright_df\u001b[0m\u001b[0;34m,\u001b[0m\u001b[0;34m\u001b[0m\u001b[0;34m\u001b[0m\u001b[0m\n\u001b[1;32m    172\u001b[0m             \u001b[0mhow\u001b[0m\u001b[0;34m=\u001b[0m\u001b[0mhow\u001b[0m\u001b[0;34m,\u001b[0m\u001b[0;34m\u001b[0m\u001b[0;34m\u001b[0m\u001b[0m\n",
      "\u001b[0;32m~/anaconda3/envs/captionKraftNov25/lib/python3.9/site-packages/pandas/core/reshape/merge.py\u001b[0m in \u001b[0;36m?\u001b[0;34m(self, left, right, how, on, left_on, right_on, left_index, right_index, sort, suffixes, indicator, validate)\u001b[0m\n\u001b[1;32m    787\u001b[0m             \u001b[0mself\u001b[0m\u001b[0;34m.\u001b[0m\u001b[0mright_join_keys\u001b[0m\u001b[0;34m,\u001b[0m\u001b[0;34m\u001b[0m\u001b[0;34m\u001b[0m\u001b[0m\n\u001b[1;32m    788\u001b[0m             \u001b[0mself\u001b[0m\u001b[0;34m.\u001b[0m\u001b[0mjoin_names\u001b[0m\u001b[0;34m,\u001b[0m\u001b[0;34m\u001b[0m\u001b[0;34m\u001b[0m\u001b[0m\n\u001b[1;32m    789\u001b[0m             \u001b[0mleft_drop\u001b[0m\u001b[0;34m,\u001b[0m\u001b[0;34m\u001b[0m\u001b[0;34m\u001b[0m\u001b[0m\n\u001b[1;32m    790\u001b[0m             \u001b[0mright_drop\u001b[0m\u001b[0;34m,\u001b[0m\u001b[0;34m\u001b[0m\u001b[0;34m\u001b[0m\u001b[0m\n\u001b[0;32m--> 791\u001b[0;31m         ) = self._get_merge_keys()\n\u001b[0m\u001b[1;32m    792\u001b[0m \u001b[0;34m\u001b[0m\u001b[0m\n\u001b[1;32m    793\u001b[0m         \u001b[0;32mif\u001b[0m \u001b[0mleft_drop\u001b[0m\u001b[0;34m:\u001b[0m\u001b[0;34m\u001b[0m\u001b[0;34m\u001b[0m\u001b[0m\n\u001b[1;32m    794\u001b[0m             \u001b[0mself\u001b[0m\u001b[0;34m.\u001b[0m\u001b[0mleft\u001b[0m \u001b[0;34m=\u001b[0m \u001b[0mself\u001b[0m\u001b[0;34m.\u001b[0m\u001b[0mleft\u001b[0m\u001b[0;34m.\u001b[0m\u001b[0m_drop_labels_or_levels\u001b[0m\u001b[0;34m(\u001b[0m\u001b[0mleft_drop\u001b[0m\u001b[0;34m)\u001b[0m\u001b[0;34m\u001b[0m\u001b[0;34m\u001b[0m\u001b[0m\n",
      "\u001b[0;32m~/anaconda3/envs/captionKraftNov25/lib/python3.9/site-packages/pandas/core/reshape/merge.py\u001b[0m in \u001b[0;36m?\u001b[0;34m(self)\u001b[0m\n\u001b[1;32m   1265\u001b[0m                         \u001b[0;31m# Then we're either Hashable or a wrong-length arraylike,\u001b[0m\u001b[0;34m\u001b[0m\u001b[0;34m\u001b[0m\u001b[0m\n\u001b[1;32m   1266\u001b[0m                         \u001b[0;31m#  the latter of which will raise\u001b[0m\u001b[0;34m\u001b[0m\u001b[0;34m\u001b[0m\u001b[0m\n\u001b[1;32m   1267\u001b[0m                         \u001b[0mrk\u001b[0m \u001b[0;34m=\u001b[0m \u001b[0mcast\u001b[0m\u001b[0;34m(\u001b[0m\u001b[0mHashable\u001b[0m\u001b[0;34m,\u001b[0m \u001b[0mrk\u001b[0m\u001b[0;34m)\u001b[0m\u001b[0;34m\u001b[0m\u001b[0;34m\u001b[0m\u001b[0m\n\u001b[1;32m   1268\u001b[0m                         \u001b[0;32mif\u001b[0m \u001b[0mrk\u001b[0m \u001b[0;32mis\u001b[0m \u001b[0;32mnot\u001b[0m \u001b[0;32mNone\u001b[0m\u001b[0;34m:\u001b[0m\u001b[0;34m\u001b[0m\u001b[0;34m\u001b[0m\u001b[0m\n\u001b[0;32m-> 1269\u001b[0;31m                             \u001b[0mright_keys\u001b[0m\u001b[0;34m.\u001b[0m\u001b[0mappend\u001b[0m\u001b[0;34m(\u001b[0m\u001b[0mright\u001b[0m\u001b[0;34m.\u001b[0m\u001b[0m_get_label_or_level_values\u001b[0m\u001b[0;34m(\u001b[0m\u001b[0mrk\u001b[0m\u001b[0;34m)\u001b[0m\u001b[0;34m)\u001b[0m\u001b[0;34m\u001b[0m\u001b[0;34m\u001b[0m\u001b[0m\n\u001b[0m\u001b[1;32m   1270\u001b[0m                         \u001b[0;32melse\u001b[0m\u001b[0;34m:\u001b[0m\u001b[0;34m\u001b[0m\u001b[0;34m\u001b[0m\u001b[0m\n\u001b[1;32m   1271\u001b[0m                             \u001b[0;31m# work-around for merge_asof(right_index=True)\u001b[0m\u001b[0;34m\u001b[0m\u001b[0;34m\u001b[0m\u001b[0m\n\u001b[1;32m   1272\u001b[0m                             \u001b[0mright_keys\u001b[0m\u001b[0;34m.\u001b[0m\u001b[0mappend\u001b[0m\u001b[0;34m(\u001b[0m\u001b[0mright\u001b[0m\u001b[0;34m.\u001b[0m\u001b[0mindex\u001b[0m\u001b[0;34m.\u001b[0m\u001b[0m_values\u001b[0m\u001b[0;34m)\u001b[0m\u001b[0;34m\u001b[0m\u001b[0;34m\u001b[0m\u001b[0m\n",
      "\u001b[0;32m~/anaconda3/envs/captionKraftNov25/lib/python3.9/site-packages/pandas/core/generic.py\u001b[0m in \u001b[0;36m?\u001b[0;34m(self, key, axis)\u001b[0m\n\u001b[1;32m   1840\u001b[0m             \u001b[0mvalues\u001b[0m \u001b[0;34m=\u001b[0m \u001b[0mself\u001b[0m\u001b[0;34m.\u001b[0m\u001b[0mxs\u001b[0m\u001b[0;34m(\u001b[0m\u001b[0mkey\u001b[0m\u001b[0;34m,\u001b[0m \u001b[0maxis\u001b[0m\u001b[0;34m=\u001b[0m\u001b[0mother_axes\u001b[0m\u001b[0;34m[\u001b[0m\u001b[0;36m0\u001b[0m\u001b[0;34m]\u001b[0m\u001b[0;34m)\u001b[0m\u001b[0;34m.\u001b[0m\u001b[0m_values\u001b[0m\u001b[0;34m\u001b[0m\u001b[0;34m\u001b[0m\u001b[0m\n\u001b[1;32m   1841\u001b[0m         \u001b[0;32melif\u001b[0m \u001b[0mself\u001b[0m\u001b[0;34m.\u001b[0m\u001b[0m_is_level_reference\u001b[0m\u001b[0;34m(\u001b[0m\u001b[0mkey\u001b[0m\u001b[0;34m,\u001b[0m \u001b[0maxis\u001b[0m\u001b[0;34m=\u001b[0m\u001b[0maxis\u001b[0m\u001b[0;34m)\u001b[0m\u001b[0;34m:\u001b[0m\u001b[0;34m\u001b[0m\u001b[0;34m\u001b[0m\u001b[0m\n\u001b[1;32m   1842\u001b[0m             \u001b[0mvalues\u001b[0m \u001b[0;34m=\u001b[0m \u001b[0mself\u001b[0m\u001b[0;34m.\u001b[0m\u001b[0maxes\u001b[0m\u001b[0;34m[\u001b[0m\u001b[0maxis\u001b[0m\u001b[0;34m]\u001b[0m\u001b[0;34m.\u001b[0m\u001b[0mget_level_values\u001b[0m\u001b[0;34m(\u001b[0m\u001b[0mkey\u001b[0m\u001b[0;34m)\u001b[0m\u001b[0;34m.\u001b[0m\u001b[0m_values\u001b[0m\u001b[0;34m\u001b[0m\u001b[0;34m\u001b[0m\u001b[0m\n\u001b[1;32m   1843\u001b[0m         \u001b[0;32melse\u001b[0m\u001b[0;34m:\u001b[0m\u001b[0;34m\u001b[0m\u001b[0;34m\u001b[0m\u001b[0m\n\u001b[0;32m-> 1844\u001b[0;31m             \u001b[0;32mraise\u001b[0m \u001b[0mKeyError\u001b[0m\u001b[0;34m(\u001b[0m\u001b[0mkey\u001b[0m\u001b[0;34m)\u001b[0m\u001b[0;34m\u001b[0m\u001b[0;34m\u001b[0m\u001b[0m\n\u001b[0m\u001b[1;32m   1845\u001b[0m \u001b[0;34m\u001b[0m\u001b[0m\n\u001b[1;32m   1846\u001b[0m         \u001b[0;31m# Check for duplicates\u001b[0m\u001b[0;34m\u001b[0m\u001b[0;34m\u001b[0m\u001b[0m\n\u001b[1;32m   1847\u001b[0m         \u001b[0;32mif\u001b[0m \u001b[0mvalues\u001b[0m\u001b[0;34m.\u001b[0m\u001b[0mndim\u001b[0m \u001b[0;34m>\u001b[0m \u001b[0;36m1\u001b[0m\u001b[0;34m:\u001b[0m\u001b[0;34m\u001b[0m\u001b[0;34m\u001b[0m\u001b[0m\n",
      "\u001b[0;31mKeyError\u001b[0m: 'track_id'"
     ]
    }
   ],
   "source": [
    "import pandas as pd\n",
    "import spotipy\n",
    "from spotipy.oauth2 import SpotifyClientCredentials\n",
    "import time\n",
    "import re\n",
    "\n",
    "# Set your Spotify API credentials\n",
    "client_id = 'da07024f200a4ea99701afb3cf8e4054'\n",
    "client_secret = '50d840c956114871af57aa7cd9341c2f'\n",
    "\n",
    "# Initialize Spotify client\n",
    "client_credentials_manager = SpotifyClientCredentials(client_id=client_id, client_secret=client_secret)\n",
    "sp = spotipy.Spotify(client_credentials_manager=client_credentials_manager)\n",
    "\n",
    "# Function to extract Spotify track ID from the URL or URI\n",
    "def extract_track_id(spotify_url):\n",
    "    if pd.isna(spotify_url):\n",
    "        return None\n",
    "    match = re.search(r'spotify:track:([a-zA-Z0-9]+)', spotify_url)\n",
    "    if match:\n",
    "        return match.group(1)\n",
    "    return None\n",
    "\n",
    "# Function to get audio features for a track\n",
    "def get_audio_features(track_id):\n",
    "    try:\n",
    "        if track_id is None:\n",
    "            return None\n",
    "        \n",
    "        features = sp.audio_features(track_id)[0]\n",
    "        if features is None:\n",
    "            return None\n",
    "            \n",
    "        return {\n",
    "            'danceability': features['danceability'],\n",
    "            'energy': features['energy'],\n",
    "            'key': features['key'],\n",
    "            'loudness': features['loudness'],\n",
    "            'mode': features['mode'],\n",
    "            'speechiness': features['speechiness'],\n",
    "            'acousticness': features['acousticness'],\n",
    "            'instrumentalness': features['instrumentalness'],\n",
    "            'liveness': features['liveness'],\n",
    "            'valence': features['valence'],\n",
    "            'tempo': features['tempo'],  # This is beats per minute (BPM)\n",
    "            'duration_ms': features['duration_ms']\n",
    "        }\n",
    "    except Exception as e:\n",
    "        print(f\"Error fetching features for track {track_id}: {e}\")\n",
    "        return None\n",
    "\n",
    "# Load your CSV file\n",
    "# Based on your example, I'll try to determine the structure, but you may need to adjust this\n",
    "df = pd.read_csv('/Users/rajatsharma/Documents/introspectAI/introspect.ai/combining-apple-spotify/final-dataset-apple-spotify/spotifyHeartRate.csv')\n",
    "\n",
    "# Handle the unusual format of your data\n",
    "# You might need to adjust this based on the actual structure of your CSV\n",
    "if len(df.columns) == 1:\n",
    "    # If all data is in a single column, we need to parse it\n",
    "    # The column might have a complex name that includes all the headers\n",
    "    column_name = df.columns[0]\n",
    "    \n",
    "    # Extract the URL part from each row\n",
    "    df['url'] = df[column_name].str.extract(r'(spotify:track:[a-zA-Z0-9]+)')\n",
    "\n",
    "# Extract track IDs\n",
    "df['track_id'] = df['url'].apply(extract_track_id)\n",
    "\n",
    "# Get audio features for each track\n",
    "features_list = []\n",
    "batch_size = 50  # Process in batches to avoid rate limiting\n",
    "\n",
    "for i in range(0, len(df), batch_size):\n",
    "    batch = df.iloc[i:i+batch_size]\n",
    "    print(f\"Processing batch {i//batch_size + 1} of {(len(df) + batch_size - 1)//batch_size}\")\n",
    "    \n",
    "    for idx, row in batch.iterrows():\n",
    "        track_id = row['track_id']\n",
    "        features = get_audio_features(track_id)\n",
    "        if features:\n",
    "            features['track_id'] = track_id\n",
    "            features['original_index'] = idx\n",
    "            features_list.append(features)\n",
    "    \n",
    "    # Sleep to avoid hitting rate limits\n",
    "    if i + batch_size < len(df):\n",
    "        time.sleep(1)\n",
    "\n",
    "# Create a dataframe with the audio features\n",
    "features_df = pd.DataFrame(features_list)\n",
    "\n",
    "# Merge with the original dataframe\n",
    "result_df = pd.merge(df, features_df, on='track_id', how='left')\n",
    "\n",
    "# Save the results\n",
    "result_df.to_csv('spotify_tracks_with_features.csv', index=False)\n",
    "\n",
    "print(f\"Analysis complete. Processed {len(features_list)} tracks successfully.\")"
   ]
  },
  {
   "cell_type": "code",
   "execution_count": 4,
   "metadata": {},
   "outputs": [
    {
     "data": {
      "text/html": [
       "<div>\n",
       "<style scoped>\n",
       "    .dataframe tbody tr th:only-of-type {\n",
       "        vertical-align: middle;\n",
       "    }\n",
       "\n",
       "    .dataframe tbody tr th {\n",
       "        vertical-align: top;\n",
       "    }\n",
       "\n",
       "    .dataframe thead th {\n",
       "        text-align: right;\n",
       "    }\n",
       "</style>\n",
       "<table border=\"1\" class=\"dataframe\">\n",
       "  <thead>\n",
       "    <tr style=\"text-align: right;\">\n",
       "      <th></th>\n",
       "      <th>startDate</th>\n",
       "      <th>ms_played</th>\n",
       "      <th>track_name</th>\n",
       "      <th>artist_name</th>\n",
       "      <th>album_name</th>\n",
       "      <th>url</th>\n",
       "      <th>type</th>\n",
       "      <th>sourceName</th>\n",
       "      <th>value</th>\n",
       "      <th>unit</th>\n",
       "      <th>endDate</th>\n",
       "    </tr>\n",
       "  </thead>\n",
       "  <tbody>\n",
       "    <tr>\n",
       "      <th>0</th>\n",
       "      <td>2023-11-09 18:30:00</td>\n",
       "      <td>0</td>\n",
       "      <td>Kya Mujhe Pyar Hai</td>\n",
       "      <td>KK</td>\n",
       "      <td>Woh Lamhe</td>\n",
       "      <td>spotify:track:3HFjh7QljnUCBLsoTwMuTj</td>\n",
       "      <td>HeartRate</td>\n",
       "      <td>Casio G-Shock</td>\n",
       "      <td>66.0</td>\n",
       "      <td>count/min</td>\n",
       "      <td>11/9/23 18:36</td>\n",
       "    </tr>\n",
       "    <tr>\n",
       "      <th>1</th>\n",
       "      <td>2023-11-09 18:40:00</td>\n",
       "      <td>115970</td>\n",
       "      <td>Tum Hi Ho</td>\n",
       "      <td>Mithoon</td>\n",
       "      <td>Aashiqui 2</td>\n",
       "      <td>spotify:track:56zZ48jdyY2oDXHVnwg5Di</td>\n",
       "      <td>HeartRate</td>\n",
       "      <td>Casio G-Shock</td>\n",
       "      <td>67.0</td>\n",
       "      <td>count/min</td>\n",
       "      <td>11/9/23 18:49</td>\n",
       "    </tr>\n",
       "    <tr>\n",
       "      <th>2</th>\n",
       "      <td>2023-11-09 18:50:00</td>\n",
       "      <td>390222</td>\n",
       "      <td>Sunn Raha Hai (Male Version)</td>\n",
       "      <td>Ankit Tiwari</td>\n",
       "      <td>Aashiqui 2</td>\n",
       "      <td>spotify:track:5PvwPy5eRO8BPwpRzCHK3D</td>\n",
       "      <td>HeartRate</td>\n",
       "      <td>Casio G-Shock</td>\n",
       "      <td>61.0</td>\n",
       "      <td>count/min</td>\n",
       "      <td>11/9/23 18:55</td>\n",
       "    </tr>\n",
       "    <tr>\n",
       "      <th>3</th>\n",
       "      <td>2023-11-09 19:00:00</td>\n",
       "      <td>143149</td>\n",
       "      <td>Bhula Dena</td>\n",
       "      <td>Mustafa Zahid</td>\n",
       "      <td>Aashiqui 2</td>\n",
       "      <td>spotify:track:0WNCYgCd33LnBnw22WFuq8</td>\n",
       "      <td>HeartRate</td>\n",
       "      <td>Casio G-Shock</td>\n",
       "      <td>62.0</td>\n",
       "      <td>count/min</td>\n",
       "      <td>11/9/23 19:07</td>\n",
       "    </tr>\n",
       "    <tr>\n",
       "      <th>4</th>\n",
       "      <td>2023-11-09 19:10:00</td>\n",
       "      <td>1190</td>\n",
       "      <td>Tum Hi Ho (Remix)</td>\n",
       "      <td>Mithoon</td>\n",
       "      <td>Aashiqui 2</td>\n",
       "      <td>spotify:track:0d7cAnv2jF9H0pqNhovl7f</td>\n",
       "      <td>HeartRate</td>\n",
       "      <td>Casio G-Shock</td>\n",
       "      <td>65.0</td>\n",
       "      <td>count/min</td>\n",
       "      <td>11/9/23 19:16</td>\n",
       "    </tr>\n",
       "  </tbody>\n",
       "</table>\n",
       "</div>"
      ],
      "text/plain": [
       "             startDate  ms_played                    track_name  \\\n",
       "0  2023-11-09 18:30:00          0            Kya Mujhe Pyar Hai   \n",
       "1  2023-11-09 18:40:00     115970                     Tum Hi Ho   \n",
       "2  2023-11-09 18:50:00     390222  Sunn Raha Hai (Male Version)   \n",
       "3  2023-11-09 19:00:00     143149                    Bhula Dena   \n",
       "4  2023-11-09 19:10:00       1190             Tum Hi Ho (Remix)   \n",
       "\n",
       "     artist_name  album_name                                   url       type  \\\n",
       "0             KK   Woh Lamhe  spotify:track:3HFjh7QljnUCBLsoTwMuTj  HeartRate   \n",
       "1        Mithoon  Aashiqui 2  spotify:track:56zZ48jdyY2oDXHVnwg5Di  HeartRate   \n",
       "2   Ankit Tiwari  Aashiqui 2  spotify:track:5PvwPy5eRO8BPwpRzCHK3D  HeartRate   \n",
       "3  Mustafa Zahid  Aashiqui 2  spotify:track:0WNCYgCd33LnBnw22WFuq8  HeartRate   \n",
       "4        Mithoon  Aashiqui 2  spotify:track:0d7cAnv2jF9H0pqNhovl7f  HeartRate   \n",
       "\n",
       "      sourceName  value       unit        endDate  \n",
       "0  Casio G-Shock   66.0  count/min  11/9/23 18:36  \n",
       "1  Casio G-Shock   67.0  count/min  11/9/23 18:49  \n",
       "2  Casio G-Shock   61.0  count/min  11/9/23 18:55  \n",
       "3  Casio G-Shock   62.0  count/min  11/9/23 19:07  \n",
       "4  Casio G-Shock   65.0  count/min  11/9/23 19:16  "
      ]
     },
     "execution_count": 4,
     "metadata": {},
     "output_type": "execute_result"
    }
   ],
   "source": [
    "df.head()"
   ]
  },
  {
   "cell_type": "code",
   "execution_count": null,
   "metadata": {},
   "outputs": [],
   "source": []
  }
 ],
 "metadata": {
  "kernelspec": {
   "display_name": "captionKraftNov25",
   "language": "python",
   "name": "python3"
  },
  "language_info": {
   "codemirror_mode": {
    "name": "ipython",
    "version": 3
   },
   "file_extension": ".py",
   "mimetype": "text/x-python",
   "name": "python",
   "nbconvert_exporter": "python",
   "pygments_lexer": "ipython3",
   "version": "3.9.7"
  },
  "orig_nbformat": 4
 },
 "nbformat": 4,
 "nbformat_minor": 2
}
