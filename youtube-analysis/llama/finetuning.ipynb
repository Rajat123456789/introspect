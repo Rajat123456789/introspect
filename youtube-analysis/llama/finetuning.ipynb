{
 "cells": [
  {
   "cell_type": "code",
   "execution_count": null,
   "metadata": {},
   "outputs": [],
   "source": [
    "import json\n",
    "import pandas as pd\n",
    "from datasets import Dataset\n",
    "\n",
    "def preprocess_data(train_file, valid_file):\n",
    "    \"\"\"\n",
    "    Preprocess the training and validation files for LLaMA fine-tuning.\n",
    "    \"\"\"\n",
    "    def parse_file(file_content):\n",
    "        # Extract instruction-input-output pairs\n",
    "        examples = []\n",
    "        for line in file_content.split('\\n'):\n",
    "            if line.strip():\n",
    "                try:\n",
    "                    data = json.loads(line)\n",
    "                    if all(k in data for k in ['instruction', 'input', 'output']):\n",
    "                        # Format the prompt\n",
    "                        prompt = f\"### Instruction: {data['instruction']}\\n\\n### Input: {data['input']}\\n\\n### Response:\"\n",
    "                        \n",
    "                        # Format the completion/response\n",
    "                        completion = data['output']\n",
    "                        \n",
    "                        examples.append({\n",
    "                            'text': f\"{prompt}\\n{completion}\",\n",
    "                            'prompt': prompt,\n",
    "                            'completion': completion\n",
    "                        })\n",
    "                except:\n",
    "                    continue\n",
    "        return examples\n",
    "\n",
    "    # Create datasets\n",
    "    train_examples = parse_file(train_file)\n",
    "    valid_examples = parse_file(valid_file)\n",
    "    \n",
    "    # Convert to Datasets format\n",
    "    train_dataset = Dataset.from_pandas(pd.DataFrame(train_examples))\n",
    "    valid_dataset = Dataset.from_pandas(pd.DataFrame(valid_examples))\n",
    "    \n",
    "    return train_dataset, valid_dataset\n",
    "\n",
    "def format_for_llama(example):\n",
    "    \"\"\"\n",
    "    Format a single example for LLaMA training.\n",
    "    \"\"\"\n",
    "    return {\n",
    "        'text': example['text'],\n",
    "        'prompt': example['prompt'],\n",
    "        'completion': example['completion']\n",
    "    }"
   ]
  }
 ],
 "metadata": {
  "kernelspec": {
   "display_name": "ADM",
   "language": "python",
   "name": "python3"
  },
  "language_info": {
   "codemirror_mode": {
    "name": "ipython",
    "version": 3
   },
   "file_extension": ".py",
   "mimetype": "text/x-python",
   "name": "python",
   "nbconvert_exporter": "python",
   "pygments_lexer": "ipython3",
   "version": "3.9.20"
  },
  "orig_nbformat": 4
 },
 "nbformat": 4,
 "nbformat_minor": 2
}
