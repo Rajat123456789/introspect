{
 "cells": [
  {
   "cell_type": "code",
   "execution_count": 1,
   "metadata": {},
   "outputs": [],
   "source": [
    "import pandas as pd\n",
    "import numpy as np\n",
    "import matplotlib.pyplot as plt\n",
    "\n"
   ]
  },
  {
   "cell_type": "code",
   "execution_count": 2,
   "metadata": {},
   "outputs": [],
   "source": [
    "df = pd.read_csv(\"2-14-youtube-history-csv.csv\")\n"
   ]
  },
  {
   "cell_type": "code",
   "execution_count": 3,
   "metadata": {},
   "outputs": [
    {
     "name": "stdout",
     "output_type": "stream",
     "text": [
      "Index(['Title', 'Category', 'Watched At'], dtype='object')\n"
     ]
    }
   ],
   "source": [
    "# view columns\n",
    "print(df.columns)"
   ]
  },
  {
   "cell_type": "code",
   "execution_count": 4,
<<<<<<< HEAD:combining-health-and-music/Scripts/merge-yt-health-notebook/yt-csv-modify.ipynb
   "metadata": {},
   "outputs": [
    {
     "data": {
      "text/plain": [
       "(3073, 3)"
      ]
     },
     "execution_count": 4,
     "metadata": {},
     "output_type": "execute_result"
    }
   ],
   "source": [
    "df.shape"
   ]
  },
  {
   "cell_type": "code",
   "execution_count": 7,
=======
>>>>>>> a48001057ccdd3f51347bff7aa8a3dbdc3246db2:combining-health-and-music/yt-csv-modify.ipynb
   "metadata": {},
   "outputs": [
    {
     "name": "stdout",
     "output_type": "stream",
     "text": [
      "Index(['Title', 'Category', 'timestamp'], dtype='object')\n"
     ]
    }
   ],
   "source": [
    "#modify the column watched at to timestamp\n",
    "df.rename(columns={'Watched At':'timestamp'}, inplace=True)\n",
    "print(df.columns)"
   ]
  },
  {
   "cell_type": "code",
   "execution_count": 5,
   "metadata": {},
   "outputs": [
    {
     "data": {
      "text/html": [
       "<div>\n",
       "<style scoped>\n",
       "    .dataframe tbody tr th:only-of-type {\n",
       "        vertical-align: middle;\n",
       "    }\n",
       "\n",
       "    .dataframe tbody tr th {\n",
       "        vertical-align: top;\n",
       "    }\n",
       "\n",
       "    .dataframe thead th {\n",
       "        text-align: right;\n",
       "    }\n",
       "</style>\n",
       "<table border=\"1\" class=\"dataframe\">\n",
       "  <thead>\n",
       "    <tr style=\"text-align: right;\">\n",
       "      <th></th>\n",
       "      <th>Title</th>\n",
       "      <th>Category</th>\n",
       "      <th>timestamp</th>\n",
       "    </tr>\n",
       "  </thead>\n",
       "  <tbody>\n",
       "    <tr>\n",
       "      <th>0</th>\n",
       "      <td>that’s gotta be….</td>\n",
       "      <td>Comedy</td>\n",
       "      <td>Feb 13, 2025, 12:49:27 AM PST</td>\n",
       "    </tr>\n",
       "    <tr>\n",
       "      <th>1</th>\n",
       "      <td>Billie Eilish DESTROYS Haters 😳🤬</td>\n",
       "      <td>Music</td>\n",
       "      <td>Feb 13, 2025, 12:48:52 AM PST</td>\n",
       "    </tr>\n",
       "    <tr>\n",
       "      <th>2</th>\n",
       "      <td>The SIMPLEST Side-Jump guide in Fortnite...</td>\n",
       "      <td>Gaming</td>\n",
       "      <td>Feb 13, 2025, 12:47:43 AM PST</td>\n",
       "    </tr>\n",
       "    <tr>\n",
       "      <th>3</th>\n",
       "      <td>How to Build in Fortnite - and actually USE th...</td>\n",
       "      <td>Gaming</td>\n",
       "      <td>Feb 13, 2025, 12:39:36 AM PST</td>\n",
       "    </tr>\n",
       "    <tr>\n",
       "      <th>4</th>\n",
       "      <td>anybody can find love (except you.)</td>\n",
       "      <td>Music</td>\n",
       "      <td>Feb 12, 2025, 8:43:27 PM PST</td>\n",
       "    </tr>\n",
       "  </tbody>\n",
       "</table>\n",
       "</div>"
      ],
      "text/plain": [
       "                                               Title Category  \\\n",
       "0                                  that’s gotta be….   Comedy   \n",
       "1                   Billie Eilish DESTROYS Haters 😳🤬    Music   \n",
       "2        The SIMPLEST Side-Jump guide in Fortnite...   Gaming   \n",
       "3  How to Build in Fortnite - and actually USE th...   Gaming   \n",
       "4                anybody can find love (except you.)    Music   \n",
       "\n",
       "                       timestamp  \n",
       "0  Feb 13, 2025, 12:49:27 AM PST  \n",
       "1  Feb 13, 2025, 12:48:52 AM PST  \n",
       "2  Feb 13, 2025, 12:47:43 AM PST  \n",
       "3  Feb 13, 2025, 12:39:36 AM PST  \n",
       "4   Feb 12, 2025, 8:43:27 PM PST  "
      ]
     },
     "execution_count": 5,
     "metadata": {},
     "output_type": "execute_result"
    }
   ],
   "source": [
    "df.head()"
   ]
  },
  {
   "cell_type": "code",
   "execution_count": 6,
   "metadata": {},
   "outputs": [
    {
     "name": "stdout",
     "output_type": "stream",
     "text": [
      "                                               Title           Watched At\n",
      "0                                  that’s gotta be….  2025-02-13 00:49:27\n",
      "1                   Billie Eilish DESTROYS Haters 😳🤬  2025-02-13 00:48:52\n",
      "2        The SIMPLEST Side-Jump guide in Fortnite...  2025-02-13 00:47:43\n",
      "3  How to Build in Fortnite - and actually USE th...  2025-02-13 00:39:36\n",
      "4                anybody can find love (except you.)  2025-02-12 20:43:27\n"
     ]
    }
   ],
   "source": [
    "import pandas as pd\n",
    "\n",
    "# Read the CSV file\n",
    "df = pd.read_csv('2-14-youtube-history-csv.csv')\n",
    "\n",
    "# Preprocess and convert the timestamp\n",
    "df['Watched At'] = (\n",
    "    df['Watched At']\n",
    "    .str.replace(' ', ' ', regex=False)  # Replace non-breaking space\n",
    "    .str.split(' PST').str[0]            # Remove timezone abbreviation\n",
    "    .apply(pd.to_datetime, format='%b %d, %Y, %I:%M:%S %p')  # Parse datetime\n",
    "    .dt.strftime('%Y-%m-%d %H:%M:%S')    # Format to desired string\n",
    ")\n",
    "\n",
    "# Result\n",
    "print(df[['Title', 'Watched At']].head())"
   ]
  },
  {
   "cell_type": "code",
   "execution_count": 7,
   "metadata": {},
   "outputs": [
    {
     "data": {
      "text/html": [
       "<div>\n",
       "<style scoped>\n",
       "    .dataframe tbody tr th:only-of-type {\n",
       "        vertical-align: middle;\n",
       "    }\n",
       "\n",
       "    .dataframe tbody tr th {\n",
       "        vertical-align: top;\n",
       "    }\n",
       "\n",
       "    .dataframe thead th {\n",
       "        text-align: right;\n",
       "    }\n",
       "</style>\n",
       "<table border=\"1\" class=\"dataframe\">\n",
       "  <thead>\n",
       "    <tr style=\"text-align: right;\">\n",
       "      <th></th>\n",
       "      <th>Title</th>\n",
       "      <th>Category</th>\n",
       "      <th>Watched At</th>\n",
       "    </tr>\n",
       "  </thead>\n",
       "  <tbody>\n",
       "    <tr>\n",
       "      <th>0</th>\n",
       "      <td>that’s gotta be….</td>\n",
       "      <td>Comedy</td>\n",
       "      <td>2025-02-13 00:49:27</td>\n",
       "    </tr>\n",
       "    <tr>\n",
       "      <th>1</th>\n",
       "      <td>Billie Eilish DESTROYS Haters 😳🤬</td>\n",
       "      <td>Music</td>\n",
       "      <td>2025-02-13 00:48:52</td>\n",
       "    </tr>\n",
       "    <tr>\n",
       "      <th>2</th>\n",
       "      <td>The SIMPLEST Side-Jump guide in Fortnite...</td>\n",
       "      <td>Gaming</td>\n",
       "      <td>2025-02-13 00:47:43</td>\n",
       "    </tr>\n",
       "    <tr>\n",
       "      <th>3</th>\n",
       "      <td>How to Build in Fortnite - and actually USE th...</td>\n",
       "      <td>Gaming</td>\n",
       "      <td>2025-02-13 00:39:36</td>\n",
       "    </tr>\n",
       "    <tr>\n",
       "      <th>4</th>\n",
       "      <td>anybody can find love (except you.)</td>\n",
       "      <td>Music</td>\n",
       "      <td>2025-02-12 20:43:27</td>\n",
       "    </tr>\n",
       "  </tbody>\n",
       "</table>\n",
       "</div>"
      ],
      "text/plain": [
       "                                               Title Category  \\\n",
       "0                                  that’s gotta be….   Comedy   \n",
       "1                   Billie Eilish DESTROYS Haters 😳🤬    Music   \n",
       "2        The SIMPLEST Side-Jump guide in Fortnite...   Gaming   \n",
       "3  How to Build in Fortnite - and actually USE th...   Gaming   \n",
       "4                anybody can find love (except you.)    Music   \n",
       "\n",
       "            Watched At  \n",
       "0  2025-02-13 00:49:27  \n",
       "1  2025-02-13 00:48:52  \n",
       "2  2025-02-13 00:47:43  \n",
       "3  2025-02-13 00:39:36  \n",
       "4  2025-02-12 20:43:27  "
      ]
     },
     "execution_count": 7,
     "metadata": {},
     "output_type": "execute_result"
    }
   ],
   "source": [
    "df.head()"
   ]
  },
  {
   "cell_type": "code",
   "execution_count": 8,
   "metadata": {},
   "outputs": [
    {
     "name": "stdout",
     "output_type": "stream",
     "text": [
      "                                               Title          Watched At\n",
      "0  Tum Se (Full Video): Shahid Kapoor, Kriti | Sa... 2025-01-22 14:49:40\n",
      "1                                           Bin Tere 2025-01-22 14:55:53\n",
      "2          Channa Mereya (From \"Ae Dil Hai Mushkil\") 2025-01-22 15:08:59\n",
      "3                                    Suniyan Suniyan 2025-01-22 15:17:18\n",
      "4  What Jhumka ? (From \"Rocky Aur Rani Kii Prem K... 2025-01-22 15:27:04\n"
     ]
    }
   ],
   "source": [
    "import pandas as pd\n",
    "\n",
    "# Load and preprocess the data (ensure datetime format)\n",
    "df = pd.read_csv('2-14-youtube-history-csv.csv')\n",
    "df['Watched At'] = (\n",
    "    df['Watched At']\n",
    "    .str.replace(' ', ' ', regex=False)\n",
    "    .str.split(' PST').str[0]\n",
    "    .apply(pd.to_datetime, format='%b %d, %Y, %I:%M:%S %p')\n",
    ")\n",
    "\n",
    "# Create 10-minute intervals starting at 00:00:00 daily\n",
    "df['interval'] = df['Watched At'].dt.floor('10min')\n",
    "\n",
    "# Get the latest video in each interval\n",
    "result = (\n",
    "    df\n",
    "    .sort_values('Watched At')  # Sort to ensure idxmax picks the latest\n",
    "    .groupby('interval', as_index=False)\n",
    "    .apply(lambda x: x.loc[x['Watched At'].idxmax()])\n",
    "    .reset_index(drop=True)\n",
    "    .drop(columns=['interval'])  # Optional: Remove helper column\n",
    ")\n",
    "\n",
    "# Output\n",
    "print(result[['Title', 'Watched At']].head())"
   ]
  },
  {
   "cell_type": "code",
   "execution_count": 9,
   "metadata": {},
   "outputs": [],
   "source": [
    "#save the result to a csv file\n",
    "\n",
    "result.to_csv('2-14youtube-gaurav-10min.csv', index=False)\n"
   ]
  },
  {
   "cell_type": "code",
   "execution_count": 11,
   "metadata": {},
   "outputs": [
    {
     "data": {
      "text/html": [
       "<div>\n",
       "<style scoped>\n",
       "    .dataframe tbody tr th:only-of-type {\n",
       "        vertical-align: middle;\n",
       "    }\n",
       "\n",
       "    .dataframe tbody tr th {\n",
       "        vertical-align: top;\n",
       "    }\n",
       "\n",
       "    .dataframe thead th {\n",
       "        text-align: right;\n",
       "    }\n",
       "</style>\n",
       "<table border=\"1\" class=\"dataframe\">\n",
       "  <thead>\n",
       "    <tr style=\"text-align: right;\">\n",
       "      <th></th>\n",
       "      <th>Title</th>\n",
       "      <th>Category</th>\n",
       "      <th>Watched At</th>\n",
       "    </tr>\n",
       "  </thead>\n",
       "  <tbody>\n",
       "    <tr>\n",
       "      <th>0</th>\n",
       "      <td>Tum Se (Full Video): Shahid Kapoor, Kriti | Sa...</td>\n",
       "      <td>Unknown</td>\n",
       "      <td>2025-01-22 14:49:40</td>\n",
       "    </tr>\n",
       "    <tr>\n",
       "      <th>1</th>\n",
       "      <td>Bin Tere</td>\n",
       "      <td>Unknown</td>\n",
       "      <td>2025-01-22 14:55:53</td>\n",
       "    </tr>\n",
       "    <tr>\n",
       "      <th>2</th>\n",
       "      <td>Channa Mereya (From \"Ae Dil Hai Mushkil\")</td>\n",
       "      <td>Unknown</td>\n",
       "      <td>2025-01-22 15:08:59</td>\n",
       "    </tr>\n",
       "    <tr>\n",
       "      <th>3</th>\n",
       "      <td>Suniyan Suniyan</td>\n",
       "      <td>Unknown</td>\n",
       "      <td>2025-01-22 15:17:18</td>\n",
       "    </tr>\n",
       "    <tr>\n",
       "      <th>4</th>\n",
       "      <td>What Jhumka ? (From \"Rocky Aur Rani Kii Prem K...</td>\n",
       "      <td>Unknown</td>\n",
       "      <td>2025-01-22 15:27:04</td>\n",
       "    </tr>\n",
       "  </tbody>\n",
       "</table>\n",
       "</div>"
      ],
      "text/plain": [
       "                                               Title Category  \\\n",
       "0  Tum Se (Full Video): Shahid Kapoor, Kriti | Sa...  Unknown   \n",
       "1                                           Bin Tere  Unknown   \n",
       "2          Channa Mereya (From \"Ae Dil Hai Mushkil\")  Unknown   \n",
       "3                                    Suniyan Suniyan  Unknown   \n",
       "4  What Jhumka ? (From \"Rocky Aur Rani Kii Prem K...  Unknown   \n",
       "\n",
       "            Watched At  \n",
       "0  2025-01-22 14:49:40  \n",
       "1  2025-01-22 14:55:53  \n",
       "2  2025-01-22 15:08:59  \n",
       "3  2025-01-22 15:17:18  \n",
       "4  2025-01-22 15:27:04  "
      ]
     },
     "execution_count": 11,
     "metadata": {},
     "output_type": "execute_result"
    }
   ],
   "source": [
    "yt = pd.read_csv('2-14youtube-gaurav-10min.csv')\n",
    "yt.head()"
   ]
  },
  {
   "cell_type": "code",
   "execution_count": 14,
   "metadata": {},
   "outputs": [
    {
     "name": "stdout",
     "output_type": "stream",
     "text": [
      "                                                  Title Category  \\\n",
      "3267  Tum Se (Full Video): Shahid Kapoor, Kriti | Sa...  Unknown   \n",
      "3265                                           Bin Tere  Unknown   \n",
      "3263          Channa Mereya (From \"Ae Dil Hai Mushkil\")  Unknown   \n",
      "3262                                    Suniyan Suniyan  Unknown   \n",
      "3258  What Jhumka ? (From \"Rocky Aur Rani Kii Prem K...  Unknown   \n",
      "...                                                 ...      ...   \n",
      "9                                      Apa Fer Milaange    Music   \n",
      "6                              Fortnite OG Hide & Seek!   Gaming   \n",
      "4                   anybody can find love (except you.)    Music   \n",
      "3     How to Build in Fortnite - and actually USE th...   Gaming   \n",
      "0                                     that’s gotta be….   Comedy   \n",
      "\n",
      "              Watched At  \n",
      "3267 2025-01-22 14:40:00  \n",
      "3265 2025-01-22 14:50:00  \n",
      "3263 2025-01-22 15:00:00  \n",
      "3262 2025-01-22 15:10:00  \n",
      "3258 2025-01-22 15:20:00  \n",
      "...                  ...  \n",
      "9    2025-02-12 13:00:00  \n",
      "6    2025-02-12 20:30:00  \n",
      "4    2025-02-12 20:40:00  \n",
      "3    2025-02-13 00:30:00  \n",
      "0    2025-02-13 00:40:00  \n",
      "\n",
      "[659 rows x 3 columns]\n"
     ]
    }
   ],
   "source": [
    "import pandas as pd\n",
    "\n",
    "# Load and preprocess data\n",
    "df = pd.read_csv('2-14-youtube-history-csv.csv')\n",
    "df['Watched At'] = (\n",
    "    df['Watched At']\n",
    "    .str.replace(' ', ' ', regex=False)\n",
    "    .str.split(' PST').str[0]\n",
    "    .apply(pd.to_datetime, format='%b %d, %Y, %I:%M:%S %p')\n",
    ")\n",
    "\n",
    "# Step 1: Create 10-minute interval start times (e.g., 02:13:11 → 02:10:00)\n",
    "df['interval_start'] = df['Watched At'].dt.floor('10min')\n",
    "\n",
    "# Step 2: Find the latest video in each interval\n",
    "latest_idx = df.groupby('interval_start')['Watched At'].idxmax()\n",
    "result = df.loc[latest_idx]\n",
    "\n",
    "# Step 3: Replace original timestamps with interval start times\n",
    "result['Watched At'] = result['interval_start']\n",
    "result = result.drop(columns=['interval_start'])\n",
    "\n",
    "# Sort by interval for clarity\n",
    "result = result.sort_values('Watched At')\n",
    "\n",
    "# Output\n",
    "print(result[['Title', 'Category', 'Watched At']])\n",
    "\n",
    "# Save the result to a CSV file\n",
    "result.to_csv('updated-youtube-gaurav-10min-interval.csv', index=False)"
   ]
  },
  {
   "cell_type": "code",
   "execution_count": 19,
   "metadata": {},
   "outputs": [
    {
     "name": "stderr",
     "output_type": "stream",
     "text": [
      "/var/folders/xx/v9z2_m390ygcrxz3lmcv2mx80000gn/T/ipykernel_60336/4012844692.py:1: DtypeWarning: Columns (4,5,6,7,8,9,10,11,12,13,14,15,16,17,18,19,20,21,22,23,24,25,26,27,28,29,30,31,32,33) have mixed types. Specify dtype option on import or set low_memory=False.\n",
      "  health = pd.read_csv('health_data_10min_intervals.csv')\n"
     ]
    }
   ],
   "source": [
    "health = pd.read_csv('health_data_10min_intervals.csv')\n"
   ]
  },
  {
   "cell_type": "code",
   "execution_count": 15,
   "metadata": {},
   "outputs": [
    {
     "name": "stdout",
     "output_type": "stream",
     "text": [
      "                                                  Title Category  \\\n",
      "3267  Tum Se (Full Video): Shahid Kapoor, Kriti | Sa...  Unknown   \n",
      "3265                                           Bin Tere  Unknown   \n",
      "3263          Channa Mereya (From \"Ae Dil Hai Mushkil\")  Unknown   \n",
      "3262                                    Suniyan Suniyan  Unknown   \n",
      "3258  What Jhumka ? (From \"Rocky Aur Rani Kii Prem K...  Unknown   \n",
      "...                                                 ...      ...   \n",
      "9                                      Apa Fer Milaange    Music   \n",
      "6                              Fortnite OG Hide & Seek!   Gaming   \n",
      "4                   anybody can find love (except you.)    Music   \n",
      "3     How to Build in Fortnite - and actually USE th...   Gaming   \n",
      "0                                     that’s gotta be….   Comedy   \n",
      "\n",
      "              Watched At  \n",
      "3267 2025-01-22 14:40:00  \n",
      "3265 2025-01-22 14:50:00  \n",
      "3263 2025-01-22 15:00:00  \n",
      "3262 2025-01-22 15:10:00  \n",
      "3258 2025-01-22 15:20:00  \n",
      "...                  ...  \n",
      "9    2025-02-12 13:00:00  \n",
      "6    2025-02-12 20:30:00  \n",
      "4    2025-02-12 20:40:00  \n",
      "3    2025-02-13 00:30:00  \n",
      "0    2025-02-13 00:40:00  \n",
      "\n",
      "[659 rows x 3 columns]\n"
     ]
    }
   ],
   "source": [
    "import pandas as pd\n",
    "\n",
    "# Load and preprocess data\n",
    "df = pd.read_csv('2-14-youtube-history-csv.csv')\n",
    "df['Watched At'] = (\n",
    "    df['Watched At']\n",
    "    .str.replace(' ', ' ', regex=False)\n",
    "    .str.split(' PST').str[0]\n",
    "    .apply(pd.to_datetime, format='%b %d, %Y, %I:%M:%S %p')\n",
    ")\n",
    "\n",
    "# Step 1: Create 10-minute interval start times (e.g., 02:13:11 → 02:10:00)\n",
    "df['interval_start'] = df['Watched At'].dt.floor('10min')\n",
    "\n",
    "# Step 2: Find the latest video in each interval\n",
    "latest_idx = df.groupby('interval_start')['Watched At'].idxmax()\n",
    "result = df.loc[latest_idx]\n",
    "\n",
    "# Step 3: Replace original timestamps with interval start times\n",
    "result['Watched At'] = result['interval_start']\n",
    "result = result.drop(columns=['interval_start'])\n",
    "\n",
    "# Sort by interval for clarity\n",
    "result = result.sort_values('Watched At')\n",
    "\n",
    "# Output with Category included\n",
    "print(result[['Title', 'Category', 'Watched At']])\n",
    "\n",
    "# Save the result to a CSV file\n",
    "result.to_csv('youtube-gaurav-10min-interval.csv', index=False)"
   ]
  },
  {
   "cell_type": "code",
   "execution_count": null,
   "metadata": {},
   "outputs": [],
   "source": []
  }
 ],
 "metadata": {
  "kernelspec": {
   "display_name": "Python 3",
   "language": "python",
   "name": "python3"
  },
  "language_info": {
   "codemirror_mode": {
    "name": "ipython",
    "version": 3
   },
   "file_extension": ".py",
   "mimetype": "text/x-python",
   "name": "python",
   "nbconvert_exporter": "python",
   "pygments_lexer": "ipython3",
   "version": "3.12.7"
  },
  "orig_nbformat": 4
 },
 "nbformat": 4,
 "nbformat_minor": 2
}
