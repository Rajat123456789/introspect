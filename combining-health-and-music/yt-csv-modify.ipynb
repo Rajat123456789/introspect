{
 "cells": [
  {
   "cell_type": "code",
   "execution_count": 2,
   "metadata": {},
   "outputs": [],
   "source": [
    "import pandas as pd\n",
    "import numpy as np\n",
    "import matplotlib.pyplot as plt\n",
    "\n"
   ]
  },
  {
   "cell_type": "code",
   "execution_count": 3,
   "metadata": {},
   "outputs": [],
   "source": [
    "df = pd.read_csv(\"youtube-gaurav.csv\")\n"
   ]
  },
  {
   "cell_type": "code",
   "execution_count": 4,
   "metadata": {},
   "outputs": [
    {
     "name": "stdout",
     "output_type": "stream",
     "text": [
      "Index(['Title', 'Category', 'Watched At'], dtype='object')\n"
     ]
    }
   ],
   "source": [
    "# view columns\n",
    "print(df.columns)"
   ]
  },
  {
   "cell_type": "code",
   "execution_count": 7,
   "metadata": {},
   "outputs": [
    {
     "name": "stdout",
     "output_type": "stream",
     "text": [
      "Index(['Title', 'Category', 'timestamp'], dtype='object')\n"
     ]
    }
   ],
   "source": [
    "#modify the column watched at to timestamp\n",
    "df.rename(columns={'Watched At':'timestamp'}, inplace=True)\n",
    "print(df.columns)"
   ]
  },
  {
   "cell_type": "code",
   "execution_count": 10,
   "metadata": {},
   "outputs": [
    {
     "data": {
      "text/html": [
       "<div>\n",
       "<style scoped>\n",
       "    .dataframe tbody tr th:only-of-type {\n",
       "        vertical-align: middle;\n",
       "    }\n",
       "\n",
       "    .dataframe tbody tr th {\n",
       "        vertical-align: top;\n",
       "    }\n",
       "\n",
       "    .dataframe thead th {\n",
       "        text-align: right;\n",
       "    }\n",
       "</style>\n",
       "<table border=\"1\" class=\"dataframe\">\n",
       "  <thead>\n",
       "    <tr style=\"text-align: right;\">\n",
       "      <th></th>\n",
       "      <th>Title</th>\n",
       "      <th>Category</th>\n",
       "      <th>timestamp</th>\n",
       "    </tr>\n",
       "  </thead>\n",
       "  <tbody>\n",
       "    <tr>\n",
       "      <th>0</th>\n",
       "      <td>Interlinked</td>\n",
       "      <td>Music</td>\n",
       "      <td>Nov 11, 2024, 2:13:11 AM PST</td>\n",
       "    </tr>\n",
       "    <tr>\n",
       "      <th>1</th>\n",
       "      <td>KANA-BOON - Silhouette</td>\n",
       "      <td>Music</td>\n",
       "      <td>Nov 11, 2024, 2:08:45 AM PST</td>\n",
       "    </tr>\n",
       "    <tr>\n",
       "      <th>2</th>\n",
       "      <td>Daughter - Medicine (Sound Remedy Remix)</td>\n",
       "      <td>Entertainment</td>\n",
       "      <td>Nov 11, 2024, 2:01:33 AM PST</td>\n",
       "    </tr>\n",
       "    <tr>\n",
       "      <th>3</th>\n",
       "      <td>Get Your Wish</td>\n",
       "      <td>Music</td>\n",
       "      <td>Nov 11, 2024, 1:57:53 AM PST</td>\n",
       "    </tr>\n",
       "    <tr>\n",
       "      <th>4</th>\n",
       "      <td>RANGISARI (Video) | JugJugg Jeeyo | Varun D, K...</td>\n",
       "      <td>Music</td>\n",
       "      <td>Nov 11, 2024, 1:57:51 AM PST</td>\n",
       "    </tr>\n",
       "  </tbody>\n",
       "</table>\n",
       "</div>"
      ],
      "text/plain": [
       "                                               Title       Category  \\\n",
       "0                                        Interlinked          Music   \n",
       "1                             KANA-BOON - Silhouette          Music   \n",
       "2           Daughter - Medicine (Sound Remedy Remix)  Entertainment   \n",
       "3                                      Get Your Wish          Music   \n",
       "4  RANGISARI (Video) | JugJugg Jeeyo | Varun D, K...          Music   \n",
       "\n",
       "                      timestamp  \n",
       "0  Nov 11, 2024, 2:13:11 AM PST  \n",
       "1  Nov 11, 2024, 2:08:45 AM PST  \n",
       "2  Nov 11, 2024, 2:01:33 AM PST  \n",
       "3  Nov 11, 2024, 1:57:53 AM PST  \n",
       "4  Nov 11, 2024, 1:57:51 AM PST  "
      ]
     },
     "execution_count": 10,
     "metadata": {},
     "output_type": "execute_result"
    }
   ],
   "source": [
    "df.head()"
   ]
  },
  {
   "cell_type": "code",
   "execution_count": 21,
   "metadata": {},
   "outputs": [
    {
     "name": "stdout",
     "output_type": "stream",
     "text": [
      "                                               Title           Watched At\n",
      "0                                        Interlinked  2024-11-11 02:13:11\n",
      "1                             KANA-BOON - Silhouette  2024-11-11 02:08:45\n",
      "2           Daughter - Medicine (Sound Remedy Remix)  2024-11-11 02:01:33\n",
      "3                                      Get Your Wish  2024-11-11 01:57:53\n",
      "4  RANGISARI (Video) | JugJugg Jeeyo | Varun D, K...  2024-11-11 01:57:51\n"
     ]
    }
   ],
   "source": [
    "import pandas as pd\n",
    "\n",
    "# Read the CSV file\n",
    "df = pd.read_csv('youtube-gaurav.csv')\n",
    "\n",
    "# Preprocess and convert the timestamp\n",
    "df['Watched At'] = (\n",
    "    df['Watched At']\n",
    "    .str.replace(' ', ' ', regex=False)  # Replace non-breaking space\n",
    "    .str.split(' PST').str[0]            # Remove timezone abbreviation\n",
    "    .apply(pd.to_datetime, format='%b %d, %Y, %I:%M:%S %p')  # Parse datetime\n",
    "    .dt.strftime('%Y-%m-%d %H:%M:%S')    # Format to desired string\n",
    ")\n",
    "\n",
    "# Result\n",
    "print(df[['Title', 'Watched At']].head())"
   ]
  },
  {
   "cell_type": "code",
   "execution_count": 14,
   "metadata": {},
   "outputs": [
    {
     "data": {
      "text/html": [
       "<div>\n",
       "<style scoped>\n",
       "    .dataframe tbody tr th:only-of-type {\n",
       "        vertical-align: middle;\n",
       "    }\n",
       "\n",
       "    .dataframe tbody tr th {\n",
       "        vertical-align: top;\n",
       "    }\n",
       "\n",
       "    .dataframe thead th {\n",
       "        text-align: right;\n",
       "    }\n",
       "</style>\n",
       "<table border=\"1\" class=\"dataframe\">\n",
       "  <thead>\n",
       "    <tr style=\"text-align: right;\">\n",
       "      <th></th>\n",
       "      <th>Title</th>\n",
       "      <th>Category</th>\n",
       "      <th>Watched At</th>\n",
       "    </tr>\n",
       "  </thead>\n",
       "  <tbody>\n",
       "    <tr>\n",
       "      <th>0</th>\n",
       "      <td>Interlinked</td>\n",
       "      <td>Music</td>\n",
       "      <td>2024-11-11 02:13:11</td>\n",
       "    </tr>\n",
       "    <tr>\n",
       "      <th>1</th>\n",
       "      <td>KANA-BOON - Silhouette</td>\n",
       "      <td>Music</td>\n",
       "      <td>2024-11-11 02:08:45</td>\n",
       "    </tr>\n",
       "    <tr>\n",
       "      <th>2</th>\n",
       "      <td>Daughter - Medicine (Sound Remedy Remix)</td>\n",
       "      <td>Entertainment</td>\n",
       "      <td>2024-11-11 02:01:33</td>\n",
       "    </tr>\n",
       "    <tr>\n",
       "      <th>3</th>\n",
       "      <td>Get Your Wish</td>\n",
       "      <td>Music</td>\n",
       "      <td>2024-11-11 01:57:53</td>\n",
       "    </tr>\n",
       "    <tr>\n",
       "      <th>4</th>\n",
       "      <td>RANGISARI (Video) | JugJugg Jeeyo | Varun D, K...</td>\n",
       "      <td>Music</td>\n",
       "      <td>2024-11-11 01:57:51</td>\n",
       "    </tr>\n",
       "  </tbody>\n",
       "</table>\n",
       "</div>"
      ],
      "text/plain": [
       "                                               Title       Category  \\\n",
       "0                                        Interlinked          Music   \n",
       "1                             KANA-BOON - Silhouette          Music   \n",
       "2           Daughter - Medicine (Sound Remedy Remix)  Entertainment   \n",
       "3                                      Get Your Wish          Music   \n",
       "4  RANGISARI (Video) | JugJugg Jeeyo | Varun D, K...          Music   \n",
       "\n",
       "            Watched At  \n",
       "0  2024-11-11 02:13:11  \n",
       "1  2024-11-11 02:08:45  \n",
       "2  2024-11-11 02:01:33  \n",
       "3  2024-11-11 01:57:53  \n",
       "4  2024-11-11 01:57:51  "
      ]
     },
     "execution_count": 14,
     "metadata": {},
     "output_type": "execute_result"
    }
   ],
   "source": [
    "df.head()"
   ]
  },
  {
   "cell_type": "code",
   "execution_count": 15,
   "metadata": {},
   "outputs": [
    {
     "name": "stdout",
     "output_type": "stream",
     "text": [
      "                                               Title          Watched At\n",
      "0                                   Dwarika Na Devde 2024-10-04 06:08:51\n",
      "1  Dudhe Te Bhari Talavadi (feat. Raghvi Pathak, ... 2024-10-04 06:14:08\n",
      "2                                            Roz Roz 2024-10-04 06:28:06\n",
      "3                                             Tum Se 2024-10-04 07:59:46\n",
      "4                          Maniyaro X Saiyar Mori Re 2024-10-04 08:06:00\n"
     ]
    }
   ],
   "source": [
    "import pandas as pd\n",
    "\n",
    "# Load and preprocess the data (ensure datetime format)\n",
    "df = pd.read_csv('youtube-gaurav.csv')\n",
    "df['Watched At'] = (\n",
    "    df['Watched At']\n",
    "    .str.replace(' ', ' ', regex=False)\n",
    "    .str.split(' PST').str[0]\n",
    "    .apply(pd.to_datetime, format='%b %d, %Y, %I:%M:%S %p')\n",
    ")\n",
    "\n",
    "# Create 10-minute intervals starting at 00:00:00 daily\n",
    "df['interval'] = df['Watched At'].dt.floor('10min')\n",
    "\n",
    "# Get the latest video in each interval\n",
    "result = (\n",
    "    df\n",
    "    .sort_values('Watched At')  # Sort to ensure idxmax picks the latest\n",
    "    .groupby('interval', as_index=False)\n",
    "    .apply(lambda x: x.loc[x['Watched At'].idxmax()])\n",
    "    .reset_index(drop=True)\n",
    "    .drop(columns=['interval'])  # Optional: Remove helper column\n",
    ")\n",
    "\n",
    "# Output\n",
    "print(result[['Title', 'Watched At']].head())"
   ]
  },
  {
   "cell_type": "code",
   "execution_count": 16,
   "metadata": {},
   "outputs": [],
   "source": [
    "#save the result to a csv file\n",
    "\n",
    "result.to_csv('youtube-gaurav-10min.csv', index=False)\n"
   ]
  },
  {
   "cell_type": "code",
   "execution_count": 17,
   "metadata": {},
   "outputs": [
    {
     "data": {
      "text/html": [
       "<div>\n",
       "<style scoped>\n",
       "    .dataframe tbody tr th:only-of-type {\n",
       "        vertical-align: middle;\n",
       "    }\n",
       "\n",
       "    .dataframe tbody tr th {\n",
       "        vertical-align: top;\n",
       "    }\n",
       "\n",
       "    .dataframe thead th {\n",
       "        text-align: right;\n",
       "    }\n",
       "</style>\n",
       "<table border=\"1\" class=\"dataframe\">\n",
       "  <thead>\n",
       "    <tr style=\"text-align: right;\">\n",
       "      <th></th>\n",
       "      <th>Title</th>\n",
       "      <th>Category</th>\n",
       "      <th>Watched At</th>\n",
       "    </tr>\n",
       "  </thead>\n",
       "  <tbody>\n",
       "    <tr>\n",
       "      <th>0</th>\n",
       "      <td>Dwarika Na Devde</td>\n",
       "      <td>Music</td>\n",
       "      <td>2024-10-04 06:08:51</td>\n",
       "    </tr>\n",
       "    <tr>\n",
       "      <th>1</th>\n",
       "      <td>Dudhe Te Bhari Talavadi (feat. Raghvi Pathak, ...</td>\n",
       "      <td>Music</td>\n",
       "      <td>2024-10-04 06:14:08</td>\n",
       "    </tr>\n",
       "    <tr>\n",
       "      <th>2</th>\n",
       "      <td>Roz Roz</td>\n",
       "      <td>Music</td>\n",
       "      <td>2024-10-04 06:28:06</td>\n",
       "    </tr>\n",
       "    <tr>\n",
       "      <th>3</th>\n",
       "      <td>Tum Se</td>\n",
       "      <td>Music</td>\n",
       "      <td>2024-10-04 07:59:46</td>\n",
       "    </tr>\n",
       "    <tr>\n",
       "      <th>4</th>\n",
       "      <td>Maniyaro X Saiyar Mori Re</td>\n",
       "      <td>Music</td>\n",
       "      <td>2024-10-04 08:06:00</td>\n",
       "    </tr>\n",
       "  </tbody>\n",
       "</table>\n",
       "</div>"
      ],
      "text/plain": [
       "                                               Title Category  \\\n",
       "0                                   Dwarika Na Devde    Music   \n",
       "1  Dudhe Te Bhari Talavadi (feat. Raghvi Pathak, ...    Music   \n",
       "2                                            Roz Roz    Music   \n",
       "3                                             Tum Se    Music   \n",
       "4                          Maniyaro X Saiyar Mori Re    Music   \n",
       "\n",
       "            Watched At  \n",
       "0  2024-10-04 06:08:51  \n",
       "1  2024-10-04 06:14:08  \n",
       "2  2024-10-04 06:28:06  \n",
       "3  2024-10-04 07:59:46  \n",
       "4  2024-10-04 08:06:00  "
      ]
     },
     "execution_count": 17,
     "metadata": {},
     "output_type": "execute_result"
    }
   ],
   "source": [
    "yt = pd.read_csv('youtube-gaurav-10min.csv')\n",
    "yt.head()"
   ]
  },
  {
   "cell_type": "code",
   "execution_count": 23,
   "metadata": {},
   "outputs": [
    {
     "name": "stdout",
     "output_type": "stream",
     "text": [
      "                                                  Title          Watched At\n",
      "3072                                   Dwarika Na Devde 2024-10-04 06:00:00\n",
      "3070  Dudhe Te Bhari Talavadi (feat. Raghvi Pathak, ... 2024-10-04 06:10:00\n",
      "3069                                            Roz Roz 2024-10-04 06:20:00\n",
      "3068                                             Tum Se 2024-10-04 07:50:00\n",
      "3066                          Maniyaro X Saiyar Mori Re 2024-10-04 08:00:00\n",
      "...                                                 ...                 ...\n",
      "10                         Galileo Galilei - Aoi Shiori 2024-11-11 01:30:00\n",
      "7           Heidi Montag - I'll Do It (Sped Up Version) 2024-11-11 01:40:00\n",
      "3                                         Get Your Wish 2024-11-11 01:50:00\n",
      "1                                KANA-BOON - Silhouette 2024-11-11 02:00:00\n",
      "0                                           Interlinked 2024-11-11 02:10:00\n",
      "\n",
      "[993 rows x 2 columns]\n"
     ]
    }
   ],
   "source": [
    "import pandas as pd\n",
    "\n",
    "# Load and preprocess data\n",
    "df = pd.read_csv('youtube-gaurav.csv')\n",
    "df['Watched At'] = (\n",
    "    df['Watched At']\n",
    "    .str.replace(' ', ' ', regex=False)\n",
    "    .str.split(' PST').str[0]\n",
    "    .apply(pd.to_datetime, format='%b %d, %Y, %I:%M:%S %p')\n",
    ")\n",
    "\n",
    "# Step 1: Create 10-minute interval start times (e.g., 02:13:11 → 02:10:00)\n",
    "df['interval_start'] = df['Watched At'].dt.floor('10min')\n",
    "\n",
    "# Step 2: Find the latest video in each interval\n",
    "latest_idx = df.groupby('interval_start')['Watched At'].idxmax()\n",
    "result = df.loc[latest_idx]\n",
    "\n",
    "# Step 3: Replace original timestamps with interval start times\n",
    "result['Watched At'] = result['interval_start']\n",
    "result = result.drop(columns=['interval_start'])\n",
    "\n",
    "# Sort by interval for clarity\n",
    "result = result.sort_values('Watched At')\n",
    "\n",
    "# Output\n",
    "print(result[['Title', 'Category', 'Watched At']])\n",
    "\n",
    "# Save the result to a CSV file\n",
    "result.to_csv('youtube-gaurav-10min-interval.csv', index=False)"
   ]
  },
  {
   "cell_type": "code",
   "execution_count": 19,
   "metadata": {},
   "outputs": [
    {
     "name": "stderr",
     "output_type": "stream",
     "text": [
      "/var/folders/xx/v9z2_m390ygcrxz3lmcv2mx80000gn/T/ipykernel_60336/4012844692.py:1: DtypeWarning: Columns (4,5,6,7,8,9,10,11,12,13,14,15,16,17,18,19,20,21,22,23,24,25,26,27,28,29,30,31,32,33) have mixed types. Specify dtype option on import or set low_memory=False.\n",
      "  health = pd.read_csv('health_data_10min_intervals.csv')\n"
     ]
    }
   ],
   "source": [
    "health = pd.read_csv('health_data_10min_intervals.csv')\n"
   ]
  },
  {
   "cell_type": "code",
   "execution_count": 25,
   "metadata": {},
   "outputs": [
    {
     "name": "stdout",
     "output_type": "stream",
     "text": [
      "                                                  Title Category  \\\n",
      "3072                                   Dwarika Na Devde    Music   \n",
      "3070  Dudhe Te Bhari Talavadi (feat. Raghvi Pathak, ...    Music   \n",
      "3069                                            Roz Roz    Music   \n",
      "3068                                             Tum Se    Music   \n",
      "3066                          Maniyaro X Saiyar Mori Re    Music   \n",
      "...                                                 ...      ...   \n",
      "10                         Galileo Galilei - Aoi Shiori    Music   \n",
      "7           Heidi Montag - I'll Do It (Sped Up Version)    Music   \n",
      "3                                         Get Your Wish    Music   \n",
      "1                                KANA-BOON - Silhouette    Music   \n",
      "0                                           Interlinked    Music   \n",
      "\n",
      "              Watched At  \n",
      "3072 2024-10-04 06:00:00  \n",
      "3070 2024-10-04 06:10:00  \n",
      "3069 2024-10-04 06:20:00  \n",
      "3068 2024-10-04 07:50:00  \n",
      "3066 2024-10-04 08:00:00  \n",
      "...                  ...  \n",
      "10   2024-11-11 01:30:00  \n",
      "7    2024-11-11 01:40:00  \n",
      "3    2024-11-11 01:50:00  \n",
      "1    2024-11-11 02:00:00  \n",
      "0    2024-11-11 02:10:00  \n",
      "\n",
      "[993 rows x 3 columns]\n"
     ]
    }
   ],
   "source": [
    "import pandas as pd\n",
    "\n",
    "# Load and preprocess data\n",
    "df = pd.read_csv('youtube-gaurav.csv')\n",
    "df['Watched At'] = (\n",
    "    df['Watched At']\n",
    "    .str.replace(' ', ' ', regex=False)\n",
    "    .str.split(' PST').str[0]\n",
    "    .apply(pd.to_datetime, format='%b %d, %Y, %I:%M:%S %p')\n",
    ")\n",
    "\n",
    "# Step 1: Create 10-minute interval start times (e.g., 02:13:11 → 02:10:00)\n",
    "df['interval_start'] = df['Watched At'].dt.floor('10min')\n",
    "\n",
    "# Step 2: Find the latest video in each interval\n",
    "latest_idx = df.groupby('interval_start')['Watched At'].idxmax()\n",
    "result = df.loc[latest_idx]\n",
    "\n",
    "# Step 3: Replace original timestamps with interval start times\n",
    "result['Watched At'] = result['interval_start']\n",
    "result = result.drop(columns=['interval_start'])\n",
    "\n",
    "# Sort by interval for clarity\n",
    "result = result.sort_values('Watched At')\n",
    "\n",
    "# Output with Category included\n",
    "print(result[['Title', 'Category', 'Watched At']])\n",
    "\n",
    "# Save the result to a CSV file\n",
    "result.to_csv('youtube-gaurav-10min-interval.csv', index=False)"
   ]
  },
  {
   "cell_type": "code",
   "execution_count": null,
   "metadata": {},
   "outputs": [],
   "source": []
  }
 ],
 "metadata": {
  "kernelspec": {
   "display_name": "captionKraftNov25",
   "language": "python",
   "name": "python3"
  },
  "language_info": {
   "codemirror_mode": {
    "name": "ipython",
    "version": 3
   },
   "file_extension": ".py",
   "mimetype": "text/x-python",
   "name": "python",
   "nbconvert_exporter": "python",
   "pygments_lexer": "ipython3",
   "version": "3.9.7"
  },
  "orig_nbformat": 4
 },
 "nbformat": 4,
 "nbformat_minor": 2
}
